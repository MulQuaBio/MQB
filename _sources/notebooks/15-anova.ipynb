{
 "cells": [
  {
   "cell_type": "code",
   "execution_count": 33,
   "metadata": {
    "tags": [
     "remove-cell"
    ]
   },
   "outputs": [],
   "source": [
    "library(repr); options(repr.plot.res = 100, repr.plot.width = 6, repr.plot.height = 6) # Change plot sizes (in cm) - this bit of code is only relevant if you are using a jupyter notebook - ignore otherwise"
   ]
  },
  {
   "cell_type": "markdown",
   "metadata": {},
   "source": [
    "# Linear Models: Analysis of variance"
   ]
  },
  {
   "cell_type": "markdown",
   "metadata": {},
   "source": [
    "## Introduction\n",
    "\n",
    "Analysis of Variance, is very often a good choice if your response (dependent) variable is continuous, and your  predictor (independent) variables is categorical. \n",
    "\n",
    "In this chapter, you will learn to perform an ANOVA, that is, fit this linear model to the data. Specifically, you will learn to[$^{[1]}$](#fn1):\n",
    "\n",
    "* Visualize the data by plotting boxplots and barplots\n",
    "\n",
    "* Fit an ANOVA to test whether certain factors can explain (partition) the variation in your data\n",
    "\n",
    "* Perform diagnostics to determine whether the factors are explanatory, and whether the Linear Model is appropriate for your data\n",
    "\n",
    "* Explore and compare how much the different levels of a factor explain the variation in your data \n",
    "\n",
    "\n",
    "## What is ANOVA?\n",
    "\n",
    "<u>An</u>alysis  <u>O</u>f  <u>Va</u>riance (ANOVA) is an extremely useful class of Linear models. It is very often appropriate when your response (dependent) variable is continuous, while your predictor (independent) variable is categorical. Specifically, *One-way ANOVA* is used to compare means of two or more samples representing numerical, continuous data in response to a single categorical variable (factor).\n",
    "\n",
    "---\n",
    ":::{figure-md} what-is-anova\n",
    "\n",
    "<img src=\"./graphics/ANOVA_is_LM.svg\" alt=\"ANOVA example\" width=\"300px\">\n",
    "\n",
    "**A dataset where an ANOVA is appropriate.** Performing an ANOVA on this dataset is the same as fitting the linear model $y  = \\beta_1  + \\beta_2 x_s + \\beta_3 x_a$, where $x_s$ and $x_a$ are two levels (\"treatments\", representing statistically separate populations) within the factor (games console ownership). Here, the first treatment, the control, is captured by the baseline value $\\beta_1$ (the sample with the lowest value, on the far left).\n",
    ":::\n",
    "\n",
    "---\n",
    "\n",
    "(One-way) ANOVA tests the null hypothesis that samples from two or more groups (the treatments or factors) are drawn from populations with the *same mean value*. That is, the null hypothesis is that all the groups are random samples from the *same* population (no statistical difference in their means). To do this, ANOVA compares the variance in the data explained by fitting the linear model, to the unexplained variance (the null hypothesis. \n",
    "\n",
    "In other words, in effect, ANOVA asks whether a linear model with a predictor (or explanatory variable) with at least two categorical levels (or factors), better accounts for the variance (Explained Sum of Squares, ESS, see below) than a null model of the form $y  = \\beta_1$ ([Figure 1](what-is-anova)). Thus, ANOVA is just a type of linear model.\n",
    "\n",
    "By the end of this chapter, it will also make more sense to you how/why fitting a linear regression model to the data that we learned [previously](14-regress.ipynb), of the form $y = \\beta_1  + \\beta_2 x$ (where $x$ is a continuous predictor variable), requires an ANOVA to determine if the model better fits than a null model of the form $y  = \\beta_1$.\n",
    "\n",
    "Typically, one-way ANOVA is used to test for differences among at least three groups, since the two-group (or levels or factors) case can be covered by a $t$-test (see [t & F tests](13-t_F_tests.ipynb)). When there are only two means to compare, the $t$-test and the F-test are equivalent; the relation between ANOVA and t is given by $F = t^2$.\n",
    "\n",
    "An extension of one-way ANOVA is two-way analysis of variance that examines the influence of two different categorical independent variables on one dependent variable — we will look at multiple predictor variables in the [Multiple Explanatory Variables Chapter](16-MulExpl.ipynb) onwards.\n",
    "\n",
    "(15-anova:SoS)=\n",
    "## Calculating the ANOVA test statistic\n",
    "\n",
    "ANOVA uses of the [F-Statistic](13-t_F_tests.ipynb). To this end, an ANOVA \"partitions\" variability in your data as follows:\n",
    "\n",
    "**Total sum of squares (TSS)**: This is the sum of the squared difference between the observed dependent variable ($y$) and the mean of the response variable $y$ (denoted by $\\bar{y}$), i.e.,\n",
    "\n",
    "\\begin{equation*}\n",
    "    \\text{TSS} = \\sum_{i=1}^{n}(y_i - \\bar{y})^2\n",
    "\\end{equation*}\n",
    "\n",
    "TSS tells us how much variation there is in the dependent variable without having any other information (your null model). You might notice that TSS is the numerator of the *sample variance* (or it's square-root, the *sample standard deviation*), which you learned about [previously](12-ExpDesign-descriptive-stats).\n",
    "\n",
    "\n",
    "**Explained sum of squares (ESS)**: Sum of the squared differences between the predicted $y$'s (denoted $\\hat{y}$'s) and $\\bar{y}$, or,\n",
    "\n",
    "\\begin{equation*}\n",
    "    \\text{ESS} = \\sum_{i=1}^{n} (\\hat{y}_i - \\bar{y})^2\n",
    "\\end{equation*}\n",
    "\n",
    "ESS tells us how much of the variation in the dependent variable our alternative (linear) model was able to explain. That is, it's the reduction in uncertainty that occurs when the linear model is used to predict the responses.\n",
    "\n",
    "\n",
    "**Residual sum of squares (RSS)**: Sum of the squared differences between the observed $y$'s (denoted by $y_i$) and the predicted $\\hat{y}$, or,\n",
    "\n",
    "\\begin{equation*}\n",
    "    \\text{RSS} = \\sum_{i=1}^{n} (\\hat{y}_i - y_i)^2\n",
    "\\end{equation*}\n",
    "\n",
    "RSS tells us how much of the variation in the dependent variable our model could not explain. That is, it's the uncertainty that remains even after the linear model is used. The linear model is considered to be statistically significant if it can account for a large amount of variability in the response.\n",
    "\n",
    "* And of course, TSS = ESS + RSS. That is, the OLS method \"decomposes\" the total variation in the dependent variable into an explained component (ESS; explained by the predictor) and an unexplained or residual component (the RSS).\n",
    "\n",
    "The sums of squares used to calculate the statistical significance of the linear model (Regression, ANOVA, etc) through the F value are as follows:\n",
    "\n",
    "|Type of Sum of Squares (SS)| SS Calculation | Degrees of Freedom (DF)|Mean Sum of Squares (MSS) | \n",
    "|:------|:------:|:------:|:------:|\n",
    "|TSS | $\\sum_{i=1}^{n}(y_i - \\bar{y})^2$ | $n-1$ | $\\frac{TSS}{n-1}$ |\n",
    "|ESS | $\\sum_{i=1}^{n} (\\hat{y}_i - \\bar{y})^2$ | $n_c-1$ | $\\frac{ESS}{n_c-1}$ |\n",
    "|RSS | $\\sum_{i=1}^{n} (\\hat{y}_i - y_i)^2$ | $n-n_c$ |$\\frac{RSS}{n-n_c}$ |\n",
    "\n",
    "Let's try to make sense of these calculations. Firstly, because we are dealing with samples understanding the degrees of freedom is critical. \n",
    "\n",
    "### Degrees of freedom\n",
    "\n",
    "Each sum of squares has a corresponding degrees of freedom (DF) associated with it that gives the Mean Sum of Squares (MSS) — the Sums of Squares divided by the corresponding degrees of freedom.\n",
    "\n",
    "* The TSS DF is one less than the number of observations $n-1$. This is because calculating TSS, needs $\\bar y$ , which imposes loss of one degree of freedom. Note that MSS is thus nothing but the sample variance.\n",
    "\n",
    "* The ESS DF is one less than the number of coefficients ($n_c$) (estimated parameters) in the model: $n_c-1$. Note that in the case where the linear model is an ANOVA, the number of coefficients equals the number of \"treatments\" (the categories or levels in the predictor or factor). So for example, in [Figure 1](what-is-anova), there are three treatments (predictors) and therefore three coefficients ($\\beta_1$, $\\beta_2$, $\\beta_3$), which means that the ESS degrees of freedom there is $n_c-1 = 2$.\n",
    "\n",
    "* The RSS DF is the sample size $n$ minus the number of coefficients that you need to estimate ($n_c$), that is, $n - n_c$, because each estimated coefficient is an unknown parameter. \n",
    "\n",
    "### The F-Value (or Ratio)\n",
    "\n",
    "The F-Value or F-Ratio, the test statistic used to decide whether the linear model fit is statistically significant, is the ratio of the Mean ESS to the Mean RSS: \n",
    "\n",
    "\\begin{equation*}\n",
    "F = \\frac{\\left(\\frac{ESS}{n_c-1}\\right)}{\\left(\\frac{RSS}{n-n_c}\\right)}\n",
    "\\end{equation*}\n",
    "\n",
    "If the null hypothesis that the group means are drawn from sub-populations with the *same* mean were indeed true, the between-group variance (numerator in this F-ratio) should be lower than the within-group variance (denominator). The null hypothesis is rejected if this F-Ratio is large — the model explains a significant amount of variance, and we can conclude that the samples were drawn from populations with different mean values.\n",
    "\n",
    "The p-value is calculated for the overall model fit using the F-distribution as you learned before, in [t & F tests](13-t_F_tests.ipynb).\n",
    "\n",
    "Also note that the Root Mean Square Error (RMSE), also known as the standard error of the estimate, is the square root of the Mean RSS. It is the standard deviation of the data about the Linear model, rather than about the sample mean.\n",
    "\n",
    "### The R$^2$\n",
    "\n",
    "The R$^2$, also called the Coefficient of Determination, is the proportion of total error (TSS) explained by the model (ESS), so the ratio ESS/TSS. That is it is the proportion of the variability in the response that is explained by the fitted model. Since TSS = ESS + RSS, R$^2$ can be rewritten as (TSS-RSS)/TSS = 1 - RSS/TSS. If a model has perfectly fits the data, $R^{2}=1$, and if it has no predictive capability $R^{2}=0$. In reality, R$^2$ will never be exactly 0 because even a null model will explain some variance just by chance due to sampling error. Note that $R$, the square root of R$^2$, is the multiple correlation coefficient: the correlation between the observed values ($y$), and the predicted values ($\\hat{y}$).\n",
    "\n",
    "#### Adjusted R$^2$\n",
    "\n",
    "As additional predictors (and therefore linear model coefficients) are added to a linear model, R$^2$ increases even when the new predictors add no real predictive capability. The adjusted-R$^2$ tries to address this problem of over-specification or over-fitting by including the degrees of freedom: Adjusted R$^2$ = 1 - (RSS/$n-n_c-2$)/(TSS/$n-1$) [$^{[2]}$](#fn2). \n",
    "\n",
    "Thus, additional predictors with little explanatory capability will increase the ESS (and reduce the RSS), but they will also have lower RSS degrees of freedom (because of the additional number of fitted coefficients, $n_c$'s)[$^{[3]}$](#fn3). Thus if the additional predictors have poor predictive capability, these two reductions will cancel each other out. In other words, the Adjusted R$^2$ penalizes the addition of new predictors to the linear model, so you should always have a look at the Adjusted R$^2$ as a corrected measure of R$^2$.\n",
    "\n",
    "## An example ANOVA \n",
    "\n",
    "In this Chapter, we will use a new dataset of genome size and life history in mammals to try out a one-way ANOVA. \n",
    "\n",
    "### The data\n",
    "\n",
    "These data are taken from an online database of genome sizes and a [published database of mammalian life history](http://www.genomesize.com/). \n",
    "\n",
    "Trait data for these species are taken from: [ Jones, K. E. *et al.* (2009) PanTHERIA: a species-level database of life history, ecology, and geography of extant and recently extinct mammals. Ecology 90, 2648–2648](http://esapubs.org/archive/ecol/e090/184/metadata.htm).\n",
    "\n",
    "$\\star$ Download the file [`MammalData.csv`](https://raw.githubusercontent.com/mhasoba/TheMulQuaBio/master/content/data/MammalData.csv) from the github repository and save to your `Data` directory (Right-click and \"Save as\"...).\n",
    "\n",
    "$\\star$ Create a new blank script called `ANOVA_Prac.R` and add some introductory comments.\n",
    "\n",
    "$\\star$ Use `read.csv` to load the data in the data frame `mammals` and then `str` and `summary` to examine the data:"
   ]
  },
  {
   "cell_type": "code",
   "execution_count": 34,
   "metadata": {},
   "outputs": [
    {
     "name": "stdout",
     "output_type": "stream",
     "text": [
      "'data.frame':\t379 obs. of  9 variables:\n",
      " $ Binomial       : Factor w/ 379 levels \"Acinonyx jubatus\",..: 1 2 3 4 5 6 7 8 9 10 ...\n",
      " $ meanCvalue     : num  2.56 2.64 3.75 3.7 3.98 4.69 2.15 2.43 2.73 2.92 ...\n",
      " $ Order          : Factor w/ 21 levels \"Artiodactyla\",..: 2 17 17 17 1 1 4 17 17 17 ...\n",
      " $ AdultBodyMass_g: num  50500 41.2 130 96.5 94700 52300 15 25.3 50.5 33 ...\n",
      " $ DietBreadth    : int  1 NA 2 NA 5 2 NA 4 NA NA ...\n",
      " $ HabitatBreadth : int  1 NA 2 2 1 1 1 2 NA 1 ...\n",
      " $ LitterSize     : num  2.99 2.43 3.07 NA 1 1 0.99 4.59 3.9 3.77 ...\n",
      " $ GroundDwelling : Factor w/ 2 levels \"No\",\"Yes\": 2 NA 2 2 2 2 1 2 NA 2 ...\n",
      " $ TrophicLevel   : Factor w/ 3 levels \"Carnivore\",\"Herbivore\",..: 1 NA 2 NA 2 2 NA 3 NA NA ...\n"
     ]
    }
   ],
   "source": [
    "mammals <- read.csv('../data/MammalData.csv', stringsAsFactors = T)\n",
    "str(mammals)"
   ]
  },
  {
   "cell_type": "markdown",
   "metadata": {},
   "source": [
    "There are nine variables. The first two are the latin binomial and taxonomic order of each species, followed by the species mean genome size ('C value', picograms), adult body mass (g), diet breadth, habitat breadth, litter size and then two factors showing whether the species are ground dwelling and their trophic level. For more information, see the link to the data above. Let's summarize the data: "
   ]
  },
  {
   "cell_type": "code",
   "execution_count": 35,
   "metadata": {
    "scrolled": true
   },
   "outputs": [
    {
     "data": {
      "text/plain": [
       "                Binomial     meanCvalue             Order     AdultBodyMass_g  \n",
       " Acinonyx jubatus   :  1   Min.   :1.863   Rodentia    :120   Min.   :      5  \n",
       " Acomys cahirinus   :  1   1st Qu.:2.768   Chiroptera  : 80   1st Qu.:     37  \n",
       " Aconaemys fuscus   :  1   Median :3.250   Primates    : 63   Median :    286  \n",
       " Aconaemys sagei    :  1   Mean   :3.352   Artiodactyla: 22   Mean   :  51787  \n",
       " Addax nasomaculatus:  1   3rd Qu.:3.798   Carnivora   : 18   3rd Qu.:   5620  \n",
       " Aepyceros melampus :  1   Max.   :8.400   Xenarthra   : 15   Max.   :3940000  \n",
       " (Other)            :373                   (Other)     : 61   NA's   :13       \n",
       "  DietBreadth    HabitatBreadth    LitterSize     GroundDwelling\n",
       " Min.   :1.000   Min.   :1.000   Min.   : 0.900   No  :159      \n",
       " 1st Qu.:1.000   1st Qu.:1.000   1st Qu.: 1.000   Yes :135      \n",
       " Median :3.000   Median :1.000   Median : 1.170   NA's: 85      \n",
       " Mean   :2.752   Mean   :1.445   Mean   : 2.543                 \n",
       " 3rd Qu.:4.000   3rd Qu.:2.000   3rd Qu.: 3.705                 \n",
       " Max.   :8.000   Max.   :3.000   Max.   :12.000                 \n",
       " NA's   :76      NA's   :80      NA's   :44                     \n",
       "    TrophicLevel\n",
       " Carnivore: 51  \n",
       " Herbivore:129  \n",
       " Omnivore :123  \n",
       " NA's     : 76  \n",
       "                \n",
       "                \n",
       "                "
      ]
     },
     "metadata": {},
     "output_type": "display_data"
    }
   ],
   "source": [
    "summary(mammals)"
   ]
  },
  {
   "cell_type": "markdown",
   "metadata": {},
   "source": [
    "You will see from the output of `summary` that there is lots of missing data for the life history traits.\n",
    "\n",
    "### Exploring the data with boxplots\n",
    "\n",
    "We are interested in finding out whether the mean C value for species varies predictably for different levels of life history traits (a typical one-way ANOVA question). For example:\n",
    "\n",
    "* Do carnivores or herbivores have larger genome sizes?\n",
    "\n",
    "* Do ground dwelling mammals have larger or smaller genome sizes?\n",
    "\n",
    "* Before we fit any models, we want to plot the data to see if the means within these groupings look different. We also want to check whether the variance looks similar for each group: *constant normal variance*! A simple way is to look at box and whisker plots, showing the median and range of the data:\n",
    "\n",
    "$\\star$ Generate a boxplot of the differences in genome sizes between trophic levels:"
   ]
  },
  {
   "cell_type": "code",
   "execution_count": 36,
   "metadata": {},
   "outputs": [
    {
     "data": {
      "image/png": "[encoded data removed]",
      "text/plain": [
       "plot without title"
      ]
     },
     "metadata": {
      "image/png": {
       "height": 300,
       "width": 300
      }
     },
     "output_type": "display_data"
    }
   ],
   "source": [
    "plot(meanCvalue ~ TrophicLevel, data = mammals)"
   ]
  },
  {
   "cell_type": "markdown",
   "metadata": {},
   "source": [
    "Looking at the plots, it is clear that there is more spread in the data above the median than below. Create a new variable `logCvalue` in the `mammals` data frame containing logged C values.\n",
    "\n",
    "$\\star$ Now create a boxplot of log C values within trophic groups:"
   ]
  },
  {
   "cell_type": "code",
   "execution_count": 37,
   "metadata": {},
   "outputs": [],
   "source": [
    "mammals$logCvalue <- log(mammals$meanCvalue)"
   ]
  },
  {
   "cell_type": "markdown",
   "metadata": {},
   "source": [
    "$\\star$ Repeat the two plot commands to look at differences between ground dwelling and other species.\n",
    "\n",
    "### Differences in means with barplots\n",
    "\n",
    "Box and whisker plots show the median and spread in the data very clearly, but we want to test whether the means are different. This is $t$ test territory — how different are the means given the standard error — so it is common to use barplots and standard error bars to show these differences.\n",
    "\n",
    "We're going to use some R code to construct a barplot by hand. We need to calculate the means and standard errors within trophic groups, but before we can do that, we need a new functions to calculate the standard error of a mean:"
   ]
  },
  {
   "cell_type": "code",
   "execution_count": 38,
   "metadata": {},
   "outputs": [],
   "source": [
    "seMean <- function(x){ # get standard error of the mean from a set of values (x)\n",
    "    x <- na.omit(x) # get rid of missing values\n",
    "\n",
    "    se <- sqrt(var(x)/length(x)) # calculate the standard error\n",
    "\n",
    "    return(se)  # tell the function to return the standard error\n",
    "}"
   ]
  },
  {
   "cell_type": "markdown",
   "metadata": {},
   "source": [
    "Now we can use the function `tapply`: it splits a variable up into groups from a factor and calculates statistics on each group using a function."
   ]
  },
  {
   "cell_type": "code",
   "execution_count": 39,
   "metadata": {},
   "outputs": [
    {
     "name": "stdout",
     "output_type": "stream",
     "text": [
      "Carnivore Herbivore  Omnivore \n",
      " 1.085067  1.196928  1.236347 \n"
     ]
    }
   ],
   "source": [
    "trophMeans <- tapply(mammals$logCvalue, mammals$TrophicLevel, FUN = mean, na.rm = TRUE)\n",
    "\n",
    "print(trophMeans)"
   ]
  },
  {
   "cell_type": "markdown",
   "metadata": {},
   "source": [
    "And similarly, let's calculate the standard error of the mean using the function we made:   "
   ]
  },
  {
   "cell_type": "code",
   "execution_count": 40,
   "metadata": {},
   "outputs": [
    {
     "name": "stdout",
     "output_type": "stream",
     "text": [
      " Carnivore  Herbivore   Omnivore \n",
      "0.03982602 0.02205630 0.01843627 \n"
     ]
    }
   ],
   "source": [
    "trophSE <- tapply(mammals$logCvalue, mammals$TrophicLevel, FUN = seMean)\n",
    "\n",
    "print(trophSE)"
   ]
  },
  {
   "cell_type": "markdown",
   "metadata": {},
   "source": [
    "Now we have to put these values together on the plot:"
   ]
  },
  {
   "cell_type": "code",
   "execution_count": 41,
   "metadata": {},
   "outputs": [
    {
     "data": {
      "image/png": "[encoded data removed]",
      "text/plain": [
       "plot without title"
      ]
     },
     "metadata": {
      "image/png": {
       "height": 300,
       "width": 300
      }
     },
     "output_type": "display_data"
    }
   ],
   "source": [
    "# get the upper and lower limits of the error bars\n",
    "upperSE <- trophMeans + trophSE\n",
    "lowerSE <- trophMeans - trophSE\n",
    "\n",
    "# get a barplot\n",
    "# - this function can report where the middle of the bars are on the x-axis\n",
    "# - set the y axis limits to contain the error bars\n",
    "\n",
    "barMids <- barplot(trophMeans, ylim=c(0, max(upperSE)), ylab = 'log C value (pg)')\n",
    "\n",
    "# Now use the function to add error bars\n",
    "# - draws arrows between the points (x0,y0) and (x1,y1)\n",
    "# - arrow heads at each end (code=3) and at 90 degree angles\n",
    "\n",
    "arrows(barMids, upperSE, barMids, lowerSE, ang=90, code=3)"
   ]
  },
  {
   "cell_type": "markdown",
   "metadata": {},
   "source": [
    "Now we need to draw all these pieces together into a script and get used to using them.\n",
    "\n",
    "$\\star$ Add all the lines of code from this section into your script. Run it and check you get the graph above.\n",
    "\n",
    "$\\star$ Use the second two chunks as a model to plot a similar graph for `GroundDwelling`. You should get something like the plot below.\n",
    "\n",
    "---\n",
    "\n",
    "<img src=\"./graphics/GDbarplot.png\" width=\"400px\">\n",
    "\n",
    "---\n",
    "\n",
    "### An alternative to barplots\n",
    "\n",
    "That is a lot of work to go through for a plot. Doing it the hard way uses some useful tricks, but one strength of R is that there is a huge list of add-on packages that you can use to get new functions that other people have written.\n",
    "\n",
    "We will use the `gplots` package to create plots of group means and confidence intervals. Rather than plotting the means $\\pm$ 1 standard error, the option `p=0.95` uses the standard error and the number of data points to get 95% confidence intervals. The default `connect=TRUE` option adds a line connecting the means, which isn't useful here.\n",
    "\n",
    "$\\star$ Replicate the code below into your script and run it to get the plots below."
   ]
  },
  {
   "cell_type": "code",
   "execution_count": 42,
   "metadata": {},
   "outputs": [
    {
     "data": {
      "image/png": "[encoded data removed]",
      "text/plain": [
       "plot without title"
      ]
     },
     "metadata": {
      "image/png": {
       "height": 300,
       "width": 300
      }
     },
     "output_type": "display_data"
    }
   ],
   "source": [
    "#Load the gplots package\n",
    "library(gplots)\n",
    "\n",
    "# Get plots of group means and standard errors\n",
    "par(mfrow=c(1,2))\n",
    "plotmeans(logCvalue ~ TrophicLevel, data=mammals, p=0.95, connect=FALSE)\n",
    "plotmeans(logCvalue ~ GroundDwelling, data=mammals, p=0.95, connect=FALSE)"
   ]
  },
  {
   "cell_type": "markdown",
   "metadata": {},
   "source": [
    "## Analysis of variance\n",
    "\n",
    "\n",
    "Hopefully, those plots should convince you that there are differences in genome size between different trophic groups and between ground dwelling and other mammals. We'll now use a linear model to test whether those differences are significant.\n",
    "\n",
    "$\\star$ Using code from the [Regression chapter](14-regress.ipynb) as a guide, create a linear\n",
    "model called `trophicLM` which models log C value as a function of trophic group.\n",
    "\n",
    "Use `anova` and `summary` to look at the analysis of variance table and then the coefficients of the model.\n",
    "\n",
    "The ANOVA table for the model should look like the one below: trophic level explains highly significant variation in genome size ($F= 7.22, \\textrm{df}=2 \\textrm{ and } 300, p =0.0009$)."
   ]
  },
  {
   "cell_type": "code",
   "execution_count": 43,
   "metadata": {},
   "outputs": [],
   "source": [
    "trophicLM <- lm(logCvalue ~ TrophicLevel, data=mammals)"
   ]
  },
  {
   "cell_type": "code",
   "execution_count": 44,
   "metadata": {},
   "outputs": [
    {
     "data": {
      "text/html": [
       "<table class=\"dataframe\">\n",
       "<caption>A anova: 2 × 5</caption>\n",
       "<thead>\n",
       "\t<tr><th></th><th scope=col>Df</th><th scope=col>Sum Sq</th><th scope=col>Mean Sq</th><th scope=col>F value</th><th scope=col>Pr(&gt;F)</th></tr>\n",
       "\t<tr><th></th><th scope=col>&lt;int&gt;</th><th scope=col>&lt;dbl&gt;</th><th scope=col>&lt;dbl&gt;</th><th scope=col>&lt;dbl&gt;</th><th scope=col>&lt;dbl&gt;</th></tr>\n",
       "</thead>\n",
       "<tbody>\n",
       "\t<tr><th scope=row>TrophicLevel</th><td>  2</td><td> 0.8268678</td><td>0.41343388</td><td>7.220365</td><td>0.0008657029</td></tr>\n",
       "\t<tr><th scope=row>Residuals</th><td>300</td><td>17.1778247</td><td>0.05725942</td><td>      NA</td><td>          NA</td></tr>\n",
       "</tbody>\n",
       "</table>\n"
      ],
      "text/latex": [
       "A anova: 2 × 5\n",
       "\\begin{tabular}{r|lllll}\n",
       "  & Df & Sum Sq & Mean Sq & F value & Pr(>F)\\\\\n",
       "  & <int> & <dbl> & <dbl> & <dbl> & <dbl>\\\\\n",
       "\\hline\n",
       "\tTrophicLevel &   2 &  0.8268678 & 0.41343388 & 7.220365 & 0.0008657029\\\\\n",
       "\tResiduals & 300 & 17.1778247 & 0.05725942 &       NA &           NA\\\\\n",
       "\\end{tabular}\n"
      ],
      "text/markdown": [
       "\n",
       "A anova: 2 × 5\n",
       "\n",
       "| <!--/--> | Df &lt;int&gt; | Sum Sq &lt;dbl&gt; | Mean Sq &lt;dbl&gt; | F value &lt;dbl&gt; | Pr(&gt;F) &lt;dbl&gt; |\n",
       "|---|---|---|---|---|---|\n",
       "| TrophicLevel |   2 |  0.8268678 | 0.41343388 | 7.220365 | 0.0008657029 |\n",
       "| Residuals | 300 | 17.1778247 | 0.05725942 |       NA |           NA |\n",
       "\n"
      ],
      "text/plain": [
       "             Df  Sum Sq     Mean Sq    F value  Pr(>F)      \n",
       "TrophicLevel   2  0.8268678 0.41343388 7.220365 0.0008657029\n",
       "Residuals    300 17.1778247 0.05725942       NA           NA"
      ]
     },
     "metadata": {},
     "output_type": "display_data"
    }
   ],
   "source": [
    "anova(trophicLM)"
   ]
  },
  {
   "cell_type": "markdown",
   "metadata": {},
   "source": [
    "\n",
    "*Note the style of reporting the result* - the statistic ($F$), degrees of freedom and $p$ value are all provided in support. A commonly used style is this: $F_{2,300}=7.22, p=0.0009$.\n",
    "\n",
    "Pay close attention to the sum of squares column. Of a total of $17.18+0.83 = 18.01$ units of sums of squares, only 0.83 are explained by trophic level: $0.83/18.01 \\approx 0.046$ or 4.6%. This ratio is called R$^2$, a measure of explanatory power, and shows that, although the model is very significant, it isn't very explanatory. We care about explanatory power\n",
    "or effect size, `*not*` $p$ values.\n",
    "\n",
    "The coefficients table for the model looks like this:"
   ]
  },
  {
   "cell_type": "code",
   "execution_count": 45,
   "metadata": {},
   "outputs": [
    {
     "data": {
      "text/plain": [
       "\n",
       "Call:\n",
       "lm(formula = logCvalue ~ TrophicLevel, data = mammals)\n",
       "\n",
       "Residuals:\n",
       "     Min       1Q   Median       3Q      Max \n",
       "-0.50378 -0.16350 -0.00379  0.15114  0.93130 \n",
       "\n",
       "Coefficients:\n",
       "                      Estimate Std. Error t value Pr(>|t|)    \n",
       "(Intercept)            1.08507    0.03351  32.383  < 2e-16 ***\n",
       "TrophicLevelHerbivore  0.11186    0.03958   2.826 0.005027 ** \n",
       "TrophicLevelOmnivore   0.15128    0.03985   3.796 0.000178 ***\n",
       "---\n",
       "Signif. codes:  0 ‘***’ 0.001 ‘**’ 0.01 ‘*’ 0.05 ‘.’ 0.1 ‘ ’ 1\n",
       "\n",
       "Residual standard error: 0.2393 on 300 degrees of freedom\n",
       "  (76 observations deleted due to missingness)\n",
       "Multiple R-squared:  0.04593,\tAdjusted R-squared:  0.03956 \n",
       "F-statistic:  7.22 on 2 and 300 DF,  p-value: 0.0008657\n"
      ]
     },
     "metadata": {},
     "output_type": "display_data"
    }
   ],
   "source": [
    "summary(trophicLM)"
   ]
  },
  {
   "cell_type": "markdown",
   "metadata": {},
   "source": [
    "It shows the following:\n",
    "\n",
    "* The reference level (or intercept) is for carnivores. Their mean genome size is significantly different from zero - this is not an exciting finding!\n",
    "\n",
    "* The mean genome size for both herbivores and omnivores are both significantly different from carnivores. Both larger in fact: herbivore mean genome size = $1.085 + 0.112 = 1.197$ and omnivore mean genome size = $1.085 + 0.151 = 1.236$. These are the same group means we found above.\n",
    "\n",
    "* The R$^2$ is shown and is the 4.6% we calculated above. The *adjusted* R$^2$ reduces the raw R$^2$ to account for the number of variables included in the model. That 4.6% would be even less impressive if we needed 6 explanatory variables to get it!\n",
    "\n",
    "* The $F$ statistic, as in the ANOVA table above.\n",
    "\n",
    "$\\star$ Repeat the analysis of variance above to look at the effects of ground dwelling on genome size.\n",
    "\n",
    "### Model criticism\n",
    "\n",
    "The next question must be — and actually, we should do this before we go anywhere near the model summaries — is the model appropriate to the data.\n",
    "\n",
    "$\\star$ Using [regress](14-regress.ipynb) to guide you, get the four model diagnostic\n",
    "plots for the trophic level model on a single figure.\n",
    "\n",
    "The four plots are shown below.\n",
    "\n",
    "---\n",
    "\n",
    "<img src=\"./graphics/modelDiag.svg\" width=\"600px\">\n",
    "\n",
    "---\n",
    "\n",
    "Note that in regression, the predicted (or fitted) values from the model take a range along the relationship $y=a + bx$. For ANOVA, there are only a few predicted values — one for each group mean. This means that the plots above look different but we are looking for the same things: is there constant variance at each fitted value and are the residuals\n",
    "normally distributed? The answer for this model looks to be yes.\n",
    "\n",
    "$\\star$ Check the ground dwelling model in the same way.\n",
    "\n",
    "(15-anova:CI)=\n",
    "### Testing pairwise differences between levels\n",
    "\n",
    "The one thing that the trophic level model does not tell us is whether\n",
    "there is a difference in genome size between omnivores and herbivores —\n",
    "both are compared to carnivores, but not to each other. This is because\n",
    "of the multiple pairwise testing problem mentioned in [t & F tests](13-t_F_tests.ipynb). — if you do lots of tests then you may find small $p$\n",
    "values by chance and say something important is going on when it is just\n",
    "random chance. This is called a false positive or Type I error.\n",
    "\n",
    "With a 95% confidence interval, there is a 5% chance of a false positive *per test* but there are ways of getting a 5% chance across a set (or family) of tests. For linear models, we can use Tukey's Honest Significant Difference test. We have to convert the `lm` object into an `aov` object first."
   ]
  },
  {
   "cell_type": "code",
   "execution_count": 46,
   "metadata": {},
   "outputs": [
    {
     "name": "stdout",
     "output_type": "stream",
     "text": [
      "  Tukey multiple comparisons of means\n",
      "    95% family-wise confidence level\n",
      "\n",
      "Fit: aov(formula = trophicLM)\n",
      "\n",
      "$TrophicLevel\n",
      "                          diff         lwr       upr     p adj\n",
      "Herbivore-Carnivore 0.11186136  0.01863354 0.2050892 0.0138881\n",
      "Omnivore-Carnivore  0.15128061  0.05741074 0.2451505 0.0005208\n",
      "Omnivore-Herbivore  0.03941925 -0.03161080 0.1104493 0.3922731\n",
      "\n"
     ]
    }
   ],
   "source": [
    "TukeyTroph <- TukeyHSD(aov(trophicLM))\n",
    "print(TukeyTroph)"
   ]
  },
  {
   "cell_type": "markdown",
   "metadata": {},
   "source": [
    "The table shows the following:\n",
    "\n",
    "* The differences between the three possible pairs and then the lower and\n",
    "upper bounds of the 95% confidence interval for the difference and a $p$\n",
    "value.\n",
    "\n",
    "* In each case, we want to know if the difference could be zero: does the\n",
    "95% confidence interval for each pair include zero.\n",
    "\n",
    "* For the first two pairs, carnivores versus omnivores and herbivores, the confidence intervals do not include zero, so they are significantly different. For the comparison between herbivores and omnivores, the interval does include zero (difference = 0.039, 95% CI's limits are -0.032 & 0.110), so these groups are not significantly different.\n",
    "\n",
    "* The $p$ values for the top two pairs are both larger (less significant) than in the summary table. The test has made it harder to find significant results.\n",
    "\n",
    "You can visualise these confidence intervals by plotting the Tukey test. You have to tweak the graphics parameters to get a clean plot though."
   ]
  },
  {
   "cell_type": "code",
   "execution_count": 47,
   "metadata": {
    "tags": [
     "remove-cell"
    ]
   },
   "outputs": [],
   "source": [
    "library(repr) ; options(repr.plot.res = 100, repr.plot.width = 5, repr.plot.height = 5) # Change plot size"
   ]
  },
  {
   "cell_type": "code",
   "execution_count": 52,
   "metadata": {},
   "outputs": [
    {
     "data": {
      "image/png": "[encoded data removed]",
      "text/plain": [
       "Plot with title “95% family-wise confidence level\n",
       "”"
      ]
     },
     "metadata": {
      "image/png": {
       "height": 250,
       "width": 250
      }
     },
     "output_type": "display_data"
    }
   ],
   "source": [
    "par(las=1, mar=c(4,10,3,1))\n",
    "plot(TukeyTroph)"
   ]
  },
  {
   "cell_type": "markdown",
   "metadata": {},
   "source": [
    "In the above plotting code, `las=1` makes the labels horizontal, while \n",
    "`mar=c(4,10,3,1)` makes the left margin wider by specifying `(bottom, left, top, right)`.\n"
   ]
  },
  {
   "cell_type": "markdown",
   "metadata": {},
   "source": [
    "$\\star$ Include the Tukey test in your script for both the trophic level and ground\n",
    "dwelling models.\n",
    "\n",
    "### Are the factors independent?\n",
    "\n",
    "We've looked at two models, using trophic level and ground dwelling. It is worth asking whether these are independent factors. What if, for example, our herbivores are all big, ground dwellers? This is important to know because otherwise, a two-way ANOVA would not be appropriate. We will look at interactions in [MulExplInter](17-MulExplInter.ipynb).\n",
    "\n",
    "OK, so we want to know whether the two factors are independent. This is a job for the $\\chi^2$ test!\n",
    "\n",
    "## The Chi-square test and count data\n",
    "\n",
    "The Chi-square test, also known as $\\chi^{2}$ test or chi-square test, is designed for scenarios where you want to statistically test how likely it is that an observed distribution of values is due to chance. It is also called a \"goodness of fit\" statistic, because it measures how well the observed distribution of data fits with the distribution that is expected if the variables of which measurements are made are independent. In our mammals example below, the two variables are trophic level and ground dwelling.\n",
    "\n",
    "Note that a $\\chi^{2}$ test is designed to analyze categorical data. That is the data have been counted (count data) and divided into categories. It is not meant for continuous data (such as body weight, genome size, or height). For example, if you want to test whether\n",
    "attending class influences how students perform on an exam, using test scores (from 0-100) as data would not be appropriate for a Chi-square test. However, arranging students into the categories \"Pass\" and \"Fail\" and counting up how many fall in each categories would be appropriate. Additionally, the data in a Chi-square table (see below) should not be in the form of percentages – only count data are allowed!\n",
    "\n",
    "### The Chi-square test with the mammals data\n",
    "\n",
    "We can easily build a table for a Chi-square test on the mammals data as follows:"
   ]
  },
  {
   "cell_type": "code",
   "execution_count": 49,
   "metadata": {},
   "outputs": [
    {
     "name": "stdout",
     "output_type": "stream",
     "text": [
      "     \n",
      "      Carnivore Herbivore Omnivore\n",
      "  No         26        45       64\n",
      "  Yes        22        62       40\n"
     ]
    }
   ],
   "source": [
    "factorTable <- table(mammals$GroundDwelling, mammals$TrophicLevel)\n",
    "print(factorTable) "
   ]
  },
  {
   "cell_type": "markdown",
   "metadata": {},
   "source": [
    "Now let's run the test:"
   ]
  },
  {
   "cell_type": "code",
   "execution_count": 50,
   "metadata": {},
   "outputs": [
    {
     "data": {
      "text/plain": [
       "\n",
       "\tPearson's Chi-squared test\n",
       "\n",
       "data:  factorTable\n",
       "X-squared = 8.1202, df = 2, p-value = 0.01725\n"
      ]
     },
     "metadata": {},
     "output_type": "display_data"
    }
   ],
   "source": [
    "chisq.test(factorTable)"
   ]
  },
  {
   "cell_type": "markdown",
   "metadata": {},
   "source": [
    "The \"X-squared\" value is the $\\chi^{2}$ *test\n",
    "statistic*, akin to the t-value of the t-test or W value in the\n",
    "Wilcox test.\n",
    "\n",
    "The $\\chi^{2}$ statistic is calculated as the sum of the quantity\n",
    "\n",
    "$$\\frac{(\\mathrm{Observed} - \\mathrm{Expected})^2}{\\mathrm{Expected}}$$\n",
    "\n",
    "across all the cells/categories in the table (so the sum would be over 6 categories in our current mammals example).\n",
    "\n",
    "\"Observed\" is the observed proportion of data that fall in a certain category. For example, there are 26 species observed in the `Carnivore`, `No` category, and 22 in the `Carnivore`, `Yes` category.\n",
    "\n",
    "\"Expected\" is what count would be expected if the values in each category were truly independent. Each cell has its own expected value, which is simply calculated as the count one would expect in each category if the value were generated in proportion to the total number seen in that category. So in our example, the expected value for the `Carnivore`, `No` category would be \n",
    "\n",
    "$26+22 \\mathrm{~(Total~number~of~carnivore~species)} \\times \\frac{26+45+64 \\mathrm{~(Total~number~in~the~\"No\"~category)}}{26+22+45+62+64+40 \\mathrm{~(Total~number~of~species)}} = 48 \\times \\frac{135}{259} = 25.02$\n",
    "\n",
    "The sum of all six (one for each cell in the table above) such calculations would be the $\\chi^{2}$ value that R gave you through the `chisq.test()` above — try it!\n",
    "\n",
    "Now back to the R output from the `chisq.test()` above. Why df = 2? This is calculated as $DF = (r - 1) * (c - 1)$ where $r$ and $c$ are the number of rows and columns in the $\\chi^{2}$ table, respectively. The same principle you learned before applies here; you lose one degree of freedom for each new level of information you need to estimate: there is uncertainity about the information (number of categories) in both rows and columns, so you need to lose one degree of freedom for each.\n",
    "\n",
    "Finally, note that the p-value is significant — we can conclude that the\n",
    "factors aren't independent. From the table, carnivores can be either\n",
    "ground dwelling or not, but herbivores tend to be ground dwelling and\n",
    "omnivores tend not to be. Ah well... it's OK. We will look at a better\n",
    "way to analyze these data using \"interactions\" [later](17-MulExplInter.ipynb).\n",
    "\n",
    "$\\star$ Include and run the $\\chi^2$ test in your script.\n",
    "\n",
    "## Saving data\n",
    "\n",
    "The last thing to do is to save a copy of the mammal data, including our\n",
    "new column of log data, for use in later chapters.\n",
    "\n",
    "$\\star$ Use this code in your script to create the saved data in your `Data` directory :"
   ]
  },
  {
   "cell_type": "code",
   "execution_count": 51,
   "metadata": {},
   "outputs": [],
   "source": [
    "save(mammals, file='../data/mammals.Rdata')"
   ]
  },
  {
   "cell_type": "markdown",
   "metadata": {},
   "source": [
    "---\n",
    "<a id=\"fn1\"></a>\n",
    "[1]: The helper script file is `anova.R`\n",
    "\n",
    "<a id=\"fn2\"></a>\n",
    "[2]: That is, it is 1 minus the ratio of the square of the standard error of the estimate to the sample variance of the response\n",
    "\n",
    "<a id=\"fn3\"></a>\n",
    "[3]: i.e., Standard error of the estimate won't decrease"
   ]
  }
 ],
 "metadata": {
  "kernelspec": {
   "display_name": "R",
   "language": "R",
   "name": "ir"
  },
  "language_info": {
   "codemirror_mode": "r",
   "file_extension": ".r",
   "mimetype": "text/x-r-source",
   "name": "R",
   "pygments_lexer": "r",
   "version": "4.2.0"
  },
  "latex_envs": {
   "LaTeX_envs_menu_present": true,
   "autoclose": false,
   "autocomplete": false,
   "bibliofile": "biblio.bib",
   "cite_by": "apalike",
   "current_citInitial": 1,
   "eqLabelWithNumbers": true,
   "eqNumInitial": 1,
   "hotkeys": {
    "equation": "Ctrl-E",
    "itemize": "Ctrl-I"
   },
   "labels_anchors": false,
   "latex_user_defs": false,
   "report_style_numbering": false,
   "user_envs_cfg": false
  },
  "toc": {
   "base_numbering": 1,
   "nav_menu": {},
   "number_sections": true,
   "sideBar": false,
   "skip_h1_title": false,
   "title_cell": "Contents",
   "title_sidebar": "Contents",
   "toc_cell": false,
   "toc_position": {},
   "toc_section_display": false,
   "toc_window_display": false
  }
 },
 "nbformat": 4,
 "nbformat_minor": 4
}
