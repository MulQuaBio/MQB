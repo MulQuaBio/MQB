{
 "cells": [
  {
   "cell_type": "markdown",
   "metadata": {},
   "source": [
    "# Ecosystems"
   ]
  },
  {
   "cell_type": "markdown",
   "metadata": {},
   "source": [
    "* Communities, Food-webs and Ecosystems\n",
    "  * Community vs Ecosystem\n",
    "    * Microbial community vs microbiome\n",
    "  * Food-webs\n",
    "  * Random matrix theory\n",
    "  * Evolutionary dynamics (!!)\n",
    "    * Microbial systems as an example\n",
    "  * Applications/Examples"
   ]
  },
  {
   "cell_type": "markdown",
   "metadata": {},
   "source": [
    "\n",
    "## Introduction\n",
    "Ecological and mutualistic networks are fundamental to understanding how species interact and coexist within ecosystems. These networks, encompassing trophic (consumer-resource) and mutualistic (e.g., plant-pollinator) interactions, provide insights into biodiversity, ecosystem functioning, and resilience to disturbances.\n",
    "\n",
    "> \"The presence of a feline animal in large numbers in a district might determine, through the intervention first of mice and then of bees, the frequency of certain flowers in that district.\"  \n",
    "> -- Charles Darwin, 1859\n",
    "\n",
    "This quote illustrates the intricate interdependence within ecological systems.\n"
   ]
  },
  {
   "cell_type": "markdown",
   "metadata": {},
   "source": [
    "\n",
    "## Ecological Networks\n",
    "Ecological networks represent interactions where nodes correspond to individuals or species populations and links denote interactions such as predation, competition, or mutualism. A classic example is the Silwood Park food web, which illustrates trophic relationships among species.\n",
    "\n",
    "### Trophic Networks\n",
    "Trophic networks describe feeding relationships among species. These are often represented as directed graphs, with arrows indicating the flow of energy from prey to predator. For example, a primary producer (e.g., a plant) might feed a herbivore, which in turn feeds a carnivore. Trophic networks often exhibit hierarchical structures, with top predators occupying the apex of the food web.\n",
    "\n",
    "### Mutualistic Networks\n",
    "Mutualistic networks describe interactions where species mutually benefit, such as:\n",
    "- **Plant-fungal networks:** Mycorrhizal fungi exchange nutrients with plants.\n",
    "\n",
    "- **Bacterial networks:** Exchange of metabolites, such as in yogurt and cheese production.\n",
    "\n",
    "- **Plant-pollinator networks:** Pollinators gain nectar, while plants achieve reproduction.\n",
    "\n",
    "- **Seed dispersal networks:** Animals disperse seeds in exchange for fruit.\n",
    "\n",
    "These networks contribute to critical ecosystem services, including pollination and nutrient cycling. They are often characterized by nested structures, where specialists interact with subsets of generalist species.\n",
    "\n",
    "### Competitive Networks\n",
    "Competitive networks involve interactions where species compete for the same limited resources, such as nutrients, light, or space. For example, plants in dense forests compete for sunlight, while microbes in soil compete for nutrients. These networks are often depicted as undirected graphs where the links indicate negative interactions.\n",
    "\n",
    "### Behavioral Networks\n",
    "Behavioral networks describe interactions within social or cooperative groups, such as ant colonies or primate troops. These interactions can include cooperation, altruism, or dominance hierarchies. Behavioral networks are critical for understanding group dynamics and evolutionary strategies.\n"
   ]
  },
  {
   "cell_type": "markdown",
   "metadata": {},
   "source": [
    "\n",
    "## Structure and Stability\n",
    "The structure of ecological networks is shaped by modules or motifs, small groups of interconnected nodes that enhance stability. Stability in ecological networks can be formally defined as:\n",
    "\n",
    "- **Local Stability:** The ability of a system to return to equilibrium after a small perturbation.\n",
    "\n",
    "- **Global Stability:** The capacity of a system to remain functional across a wide range of disturbances.\n",
    "\n",
    "### Trophic Networks\n",
    "In trophic networks, stability is often influenced by modularity (the division of the network into relatively independent clusters) and connectivity (the number of interactions between species). Highly connected but modular networks tend to be more resilient to species loss.\n",
    "\n",
    "### Mutualistic Networks\n",
    "Mutualistic networks often exhibit nestedness, a structural pattern where specialist species interact with subsets of generalist species. This nestedness enhances stability by reducing competition and fostering redundancy. Modularity in mutualistic networks can also increase resilience by containing disturbances within specific clusters.\n"
   ]
  },
  {
   "cell_type": "markdown",
   "metadata": {},
   "source": [
    "\n",
    "## Mathematical Modeling\n",
    "\n",
    "### Trophic Networks\n",
    "Trophic interactions are often modeled using Lotka-Volterra equations:\n",
    "\n",
    "$$\n",
    "\\frac{dN}{dt} = r_m N \\left(1 - \\frac{N}{K}\\right) - aNC,\n",
    "$$\n",
    "$$\n",
    "\\frac{dC}{dt} = eaNC - zC,\n",
    "$$\n",
    "\n",
    "where $N$ and $C$ represent resource and consumer populations, respectively, and parameters include growth rates ($r_m$), carrying capacity ($K$), attack rate ($a$), conversion efficiency ($e$), and mortality rate ($z$). These models help predict population dynamics and the effects of perturbations.\n",
    "\n",
    "### Mutualistic Networks\n",
    "The dynamics of mutualistic networks can be described using interaction matrices that quantify the strength and symmetry of benefits between species. For example, the dynamics of plant-pollinator networks can be modeled as:\n",
    "\n",
    "$$\n",
    "\\frac{dP}{dt} = r_P P \\left(1 - \\frac{P}{K_P}\\right) + \\beta_{PM} M,\n",
    "$$\n",
    "$$\n",
    "\\frac{dM}{dt} = r_M M \\left(1 - \\frac{M}{K_M}\\right) + \\beta_{MP} P,\n",
    "$$\n",
    "\n",
    "where $P$ and $M$ represent plant and pollinator populations, and $\\beta_{PM}$ and $\\beta_{MP}$ are mutualistic interaction coefficients.\n"
   ]
  },
  {
   "cell_type": "markdown",
   "metadata": {},
   "source": [
    "\n",
    "## Conclusion\n",
    "Ecological and mutualistic networks are integral to understanding biodiversity and ecosystem functioning. By studying their structure and stability, ecologists can predict responses to environmental changes and design conservation strategies. A comprehensive understanding of these networks is crucial for maintaining ecosystem resilience in the face of anthropogenic pressures.\n"
   ]
  },
  {
   "cell_type": "markdown",
   "metadata": {},
   "source": [
    "\n",
    "## Discussion Questions\n",
    "1. What sorts of interactions might ancient microbes have had? What type(s) of Ecological Network(s)?\n",
    "\n",
    "2. What are the differences and similarities between microbial networks (who-eats-what type) and food webs (who-eats-whom type)?\n",
    "\n",
    "3. What role do indirect interactions play in trophic network / food web dynamics?\n",
    "\n",
    "4. How are trophic/biomass/ecological pyramids related to body size structure in food webs?\n",
    "\n",
    "5. How do you think climatic temperature (and warming) affects trophic networks / food webs?\n",
    "\n",
    "6. What are the differences between trophic (e.g., food web) and mutualistic networks?\n",
    "\n",
    "7. Can we truly study Mutualistic and Trophic networks separately?\n",
    "\n",
    "8. What role might body size play in Mutualistic (e.g., plant-pollinator) networks?\n",
    "\n",
    "9. How do you think global climate change might affect plant-pollinator networks and pollination services?\n",
    "\n",
    "10. How do you think increasing mutualism increases the rate of microbial community functioning (e.g., decomposition of leaf litter)? What role can temperature play in this? How does this relate to the global carbon cycle?\n",
    "\n"
   ]
  }
 ],
 "metadata": {
  "kernelspec": {
   "display_name": "Python 3 (ipykernel)",
   "language": "python",
   "name": "python3"
  },
  "language_info": {
   "codemirror_mode": {
    "name": "ipython",
    "version": 3
   },
   "file_extension": ".py",
   "mimetype": "text/x-python",
   "name": "python",
   "nbconvert_exporter": "python",
   "pygments_lexer": "ipython3",
   "version": "3.10.12"
  }
 },
 "nbformat": 4,
 "nbformat_minor": 2
}
