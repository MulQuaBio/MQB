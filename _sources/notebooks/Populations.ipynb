{
 "cells": [
  {
   "cell_type": "markdown",
   "metadata": {},
   "source": [
    "# Single Populations"
   ]
  },
  {
   "cell_type": "markdown",
   "metadata": {},
   "source": [
    "* Single populations\n",
    "  * Are there *any* single populations? \n",
    "  * Exponential growth\n",
    "    * Metabolic basis\n",
    "  * From populations to alleles\n",
    "    * Basic pop gen\n",
    "  * Logistic growth\n",
    "    * Density dependence\n",
    "    * Logistic growth as an \"effective\" model\n",
    "      * SIS model (VJ)\n",
    "    * Bifurcations (+Intro to theory - VJ) \n",
    "  * Evolutionary dynamics\n",
    "  * Stochasticity\n",
    "  * Applications/Examples\n",
    "  * Stage and age structured populations\n",
    "    * Stage- vs Age-structured models\n",
    "    * IPMs\n",
    "  * Applications/Examples"
   ]
  }
 ],
 "metadata": {
  "kernelspec": {
   "display_name": "Python 3 (ipykernel)",
   "language": "python",
   "name": "python3"
  },
  "language_info": {
   "codemirror_mode": {
    "name": "ipython",
    "version": 3
   },
   "file_extension": ".py",
   "mimetype": "text/x-python",
   "name": "python",
   "nbconvert_exporter": "python",
   "pygments_lexer": "ipython3",
   "version": "3.10.12"
  }
 },
 "nbformat": 4,
 "nbformat_minor": 2
}
