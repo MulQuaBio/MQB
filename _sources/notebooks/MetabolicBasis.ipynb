{
 "cells": [
  {
   "cell_type": "markdown",
   "metadata": {},
   "source": [
    "# The Metabolic Basis of Everything"
   ]
  },
  {
   "cell_type": "markdown",
   "metadata": {},
   "source": [
    "  * Scaling laws - space and time\n",
    "  * Biochemical kinetics and thermodynamics\n",
    "  * Implications for ecological and evolutionary dynamics (?)\n",
    "  * Applications/Examples "
   ]
  },
  {
   "cell_type": "markdown",
   "metadata": {},
   "source": [
    "\n",
    "## Introduction\n",
    "Metabolism is central to the understanding of ecological and evolutionary processes. As Ludwig Boltzmann noted in 1886:\n",
    "\n",
    "> \"The struggle for existence of living beings is not for the fundamental constituents of food, but for the possession of the free energy obtained, chiefly by means of the green plant, from the transfer of radiant energy from the hot sun to the cold earth.\"\n",
    "\n",
    "The metabolic theory of ecology (Brown et al., 2004) provides a framework for understanding how metabolic processes scale across levels of biological organization and influence ecological dynamics.\n"
   ]
  },
  {
   "cell_type": "markdown",
   "metadata": {},
   "source": [
    "\n",
    "## Energy and Metabolic Rate\n",
    "Energy is a measurable property of an object that determines its ability to perform work. Life's purpose is to utilize energy for propagating itself through self-replication. Plants and other autotrophs harness photons via photosynthesis, converting light energy into chemical energy stored in glucose. Heterotrophs, such as animals, derive energy from breaking chemical bonds in organic molecules. ATP (adenosine triphosphate) is a critical energy carrier in cells, facilitating various biochemical processes.\n",
    "\n",
    "Metabolism, the set of chemical reactions within an organism, determines metabolic rate, which is the rate of energy use, often measured in J/s, kcal/day, or Watts. Organisms must balance energy consumption and expenditure:\n",
    "\n",
    "$$\n",
    "\\text{Energy Consumed} = \\text{Energy Used (Maintenance + Growth + Movement)}.\n",
    "$$\n",
    "\n",
    "Metabolic rates influence key life-history traits, including movement rates, development speed, lifespan, and reproductive output (Dell et al., 2011).\n"
   ]
  },
  {
   "cell_type": "markdown",
   "metadata": {},
   "source": [
    "\n",
    "## Importance of Size\n",
    "Metabolic rate (\\(B\\)) increases with body size (\\(M\\)) according to the allometric scaling law (Kleiber, 1947):\n",
    "\n",
    "$$\n",
    "\\log_{10}(B) = \\log_{10}(B_0) + b \\log_{10}(M),\n",
    "$$\n",
    "\n",
    "or equivalently:\n",
    "\n",
    "$$\n",
    "B = B_0 M^b,\n",
    "$$\n",
    "\n",
    "where \\(b\\) is typically close to 3/4 for most organisms. This implies that larger organisms have higher absolute metabolic rates but lower mass-specific rates (\\(B/M\\)):\n",
    "\n",
    "$$\n",
    "\\frac{B}{M} = B_0 M^{b-1}.\n",
    "$$\n",
    "\n",
    "For example, a mouse (0.1 kg) needs approximately 12.3 kcal/day, while its mass-specific rate is 123 kcal/(kg\\(\\cdot\\)day). This reduction in per-mass energy use with size is hypothesized to reduce overheating risk and improve resource allocation efficiency (West et al., 2005).\n"
   ]
  },
  {
   "cell_type": "markdown",
   "metadata": {},
   "source": [
    "\n",
    "### Ecological Implications of Size\n",
    "- Larger organisms have lower mass-specific metabolic rates, enabling longer lifespans and greater reproductive investment (Savage et al., 2004).\n",
    "- Population growth rate scales negatively with body size:\n",
    "\n",
    "$$\n",
    "    r_{\\text{max}} = r_0 M^{-0.25}.\n",
    "$$\n",
    "\n",
    "\n",
    "- Population density decreases with size (Damuth's law).\n",
    "- Larger carnivores are rarer than herbivores due to energy loss across trophic levels (Colinvaux, 1978).\n"
   ]
  },
  {
   "cell_type": "markdown",
   "metadata": {},
   "source": [
    "\n",
    "## Importance of Temperature\n",
    "Temperature profoundly impacts metabolism, as reaction rates increase with temperature. The Boltzmann-Arrhenius equation describes the exponential increase in reaction rates (Dell et al., 2011):\n",
    "\n",
    "$$\n",
    "    k = A e^{-\\frac{E_a}{k_B T}},\n",
    "$$\n",
    "\n",
    "where \\(k\\) is the reaction rate, \\(A\\) is a constant, \\(E_a\\) is the activation energy, \\(k_B\\) is the Boltzmann constant, and \\(T\\) is temperature in Kelvin. This relationship explains the characteristic thermal performance curve observed in biological processes, where rates increase with temperature to an optimum before declining due to enzyme denaturation or other stress factors (Johnson et al., 1974).\n",
    "\n",
    "- Ectotherms, such as reptiles and insects, rely on external temperature to regulate their metabolic processes.\n",
    "- Endotherms, such as mammals and birds, generate internal heat to maintain a stable body temperature, but this comes at a significant energetic cost (Bar-On et al., 2018).\n"
   ]
  },
  {
   "cell_type": "markdown",
   "metadata": {},
   "source": [
    "\n",
    "## Summary\n",
    "- Metabolism drives growth rates and influences population dynamics through its scaling with size and temperature (Brown et al., 2004).\n",
    "- Larger organisms exhibit slower per-mass metabolic rates but greater absolute energy use (Savage et al., 2004).\n",
    "- Temperature affects metabolic rates exponentially, shaping life-history strategies and population dynamics (Dell et al., 2011).\n"
   ]
  },
  {
   "cell_type": "markdown",
   "metadata": {},
   "source": [
    "\n",
    "## Discussion Questions\n",
    "\n",
    "1. Given the way resting metabolic rate scales with body size, what must consumption rate scale like?\n",
    "2. Why did we focus on resting (or “basal”) metabolic rate?\n",
    "3. How much energy would a resting rabbit (∼ 1 kg), a human (∼ 70 kg, and an Asian elephant (∼ 4000 kg) need for metabolic balance, at the individual level? What about per unit mass?\n",
    "4. How does the value you calculated in the previous question compare with the recommended calorie intake for humans? Is it lower or higher? Why?\n",
    "5. What are the optimal temperatures for the enzyme underlying bioluminescence in the two bacteria in the given example? Why might they have different thermal optima?\n"
   ]
  }
 ],
 "metadata": {
  "kernelspec": {
   "display_name": "Python 3 (ipykernel)",
   "language": "python",
   "name": "python3"
  },
  "language_info": {
   "codemirror_mode": {
    "name": "ipython",
    "version": 3
   },
   "file_extension": ".py",
   "mimetype": "text/x-python",
   "name": "python",
   "nbconvert_exporter": "python",
   "pygments_lexer": "ipython3",
   "version": "3.10.12"
  }
 },
 "nbformat": 4,
 "nbformat_minor": 2
}
