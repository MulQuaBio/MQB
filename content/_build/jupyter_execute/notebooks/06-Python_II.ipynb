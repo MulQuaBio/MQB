{
 "cells": [
  {
   "cell_type": "markdown",
   "metadata": {
    "slideshow": {
     "slide_type": "slide"
    }
   },
   "source": [
    "# Biological Computing in Python II"
   ]
  },
  {
   "cell_type": "markdown",
   "metadata": {},
   "source": [
    "```{epigraph}\n",
    "...some things in life are bad. They can really make you mad. Other things just make you swear and curse. When you're chewing on life's gristle, don't grumble; give a whistle, and this'll help things turn out for the best. And... always look on the bright side of life... \n",
    "\n",
    "-- Monty Python\n",
    "\n",
    "```"
   ]
  },
  {
   "cell_type": "markdown",
   "metadata": {},
   "source": [
    "In this chapter, we will build on the [first Python Chapter](05-Python_I.ipynb), covering some more advanced topics.\n",
    "\n",
    "## Numerical computing in Python\n",
    "\n",
    "Python is a good choice for numerical computing (recall [this comparison](05-Python_I:Why-python)). Using the right packages, you can do some serious number crunching in Python.\n",
    "\n",
    "We will use the `numpy` and `scipy` packages. The latter offers a data structure called numpy array that is suitable for efficient computing, along with basic operations on these arrays. \n",
    "\n",
    "On the other hand, scipy is proper numerical computing package (which *uses* numpy arrays) that can do a lot of things, including:\n",
    "\n",
    "* Linear algebra (matrix and vector operations) using `scipy.linalg`\n",
    "* Dealing with sparse matrix problems using `scipy.sparse`\n",
    "* Numerical integration (including solving of Ordinary Differential Equations (ODEs)) using `scipy.integrate`\n",
    "* Random number generation and using statistical functions and transformations using `scipy.stats`\n",
    "* Optimization using `scipy.optimize`\n",
    "* Fourier transforms using `scipy.fft`\n",
    "* Signal Processing using `scipy.signal`\n",
    "\n",
    "We will learn more about scipy further below. First, let's start with `numpy`."
   ]
  },
  {
   "cell_type": "markdown",
   "metadata": {},
   "source": [
    "### Numpy\n",
    "\n",
    "Numpy provides the `numpy array` data structure, along with methods for for data creation, manipulations and basic numerical calculations. Numpy arrays are similar in some respects to Python lists, but are homogeneous in type (the default is float), allow efficient (fast) manipulations, and are more naturally multidimensional (e.g., you can store multiple matrices in one array). \n",
    "\n",
    "```{note}\n",
    "numpy arrays are analogous to the [R `matrix`](R-matrices) data structure.\n",
    "```\n",
    "\n",
    "Let's start by importing numpy:"
   ]
  },
  {
   "cell_type": "code",
   "execution_count": 35,
   "metadata": {},
   "outputs": [],
   "source": [
    "import numpy as np"
   ]
  },
  {
   "cell_type": "code",
   "execution_count": 36,
   "metadata": {},
   "outputs": [
    {
     "data": {
      "text/plain": [
       "array([0, 1, 2, 3, 4])"
      ]
     },
     "execution_count": 36,
     "metadata": {},
     "output_type": "execute_result"
    }
   ],
   "source": [
    "a = np.array(range(5)) # a one-dimensional array\n",
    "a"
   ]
  },
  {
   "cell_type": "code",
   "execution_count": 3,
   "metadata": {},
   "outputs": [
    {
     "name": "stdout",
     "output_type": "stream",
     "text": [
      "<class 'numpy.ndarray'>\n"
     ]
    }
   ],
   "source": [
    "print(type(a))"
   ]
  },
  {
   "cell_type": "code",
   "execution_count": 4,
   "metadata": {},
   "outputs": [
    {
     "name": "stdout",
     "output_type": "stream",
     "text": [
      "<class 'numpy.int64'>\n"
     ]
    }
   ],
   "source": [
    "print(type(a[0]))"
   ]
  },
  {
   "cell_type": "markdown",
   "metadata": {},
   "source": [
    "Thus the last two outputs tell you that firstly, that numpy arrays belong to a data structure type (and a class) called `numpy.ndarray`, and secondly, that at position `0` (remember, Python indexing starts at 0) it holds an [64 bit integer](https://en.wikipedia.org/wiki/9,223,372,036,854,775,807). All elements in `a` are of type `int` because that is what `range()` returns (try `?range`).\n",
    "\n",
    "---\n",
    "\n",
    ":::{figure-md} Python-numpy-array \n",
    "\n",
    "<img src=\"./graphics/numpyarray.png\" alt=\"Python numpy array\" width=\"700px\">\n",
    "\n",
    "**A graphical depiction of numpy/numpy arrays.** These can have multiple dimensions (even greater than 3). <br>\n",
    "(Source: [http://pages.physics.cornell.edu/~myers/teaching/ComputationalMethods/python/arrays.html](http://pages.physics.cornell.edu/~myers/teaching/ComputationalMethods/python/arrays.html))\n",
    "\n",
    "::: \n",
    "\n",
    "---\n",
    "\n",
    "You can also specify the data type of the array:"
   ]
  },
  {
   "cell_type": "code",
   "execution_count": 5,
   "metadata": {},
   "outputs": [
    {
     "data": {
      "text/plain": [
       "array([0., 1., 2., 3., 4.])"
      ]
     },
     "execution_count": 5,
     "metadata": {},
     "output_type": "execute_result"
    }
   ],
   "source": [
    "a = np.array(range(5), float)\n",
    "a"
   ]
  },
  {
   "cell_type": "code",
   "execution_count": 6,
   "metadata": {},
   "outputs": [
    {
     "data": {
      "text/plain": [
       "dtype('float64')"
      ]
     },
     "execution_count": 6,
     "metadata": {},
     "output_type": "execute_result"
    }
   ],
   "source": [
    "a.dtype # Check type "
   ]
  },
  {
   "cell_type": "markdown",
   "metadata": {},
   "source": [
    "You can also get a 1-D arrays as follows:"
   ]
  },
  {
   "cell_type": "code",
   "execution_count": 7,
   "metadata": {},
   "outputs": [
    {
     "data": {
      "text/plain": [
       "array([0, 1, 2, 3, 4])"
      ]
     },
     "execution_count": 7,
     "metadata": {},
     "output_type": "execute_result"
    }
   ],
   "source": [
    "x = np.arange(5)\n",
    "x"
   ]
  },
  {
   "cell_type": "code",
   "execution_count": 8,
   "metadata": {},
   "outputs": [
    {
     "data": {
      "text/plain": [
       "array([0., 1., 2., 3., 4.])"
      ]
     },
     "execution_count": 8,
     "metadata": {},
     "output_type": "execute_result"
    }
   ],
   "source": [
    "x = np.arange(5.) #directly specify float using decimal\n",
    "x"
   ]
  },
  {
   "cell_type": "markdown",
   "metadata": {},
   "source": [
    "As with other Python variables (e.g., created as a list or a dictionary), you can apply methods to variables created as numpy arrays. For example, type `x.` and hit TAB to see all methods you can apply to`x`. To see dimensions of `x`:"
   ]
  },
  {
   "cell_type": "code",
   "execution_count": 9,
   "metadata": {},
   "outputs": [
    {
     "data": {
      "text/plain": [
       "(5,)"
      ]
     },
     "execution_count": 9,
     "metadata": {},
     "output_type": "execute_result"
    }
   ],
   "source": [
    "x.shape"
   ]
  },
  {
   "cell_type": "markdown",
   "metadata": {},
   "source": [
    "```{tip}\n",
    "Remember, you can type `:?x.methodname` to get info on a particular method (command). For example, try `?x.shape`.\n",
    "```\n",
    "\n",
    "You can also convert to and from Python lists (recall [list comprehensions](Python-Comprehensions) from the [Python I chapter](./05-Python_I.ipynb)):"
   ]
  },
  {
   "cell_type": "code",
   "execution_count": 10,
   "metadata": {},
   "outputs": [
    {
     "data": {
      "text/plain": [
       "array([1, 3, 5, 7, 9])"
      ]
     },
     "execution_count": 10,
     "metadata": {},
     "output_type": "execute_result"
    }
   ],
   "source": [
    "b = np.array([i for i in range(10) if i % 2 == 1]) #odd numbers between 1 and 10 \n",
    "b"
   ]
  },
  {
   "cell_type": "code",
   "execution_count": 11,
   "metadata": {},
   "outputs": [
    {
     "data": {
      "text/plain": [
       "[1, 3, 5, 7, 9]"
      ]
     },
     "execution_count": 11,
     "metadata": {},
     "output_type": "execute_result"
    }
   ],
   "source": [
    "c = b.tolist() #convert back to list\n",
    "c"
   ]
  },
  {
   "cell_type": "markdown",
   "metadata": {},
   "source": [
    "To make a matrix, you need a 2-D numpy array:"
   ]
  },
  {
   "cell_type": "code",
   "execution_count": 12,
   "metadata": {},
   "outputs": [
    {
     "data": {
      "text/plain": [
       "array([[0, 1],\n",
       "       [2, 3]])"
      ]
     },
     "execution_count": 12,
     "metadata": {},
     "output_type": "execute_result"
    }
   ],
   "source": [
    "mat = np.array([[0, 1], [2, 3]])\n",
    "mat"
   ]
  },
  {
   "cell_type": "code",
   "execution_count": 13,
   "metadata": {
    "scrolled": true
   },
   "outputs": [
    {
     "data": {
      "text/plain": [
       "(2, 2)"
      ]
     },
     "execution_count": 13,
     "metadata": {},
     "output_type": "execute_result"
    }
   ],
   "source": [
    "mat.shape"
   ]
  },
  {
   "cell_type": "markdown",
   "metadata": {},
   "source": [
    "### Indexing and accessing arrays\n",
    "\n",
    "As with other Python data objects such as lists, numpy array elements can be accessed using square brackets (`[ ]`) with the usual `[row,column]` reference. Indexing of numpy arrays works like that for other data structures, with index values starting at 0. So, you can obtain all the elements of a particular row as:"
   ]
  },
  {
   "cell_type": "code",
   "execution_count": 14,
   "metadata": {},
   "outputs": [
    {
     "data": {
      "text/plain": [
       "array([2, 3])"
      ]
     },
     "execution_count": 14,
     "metadata": {},
     "output_type": "execute_result"
    }
   ],
   "source": [
    "mat[1] # accessing whole 2nd row, remember indexing starts at  0"
   ]
  },
  {
   "cell_type": "code",
   "execution_count": 15,
   "metadata": {},
   "outputs": [
    {
     "data": {
      "text/plain": [
       "array([1, 3])"
      ]
     },
     "execution_count": 15,
     "metadata": {},
     "output_type": "execute_result"
    }
   ],
   "source": [
    "mat[:,1] #accessing whole second column  "
   ]
  },
  {
   "cell_type": "markdown",
   "metadata": {},
   "source": [
    "And accessing particular elements:"
   ]
  },
  {
   "cell_type": "code",
   "execution_count": 16,
   "metadata": {},
   "outputs": [
    {
     "data": {
      "text/plain": [
       "0"
      ]
     },
     "execution_count": 16,
     "metadata": {},
     "output_type": "execute_result"
    }
   ],
   "source": [
    "mat[0,0] # 1st row, 1st column element"
   ]
  },
  {
   "cell_type": "code",
   "execution_count": 17,
   "metadata": {},
   "outputs": [
    {
     "data": {
      "text/plain": [
       "2"
      ]
     },
     "execution_count": 17,
     "metadata": {},
     "output_type": "execute_result"
    }
   ],
   "source": [
    "mat[1,0] # 2nd row, 1st column element"
   ]
  },
  {
   "cell_type": "markdown",
   "metadata": {},
   "source": [
    "Note that (like all other programming languages) row index always comes before column index. That is, `mat[1]` is always going to mean \"whole second row\", and `mat[1,1]` means 1st row and 1st column element. Therefore, to access the whole second column, you need:"
   ]
  },
  {
   "cell_type": "code",
   "execution_count": 18,
   "metadata": {},
   "outputs": [
    {
     "data": {
      "text/plain": [
       "array([0, 2])"
      ]
     },
     "execution_count": 18,
     "metadata": {},
     "output_type": "execute_result"
    }
   ],
   "source": [
    "mat[:,0] #accessing whole first column  "
   ]
  },
  {
   "cell_type": "markdown",
   "metadata": {},
   "source": [
    "Python indexing also accepts negative values for going back to the start\n",
    "from the end of an array:"
   ]
  },
  {
   "cell_type": "code",
   "execution_count": 19,
   "metadata": {},
   "outputs": [
    {
     "data": {
      "text/plain": [
       "1"
      ]
     },
     "execution_count": 19,
     "metadata": {},
     "output_type": "execute_result"
    }
   ],
   "source": [
    "mat[0,1]"
   ]
  },
  {
   "cell_type": "code",
   "execution_count": 20,
   "metadata": {},
   "outputs": [
    {
     "data": {
      "text/plain": [
       "1"
      ]
     },
     "execution_count": 20,
     "metadata": {},
     "output_type": "execute_result"
    }
   ],
   "source": [
    "mat[0,-1]"
   ]
  },
  {
   "cell_type": "code",
   "execution_count": 21,
   "metadata": {
    "scrolled": true
   },
   "outputs": [
    {
     "data": {
      "text/plain": [
       "2"
      ]
     },
     "execution_count": 21,
     "metadata": {},
     "output_type": "execute_result"
    }
   ],
   "source": [
    "mat[-1,0]"
   ]
  },
  {
   "cell_type": "code",
   "execution_count": 22,
   "metadata": {},
   "outputs": [
    {
     "data": {
      "text/plain": [
       "0"
      ]
     },
     "execution_count": 22,
     "metadata": {},
     "output_type": "execute_result"
    }
   ],
   "source": [
    "mat[0,-2]"
   ]
  },
  {
   "cell_type": "markdown",
   "metadata": {},
   "source": [
    "Very interesting, but rather useless for this simple matrix!"
   ]
  },
  {
   "cell_type": "markdown",
   "metadata": {},
   "source": [
    "### Manipulating arrays\n",
    "\n",
    "Manipulating numpy arrays is pretty straightforward. \n",
    "\n",
    "```{note}\n",
    "**Why numpy arrays are computationally efficient:**  The data associated with a numpy array object (its metadata  &ndash; number of dimensions, shape, data type, etc &ndash; as well as the actual data) are stored in a homogeneous and contiguous block of memory (a \"data buffer\"), at a particular address in the system's RAM (Random Access Memory). This makes numpy arrays more efficient than a pure Python data structures like lists whose data are scattered across the system memory.\n",
    "```\n",
    "\n",
    "#### Replacing, adding or deleting elements\n",
    "\n",
    "Let's look at how you can replace, add, or delete an array element (a single entry, or whole row(s) or whole column(s)):"
   ]
  },
  {
   "cell_type": "code",
   "execution_count": 23,
   "metadata": {},
   "outputs": [
    {
     "data": {
      "text/plain": [
       "array([[-1,  1],\n",
       "       [ 2,  3]])"
      ]
     },
     "execution_count": 23,
     "metadata": {},
     "output_type": "execute_result"
    }
   ],
   "source": [
    "mat[0,0] = -1 #replace a single element\n",
    "mat"
   ]
  },
  {
   "cell_type": "code",
   "execution_count": 24,
   "metadata": {},
   "outputs": [
    {
     "data": {
      "text/plain": [
       "array([[12,  1],\n",
       "       [12,  3]])"
      ]
     },
     "execution_count": 24,
     "metadata": {},
     "output_type": "execute_result"
    }
   ],
   "source": [
    "mat[:,0] = [12,12] #replace whole column\n",
    "mat"
   ]
  },
  {
   "cell_type": "code",
   "execution_count": 25,
   "metadata": {
    "scrolled": true
   },
   "outputs": [
    {
     "data": {
      "text/plain": [
       "array([[12,  1],\n",
       "       [12,  3],\n",
       "       [12, 12]])"
      ]
     },
     "execution_count": 25,
     "metadata": {},
     "output_type": "execute_result"
    }
   ],
   "source": [
    "np.append(mat, [[12,12]], axis = 0) #append row, note axis specification"
   ]
  },
  {
   "cell_type": "code",
   "execution_count": 26,
   "metadata": {},
   "outputs": [
    {
     "data": {
      "text/plain": [
       "array([[12,  1, 12],\n",
       "       [12,  3, 12]])"
      ]
     },
     "execution_count": 26,
     "metadata": {},
     "output_type": "execute_result"
    }
   ],
   "source": [
    "np.append(mat, [[12],[12]], axis = 1) #append column"
   ]
  },
  {
   "cell_type": "code",
   "execution_count": 27,
   "metadata": {},
   "outputs": [],
   "source": [
    "newRow = [[12,12]] #create new row"
   ]
  },
  {
   "cell_type": "code",
   "execution_count": 28,
   "metadata": {},
   "outputs": [
    {
     "data": {
      "text/plain": [
       "array([[12,  1],\n",
       "       [12,  3],\n",
       "       [12, 12]])"
      ]
     },
     "execution_count": 28,
     "metadata": {},
     "output_type": "execute_result"
    }
   ],
   "source": [
    "mat = np.append(mat, newRow, axis = 0) #append that existing row\n",
    "mat"
   ]
  },
  {
   "cell_type": "code",
   "execution_count": 29,
   "metadata": {},
   "outputs": [
    {
     "data": {
      "text/plain": [
       "array([[12,  1],\n",
       "       [12,  3]])"
      ]
     },
     "execution_count": 29,
     "metadata": {},
     "output_type": "execute_result"
    }
   ],
   "source": [
    "np.delete(mat, 2, 0) #Delete 3rd row"
   ]
  },
  {
   "cell_type": "markdown",
   "metadata": {},
   "source": [
    "And concatenation:"
   ]
  },
  {
   "cell_type": "code",
   "execution_count": 30,
   "metadata": {},
   "outputs": [
    {
     "data": {
      "text/plain": [
       "array([[ 0,  1],\n",
       "       [ 2,  3],\n",
       "       [ 0, 10],\n",
       "       [-1,  3]])"
      ]
     },
     "execution_count": 30,
     "metadata": {},
     "output_type": "execute_result"
    }
   ],
   "source": [
    "mat = np.array([[0, 1], [2, 3]])\n",
    "mat0 = np.array([[0, 10], [-1, 3]])\n",
    "np.concatenate((mat, mat0), axis = 0)"
   ]
  },
  {
   "cell_type": "markdown",
   "metadata": {},
   "source": [
    "#### Flattening or reshaping arrays\n",
    "\n",
    "You can also \"flatten\" or \"melt\" arrays, that is, change array dimensions (e.g., from a matrix to a vector):"
   ]
  },
  {
   "cell_type": "code",
   "execution_count": 31,
   "metadata": {},
   "outputs": [
    {
     "data": {
      "text/plain": [
       "array([0, 1, 2, 3])"
      ]
     },
     "execution_count": 31,
     "metadata": {},
     "output_type": "execute_result"
    }
   ],
   "source": [
    "mat.ravel()"
   ]
  },
  {
   "cell_type": "code",
   "execution_count": 32,
   "metadata": {},
   "outputs": [
    {
     "data": {
      "text/plain": [
       "array([[0],\n",
       "       [1],\n",
       "       [2],\n",
       "       [3]])"
      ]
     },
     "execution_count": 32,
     "metadata": {},
     "output_type": "execute_result"
    }
   ],
   "source": [
    "mat.reshape((4,1))"
   ]
  },
  {
   "cell_type": "markdown",
   "metadata": {},
   "source": [
    "This is different from ravel: check the documentation by using `?np.reshape`."
   ]
  },
  {
   "cell_type": "code",
   "execution_count": 33,
   "metadata": {
    "scrolled": true
   },
   "outputs": [
    {
     "data": {
      "text/plain": [
       "array([[0, 1, 2, 3]])"
      ]
     },
     "execution_count": 33,
     "metadata": {},
     "output_type": "execute_result"
    }
   ],
   "source": [
    "mat.reshape((1,4))"
   ]
  },
  {
   "cell_type": "markdown",
   "metadata": {},
   "source": [
    "```{note}\n",
    "You might have noticed that flattening and reshaping is \"row-priority\": elements of the vector are allocated to a matrix row-wise, and vice versa(e.g., with `ravel` unraveling also happens row by row).\n",
    "```"
   ]
  },
  {
   "cell_type": "code",
   "execution_count": 34,
   "metadata": {},
   "outputs": [
    {
     "ename": "ValueError",
     "evalue": "cannot reshape array of size 4 into shape (3,1)",
     "output_type": "error",
     "traceback": [
      "\u001b[0;31m---------------------------------------------------------------------------\u001b[0m",
      "\u001b[0;31mValueError\u001b[0m                                Traceback (most recent call last)",
      "\u001b[0;32m/tmp/ipykernel_128263/371868948.py\u001b[0m in \u001b[0;36m<module>\u001b[0;34m\u001b[0m\n\u001b[0;32m----> 1\u001b[0;31m \u001b[0mmat\u001b[0m\u001b[0;34m.\u001b[0m\u001b[0mreshape\u001b[0m\u001b[0;34m(\u001b[0m\u001b[0;34m(\u001b[0m\u001b[0;36m3\u001b[0m\u001b[0;34m,\u001b[0m \u001b[0;36m1\u001b[0m\u001b[0;34m)\u001b[0m\u001b[0;34m)\u001b[0m\u001b[0;34m\u001b[0m\u001b[0;34m\u001b[0m\u001b[0m\n\u001b[0m",
      "\u001b[0;31mValueError\u001b[0m: cannot reshape array of size 4 into shape (3,1)"
     ]
    }
   ],
   "source": [
    "mat.reshape((3, 1))"
   ]
  },
  {
   "cell_type": "markdown",
   "metadata": {},
   "source": [
    "This gives an error because total elements must remain the same! \n",
    "\n",
    "This is a bit different than how [`R` behaves](R-Recycling), where you won't get an error (R \"recycles\" data) (which can be dangerous!)\n",
    "\n",
    "### Pre-allocating arrays\n",
    "\n",
    "As in other computer languages, it is usually more efficient to preallocate an array rather than append / insert / concatenate additional elements, rows, or columns. *Why*? &ndash; because you might run out of contiguous space in the specific system memory (RAM) address where the current array is stored. Preallocation allocates all the RAM memory you need in one call, while resizing the array (through `append`, `insert`, `concatenate`, `resize`, etc.) may require copying the array to a larger block of memory, slowing things down, and significantly so if the matrix/array is very large.\n",
    "\n",
    "For example, if you know the size of your matrix or array, you can initialize it with ones or zeros:"
   ]
  },
  {
   "cell_type": "code",
   "execution_count": null,
   "metadata": {
    "scrolled": true
   },
   "outputs": [],
   "source": [
    "np.ones((4,2)) #(4,2) are the (row,col) array dimensions"
   ]
  },
  {
   "cell_type": "code",
   "execution_count": null,
   "metadata": {
    "scrolled": true
   },
   "outputs": [],
   "source": [
    "np.zeros((4,2)) # or zeros"
   ]
  },
  {
   "cell_type": "code",
   "execution_count": null,
   "metadata": {},
   "outputs": [],
   "source": [
    "m = np.identity(4) #create an identity matrix\n",
    "m"
   ]
  },
  {
   "cell_type": "code",
   "execution_count": null,
   "metadata": {},
   "outputs": [],
   "source": [
    "m.fill(16) #fill the matrix with 16\n",
    "m"
   ]
  },
  {
   "cell_type": "markdown",
   "metadata": {},
   "source": [
    "### `numpy` matrices\n",
    "\n",
    "Scipy/Numpy also has a `matrix` data structure class. Numpy matrices are strictly 2-dimensional, while numpy arrays are N-dimensional. Matrix objects are a subclass of numpy arrays, so they inherit all the attributes and methods of numpy arrays (ndarrays).\n",
    "\n",
    "The main advantage of scipy matrices is that they provide a convenient notation for matrix multiplication: for example, if `a` and `b` are matrices, then `a * b` is their matrix product.\n",
    "\n",
    "#### Matrix-vector operations\n",
    "\n",
    "Now let's perform some common matrix-vector operations on arrays (you can also try the same using matrices instead of arrays):"
   ]
  },
  {
   "cell_type": "code",
   "execution_count": null,
   "metadata": {},
   "outputs": [],
   "source": [
    "mm = np.arange(16)\n",
    "mm = mm.reshape(4,4) #Convert to matrix\n",
    "mm"
   ]
  },
  {
   "cell_type": "code",
   "execution_count": null,
   "metadata": {
    "scrolled": true
   },
   "outputs": [],
   "source": [
    "mm.transpose()"
   ]
  },
  {
   "cell_type": "code",
   "execution_count": null,
   "metadata": {
    "scrolled": true
   },
   "outputs": [],
   "source": [
    "mm + mm.transpose()"
   ]
  },
  {
   "cell_type": "code",
   "execution_count": null,
   "metadata": {
    "scrolled": true
   },
   "outputs": [],
   "source": [
    "mm - mm.transpose()"
   ]
  },
  {
   "cell_type": "code",
   "execution_count": null,
   "metadata": {},
   "outputs": [],
   "source": [
    "mm * mm.transpose() # Note that this is element-wise multiplication"
   ]
  },
  {
   "cell_type": "code",
   "execution_count": null,
   "metadata": {
    "scrolled": true
   },
   "outputs": [],
   "source": [
    "mm // mm.transpose()"
   ]
  },
  {
   "cell_type": "markdown",
   "metadata": {},
   "source": [
    "Note that we used integer division `//`. Note also the warning you get (because of zero division). So let's avoid the divide by zero:"
   ]
  },
  {
   "cell_type": "code",
   "execution_count": null,
   "metadata": {},
   "outputs": [],
   "source": [
    "mm // (mm + 1).transpose()"
   ]
  },
  {
   "cell_type": "code",
   "execution_count": null,
   "metadata": {},
   "outputs": [],
   "source": [
    "mm * np.pi"
   ]
  },
  {
   "cell_type": "code",
   "execution_count": null,
   "metadata": {},
   "outputs": [],
   "source": [
    "mm.dot(mm) # No this is matric multiplication, or the dot product"
   ]
  },
  {
   "cell_type": "markdown",
   "metadata": {},
   "source": [
    "There is also a numpy matrix class:"
   ]
  },
  {
   "cell_type": "code",
   "execution_count": null,
   "metadata": {
    "scrolled": true
   },
   "outputs": [],
   "source": [
    "mm = np.matrix(mm) # convert to scipy/numpy matrix class\n",
    "mm"
   ]
  },
  {
   "cell_type": "code",
   "execution_count": null,
   "metadata": {},
   "outputs": [],
   "source": [
    "print(type(mm))"
   ]
  },
  {
   "cell_type": "markdown",
   "metadata": {},
   "source": [
    "This data structure makes matrix multiplication syntactically easier:"
   ]
  },
  {
   "cell_type": "code",
   "execution_count": null,
   "metadata": {
    "scrolled": true
   },
   "outputs": [],
   "source": [
    "mm * mm # instead of mm.dot(mm)"
   ]
  },
  {
   "cell_type": "markdown",
   "metadata": {},
   "source": [
    "```{warning}\n",
    "However, it is not recommended that you use the numpy matrix class because it may be removed [in the future](https://numpy.org/doc/stable/reference/generated/numpy.matrix.html).\n",
    "```"
   ]
  },
  {
   "cell_type": "markdown",
   "metadata": {},
   "source": [
    "```{tip}\n",
    "You can do a lot more with matrices and vectors by importing the `linalg` sub-package from scipy: `scipy.linalg`.\n",
    "```"
   ]
  },
  {
   "cell_type": "markdown",
   "metadata": {},
   "source": [
    "### The `scipy` package\n",
    "\n",
    "Now let's move on to `scipy`. \n",
    "\n",
    "```{note}\n",
    "**scipy vs numpy**: It's a bit confusing. Please have a look at [this](https://scipy.org/faq/#what-is-the-difference-between-numpy-and-scipy). Basically, there is some overlap between what these two packages can do, and this redundancy will eventually be phased out completely. The recommended approach is to use numpy for creating and manipulating data and scipy for more complex numerical operations.\n",
    "```\n",
    "\n",
    "We will look at two particularly useful `scipy` sub-packages here: `scipy.stats` and `scipy.integrate`. \n",
    "\n",
    "(Python-scipy-stats)=\n",
    "#### Scipy stats\n",
    "\n",
    "Let's take a quick spin in `scipy.stats`. \n",
    "\n",
    "*Why not use `R` for stats?* — because often you might just need to calculate some summary stats of your simulation results within Python, or you simulations may require the generation of random numbers.\n",
    "\n",
    "First, import scipy:"
   ]
  },
  {
   "cell_type": "code",
   "execution_count": null,
   "metadata": {},
   "outputs": [],
   "source": [
    "import scipy as sc"
   ]
  },
  {
   "cell_type": "markdown",
   "metadata": {},
   "source": [
    "Or you can use `from scipy import stats`. \n",
    "\n",
    "Let's generate 10 samples from the normal distribution ($\\mathcal{N}(\\mu,\\,\\sigma^{2})$):"
   ]
  },
  {
   "cell_type": "code",
   "execution_count": null,
   "metadata": {},
   "outputs": [],
   "source": [
    "sc.stats.norm.rvs(size = 10)"
   ]
  },
  {
   "cell_type": "markdown",
   "metadata": {},
   "source": [
    "By default, [as in R](R-random-numbers), these are numbers from the *standard* normal distribution ($\\mathcal{N}(0,\\,1)$)."
   ]
  },
  {
   "cell_type": "markdown",
   "metadata": {},
   "source": [
    "```{tip}\n",
    "**Continuing on the numpy vs scipy theme**: Both scipy and numpy can generate random numbers (e.g., `np.random.normal(size=10)` would work equally well above). In fact, scipy uses the `numpy.random` package under the hood for drawing random numbers. You may choose to use either, but for sanity, its probably a good idea to just stick with `scipy.stats` for all your stats number crunching.\n",
    "```\n",
    "\n",
    "Also, as you learned [in R](R-random-numbers), you can \"seed\" random numbers to get the same sequence every time (important for reproducibility &ndash; when you need to know what specific random numbers were input into a particular program routine or algorithm)."
   ]
  },
  {
   "cell_type": "code",
   "execution_count": null,
   "metadata": {},
   "outputs": [],
   "source": [
    "np.random.seed(1234)\n",
    "sc.stats.norm.rvs(size = 10)"
   ]
  },
  {
   "cell_type": "markdown",
   "metadata": {},
   "source": [
    "But setting a *global* random number state is not always needed or in some many cases, recommended, because using something like `np.random.seed(1234)` will set the seed for all following instances where a random number is generated. In many scenarios a more robust way is to use the `random_state` argument for each specific generation of a set of random numbers:"
   ]
  },
  {
   "cell_type": "code",
   "execution_count": null,
   "metadata": {},
   "outputs": [],
   "source": [
    "sc.stats.norm.rvs(size=5, random_state=1234)"
   ]
  },
  {
   "cell_type": "markdown",
   "metadata": {},
   "source": [
    "We will not move on from `scipy.stats`. Before we do so, here's an example of generating random integers between 0 and 10:"
   ]
  },
  {
   "cell_type": "code",
   "execution_count": null,
   "metadata": {
    "scrolled": true
   },
   "outputs": [],
   "source": [
    "sc.stats.randint.rvs(0, 10, size = 7)"
   ]
  },
  {
   "cell_type": "markdown",
   "metadata": {},
   "source": [
    "And again with a random seed:"
   ]
  },
  {
   "cell_type": "code",
   "execution_count": null,
   "metadata": {},
   "outputs": [],
   "source": [
    "sc.stats.randint.rvs(0, 10, size = 7, random_state=1234)"
   ]
  },
  {
   "cell_type": "code",
   "execution_count": null,
   "metadata": {},
   "outputs": [],
   "source": [
    "sc.stats.randint.rvs(0, 10, size = 7, random_state=3445) # a different seed"
   ]
  },
  {
   "cell_type": "markdown",
   "metadata": {},
   "source": [
    "#### Numerical integration using  `scipy`\n",
    "\n",
    "OK, on to to and `scipy.integrate`. \n",
    "\n",
    "Numerical integration is the approximate computation of an integral using numerical techniques. You need numerical integration whenever you have a complicated function that cannot be integrated analytically using anti-derivatives. For example, calculating the area under a curve is a particularly useful application. Another one is solving ordinary differential equations (ODEs), commonly used for modelling biological systems."
   ]
  },
  {
   "cell_type": "code",
   "execution_count": null,
   "metadata": {},
   "outputs": [],
   "source": [
    "import scipy.integrate as integrate"
   ]
  },
  {
   "cell_type": "markdown",
   "metadata": {},
   "source": [
    "##### Area under a curve\n",
    "\n",
    "Let's calculate the area under an arbitrary curve."
   ]
  },
  {
   "cell_type": "code",
   "execution_count": null,
   "metadata": {},
   "outputs": [],
   "source": [
    "y = np.array([5, 20, 18, 19, 18, 7, 4]) # The y values; can also use a python list here"
   ]
  },
  {
   "cell_type": "markdown",
   "metadata": {},
   "source": [
    "Let's visualize the curve. We can use the `matplotlib` package for this: "
   ]
  },
  {
   "cell_type": "code",
   "execution_count": null,
   "metadata": {},
   "outputs": [],
   "source": [
    "import matplotlib.pylab as p"
   ]
  },
  {
   "cell_type": "code",
   "execution_count": null,
   "metadata": {},
   "outputs": [],
   "source": [
    "p.plot(y)"
   ]
  },
  {
   "cell_type": "markdown",
   "metadata": {},
   "source": [
    "Now compute the area using the [composite trapezoidal rule](https://en.wikipedia.org/wiki/Trapezoidal_rule):"
   ]
  },
  {
   "cell_type": "code",
   "execution_count": null,
   "metadata": {},
   "outputs": [],
   "source": [
    "area = integrate.trapz(y, dx = 2)\n",
    "print(\"area =\", area)"
   ]
  },
  {
   "cell_type": "markdown",
   "metadata": {},
   "source": [
    "The argument `dx` defines the spacing between points of the curve (the x-axis values). The default is 1 (don't forget to check out the documentation: `?integrate.trapz`). Changing this will change the area, of course:"
   ]
  },
  {
   "cell_type": "code",
   "execution_count": null,
   "metadata": {},
   "outputs": [],
   "source": [
    "area = integrate.trapz(y, dx = 1)\n",
    "print(\"area =\", area)"
   ]
  },
  {
   "cell_type": "code",
   "execution_count": null,
   "metadata": {},
   "outputs": [],
   "source": [
    "area = integrate.trapz(y, dx = 3)\n",
    "print(\"area =\", area)"
   ]
  },
  {
   "cell_type": "markdown",
   "metadata": {},
   "source": [
    "Now, the same, using [Simpson's rule](https://en.wikipedia.org/wiki/Simpson%27s_rule):"
   ]
  },
  {
   "cell_type": "code",
   "execution_count": null,
   "metadata": {},
   "outputs": [],
   "source": [
    "area = integrate.simps(y, dx = 2)\n",
    "print(\"area =\", area)"
   ]
  },
  {
   "cell_type": "code",
   "execution_count": null,
   "metadata": {},
   "outputs": [],
   "source": [
    "area = integrate.simps(y, dx = 1)\n",
    "print(\"area =\", area)"
   ]
  },
  {
   "cell_type": "code",
   "execution_count": null,
   "metadata": {},
   "outputs": [],
   "source": [
    "area = integrate.simps(y, dx = 3)\n",
    "print(\"area =\", area)"
   ]
  },
  {
   "cell_type": "markdown",
   "metadata": {},
   "source": [
    "```{note}\n",
    "There are alternatives to matplotlib for visualizations in Python. Check out [`bokeh`](https://bokeh.pydata.org/en/latest), [`plotly`](https://plot.ly/) and [`altair`](https://altair-viz.github.io/). Also, there is seaborn, which is built directly on Matplotlib. Examples using `seaborn` can be found in some of the appendices of these notes.\n",
    "```"
   ]
  },
  {
   "cell_type": "markdown",
   "metadata": {},
   "source": [
    "##### The Lotka-Volterra model\n",
    "\n",
    "Now let's try numerical integration in Python for solving a classical model in biology — the Lotka-Volterra (LV) model for a predator-prey system in two-dimensional space (e.g., on land). The LV model is: \n",
    "\n",
    "\\begin{align}\n",
    "    \\frac{dR}{dt} &= r R - a C R  \\nonumber \\\\\n",
    "    \\frac{dC}{dt} &= - z C + e a C R\n",
    "\\end{align}\n",
    "\n",
    "where, \n",
    "\n",
    "* $C$ and $R$ are consumer (e.g., predator) and resource (e.g., prey) population abundances (either number $\\times$ area$^{-1}$ ).\n",
    "* $r$ is the intrinsic (per-capita) growth rate of the resource population (time$^{-1}$).\n",
    "* $a$ is per-capita \"search rate\" for the resource ($\\text{area}\\times \\text{time}^{-1}$)  multiplied by its attack success probability, which determines the encounter and consumption rate of the consumer on the resource.\n",
    "* $z$ is mortality rate ($\\text{time}^{-1}$) and $e$ is the consumer's efficiency (a fraction) in converting resource to consumer biomass.\n",
    "\n",
    "We have already imported scipy above (`import scipy as sc`) so we can proceed to solve the LV model using numerical integration. \n",
    "\n",
    "First, import `scipy`'s `integrate` submodule:"
   ]
  },
  {
   "cell_type": "markdown",
   "metadata": {},
   "source": [
    "Now define a function that returns the growth rate of consumer and resource population at any given time step."
   ]
  },
  {
   "cell_type": "code",
   "execution_count": null,
   "metadata": {},
   "outputs": [],
   "source": [
    "def dCR_dt(pops, t=0):\n",
    "\n",
    "    R = pops[0]\n",
    "    C = pops[1]\n",
    "    dRdt = r * R - a * R * C \n",
    "    dCdt = -z * C + e * a * R * C\n",
    "    \n",
    "    return np.array([dRdt, dCdt])"
   ]
  },
  {
   "cell_type": "code",
   "execution_count": null,
   "metadata": {
    "scrolled": true
   },
   "outputs": [],
   "source": [
    "type(dCR_dt)"
   ]
  },
  {
   "cell_type": "markdown",
   "metadata": {},
   "source": [
    "So `dCR_dt` has been stored as a function object in the current Python session, all ready to go. \n",
    "\n",
    "Now assign some parameter values:"
   ]
  },
  {
   "cell_type": "code",
   "execution_count": null,
   "metadata": {},
   "outputs": [],
   "source": [
    "r = 1.\n",
    "a = 0.1 \n",
    "z = 1.5\n",
    "e = 0.75"
   ]
  },
  {
   "cell_type": "markdown",
   "metadata": {},
   "source": [
    "Define the time vector; let's integrate from time point 0 to 15, using 1000 sub-divisions of time:"
   ]
  },
  {
   "cell_type": "code",
   "execution_count": null,
   "metadata": {},
   "outputs": [],
   "source": [
    "t = np.linspace(0, 15, 1000)"
   ]
  },
  {
   "cell_type": "markdown",
   "metadata": {},
   "source": [
    "Note that the units of time are arbitrary here. "
   ]
  },
  {
   "cell_type": "markdown",
   "metadata": {},
   "source": [
    "Set the initial conditions for the two populations (10 resources and 5 consumers per unit area), and convert the two into an array (because our `dCR_dt` function take an array as input). "
   ]
  },
  {
   "cell_type": "code",
   "execution_count": null,
   "metadata": {},
   "outputs": [],
   "source": [
    "R0 = 10\n",
    "C0 = 5 \n",
    "RC0 = np.array([R0, C0])"
   ]
  },
  {
   "cell_type": "markdown",
   "metadata": {},
   "source": [
    "Now numerically integrate this system forward from those starting conditions: "
   ]
  },
  {
   "cell_type": "code",
   "execution_count": null,
   "metadata": {},
   "outputs": [],
   "source": [
    "pops, infodict = integrate.odeint(dCR_dt, RC0, t, full_output=True)"
   ]
  },
  {
   "cell_type": "code",
   "execution_count": null,
   "metadata": {},
   "outputs": [],
   "source": [
    "pops"
   ]
  },
  {
   "cell_type": "markdown",
   "metadata": {},
   "source": [
    "So `pops` contains the result (the population trajectories).  Also check what's in infodict (it's a  dictionary with additional information)"
   ]
  },
  {
   "cell_type": "code",
   "execution_count": null,
   "metadata": {},
   "outputs": [],
   "source": [
    "type(infodict)"
   ]
  },
  {
   "cell_type": "code",
   "execution_count": null,
   "metadata": {},
   "outputs": [],
   "source": [
    "infodict.keys()"
   ]
  },
  {
   "cell_type": "markdown",
   "metadata": {},
   "source": [
    "Check what the `infodict` output is by reading the help documentation with `?scipy.integrate.odeint`. For example, you can return a message to screen about whether the integration was successful: "
   ]
  },
  {
   "cell_type": "code",
   "execution_count": null,
   "metadata": {},
   "outputs": [],
   "source": [
    "infodict['message']"
   ]
  },
  {
   "cell_type": "markdown",
   "metadata": {},
   "source": [
    "So it worked, great! \n",
    "\n",
    "But we would like to visualize the results. Let's do it using the `matplotlib` package. \n",
    "\n",
    "Again, to visualize the results of your numerical simulations in Python (or for data exploration/analyses), you can use `matplotlib`, which uses Matlab like plotting syntax.\n",
    "\n",
    "First import the package:"
   ]
  },
  {
   "cell_type": "code",
   "execution_count": null,
   "metadata": {},
   "outputs": [],
   "source": [
    "import matplotlib.pylab as p"
   ]
  },
  {
   "cell_type": "markdown",
   "metadata": {},
   "source": [
    "Now open an empty figure object (analogous to an R graphics object)."
   ]
  },
  {
   "cell_type": "code",
   "execution_count": null,
   "metadata": {
    "scrolled": true
   },
   "outputs": [],
   "source": [
    "f1 = p.figure()"
   ]
  },
  {
   "cell_type": "code",
   "execution_count": null,
   "metadata": {},
   "outputs": [],
   "source": [
    "p.plot(t, pops[:,0], 'g-', label='Resource density') # Plot\n",
    "p.plot(t, pops[:,1]  , 'b-', label='Consumer density')\n",
    "p.grid()\n",
    "p.legend(loc='best')\n",
    "p.xlabel('Time')\n",
    "p.ylabel('Population density')\n",
    "p.title('Consumer-Resource population dynamics')\n",
    "p.show()# To display the figure"
   ]
  },
  {
   "cell_type": "markdown",
   "metadata": {},
   "source": [
    "Finally, save the figure as a pdf:"
   ]
  },
  {
   "cell_type": "code",
   "execution_count": null,
   "metadata": {},
   "outputs": [],
   "source": [
    "f1.savefig('../results/LV_model.pdf') #Save figure"
   ]
  },
  {
   "cell_type": "markdown",
   "metadata": {},
   "source": [
    "```{tip} \n",
    "You can use many other graphics output formats in matplotlib; check the documentation of `p.savefig`.\n",
    "```"
   ]
  },
  {
   "cell_type": "markdown",
   "metadata": {},
   "source": [
    "## Practicals\n",
    "\n",
    "1. Create a self-standing script using the above example and save it as `LV1.py` in your code directory. In addition to generating the above figure, it should also generate the following figure: \n",
    "\n",
    "---\n",
    ":::{figure-md} LV-phase-plot\n",
    "\n",
    "\n",
    "<img src=\"./graphics/LV_model_CR.png\" alt=\"Lotka-Volterra phase plot\" width=\"400px\">\n",
    "\n",
    "**Generate this figure as part of the `LV1.py` script.** \n",
    "\n",
    ":::\n",
    "\n",
    "---\n",
    "\n",
    "It should save both figures in pdf to the `results` directory, *without displaying them on screen*."
   ]
  },
  {
   "cell_type": "markdown",
   "metadata": {},
   "source": [
    "## The need for speed: profiling code\n",
    "\n",
    "Donald Knuth says: *Premature optimization is the root of all evil*. \n",
    "\n",
    "Indeed, computational speed may not be your initial concern. Also, you should focus on developing clean, reliable, reusable code rather than worrying first about how fast your code runs. However, speed will become an issue when and if your analysis or modeling becomes complex enough (e.g., food web or large network simulations). In that case, knowing which parts of your code take the most time is useful – optimizing those parts may save you lots of time. \n",
    "\n",
    "### Profiling\n",
    "\n",
    "To find out what is slowing down your code you need to \"profile\" your code: locate the sections of your code where  speed bottlenecks exist. \n",
    "\n",
    "Profiling is easy in `ipython` – simply use the command: \n",
    "\n",
    "```python\n",
    "%run -p your_function_name\n",
    "```\n",
    "\n",
    "Let's write an illustrative program (name it `profileme.py`) and run it:"
   ]
  },
  {
   "cell_type": "code",
   "execution_count": null,
   "metadata": {},
   "outputs": [],
   "source": [
    "def my_squares(iters):\n",
    "    out = []\n",
    "    for i in range(iters):\n",
    "        out.append(i ** 2)\n",
    "    return out\n",
    "\n",
    "def my_join(iters, string):\n",
    "    out = ''\n",
    "    for i in range(iters):\n",
    "        out += string.join(\", \")\n",
    "    return out\n",
    "\n",
    "def run_my_funcs(x,y):\n",
    "    print(x,y)\n",
    "    my_squares(x)\n",
    "    my_join(x,y)\n",
    "    return 0\n",
    "\n",
    "run_my_funcs(10000000,\"My string\")"
   ]
  },
  {
   "cell_type": "markdown",
   "metadata": {},
   "source": [
    "Look carefully at what each of these functions does. \n",
    "\n",
    "Now run the script with `run -p profileme.py`, and you should see something like: \n",
    "\n",
    "```bash\n",
    "        20000063 function calls (20000062 primitive calls) in 9.026 seconds\n",
    "\n",
    "   Ordered by: internal time\n",
    "\n",
    "   ncalls  tottime  percall  cumtime  percall filename:lineno(function)\n",
    "        1    3.335    3.335    3.732    3.732 profileme.py:1(my_squares)\n",
    "        1    2.698    2.698    5.200    5.200 profileme.py:7(my_join)\n",
    " 10000001    2.502    0.000    2.502    0.000 {method 'join' of 'str' objects}\n",
    " 10000008    0.397    0.000    0.397    0.000 {method 'append' of 'list' objects}\n",
    "        1    0.093    0.093    9.025    9.025 profileme.py:13(run_my_funcs)\n",
    "[more output]\n",
    "```\n",
    "The column headings in the profiling results are:\n",
    "\n",
    "| Column name | Meaning |\n",
    "| :- | -  |\n",
    "| `filename:lineno(function)` | The filename, line number, and function name|\n",
    "| `ncalls`  | Number of times the function was called |\n",
    "| `tottime` | Total time spent in the function (excluding time spent in calls to sub-functions of that function)|\n",
    "| `percall` | `tottime` divided by `ncalls`|\n",
    "| `cumtime` | Cumulative time spent in the function *and* all its sub-functions|\n",
    "| `percall` | `cumtime` divided by `ncalls`|\n",
    "\n",
    "(Please also see the official Python [documentation](https://docs.python.org/3.6/library/profile.html)) \n",
    "\n",
    "The difference between `tottime` and `cumtime` columns often holds the most important information about performance. For example, in the above output, `cumtime` is much higher than `tottime` for `my_join` than for `my_squares`. This is because the sub-function (method) `join` is taking an additional 2.502 seconds (due to 10000001 calls), giving a `cumtime` of 2.698 + 2.502 = 5.2 seconds. In comparison, the sub-function (method) `append` is taking an additional 0.397 seconds (due to 10000008 calls), giving a `cumtime` of 3.335 + 0.397 = 3.732 seconds. Note also that the `tottime`s for `join` and `append` include the \"overhead\" of running their respective loop.\n",
    "\n",
    "Thus, we can infer that the `my_join` function is hogging most of the time, followed by `my_squares`, and furthermore, that its the string method `join` that is slowing `my_join` down, and list method `append` that is slowing `my_squares` down. In other words, `.join`ing the string, and `.append`ing values to a list repeatedly are both not particularly fast, though the latter is less costly.\n",
    "\n",
    "Can we do better? *Yes!* \n",
    "\n",
    "Let's try this alternative approach to writing the program (save it as `profileme2.py`, and again, run it):"
   ]
  },
  {
   "cell_type": "code",
   "execution_count": null,
   "metadata": {},
   "outputs": [],
   "source": [
    "def my_squares(iters):\n",
    "    out = [i ** 2 for i in range(iters)]\n",
    "    return out\n",
    "\n",
    "def my_join(iters, string):\n",
    "    out = ''\n",
    "    for i in range(iters):\n",
    "        out += \", \" + string\n",
    "    return out\n",
    "\n",
    "def run_my_funcs(x,y):\n",
    "    print(x,y)\n",
    "    my_squares(x)\n",
    "    my_join(x,y)\n",
    "    return 0\n",
    "\n",
    "run_my_funcs(10000000,\"My string\")"
   ]
  },
  {
   "cell_type": "markdown",
   "metadata": {},
   "source": [
    "We did two things: converted the loop to a list comprehension, and replaced the `.join` with an explicit string concatenation.\n",
    "\n",
    "Now profile this program (`run -p profileme2.py`), and you should get something like:\n",
    "\n",
    "```bash\n",
    "        64 function calls (63 primitive calls) in 4.585 seconds\n",
    "\n",
    "   Ordered by: internal time\n",
    "\n",
    "   ncalls  tottime  percall  cumtime  percall filename:lineno(function)\n",
    "        1    2.497    2.497    2.497    2.497 profileme2.py:2(<listcomp>)\n",
    "        1    1.993    1.993    1.993    1.993 profileme2.py:5(my_join)\n",
    "        1    0.094    0.094    4.584    4.584 profileme2.py:11(run_my_funcs)\n",
    "[more output]\n",
    "```\n",
    "\n",
    "Woo hoo! So we about halved the time! Not quite enough to grab a pint, but ah well...\n",
    " \n",
    "$\\star$ Another approach would be to preallocate a `numpy` array instead of using a list for `my_squares` - *Try it*\n",
    "\n",
    "You can also modify how the profiling results are displayed, and more, by using flags. For example, `-s` allows sorting the report by a particular column,  `-l`  limits the number of lines displayed or filters the results by function name, and `-T` saves the report in a text file.\n",
    "\n",
    "For example, try \n",
    "\n",
    "```python\n",
    "run -p -s cumtime profileme2.py\n",
    "```\n",
    "This will do the profiling and display the results sorted by `cumtime`.   "
   ]
  },
  {
   "cell_type": "markdown",
   "metadata": {},
   "source": [
    "### Profiling without ipython \n",
    "\n",
    "You may want to execute the code that you need to profile from outside IPython (e.g., using a bash script). In this case, we you can use the module cProfile (ipython actually uses this when you do `%run -p`). \n",
    "\n",
    "here is an example (run from bash): \n",
    "\n",
    "```bash\n",
    "python3 -m cProfile profileme2.py\n",
    "```\n",
    "\n",
    "Or, \n",
    "\n",
    "```bash\n",
    "python3 -m cProfile -o profires myscript.py\n",
    "```\n",
    "Here the results are stored in a file called `profires`, which can be read using the `pstats` module. Read the documentation of `cProfile` and `pstats` modules; there are many analyses you can perform on such exported  profiling reports."
   ]
  },
  {
   "cell_type": "markdown",
   "metadata": {},
   "source": [
    "### Quick profiling with `timeit`\n",
    "\n",
    "Additionally, you can use the `timeit` module if you want to figure out what the best way to do something specific as part of a larger program (say a particular command or a loop) might be.\n",
    "\n",
    "Type and run the following code in a python script called `timeitme.py`:\n",
    "\n",
    "```python\n",
    "##############################################################################\n",
    "# loops vs. list comprehensions: which is faster?\n",
    "##############################################################################\n",
    "\n",
    "iters = 1000000\n",
    "\n",
    "import timeit\n",
    "\n",
    "from profileme import my_squares as my_squares_loops\n",
    "\n",
    "from profileme2 import my_squares as my_squares_lc\n",
    "\n",
    "##############################################################################\n",
    "# loops vs. the join method for strings: which is faster?\n",
    "##############################################################################\n",
    "\n",
    "mystring = \"my string\"\n",
    "\n",
    "from profileme import my_join as my_join_join\n",
    "\n",
    "from profileme2 import my_join as my_join\n",
    "\n",
    "```\n",
    "Note how we imported the functions using `from profileme import my_squares as my_squares_loops`, etc., which highlights the convenience of Python's elegant object-oriented approach.\n",
    "\n",
    "Now run the two sets of comparisons using `timeit()` in ipython and make sure every line makes sense:\n",
    "\n",
    "```python\n",
    "%timeit my_squares_loops(iters)\n",
    "%timeit my_squares_lc(iters)\n",
    "%timeit (my_join_join(iters, mystring))\n",
    "%timeit (my_join(iters, mystring))\n",
    "```\n",
    "\n",
    "Note that embedding the `%timeit()` commands within the script won't work calling magic commands from inside a script is not a good idea!\n",
    "\n",
    "Of course, a simple approach would have been to time the functions like this:\n",
    "\n",
    "```python \n",
    "import time\n",
    "start = time.time()\n",
    "my_squares_loops(iters)\n",
    "print(f\"my_squares_loops takes {time.time() - start} s to run.\")\n",
    "\n",
    "start = time.time()\n",
    "my_squares_lc(iters)\n",
    "print(f\"my_squares_lc takes {time.time() - start} s to run.\")\n",
    "```\n",
    "But you'll notice that if you run it multiple times, the time taken changes each time. So `timeit` takes a sample of runs and returns the average, which is better.\n",
    "\n",
    "*But remember, don't go crazy with profiling for the sake of shaving a couple of milliseconds, tempting as that may be!*"
   ]
  },
  {
   "cell_type": "markdown",
   "metadata": {},
   "source": [
    "## Vectorization revisited"
   ]
  },
  {
   "cell_type": "markdown",
   "metadata": {},
   "source": [
    "We have now had fairly extensive practice in iteratively creating solutions to problems using for loops. Thus far all our problems have been mathematically quite straightforward, and not very computationally intensive. As you begin to move on from your taught modules into project work, you may find yourselves solving larger and more complex problems, at which point you will start to discover that for-loops have a fundamental weakness - speed!\n",
    "\n",
    "In a nutshell, there are two issues keeping loops slow:\n",
    "\n",
    "* Producing solutions to a large problem one loop iteration at a time means that our scripts and functions spend a lot of time doing stuff other than actually solving the problem we want them to solve - e.g. shuffling data around between variables in each loop iteration, or storing the result of the current loop's calculations in a (sometimes temporary) variable.\n",
    "* Loops (at least in Python) are not generally able to take advantage of the parallel computing capabilities of modern-day computers, and thus must literally compute a solution one loop iteration at a time. vectorized functions tend to be optimised to spread their computations over multiple processors/threads, which can be much faster!\n",
    "\n",
    "These issues become especially pronounced in the case of nested loops - which often appear in more spatially-explicit problems or time-dependent ones.\n",
    "\n",
    "The following two examples will showcase the difference in runtime between a loop method and a vectorized method using numpy. The first is a relatively simple (if artificial) problem, intended to demonstrate basically at-a-glace the difference between the two approaches. The second is taken from current research on metabolic models of bacterial communities.\n",
    "\n",
    "#### An example\n",
    "\n",
    "Let us imagine we have two simple 1D arrays $a = (a_1, a_2, ... , a_N)$ and $b = (b_1, b_2, ... ,b_N)$, each of length N, and that we want to calculate a new array $c$ in which each entry is just the product of the two corresponding entries in $a$ and $b$:\n",
    "\n",
    "$$c = (a_1 \\times b_1, a_2 \\times b_2, ... , a_N \\times b_N)$$\n",
    "\n",
    "This operation is called the *entrywise* product of $a$ and $b$.\n",
    "\n",
    "Below are a loop-based function and a vectorized function to calculate the entrywise product of two 1D arrays of the same length. We will test them both on larger and larger 1D arrays to see how the vectorized approach is faster."
   ]
  },
  {
   "cell_type": "code",
   "execution_count": null,
   "metadata": {},
   "outputs": [],
   "source": [
    "def loop_product(a, b):\n",
    "    N = len(a)\n",
    "    c = np.zeros(N)\n",
    "    for i in range(N):\n",
    "        c[i] = a[i] * b[i]   \n",
    "    return c\n",
    "\n",
    "\n",
    "def vect_product(a, b):\n",
    "    return np.multiply(a, b)"
   ]
  },
  {
   "cell_type": "markdown",
   "metadata": {},
   "source": [
    "The `multiply` function from numpy is a vectorized implementation of the elementwise product that we have explicitly written in the function `loop_product` above it. In general, numpy is an excellent choice for vectorized implementations of functions involving matrix maths (or maths using higher-dimensional analogues of matricies).\n",
    "\n",
    "Let's try comparing the runtimes of `loop_product` and `vect_product` on increasingly large randomly-generated 1D arrays:"
   ]
  },
  {
   "cell_type": "code",
   "execution_count": null,
   "metadata": {},
   "outputs": [],
   "source": [
    "import timeit\n",
    "\n",
    "array_lengths = [1, 100, 10000, 1000000, 10000000]\n",
    "t_loop = []\n",
    "t_vect = []\n",
    "\n",
    "for N in array_lengths:\n",
    "    print(f\"\\nSet {N=}\")\n",
    "    #randomly generate our 1D arrays of length N\n",
    "    a = np.random.rand(N)\n",
    "    b = np.random.rand(N)\n",
    "    \n",
    "    # time loop_product 3 times and save the mean execution time.\n",
    "    timer = timeit.repeat('loop_product(a, b)', globals=globals().copy(), number=3)\n",
    "    t_loop.append(1000 * np.mean(timer))\n",
    "    print(f\"Loop method took {t_loop[-1]} ms on average.\")\n",
    "    \n",
    "    # time vect_product 3 times and save the mean execution time.\n",
    "    timer = timeit.repeat('vect_product(a, b)', globals=globals().copy(), number=3)\n",
    "    t_vect.append(1000 * np.mean(timer))\n",
    "    print(f\"vectorized method took {t_vect[-1]} ms on average.\")"
   ]
  },
  {
   "cell_type": "markdown",
   "metadata": {},
   "source": [
    "Phew! That last one just exploded in terms of the time it took!\n",
    "\n",
    "Now let's compare the timings on a plot:"
   ]
  },
  {
   "cell_type": "code",
   "execution_count": null,
   "metadata": {},
   "outputs": [],
   "source": [
    "p.figure()\n",
    "p.plot(array_lengths, t_loop, label=\"loop method\")\n",
    "p.plot(array_lengths, t_vect, label=\"vect method\")\n",
    "p.xlabel(\"Array length\")\n",
    "p.ylabel(\"Execution time (ms)\")\n",
    "p.legend()\n",
    "p.show()"
   ]
  },
  {
   "cell_type": "markdown",
   "metadata": {},
   "source": [
    "### When to vectorize?\n",
    "\n",
    "Thus vectorizing your code can have it running in a fraction of the time it otherwise would. Why not always vectorize then?\n",
    "\n",
    "Generally, you should follow the same principles as with any code profiling: don't spend time speeding up code that isn't slow in the first place, or code which you will probably not need to run more than a small number of times.\n",
    "\n",
    "#### \"No free lunch!\"\n",
    "\n",
    "There are trade-offs to vectorizing, most notably memory usage. One downside of calculating many steps simultaneously is that your computer needs to hold much more in memory in order to do it. If you try to vectorize a problem thats *too* large, you will probably run into memory errors. One easy example is to re-run the above example, but make it **even bigger**:"
   ]
  },
  {
   "cell_type": "markdown",
   "metadata": {},
   "source": [
    "```python\n",
    "N = 1000000000\n",
    "\n",
    "a = np.random.rand(N)\n",
    "b = np.random.rand(N)\n",
    "c = vect_product(a, b)\n",
    "\n",
    "# if no error, remove a, b, c from memory.\n",
    "del a\n",
    "del b\n",
    "del c\n",
    "```"
   ]
  },
  {
   "cell_type": "markdown",
   "metadata": {},
   "source": [
    "This will almost certainly return a memory error (i.e. your computer ran out of RAM in which to store the entirety of the very large arrays $a$, $b$ and $c$ while it was still calculating (if you didn't get an error, try again with an extra 0 in $N$).\n",
    "\n",
    "Again, this is a rather contrived example - you probably won't be taking element-wise products of arrays with a billion entries in your research - but more complex problems can easily become too big for memory while still remaining biologically reasonable!\n",
    "\n",
    "*Check out the CMEE module on High Performance Computing to learn about using Imperial College's supercomputing cluster to run extremely large problems*\n",
    "\n",
    "```{tip}\n",
    "You can use the `multiprocessing` package for parallelizing your code on your own computer. \n",
    "```"
   ]
  },
  {
   "cell_type": "markdown",
   "metadata": {},
   "source": [
    "## Practicals\n",
    "\n",
    "### The Lotka-Volterra model revisited\n",
    "\n",
    "*What happens when the Consumer population $C$ goes extinct in the Lotka-Volterra that you encountered above*? \n",
    "\n",
    "If the consumer population goes extinct, the resources grow to infinity! This is not biologically realistic, of course. To address this, we can introduce density dependence to the resource population $\\left(1 - \\frac{R} {K}\\right)$, which changes the ODE system to\n",
    "\n",
    "\\begin{align}\n",
    "    \\frac{dR}{dt} &= r R \\left(1 - \\frac{R} {K}\\right) - a C R\\\\\n",
    "    \\frac{dC}{dt} &= - z C + e a C R\n",
    "\\end{align}\n",
    "\n",
    "The new parameter $K$ is the resource population's carrying capacity, which sets the upper limit on how large $R$ can get if the consumers go extinct. Basically, if you look carefully at the term $r R \\left(1 - \\frac{R} {K}\\right)$, you can see that when $N = K$, the term in the brackets goes to zero, and the resource population stops growing. \n",
    "\n",
    "Your task in this practical is to copy and modify `LV1.py` into another script called `LV2.py` that has the following features:\n",
    "\n",
    "*  It takes arguments for the four LV model parameters $r$, $a$, $z$, $e$, $K$ from the command line:\n",
    "```\n",
    "LV2.py arg1 arg2 ... etc\n",
    "```\n",
    "*  It runs our modified Lotka-Volterra model with resource density dependence.\n",
    "*  It saves the plot as `.pdf` in an appropriate location.\n",
    "*  The chosen parameter values should show in the plot (e.g., $r = 1, a = .5 $, etc) You can change time length $t$ too. \n",
    "* The parameters values should be adjusted such that both predator and prey persist with prey density dependence ( the final (non-zero) population values should be printed to screen). Try out different values of $K$ and exlore the model's behavior. One thing you might find is that that there is a critical value of $K$ below which the consumer and resource population just cannot coexist (both go extinct).  \n",
    "\n",
    "Also, include a script that runs both `LV1.py` and `LV2.py` with appropriate arguments. This script should also profile the two scripts and print the results to screen for each of the scripts using the `%run -p` approach. Look at and compare the speed bottlenecks in `LV1.py` and `LV2.py`. *Think about how you could further speed up the scripts.*\n",
    "\n",
    "\n",
    "### Groupwork practical: Compare R and Python Vectorization\n",
    "\n",
    "Implement the Python versions of `Vectorize1.R`and ` Vectorize2.R` [from the R Chapter](R-Vectorization) (call them `Vectorize1.py` and `Vectorize2.py` respectively). Then write a shell script that compares the computational speed of the four scripts. the script should display meaningful summary of the results in the terminal. In particular, it should print the timings of the equivalent R and Python functions (not just the timing of the R and Python scripts as a whole).\n",
    "\n",
    "### Groupwork practical: Discrete time LV Model\n",
    "\n",
    "*Write every subsequent extra credit script file with a new name such as `LV3.py`,`LV4.py`, etc.* \n",
    "\n",
    "* Write a discrete-time version of the LV model called `LV3.py`. The discrete-time model is:\n",
    "\n",
    "\\begin{align} \n",
    "    R_{t+1} &= R_t (1 + r \\left(1 - \\frac{R_t}{K}\\right) - a C_t)\\\\ \n",
    "    C_{t+1} &= C_t (1 - z + e a R_t) \n",
    "\\end{align}\n",
    "\n",
    "Include this script in `run_LV.py`, and profile it as well.\n",
    "\n",
    "### Groupwork practical: Discrete time LV model with stochasticity\n",
    "\n",
    "* Write a version of the discrete-time model (which you implemented in `LV3.py`) simulation with a random gaussian fluctuation in resource's growth rate at each time-step:\n",
    "\n",
    "\\begin{align}\n",
    "        R_{t+1} &= R_t (1 + (r + \\epsilon) \\left(1 - \\frac{R_t}{K}\\right)- a C_t)\\\\\n",
    "        C_{t+1} &= C_t (1 - z + e a R_t)\n",
    "\\end{align}\n",
    "\n",
    "where $\\epsilon$ is a random fluctuation drawn from a gaussian distribution (use `sc.stats` or `np.random`). Include this script in ` run_LV.py`, and profile it as well. You can also add fluctuations to both populations simultaneously this way: \n",
    "\n",
    "\\begin{align}\n",
    "    R_{t+1} &= R_t (1 + (r + \\epsilon)  \\left(1 - \\frac{R_t}{K}\\right) - a C_t)\\\\\n",
    "    C_{t+1} &= C_t (1 - (z + \\epsilon) + e a R_t)\n",
    "\\end{align}\n",
    "\n",
    "*As always, test, add, commit and push all your new code and data to your git repository.*"
   ]
  },
  {
   "cell_type": "markdown",
   "metadata": {},
   "source": [
    "(Python_II:python-regex)=\n",
    "## Regular expressions in Python\n",
    "\n",
    "Let's shift gears now, and look at a very important tool set that you should learn, or at least be aware of — *Regular expressions*. \n",
    "\n",
    "Regular expressions (regex) are a tool to find patterns (not just a particular sequence of characters) in strings. For example, `your@email.com` is a specific sequence of characters, but, in fact, all email addresses have such a pattern: alphanumeric characters, a \"@\", alphanumeric characters, a \".\", alphanumeric characters. Using regex, you can search for all email addresses in a text file by searching for this pattern.    \n",
    "\n",
    "There are many uses of regex, such as:\n",
    "\n",
    "* Parsing (reading) text files and finding and replacing or deleting specific patterns \n",
    "* Finding DNA motifs in sequence data\n",
    "* Navigating through files in a directory\n",
    "* Extracting information from html and xml files\n",
    "\n",
    "Thus, if you are interested in data mining, need to clean or process data in any other way, or convert a bunch of information into usable data, knowing regex is absolutely necessary.\n",
    "\n",
    "---\n",
    "\n",
    ":::{figure-md} XKCD-on-Regex\n",
    "\n",
    "<img src=\"./graphics/regex.png\" alt=\"XKCD on Regex\" width=\"400px\">\n",
    "\n",
    "**Regular expressions can really improve your quality of life.**<br> (Source: [XKCD](https://www.xkcd.com/208/)) \n",
    "\n",
    ":::\n",
    "\n",
    "---\n",
    "\n",
    "\n",
    "\n",
    "Regex packages are available for most programming languages (recall [`grep` in UNIX](Using-grep); that is how regex first became popular).\n",
    "\n",
    "### Metacharacters vs. regular characters\n",
    "\n",
    "A regex may consist of a combination of special \"metacharacters\" (modifiers) and \"regular\" or literal characters. There are 14 metacharacters: \n",
    "\n",
    "|Metacharacter|Description|\n",
    "|:-|:-|\n",
    "|`[` `]` |\tUsed to enclose a specific character \"class\" — the set of characters that you wish to match. For example,  `[12]` means match target to \"1\" and if that does not match then match target to \"2\"; `[0-9]` means match to any character in range \"0\" to \"9\"|\n",
    "|`\\`|\tInhibits the \"specialness\" of a (meta)character so that it can be interpreted literally. So, for example, use `\\.` to match an actual period, and  `\\\\` to match an actual back slash. |\n",
    "| `.` |\tMatch any character except line break (newline); e.g.,\t`he..o` will match *hello* as well as *he12o*\t|\n",
    "|`^` |\tIndicates that the string to be matched is at the start of a longer string; e.g., `^hello` will match \"hello\" in \"hello fellow!\", but not in \"fellow, hello!\" |\n",
    "|`$` |\tMatch the end of a string; for example, `world$` will match \"world\" in \"Hello world\", but not in \"Hello world!\"  \t|\n",
    "|`*` |\tMatch zero or more occurrences of the character or pattern that precedes it.|\n",
    "|`+` |\tMatch 1 or more occurrences of the character or pattern that precedes it.|\n",
    "|`?`| Match the preceding pattern element zero *or* one times|\n",
    "|`{` `}`| Match exactly the specified number of occurrences; e.g., `.{2}` finds the first two instances of any character (except newline)|\n",
    "| `|`|\tMatch either or\t|\n",
    "|`(` `)`|\tCapture and group; examples of this appear below |\t \t \n",
    "\n",
    "Everything other than these metacharacters is interpreted literally (e.g., *a* is matched by entering `a` in the regex) &ndash; a regular character. \n",
    "\n",
    "```{note} \n",
    "**The difference between `*`, `+`, and `?`**: \n",
    "`*` matches zero or more times, so whatever's being repeated may *not* be present at all, while `+` *requires* at least one occurrence. So, for example, `ra+t` will match \"rat\" (one 'a' is present) and \"raaat\" (three \"a\"s), but won't match \"rt\". On the other hand, `?` matches a pattern either once or zero times, so it makes the pattern matching more flexible. For example, `home-?brew` matches either \"homebrew\" or \"home-brew\".\n",
    "```"
   ]
  },
  {
   "cell_type": "markdown",
   "metadata": {},
   "source": [
    "### Regex special sequences\n",
    "\n",
    "Along with inhibiting the \"specialness\" of a metacharacter so that it can be interpreted literally (see examples in table above), the backslash (`\\`) can be followed by various standard character types to denote various *special sequences*. \n",
    "\n",
    "Below is a list of *commonly encountered* special sequences in [Unicode](https://en.wikipedia.org/wiki/Unicode) string patterns. For a complete list look [here](https://docs.python.org/3/library/re.html#re-syntax).\n",
    "\n",
    "|Sequence|Description|\n",
    "|:-|:-|\n",
    "|`\\d`| Matches any numeric (integer); this is equivalent to the regex class [0-9]|\n",
    "|`\\D`| Matches any non-digit character not covered by ` \\d` (i.e., match a non-digit); this is equivalent to the class [^0-9]|\n",
    "|`\\n`| Matches a newline|\n",
    "|`\\t`| Matches a tab space|\n",
    "|`\\s`|Matches any whitespace character; this is equivalent to the class [ \\t\\n\\r\\f\\v]| \n",
    "|`\\S`| Matches any non-whitespace character; this is equivalent to the class [^ \\t\\n\\r\\f\\v]|\n",
    "|`\\w`| Matches any \"alphanumeric\" character (including underscore); this is equivalent to the class [a-zA-Z0-9_]|\n",
    "|`\\W`| Matches any non-alphanumeric character not covered by `\\w`, i.e., any non-alphanumeric character excluding underscore, such as `?`, `!`, `+`, `<`, etc. ; this is equivalent to the class [^a-zA-Z0-9_]|\n",
    "\n",
    "In the above table, \n",
    "* `\\r` stands for a \"[carriage-return](https://en.wikipedia.org/wiki/Carriage_return#Computers)\", which is usually (but not always) the same as as a newline (`\\n`);\n",
    "* `\\f` stands fior [\"form feed\"](https://en.wikipedia.org/wiki/Page_break) (or a page break character)\n",
    "* `\\v` stands for  [\"vertical whitespace\"](https://en.wikipedia.org/wiki/Whitespace_character), which includes all characters treated as line breaks in the Unicode standard.\n",
    "\n",
    "These are rarely encountered, but can exist in certain text files.\n",
    "\n",
    "```{note}\n",
    "The reason why we have specified underscore as belonging to `\\w` (i.e., the regex set [A-Za-z0-9_]) is because this is the specification of this class in Python regex in particular. This class definition is shared by most, but not all regex \"flavors\" (i.e., regex in other languages, such as Perl or Bash (recall `grep`)). The goal is to not to worry about it, but to keep in mind that `\\w` will also match any pattern that includes one or more `_`'s!    \n",
    "```"
   ]
  },
  {
   "cell_type": "markdown",
   "metadata": {},
   "source": [
    "### Some regex examples\n",
    "\n",
    "So combining metacharacters, regular characters and special sequences allows you to find pretty much any pattern. Here are some examples:\n",
    "\n",
    "|Regex|Description|\n",
    "|:-|:-|\n",
    "|`aX9`| match the character string *aX9* exactly (case sensitively)| \n",
    "|`aX9\\n`| match the character string *aX9*  (case sensitively) followed by a newline| \n",
    "|`8`| match the number *8*|\n",
    "|`\\d8`| match the number *8* preceded by any decimal number|\n",
    "|`[atgc]` | match any character listed: `a`, `t`, `g`, `c`|\n",
    "| `at|gc`  | match `at` or `gc`|\n",
    "|`[^atgc]`| match any character not listed: any character except `a`, `t`, `g`, `c`|\n",
    "| `[^a-z]` | match everything except lower case *a* to *z* |\n",
    "| `[^Ff]`| match anything except upper or lower case *f* | \n",
    "|`\\w{n}`| match the preceding pattern  element (any alphanumeric character) *exactly* `n` times|\n",
    "|`\\w{n,}`| match the preceding pattern element (any alphanumeric character) *at least* `n` times|\n",
    "|`\\w{n,m}`| match the preceding pattern element (any alphanumeric character) at least `n` but not more than `m` times|\n",
    "\n",
    "```{tip}\n",
    "Metacharacters are not active inside classes. For example, `[a-z$]` will match any of the characters `a` to `z`, but also `$`, because inside a character class it loses its special metacharacter status.\n",
    "```"
   ]
  },
  {
   "cell_type": "markdown",
   "metadata": {},
   "source": [
    "### Regex in Python\n",
    "\n",
    "Regex functions in python are in the module `re`. \n",
    "\n",
    "Let's import it:"
   ]
  },
  {
   "cell_type": "code",
   "execution_count": null,
   "metadata": {},
   "outputs": [],
   "source": [
    "import re"
   ]
  },
  {
   "cell_type": "markdown",
   "metadata": {},
   "source": [
    "The simplest `python` regex function is `re.search`, which searches the string for match to a given pattern — returns a *match object* if a match is found and `None` if not. Thus, the command `match = re.search(pat, str)` finds matches of the pattern `pat` in the given string `str` and stores the search result in a variable named `match`.\n",
    "\n",
    "```{tip} \n",
    "**Always** put `r` in front of your regex — it tells python to read the regex in its \"raw\" (literal) form. Without raw string notation (`r\"text\"`), every backslash (`\\`) in a regular expression would have to be prefixed with another one to escape it. Read more about this [here](https://docs.python.org/3.5/library/re.html).\n",
    "```\n",
    "\n",
    "OK, let's try some regexes (type all that follows in `regexs.py`):"
   ]
  },
  {
   "cell_type": "code",
   "execution_count": null,
   "metadata": {},
   "outputs": [],
   "source": [
    "my_string = \"a given string\""
   ]
  },
  {
   "cell_type": "markdown",
   "metadata": {},
   "source": [
    "Find a space in the string:"
   ]
  },
  {
   "cell_type": "code",
   "execution_count": null,
   "metadata": {
    "scrolled": true
   },
   "outputs": [],
   "source": [
    "match = re.search(r'\\s', my_string)\n",
    "print(match)"
   ]
  },
  {
   "cell_type": "markdown",
   "metadata": {},
   "source": [
    "That's only telling you that a match was found (the object was created successfully). \n",
    "\n",
    "To see the match, use:"
   ]
  },
  {
   "cell_type": "code",
   "execution_count": null,
   "metadata": {},
   "outputs": [],
   "source": [
    "match.group()"
   ]
  },
  {
   "cell_type": "markdown",
   "metadata": {},
   "source": [
    "Now let's try another pattern:"
   ]
  },
  {
   "cell_type": "code",
   "execution_count": null,
   "metadata": {},
   "outputs": [],
   "source": [
    "match = re.search(r'\\d', my_string)"
   ]
  },
  {
   "cell_type": "code",
   "execution_count": null,
   "metadata": {
    "scrolled": true
   },
   "outputs": [],
   "source": [
    "print(match)"
   ]
  },
  {
   "cell_type": "markdown",
   "metadata": {},
   "source": [
    "No surprise, because there are no numeric characters in our string!"
   ]
  },
  {
   "cell_type": "markdown",
   "metadata": {},
   "source": [
    "To know whether a pattern was matched, we can use an `if`:"
   ]
  },
  {
   "cell_type": "code",
   "execution_count": null,
   "metadata": {},
   "outputs": [],
   "source": [
    "MyStr = 'an example'\n",
    "\n",
    "match = re.search(r'\\w*\\s', MyStr) # what pattern is this?\n",
    "\n",
    "if match:                      \n",
    "    print('found a match:', match.group()) \n",
    "else:\n",
    "    print('did not find a match')    "
   ]
  },
  {
   "cell_type": "markdown",
   "metadata": {},
   "source": [
    "Here are some more regexes (add all that follows to `regexs.py`):"
   ]
  },
  {
   "cell_type": "code",
   "execution_count": null,
   "metadata": {},
   "outputs": [],
   "source": [
    "match = re.search(r'2' , \"it takes 2 to tango\")\n",
    "match.group()"
   ]
  },
  {
   "cell_type": "code",
   "execution_count": null,
   "metadata": {
    "scrolled": true
   },
   "outputs": [],
   "source": [
    "match = re.search(r'\\d' , \"it takes 2 to tango\")\n",
    "match.group()"
   ]
  },
  {
   "cell_type": "code",
   "execution_count": null,
   "metadata": {},
   "outputs": [],
   "source": [
    "match = re.search(r'\\d.*' , \"it takes 2 to tango\")\n",
    "match.group()"
   ]
  },
  {
   "cell_type": "code",
   "execution_count": null,
   "metadata": {
    "scrolled": true
   },
   "outputs": [],
   "source": [
    "match = re.search(r'\\s\\w{1,3}\\s', 'once upon a time')\n",
    "match.group()"
   ]
  },
  {
   "cell_type": "code",
   "execution_count": null,
   "metadata": {},
   "outputs": [],
   "source": [
    "match = re.search(r'\\s\\w*$', 'once upon a time')\n",
    "match.group()"
   ]
  },
  {
   "cell_type": "markdown",
   "metadata": {},
   "source": [
    "Let's switch to a more compact syntax by directly returning the matched group (by directly appending `.group()` to the result)."
   ]
  },
  {
   "cell_type": "code",
   "execution_count": null,
   "metadata": {},
   "outputs": [],
   "source": [
    "re.search(r'\\w*\\s\\d.*\\d', 'take 2 grams of H2O').group()"
   ]
  },
  {
   "cell_type": "code",
   "execution_count": null,
   "metadata": {},
   "outputs": [],
   "source": [
    "re.search(r'^\\w*.*\\s', 'once upon a time').group() # 'once upon a '"
   ]
  },
  {
   "cell_type": "markdown",
   "metadata": {},
   "source": [
    " Note that *, `+`, and `{ }` are all \"greedy\":  They repeat the previous regex token as many times as possible. \n",
    "\n",
    "As a result, they may match more text than you want. To make it non-greedy and terminate at the first found instance of a pattern, use `?`:"
   ]
  },
  {
   "cell_type": "code",
   "execution_count": null,
   "metadata": {},
   "outputs": [],
   "source": [
    "re.search(r'^\\w*.*?\\s', 'once upon a time').group()"
   ]
  },
  {
   "cell_type": "markdown",
   "metadata": {},
   "source": [
    "To further illustrate greediness in regexes, let's try matching an HTML tag:"
   ]
  },
  {
   "cell_type": "code",
   "execution_count": null,
   "metadata": {},
   "outputs": [],
   "source": [
    "re.search(r'<.+>', 'This is a <EM>first</EM> test').group()"
   ]
  },
  {
   "cell_type": "markdown",
   "metadata": {},
   "source": [
    "But we wanted just `<EM>`!  \n",
    "\n",
    "It's because `+` is greedy. Instead, we can make `+` \"lazy\":"
   ]
  },
  {
   "cell_type": "code",
   "execution_count": null,
   "metadata": {},
   "outputs": [],
   "source": [
    "re.search(r'<.+?>', 'This is a <EM>first</EM> test').group()"
   ]
  },
  {
   "cell_type": "markdown",
   "metadata": {},
   "source": [
    "OK, moving on from greed and laziness..."
   ]
  },
  {
   "cell_type": "code",
   "execution_count": null,
   "metadata": {},
   "outputs": [],
   "source": [
    "re.search(r'\\d*\\.?\\d*','1432.75+60.22i').group()"
   ]
  },
  {
   "cell_type": "markdown",
   "metadata": {},
   "source": [
    "Note `\\` before the `.`, to be able to find a literal `.` \n",
    "\n",
    "Otherwise, `re.search` will consider it to be a regex element (`.` means \"match any character except newline\").\n",
    "\n",
    "A couple more examples:"
   ]
  },
  {
   "cell_type": "code",
   "execution_count": null,
   "metadata": {},
   "outputs": [],
   "source": [
    "re.search(r'[AGTC]+', 'the sequence ATTCGT').group()"
   ]
  },
  {
   "cell_type": "code",
   "execution_count": null,
   "metadata": {},
   "outputs": [],
   "source": [
    "re.search(r'\\s+[A-Z]\\w+\\s*\\w+', \"The bird-shit frog's name is Theloderma asper.\").group()"
   ]
  },
  {
   "cell_type": "markdown",
   "metadata": {},
   "source": [
    "---\n",
    "\n",
    ":::{figure-md} Theloderma-asper\n",
    "\n",
    "<img src=\"./graphics/thelodermaasper.JPG\" alt=\"Bird-shit Frog\" width=\"350px\">\n",
    "\n",
    "**In case you were wondering what *Theloderma asper*, the \"bird-shit frog\", looks like.** Samraat snapped this one in a North-East Indian rainforest ages ago. \n",
    "\n",
    ":::\n",
    "\n",
    "---"
   ]
  },
  {
   "cell_type": "markdown",
   "metadata": {},
   "source": [
    "How about looking for email addresses in a string? For example, let's try matching a string consisting of an academic's name, email address and research area or interest (no need to type this into any python file):"
   ]
  },
  {
   "cell_type": "code",
   "execution_count": null,
   "metadata": {},
   "outputs": [],
   "source": [
    "MyStr = 'Samraat Pawar, s.pawar@imperial.ac.uk, Systems biology and ecological theory'\n",
    "match = re.search(r\"[\\w\\s]+,\\s[\\w\\.@]+,\\s[\\w\\s]+\",MyStr)\n",
    "match.group()"
   ]
  },
  {
   "cell_type": "markdown",
   "metadata": {},
   "source": [
    "Note the use of `[ ]`'s: for example, `[\\w\\s]` ensures that any combination of word characters and spaces is found. \n",
    "\n",
    "Let's see if this regex works on a different pattern of email addresses: "
   ]
  },
  {
   "cell_type": "code",
   "execution_count": null,
   "metadata": {},
   "outputs": [],
   "source": [
    "MyStr = 'Samraat Pawar, s-pawar@imperial.ac.uk, Systems biology and ecological theory'"
   ]
  },
  {
   "cell_type": "code",
   "execution_count": null,
   "metadata": {
    "scrolled": true
   },
   "outputs": [],
   "source": [
    "match = re.search(r\"[\\w\\s]+,\\s[\\w\\.@]+,\\s[\\w\\s]+\",MyStr)\n",
    "match.group()"
   ]
  },
  {
   "cell_type": "markdown",
   "metadata": {},
   "source": [
    "Nope! So let's make the email address part of the regex more robust:"
   ]
  },
  {
   "cell_type": "code",
   "execution_count": null,
   "metadata": {},
   "outputs": [],
   "source": [
    "match = re.search(r\"[\\w\\s]+,\\s[\\w\\.-]+@[\\w\\.-]+,\\s[\\w\\s]+\",MyStr)\n",
    "match.group()"
   ]
  },
  {
   "cell_type": "markdown",
   "metadata": {},
   "source": [
    "### Practicals: Some RegExercises\n",
    "\n",
    "The following exercises are not for submission as part of your coursework, but we will discuss them in class on a subsequent day.\n",
    "\n",
    "1. Try the regex we used above for finding names (`[\\w\\s]+`) for cases where the person's name has something unexpected, like a `?` or a `+`. Does it work? How can you make it more robust? \n",
    "* Translate the following regular expressions into regular English:\n",
    "    * `r'^abc[ab]+\\s\\t\\d'`\n",
    "    * `r'^\\d{1,2}\\/\\d{1,2}\\/\\d{4}$'`\n",
    "    * `r'\\s*[a-zA-Z,\\s]+\\s*'`\n",
    "* Write a regex to match dates in format YYYYMMDD, making sure that:\n",
    "    * Only seemingly valid dates match (i.e., year greater than 1900)\n",
    "    * First digit in month is either 0 or 1\n",
    "    * First digit in day $\\leq 3$ "
   ]
  },
  {
   "cell_type": "markdown",
   "metadata": {},
   "source": [
    "### Grouping regex patterns \n",
    "\n",
    "You can group regex patterns into meaningful blocks using parentheses. Let's look again at the example of finding  email addresses."
   ]
  },
  {
   "cell_type": "code",
   "execution_count": null,
   "metadata": {},
   "outputs": [],
   "source": [
    "MyStr = 'Samraat Pawar, s.pawar@imperial.ac.uk, Systems biology and ecological theory'\n",
    "match = re.search(r\"[\\w\\s]+,\\s[\\w\\.-]+@[\\w\\.-]+,\\s[\\w\\s]+\",MyStr)\n",
    "match.group()"
   ]
  },
  {
   "cell_type": "markdown",
   "metadata": {},
   "source": [
    "Without grouping the regex:"
   ]
  },
  {
   "cell_type": "code",
   "execution_count": null,
   "metadata": {},
   "outputs": [],
   "source": [
    "match.group(0)"
   ]
  },
  {
   "cell_type": "markdown",
   "metadata": {},
   "source": [
    "Now create groups using `( )`:"
   ]
  },
  {
   "cell_type": "code",
   "execution_count": null,
   "metadata": {},
   "outputs": [],
   "source": [
    "match = re.search(r\"([\\w\\s]+),\\s([\\w\\.-]+@[\\w\\.-]+),\\s([\\w\\s&]+)\",MyStr)\n",
    "if match:\n",
    "    print(match.group(0))\n",
    "    print(match.group(1))\n",
    "    print(match.group(2))\n",
    "    print(match.group(3))"
   ]
  },
  {
   "cell_type": "markdown",
   "metadata": {},
   "source": [
    "Nice! This is very handy for extracting specific patterns from text data. Note that we excluded the `,`'s and the `\\s`'s from the grouping parentheses because we don't want them to be returned in the match group list. \n",
    "\n",
    "Have a look at `re4.py` in the TheMulQuaBio's code repository for more on parsing email addresses using regexes."
   ]
  },
  {
   "cell_type": "markdown",
   "metadata": {},
   "source": [
    "### Useful `re` commands\n",
    "\n",
    "Here are some important functions in the `re` module:\n",
    "\n",
    "|Command|What it does|\n",
    "|:-|:-|\n",
    "| `re.search(reg, text)`| Scans the string and finds the first match of the pattern, returning a `match` object if successful and `None` otherwise.|\n",
    "| `re.match(reg, text)`| Like `re.search`, but only matches the beginning of the string.|\n",
    "| `re.compile(reg)`| Compiles (stores) a regular expression for repeated use, improving efficiency.|\n",
    "| `re.split(ref, text)`| Splits the text by the occurrence of the pattern described by the regular expression.|\n",
    "| `re.findall(ref, text)`| Like `re.search`, but returns a list of all matches. If groups are present, returns a list of groups.|\n",
    "| `re.finditer(ref, text)`| Like `re.findall`, but returns an iterator containing the match objects over which you can iterate. Useful for \"crawling\" efficiently through text till you find all necessary number of matches.|\n",
    "| `re.sub(ref, repl, text)`|  Substitutes each non-overlapping occurrence of the match with the text in `repl`.|\n",
    "|||\n",
    "\n",
    "Many of these commands also work on whole contents of files. We will look at an example of this below. Let us try some particularly useful applications of some of these commands.\n",
    "\n",
    "### Finding all matches\n",
    "\n",
    "Above we used re.search() to find the first match for a pattern. In many scenarios, you will need to find *all* the matches of a pattern. The function `re.findall()` does precisely this and returns all matches as a list of strings, with each string representing one match.\n",
    "\n",
    "Let's try this on an extension of the email example above for some data with multiple addresses: "
   ]
  },
  {
   "cell_type": "code",
   "execution_count": null,
   "metadata": {},
   "outputs": [],
   "source": [
    "MyStr = \"Samraat Pawar, s.pawar@imperial.ac.uk, Systems biology and ecological theory; Another academic, a-academic@imperial.ac.uk, Some other stuff thats equally boring; Yet another academic, y.a_academic@imperial.ac.uk, Some other stuff thats even more boring\""
   ]
  },
  {
   "cell_type": "markdown",
   "metadata": {},
   "source": [
    "Now `re.findall()` returns a list of all the emails found:"
   ]
  },
  {
   "cell_type": "code",
   "execution_count": null,
   "metadata": {
    "scrolled": true
   },
   "outputs": [],
   "source": [
    "emails = re.findall(r'[\\w\\.-]+@[\\w\\.-]+', MyStr) \n",
    "for email in emails:\n",
    "    print(email)"
   ]
  },
  {
   "cell_type": "markdown",
   "metadata": {},
   "source": [
    "Nice! "
   ]
  },
  {
   "cell_type": "markdown",
   "metadata": {},
   "source": [
    "### Finding in files\n",
    "\n",
    "You will generally be wanting to apply regex searches to whole files. You might be tempted to write a loop to iterate over the lines of the file, calling `re.findall()` on each line. However, `re.findall()` can return a list of all the matches in a single step. \n",
    "\n",
    "Let's try finding all species names that correspond to Oaks in a data file:"
   ]
  },
  {
   "cell_type": "code",
   "execution_count": null,
   "metadata": {
    "scrolled": true
   },
   "outputs": [],
   "source": [
    "f = open('../data/TestOaksData.csv', 'r')\n",
    "found_oaks = re.findall(r\"Q[\\w\\s].*\\s\", f.read())\n",
    "\n",
    "found_oaks"
   ]
  },
  {
   "cell_type": "markdown",
   "metadata": {},
   "source": [
    "This works because recall that `f.read()` returns the whole text of a file in a single string). Also, the file is closed after reading."
   ]
  },
  {
   "cell_type": "markdown",
   "metadata": {},
   "source": [
    "### Groups within multiple matches\n",
    "\n",
    "Grouping pattern matches using `( )` as you learned above, can be combined with `re.findall()`. If the pattern includes *two or more* groups, then instead of returning a list of strings, `re.findall()` returns a list of tuples. Each tuple represents one match of the pattern, and inside the tuple is group(1), group(2), etc.\n",
    "\n",
    "Let's try it:"
   ]
  },
  {
   "cell_type": "code",
   "execution_count": null,
   "metadata": {},
   "outputs": [],
   "source": [
    "MyStr = \"Samraat Pawar, s.pawar@imperial.ac.uk, Systems biology and ecological theory; Another academic, a.academic@imperial.ac.uk, Some other stuff thats equally boring; Yet another academic, y.a.academic@imperial.ac.uk, Some other stuff thats even more boring\"\n",
    "\n",
    "found_matches = re.findall(r\"([\\w\\s]+),\\s([\\w\\.-]+@[\\w\\.-]+)\", MyStr)\n",
    "found_matches"
   ]
  },
  {
   "cell_type": "code",
   "execution_count": null,
   "metadata": {
    "scrolled": true
   },
   "outputs": [],
   "source": [
    "for item in found_matches:\n",
    "    print(item)"
   ]
  },
  {
   "cell_type": "markdown",
   "metadata": {},
   "source": [
    "### Extracting text from webpages\n",
    "\n",
    "OK, let's step up the ante here. How about extracting text from a web page to create your own data? Let's try extracting data from [this page](https://www.imperial.ac.uk/silwood-park/academic-staff/).\n",
    "\n",
    "You will need a new package `urllib3`. Install it, and import it (also `import re` if needed). "
   ]
  },
  {
   "cell_type": "code",
   "execution_count": null,
   "metadata": {},
   "outputs": [],
   "source": [
    "import urllib3"
   ]
  },
  {
   "cell_type": "code",
   "execution_count": null,
   "metadata": {},
   "outputs": [],
   "source": [
    "conn = urllib3.PoolManager() # open a connection\n",
    "r = conn.request('GET', 'https://www.imperial.ac.uk/silwood-park/academic-staff/') \n",
    "webpage_html = r.data #read in the webpage's contents"
   ]
  },
  {
   "cell_type": "markdown",
   "metadata": {},
   "source": [
    "This is returned as bytes (not strings). "
   ]
  },
  {
   "cell_type": "code",
   "execution_count": null,
   "metadata": {},
   "outputs": [],
   "source": [
    "type(webpage_html)"
   ]
  },
  {
   "cell_type": "markdown",
   "metadata": {},
   "source": [
    "So decode it (remember, the default decoding that this method applies is *utf-8*):"
   ]
  },
  {
   "cell_type": "code",
   "execution_count": null,
   "metadata": {},
   "outputs": [],
   "source": [
    "My_Data  = webpage_html.decode()\n",
    "#print(My_Data)"
   ]
  },
  {
   "cell_type": "markdown",
   "metadata": {},
   "source": [
    "That's a lot of potentially useful information! Let's extract all the names of academics:"
   ]
  },
  {
   "cell_type": "code",
   "execution_count": null,
   "metadata": {
    "scrolled": true
   },
   "outputs": [],
   "source": [
    "pattern = r\"Dr\\s+\\w+\\s+\\w+\"\n",
    "regex = re.compile(pattern) # example use of re.compile(); you can also ignore case  with re.IGNORECASE \n",
    "for match in regex.finditer(My_Data): # example use of re.finditer()\n",
    "    print(match.group())"
   ]
  },
  {
   "cell_type": "markdown",
   "metadata": {},
   "source": [
    "Again, nice! However, its' not perfect. \n",
    "\n",
    "You can improve this by:\n",
    "* Extracting Prof names as well\n",
    "* Eliminating the repeated matches\n",
    "* Grouping to separate title from first and second names\n",
    "* Extracting names that have unexpected characters, such as in hyphenated names (a \"-\" in the name)\n",
    "\n",
    "*Try making these improvements.*\n",
    "\n",
    "Of course, you can match and extract other types of patterns as well, such as urls and email addresses (though this example web page does not have email addresses)."
   ]
  },
  {
   "cell_type": "markdown",
   "metadata": {},
   "source": [
    "### Replacing text\n",
    "\n",
    "Using the same web page data, let's try using the `re.sub` command on the same web page data (`My_Data`) to replace text:"
   ]
  },
  {
   "cell_type": "code",
   "execution_count": null,
   "metadata": {},
   "outputs": [],
   "source": [
    "New_Data = re.sub(r'\\t',\" \", My_Data) # replace all tabs with a space\n",
    "# print(New_Data)"
   ]
  },
  {
   "cell_type": "markdown",
   "metadata": {},
   "source": [
    "### Practicals\n",
    "\n",
    "#### Blackbirds problem\n",
    "\n",
    "Complete the code `blackbirds.py` that you find in the `TheMulQuaBio` (necessary data file is also there)."
   ]
  },
  {
   "cell_type": "markdown",
   "metadata": {},
   "source": [
    "## Using Python to build workflows\n",
    "\n",
    "You can use python to build an automated data analysis or simulation workflow that involves multiple languages, especially the ones you have already learnt: R, $\\LaTeX$, and UNIX bash. For example, you could, in theory, write a single Python script to generate and update your masters dissertation, tables, plots, and all. Python is ideal for building such workflows because it has packages for practically every purpose.\n",
    "\n",
    "*Thus this topic may be useful for your [Miniproject](Appendix-MiniProj.ipynb), which will involve building a reproducible computational workflow.*\n",
    "\n",
    "### Using `subprocess`\n",
    "\n",
    "For building a workflow in Python the `subprocess` module is key. With this module you can run non-Python commands and scripts, obtain their outputs, and also crawl through and manipulate directories. \n",
    "\n",
    "First, import the module (this is part of the python standard library, so you won't need to install it):"
   ]
  },
  {
   "cell_type": "code",
   "execution_count": null,
   "metadata": {},
   "outputs": [],
   "source": [
    "import subprocess"
   ]
  },
  {
   "cell_type": "markdown",
   "metadata": {},
   "source": [
    "#### Running processes\n",
    "\n",
    "There are two main ways to run commands through subprocess: `run` (available in Python 3.5 onwards) for basic usage, and `Popen` (`P`rocess `open`) for more advanced usage. We will work directly with `popen` because `run()` is a wrapper around `Popen`. Using `Popen` directly gives more control over how the command is run, and how its input and output are processed. \n",
    "\n",
    "Let's try running some commands in the UNIX bash. \n",
    "\n",
    "$\\star$ In a terminal, first `cd` to your `code` directory,  launch `ipython3`, then and type:"
   ]
  },
  {
   "cell_type": "code",
   "execution_count": null,
   "metadata": {},
   "outputs": [],
   "source": [
    "p = subprocess.Popen([\"echo\", \"I'm talkin' to you, bash!\"], stdout=subprocess.PIPE, stderr=subprocess.PIPE)"
   ]
  },
  {
   "cell_type": "markdown",
   "metadata": {},
   "source": [
    "This creates an object `p`, from which you can extract the output and other information of the command you ran. Before we do anything more, let's look at our `subprocess.popen` call carefully. \n",
    "\n",
    "* The command line arguments were passed as a list of strings, which avoids the need for escaping quotes or other special characters that might be interpreted by the shell (for example, in this case, there are apostrophes in the string that is being `echo`ed in bash).\n",
    "* `stdout` is the output from the process \"spawned\" by your command. This is a sequence of bytes (which you will need to decode - more on this below). \n",
    "* `stderr` is the error code (from which you can capture whether the process ran successfully or not). The method PIPE creates a new \"pipe\" (literally, a connection) to the output of to the \"child\"  process."
   ]
  },
  {
   "cell_type": "code",
   "execution_count": null,
   "metadata": {},
   "outputs": [],
   "source": [
    "stdout, stderr = p.communicate()"
   ]
  },
  {
   "cell_type": "code",
   "execution_count": null,
   "metadata": {},
   "outputs": [],
   "source": [
    "stderr"
   ]
  },
  {
   "cell_type": "markdown",
   "metadata": {},
   "source": [
    "Nothing here, because the echo command does no return an any code. the `b` indicates that the output is in bits (unencoded). By default, stdout, stderr (and other outputs of `p.communicate`) are returned as binary (byte) format.\n",
    "\n",
    "Now check what's in `stdout`:"
   ]
  },
  {
   "cell_type": "code",
   "execution_count": null,
   "metadata": {},
   "outputs": [],
   "source": [
    "stdout"
   ]
  },
  {
   "cell_type": "markdown",
   "metadata": {},
   "source": [
    "Let's encode and print it."
   ]
  },
  {
   "cell_type": "code",
   "execution_count": null,
   "metadata": {
    "scrolled": true
   },
   "outputs": [],
   "source": [
    "print(stdout.decode())"
   ]
  },
  {
   "cell_type": "markdown",
   "metadata": {},
   "source": [
    "You can also use a `universal_newlines = True` so that these outputs are returned as encoded text (default being *utf-8* usually), with  line endings converted to '\\n'. For more information [see the documentation](https://docs.python.org/3.5/library/subprocess.html).\n",
    "\n",
    "Let's try something else: "
   ]
  },
  {
   "cell_type": "code",
   "execution_count": null,
   "metadata": {},
   "outputs": [],
   "source": [
    "p = subprocess.Popen([\"ls\", \"-l\"], stdout=subprocess.PIPE)\n",
    "stdout, stderr = p.communicate()"
   ]
  },
  {
   "cell_type": "markdown",
   "metadata": {},
   "source": [
    "Now use `print(stdout.decode())` to see the output."
   ]
  },
  {
   "cell_type": "markdown",
   "metadata": {},
   "source": [
    "Recall that the `ls -l` command lists all files in a long listing format. \n",
    "\n",
    "You can also call python itself from bash (!):"
   ]
  },
  {
   "cell_type": "markdown",
   "metadata": {},
   "source": [
    "```python\n",
    "p = subprocess.Popen([\"python3\", \"boilerplate.py\"], stdout=subprocess.PIPE, stderr=subprocess.PIPE) # A bit silly! \n",
    "stdout, stderr = p.communicate()\n",
    "\n",
    "print(stdout.decode())\n",
    "```\n",
    "\n",
    "This should give you the output of your `boilerplate.py` script (remember, your current path will need to be in the appropriate code directory of the relevant week's directory). "
   ]
  },
  {
   "cell_type": "markdown",
   "metadata": {},
   "source": [
    "Similarly, to compile a $\\LaTeX$ document (using `pdflatex` in this case), you can do something like:\n",
    "\n",
    "```python\n",
    "subprocess.os.system(\"pdflatex yourlatexdoc.tex\")\n",
    "```"
   ]
  },
  {
   "cell_type": "markdown",
   "metadata": {},
   "source": [
    "### Running `R`\n",
    "\n",
    "R is likely an important part of your project's analysis and data visualization components in particular — for example for statistical analyses and plotting. You can run `R` from Python easily:\n",
    "\n",
    "$\\star$ Create an R script file called `TestR.R` in your `code` directory with the following content:\n",
    "\n",
    "```r\n",
    "print(\"Hello, this is R!\")\n",
    "```\n",
    "\n",
    "Then try running it from your bash terminal (*not* from the Python terminal) (e.g., using `Rscript TestR.R`). This should return in your terminal:\n",
    "\n",
    "```bash\n",
    "[1] \"Hello, this is R!\"`\n",
    "```\n",
    "\n",
    "Then the try `Rscript --verbose TestR.R`. Thhis should return something like:\n",
    "\n",
    "```bash\n",
    "  '/usr/lib/R/bin/R --no-echo --no-restore --file=TestR.R'\n",
    "\n",
    "[1] \"Hello, this is R!\"\n",
    "```\n",
    "\n",
    "Thus the `--verbose` flag to `Rscript` prints out addtional information about the R script's execution. \n",
    "\n",
    "```{note}\n",
    "It is possible that the location of `RScript` is different in your Unix/Linux system. To locate it, try `find /usr -name 'Rscript'` in the bash terminal (not in Python!). For example, you might need to specify the path to it using `/usr/lib/R/bin/Rscript`.\n",
    "```\n",
    "\n",
    "Now try:\n",
    "\n",
    "```bash\n",
    "Rscript --verbose TestR.R > ../results/TestR.Rout 2> ../results/TestR_errFile.Rout\n",
    "```\n",
    "\n",
    "Then check the contents of `TestR.Rout` and `TestR_errFile.Rout`. The former should contain the output of the R script, and the latter the additonal information produced due to the `--verbose` flag. \n",
    "\n",
    "Now try running this using subprocess instead:"
   ]
  },
  {
   "cell_type": "code",
   "execution_count": null,
   "metadata": {},
   "outputs": [],
   "source": [
    "subprocess.Popen(\"Rscript --verbose TestR.R > ../results/TestR.Rout 2> ../results/TestR_errFile.Rout\", shell=True).wait()"
   ]
  },
  {
   "cell_type": "markdown",
   "metadata": {},
   "source": [
    "There are two three new things here compared to what we did above when running a bash instead of a R command. Firtly, we are using `shell = True`. This is because we want subprocess to execute a non-standard bash command (RScript is not a stadard bash command) in the standard unix/linux shell. Secondly, we added `.wait()` to allow the RScript to terminate (this allows us to set timeout id necessary). Thirdly, we removed the  `stdout=subprocess.PIPE, stderr=subprocess.PIPE` bits, because they will not work when using `wait()`. Read [the documentation](https://docs.python.org/3/library/subprocess.html) tolearn more."
   ]
  },
  {
   "cell_type": "markdown",
   "metadata": {},
   "source": [
    "Now, create a script `TestR.py` with the following content :"
   ]
  },
  {
   "cell_type": "code",
   "execution_count": null,
   "metadata": {},
   "outputs": [],
   "source": [
    "import subprocess\n",
    "p = subprocess.Popen(\"Rscript --verbose TestR.R > ../results/TestR.Rout 2> ../results/TestR_errFile.Rout\", shell=True).wait()"
   ]
  },
  {
   "cell_type": "markdown",
   "metadata": {},
   "source": [
    "\n",
    "Now run `TestR.py` (or `%cpaste`) and check`TestR.Rout` and `TestR_errorFile.Rout`.\n",
    "\n",
    "Also check what happens if you run (type directly in `ipython` or `python` console):"
   ]
  },
  {
   "cell_type": "code",
   "execution_count": null,
   "metadata": {},
   "outputs": [],
   "source": [
    "subprocess.Popen(\"Rscript --verbose NonExistScript.R > ../results/outputFile.Rout 2> ../results/errorFile.Rout\", shell=True).wait()"
   ]
  },
  {
   "cell_type": "markdown",
   "metadata": {},
   "source": [
    "What do you see on the screen? \n",
    "\n",
    "Now open and check `outputFile.Rout`and `errorFile.Rout.\n"
   ]
  },
  {
   "cell_type": "markdown",
   "metadata": {},
   "source": [
    "### Handling directory and file paths\n",
    "\n",
    "You can also use `subprocess.os` to make your code OS (Linux, Windows, Mac) independent. For example to assign paths:"
   ]
  },
  {
   "cell_type": "code",
   "execution_count": null,
   "metadata": {
    "scrolled": true
   },
   "outputs": [],
   "source": [
    "subprocess.os.path.join('directory', 'subdirectory', 'file')"
   ]
  },
  {
   "cell_type": "markdown",
   "metadata": {},
   "source": [
    "The result would be appropriately different on Windows (with backslashes instead of forward slashes).\n",
    "\n",
    "Note that in all cases you can \"catch\" the output of `subprocess` so that you can then use the output within your\n",
    "python script. A simple example, where the output is a platform-dependent directory path, is:"
   ]
  },
  {
   "cell_type": "code",
   "execution_count": null,
   "metadata": {},
   "outputs": [],
   "source": [
    "MyPath = subprocess.os.path.join('directory', 'subdirectory', 'file')\n",
    "MyPath"
   ]
  },
  {
   "cell_type": "markdown",
   "metadata": {},
   "source": [
    "```{tip}\n",
    "Explore the various commands within `subprocess` by hitting the tap key after typing `subprocess.`. Do the same for submodules, e.g., type `subprocess.os.` and then hit  the tab key.\n",
    "```"
   ]
  },
  {
   "cell_type": "markdown",
   "metadata": {},
   "source": [
    "### Practicals\n",
    "\n",
    "#### Using `subprocess` to run a R script   \n",
    "\n",
    "Open `fmr.R` and work out what it does; check that you have `NagyEtAl1999.csv`. Now write python code called `run_fmr_R.py` that:\n",
    "\n",
    "Runs `fmr.R` to generate the desired result\n",
    "\n",
    "`run_fmr_R.py` should also print to the python screen whether the run was successful, and the contents of the R console output\n",
    "\n",
    "#### Using `os` to crawl directories\n",
    "\n",
    "Open `using_os.py` and complete the tasks assigned (hint: you might want to look at `subprocess.os.walk()`)"
   ]
  },
  {
   "cell_type": "markdown",
   "metadata": {},
   "source": [
    "## Networks in Python\n",
    "\n",
    "ALL biological systems have a network representation, consisting of nodes for the biological entities of interest, and edges or links for the relationships between them. Here are some examples:\n",
    "* Metabolic networks\n",
    "* Gene regulatory networks\n",
    "* Individual-Individual (e.g., social networks)\n",
    "* Who-eats-whom (Food web) networks\n",
    "* Mutualistic (e.g., plant-pollinator) networks\n",
    "\n",
    "*Can you think of a few more examples from biology?*\n",
    "\n",
    "You can easily simulate, analyze, and visualize biological networks in both `python` and `R` using some nifty packages. A full network analysis tutorial is out of the scope of our Python module's objectives, but let's try a simple visualization using the ` networkx` python package.\n",
    "\n",
    "For this you need to first install the package, for example, by using:\n",
    "\n",
    "```bash\n",
    "sudo apt-get install python3-networkx\n",
    "```\n",
    "\n",
    "### Food web network example\n",
    "\n",
    "As an example, let's plot a food web network. \n",
    "\n",
    "The best way to store a food web dataset is as an \"adjacency list\" of who eats whom: a matrix with consumer name/id in 1st column, and resource name/id in 2nd column, and a separate matrix of species names/ids and properties such as biomass (node's abundance), or average body mass. You will see what these data structures look like below. \n",
    "\n",
    "First, import the necessary modules:"
   ]
  },
  {
   "cell_type": "code",
   "execution_count": null,
   "metadata": {},
   "outputs": [],
   "source": [
    "import networkx as nx\n",
    "import scipy as sc\n",
    "import matplotlib.pylab as p"
   ]
  },
  {
   "cell_type": "markdown",
   "metadata": {},
   "source": [
    "Let's generate a \"synthetic\" food web. We can do this with the following function that generates a random adjacency list of a $N$-species food web with \"connectance probability\" $C$: the probability of having a link between any pair of species in the food web. "
   ]
  },
  {
   "cell_type": "code",
   "execution_count": null,
   "metadata": {},
   "outputs": [],
   "source": [
    "def GenRdmAdjList(N = 2, C = 0.5):\n",
    "    \"\"\" \n",
    "    \"\"\"\n",
    "    Ids = range(N)\n",
    "    ALst = []\n",
    "    for i in Ids:\n",
    "        if np.random.uniform(0,1,1) < C:\n",
    "            Lnk = np.random.choice(Ids,2).tolist()\n",
    "            if Lnk[0] != Lnk[1]: #avoid self (e.g., cannibalistic) loops\n",
    "                ALst.append(Lnk)\n",
    "    return ALst"
   ]
  },
  {
   "cell_type": "markdown",
   "metadata": {},
   "source": [
    "Note that we are using a uniform random distribution between `[0,1]` to generate a connectance probability between each species pair. "
   ]
  },
  {
   "cell_type": "markdown",
   "metadata": {},
   "source": [
    "Now assign number of species (`MaxN`) and connectance (`C`):"
   ]
  },
  {
   "cell_type": "code",
   "execution_count": null,
   "metadata": {},
   "outputs": [],
   "source": [
    "MaxN = 30\n",
    "C = 0.75"
   ]
  },
  {
   "cell_type": "markdown",
   "metadata": {},
   "source": [
    "Now generate an adjacency list representing a random food web:"
   ]
  },
  {
   "cell_type": "code",
   "execution_count": null,
   "metadata": {
    "scrolled": true
   },
   "outputs": [],
   "source": [
    "AdjL = np.array(GenRdmAdjList(MaxN, C))\n",
    "AdjL"
   ]
  },
  {
   "cell_type": "markdown",
   "metadata": {},
   "source": [
    "So that's what an adjacency list looks like. The two columns of numbers correspond to the consumer and resource ids, respectively.  \n",
    "\n",
    "Now generate species (node) data:"
   ]
  },
  {
   "cell_type": "code",
   "execution_count": null,
   "metadata": {},
   "outputs": [],
   "source": [
    "Sps = np.unique(AdjL) # get species ids"
   ]
  },
  {
   "cell_type": "markdown",
   "metadata": {},
   "source": [
    "Now generate body sizes for the species. We will use a log$_{10}$ scale because species body sizes tend to be [log-normally distributed](08-Data_R.ipynb#Histograms)."
   ]
  },
  {
   "cell_type": "code",
   "execution_count": null,
   "metadata": {
    "scrolled": true
   },
   "outputs": [],
   "source": [
    "SizRan = ([-10,10]) #use log10 scale\n",
    "Sizs = np.random.uniform(SizRan[0],SizRan[1],MaxN)\n",
    "Sizs"
   ]
  },
  {
   "cell_type": "markdown",
   "metadata": {},
   "source": [
    "Let's visualize the size distribution we have generated."
   ]
  },
  {
   "cell_type": "code",
   "execution_count": null,
   "metadata": {},
   "outputs": [],
   "source": [
    "p.hist(Sizs) #log10 scale"
   ]
  },
  {
   "cell_type": "code",
   "execution_count": null,
   "metadata": {},
   "outputs": [],
   "source": [
    "p.hist(10 ** Sizs) #raw scale"
   ]
  },
  {
   "cell_type": "markdown",
   "metadata": {},
   "source": [
    "Now let's plot the network, with node sizes proportional to (log) body size:"
   ]
  },
  {
   "cell_type": "code",
   "execution_count": null,
   "metadata": {},
   "outputs": [],
   "source": [
    "p.close('all') # close all open plot objects"
   ]
  },
  {
   "cell_type": "markdown",
   "metadata": {},
   "source": [
    "Let's use a circular configuration. For this, we need to calculate the coordinates, easily done using networkx:"
   ]
  },
  {
   "cell_type": "code",
   "execution_count": null,
   "metadata": {},
   "outputs": [],
   "source": [
    "pos = nx.circular_layout(Sps)"
   ]
  },
  {
   "cell_type": "markdown",
   "metadata": {},
   "source": [
    "See `networkx.layout` for inbuilt functions to compute other types of node coordinates.\n",
    "\n",
    "Now generate a networkx graph object:"
   ]
  },
  {
   "cell_type": "code",
   "execution_count": null,
   "metadata": {},
   "outputs": [],
   "source": [
    "G = nx.Graph()"
   ]
  },
  {
   "cell_type": "markdown",
   "metadata": {},
   "source": [
    "Now add the nodes and links (edges) to it:"
   ]
  },
  {
   "cell_type": "code",
   "execution_count": null,
   "metadata": {},
   "outputs": [],
   "source": [
    "G.add_nodes_from(Sps)\n",
    "G.add_edges_from(tuple(AdjL))"
   ]
  },
  {
   "cell_type": "markdown",
   "metadata": {},
   "source": [
    "Note that the function `add_edges_from` needs the adjacency list as a tuple."
   ]
  },
  {
   "cell_type": "markdown",
   "metadata": {},
   "source": [
    "Now generate node sizes that are proportional to (log) body sizes:"
   ]
  },
  {
   "cell_type": "code",
   "execution_count": null,
   "metadata": {},
   "outputs": [],
   "source": [
    "NodSizs= 1000 * (Sizs-min(Sizs))/(max(Sizs)-min(Sizs)) "
   ]
  },
  {
   "cell_type": "markdown",
   "metadata": {},
   "source": [
    "Now render (plot) the graph:"
   ]
  },
  {
   "cell_type": "code",
   "execution_count": null,
   "metadata": {},
   "outputs": [],
   "source": [
    "nx.draw_networkx(G, pos, node_size = NodSizs)"
   ]
  },
  {
   "cell_type": "markdown",
   "metadata": {},
   "source": [
    "You might get a warning. In that case, try upgrading the networkx package.   \n",
    "\n",
    "### Practicals\n",
    "\n",
    "#### Plot the foodweb\n",
    "\n",
    "Type the above code for plotting a food web network in a program file called `DrawFW.py`. This file should save the plotted network as a pdf.   \n",
    "\n",
    "#### Groupwork: networks in R \n",
    "\n",
    "You can also do nice network visualizations in R. Here you will convert a network visualization script written in `R` using the `igraph` package to a python script that does the same thing.\n",
    "\n",
    "* First copy the script file called `Nets.R` and the data files it calls and run it. This script visualizes the [QMEE CDT collaboration network](http://www.imperial.ac.uk/qmee-cdt), coloring the the nodes by the type of node (organization type: \"University\",\"Hosting Partner\", \"Non-hosting Partner\").\n",
    "\n",
    "* Now, convert this script to a Python script that does the same thing, including writing to a `.svg` file using the same QMEE CDT link and node data. You can use `networkx` or some other python network visualization package."
   ]
  },
  {
   "cell_type": "markdown",
   "metadata": {},
   "source": [
    "## Readings and Resources\n",
    "\n",
    "### Scientific computing\n",
    "\n",
    "* In general, scores of good module/package-specific cookbooks are out there — google \"cookbook\" along with the name of the package you are interested in (e.g., \"scipy cookbook\").\n",
    "\n",
    "* For SciPy, read the [official documentation](https://docs.scipy.org/doc/); in particular, read about the scipy [modules](https://docs.scipy.org/doc/scipy/reference/) you think will be important to you.\n",
    "\n",
    "* The \"ecosystem\" for Scientific computing in python: <http://www.scipy-lectures.org/>\n",
    "\n",
    "* Many great examples of applications in the [scipy cookbook](https://scipy-cookbook.readthedocs.io/)\n",
    "\n",
    "* Scipy stats: https://docs.scipy.org/doc/scipy/reference/tutorial/stats.html\n",
    "\n",
    "* A Primer on Scientific Programming with Python <http://www.springer.com/us/book/9783642549595>; Multiple copies of this book are available from the central library and can be requested to Silwood from the IC library website. You can also find a pdf - seach online.\n",
    "\n",
    "### Regular expressions\n",
    "\n",
    "* Python regex documentation: https://docs.python.org/3.6/howto/regex.html\n",
    "\n",
    "* Google's short class on regex in python: https://developers.google.com/edu/python/regular-expressions\n",
    "And this exercise: https://developers.google.com/edu/python/exercises/baby-names\n",
    "\n",
    "* Good intro to regex, tips and a great array of canned solutions: http://www.regular-expressions.info\n",
    "\n",
    "* Use and abuse of regex: <https://blog.codinghorror.com/regex-use-vs-regex-abuse/>\n",
    "\n",
    "### Other stuff\n",
    "\n",
    "* [The matplotlib website](http://matplotlib.org)\n",
    "\n",
    "* Alternatives to matplotlib for plotting in python: https://towardsdatascience.com/matplotlib-vs-seaborn-vs-plotly-f2b79f5bddb\n",
    "\n",
    "* Some of you might find the python package `biopython` particularly useful — check out <http://biopython.org/>, and especially, the cookbook"
   ]
  }
 ],
 "metadata": {
  "kernelspec": {
   "display_name": "Python 3 (ipykernel)",
   "language": "python",
   "name": "python3"
  },
  "language_info": {
   "codemirror_mode": {
    "name": "ipython",
    "version": 3
   },
   "file_extension": ".py",
   "mimetype": "text/x-python",
   "name": "python",
   "nbconvert_exporter": "python",
   "pygments_lexer": "ipython3",
   "version": "3.10.12"
  },
  "latex_envs": {
   "LaTeX_envs_menu_present": true,
   "autoclose": false,
   "autocomplete": false,
   "bibliofile": "biblio.bib",
   "cite_by": "apalike",
   "current_citInitial": 1,
   "eqLabelWithNumbers": true,
   "eqNumInitial": 1,
   "hotkeys": {
    "equation": "Ctrl-E",
    "itemize": "Ctrl-I"
   },
   "labels_anchors": false,
   "latex_user_defs": false,
   "report_style_numbering": false,
   "user_envs_cfg": false
  },
  "toc": {
   "base_numbering": 1,
   "nav_menu": {},
   "number_sections": true,
   "sideBar": false,
   "skip_h1_title": false,
   "title_cell": "Contents",
   "title_sidebar": "Contents",
   "toc_cell": false,
   "toc_position": {
    "height": "600.8px",
    "left": "48px",
    "top": "135.2px",
    "width": "248.8px"
   },
   "toc_section_display": false,
   "toc_window_display": false
  }
 },
 "nbformat": 4,
 "nbformat_minor": 4
}