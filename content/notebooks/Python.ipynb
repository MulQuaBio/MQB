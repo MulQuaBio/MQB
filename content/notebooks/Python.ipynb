{
 "cells": [
  {
   "cell_type": "markdown",
   "metadata": {
    "slideshow": {
     "slide_type": "slide"
    }
   },
   "source": [
    "# Biological Computing in Python"
   ]
  },
  {
   "cell_type": "markdown",
   "metadata": {
    "slideshow": {
     "slide_type": "slide"
    },
    "tags": [
     "remove-cell"
    ]
   },
   "source": [
    "<!-- **First, the UNIX Chapter's challenge question!**\n",
    "```bash\n",
    "find . -type f -exec ls -s {} \\; | sort -n | head -10\n",
    "```\n",
    "*What is the command doing? How has it been built (explain the components)?* -->"
   ]
  },
  {
   "cell_type": "markdown",
   "metadata": {
    "slideshow": {
     "slide_type": ""
    },
    "tags": []
   },
   "source": [
    "```{epigraph}\n",
    "...some things in life are bad. They can really make you mad. Other things just make you swear and curse. When you're chewing on life's gristle, don't grumble; give a whistle, and this'll help things turn out for the best. And... always look on the bright side of life... \n",
    "\n",
    "-- Monty Python\n",
    "\n",
    "```"
   ]
  },
  {
   "cell_type": "markdown",
   "metadata": {
    "slideshow": {
     "slide_type": "slide"
    }
   },
   "source": [
    "## Introduction\n",
    "\n",
    "Python is a modern, easy-to-write, interpreted (semi-compiled) programming language that was conceived with readability of code in mind. It has a numerous of feature-rich packages that can be used for a wide variety of biological applications and analyses."
   ]
  },
  {
   "cell_type": "markdown",
   "metadata": {
    "slideshow": {
     "slide_type": "subslide"
    }
   },
   "source": [
    "This chapter is intended to teach you scientific programming in biology using Python. Specifically, you will learn:\n",
    "\n",
    "* Basics of Python syntax and data structures\n",
    "\n",
    "* Python's object-oriented features\n",
    "\n",
    "* Learning to use the `ipython` environment\n",
    "\n",
    "* How to write and run python code\n",
    "\n",
    "* Understand and implement Python control flow tools\n",
    "\n",
    "* Writing, debugging, using, and testing Python functions\n",
    "\n",
    "* Learning efficient numerical programming in Python\n",
    "\n",
    "* Using regular expressions in Python\n",
    "\n",
    "* Introduction to particularly useful Python packages\n",
    "\n",
    "* Using Python to run other, non-python tasks and code\n",
    "\n",
    "* Using Python to patch together data analysis and/or numerical simulation work flows"
   ]
  },
  {
   "cell_type": "markdown",
   "metadata": {
    "slideshow": {
     "slide_type": "subslide"
    }
   },
   "source": [
    "(Python:Why-python)=\n",
    "### Why Python?\n",
    "\n",
    "Python was designed with readability and re-usability in mind. Time taken by programming + debugging + running is likely to be relatively lower in python than less intuitive or cluttered languages (e.g., FORTRAN, Perl). \n",
    "\n",
    "Python is a pretty good solution if you want to easily write readable code that is also reasonably efficient computationally (see the figure below). \n",
    "\n",
    "---\n",
    ":::{figure-md}\n",
    "<img src=\"./graphics/benchmarks.svg\" alt=\"Language speeds\" width=\"700px\">\n",
    "\n",
    "**Python's numerical computing performance compared to some others**. Smaller numbers are better. Note that the y-axis is in $\\log_{10}$ scale. <br>\n",
    "(Source: <http://julialang.org/>)\n",
    "\n",
    ":::\n",
    "\n",
    "---"
   ]
  },
  {
   "cell_type": "markdown",
   "metadata": {
    "slideshow": {
     "slide_type": "subslide"
    }
   },
   "source": [
    "### Python versions \n",
    "\n",
    "We will use python 3; For python 2 vs 3 history, [read this](https://wiki.python.org/moin/Python2orPython3)."
   ]
  },
  {
   "cell_type": "markdown",
   "metadata": {
    "slideshow": {
     "slide_type": "slide"
    }
   },
   "source": [
    "(Python:Some-terminology)=\n",
    "### Some terminology \n",
    "\n",
    "*What does \"float\" mean?* You will inevitably run into some such jargon in this chapter. The main ones you need to know are (you will learn more about these along the way):\n",
    "\n",
    "| Term | Meaning | \n",
    "|:-|:-| \n",
    "|Workspace | The \"environment\" of your current python *session*, including all variables, functions, objects, etc.|\n",
    "|Variable| A named number, text string, boolean (`True` or `False`), or data structure that can change (more on variable and data types later)|\n",
    "|Function| A computer procedure or routine that performs operations and returns some value(s), and which can be used again and again|\n",
    "|Module| *Variables* and *functions* packaged into a single set of programs that can be invoked as a re-useable command (potentially with sub-commands)|\n",
    "|Class| A way of grouping *Variables* and *functions* into a single object with specific properties that are inherited when you create its copy. Unlike *modules*, you can create (\"spawn\") many copies of a *class* within a python session or program|\n",
    "|Object|  A particular instance of a class (every object belongs to a class) that is created in a session and eventually destroyed; everything in your workspace is an object in python!|"
   ]
  },
  {
   "cell_type": "markdown",
   "metadata": {
    "slideshow": {
     "slide_type": "subslide"
    }
   },
   "source": [
    "This Module vs. Class vs. Object business is confusing. These constructs are created to make an (object-oriented) programming language like Python more flexible and user friendly (though it might not seem so to you currently!). In practice, at least for your current purposes, you will not build you own python classes much (but will use the inbuilt Python classes).You will however write your own modules. More on all this later (in the second Python Chapter). \n",
    "\n",
    "```{note}\n",
    "**Data \"structures\" vs. \"objects\"**: You will often see the terms \"object\" and \"data structure\" used in this and other chapters. These two have a very distinct meaning in object-oriented programming (OOP) languages like Python and R. A data structure is just a \"dumb\" container for data (e.g., a vector). An object, on the other hand can be a data structure, but also any other variable or a function. Python, being an OOP language, converts everything in the current environment to an object so that it knows what to do with each such entity &mdash; each object type has its own set of rules for operations and manipulations that Python uses when interpreting your commands. \n",
    "```"
   ]
  },
  {
   "cell_type": "markdown",
   "metadata": {
    "slideshow": {
     "slide_type": "slide"
    }
   },
   "source": [
    "## Getting started with Python\n",
    "\n",
    "OK, so let's get started with Python. \n",
    "\n",
    "$\\star$ In your bash terminal (or by opening a new one with `ctrl+alt+t`), type:\n",
    "\n",
    "```bash\n",
    "python3\n",
    "```\n",
    "You will get a new command prompt that looks like this:\n",
    "```\n",
    ">>>\n",
    "```"
   ]
  },
  {
   "cell_type": "markdown",
   "metadata": {
    "slideshow": {
     "slide_type": "skip"
    }
   },
   "source": [
    "### Baby steps\n",
    "\n",
    "Now, try some simple operations:"
   ]
  },
  {
   "cell_type": "code",
   "execution_count": 7,
   "metadata": {
    "slideshow": {
     "slide_type": "skip"
    }
   },
   "outputs": [
    {
     "data": {
      "text/plain": [
       "4"
      ]
     },
     "execution_count": 7,
     "metadata": {},
     "output_type": "execute_result"
    }
   ],
   "source": [
    "2 + 2 # Summation; note that comments still start with #"
   ]
  },
  {
   "cell_type": "code",
   "execution_count": 8,
   "metadata": {
    "slideshow": {
     "slide_type": "skip"
    }
   },
   "outputs": [
    {
     "data": {
      "text/plain": [
       "4"
      ]
     },
     "execution_count": 8,
     "metadata": {},
     "output_type": "execute_result"
    }
   ],
   "source": [
    "2 * 2 # Multiplication"
   ]
  },
  {
   "cell_type": "code",
   "execution_count": 9,
   "metadata": {
    "slideshow": {
     "slide_type": "skip"
    }
   },
   "outputs": [
    {
     "data": {
      "text/plain": [
       "1.0"
      ]
     },
     "execution_count": 9,
     "metadata": {},
     "output_type": "execute_result"
    }
   ],
   "source": [
    "2 / 2 # division"
   ]
  },
  {
   "cell_type": "markdown",
   "metadata": {
    "slideshow": {
     "slide_type": "skip"
    }
   },
   "source": [
    "To specify an integer division, use `//`:"
   ]
  },
  {
   "cell_type": "code",
   "execution_count": 10,
   "metadata": {
    "slideshow": {
     "slide_type": "skip"
    }
   },
   "outputs": [
    {
     "data": {
      "text/plain": [
       "1"
      ]
     },
     "execution_count": 10,
     "metadata": {},
     "output_type": "execute_result"
    }
   ],
   "source": [
    "2//2"
   ]
  },
  {
   "cell_type": "code",
   "execution_count": 11,
   "metadata": {
    "slideshow": {
     "slide_type": "skip"
    }
   },
   "outputs": [
    {
     "data": {
      "text/plain": [
       "False"
      ]
     },
     "execution_count": 11,
     "metadata": {},
     "output_type": "execute_result"
    }
   ],
   "source": [
    "2 > 3 # logical operation"
   ]
  },
  {
   "cell_type": "code",
   "execution_count": 12,
   "metadata": {
    "slideshow": {
     "slide_type": "skip"
    }
   },
   "outputs": [
    {
     "data": {
      "text/plain": [
       "True"
      ]
     },
     "execution_count": 12,
     "metadata": {},
     "output_type": "execute_result"
    }
   ],
   "source": [
    "2 >= 2 # another one"
   ]
  },
  {
   "cell_type": "markdown",
   "metadata": {},
   "source": [
    "## The Zen of Python and good programming practices\n",
    "\n",
    "Type this in your Python terminal:"
   ]
  },
  {
   "cell_type": "code",
   "execution_count": 13,
   "metadata": {
    "scrolled": true
   },
   "outputs": [
    {
     "name": "stdout",
     "output_type": "stream",
     "text": [
      "The Zen of Python, by Tim Peters\n",
      "\n",
      "Beautiful is better than ugly.\n",
      "Explicit is better than implicit.\n",
      "Simple is better than complex.\n",
      "Complex is better than complicated.\n",
      "Flat is better than nested.\n",
      "Sparse is better than dense.\n",
      "Readability counts.\n",
      "Special cases aren't special enough to break the rules.\n",
      "Although practicality beats purity.\n",
      "Errors should never pass silently.\n",
      "Unless explicitly silenced.\n",
      "In the face of ambiguity, refuse the temptation to guess.\n",
      "There should be one-- and preferably only one --obvious way to do it.\n",
      "Although that way may not be obvious at first unless you're Dutch.\n",
      "Now is better than never.\n",
      "Although never is often better than *right* now.\n",
      "If the implementation is hard to explain, it's a bad idea.\n",
      "If the implementation is easy to explain, it may be a good idea.\n",
      "Namespaces are one honking great idea -- let's do more of those!\n"
     ]
    }
   ],
   "source": [
    "import this"
   ]
  },
  {
   "cell_type": "markdown",
   "metadata": {
    "slideshow": {
     "slide_type": ""
    },
    "tags": []
   },
   "source": [
    "They are Python's programming principles.\n",
    "\n",
    "*Think about and discuss with your class/coursemates what each of these programming principles mean.* \n",
    "\n",
    "The \"Dutch\" in one of them refers to  Guido van Rossum, inventor of the python language. \n",
    "\n",
    "[Here](https://inventwithpython.com/blog/2018/08/17/the-zen-of-python-explained/)'s one set of interpretations of these.\n",
    "\n",
    "In the rest of this chapter you are going to learn the following key elements of good programming practices, which you will then build upon in subsequent chapters:\n",
    "\n",
    "```{note}\n",
    "Adhering to these practices will result in more maintainable, efficient, and scalable code, enhancing collaboration and reducing future technical load, **irrespective of programming language**. \n",
    "```\n",
    "\n",
    "1. **Write Clear, Readable Code**\n",
    "   - Use names that clearly describe their purpose (meaningful variable / function / object names).\n",
    "   - Stick to a single naming convention/style (e.g., [camelCase](https://simple.wikipedia.org/wiki/CamelCase), [snake_case](https://en.wikipedia.org/wiki/Snake_case)).\n",
    "   - Provide concise comments and document code sections to explain their logic, especially for complex parts.\n",
    "\n",
    "2. **Make it Modular to the Max!**\n",
    "   - Functions (or \"methods\" - coming up later below) should perform one task (the [\"Single Responsibility Principle (SRP)\"](https://en.wikipedia.org/wiki/Single-responsibility_principle)).\n",
    "   - Break down large tasks into smaller, reusable functions.\n",
    "   - Avoid duplicating code; encapsulate repetitive logic in functions ([the \"Don't Repeat Yourself (DRY)\" principle](https://en.wikipedia.org/wiki/Don%27t_repeat_yourself)).\n",
    "\n",
    "3. **Handle Errors Gracefully**\n",
    "   - Use `try-except` blocks or other error-handling mechanisms to anticipate failures and handle them without crashing the program (coming up later in this Chapter).\n",
    "   - Provide meaningful error messages that help others (and yourself in the future!) understand what went wrong and how to fix it.\n",
    "\n",
    "4. **Test, Test, Test!**\n",
    "   - Write automated tests for individual units of code to ensure they behave as expected.\n",
    "   - Test code during development to catch bugs before they become difficult to track.\n",
    "\n",
    "5. **[Version Control](./Git.ipynb)**\n",
    "   - Commit frequently, with clear commit messages describing the purpose of the changes.\n",
    "   - Develop new features, solutions, or bug fixes in separate branches to avoid conflicts in the main branch.\n",
    "\n",
    "6. **Optimization**\n",
    "   - Write code that minimizes time (make it faster) and space (make its RAM usage smaller) complexity where possible.\n",
    "   - But focus first on functionality, then optimize only where performance is actually a bottleneck. Remember Donald Knuth's quote: \"*Premature optimizaton is the root of all evil*\"! \n",
    "\n",
    "7. **Use Consistent Code Style**\n",
    "   - Adhere to style guides (e.g., PEP 8 for Python - coming up below) to keep code consistent.\n",
    "   - Use automated tools to enforce coding standards and detect errors (use code formatting and linting tools).\n",
    "\n",
    "8. **Review Code**\n",
    "   - Have others review your code to catch issues and get feedback on design and implementation.\n",
    "   - Collaborative - use feedback from opthers to refine code and learn better practices.\n",
    "\n",
    "9. **Avoid Hardcoding!**\n",
    "   - Avoid hardcoding parameter values (e.g., absolute file paths, values of certain constants, settings) directly into the program. Use external inputs, global constants and external configuration files instead.\n",
    "\n",
    "10. **Refactor Regularly**\n",
    "   - Continuously improve code by removing redundancies, simplifying logic, or improving structure without changing functionality (aka \"Refactoring code\").\n",
    "   - Watch for and address patterns that indicate poor design (software nerds call it \"Code smell detection\"!):\n",
    "       - Duplicated code lines/blocks\n",
    "       - Overly complex functions (too long, performing multiple tasks, difficult to understand)\n",
    "       - Tightly coupled code (different components/functions/modules are so dependent on each other that changes in one requires changes in the other(s)). "
   ]
  },
  {
   "cell_type": "markdown",
   "metadata": {
    "slideshow": {
     "slide_type": "subslide"
    }
   },
   "source": [
    "## ipython\n",
    "\n",
    "Let's switch to the `i`nteractive python shell, `ipython` that you installed above.\n",
    "\n",
    "$\\star$ Type `ctrl+D` in the terminal at the python prompt: this will exit you from the python shell and you will see the bash prompt again.\n",
    "\n",
    "Now type \n",
    "```bash\n",
    "ipython3\n",
    "```\n",
    "\n",
    "After some text, you should now see the ipython prompt:\n",
    "\n",
    "```bash\n",
    "In [1]:\n",
    "``` "
   ]
  },
  {
   "cell_type": "markdown",
   "metadata": {
    "slideshow": {
     "slide_type": "fragment"
    }
   },
   "source": [
    "The ipython shell has many advantages over the bare-bones, non-interactive python shell (with the `>>>` prompt). For example, as in the bash shell, `TAB` leads to auto-completion of a command or file name (try it)."
   ]
  },
  {
   "cell_type": "markdown",
   "metadata": {
    "slideshow": {
     "slide_type": "skip"
    }
   },
   "source": [
    "### Magic commands\n",
    "\n",
    "IPython has \"magic commands\" (which start with % ; e.g., `%run`). Here are some useful magic commands:\n",
    "\n",
    "|  Command       |  What it does     |\n",
    "|:-  |:- | \n",
    "| `%who` | Shows current namespace (all variables, modules and functions)| \n",
    "| `%whos`| Also display the type of each variable; typing ` %whos function` only displays functions etc.| \n",
    "| `%pwd`| Print working directory| \n",
    "| `%history`|    Print recent commands| "
   ]
  },
  {
   "cell_type": "markdown",
   "metadata": {
    "slideshow": {
     "slide_type": "skip"
    }
   },
   "source": [
    "You can try any or all of these now. For example:"
   ]
  },
  {
   "cell_type": "code",
   "execution_count": 14,
   "metadata": {
    "slideshow": {
     "slide_type": "skip"
    }
   },
   "outputs": [
    {
     "name": "stdout",
     "output_type": "stream",
     "text": [
      "this\t x\t y\t \n"
     ]
    }
   ],
   "source": [
    "%who"
   ]
  },
  {
   "cell_type": "markdown",
   "metadata": {
    "slideshow": {
     "slide_type": "skip"
    }
   },
   "source": [
    "That is, there are no objects in your workspace yet. Let's create one:"
   ]
  },
  {
   "cell_type": "code",
   "execution_count": 15,
   "metadata": {
    "slideshow": {
     "slide_type": "skip"
    }
   },
   "outputs": [],
   "source": [
    "a = 1"
   ]
  },
  {
   "cell_type": "code",
   "execution_count": 16,
   "metadata": {
    "slideshow": {
     "slide_type": "skip"
    }
   },
   "outputs": [
    {
     "name": "stdout",
     "output_type": "stream",
     "text": [
      "a\t this\t x\t y\t \n"
     ]
    }
   ],
   "source": [
    "%who"
   ]
  },
  {
   "cell_type": "code",
   "execution_count": 17,
   "metadata": {
    "slideshow": {
     "slide_type": "skip"
    }
   },
   "outputs": [
    {
     "name": "stdout",
     "output_type": "stream",
     "text": [
      "Variable   Type      Data/Info\n",
      "------------------------------\n",
      "a          int       1\n",
      "this       module    <module 'this' from '/usr<...>/lib/python3.10/this.py'>\n",
      "x          int       0\n",
      "y          int       2\n"
     ]
    }
   ],
   "source": [
    "%whos"
   ]
  },
  {
   "cell_type": "markdown",
   "metadata": {
    "slideshow": {
     "slide_type": "skip"
    }
   },
   "source": [
    "### Determining an object's type\n",
    "\n",
    "Another useful IPython feature is the question mark, which can be used to find what a particular Python object is, including variables you created. For example, try: `?a`\n",
    "\n",
    "This will give you detailed information about this variable (which is an object, belonging to a particular class, because this is python!). \n",
    "\n",
    "You can also check a variable's type: "
   ]
  },
  {
   "cell_type": "code",
   "execution_count": 18,
   "metadata": {
    "slideshow": {
     "slide_type": "skip"
    }
   },
   "outputs": [
    {
     "data": {
      "text/plain": [
       "int"
      ]
     },
     "execution_count": 18,
     "metadata": {},
     "output_type": "execute_result"
    }
   ],
   "source": [
    "type(a)"
   ]
  },
  {
   "cell_type": "markdown",
   "metadata": {
    "slideshow": {
     "slide_type": "skip"
    }
   },
   "source": [
    "```{tip}\n",
    "You can configure ipython's environment and behavior by editing the `ipython_config.py` file, which is located in the `.ipython` directory of your `home` (on Linux/Ubuntu). This file does not initially exist, but you can create it by running `ipython profile create [profilename]` in a bash terminal. Then, edit it. For example, on Ubuntu you can \n",
    "\n",
    "`nano ~/.ipython/profile_default/ipython_config.py &`\n",
    "\n",
    "And then make the changes you want to the default ipython configuration. For example, If you don't like the blue\n",
    "`ipython` prompt, you can type `%colors linux` (once inside the shell). If you want to make this color the default, then edit the `ipython_config.py` — search for \"Set the color scheme\" option in the file.\n",
    "```"
   ]
  },
  {
   "cell_type": "markdown",
   "metadata": {
    "slideshow": {
     "slide_type": "skip"
    },
    "tags": []
   },
   "source": [
    "(Python:Python-variables)=\n",
    "## Python variables\n",
    "\n",
    "Now, let's continue our python intro. We will first learn about the python variable types that were mentioned above. The types are:"
   ]
  },
  {
   "cell_type": "code",
   "execution_count": 19,
   "metadata": {
    "slideshow": {
     "slide_type": "skip"
    }
   },
   "outputs": [
    {
     "data": {
      "text/plain": [
       "int"
      ]
     },
     "execution_count": 19,
     "metadata": {},
     "output_type": "execute_result"
    }
   ],
   "source": [
    "a = 2 #integer\n",
    "type(a)"
   ]
  },
  {
   "cell_type": "code",
   "execution_count": 20,
   "metadata": {
    "slideshow": {
     "slide_type": "skip"
    }
   },
   "outputs": [
    {
     "data": {
      "text/plain": [
       "float"
      ]
     },
     "execution_count": 20,
     "metadata": {},
     "output_type": "execute_result"
    }
   ],
   "source": [
    "a = 2. #Float\n",
    "type(a)"
   ]
  },
  {
   "cell_type": "code",
   "execution_count": 21,
   "metadata": {
    "slideshow": {
     "slide_type": "skip"
    }
   },
   "outputs": [
    {
     "data": {
      "text/plain": [
       "str"
      ]
     },
     "execution_count": 21,
     "metadata": {},
     "output_type": "execute_result"
    }
   ],
   "source": [
    "a = \"Two\" #String\n",
    "type(a)"
   ]
  },
  {
   "cell_type": "code",
   "execution_count": 22,
   "metadata": {
    "slideshow": {
     "slide_type": "skip"
    }
   },
   "outputs": [
    {
     "data": {
      "text/plain": [
       "bool"
      ]
     },
     "execution_count": 22,
     "metadata": {},
     "output_type": "execute_result"
    }
   ],
   "source": [
    "a = True #Boolean\n",
    "type(a)"
   ]
  },
  {
   "cell_type": "markdown",
   "metadata": {
    "slideshow": {
     "slide_type": "skip"
    }
   },
   "source": [
    "*Thus, python has integer, float (real numbers, with different precision levels) string and boolean variables.*\n",
    "\n",
    "Also, try `?a` after defining `a` to be a boolean variable, and note this output in particular:\n",
    "\n",
    "```python\n",
    "The builtins True and False are the only two instances of the class bool. The class bool is a subclass of the class int, but with only two possible values. \n",
    "```\n",
    "The idea of what a class is hopefully be a little bit clearer to you now. \n",
    "\n",
    "```{note}\n",
    "In Python, the type of a variable is determined when the program or command is running (dynamic typing) (like `R`, unlike `C` or `FORTRAN`). This is convenient, but can make programs slow. More on efficient computing [later](./Python.ipynb).\n",
    "```\n",
    "\n",
    "\n",
    "### Python operators\n",
    "\n",
    "Here are the operators that you can use on variables in python:\n",
    "\n",
    "|  Operator   |            |\n",
    "|:------------- |:-------------| \n",
    "| `+`|             Addition|\n",
    "|  `-`|             Subtraction\n",
    "|  `*` |                         Multiplication\n",
    "|  `/`  |           Division\n",
    "|  `**`  |          Power\n",
    "|  `%`    |         Modulo\n",
    "|  `//`   |         Integer division\n",
    "|  `==`   |         Equals\n",
    "|  `!=`   |         Differs\n",
    "|  `>`  |         Greater\n",
    "|  `>=` |         Greater or equal\n",
    "|  `&, and` |        Logical AND\n",
    "|  $\\vert$ , `or` |   Logical OR\n",
    "|  `!, not` |       Logical NOT"
   ]
  },
  {
   "cell_type": "markdown",
   "metadata": {
    "slideshow": {
     "slide_type": "skip"
    }
   },
   "source": [
    "### Assigning and manipulating variables\n",
    "\n",
    "Try the following:"
   ]
  },
  {
   "cell_type": "code",
   "execution_count": 23,
   "metadata": {
    "slideshow": {
     "slide_type": "skip"
    }
   },
   "outputs": [
    {
     "data": {
      "text/plain": [
       "True"
      ]
     },
     "execution_count": 23,
     "metadata": {},
     "output_type": "execute_result"
    }
   ],
   "source": [
    "2 == 2"
   ]
  },
  {
   "cell_type": "code",
   "execution_count": 24,
   "metadata": {
    "slideshow": {
     "slide_type": "skip"
    }
   },
   "outputs": [
    {
     "data": {
      "text/plain": [
       "False"
      ]
     },
     "execution_count": 24,
     "metadata": {},
     "output_type": "execute_result"
    }
   ],
   "source": [
    "2 != 2"
   ]
  },
  {
   "cell_type": "code",
   "execution_count": 25,
   "metadata": {
    "slideshow": {
     "slide_type": "skip"
    }
   },
   "outputs": [
    {
     "data": {
      "text/plain": [
       "1.5"
      ]
     },
     "execution_count": 25,
     "metadata": {},
     "output_type": "execute_result"
    }
   ],
   "source": [
    "3 / 2"
   ]
  },
  {
   "cell_type": "code",
   "execution_count": 26,
   "metadata": {
    "slideshow": {
     "slide_type": "skip"
    }
   },
   "outputs": [
    {
     "data": {
      "text/plain": [
       "1"
      ]
     },
     "execution_count": 26,
     "metadata": {},
     "output_type": "execute_result"
    }
   ],
   "source": [
    "3 // 2"
   ]
  },
  {
   "cell_type": "markdown",
   "metadata": {
    "slideshow": {
     "slide_type": "skip"
    }
   },
   "source": [
    "*What happened here*? This is an integer division, so the decimal part is lost.  "
   ]
  },
  {
   "cell_type": "code",
   "execution_count": 27,
   "metadata": {
    "slideshow": {
     "slide_type": "skip"
    }
   },
   "outputs": [
    {
     "data": {
      "text/plain": [
       "'hola, me llamo Samraat'"
      ]
     },
     "execution_count": 27,
     "metadata": {},
     "output_type": "execute_result"
    }
   ],
   "source": [
    "'hola, ' + 'me llamo Samraat' #why not learn two human languages at the same time?! "
   ]
  },
  {
   "cell_type": "code",
   "execution_count": 28,
   "metadata": {
    "slideshow": {
     "slide_type": "skip"
    }
   },
   "outputs": [],
   "source": [
    "x = 5"
   ]
  },
  {
   "cell_type": "code",
   "execution_count": 29,
   "metadata": {
    "slideshow": {
     "slide_type": "skip"
    }
   },
   "outputs": [
    {
     "data": {
      "text/plain": [
       "8"
      ]
     },
     "execution_count": 29,
     "metadata": {},
     "output_type": "execute_result"
    }
   ],
   "source": [
    "x + 3"
   ]
  },
  {
   "cell_type": "code",
   "execution_count": 30,
   "metadata": {
    "slideshow": {
     "slide_type": "skip"
    }
   },
   "outputs": [],
   "source": [
    "y = 2"
   ]
  },
  {
   "cell_type": "code",
   "execution_count": 31,
   "metadata": {
    "slideshow": {
     "slide_type": "skip"
    }
   },
   "outputs": [
    {
     "data": {
      "text/plain": [
       "7"
      ]
     },
     "execution_count": 31,
     "metadata": {},
     "output_type": "execute_result"
    }
   ],
   "source": [
    "x + y"
   ]
  },
  {
   "cell_type": "code",
   "execution_count": 32,
   "metadata": {
    "slideshow": {
     "slide_type": "skip"
    }
   },
   "outputs": [],
   "source": [
    "x = 'My string'"
   ]
  },
  {
   "cell_type": "code",
   "execution_count": 33,
   "metadata": {
    "slideshow": {
     "slide_type": "skip"
    }
   },
   "outputs": [
    {
     "data": {
      "text/plain": [
       "'My string now has more stuff'"
      ]
     },
     "execution_count": 33,
     "metadata": {},
     "output_type": "execute_result"
    }
   ],
   "source": [
    "x + ' now has more stuff'"
   ]
  },
  {
   "cell_type": "code",
   "execution_count": 34,
   "metadata": {
    "editable": true,
    "slideshow": {
     "slide_type": "skip"
    },
    "tags": [
     "raises-exception"
    ]
   },
   "outputs": [
    {
     "ename": "TypeError",
     "evalue": "can only concatenate str (not \"int\") to str",
     "output_type": "error",
     "traceback": [
      "\u001b[0;31m---------------------------------------------------------------------------\u001b[0m",
      "\u001b[0;31mTypeError\u001b[0m                                 Traceback (most recent call last)",
      "Cell \u001b[0;32mIn[34], line 1\u001b[0m\n\u001b[0;32m----> 1\u001b[0m \u001b[43mx\u001b[49m\u001b[43m \u001b[49m\u001b[38;5;241;43m+\u001b[39;49m\u001b[43m \u001b[49m\u001b[43my\u001b[49m\n",
      "\u001b[0;31mTypeError\u001b[0m: can only concatenate str (not \"int\") to str"
     ]
    }
   ],
   "source": [
    "x + y"
   ]
  },
  {
   "cell_type": "markdown",
   "metadata": {
    "slideshow": {
     "slide_type": "skip"
    }
   },
   "source": [
    "Doesn't work. No problem, we can convert from one type to another:"
   ]
  },
  {
   "cell_type": "code",
   "execution_count": 35,
   "metadata": {
    "slideshow": {
     "slide_type": "skip"
    }
   },
   "outputs": [
    {
     "data": {
      "text/plain": [
       "'My string2'"
      ]
     },
     "execution_count": 35,
     "metadata": {},
     "output_type": "execute_result"
    }
   ],
   "source": [
    "x + str(y)"
   ]
  },
  {
   "cell_type": "code",
   "execution_count": 36,
   "metadata": {
    "slideshow": {
     "slide_type": "skip"
    }
   },
   "outputs": [],
   "source": [
    "z = '88'"
   ]
  },
  {
   "cell_type": "code",
   "execution_count": 37,
   "metadata": {
    "scrolled": true,
    "slideshow": {
     "slide_type": "skip"
    }
   },
   "outputs": [
    {
     "data": {
      "text/plain": [
       "'My string88'"
      ]
     },
     "execution_count": 37,
     "metadata": {},
     "output_type": "execute_result"
    }
   ],
   "source": [
    "x + z"
   ]
  },
  {
   "cell_type": "code",
   "execution_count": 38,
   "metadata": {
    "slideshow": {
     "slide_type": "skip"
    }
   },
   "outputs": [
    {
     "data": {
      "text/plain": [
       "90"
      ]
     },
     "execution_count": 38,
     "metadata": {},
     "output_type": "execute_result"
    }
   ],
   "source": [
    "y + int(z)"
   ]
  },
  {
   "cell_type": "markdown",
   "metadata": {
    "slideshow": {
     "slide_type": "slide"
    }
   },
   "source": [
    "## Python data structures\n",
    "\n",
    "Python variables can be stored and manipulated in:\n",
    "\n",
    "| | |\n",
    "|:-  |:- | \n",
    "|*List*: |most versatile, can contain mixed data, are \"mutable\" (elements can can be modified), and can contain duplicates; created by enclosing in square brackets, `[ ]`|\n",
    "|*Tuple*: |like a list, but \"immutable\" — like a read only list; created by enclosing in round brackets, `( )`|\n",
    "|*Dictionary*: | a kind of \"hash table\" of key-value pairs where the key can be number or string and values can be any python object, but there can be only unique key-value pairs; created by enclosing in curly brackets, `{ }`|\n",
    "|*numpy arrays*: |Fast, compact, convenient for numerical computing — more on this later!|\n",
    "\n",
    "```{note}\n",
    "What about [Pandas](https://pandas.pydata.org/) [arrays](https://pandas.pydata.org/docs/reference/api/pandas.array.html) as a data structure? We will learn about them later. These are inherently slower (less computationally efficient) than `numpy` arrays, and are best used in the right context (e.g., they make data exploration or visualizations more convenient, or apply functions designed to run optiomally on them). \n",
    "```\n"
   ]
  },
  {
   "cell_type": "markdown",
   "metadata": {
    "slideshow": {
     "slide_type": "skip"
    }
   },
   "source": [
    "### Lists\n",
    "\n",
    "These are the most versatile, and can contain compound data. They are \"mutable\", as will be illustrated below. Try this:"
   ]
  },
  {
   "cell_type": "code",
   "execution_count": 39,
   "metadata": {
    "slideshow": {
     "slide_type": "skip"
    }
   },
   "outputs": [],
   "source": [
    "MyList = [3,2.44,'green',True]"
   ]
  },
  {
   "cell_type": "code",
   "execution_count": 40,
   "metadata": {
    "slideshow": {
     "slide_type": "skip"
    }
   },
   "outputs": [
    {
     "data": {
      "text/plain": [
       "2.44"
      ]
     },
     "execution_count": 40,
     "metadata": {},
     "output_type": "execute_result"
    }
   ],
   "source": [
    "MyList[1]"
   ]
  },
  {
   "cell_type": "code",
   "execution_count": 41,
   "metadata": {
    "slideshow": {
     "slide_type": "skip"
    }
   },
   "outputs": [
    {
     "data": {
      "text/plain": [
       "3"
      ]
     },
     "execution_count": 41,
     "metadata": {},
     "output_type": "execute_result"
    }
   ],
   "source": [
    "MyList[0]"
   ]
  },
  {
   "cell_type": "markdown",
   "metadata": {
    "slideshow": {
     "slide_type": "skip"
    }
   },
   "source": [
    "*Note that python \"indexing\" starts at 0, not 1!*"
   ]
  },
  {
   "cell_type": "code",
   "execution_count": 43,
   "metadata": {
    "scrolled": true,
    "slideshow": {
     "slide_type": "skip"
    }
   },
   "outputs": [
    {
     "ename": "IndexError",
     "evalue": "list index out of range",
     "output_type": "error",
     "traceback": [
      "\u001b[0;31m---------------------------------------------------------------------------\u001b[0m",
      "\u001b[0;31mIndexError\u001b[0m                                Traceback (most recent call last)",
      "Cell \u001b[0;32mIn[43], line 1\u001b[0m\n\u001b[0;32m----> 1\u001b[0m \u001b[43mMyList\u001b[49m\u001b[43m[\u001b[49m\u001b[38;5;241;43m4\u001b[39;49m\u001b[43m]\u001b[49m\n",
      "\u001b[0;31mIndexError\u001b[0m: list index out of range"
     ]
    }
   ],
   "source": [
    "MyList[4]"
   ]
  },
  {
   "cell_type": "markdown",
   "metadata": {
    "slideshow": {
     "slide_type": "skip"
    }
   },
   "source": [
    "As expected!"
   ]
  },
  {
   "cell_type": "code",
   "execution_count": 45,
   "metadata": {
    "editable": true,
    "slideshow": {
     "slide_type": "skip"
    },
    "tags": []
   },
   "outputs": [],
   "source": [
    "MyList[2] = 'blue'"
   ]
  },
  {
   "cell_type": "code",
   "execution_count": 46,
   "metadata": {
    "slideshow": {
     "slide_type": "skip"
    }
   },
   "outputs": [
    {
     "data": {
      "text/plain": [
       "[3, 2.44, 'blue', True]"
      ]
     },
     "execution_count": 46,
     "metadata": {},
     "output_type": "execute_result"
    }
   ],
   "source": [
    "MyList"
   ]
  },
  {
   "cell_type": "code",
   "execution_count": 47,
   "metadata": {
    "slideshow": {
     "slide_type": "skip"
    }
   },
   "outputs": [],
   "source": [
    "MyList.append('a new item')"
   ]
  },
  {
   "cell_type": "markdown",
   "metadata": {
    "slideshow": {
     "slide_type": "skip"
    }
   },
   "source": [
    "Note `.append`. This is an operation (a \"method\") that can be applied to any \"object\" with the \"class\" list. You can check the type of any object: "
   ]
  },
  {
   "cell_type": "code",
   "execution_count": 48,
   "metadata": {
    "slideshow": {
     "slide_type": "skip"
    }
   },
   "outputs": [
    {
     "name": "stdout",
     "output_type": "stream",
     "text": [
      "Variable   Type      Data/Info\n",
      "------------------------------\n",
      "MyList     list      n=5\n",
      "a          bool      True\n",
      "this       module    <module 'this' from '/usr<...>/lib/python3.10/this.py'>\n",
      "x          str       My string\n",
      "y          int       2\n",
      "z          str       88\n"
     ]
    }
   ],
   "source": [
    "%whos"
   ]
  },
  {
   "cell_type": "code",
   "execution_count": 49,
   "metadata": {
    "scrolled": true,
    "slideshow": {
     "slide_type": "skip"
    }
   },
   "outputs": [
    {
     "data": {
      "text/plain": [
       "list"
      ]
     },
     "execution_count": 49,
     "metadata": {},
     "output_type": "execute_result"
    }
   ],
   "source": [
    "type(MyList)"
   ]
  },
  {
   "cell_type": "code",
   "execution_count": 50,
   "metadata": {
    "slideshow": {
     "slide_type": "skip"
    }
   },
   "outputs": [
    {
     "name": "stdout",
     "output_type": "stream",
     "text": [
      "<class 'list'>\n"
     ]
    }
   ],
   "source": [
    "print(type(MyList))"
   ]
  },
  {
   "cell_type": "markdown",
   "metadata": {
    "slideshow": {
     "slide_type": "skip"
    }
   },
   "source": [
    "```{note}\n",
    "In Python3 there is no difference between \"class\" and \"type\". They are in most cases used as synonyms.\n",
    "```"
   ]
  },
  {
   "cell_type": "code",
   "execution_count": 51,
   "metadata": {
    "slideshow": {
     "slide_type": "skip"
    }
   },
   "outputs": [
    {
     "data": {
      "text/plain": [
       "[3, 2.44, 'blue', True, 'a new item']"
      ]
     },
     "execution_count": 51,
     "metadata": {},
     "output_type": "execute_result"
    }
   ],
   "source": [
    "MyList"
   ]
  },
  {
   "cell_type": "code",
   "execution_count": 52,
   "metadata": {
    "scrolled": true,
    "slideshow": {
     "slide_type": "skip"
    }
   },
   "outputs": [],
   "source": [
    "del MyList[2]"
   ]
  },
  {
   "cell_type": "code",
   "execution_count": 53,
   "metadata": {
    "slideshow": {
     "slide_type": "skip"
    }
   },
   "outputs": [
    {
     "data": {
      "text/plain": [
       "[3, 2.44, True, 'a new item']"
      ]
     },
     "execution_count": 53,
     "metadata": {},
     "output_type": "execute_result"
    }
   ],
   "source": [
    "MyList"
   ]
  },
  {
   "cell_type": "markdown",
   "metadata": {
    "slideshow": {
     "slide_type": "skip"
    }
   },
   "source": [
    "```{tip}\n",
    "Note that in ipython you can suffix an `.` to a particular object (e.g., `MyList.`), and then hit tab to see the methods that can be applied to that object. \n",
    "```"
   ]
  },
  {
   "cell_type": "markdown",
   "metadata": {
    "slideshow": {
     "slide_type": "skip"
    }
   },
   "source": [
    "### Tuples\n",
    "\n",
    "Tuples are like a list, but \"immutable\", that is, a *particular pair* or sequence of strings or numbers cannot be modified after it is created. So a tuple is like a read-only list."
   ]
  },
  {
   "cell_type": "code",
   "execution_count": 54,
   "metadata": {},
   "outputs": [],
   "source": [
    "MyTuple = (\"a\", \"b\", \"c\")"
   ]
  },
  {
   "cell_type": "code",
   "execution_count": 55,
   "metadata": {},
   "outputs": [
    {
     "name": "stdout",
     "output_type": "stream",
     "text": [
      "('a', 'b', 'c')\n"
     ]
    }
   ],
   "source": [
    "print(MyTuple)"
   ]
  },
  {
   "cell_type": "code",
   "execution_count": 56,
   "metadata": {},
   "outputs": [
    {
     "data": {
      "text/plain": [
       "tuple"
      ]
     },
     "execution_count": 56,
     "metadata": {},
     "output_type": "execute_result"
    }
   ],
   "source": [
    "type(MyTuple)"
   ]
  },
  {
   "cell_type": "code",
   "execution_count": 57,
   "metadata": {},
   "outputs": [
    {
     "data": {
      "text/plain": [
       "'a'"
      ]
     },
     "execution_count": 57,
     "metadata": {},
     "output_type": "execute_result"
    }
   ],
   "source": [
    "MyTuple[0]"
   ]
  },
  {
   "cell_type": "code",
   "execution_count": 58,
   "metadata": {},
   "outputs": [
    {
     "data": {
      "text/plain": [
       "3"
      ]
     },
     "execution_count": 58,
     "metadata": {},
     "output_type": "execute_result"
    }
   ],
   "source": [
    "len(MyTuple)"
   ]
  },
  {
   "cell_type": "markdown",
   "metadata": {},
   "source": [
    "Tuples are particularly useful when you have sets (pairs, triplets, etc) of items associated with each other that you want to store such that those associations cannot be modified. \n",
    "\n",
    "Try this:"
   ]
  },
  {
   "cell_type": "code",
   "execution_count": 59,
   "metadata": {
    "slideshow": {
     "slide_type": "skip"
    }
   },
   "outputs": [
    {
     "data": {
      "text/plain": [
       "[('a', 'b'), ('a', 'c'), ('b', 'c'), ('c', 'c')]"
      ]
     },
     "execution_count": 59,
     "metadata": {},
     "output_type": "execute_result"
    }
   ],
   "source": [
    "FoodWeb=[('a','b'),('a','c'),('b','c'),('c','c')]\n",
    "FoodWeb"
   ]
  },
  {
   "cell_type": "markdown",
   "metadata": {},
   "source": [
    "So we created a list of tuples (note the use of square brackets `[]`)"
   ]
  },
  {
   "cell_type": "code",
   "execution_count": 60,
   "metadata": {
    "slideshow": {
     "slide_type": "skip"
    }
   },
   "outputs": [
    {
     "data": {
      "text/plain": [
       "('a', 'b')"
      ]
     },
     "execution_count": 60,
     "metadata": {},
     "output_type": "execute_result"
    }
   ],
   "source": [
    "FoodWeb[0]"
   ]
  },
  {
   "cell_type": "code",
   "execution_count": 61,
   "metadata": {
    "slideshow": {
     "slide_type": "skip"
    }
   },
   "outputs": [
    {
     "data": {
      "text/plain": [
       "'a'"
      ]
     },
     "execution_count": 61,
     "metadata": {},
     "output_type": "execute_result"
    }
   ],
   "source": [
    "FoodWeb[0][0]"
   ]
  },
  {
   "cell_type": "code",
   "execution_count": 62,
   "metadata": {
    "scrolled": true,
    "slideshow": {
     "slide_type": "skip"
    }
   },
   "outputs": [
    {
     "ename": "TypeError",
     "evalue": "'tuple' object does not support item assignment",
     "output_type": "error",
     "traceback": [
      "\u001b[0;31m---------------------------------------------------------------------------\u001b[0m",
      "\u001b[0;31mTypeError\u001b[0m                                 Traceback (most recent call last)",
      "Cell \u001b[0;32mIn[62], line 1\u001b[0m\n\u001b[0;32m----> 1\u001b[0m \u001b[43mFoodWeb\u001b[49m\u001b[43m[\u001b[49m\u001b[38;5;241;43m0\u001b[39;49m\u001b[43m]\u001b[49m\u001b[43m[\u001b[49m\u001b[38;5;241;43m0\u001b[39;49m\u001b[43m]\u001b[49m \u001b[38;5;241m=\u001b[39m \u001b[38;5;124m\"\u001b[39m\u001b[38;5;124mbbb\u001b[39m\u001b[38;5;124m\"\u001b[39m\n",
      "\u001b[0;31mTypeError\u001b[0m: 'tuple' object does not support item assignment"
     ]
    }
   ],
   "source": [
    "FoodWeb[0][0] = \"bbb\""
   ]
  },
  {
   "cell_type": "markdown",
   "metadata": {
    "slideshow": {
     "slide_type": "skip"
    }
   },
   "source": [
    "Thus, tuples are \"immutable\"!\n",
    "\n",
    "However, you can change a whole pairing: "
   ]
  },
  {
   "cell_type": "code",
   "execution_count": 65,
   "metadata": {
    "editable": true,
    "slideshow": {
     "slide_type": "skip"
    },
    "tags": []
   },
   "outputs": [],
   "source": [
    "FoodWeb[0] = (\"bbb\",\"ccc\") "
   ]
  },
  {
   "cell_type": "code",
   "execution_count": 66,
   "metadata": {
    "slideshow": {
     "slide_type": "skip"
    }
   },
   "outputs": [
    {
     "data": {
      "text/plain": [
       "('bbb', 'ccc')"
      ]
     },
     "execution_count": 66,
     "metadata": {},
     "output_type": "execute_result"
    }
   ],
   "source": [
    "FoodWeb[0]"
   ]
  },
  {
   "cell_type": "markdown",
   "metadata": {
    "slideshow": {
     "slide_type": "skip"
    }
   },
   "source": [
    "*In the above example, why assign these food web data to a list of tuples and not a list of lists?* — because we want to maintain the species associations, no matter what — they are sacrosanct.\n",
    "\n",
    "Thus, you cannot:\n",
    "\n",
    "* add elements to a tuple. Tuples have no *inbuilt* append or extend method (but you can append to them with a bit of extra work - see below).\n",
    "* remove elements from a tuple. Tuples have no remove method.\n",
    "\n",
    "But you can:\n",
    "* find elements in a tuple, since this doesn't change the tuple.\n",
    "* use the `in` operator to check if an element exists in the tuple or iterate over them (explained in the control flow tools sections below).\n",
    "\n",
    "The key point is that tuples are faster than lists, as you might expect for an immutable object (it has a fixed memory space, which makes it more efficient to retrieve). using tuples also makes your code safer as it effectively write-protects data (as long as you don't plan to modify those particular data).\n",
    "\n",
    "Tuples may be immutable, but you *can* append to them by first creating an \"empty space\" for the new item:"
   ]
  },
  {
   "cell_type": "code",
   "execution_count": 67,
   "metadata": {
    "slideshow": {
     "slide_type": "skip"
    }
   },
   "outputs": [
    {
     "data": {
      "text/plain": [
       "(1, 2, [])"
      ]
     },
     "execution_count": 67,
     "metadata": {},
     "output_type": "execute_result"
    }
   ],
   "source": [
    "a = (1, 2, []) \n",
    "a"
   ]
  },
  {
   "cell_type": "code",
   "execution_count": 68,
   "metadata": {
    "slideshow": {
     "slide_type": "skip"
    }
   },
   "outputs": [
    {
     "data": {
      "text/plain": [
       "(1, 2, [1000])"
      ]
     },
     "execution_count": 68,
     "metadata": {},
     "output_type": "execute_result"
    }
   ],
   "source": [
    "a[2].append(1000)\n",
    "a"
   ]
  },
  {
   "cell_type": "code",
   "execution_count": 69,
   "metadata": {
    "slideshow": {
     "slide_type": "skip"
    }
   },
   "outputs": [
    {
     "data": {
      "text/plain": [
       "(1, 2, [1000, 1000])"
      ]
     },
     "execution_count": 69,
     "metadata": {},
     "output_type": "execute_result"
    }
   ],
   "source": [
    "a[2].append(1000)\n",
    "a"
   ]
  },
  {
   "cell_type": "code",
   "execution_count": 70,
   "metadata": {
    "slideshow": {
     "slide_type": "skip"
    }
   },
   "outputs": [
    {
     "data": {
      "text/plain": [
       "(1, 2, [1000, 1000, (100, 10)])"
      ]
     },
     "execution_count": 70,
     "metadata": {},
     "output_type": "execute_result"
    }
   ],
   "source": [
    "a[2].append((100,10))\n",
    "a"
   ]
  },
  {
   "cell_type": "markdown",
   "metadata": {
    "slideshow": {
     "slide_type": "skip"
    }
   },
   "source": [
    "You can also concatenate, slice and dice them as long as they contain a single sequence or set of items:"
   ]
  },
  {
   "cell_type": "code",
   "execution_count": 71,
   "metadata": {
    "slideshow": {
     "slide_type": "skip"
    }
   },
   "outputs": [],
   "source": [
    "a = (1, 2, 3)"
   ]
  },
  {
   "cell_type": "code",
   "execution_count": 72,
   "metadata": {
    "slideshow": {
     "slide_type": "skip"
    }
   },
   "outputs": [
    {
     "data": {
      "text/plain": [
       "(1, 2, 3, 4, 5, 6)"
      ]
     },
     "execution_count": 72,
     "metadata": {},
     "output_type": "execute_result"
    }
   ],
   "source": [
    "b = a + (4, 5, 6)\n",
    "b"
   ]
  },
  {
   "cell_type": "code",
   "execution_count": 73,
   "metadata": {
    "slideshow": {
     "slide_type": "skip"
    }
   },
   "outputs": [
    {
     "data": {
      "text/plain": [
       "(2, 3, 4, 5, 6)"
      ]
     },
     "execution_count": 73,
     "metadata": {},
     "output_type": "execute_result"
    }
   ],
   "source": [
    "c = b[1:]\n",
    "c"
   ]
  },
  {
   "cell_type": "code",
   "execution_count": 74,
   "metadata": {
    "scrolled": true,
    "slideshow": {
     "slide_type": "skip"
    }
   },
   "outputs": [
    {
     "data": {
      "text/plain": [
       "(2, 3, 4, 5, 6)"
      ]
     },
     "execution_count": 74,
     "metadata": {},
     "output_type": "execute_result"
    }
   ],
   "source": [
    "b = b[1:]\n",
    "b"
   ]
  },
  {
   "cell_type": "markdown",
   "metadata": {
    "slideshow": {
     "slide_type": "skip"
    }
   },
   "source": [
    "They can be a heterogeneous set as well. "
   ]
  },
  {
   "cell_type": "code",
   "execution_count": 75,
   "metadata": {
    "slideshow": {
     "slide_type": "skip"
    }
   },
   "outputs": [
    {
     "data": {
      "text/plain": [
       "('1', 2, True)"
      ]
     },
     "execution_count": 75,
     "metadata": {},
     "output_type": "execute_result"
    }
   ],
   "source": [
    "a = (\"1\", 2, True)\n",
    "a"
   ]
  },
  {
   "cell_type": "markdown",
   "metadata": {
    "slideshow": {
     "slide_type": "skip"
    }
   },
   "source": [
    "### Sets\n",
    "\n",
    "You can convert a list to an mutable \"set\" — an unordered collection with no duplicate elements. Once you create a set you can perform set operations on it:"
   ]
  },
  {
   "cell_type": "code",
   "execution_count": 76,
   "metadata": {
    "slideshow": {
     "slide_type": "skip"
    }
   },
   "outputs": [],
   "source": [
    "a = [5,6,7,7,7,8,9,9]"
   ]
  },
  {
   "cell_type": "code",
   "execution_count": 77,
   "metadata": {
    "slideshow": {
     "slide_type": "skip"
    }
   },
   "outputs": [],
   "source": [
    "b = set(a)"
   ]
  },
  {
   "cell_type": "code",
   "execution_count": 78,
   "metadata": {
    "slideshow": {
     "slide_type": "skip"
    }
   },
   "outputs": [
    {
     "data": {
      "text/plain": [
       "{5, 6, 7, 8, 9}"
      ]
     },
     "execution_count": 78,
     "metadata": {},
     "output_type": "execute_result"
    }
   ],
   "source": [
    "b"
   ]
  },
  {
   "cell_type": "code",
   "execution_count": 79,
   "metadata": {
    "slideshow": {
     "slide_type": "skip"
    }
   },
   "outputs": [],
   "source": [
    "c = set([3,4,5,6])"
   ]
  },
  {
   "cell_type": "code",
   "execution_count": 80,
   "metadata": {
    "slideshow": {
     "slide_type": "skip"
    }
   },
   "outputs": [
    {
     "data": {
      "text/plain": [
       "{5, 6}"
      ]
     },
     "execution_count": 80,
     "metadata": {},
     "output_type": "execute_result"
    }
   ],
   "source": [
    "b & c # intersection"
   ]
  },
  {
   "cell_type": "code",
   "execution_count": 81,
   "metadata": {
    "slideshow": {
     "slide_type": "skip"
    }
   },
   "outputs": [
    {
     "data": {
      "text/plain": [
       "{3, 4, 5, 6, 7, 8, 9}"
      ]
     },
     "execution_count": 81,
     "metadata": {},
     "output_type": "execute_result"
    }
   ],
   "source": [
    "b | c # union"
   ]
  },
  {
   "cell_type": "markdown",
   "metadata": {
    "slideshow": {
     "slide_type": "skip"
    }
   },
   "source": [
    "The key set operations in python are:\n",
    "\n",
    "| Operation | Command |\n",
    "|:- |:- |\n",
    "| `a - b `|        a.difference(b)|\n",
    "| `a <= b` |     a.issubset(b)|\n",
    "| `a >= b`  |    b.issubset(a)|\n",
    "| `a & b`    |     a.intersection(b)|\n",
    "| `a` $\\vert$ `b`|   a.union(b)|"
   ]
  },
  {
   "cell_type": "markdown",
   "metadata": {},
   "source": [
    "You can also convert tuples to sets:"
   ]
  },
  {
   "cell_type": "code",
   "execution_count": 82,
   "metadata": {},
   "outputs": [
    {
     "name": "stdout",
     "output_type": "stream",
     "text": [
      "{1, 2, 3, 4, 5}\n"
     ]
    }
   ],
   "source": [
    "# Define a tuple\n",
    "my_tuple = (1, 2, 3, 4, 5)\n",
    "\n",
    "# Convert tuple to set\n",
    "my_set = set(my_tuple)\n",
    "\n",
    "# Print the set\n",
    "print(my_set)"
   ]
  },
  {
   "cell_type": "markdown",
   "metadata": {
    "slideshow": {
     "slide_type": "skip"
    }
   },
   "source": [
    "### Dictionaries\n",
    "\n",
    "A dictionary is a set of values (any python object) indexed by keys (string or number). So they are a bit like `R` lists."
   ]
  },
  {
   "cell_type": "code",
   "execution_count": 83,
   "metadata": {
    "slideshow": {
     "slide_type": "skip"
    }
   },
   "outputs": [],
   "source": [
    "GenomeSize = {'Homo sapiens': 3200.0, 'Escherichia coli': 4.6, 'Arabidopsis thaliana': 157.0}"
   ]
  },
  {
   "cell_type": "code",
   "execution_count": 84,
   "metadata": {
    "slideshow": {
     "slide_type": "skip"
    }
   },
   "outputs": [
    {
     "data": {
      "text/plain": [
       "{'Homo sapiens': 3200.0,\n",
       " 'Escherichia coli': 4.6,\n",
       " 'Arabidopsis thaliana': 157.0}"
      ]
     },
     "execution_count": 84,
     "metadata": {},
     "output_type": "execute_result"
    }
   ],
   "source": [
    " GenomeSize"
   ]
  },
  {
   "cell_type": "code",
   "execution_count": 85,
   "metadata": {
    "slideshow": {
     "slide_type": "skip"
    }
   },
   "outputs": [
    {
     "data": {
      "text/plain": [
       "157.0"
      ]
     },
     "execution_count": 85,
     "metadata": {},
     "output_type": "execute_result"
    }
   ],
   "source": [
    "GenomeSize['Arabidopsis thaliana']"
   ]
  },
  {
   "cell_type": "code",
   "execution_count": 86,
   "metadata": {
    "slideshow": {
     "slide_type": "skip"
    }
   },
   "outputs": [],
   "source": [
    "GenomeSize['Saccharomyces cerevisiae'] = 12.1"
   ]
  },
  {
   "cell_type": "code",
   "execution_count": 87,
   "metadata": {
    "scrolled": true,
    "slideshow": {
     "slide_type": "skip"
    }
   },
   "outputs": [
    {
     "data": {
      "text/plain": [
       "{'Homo sapiens': 3200.0,\n",
       " 'Escherichia coli': 4.6,\n",
       " 'Arabidopsis thaliana': 157.0,\n",
       " 'Saccharomyces cerevisiae': 12.1}"
      ]
     },
     "execution_count": 87,
     "metadata": {},
     "output_type": "execute_result"
    }
   ],
   "source": [
    "GenomeSize"
   ]
  },
  {
   "cell_type": "code",
   "execution_count": 88,
   "metadata": {
    "slideshow": {
     "slide_type": "skip"
    }
   },
   "outputs": [],
   "source": [
    "GenomeSize['Escherichia coli'] = 4.6 "
   ]
  },
  {
   "cell_type": "code",
   "execution_count": 89,
   "metadata": {
    "slideshow": {
     "slide_type": "skip"
    }
   },
   "outputs": [
    {
     "data": {
      "text/plain": [
       "{'Homo sapiens': 3200.0,\n",
       " 'Escherichia coli': 4.6,\n",
       " 'Arabidopsis thaliana': 157.0,\n",
       " 'Saccharomyces cerevisiae': 12.1}"
      ]
     },
     "execution_count": 89,
     "metadata": {},
     "output_type": "execute_result"
    }
   ],
   "source": [
    "GenomeSize"
   ]
  },
  {
   "cell_type": "markdown",
   "metadata": {
    "slideshow": {
     "slide_type": "skip"
    }
   },
   "source": [
    "Because 'Escherichia coli' is already in the dictionary, it is not repeated."
   ]
  },
  {
   "cell_type": "code",
   "execution_count": 90,
   "metadata": {
    "slideshow": {
     "slide_type": "skip"
    }
   },
   "outputs": [],
   "source": [
    "GenomeSize['Homo sapiens'] = 3201.1"
   ]
  },
  {
   "cell_type": "code",
   "execution_count": 91,
   "metadata": {
    "slideshow": {
     "slide_type": "skip"
    }
   },
   "outputs": [
    {
     "data": {
      "text/plain": [
       "{'Homo sapiens': 3201.1,\n",
       " 'Escherichia coli': 4.6,\n",
       " 'Arabidopsis thaliana': 157.0,\n",
       " 'Saccharomyces cerevisiae': 12.1}"
      ]
     },
     "execution_count": 91,
     "metadata": {},
     "output_type": "execute_result"
    }
   ],
   "source": [
    "GenomeSize"
   ]
  },
  {
   "cell_type": "markdown",
   "metadata": {
    "slideshow": {
     "slide_type": "skip"
    }
   },
   "source": [
    "```{note}\n",
    "Tuples that contain immutable values like strings, numbers, and other tuples  can be used as dictionary keys. Lists can never be used as dictionary keys, because they are mutable. \n",
    "```"
   ]
  },
  {
   "cell_type": "markdown",
   "metadata": {},
   "source": [
    "Also, every dictionary key must be unique.  If you try to add a new key-value pair to a dictionary using a key that already exists, the new value will overwrite the previous value associated with that key.\n",
    "\n",
    "Try this: "
   ]
  },
  {
   "cell_type": "code",
   "execution_count": 92,
   "metadata": {},
   "outputs": [
    {
     "name": "stdout",
     "output_type": "stream",
     "text": [
      "{'a': 3, 'b': 2}\n"
     ]
    }
   ],
   "source": [
    "# Define a dictionary with duplicate keys\n",
    "my_dict = {'a': 1, 'b': 2, 'a': 3}\n",
    "\n",
    "# Print the dictionary\n",
    "print(my_dict)"
   ]
  },
  {
   "cell_type": "markdown",
   "metadata": {
    "slideshow": {
     "slide_type": "slide"
    }
   },
   "source": [
    "In summary, the guidelines for choosing a Python data structure are:\n",
    "\n",
    "* If your elements/data are unordered and indexed by numbers use a *list*\n",
    "* If you're defining a constant set of values (or ordered sequences) and all you're ever going to do with them is iterate through them, use a *tuple*.\n",
    "* If you want to perform set operations on data, use a *set*\n",
    "* If they are unordered and indexed by keys (e.g., names), use a  *dictionary*\n",
    "\n",
    "*But why not use dictionaries for everything?* – because it can slow down your code!"
   ]
  },
  {
   "cell_type": "markdown",
   "metadata": {
    "slideshow": {
     "slide_type": "skip"
    }
   },
   "source": [
    "### Copying mutable objects\n",
    "\n",
    "Copying mutable objects can be tricky because by default, when you create a new variable based on an existing one, Python only creates a reference to the original (that is it does not create a new, duplicate variable in memory as such). To understand this, let's see an example. \n",
    "\n",
    "First, try this:"
   ]
  },
  {
   "cell_type": "code",
   "execution_count": 93,
   "metadata": {
    "slideshow": {
     "slide_type": "skip"
    }
   },
   "outputs": [],
   "source": [
    "a = [1, 2, 3]\n",
    "b = a"
   ]
  },
  {
   "cell_type": "markdown",
   "metadata": {
    "slideshow": {
     "slide_type": "skip"
    }
   },
   "source": [
    "Here, you have not really copied, but merely created a new \"tag\" (like a label) for `a`, called `b`."
   ]
  },
  {
   "cell_type": "code",
   "execution_count": 94,
   "metadata": {
    "slideshow": {
     "slide_type": "skip"
    }
   },
   "outputs": [],
   "source": [
    "a.append(4)"
   ]
  },
  {
   "cell_type": "code",
   "execution_count": 95,
   "metadata": {
    "slideshow": {
     "slide_type": "skip"
    }
   },
   "outputs": [
    {
     "name": "stdout",
     "output_type": "stream",
     "text": [
      "[1, 2, 3, 4]\n",
      "[1, 2, 3, 4]\n"
     ]
    }
   ],
   "source": [
    "print(a)\n",
    "print(b)"
   ]
  },
  {
   "cell_type": "markdown",
   "metadata": {
    "slideshow": {
     "slide_type": "skip"
    }
   },
   "source": [
    "So `b` changed as well! This is because `b` is just a \"pointer\" or \"reference\" to `a`, not an actual copy in memory.\n",
    "\n",
    "Now, try:"
   ]
  },
  {
   "cell_type": "code",
   "execution_count": 96,
   "metadata": {
    "slideshow": {
     "slide_type": "skip"
    }
   },
   "outputs": [],
   "source": [
    "a = [1, 2, 3]\n",
    "b = a[:]  # This is a \"shallow\" copy; one level deep"
   ]
  },
  {
   "cell_type": "code",
   "execution_count": 97,
   "metadata": {
    "slideshow": {
     "slide_type": "skip"
    }
   },
   "outputs": [
    {
     "name": "stdout",
     "output_type": "stream",
     "text": [
      "[1, 2, 3, 4]\n",
      "[1, 2, 3]\n"
     ]
    }
   ],
   "source": [
    "a.append(4)\n",
    "print(a)\n",
    "print(b)"
   ]
  },
  {
   "cell_type": "markdown",
   "metadata": {
    "slideshow": {
     "slide_type": "skip"
    }
   },
   "source": [
    "That worked! But what about more complex lists? Try this nested list:"
   ]
  },
  {
   "cell_type": "code",
   "execution_count": 98,
   "metadata": {
    "scrolled": true,
    "slideshow": {
     "slide_type": "skip"
    }
   },
   "outputs": [
    {
     "name": "stdout",
     "output_type": "stream",
     "text": [
      "[[1, 2], [3, 4]]\n",
      "[[1, 2], [3, 4]]\n"
     ]
    }
   ],
   "source": [
    "a = [[1, 2], [3, 4]]\n",
    "b = a[:]\n",
    "print(a)\n",
    "print(b)"
   ]
  },
  {
   "cell_type": "markdown",
   "metadata": {},
   "source": [
    "Now, modify `a`, and then inspect both `a` and `b`:"
   ]
  },
  {
   "cell_type": "code",
   "execution_count": 99,
   "metadata": {
    "scrolled": true,
    "slideshow": {
     "slide_type": "skip"
    }
   },
   "outputs": [
    {
     "name": "stdout",
     "output_type": "stream",
     "text": [
      "[[1, 22], [3, 4]]\n",
      "[[1, 22], [3, 4]]\n"
     ]
    }
   ],
   "source": [
    "a[0][1] = 22 # Note how I accessed this 2D list\n",
    "print(a)\n",
    "print(b)"
   ]
  },
  {
   "cell_type": "markdown",
   "metadata": {
    "slideshow": {
     "slide_type": "skip"
    }
   },
   "source": [
    "So `b` still got modified!\n",
    "\n",
    "This is because shallow copy is not recursive, that is, it does not copy beyond the first level of the list, leaving the values in the nested list still linked in memory to the  original object `a`.\n",
    "\n",
    "The solution is to do a \"deep\" copy:"
   ]
  },
  {
   "cell_type": "code",
   "execution_count": 100,
   "metadata": {
    "slideshow": {
     "slide_type": "skip"
    }
   },
   "outputs": [
    {
     "name": "stdout",
     "output_type": "stream",
     "text": [
      "[[1, 22], [3, 4]]\n",
      "[[1, 2], [3, 4]]\n"
     ]
    }
   ],
   "source": [
    "import copy\n",
    "\n",
    "a = [[1, 2], [3, 4]]\n",
    "b = copy.deepcopy(a)\n",
    "a[0][1] = 22\n",
    "print(a)\n",
    "print(b)"
   ]
  },
  {
   "cell_type": "markdown",
   "metadata": {},
   "source": [
    "So, you need to employ `deepcopy` to really copy an existing object or variable and assign a new name to the copy. So, in summary, shallow copying an object won't create objects that are independent clones, i.e., the copy is not fully independent of the original. A deep copy of an object will recursively clone \"child\" objects (like nested parts of a list). The clone is fully independent of the original, but creating a deep copy is slower, as it involves assigning new memory space. Keep in mind that this shallow vs. deep copy business does  not just apply to lists. You can copy arbitrary objects (including custom classes) with the copy module.\n",
    "\n",
    "```{note}\n",
    "**Why Python \"shallow\" copies objects:** This is a bit of a technical detail, but important to keep in mind: Python does shallow copying of mutable objects for (computing) performance considerations. By not copying the underlying object when you re-assign a mutable object to a new (\"variable\") name, Python avoids unnecessary memory usage. This is known as \"passing by reference\" (in contrast to passing by \"value\", where a new variable would be actually created in memory). That does not change the fact that shallow vs. deep copying can be confusing, of course!\n",
    "```"
   ]
  },
  {
   "cell_type": "markdown",
   "metadata": {
    "slideshow": {
     "slide_type": "skip"
    }
   },
   "source": [
    "### Python with strings\n",
    "\n",
    "One of the things that makes python so useful and versatile, is that it has a powerful set of inbuilt commands to perform string manipulations. For example, try these:"
   ]
  },
  {
   "cell_type": "code",
   "execution_count": 101,
   "metadata": {
    "slideshow": {
     "slide_type": "skip"
    }
   },
   "outputs": [
    {
     "data": {
      "text/plain": [
       "18"
      ]
     },
     "execution_count": 101,
     "metadata": {},
     "output_type": "execute_result"
    }
   ],
   "source": [
    "s = \" this is a string \"\n",
    "len(s) # length of s -> 18"
   ]
  },
  {
   "cell_type": "code",
   "execution_count": 102,
   "metadata": {
    "slideshow": {
     "slide_type": "skip"
    }
   },
   "outputs": [
    {
     "data": {
      "text/plain": [
       "'-this-is-a-string-'"
      ]
     },
     "execution_count": 102,
     "metadata": {},
     "output_type": "execute_result"
    }
   ],
   "source": [
    "s.replace(\" \",\"-\") # Substitute spaces \" \" with dashes"
   ]
  },
  {
   "cell_type": "code",
   "execution_count": 103,
   "metadata": {
    "slideshow": {
     "slide_type": "skip"
    }
   },
   "outputs": [
    {
     "data": {
      "text/plain": [
       "4"
      ]
     },
     "execution_count": 103,
     "metadata": {},
     "output_type": "execute_result"
    }
   ],
   "source": [
    "s.find(\"s\") # First occurrence of s (remember, indexing starts at 0)"
   ]
  },
  {
   "cell_type": "code",
   "execution_count": 104,
   "metadata": {
    "slideshow": {
     "slide_type": "skip"
    }
   },
   "outputs": [
    {
     "data": {
      "text/plain": [
       "3"
      ]
     },
     "execution_count": 104,
     "metadata": {},
     "output_type": "execute_result"
    }
   ],
   "source": [
    "s.count(\"s\")# Count the number of \"s\""
   ]
  },
  {
   "cell_type": "code",
   "execution_count": 105,
   "metadata": {
    "slideshow": {
     "slide_type": "skip"
    }
   },
   "outputs": [
    {
     "data": {
      "text/plain": [
       "['this', 'is', 'a', 'string']"
      ]
     },
     "execution_count": 105,
     "metadata": {},
     "output_type": "execute_result"
    }
   ],
   "source": [
    "t = s.split() # Split the string using spaces and make a list \n",
    "t"
   ]
  },
  {
   "cell_type": "code",
   "execution_count": 106,
   "metadata": {
    "slideshow": {
     "slide_type": "skip"
    }
   },
   "outputs": [
    {
     "data": {
      "text/plain": [
       "[' this', 'a string ']"
      ]
     },
     "execution_count": 106,
     "metadata": {},
     "output_type": "execute_result"
    }
   ],
   "source": [
    "t = s.split(\" is \") # Split the string using \" is \" and make a list out of it\n",
    "t"
   ]
  },
  {
   "cell_type": "code",
   "execution_count": 107,
   "metadata": {
    "slideshow": {
     "slide_type": "skip"
    }
   },
   "outputs": [
    {
     "data": {
      "text/plain": [
       "'this is a string'"
      ]
     },
     "execution_count": 107,
     "metadata": {},
     "output_type": "execute_result"
    }
   ],
   "source": [
    "t = s.strip() # remove trailing spaces\n",
    "t"
   ]
  },
  {
   "cell_type": "code",
   "execution_count": 108,
   "metadata": {
    "slideshow": {
     "slide_type": "skip"
    }
   },
   "outputs": [
    {
     "data": {
      "text/plain": [
       "' THIS IS A STRING '"
      ]
     },
     "execution_count": 108,
     "metadata": {},
     "output_type": "execute_result"
    }
   ],
   "source": [
    "s.upper()"
   ]
  },
  {
   "cell_type": "code",
   "execution_count": 109,
   "metadata": {
    "slideshow": {
     "slide_type": "skip"
    }
   },
   "outputs": [
    {
     "data": {
      "text/plain": [
       "'THIS IS A STRING'"
      ]
     },
     "execution_count": 109,
     "metadata": {},
     "output_type": "execute_result"
    }
   ],
   "source": [
    "s.upper().strip() # can perform sequential operations"
   ]
  },
  {
   "cell_type": "code",
   "execution_count": 110,
   "metadata": {
    "scrolled": true,
    "slideshow": {
     "slide_type": "skip"
    }
   },
   "outputs": [
    {
     "data": {
      "text/plain": [
       "'word'"
      ]
     },
     "execution_count": 110,
     "metadata": {},
     "output_type": "execute_result"
    }
   ],
   "source": [
    "'WORD'.lower() # can perform operations directy on a literal string "
   ]
  },
  {
   "cell_type": "markdown",
   "metadata": {
    "slideshow": {
     "slide_type": "skip"
    }
   },
   "source": [
    "### Getting help\n",
    "\n",
    "You can do this:\n",
    "\n",
    "```python\n",
    "?s.upper\n",
    "```\n",
    "\n",
    "Also try `help()` at the python/ipython prompt. "
   ]
  },
  {
   "cell_type": "markdown",
   "metadata": {
    "slideshow": {
     "slide_type": "slide"
    }
   },
   "source": [
    "## Writing Python code\n",
    "\n",
    "Now let's learn to write and run python code from a `.py` file. But first, some guidelines for good code-writing practices (also see the official [python style guide](https://www.python.org/dev/peps/pep-0008/?)):\n",
    "\n",
    "* Wrap lines to be <80 characters long. You can use parentheses `()` or signal that the line continues using a backslash `\\`\n",
    "* Use either 4 spaces for indentation or tabs, but not both. (Spaces are the preferred indentation method according to [pep8](https://www.python.org/dev/peps/pep-0008/#indentation))\n",
    "* Separate functions using a blank line\n",
    "* When possible, write comments on separate lines\n",
    "\n",
    "Make sure you have chosen a particular indent type (space or tab) in whatever code IDE/editor you are using — indentation is all-important in python. \n",
    "\n",
    "```{tip}\n",
    "IDEs / code editors, by default, will typically impose consistency of which indentation (tab or 4 spaces) is used in and across Python scripts. For example, 4 spaces is usually the default, and if you use a tab (easier, quicker) to indent code while writing, the editor will automatically convert it to 4 spaces. If your code editor does not do this automatically, you should be able to configure it to do so.\n",
    "```"
   ]
  },
  {
   "cell_type": "markdown",
   "metadata": {
    "slideshow": {
     "slide_type": "subslide"
    }
   },
   "source": [
    "Furthermore,\n",
    "\n",
    "* Use \"docstrings\" to document how to use the code, and *comments* to explain why and how the code works (we will learn about docstrings soon, below)\n",
    "* Follow naming conventions, especially:\n",
    "    * `a_variable` (this is \"snake case\"; use underscores, not spaces in variable names)\n",
    "    * `_internal_variable` (allowed, but use as a module-specific variable only)\n",
    "    * `SOME_CONSTANT`\n",
    "    * `a_function` (and don't use capital letters in function names)\n",
    "* Never call a variable `l` or `O` or `o` (*why not?* – you are likely to confuse it with `1` or `0`!)\n",
    "* Use spaces around operators and after commas:\n",
    "```python\n",
    "a = func(x, y) + other(3, 4)\n",
    "```"
   ]
  },
  {
   "cell_type": "markdown",
   "metadata": {
    "slideshow": {
     "slide_type": "subslide"
    }
   },
   "source": [
    "### Testing/Running blocks of code \n",
    "\n",
    "Now that you have seen how all-important indentation of python code is. You can test a block of code, indentation and all, by pasting it directly into the ipython terminal. Let's try it. \n",
    "\n",
    "Type the following code in a temporary text file:\n",
    "\n",
    "```python\n",
    "for i in range(x):\n",
    "    if i > 3: #4 spaces or 2 tabs in this case\n",
    "        print(i)\n",
    "```\n",
    "Now, assign some integer value to a variable `x`:"
   ]
  },
  {
   "cell_type": "code",
   "execution_count": 111,
   "metadata": {
    "slideshow": {
     "slide_type": "skip"
    }
   },
   "outputs": [],
   "source": [
    "x = 11"
   ]
  },
  {
   "cell_type": "markdown",
   "metadata": {
    "slideshow": {
     "slide_type": "skip"
    }
   },
   "source": [
    "Then, paste this code at the ipython prompt (`ctrl+shift+v`), and hit enter: "
   ]
  },
  {
   "cell_type": "code",
   "execution_count": 112,
   "metadata": {
    "slideshow": {
     "slide_type": "skip"
    }
   },
   "outputs": [
    {
     "name": "stdout",
     "output_type": "stream",
     "text": [
      "4\n",
      "5\n",
      "6\n",
      "7\n",
      "8\n",
      "9\n",
      "10\n"
     ]
    }
   ],
   "source": [
    "for i in range(x):\n",
    "    if i > 3: #4 spaces or 2 tabs in this case\n",
    "        print(i)"
   ]
  },
  {
   "cell_type": "markdown",
   "metadata": {
    "slideshow": {
     "slide_type": "skip"
    }
   },
   "source": [
    "Of course, this code is simple, so directly pasting works. For more complex code, you may need to use the ipython `%cpaste` magic function."
   ]
  },
  {
   "cell_type": "markdown",
   "metadata": {},
   "source": [
    "(Python-loops)=\n",
    "## Loops\n",
    "\n",
    "What exactly is going on in the piece of code above? What is `i`? What does `range(x)` do?  \n",
    "\n",
    "Basically, this piece of code runs a [loop](https://en.wikipedia.org/wiki/Control_flow#Loops) (\"loops\") over the full range of `x` numbers, printing each one of them. \n",
    "\n",
    "First, let's understand the `range()` function. This function generates, as the name suggests, a range of integers depending on the input to it. So, for example, range(10) generates 10 numbers, starting at 0:"
   ]
  },
  {
   "cell_type": "code",
   "execution_count": 113,
   "metadata": {},
   "outputs": [
    {
     "name": "stdout",
     "output_type": "stream",
     "text": [
      "0\n",
      "1\n",
      "2\n",
      "3\n",
      "4\n",
      "5\n",
      "6\n",
      "7\n",
      "8\n",
      "9\n"
     ]
    }
   ],
   "source": [
    "for i in range(10):\n",
    "    print(i)"
   ]
  },
  {
   "cell_type": "markdown",
   "metadata": {},
   "source": [
    "The start point is 0 because this is Python (it will start at 1 in R, for example). Note that if you try to run`range()` by itself, it will not actually produce a range of numbers. For example:"
   ]
  },
  {
   "cell_type": "code",
   "execution_count": 114,
   "metadata": {},
   "outputs": [
    {
     "data": {
      "text/plain": [
       "range(0, 10)"
      ]
     },
     "execution_count": 114,
     "metadata": {},
     "output_type": "execute_result"
    }
   ],
   "source": [
    "a = range(10)\n",
    "a"
   ]
  },
  {
   "cell_type": "markdown",
   "metadata": {},
   "source": [
    "So all you get is the start and end point of the range, stored as `a`, whereas you might have expected to see the actual range of numbers. \n",
    "\n",
    "But as you saw above, this is a range of integers starting at 0, so 10 will actually not be in the set of numbers that are generated. \n",
    "\n",
    "The reason why `range(10)` does not give you the actual range of numbers when you call it, is that it is a \"generator\". It doesn't actually produce all numbers at once, but generates them only when needed (in the loop). This is (memory-)efficient, as it does not require a bunch of numbers to be stored in the RAM memory."
   ]
  },
  {
   "cell_type": "markdown",
   "metadata": {},
   "source": [
    "You can also use `range()` to generate numbers (and loop over) from a specific range of integers. For example, to generate a range from 1 to 5, do:"
   ]
  },
  {
   "cell_type": "code",
   "execution_count": 115,
   "metadata": {
    "scrolled": true
   },
   "outputs": [
    {
     "name": "stdout",
     "output_type": "stream",
     "text": [
      "1\n",
      "2\n",
      "3\n",
      "4\n",
      "5\n"
     ]
    }
   ],
   "source": [
    "for i in range(1, 6):\n",
    "    print(i)"
   ]
  },
  {
   "cell_type": "markdown",
   "metadata": {},
   "source": [
    "Yes, it is slightly counter-intuitive that you have to use `range(1, 6)` to generate numbers from 1 to 5, but that's inevitable (and something to get used to) because of the fact that Python's indexing starts at 0!\n",
    "\n",
    "You can also generate a set of indices that skips values using `range()` like so:"
   ]
  },
  {
   "cell_type": "code",
   "execution_count": 116,
   "metadata": {},
   "outputs": [
    {
     "name": "stdout",
     "output_type": "stream",
     "text": [
      "2\n",
      "4\n",
      "6\n",
      "8\n"
     ]
    }
   ],
   "source": [
    "for i in range(2, 10, 2): # skip odd numbers\n",
    "    print(i)"
   ]
  },
  {
   "cell_type": "markdown",
   "metadata": {},
   "source": [
    "Play around with range a bit, and also check out its documentation. This is a very important function that you will use again and again!"
   ]
  },
  {
   "cell_type": "markdown",
   "metadata": {},
   "source": [
    "```{note}\n",
    "The `range()` function in  Python 2 vs Python 3 are entirely different. The Python 3 range() function is actually what is called `xrange` in Python 2. There are in fact both `range` and `xrange` functions in Python 2. `xrange`, renamed as `range`, is now the default in Python 3 because it is more memory efficient. \n",
    "```"
   ]
  },
  {
   "cell_type": "markdown",
   "metadata": {},
   "source": [
    "OK, on to the variable `i` in our loop. This is a temporary placeholder for the value of `x` at each iteration of the loop (AKA the \"iterator\" variable). So, in the first iteration of the loop, i = 0, which is also the \"index\" value of the loop at that point. We have used `i`, but you can use any valid variable name, such as `j`, `k`, or even `num` (try it). \n",
    "\n",
    "### Iterator vs Iterable\n",
    "\n",
    "Loops in Python work by generating and then \"iterating\" over an \"iterator\". \n",
    "\n",
    "In Python an \"iterable\" is an object that be can iterated over (e.g., a list or a tuple). In contrast, an \"iterator\", also an object, can iterate over an iterable (go element by element through it). An object is called iterable if we can obtain an iterator from it. Built-in Python data structures - lists, tuples, dictionaries - as well as data types like strings are iterables. \n",
    "\n",
    "Thus, a list is iterable but not an iterator.\n",
    "\n",
    "Technically, in Python an iterator is generated by passing an iterable to an `iter()` method. Iterators themselves have a `__next__()` method, which returns the next item of the object. \n",
    "\n",
    "To see how what an iterator vs an iterable is, try out the following:"
   ]
  },
  {
   "cell_type": "code",
   "execution_count": 117,
   "metadata": {},
   "outputs": [
    {
     "data": {
      "text/plain": [
       "list"
      ]
     },
     "execution_count": 117,
     "metadata": {},
     "output_type": "execute_result"
    }
   ],
   "source": [
    "my_iterable = [1,2,3]\n",
    "\n",
    "type(my_iterable)"
   ]
  },
  {
   "cell_type": "code",
   "execution_count": 118,
   "metadata": {},
   "outputs": [
    {
     "data": {
      "text/plain": [
       "list_iterator"
      ]
     },
     "execution_count": 118,
     "metadata": {},
     "output_type": "execute_result"
    }
   ],
   "source": [
    "my_iterator = iter(my_iterable)\n",
    "\n",
    "type(my_iterator)"
   ]
  },
  {
   "cell_type": "code",
   "execution_count": 119,
   "metadata": {},
   "outputs": [
    {
     "data": {
      "text/plain": [
       "1"
      ]
     },
     "execution_count": 119,
     "metadata": {},
     "output_type": "execute_result"
    }
   ],
   "source": [
    "next(my_iterator) # same as my_iterator.__next__()"
   ]
  },
  {
   "cell_type": "code",
   "execution_count": 120,
   "metadata": {},
   "outputs": [
    {
     "data": {
      "text/plain": [
       "2"
      ]
     },
     "execution_count": 120,
     "metadata": {},
     "output_type": "execute_result"
    }
   ],
   "source": [
    "next(my_iterator)"
   ]
  },
  {
   "cell_type": "code",
   "execution_count": 121,
   "metadata": {},
   "outputs": [
    {
     "data": {
      "text/plain": [
       "3"
      ]
     },
     "execution_count": 121,
     "metadata": {},
     "output_type": "execute_result"
    }
   ],
   "source": [
    "next(my_iterator)"
   ]
  },
  {
   "cell_type": "code",
   "execution_count": 122,
   "metadata": {},
   "outputs": [
    {
     "ename": "StopIteration",
     "evalue": "",
     "output_type": "error",
     "traceback": [
      "\u001b[0;31m---------------------------------------------------------------------------\u001b[0m",
      "\u001b[0;31mStopIteration\u001b[0m                             Traceback (most recent call last)",
      "Cell \u001b[0;32mIn[122], line 1\u001b[0m\n\u001b[0;32m----> 1\u001b[0m \u001b[38;5;28;43mnext\u001b[39;49m\u001b[43m(\u001b[49m\u001b[43mmy_iterator\u001b[49m\u001b[43m)\u001b[49m\n",
      "\u001b[0;31mStopIteration\u001b[0m: "
     ]
    }
   ],
   "source": [
    "next(my_iterator)"
   ]
  },
  {
   "cell_type": "markdown",
   "metadata": {},
   "source": [
    "Once, when you iterated all items in an iterator, and no more data are available, and a `StopIteration` exception is raised."
   ]
  },
  {
   "cell_type": "markdown",
   "metadata": {},
   "source": [
    "```{note} \n",
    "**Generator vs Iterator**: By now you might be wondering what the difference between a *generator* and an *iterator* is. The simple answer is \"Every iterator is not a generator, but every generator is an iterator\". Its of course not as simple as that because if you try to use the output of `range()` like a normal iterator (e.g., by applying the `next()` method to it), it will not work.  The proper answer is a bit technical, and we do not need to go into it; what matters is that `range()` works for you when looping! You can read more about the difference between generators and iterators [here](https://docs.python.org/3/library/stdtypes.html#iterator-types) and [here](https://www.geeksforgeeks.org/difference-between-iterator-vs-generator/). \n",
    "```"
   ]
  },
  {
   "cell_type": "markdown",
   "metadata": {
    "slideshow": {
     "slide_type": "skip"
    }
   },
   "source": [
    "### Some loops examples\n",
    "\n",
    "Write the following, and save them to `loops.py`:\n",
    "\n",
    "```python\n",
    "# FOR loops\n",
    "for i in range(5):\n",
    "    print(i)\n",
    "\n",
    "my_list = [0, 2, \"geronimo!\", 3.0, True, False]\n",
    "for k in my_list:\n",
    "    print(k)\n",
    "\n",
    "total = 0\n",
    "summands = [0, 1, 11, 111, 1111]\n",
    "for s in summands:\n",
    "    total = total + s\n",
    "    print(total)\n",
    "\n",
    "# WHILE loop\n",
    "z = 0\n",
    "while z < 100:\n",
    "    z = z + 1\n",
    "    print(z)\n",
    "```"
   ]
  },
  {
   "cell_type": "markdown",
   "metadata": {},
   "source": [
    "## Functions\n",
    "\n",
    "In python, you delineate a function (recall what a function means from the [table above](#Some-terminology)) by using indentation. For example:"
   ]
  },
  {
   "cell_type": "code",
   "execution_count": 124,
   "metadata": {},
   "outputs": [],
   "source": [
    "def foo(x):\n",
    "    x *= x # same as x = x*x\n",
    "    print (x)\n",
    "    return x"
   ]
  },
  {
   "cell_type": "markdown",
   "metadata": {},
   "source": [
    "Now you will have a function object called `foo` in your workspace. You can check this using the `%whos` magic command, which lists and describes all the objects in your workspace:  "
   ]
  },
  {
   "cell_type": "code",
   "execution_count": 125,
   "metadata": {},
   "outputs": [
    {
     "name": "stdout",
     "output_type": "stream",
     "text": [
      "Variable      Type             Data/Info\n",
      "----------------------------------------\n",
      "FoodWeb       list             n=4\n",
      "GenomeSize    dict             n=4\n",
      "MyList        list             n=4\n",
      "MyTuple       tuple            n=3\n",
      "a             range            range(0, 10)\n",
      "b             list             n=2\n",
      "c             set              {3, 4, 5, 6}\n",
      "copy          module           <module 'copy' from '/usr<...>/lib/python3.10/copy.py'>\n",
      "foo           function         <function foo at 0x799cf02c3910>\n",
      "i             int              8\n",
      "my_dict       dict             n=2\n",
      "my_iterable   list             n=3\n",
      "my_iterator   list_iterator    <list_iterator object at 0x799cf0129000>\n",
      "my_set        set              {1, 2, 3, 4, 5}\n",
      "my_tuple      tuple            n=5\n",
      "s             str               this is a string \n",
      "t             str              this is a string\n",
      "this          module           <module 'this' from '/usr<...>/lib/python3.10/this.py'>\n",
      "x             int              11\n",
      "y             int              2\n",
      "z             str              88\n"
     ]
    }
   ],
   "source": [
    "%whos"
   ]
  },
  {
   "cell_type": "markdown",
   "metadata": {},
   "source": [
    "So, `foo` is a function stored in memory (at address given by the value `0x...` in the `Data/Info` column), and ready to serve you!\n",
    "\n",
    "Now \"call it\":"
   ]
  },
  {
   "cell_type": "code",
   "execution_count": 126,
   "metadata": {},
   "outputs": [
    {
     "name": "stdout",
     "output_type": "stream",
     "text": [
      "4\n"
     ]
    },
    {
     "data": {
      "text/plain": [
       "4"
      ]
     },
     "execution_count": 126,
     "metadata": {},
     "output_type": "execute_result"
    }
   ],
   "source": [
    "foo(2)"
   ]
  },
  {
   "cell_type": "markdown",
   "metadata": {},
   "source": [
    "Note that the first,  `print` command only outputs the value of `x` to the terminal, whereas, the second `return` command actually outputs it so that you can \"capture\" and store it. \n",
    "\n",
    "To see this distinction, let's try the following."
   ]
  },
  {
   "cell_type": "code",
   "execution_count": 127,
   "metadata": {},
   "outputs": [
    {
     "name": "stdout",
     "output_type": "stream",
     "text": [
      "4\n"
     ]
    }
   ],
   "source": [
    "def foo(x):\n",
    "    x *= x # same as x = x*x\n",
    "    print (x)\n",
    "    return x\n",
    "\n",
    "y = foo(2)"
   ]
  },
  {
   "cell_type": "code",
   "execution_count": 128,
   "metadata": {},
   "outputs": [
    {
     "data": {
      "text/plain": [
       "4"
      ]
     },
     "execution_count": 128,
     "metadata": {},
     "output_type": "execute_result"
    }
   ],
   "source": [
    "y"
   ]
  },
  {
   "cell_type": "code",
   "execution_count": 129,
   "metadata": {},
   "outputs": [
    {
     "data": {
      "text/plain": [
       "int"
      ]
     },
     "execution_count": 129,
     "metadata": {},
     "output_type": "execute_result"
    }
   ],
   "source": [
    "type(y)"
   ]
  },
  {
   "cell_type": "markdown",
   "metadata": {},
   "source": [
    "Thus, the output of `foo` was stored as a new variable `y`. "
   ]
  },
  {
   "cell_type": "code",
   "execution_count": 130,
   "metadata": {},
   "outputs": [
    {
     "name": "stdout",
     "output_type": "stream",
     "text": [
      "4\n"
     ]
    }
   ],
   "source": [
    "def foo(x):\n",
    "    x *= x # same as x = x*x\n",
    "    print (x)\n",
    "    # return x\n",
    "\n",
    "y = foo(2)"
   ]
  },
  {
   "cell_type": "code",
   "execution_count": 131,
   "metadata": {},
   "outputs": [],
   "source": [
    "y"
   ]
  },
  {
   "cell_type": "code",
   "execution_count": 132,
   "metadata": {},
   "outputs": [
    {
     "data": {
      "text/plain": [
       "NoneType"
      ]
     },
     "execution_count": 132,
     "metadata": {},
     "output_type": "execute_result"
    }
   ],
   "source": [
    "type(y)"
   ]
  },
  {
   "cell_type": "markdown",
   "metadata": {},
   "source": [
    "So, if we don't explicitly `return` the value of `x`, the output of `foo` cannot be stored."
   ]
  },
  {
   "cell_type": "markdown",
   "metadata": {
    "slideshow": {
     "slide_type": "slide"
    }
   },
   "source": [
    "## Running Python scripts\n",
    "\n",
    "Instead of pasting or sending code to the Python command prompt like you did above, let's learn how to write it into a script and run it.  \n",
    "\n",
    "$\\star$ Write the following code into a file called `MyExampleScript.py`:\n",
    "\n",
    "```python\n",
    "\n",
    "def foo(x):\n",
    "    x *= x # same as x = x*x\n",
    "    print(x)\n",
    "\n",
    "foo(2)\n",
    "```\n",
    "\n",
    "### Using the UNIX shell\n",
    "Open another bash terminal, and `cd ` to directory where you have saved this script file. Then, run it using:\n",
    "\n",
    "```bash\n",
    "python3 MyExampleScript.py\n",
    "```\n",
    "\n",
    "### From the UNIX shell, using ipython \n",
    "\n",
    "Alternatively, you can use ipython:\n",
    "\n",
    "```bash\n",
    "ipython3 MyExampleScript.py\n",
    "```\n",
    "With the same result. \n",
    "\n",
    "### From within the ipython shell\n",
    "\n",
    "You can also execute python scripts from within the `ipython` shell with \n",
    "\n",
    "```python\n",
    "%run MyExampleScript.py\n",
    "```\n",
    "\n",
    "That is, enter `ipython` from bash (or switch to a terminal where you are already in the ipython shell), and then use the `run` command with the name of the script file. \n",
    "\n",
    "To run the script from the native Python shell, you would use `exec(open(\"./filename\").read())`, but we won't bother doing that (though you can/should try it out for fun!).\n"
   ]
  },
  {
   "cell_type": "markdown",
   "metadata": {
    "tags": []
   },
   "source": [
    "## Control flow tools\n",
    "\n",
    "OK, let's get deeper into python code. A computer script or program's control flow is the order in which the code executes. Upto now, you have written scripts with simple control flows, with the code executing statements from the top to bottom. But very often, you want more flexible flows of commands and statements, for example, where you can switch between alternative commands depending on some condition. This is possible using *control flow tools*. Let's learn python's control flow tools hands-on.   \n",
    "\n",
    "(python-conditionals)=\n",
    "### Conditionals\n",
    "\n",
    "Now that we know how to define functions in Python, let's look at *conditionals* that allow you fine-grained control over the function's operations.\n",
    "\n",
    "Let's start with the `if` statement, which allows you to control when to execute a statement. This is the basic syntax:\n",
    "\n",
    "```python\n",
    "if <expr>:\n",
    "    <statement>\n",
    "```\n",
    "\n",
    "`<expr>` is the (boolean) condition (True / False) that needs to be met for the `<statement>` to be executed. \n",
    "\n",
    "Let's look at a basic example."
   ]
  },
  {
   "cell_type": "code",
   "execution_count": 133,
   "metadata": {},
   "outputs": [],
   "source": [
    "x = 0; y = 2"
   ]
  },
  {
   "cell_type": "code",
   "execution_count": 134,
   "metadata": {},
   "outputs": [
    {
     "name": "stdout",
     "output_type": "stream",
     "text": [
      "yes\n"
     ]
    }
   ],
   "source": [
    "if x < y: # \"Truthy\"\n",
    "    print('yes')"
   ]
  },
  {
   "cell_type": "code",
   "execution_count": 135,
   "metadata": {},
   "outputs": [],
   "source": [
    "if x:\n",
    "    print('yes')"
   ]
  },
  {
   "cell_type": "markdown",
   "metadata": {},
   "source": [
    "No output here because x is NOT an integer"
   ]
  },
  {
   "cell_type": "code",
   "execution_count": 136,
   "metadata": {},
   "outputs": [
    {
     "name": "stdout",
     "output_type": "stream",
     "text": [
      "yes\n"
     ]
    }
   ],
   "source": [
    "if x==0:\n",
    "    print('yes')"
   ]
  },
  {
   "cell_type": "code",
   "execution_count": 137,
   "metadata": {},
   "outputs": [
    {
     "name": "stdout",
     "output_type": "stream",
     "text": [
      "yes\n"
     ]
    }
   ],
   "source": [
    "if y:\n",
    "    print('yes')"
   ]
  },
  {
   "cell_type": "code",
   "execution_count": 138,
   "metadata": {},
   "outputs": [
    {
     "name": "stdout",
     "output_type": "stream",
     "text": [
      "yes\n"
     ]
    }
   ],
   "source": [
    "if y == 2:\n",
    "    print('yes')"
   ]
  },
  {
   "cell_type": "code",
   "execution_count": 139,
   "metadata": {},
   "outputs": [],
   "source": [
    "x = True # make x boolean"
   ]
  },
  {
   "cell_type": "code",
   "execution_count": 140,
   "metadata": {},
   "outputs": [
    {
     "name": "stdout",
     "output_type": "stream",
     "text": [
      "yes\n"
     ]
    }
   ],
   "source": [
    "if x: # now it works\n",
    "    print('yes')"
   ]
  },
  {
   "cell_type": "code",
   "execution_count": 141,
   "metadata": {},
   "outputs": [
    {
     "name": "stdout",
     "output_type": "stream",
     "text": [
      "yes\n"
     ]
    }
   ],
   "source": [
    "if x == True:\n",
    "    print('yes')"
   ]
  },
  {
   "cell_type": "markdown",
   "metadata": {
    "jp-MarkdownHeadingCollapsed": true,
    "slideshow": {
     "slide_type": "skip"
    },
    "tags": []
   },
   "source": [
    "We can now try combining functions and the `if` conditional. \n",
    "\n",
    "$\\star$ Run the following functions *one by one*, by pasting the block in the ipython command line. First, type all them all in a script and save it as `cfexercises1.py`. Then you can send them block by block easily to the command line assuming you have set your code editor to allow selections of code to be sent to terminal directly using a key binding (typically , `ctrl+enter`). \n",
    "\n",
    "\n",
    "```python\n",
    "\n",
    "def foo_1(x):\n",
    "    return x ** 0.5\n",
    "\n",
    "def foo_2(x, y):\n",
    "    if x > y:\n",
    "        return x\n",
    "    return y\n",
    "\n",
    "def foo_3(x, y, z):\n",
    "    if x > y:\n",
    "        x, y = y, x\n",
    "    if x > z:\n",
    "        x, z = z, x\n",
    "    if y > z:\n",
    "        y, z = z, y\n",
    "    return [x, y, z]\n",
    "\n",
    "def foo_4(x):\n",
    "    result = 1\n",
    "    for i in range(1, x + 1):\n",
    "        result = result * i\n",
    "    return result\n",
    "\n",
    "def foo_5(x): # a recursive function that calculates the factorial of x\n",
    "    if x == 1:\n",
    "        return 1\n",
    "    return x * foo_5(x - 1)\n",
    "     \n",
    "def foo_6(x): # Calculate the factorial of x in a different way; no if statement involved\n",
    "    facto = 1\n",
    "    while x >= 1:\n",
    "        facto = facto * x\n",
    "        x = x - 1\n",
    "    return facto\n",
    "```"
   ]
  },
  {
   "cell_type": "markdown",
   "metadata": {
    "slideshow": {
     "slide_type": "skip"
    }
   },
   "source": [
    "*Think about what each of the foo_x function does before running it.* Note that `foo_5` is a recursive function, meaning that the function [calls itself](https://en.wikipedia.org/wiki/Recursion_(computer_science)). Note that the factorial of 0 is also 1, i.e., $0! = 1$, but `foo_5` and `foo_6` cannot handle this. You may wish to modify the functions to fix this!"
   ]
  },
  {
   "cell_type": "markdown",
   "metadata": {
    "slideshow": {
     "slide_type": "skip"
    }
   },
   "source": [
    "### More examples of loops and conditionals combined\n",
    "\n",
    "$\\star$ Write the following functions and save them to `cfexercises2.py`:\n",
    "\n",
    "```python\n",
    "\n",
    "########################\n",
    "def hello_1(x):\n",
    "    for j in range(x):\n",
    "        if j % 3 == 0:\n",
    "            print('hello')\n",
    "    print(' ')\n",
    "\n",
    "hello_1(12)\n",
    "\n",
    "########################\n",
    "def hello_2(x):\n",
    "    for j in range(x):\n",
    "        if j % 5 == 3:\n",
    "            print('hello')\n",
    "        elif j % 4 == 3:\n",
    "            print('hello')\n",
    "    print(' ')\n",
    "\n",
    "hello_2(12)\n",
    "\n",
    "########################\n",
    "def hello_3(x, y):\n",
    "    for i in range(x, y):\n",
    "        print('hello')\n",
    "    print(' ')\n",
    "\n",
    "hello_3(3, 17)\n",
    "\n",
    "########################\n",
    "def hello_4(x):\n",
    "    while x != 15:\n",
    "        print('hello')\n",
    "        x = x + 3\n",
    "    print(' ')\n",
    "\n",
    "hello_4(0)\n",
    "\n",
    "########################\n",
    "def hello_5(x):\n",
    "    while x < 100:\n",
    "        if x == 31:\n",
    "            for k in range(7):\n",
    "                print('hello')\n",
    "        elif x == 18:\n",
    "            print('hello')\n",
    "        x = x + 1\n",
    "    print(' ')\n",
    "\n",
    "hello_5(12)\n",
    "\n",
    "# WHILE loop with BREAK\n",
    "def hello_6(x, y):\n",
    "    while x: # while x is True\n",
    "        print(\"hello! \" + str(y))\n",
    "        y += 1 # increment y by 1 \n",
    "        if y == 6:\n",
    "            break\n",
    "    print(' ')\n",
    "\n",
    "hello_6 (True, 0)\n",
    "```\n",
    "\n",
    "*Try to predict how many times \"hello\" will be printed before testing each of these functions*.\n",
    "\n",
    "```{Note}\n",
    "Note how, in the last function above, the `break` directive exits *the loop* when the condition is met. If you did not have this, you would get an infinite loop! (and would need to use `Ctrl+c` to stop it). Note also that `break` only breaks out of the current loop. It does not stop the execution of the rest of the code that may be in that program or script.\n",
    "```"
   ]
  },
  {
   "cell_type": "markdown",
   "metadata": {
    "slideshow": {
     "slide_type": "slide"
    }
   },
   "source": [
    "(Python-Comprehensions)=\n",
    "## Comprehensions\n",
    "\n",
    "Python offers a way to combine loops and logical tests / conditionals in a single line of code to transform any *iterable* object (list, set, or dictionary, over which you can iterate) into another object, after performing some operations on the elements in the original object. That is, they are a compact way to create a new list, dictionary or object from an existing one. As you might expect, there are three types of comprehensions, each corresponding to what the target object is (list, set, dictionary).\n",
    "\n",
    "Let's look at how list comprehensions work:"
   ]
  },
  {
   "cell_type": "code",
   "execution_count": 142,
   "metadata": {
    "slideshow": {
     "slide_type": "skip"
    }
   },
   "outputs": [
    {
     "name": "stdout",
     "output_type": "stream",
     "text": [
      "[0, 1, 2, 3, 4, 5, 6, 7, 8, 9]\n"
     ]
    }
   ],
   "source": [
    "x = [i for i in range(10)]\n",
    "print(x)"
   ]
  },
  {
   "cell_type": "markdown",
   "metadata": {
    "slideshow": {
     "slide_type": "skip"
    }
   },
   "source": [
    "This is the same as writing the following loop:"
   ]
  },
  {
   "cell_type": "code",
   "execution_count": 143,
   "metadata": {
    "slideshow": {
     "slide_type": "skip"
    }
   },
   "outputs": [
    {
     "name": "stdout",
     "output_type": "stream",
     "text": [
      "[0, 1, 2, 3, 4, 5, 6, 7, 8, 9]\n"
     ]
    }
   ],
   "source": [
    "x = []\n",
    "for i in range(10):\n",
    "    x.append(i)\n",
    "print(x)"
   ]
  },
  {
   "cell_type": "markdown",
   "metadata": {
    "slideshow": {
     "slide_type": "skip"
    }
   },
   "source": [
    "Here's another example:  "
   ]
  },
  {
   "cell_type": "code",
   "execution_count": 144,
   "metadata": {
    "slideshow": {
     "slide_type": "skip"
    }
   },
   "outputs": [
    {
     "name": "stdout",
     "output_type": "stream",
     "text": [
      "['list', 'comprehensions', 'are', 'cool']\n"
     ]
    }
   ],
   "source": [
    "x = [i.lower() for i in [\"LIST\",\"COMPREHENSIONS\",\"ARE\",\"COOL\"]]\n",
    "print(x)"
   ]
  },
  {
   "cell_type": "markdown",
   "metadata": {
    "slideshow": {
     "slide_type": "skip"
    }
   },
   "source": [
    "Which is same as the loop:"
   ]
  },
  {
   "cell_type": "code",
   "execution_count": 145,
   "metadata": {
    "scrolled": true,
    "slideshow": {
     "slide_type": "skip"
    }
   },
   "outputs": [
    {
     "name": "stdout",
     "output_type": "stream",
     "text": [
      "['list', 'comprehensions', 'are', 'cool']\n"
     ]
    }
   ],
   "source": [
    "x = [\"LIST\",\"COMPREHENSIONS\",\"ARE\",\"COOL\"]\n",
    "for i in range(len(x)): # explicit loop\n",
    "    x[i] = x[i].lower()\n",
    "print(x)"
   ]
  },
  {
   "cell_type": "markdown",
   "metadata": {
    "slideshow": {
     "slide_type": "skip"
    }
   },
   "source": [
    "Or this loop:"
   ]
  },
  {
   "cell_type": "code",
   "execution_count": 146,
   "metadata": {
    "scrolled": true,
    "slideshow": {
     "slide_type": "skip"
    }
   },
   "outputs": [
    {
     "name": "stdout",
     "output_type": "stream",
     "text": [
      "['list', 'comprehensions', 'are', 'cool']\n"
     ]
    }
   ],
   "source": [
    "x = [\"LIST\",\"COMPREHENSIONS\",\"ARE\",\"COOL\"]\n",
    "x_new = []\n",
    "for i in x: # implicit loop\n",
    "    x_new.append(i.lower())\n",
    "print(x_new)"
   ]
  },
  {
   "cell_type": "markdown",
   "metadata": {
    "slideshow": {
     "slide_type": "skip"
    }
   },
   "source": [
    "How about a nested loop? Let's try an example where we \"flatten\" a 2D (1 row x 1 column) matrix into 1D (all numbers across rows in a single sequence) :"
   ]
  },
  {
   "cell_type": "code",
   "execution_count": 147,
   "metadata": {
    "slideshow": {
     "slide_type": "skip"
    }
   },
   "outputs": [
    {
     "name": "stdout",
     "output_type": "stream",
     "text": [
      "[1, 2, 3, 4, 5, 6, 7, 8, 9]\n"
     ]
    }
   ],
   "source": [
    "matrix = [[1,2,3],[4,5,6],[7,8,9]]\n",
    "flattened_matrix = []\n",
    "for row in matrix:\n",
    "    for n in row:\n",
    "        flattened_matrix.append(n)\n",
    "print(flattened_matrix)"
   ]
  },
  {
   "cell_type": "markdown",
   "metadata": {
    "slideshow": {
     "slide_type": "skip"
    }
   },
   "source": [
    "A list comprehension to do the same:"
   ]
  },
  {
   "cell_type": "code",
   "execution_count": 148,
   "metadata": {
    "slideshow": {
     "slide_type": "skip"
    }
   },
   "outputs": [
    {
     "name": "stdout",
     "output_type": "stream",
     "text": [
      "[1, 2, 3, 4, 5, 6, 7, 8, 9]\n"
     ]
    }
   ],
   "source": [
    "matrix = [[1,2,3],[4,5,6],[7,8,9]]\n",
    "flattened_matrix = [n for row in matrix for n in row]\n",
    "print(flattened_matrix)"
   ]
  },
  {
   "cell_type": "markdown",
   "metadata": {},
   "source": [
    "This list comprehension uses a nested loop, so its syntax is a bit harder to understand than the list comprehension using a single loop. So let's dissect it:\n",
    "\n",
    "* We need to loop over each row in the given 2D list and append it to the previous row in the new `flattened_matrix` object (list). To understand how the list comprehension achieves this, let's divide it into its three parts:\n",
    "```python\n",
    "flatten_matrix = [n\n",
    "                  for row in matrix\n",
    "                  for n in row]\n",
    "```\n",
    "    \n",
    "* The first line `n` states what we want to append in the new flattened list. \n",
    "* The second line is the outer loop (same as `for row in matrix:` in the nested loop above); it returns the rows (sub-lists) inside the matrix one by one (`[1, 2, 3]`, `[4, 5, 6]`, `[7, 8, 9]`\n",
    "* The third line is the inner loop (same as `for n in row:` in the nested loop above); it returns all the values inside the row (the sub-list) and appends them to the growing flattened list `flattened_matrix`. That is, if row = [1, 2, 3], `for n in row` returns `1`, `2`, `3` one by one, and appends it to `flattened_matrix` in their original sequence."
   ]
  },
  {
   "cell_type": "markdown",
   "metadata": {
    "slideshow": {
     "slide_type": "skip"
    }
   },
   "source": [
    "Set and Dictionary comprehensions work in an analogous way. For example, create a set of all the first letters in a sequence of words using a loop:  "
   ]
  },
  {
   "cell_type": "code",
   "execution_count": 149,
   "metadata": {
    "slideshow": {
     "slide_type": "skip"
    }
   },
   "outputs": [
    {
     "name": "stdout",
     "output_type": "stream",
     "text": [
      "{'a', 'w', 'T', 's'}\n"
     ]
    },
    {
     "data": {
      "text/plain": [
       "set"
      ]
     },
     "execution_count": 149,
     "metadata": {},
     "output_type": "execute_result"
    }
   ],
   "source": [
    "words = [\"These\", \"are\", \"some\", \"words\"]\n",
    "\n",
    "first_letters = set()\n",
    "for w in words:\n",
    "    first_letters.add(w[0])\n",
    "\n",
    "print(first_letters)\n",
    "\n",
    "type(first_letters)"
   ]
  },
  {
   "cell_type": "markdown",
   "metadata": {
    "slideshow": {
     "slide_type": "skip"
    }
   },
   "source": [
    "Note that sets are unordered (the first letters don't appear in the order you might expect). \n",
    "\n",
    "Now, the same as a set comprehension: "
   ]
  },
  {
   "cell_type": "code",
   "execution_count": 150,
   "metadata": {
    "slideshow": {
     "slide_type": "skip"
    }
   },
   "outputs": [
    {
     "name": "stdout",
     "output_type": "stream",
     "text": [
      "{'a', 'w', 'T', 's'}\n"
     ]
    },
    {
     "data": {
      "text/plain": [
       "set"
      ]
     },
     "execution_count": 150,
     "metadata": {},
     "output_type": "execute_result"
    }
   ],
   "source": [
    "words = [\"These\", \"are\", \"some\", \"words\"]\n",
    "\n",
    "first_letters = {w[0] for w in words} # note the curly brackets\n",
    "\n",
    "print(first_letters)\n",
    "\n",
    "type(first_letters)"
   ]
  },
  {
   "cell_type": "markdown",
   "metadata": {
    "slideshow": {
     "slide_type": "skip"
    }
   },
   "source": [
    "Now, type the following in a script file called `oaks.py` and test it:\n",
    "\n",
    "```python\n",
    "## Finds just those taxa that are oak trees from a list of species\n",
    "\n",
    "taxa = [ 'Quercus robur',\n",
    "         'Fraxinus excelsior',\n",
    "         'Pinus sylvestris',\n",
    "         'Quercus cerris',\n",
    "         'Quercus petraea',\n",
    "       ]\n",
    "\n",
    "def is_an_oak(name):\n",
    "    return name.lower().startswith('quercus ')\n",
    "\n",
    "##Using for loops\n",
    "oaks_loops = set()\n",
    "for species in taxa:\n",
    "    if is_an_oak(species):\n",
    "        oaks_loops.add(species)\n",
    "print(oaks_loops)\n",
    "\n",
    "##Using list comprehensions   \n",
    "oaks_lc = set([species for species in taxa if is_an_oak(species)])\n",
    "print(oaks_lc)\n",
    "\n",
    "##Get names in UPPER CASE using for loops\n",
    "oaks_loops = set()\n",
    "for species in taxa:\n",
    "    if is_an_oak(species):\n",
    "        oaks_loops.add(species.upper())\n",
    "print(oaks_loops)\n",
    "\n",
    "##Get names in UPPER CASE using list comprehensions\n",
    "oaks_lc = set([species.upper() for species in taxa if is_an_oak(species)])\n",
    "print(oaks_lc)\n",
    "```\n",
    "\n",
    "Carefully compare the looping vs list comprehension way for the two  tasks (find oak tree species names and get names in upper case) to make sure you understand what's going on.   \n",
    "\n",
    "```{note}\n",
    "Don't go mad with list comprehensions — code readability is more important than squeezing lots into a single line! They can also make your code run more slowly or use more memory in some cases (we will learn about this more in the [second Python Chapter](./Python.ipynb)).\n",
    "```"
   ]
  },
  {
   "cell_type": "markdown",
   "metadata": {
    "slideshow": {
     "slide_type": "skip"
    }
   },
   "source": [
    "## Variable scope\n",
    "\n",
    "One important thing to note about functions, in any programming language, is that variables created inside functions are invisible outside of it, nor do they persist once the function has run unless they are explicitly returned. These are called \"local\" variables, and are only accessible inside their function. \n",
    "\n",
    "Here is an example. First, type and run this block of code:"
   ]
  },
  {
   "cell_type": "code",
   "execution_count": 151,
   "metadata": {},
   "outputs": [
    {
     "name": "stdout",
     "output_type": "stream",
     "text": [
      "9\n",
      "10\n"
     ]
    }
   ],
   "source": [
    "i = 1\n",
    "x = 0\n",
    "for i in range(10):\n",
    "    x += 1\n",
    "print(i)\n",
    "print(x)"
   ]
  },
  {
   "cell_type": "markdown",
   "metadata": {},
   "source": [
    "Let's break this down to understand the outputs and what's going on in terms of variable scope:"
   ]
  },
  {
   "cell_type": "code",
   "execution_count": 152,
   "metadata": {},
   "outputs": [],
   "source": [
    "i = 1\n",
    "x = 0"
   ]
  },
  {
   "cell_type": "code",
   "execution_count": 153,
   "metadata": {},
   "outputs": [
    {
     "data": {
      "text/plain": [
       "(1, 0)"
      ]
     },
     "execution_count": 153,
     "metadata": {},
     "output_type": "execute_result"
    }
   ],
   "source": [
    "i, x # or print(i, x)"
   ]
  },
  {
   "cell_type": "markdown",
   "metadata": {},
   "source": [
    "So we created two new variables, which are now in memory (your current \"workspace\")."
   ]
  },
  {
   "cell_type": "code",
   "execution_count": 154,
   "metadata": {},
   "outputs": [],
   "source": [
    "for i in range(10):\n",
    "    x += 1"
   ]
  },
  {
   "cell_type": "code",
   "execution_count": 155,
   "metadata": {},
   "outputs": [
    {
     "data": {
      "text/plain": [
       "(9, 10)"
      ]
     },
     "execution_count": 155,
     "metadata": {},
     "output_type": "execute_result"
    }
   ],
   "source": [
    "i, x"
   ]
  },
  {
   "cell_type": "markdown",
   "metadata": {},
   "source": [
    "So `i`, which was originally stored with a value of `1` in your workspace has now been updated to `9` (because the loop ran over all the numbers from 0 to 9), and `x` is has been updated to 10 due to the successive summation that the loop performs.   \n",
    "\n",
    "That is, the operations on `i` and `x` inside the loop were in fact on the variables in the main workspace (they were changed everywhere)."
   ]
  },
  {
   "cell_type": "markdown",
   "metadata": {},
   "source": [
    "Now, let's encapsulate the above code in a function:"
   ]
  },
  {
   "cell_type": "code",
   "execution_count": 156,
   "metadata": {},
   "outputs": [
    {
     "name": "stdout",
     "output_type": "stream",
     "text": [
      "1\n",
      "0\n"
     ]
    }
   ],
   "source": [
    "i = 1\n",
    "x = 0\n",
    "def a_function(y):\n",
    "    x = 0\n",
    "    for i in range(y):\n",
    "        x += 1\n",
    "    return x\n",
    "a_function(10)\n",
    "print(i)\n",
    "print(x)"
   ]
  },
  {
   "cell_type": "markdown",
   "metadata": {},
   "source": [
    "So `i` and `x` did not get updated in your workspace despite the fact that they were within the function! This is because the *scope* of the variables inside a function is retricted to within that function. That is, within the function,`i` and `x` were created and modified in a *separate* location in your compiter's memory, leaving the original variables with the same names unchanged.\n",
    "\n",
    "Again, let's break this code down to understand whats's going on. \n",
    "\n",
    "First run this in your ipython commandline:"
   ]
  },
  {
   "cell_type": "code",
   "execution_count": 157,
   "metadata": {},
   "outputs": [],
   "source": [
    "i = 1\n",
    "x = 0\n",
    "def a_function(y):\n",
    "    x = 0\n",
    "    for i in range(y):\n",
    "        x += 1\n",
    "    return x"
   ]
  },
  {
   "cell_type": "markdown",
   "metadata": {},
   "source": [
    "Now try `whos` in your ipython3 commandline, which will show you that `a_function` has indeed been saved as a python function object (and so is raring to go!).\n",
    "\n",
    "Now, "
   ]
  },
  {
   "cell_type": "code",
   "execution_count": 158,
   "metadata": {},
   "outputs": [
    {
     "data": {
      "text/plain": [
       "10"
      ]
     },
     "execution_count": 158,
     "metadata": {},
     "output_type": "execute_result"
    }
   ],
   "source": [
    "a_function(10)"
   ]
  },
  {
   "cell_type": "markdown",
   "metadata": {},
   "source": [
    "This returns 10 because you asked the function to, resturn the final value of `x` with `return x` "
   ]
  },
  {
   "cell_type": "code",
   "execution_count": 159,
   "metadata": {},
   "outputs": [
    {
     "data": {
      "text/plain": [
       "0"
      ]
     },
     "execution_count": 159,
     "metadata": {},
     "output_type": "execute_result"
    }
   ],
   "source": [
    "x"
   ]
  },
  {
   "cell_type": "markdown",
   "metadata": {},
   "source": [
    "But `x` in your main workspace is still `0` because even if you asked the function to `return x`, that made it pront `x` that was modified within the function to the screen, but this new, modified `x` is not actually saved to oyur main workspace (i.e., the original `x` in your main workspace remains untouched). \n",
    "\n",
    "To replace the old `x` with the new one resulting from running our function, you have to explicitly \"catch\" it by reassigning the variable name `x` to the output of the function:"
   ]
  },
  {
   "cell_type": "code",
   "execution_count": 160,
   "metadata": {},
   "outputs": [],
   "source": [
    "x = a_function(10)"
   ]
  },
  {
   "cell_type": "code",
   "execution_count": 161,
   "metadata": {},
   "outputs": [
    {
     "data": {
      "text/plain": [
       "10"
      ]
     },
     "execution_count": 161,
     "metadata": {},
     "output_type": "execute_result"
    }
   ],
   "source": [
    "x"
   ]
  },
  {
   "cell_type": "markdown",
   "metadata": {},
   "source": [
    "Thus, the things to note from this second example:\n",
    "\n",
    "* Both `x` and `i` are variables localised to the function (their scope is limited to within it)\n",
    "* `x` was only updated in the main workspace, outside the function, when it was explicitly `return`ed from the function *and* you explicitly reassigned the variable name `x` to the function's output.\n",
    "* `i` remained unchanged outside the function because it was not `return`ed.\n",
    "\n",
    "*Try returning both `x` and `i` (with a `return x,y` instead of `return x` in the function).*"
   ]
  },
  {
   "cell_type": "markdown",
   "metadata": {},
   "source": [
    "### Global variables\n",
    "\n",
    "In contrast, you can designate certain variables to be \"global\" so that they visible both inside and outside of functions in Python, like any other programming language.\n",
    "\n",
    "To understand this, let's look at an example. \n",
    "\n",
    "First try this:"
   ]
  },
  {
   "cell_type": "code",
   "execution_count": 163,
   "metadata": {
    "scrolled": true,
    "slideshow": {
     "slide_type": "fragment"
    }
   },
   "outputs": [
    {
     "name": "stdout",
     "output_type": "stream",
     "text": [
      "Before calling a_function, outside the function, the value of _a_global is 10\n",
      "Before calling a_function, outside the function, the value of _b_global is 15\n",
      "Inside the function, the value of _a_global is 4\n",
      "Inside the function, the value of _b_global is 9\n",
      "Inside the function, the value of _a_local is 3\n",
      "After calling a_function, outside the function, the value of _a_global is (still) 10\n",
      "After calling a_function, outside the function, the value of _b_global is (still) 15\n"
     ]
    },
    {
     "ename": "NameError",
     "evalue": "name '_a_local' is not defined",
     "output_type": "error",
     "traceback": [
      "\u001b[0;31m---------------------------------------------------------------------------\u001b[0m",
      "\u001b[0;31mNameError\u001b[0m                                 Traceback (most recent call last)",
      "Cell \u001b[0;32mIn[163], line 25\u001b[0m\n\u001b[1;32m     23\u001b[0m \u001b[38;5;28mprint\u001b[39m(\u001b[38;5;124m\"\u001b[39m\u001b[38;5;124mAfter calling a_function, outside the function, the value of _a_global is (still)\u001b[39m\u001b[38;5;124m\"\u001b[39m, _a_global)\n\u001b[1;32m     24\u001b[0m \u001b[38;5;28mprint\u001b[39m(\u001b[38;5;124m\"\u001b[39m\u001b[38;5;124mAfter calling a_function, outside the function, the value of _b_global is (still)\u001b[39m\u001b[38;5;124m\"\u001b[39m, _b_global)\n\u001b[0;32m---> 25\u001b[0m \u001b[38;5;28mprint\u001b[39m(\u001b[38;5;124m\"\u001b[39m\u001b[38;5;124mAfter calling a_function, outside the function, the value of _a_local is \u001b[39m\u001b[38;5;124m\"\u001b[39m, \u001b[43m_a_local\u001b[49m)\n",
      "\u001b[0;31mNameError\u001b[0m: name '_a_local' is not defined"
     ]
    }
   ],
   "source": [
    "_a_global = 10 # a global variable\n",
    "\n",
    "if _a_global >= 5:\n",
    "    _b_global = _a_global + 5 # also a global variable\n",
    "    \n",
    "print(\"Before calling a_function, outside the function, the value of _a_global is\", _a_global)\n",
    "print(\"Before calling a_function, outside the function, the value of _b_global is\", _b_global)\n",
    "\n",
    "def a_function():\n",
    "    _a_global = 4 # a local variable\n",
    "    \n",
    "    if _a_global >= 4:\n",
    "        _b_global = _a_global + 5 # also a local variable\n",
    "    \n",
    "    _a_local = 3\n",
    "    \n",
    "    print(\"Inside the function, the value of _a_global is\", _a_global)\n",
    "    print(\"Inside the function, the value of _b_global is\", _b_global)\n",
    "    print(\"Inside the function, the value of _a_local is\", _a_local)\n",
    "    \n",
    "a_function()\n",
    "\n",
    "print(\"After calling a_function, outside the function, the value of _a_global is (still)\", _a_global)\n",
    "print(\"After calling a_function, outside the function, the value of _b_global is (still)\", _b_global)\n",
    "print(\"After calling a_function, outside the function, the value of _a_local is \", _a_local)"
   ]
  },
  {
   "cell_type": "markdown",
   "metadata": {},
   "source": [
    "The things to note from this example: \n",
    "\n",
    "* Although `_a_global` was overwritten inside the function, what happened inside the function remained inside the function (*What happens in Vegas...*)\n",
    "* The variable `_a_local` does not persist outside the function (therefore you get the `NameError` at the end)\n",
    "* Also note that `_a_global` is just a naming convention &ndash; nothing special about this variable as such. \n",
    "\n",
    "Of course, if you assign a variable outside a function, it will be available inside it even if you don't assign it inside that function:"
   ]
  },
  {
   "cell_type": "code",
   "execution_count": 165,
   "metadata": {
    "slideshow": {
     "slide_type": "slide"
    }
   },
   "outputs": [
    {
     "name": "stdout",
     "output_type": "stream",
     "text": [
      "Inside the function, the value _a_local is 4\n",
      "Inside the function, the value of _a_global is 10\n",
      "Outside the function, the value of _a_global is 10\n"
     ]
    }
   ],
   "source": [
    "_a_global = 10\n",
    "\n",
    "def a_function():\n",
    "    _a_local = 4\n",
    "    \n",
    "    print(\"Inside the function, the value _a_local is\", _a_local)\n",
    "    print(\"Inside the function, the value of _a_global is\", _a_global)\n",
    "    \n",
    "a_function()\n",
    "\n",
    "print(\"Outside the function, the value of _a_global is\", _a_global)"
   ]
  },
  {
   "cell_type": "markdown",
   "metadata": {
    "slideshow": {
     "slide_type": "skip"
    }
   },
   "source": [
    "So `_a_global` was available to the function, and you were able to use it in the `print` command.\n",
    "\n",
    "If you really want to modify or assign a global variable from inside a function (that is, and make it available outside the function), you can use the `global` keyword:"
   ]
  },
  {
   "cell_type": "code",
   "execution_count": 166,
   "metadata": {
    "slideshow": {
     "slide_type": "skip"
    }
   },
   "outputs": [
    {
     "name": "stdout",
     "output_type": "stream",
     "text": [
      "Before calling a_function, outside the function, the value of _a_global is 10\n",
      "Inside the function, the value of _a_global is 5\n",
      "Inside the function, the value _a_local is 4\n",
      "After calling a_function, outside the function, the value of _a_global now is 5\n"
     ]
    }
   ],
   "source": [
    "_a_global = 10\n",
    "\n",
    "print(\"Before calling a_function, outside the function, the value of _a_global is\", _a_global)\n",
    "\n",
    "def a_function():\n",
    "    global _a_global\n",
    "    _a_global = 5\n",
    "    _a_local = 4\n",
    "    \n",
    "    print(\"Inside the function, the value of _a_global is\", _a_global)\n",
    "    print(\"Inside the function, the value _a_local is\", _a_local)\n",
    "    \n",
    "a_function()\n",
    "\n",
    "print(\"After calling a_function, outside the function, the value of _a_global now is\", _a_global)"
   ]
  },
  {
   "cell_type": "markdown",
   "metadata": {
    "slideshow": {
     "slide_type": "skip"
    }
   },
   "source": [
    "So, using the `global` specification converted `_a_global` to a truly global variable that became available outside that function (overwriting the original `_a_global`). \n",
    "\n",
    "The `global` keyword also works from inside nested functions, but it can be slightly confusing:   "
   ]
  },
  {
   "cell_type": "code",
   "execution_count": 167,
   "metadata": {
    "slideshow": {
     "slide_type": "skip"
    }
   },
   "outputs": [
    {
     "name": "stdout",
     "output_type": "stream",
     "text": [
      "Before calling a_function2, value of _a_global is 10\n",
      "After calling a_function2, value of _a_global is 10\n",
      "The value of a_global in main workspace / namespace now is 20\n"
     ]
    }
   ],
   "source": [
    "def a_function():\n",
    "    _a_global = 10\n",
    "\n",
    "    def _a_function2():\n",
    "        global _a_global\n",
    "        _a_global = 20\n",
    "    \n",
    "    print(\"Before calling a_function2, value of _a_global is\", _a_global)\n",
    "\n",
    "    _a_function2()\n",
    "    \n",
    "    print(\"After calling a_function2, value of _a_global is\", _a_global)\n",
    "    \n",
    "a_function()\n",
    "\n",
    "print(\"The value of a_global in main workspace / namespace now is\", _a_global)"
   ]
  },
  {
   "cell_type": "markdown",
   "metadata": {
    "slideshow": {
     "slide_type": "skip"
    }
   },
   "source": [
    "That is, using the `global` keyword inside the inner function `_a_function2` resulted in changing the value of `_a_global` in the main workspace / namespace to 20, but within the scope of `_a_function`, its value remained 10! \n",
    "\n",
    "Compare the above with this: "
   ]
  },
  {
   "cell_type": "code",
   "execution_count": 168,
   "metadata": {
    "slideshow": {
     "slide_type": "skip"
    }
   },
   "outputs": [
    {
     "name": "stdout",
     "output_type": "stream",
     "text": [
      "Before calling a_function2, value of _a_global is 10\n",
      "After calling a_function2, value of _a_global is 20\n",
      "The value of a_global in main workspace / namespace is 20\n"
     ]
    }
   ],
   "source": [
    "_a_global = 10\n",
    "\n",
    "def a_function():\n",
    "\n",
    "    def _a_function2():\n",
    "        global _a_global\n",
    "        _a_global = 20\n",
    "    \n",
    "    print(\"Before calling a_function2, value of _a_global is\", _a_global)\n",
    "\n",
    "    _a_function2()\n",
    "    \n",
    "    print(\"After calling a_function2, value of _a_global is\", _a_global)\n",
    "\n",
    "a_function()\n",
    "\n",
    "print(\"The value of a_global in main workspace / namespace is\", _a_global)"
   ]
  },
  {
   "cell_type": "markdown",
   "metadata": {
    "slideshow": {
     "slide_type": "skip"
    }
   },
   "source": [
    "Now, because `_a_global` was defined in advance (outside the first function), when `a_function` was run,\n",
    "1. This value was \"inherited\" within `a_function` from the main workspace / namespace,\n",
    "2. It was then given a **`global`** designation in the inner function `_a_function2`, \n",
    "3. And then, in the inner function `_a_function2`, when it was changed to a different value, it was modified everywhere (both within the `a_function`'s scope/namespace and main workspace / namespace) . \n",
    "\n",
    "```{warning}\n",
    "In general, avoid assigning globals because you run the risk of \"exposing\" unwanted variables to all functions within your workspace / namespace. Furthermore, avoid assigning globals within functions or sub-functions, as we did in the last two examples above! \n",
    "```\n",
    "\n",
    "```{tip}\n",
    "But in some cases you may find it useful to assign one or more global variables that are shared across multiple modules/functions. You can do this by assigning those variables as global at the start of the script/program, but a better, safer option is to create a separate module (say, called `config.py`) to hold the global variables and then `import` it where needed.\n",
    "```\n",
    "\n",
    "\n",
    "$\\star$ Collect all blocks of code above illustrating variable scope into one script called `scope.py` and test it (run and check for errors)."
   ]
  },
  {
   "cell_type": "markdown",
   "metadata": {},
   "source": [
    "### Importance of the `return` directive \n",
    "\n",
    "In the context of scope of variables, it is also important to keep in mind that in Python, arguments are passed to a function [by assignment](https://docs.python.org/3/faq/programming.html#how-do-i-write-a-function-with-output-parameters-call-by-reference). This is a bit of a technical detail that we don't need to go into here, but basically, in practice, this means that for mutable objects such as lists, unless you do something special, if a function modifies the (mutable) variable inside it, the original variable outside the function remains unchanged.\n",
    "\n",
    "Let's look at an example to understand this: "
   ]
  },
  {
   "cell_type": "code",
   "execution_count": 169,
   "metadata": {},
   "outputs": [],
   "source": [
    "def modify_list_1(some_list):\n",
    "    print('got', some_list)\n",
    "    some_list = [1, 2, 3, 4]\n",
    "    print('set to', some_list)"
   ]
  },
  {
   "cell_type": "code",
   "execution_count": 170,
   "metadata": {},
   "outputs": [
    {
     "name": "stdout",
     "output_type": "stream",
     "text": [
      "before, my_list = [1, 2, 3]\n"
     ]
    }
   ],
   "source": [
    "my_list = [1, 2, 3]\n",
    "\n",
    "print('before, my_list =', my_list)"
   ]
  },
  {
   "cell_type": "code",
   "execution_count": 171,
   "metadata": {
    "scrolled": true
   },
   "outputs": [
    {
     "name": "stdout",
     "output_type": "stream",
     "text": [
      "got [1, 2, 3]\n",
      "set to [1, 2, 3, 4]\n"
     ]
    }
   ],
   "source": [
    "modify_list_1(my_list)"
   ]
  },
  {
   "cell_type": "code",
   "execution_count": 172,
   "metadata": {
    "scrolled": true
   },
   "outputs": [
    {
     "name": "stdout",
     "output_type": "stream",
     "text": [
      "after, my_list = [1, 2, 3]\n"
     ]
    }
   ],
   "source": [
    "print('after, my_list =', my_list)"
   ]
  },
  {
   "cell_type": "markdown",
   "metadata": {},
   "source": [
    "The original list remains the same even though it is changed inside the function, as you would expect (what happens in Vegas...)\n",
    "\n",
    "This is where the `return` directive becomes important. Now modify the function to `return` the value of the input list: "
   ]
  },
  {
   "cell_type": "code",
   "execution_count": 173,
   "metadata": {},
   "outputs": [],
   "source": [
    "def modify_list_2(some_list):\n",
    "    print('got', some_list)\n",
    "    some_list = [1, 2, 3, 4]\n",
    "    print('set to', some_list)\n",
    "    return some_list"
   ]
  },
  {
   "cell_type": "code",
   "execution_count": 174,
   "metadata": {
    "scrolled": true
   },
   "outputs": [
    {
     "name": "stdout",
     "output_type": "stream",
     "text": [
      "got [1, 2, 3]\n",
      "set to [1, 2, 3, 4]\n"
     ]
    }
   ],
   "source": [
    "my_list = modify_list_2(my_list)"
   ]
  },
  {
   "cell_type": "code",
   "execution_count": 175,
   "metadata": {
    "scrolled": true
   },
   "outputs": [
    {
     "name": "stdout",
     "output_type": "stream",
     "text": [
      "after, my_list = [1, 2, 3, 4]\n"
     ]
    }
   ],
   "source": [
    "print('after, my_list =', my_list)"
   ]
  },
  {
   "cell_type": "markdown",
   "metadata": {},
   "source": [
    "So now the original `my_list` is changed because *you explicitly replaced it*. This reinforces the fact that explicit `return` statements are important.  \n",
    "\n",
    "And if we do want to modify the original list *in place*, use `append`:"
   ]
  },
  {
   "cell_type": "code",
   "execution_count": 176,
   "metadata": {},
   "outputs": [
    {
     "name": "stdout",
     "output_type": "stream",
     "text": [
      "before, my_list = [1, 2, 3]\n"
     ]
    }
   ],
   "source": [
    "def modify_list_3(some_list):\n",
    "    print('got', some_list)\n",
    "    some_list.append(4) # an actual modification of the list\n",
    "    print('changed to', some_list)\n",
    "\n",
    "my_list = [1, 2, 3]\n",
    "\n",
    "print('before, my_list =', my_list)"
   ]
  },
  {
   "cell_type": "code",
   "execution_count": 177,
   "metadata": {
    "scrolled": true
   },
   "outputs": [
    {
     "name": "stdout",
     "output_type": "stream",
     "text": [
      "got [1, 2, 3]\n",
      "changed to [1, 2, 3, 4]\n"
     ]
    }
   ],
   "source": [
    "modify_list_3(my_list)"
   ]
  },
  {
   "cell_type": "code",
   "execution_count": 178,
   "metadata": {},
   "outputs": [
    {
     "name": "stdout",
     "output_type": "stream",
     "text": [
      "after, my_list = [1, 2, 3, 4]\n"
     ]
    }
   ],
   "source": [
    "print('after, my_list =', my_list)"
   ]
  },
  {
   "cell_type": "markdown",
   "metadata": {},
   "source": [
    "That did it. So `append` will actually change the original list object. However, the fact still remains that you should use a `return` statement at the end of the function to be safe and be able to capture the output (and use it to replace an existing variable if needed).\n",
    "\n",
    "\n",
    "```{note}\n",
    "**`return`ing a `None`:** Even if you do not add a `return` directive at the end of a function, Python does in fact return something: a `None` value, which stands for a NULL value (no value at all;  so that something is a nothing!). You can use an `return None` in a Python function if you want to be explicit, or use just `return` to *completely* end the execution of the code (like `exit` in a shell script). This is different from using the `break` directive, which you were introduced above under control flow tools. \n",
    "```"
   ]
  },
  {
   "cell_type": "markdown",
   "metadata": {
    "slideshow": {
     "slide_type": "skip"
    }
   },
   "source": [
    "## Python Input/Output\n",
    "\n",
    "Let's learn to import and export data in python (and write code to do it) . \n",
    "\n",
    "$\\star$ Make a text file called `test.txt` in `week2/sandbox/` with the following content (including the empty lines):\n",
    "\n",
    "```\n",
    "First Line\n",
    "Second Line\n",
    "\n",
    "Third Line\n",
    "\n",
    "Fourth Line\n",
    "```\n",
    "\n",
    "Then, type the following in `week2/code/basic_io1.py`:\n",
    "\n",
    "```python\n",
    "#############################\n",
    "# FILE INPUT\n",
    "#############################\n",
    "# Open a file for reading\n",
    "f = open('../sandbox/test.txt', 'r')\n",
    "# use \"implicit\" for loop:\n",
    "# if the object is a file, python will cycle over lines\n",
    "for line in f:\n",
    "    print(line)\n",
    "\n",
    "# close the file\n",
    "f.close()\n",
    "\n",
    "# Same example, skip blank lines\n",
    "f = open('../sandbox/test.txt', 'r')\n",
    "for line in f:\n",
    "    if len(line.strip()) > 0:\n",
    "        print(line)\n",
    "\n",
    "f.close()\n",
    "\n",
    "```\n",
    "Run the two code blocks (that end in `f.close()`) separately in ipython (you will learn about running whole scripts below) and examine the outputs (changes in `test.txt`). Then run the whole code (both blocks) at one go in ipython.  Then also run the whole script file al well.\n",
    "\n",
    "Note the following:\n",
    "\n",
    "* The `for line in f` is an implicit loop — implicit because stating the range of things in `f` to loop over in this way allows python to handle any kind of objects to loop through. \n",
    "    * For example, if `f` was an array of numbers 1 to 10, it would loop through them\n",
    "    * Another example: if `f` is a file, as in the case of the script above, it will loop through the lines in the file.\n",
    "* `if len(line.strip()) > 0` checks if the line is empty. Try `?` to see what `.strip()` does.\n",
    "* There are indentations in the code that determine what is and is not in side the `for` and `if` statements. If you get errors or unexpected outputs, it will very likely be because of wrong or missing indentations.  \n",
    "\n",
    "Next, type the following code in a file called `basic_io2.py` and run it.\n",
    "\n",
    "```python\n",
    "#############################\n",
    "# FILE OUTPUT\n",
    "#############################\n",
    "# Save the elements of a list to a file\n",
    "list_to_save = range(100)\n",
    "\n",
    "f = open('../sandbox/testout.txt','w')\n",
    "for i in list_to_save:\n",
    "    f.write(str(i) + '\\n') ## Add a new line at the end\n",
    "\n",
    "f.close()\n",
    "```\n",
    "\n",
    "Finally, type the following code in `basic_io3.py` and run it.\n",
    "\n",
    "```python\n",
    "#############################\n",
    "# STORING OBJECTS\n",
    "#############################\n",
    "# To save an object (even complex) for later use\n",
    "my_dictionary = {\"a key\": 10, \"another key\": 11}\n",
    "\n",
    "import pickle\n",
    "\n",
    "f = open('../sandbox/testp.p','wb') ## note the b: accept binary files\n",
    "pickle.dump(my_dictionary, f)\n",
    "f.close()\n",
    "\n",
    "## Load the data again\n",
    "f = open('../sandbox/testp.p','rb')\n",
    "another_dictionary = pickle.load(f)\n",
    "f.close()\n",
    "\n",
    "print(another_dictionary)\n",
    "\n",
    "```\n",
    "\n",
    "```{note}\n",
    "The `b` flag for reading the file above stands for \"binary\". Basically, binary files are machine readable, but not human readable. For example, try opening `testp.p` in a text reader (e.g., your code editor)  and reading it - you will see considerable gibberish (compare with `testout.txt`)!\n",
    "```"
   ]
  },
  {
   "cell_type": "markdown",
   "metadata": {},
   "source": [
    "### Safely opening files using `with open()`\n",
    "Whilst `open()` and `close()` are useful to remember, it can be *very* problematic if `f.close()` is missed.\n",
    "\n",
    "Luckily python has your back here. By using the `with` command, you can make sure that no matter what, the file is closed after you have finished working with it.\n",
    "\n",
    "`with` is typically used in the following manner:\n",
    "\n",
    "```python\n",
    "with open(\"../path/to/file.txt\", \"r\") as myfile:\n",
    "    # do things to myfile\n",
    "    ...\n",
    "    \n",
    "```\n",
    "\n",
    "Note that running `myfile.close()` here is not necessary as the file is closed once you drop out of the with block.\n",
    "\n",
    "Here's an example of `basic_io1.py` rewritten using the `with` statement.\n",
    "\n",
    "```python\n",
    "#############################\n",
    "# FILE INPUT\n",
    "#############################\n",
    "# Open a file for reading\n",
    "with open('../sandbox/test.txt', 'r') as f:\n",
    "    # use \"implicit\" for loop:\n",
    "    # if the object is a file, python will cycle over lines\n",
    "    for line in f:\n",
    "        print(line)\n",
    "\n",
    "# Once you drop out of the with, the file is automatically closed\n",
    "\n",
    "# Same example, skip blank lines\n",
    "with open('../sandbox/test.txt', 'r') as f:\n",
    "    for line in f:\n",
    "        if len(line.strip()) > 0:\n",
    "            print(line)\n",
    "```\n",
    "\n",
    "```{note}\n",
    "The rest of this session will use the `with` method of opening files\n",
    "\n",
    "```"
   ]
  },
  {
   "cell_type": "markdown",
   "metadata": {
    "slideshow": {
     "slide_type": "skip"
    }
   },
   "source": [
    "### Handling `csv`'s\n",
    "\n",
    "The `csv` package makes it easy to manipulate CSV files. Let's try it.\n",
    "\n",
    "$\\star$ Get ` testcsv.csv` from MulQuaBio's `data` directory. Then type the following script in a script file called `basic_csv.py` and run it:\n",
    "\n",
    "```python\n",
    "import csv\n",
    "\n",
    "# Read a file containing:\n",
    "# 'Species','Infraorder','Family','Distribution','Body mass male (Kg)'\n",
    "with open('../data/testcsv.csv','r') as f:\n",
    "\n",
    "    csvread = csv.reader(f)\n",
    "    temp = []\n",
    "    for row in csvread:\n",
    "        temp.append(tuple(row))\n",
    "        print(row)\n",
    "        print(\"The species is\", row[0])\n",
    "\n",
    "# write a file containing only species name and Body mass\n",
    "with open('../data/testcsv.csv','r') as f:\n",
    "    with open('../data/bodymass.csv','w') as g:\n",
    "\n",
    "        csvread = csv.reader(f)\n",
    "        csvwrite = csv.writer(g)\n",
    "        for row in csvread:\n",
    "            print(row)\n",
    "            csvwrite.writerow([row[0], row[4]])\n",
    "\n",
    "```\n",
    "\n",
    "$\\star$ Run this script from bash, bash with ipython, and from within ipython, like you did above for the `basic_io*.py` scripts. "
   ]
  },
  {
   "cell_type": "markdown",
   "metadata": {
    "slideshow": {
     "slide_type": "skip"
    }
   },
   "source": [
    "## Writing Python programs\n",
    "\n",
    "Now let's start with proper python programs. \n",
    "\n",
    "The difference between scripts (which you have been writing till now) and programs is that the latter can be \"compiled\" into a self standing application or utility. This distinction will not mean much to you currently, but eventually will, once you have converted a script to a program below! \n",
    "\n",
    "We will start with a \"boilerplate\" (template) program, just as we did in the [shell scripting chapter](./02-ShellScripting.ipynb#Your-first-shell-script). \n",
    "\n",
    "$\\star$ Type the code below and save as `boilerplate.py` in `week2/code`:"
   ]
  },
  {
   "cell_type": "markdown",
   "metadata": {},
   "source": [
    "```python\n",
    "#!/usr/bin/env python3\n",
    "\n",
    "\"\"\"Description of this program or application.\n",
    "You can use several lines\"\"\"\n",
    "\n",
    "__appname__ = '[application name here]'\n",
    "__author__ = 'Your Name (your@email.address)'\n",
    "__version__ = '0.0.1'\n",
    "__license__ = \"License for this code/program\"\n",
    "\n",
    "## imports ##\n",
    "import sys # module to interface our program with the operating system\n",
    "\n",
    "## constants ##\n",
    "\n",
    "\n",
    "## functions ##\n",
    "def main(argv):\n",
    "    \"\"\" Main entry point of the program \"\"\"\n",
    "    print('This is a boilerplate') # NOTE: indented using two tabs or 4 spaces\n",
    "    return 0\n",
    "\n",
    "if __name__ == \"__main__\": \n",
    "    \"\"\"Makes sure the \"main\" function is called from command line\"\"\"  \n",
    "    status = main(sys.argv)\n",
    "    sys.exit(status)\n",
    "```"
   ]
  },
  {
   "cell_type": "markdown",
   "metadata": {},
   "source": [
    "Now open another bash terminal, and `cd ` to the code directory and run the code. Then, run the code (NOT in the python or ipython shell, but the bash shell! ):\n",
    "\n",
    "```bash\n",
    "python3 boilerplate.py\n",
    "```\n",
    "You should get:\n",
    "\n",
    "```bash\n",
    "This is a boilerplate\n",
    "```\n",
    "\n",
    "Alternatively, you can use ipython like you did above:\n",
    "\n",
    "```bash\n",
    "ipython3 boilerplate.py\n",
    "```\n",
    "With the same result. \n",
    "\n",
    "And again, like before, you can also execute this program file from within the `ipython` shell with `run MyScript.py`. Enter `ipython` from bash (or switch to a terminal where you are already in the ipython shell), and do:"
   ]
  },
  {
   "cell_type": "code",
   "execution_count": 179,
   "metadata": {
    "scrolled": true,
    "tags": [
     "remove-cell"
    ]
   },
   "outputs": [
    {
     "name": "stdout",
     "output_type": "stream",
     "text": [
      "/home/mhasoba/Documents/Teaching/MulQuaBio/MQB/content/code\n"
     ]
    },
    {
     "name": "stderr",
     "output_type": "stream",
     "text": [
      "/home/mhasoba/myenv/lib/python3.10/site-packages/IPython/core/magics/osm.py:417: UserWarning: This is now an optional IPython functionality, setting dhist requires you to install the `pickleshare` library.\n",
      "  self.shell.db['dhist'] = compress_dhist(dhist)[-100:]\n"
     ]
    }
   ],
   "source": [
    "cd \"../code\""
   ]
  },
  {
   "cell_type": "code",
   "execution_count": 180,
   "metadata": {
    "scrolled": true
   },
   "outputs": [
    {
     "name": "stdout",
     "output_type": "stream",
     "text": [
      "This is a boilerplate\n"
     ]
    }
   ],
   "source": [
    "%run boilerplate.py"
   ]
  },
  {
   "cell_type": "markdown",
   "metadata": {},
   "source": [
    "### Components of the Python program\n",
    "\n",
    "Now let's examine the elements of your first, boilerplate code:\n",
    "\n",
    "#### The shebang\n",
    "\n",
    "Just like UNIX shell scripts, the first \"shebang\" line tells the computer where to look for python. It determines the script's ability to be executed when compiled as part of a standalone program. It isn't absolutely necessary, but it is good practice to use it, and it is also also useful because when someone examines the file in an editor, they immediately know what they're looking at. \n",
    "\n",
    "However, which shebang line you use is important. Here by using `#!/usr/bin/env python3` we are specifying the location to the python executable in your machine that the rest of the script needs to be interpreted with. You may use `#!/usr/bin/python` instead, but this might not work on somebody else's machine if the Python executable isn't actually located at `/usr/bin/`.\n",
    "\n",
    "#### The Docstring\n",
    "\n",
    "Triple quotes start a \"docstring\" comment, which is meant to describe the operation of the script or a function/module within it. Docstrings are considered part of the running code, while normal comments are\n",
    "stripped. Hence, you can access your docstrings at run time. It is a good idea to have doctrings at the start of every python script and module as it can provide useful information to the user and you as well, down the line.\n",
    "\n",
    "You can access the docstring(s) in a script (both for the overall script and the ones in each of its functions), by importing the function (say, `my_func`), and then typing `help(my_func)` or `?my_func` in the python or ipython shell. For example, try ` import boilerplate` and then `help(boilerplate)` (but you have to be in the python or ipython shell)."
   ]
  },
  {
   "cell_type": "code",
   "execution_count": 181,
   "metadata": {},
   "outputs": [],
   "source": [
    "import boilerplate"
   ]
  },
  {
   "cell_type": "code",
   "execution_count": 182,
   "metadata": {
    "scrolled": true
   },
   "outputs": [
    {
     "name": "stdout",
     "output_type": "stream",
     "text": [
      "Help on module boilerplate:\n",
      "\n",
      "NAME\n",
      "    boilerplate\n",
      "\n",
      "DESCRIPTION\n",
      "    Description of this program or application.\n",
      "    You can use several lines\n",
      "\n",
      "FUNCTIONS\n",
      "    main(argv)\n",
      "        Main entry point of the program\n",
      "\n",
      "DATA\n",
      "    __appname__ = '[application name here]'\n",
      "    __license__ = 'License for this code/program'\n",
      "\n",
      "VERSION\n",
      "    0.0.1\n",
      "\n",
      "AUTHOR\n",
      "    Your Name (your@email.address)\n",
      "\n",
      "FILE\n",
      "    /home/mhasoba/Documents/Teaching/MulQuaBio/MQB/content/code/boilerplate.py\n",
      "\n",
      "\n"
     ]
    }
   ],
   "source": [
    "help(boilerplate)"
   ]
  },
  {
   "cell_type": "markdown",
   "metadata": {},
   "source": [
    "```{note}\n",
    "**Docstrings vs. Comments**: In short, Docstrings tell the user how to use some Python code, while and Comments explain why and how certain parts of the code work. Thus Docstrings are are enhanced comments that serve as documentation for Python code, including for any functions/modules and classes in it. Comments explain non-obvious portions of the code.\n",
    "```\n",
    "\n",
    "#### Internal Variables\n",
    "\n",
    "\"`__`\" signal \"internal\" variables (never name your variables so!). These are special variables names reserved by python for its own purposes. For more on the usage of underscores in python, [see this](https://www.datacamp.com/community/tutorials/role-underscore-python). \n",
    "\n",
    "#### Function `def`initions and \"modules\"\n",
    "\n",
    "`def` indicates the start of a python function (aka \"module\"); all subsequent lines must be indented.\n",
    "\n",
    "It's important to know that somewhat confusingly, Pythonistas call a file containing function `def`itions) and statements (e.g., assignments of constant variables) a \"module\". There is a practical reason (there's always one!) for this. You might want to use a particular set of python `def`'s (functions) and statements either as a standalone function, or use it or subsets of it from other scripts. So in theory, every function you `def`ine can be a sub-module usable by other scripts.\n",
    "\n",
    "*In other words, `def`initions from a module can be imported into other modules and scripts, or into the main program itself.*\n",
    "\n",
    "The last few lines, including the `main` function/module are somewhat esoteric but important; more on this below.\n",
    "\n",
    "#### Why include `__name__ == \"__main__\"` and all that jazz\n",
    "\n",
    "When you run a Python module with or without arguments, the code in the called module will be executed just as if you imported it, but with the `__name__` set to `\"__main__\"` (analogous to the special `$0` variable in shell scripts). \n",
    "\n",
    "So adding this code at the end of your module:\n",
    "\n",
    "```python\n",
    "if (__name__ == \"__main__\"):\n",
    "```\n",
    "directs the python interpreter to set the special `__name__` variable to have a value `\"__main__\"`, so that the file is usable as a script *as well as* an importable module (important for packaging and re-usability). \n",
    "\n",
    "How do you import? Simply as (in python or ipython shell):"
   ]
  },
  {
   "cell_type": "code",
   "execution_count": 183,
   "metadata": {},
   "outputs": [],
   "source": [
    "import boilerplate"
   ]
  },
  {
   "cell_type": "markdown",
   "metadata": {},
   "source": [
    "Then type"
   ]
  },
  {
   "cell_type": "code",
   "execution_count": 184,
   "metadata": {},
   "outputs": [
    {
     "data": {
      "text/plain": [
       "<module 'boilerplate' from '/home/mhasoba/Documents/Teaching/MulQuaBio/MQB/content/code/boilerplate.py'>"
      ]
     },
     "execution_count": 184,
     "metadata": {},
     "output_type": "execute_result"
    }
   ],
   "source": [
    "boilerplate"
   ]
  },
  {
   "cell_type": "markdown",
   "metadata": {},
   "source": [
    "So when you ran your module by itself using `python3 boilerplate.py` (as you did above by opening a separate bash shell), having `__name__ = \"__main__\"` made the Python interpreter assign the string `\"__main__\"` to the `__name__` variable inside the module, so that the your module execution was forced to start with the control flow *first* passing through the `main` function.\n",
    "\n",
    "On the other hand, if *some other module* (not `boilerplate`) is the main program, and you want to import the boilerplate module into it (with `import boilerplate`), the interpreter looks at the filename of your module (`boilerplate.py`), strips off the `.py`, and assigns that string (`boilerplate`) to the imported module's `__name__` variable instead, skipping the command(s) under the `if` statement of `boilerplate.py`.\n",
    "\n",
    "Let's write a script to illustrate this. \n",
    "\n",
    "$\\star$ Type and save the following in a script file called `using_name.py`: \n",
    "\n",
    "```python\n",
    "#!/usr/bin/env python3\n",
    "# Filename: using_name.py\n",
    "\n",
    "if __name__ == '__main__':\n",
    "    print('This program is being run by itself!')\n",
    "else:\n",
    "    print('I am being imported from another script/program/module!')\n",
    "\n",
    "print(\"This module's name is: \" + __name__)\n",
    "```\n",
    "\n",
    "Now run it:"
   ]
  },
  {
   "cell_type": "code",
   "execution_count": 185,
   "metadata": {
    "scrolled": true
   },
   "outputs": [
    {
     "name": "stdout",
     "output_type": "stream",
     "text": [
      "This program is being run by itself!\n",
      "This module's name is: __main__\n"
     ]
    }
   ],
   "source": [
    "%run using_name.py"
   ]
  },
  {
   "cell_type": "markdown",
   "metadata": {},
   "source": [
    "Now, try:"
   ]
  },
  {
   "cell_type": "code",
   "execution_count": 186,
   "metadata": {},
   "outputs": [
    {
     "name": "stdout",
     "output_type": "stream",
     "text": [
      "I am being imported from another script/program/module!\n",
      "This module's name is: using_name\n"
     ]
    }
   ],
   "source": [
    "import using_name"
   ]
  },
  {
   "cell_type": "markdown",
   "metadata": {},
   "source": [
    "```{tip}\n",
    "Also please look up the [official python doc for modules](https://docs.python.org/3/tutorial/modules.html).\n",
    "```\n",
    "\n",
    "#### What is `sys.argv`?\n",
    "\n",
    "In your boilerplate code, as any other Python code, `argv` is the \"argument variable\". Such variables are necessarily very common across programming languages, and play an important role — `argv` is a variable that holds the arguments you pass to your Python script when you run it (like `$var` in shell scripts). `sys.argv` is simply an object created by python using the `sys` module (which you imported at the beginning of the script) that contains the names of the argument variables in the current script.\n",
    "\n",
    "To understand this in a practical way, write and save a script called `sysargv.py`: \n",
    "\n",
    "```python\n",
    "#!/usr/bin/env python3\n",
    "\n",
    "import sys\n",
    "print(\"This is the name of the script: \", sys.argv[0])\n",
    "print(\"Number of arguments: \", len(sys.argv))\n",
    "print(\"The arguments are: \" , str(sys.argv))\n",
    "```\n",
    "\n",
    "Now run `sysargv.py` with different numbers of arguments:"
   ]
  },
  {
   "cell_type": "code",
   "execution_count": 187,
   "metadata": {
    "scrolled": true
   },
   "outputs": [
    {
     "name": "stdout",
     "output_type": "stream",
     "text": [
      "This is the name of the script:  sysargv.py\n",
      "Number of arguments:  1\n",
      "The arguments are:  ['sysargv.py']\n"
     ]
    }
   ],
   "source": [
    "%run sysargv.py"
   ]
  },
  {
   "cell_type": "code",
   "execution_count": 188,
   "metadata": {
    "scrolled": true
   },
   "outputs": [
    {
     "name": "stdout",
     "output_type": "stream",
     "text": [
      "This is the name of the script:  sysargv.py\n",
      "Number of arguments:  3\n",
      "The arguments are:  ['sysargv.py', 'var1', 'var2']\n"
     ]
    }
   ],
   "source": [
    "run sysargv.py var1 var2"
   ]
  },
  {
   "cell_type": "code",
   "execution_count": 189,
   "metadata": {},
   "outputs": [
    {
     "name": "stdout",
     "output_type": "stream",
     "text": [
      "This is the name of the script:  sysargv.py\n",
      "Number of arguments:  4\n",
      "The arguments are:  ['sysargv.py', '1', '2', 'var3']\n"
     ]
    }
   ],
   "source": [
    "run sysargv.py 1 2 var3"
   ]
  },
  {
   "cell_type": "markdown",
   "metadata": {},
   "source": [
    "As you can see the first variable is always the file name, and is always available to the Python interpreter.\n",
    "\n",
    "Then, the command `main(argv=sys.argv)` directs the interpreter to pass the argument variables to the main function.\n",
    "\n",
    "```{tip}\n",
    " As the number of arguments increases, handling `sys.`argv becomes less readable and more error-prone. You must manually validate and parse each argument, which can lead to complex code. Instead of `sys.argv`, you may want to use `argparse` when building scripts or programs that require more complex argument parsing, error handling, and user-friendly help messages.\n",
    "```"
   ]
  },
  {
   "cell_type": "markdown",
   "metadata": {},
   "source": [
    "#### What is `main(argv)` ?\n",
    "\n",
    "Now for the final bit of your python boilerplate:\n",
    "\n",
    "```python\n",
    "def main(argv):\n",
    "    print('This is a boilerplate') # NOTE: indented using two tabs or four spaces\n",
    "```\n",
    "This is the main function. Arguments obtained in the `if (__name__ == \"__main__\"):` part of the script are \"fed\" to\n",
    "this main function where the printing of the line \"This is a boilerplate\" happens.\n",
    "\n",
    "#### Finally, sys.exit()\n",
    "\n",
    "OK, finally, what about:\n",
    "\n",
    "```bash\n",
    "sys.exit(status)\n",
    "``` \n",
    "It's just a way to terminate and exit the Python program in an explicit manner, returning an appropriate status code (recall the `exit` command from the [shell scripting chapter](02-ShellScripting.ipynb)). In this case, we have decided that `main()` returns 0 on a successful run, so ` sys.exit(status)` will return zero (because status = 0 upon successful termination of the `main` program) indicating \"successful termination\". \n",
    "\n",
    "Try putting `sys.exit(\"I am exiting right now!\")` in other places in `boilerplate.py` and see what happens."
   ]
  },
  {
   "cell_type": "markdown",
   "metadata": {},
   "source": [
    "### A program-with-control-flows example \n",
    "\n",
    "Let's now look at an example of a script that uses various control flow tools within a standard python program structure. \n",
    "\n",
    "To begin, first copy and rename `boilerplate.py` (to make use of it's existing structure and save you some typing):\n",
    "\n",
    "```bash \n",
    "cp boilerplate.py control_flow.py\n",
    "```\n",
    "\n",
    "Then type the following script into `control_flow.py`:\n",
    "\n",
    "```python\n",
    "#!/usr/bin/env python3\n",
    "\n",
    "\"\"\"Some functions exemplifying the use of control statements\"\"\"\n",
    "#docstrings are considered part of the running code (normal comments are\n",
    "#stripped). Hence, you can access your docstrings at run time.\n",
    "__author__ = 'Samraat Pawar (s.pawar@imperial.ac.uk)'\n",
    "__version__ = '0.0.1'\n",
    "\n",
    "import sys\n",
    "\n",
    "def even_or_odd(x=0): # if not specified, x should take value 0.\n",
    "\n",
    "    \"\"\"Find whether a number x is even or odd.\"\"\"\n",
    "    if x % 2 == 0: #The conditional if\n",
    "        return f\"{x} is Even!\"\n",
    "    return f\"{x} is Odd!\"\n",
    "\n",
    "def largest_divisor_five(x=120):\n",
    "    \"\"\"Find which is the largest divisor of x among 2,3,4,5.\"\"\"\n",
    "    largest = 0\n",
    "    if x % 5 == 0:\n",
    "        largest = 5\n",
    "    elif x % 4 == 0: #means \"else, if\"\n",
    "        largest = 4\n",
    "    elif x % 3 == 0:\n",
    "        largest = 3\n",
    "    elif x % 2 == 0:\n",
    "        largest = 2\n",
    "    else: # When all other (if, elif) conditions are not met\n",
    "        return f\"No divisor found for {x}!\" # Each function can return a value or a variable.\n",
    "    return f\"The largest divisor of {x} is {largest}\"\n",
    "\n",
    "def is_prime(x=70):\n",
    "    \"\"\"Find whether an integer is prime.\"\"\"\n",
    "    for i in range(2, x): #  \"range\" returns a sequence of integers\n",
    "        if x % i == 0:\n",
    "            print(f\"{x} is not a prime: {i} is a divisor\") \n",
    "            return False\n",
    "    print(f\"{x} is a prime!\")\n",
    "    return True \n",
    "\n",
    "def find_all_primes(x=22):\n",
    "    \"\"\"Find all the primes up to x\"\"\"\n",
    "    allprimes = []\n",
    "    for i in range(2, x + 1):\n",
    "        if is_prime(i):\n",
    "            allprimes.append(i)\n",
    "    print(f\"There are {len(allprimes)} primes between 2 and {x}\")\n",
    "    return allprimes\n",
    "      \n",
    "def main(argv):\n",
    "    print(even_or_odd(22))\n",
    "    print(even_or_odd(33))\n",
    "    print(largest_divisor_five(120))\n",
    "    print(largest_divisor_five(121))\n",
    "    print(is_prime(60))\n",
    "    print(is_prime(59))\n",
    "    print(find_all_primes(100))\n",
    "    return 0\n",
    "\n",
    "if (__name__ == \"__main__\"):\n",
    "    status = main(sys.argv)\n",
    "    sys.exit(status)\n",
    "```\n",
    "\n",
    "Now run the code:"
   ]
  },
  {
   "cell_type": "code",
   "execution_count": 190,
   "metadata": {},
   "outputs": [
    {
     "name": "stdout",
     "output_type": "stream",
     "text": [
      "22 is Even!\n",
      "33 is Odd!\n",
      "The largest divisor of 120 is 5\n",
      "No divisor found for 121!\n",
      "60 is not a prime: 2 is a divisor\n",
      "False\n",
      "59 is a prime!\n",
      "True\n",
      "2 is a prime!\n",
      "3 is a prime!\n",
      "4 is not a prime: 2 is a divisor\n",
      "5 is a prime!\n",
      "6 is not a prime: 2 is a divisor\n",
      "7 is a prime!\n",
      "8 is not a prime: 2 is a divisor\n",
      "9 is not a prime: 3 is a divisor\n",
      "10 is not a prime: 2 is a divisor\n",
      "11 is a prime!\n",
      "12 is not a prime: 2 is a divisor\n",
      "13 is a prime!\n",
      "14 is not a prime: 2 is a divisor\n",
      "15 is not a prime: 3 is a divisor\n",
      "16 is not a prime: 2 is a divisor\n",
      "17 is a prime!\n",
      "18 is not a prime: 2 is a divisor\n",
      "19 is a prime!\n",
      "20 is not a prime: 2 is a divisor\n",
      "21 is not a prime: 3 is a divisor\n",
      "22 is not a prime: 2 is a divisor\n",
      "23 is a prime!\n",
      "24 is not a prime: 2 is a divisor\n",
      "25 is not a prime: 5 is a divisor\n",
      "26 is not a prime: 2 is a divisor\n",
      "27 is not a prime: 3 is a divisor\n",
      "28 is not a prime: 2 is a divisor\n",
      "29 is a prime!\n",
      "30 is not a prime: 2 is a divisor\n",
      "31 is a prime!\n",
      "32 is not a prime: 2 is a divisor\n",
      "33 is not a prime: 3 is a divisor\n",
      "34 is not a prime: 2 is a divisor\n",
      "35 is not a prime: 5 is a divisor\n",
      "36 is not a prime: 2 is a divisor\n",
      "37 is a prime!\n",
      "38 is not a prime: 2 is a divisor\n",
      "39 is not a prime: 3 is a divisor\n",
      "40 is not a prime: 2 is a divisor\n",
      "41 is a prime!\n",
      "42 is not a prime: 2 is a divisor\n",
      "43 is a prime!\n",
      "44 is not a prime: 2 is a divisor\n",
      "45 is not a prime: 3 is a divisor\n",
      "46 is not a prime: 2 is a divisor\n",
      "47 is a prime!\n",
      "48 is not a prime: 2 is a divisor\n",
      "49 is not a prime: 7 is a divisor\n",
      "50 is not a prime: 2 is a divisor\n",
      "51 is not a prime: 3 is a divisor\n",
      "52 is not a prime: 2 is a divisor\n",
      "53 is a prime!\n",
      "54 is not a prime: 2 is a divisor\n",
      "55 is not a prime: 5 is a divisor\n",
      "56 is not a prime: 2 is a divisor\n",
      "57 is not a prime: 3 is a divisor\n",
      "58 is not a prime: 2 is a divisor\n",
      "59 is a prime!\n",
      "60 is not a prime: 2 is a divisor\n",
      "61 is a prime!\n",
      "62 is not a prime: 2 is a divisor\n",
      "63 is not a prime: 3 is a divisor\n",
      "64 is not a prime: 2 is a divisor\n",
      "65 is not a prime: 5 is a divisor\n",
      "66 is not a prime: 2 is a divisor\n",
      "67 is a prime!\n",
      "68 is not a prime: 2 is a divisor\n",
      "69 is not a prime: 3 is a divisor\n",
      "70 is not a prime: 2 is a divisor\n",
      "71 is a prime!\n",
      "72 is not a prime: 2 is a divisor\n",
      "73 is a prime!\n",
      "74 is not a prime: 2 is a divisor\n",
      "75 is not a prime: 3 is a divisor\n",
      "76 is not a prime: 2 is a divisor\n",
      "77 is not a prime: 7 is a divisor\n",
      "78 is not a prime: 2 is a divisor\n",
      "79 is a prime!\n",
      "80 is not a prime: 2 is a divisor\n",
      "81 is not a prime: 3 is a divisor\n",
      "82 is not a prime: 2 is a divisor\n",
      "83 is a prime!\n",
      "84 is not a prime: 2 is a divisor\n",
      "85 is not a prime: 5 is a divisor\n",
      "86 is not a prime: 2 is a divisor\n",
      "87 is not a prime: 3 is a divisor\n",
      "88 is not a prime: 2 is a divisor\n",
      "89 is a prime!\n",
      "90 is not a prime: 2 is a divisor\n",
      "91 is not a prime: 7 is a divisor\n",
      "92 is not a prime: 2 is a divisor\n",
      "93 is not a prime: 3 is a divisor\n",
      "94 is not a prime: 2 is a divisor\n",
      "95 is not a prime: 5 is a divisor\n",
      "96 is not a prime: 2 is a divisor\n",
      "97 is a prime!\n",
      "98 is not a prime: 2 is a divisor\n",
      "99 is not a prime: 3 is a divisor\n",
      "100 is not a prime: 2 is a divisor\n",
      "There are 25 primes between 2 and 100\n",
      "[2, 3, 5, 7, 11, 13, 17, 19, 23, 29, 31, 37, 41, 43, 47, 53, 59, 61, 67, 71, 73, 79, 83, 89, 97]\n"
     ]
    }
   ],
   "source": [
    "run control_flow.py"
   ]
  },
  {
   "cell_type": "markdown",
   "metadata": {},
   "source": [
    "You can also call any of the functions within `control_flow.py`:"
   ]
  },
  {
   "cell_type": "code",
   "execution_count": 191,
   "metadata": {
    "scrolled": true
   },
   "outputs": [
    {
     "data": {
      "text/plain": [
       "'11 is Odd!'"
      ]
     },
     "execution_count": 191,
     "metadata": {},
     "output_type": "execute_result"
    }
   ],
   "source": [
    "even_or_odd(11)"
   ]
  },
  {
   "cell_type": "markdown",
   "metadata": {},
   "source": [
    "This is possible without explicitly importing the modules because you are only running one script. You would have to do an explicit `import` if you needed a module from another python script file."
   ]
  },
  {
   "cell_type": "markdown",
   "metadata": {},
   "source": [
    "```{tip}\n",
    "Notice in the above script the use of a normal string but with an f in front, i.e. `f\"test string\"`. This is the current best-practice method for incorporating variables into a string.\n",
    "\n",
    "You call it by prefixing the string with an `f`, and then including any variable you want to print in curly brackets:`{}`.\n",
    "\n",
    "e.g. `f\"The value of x is {x}.\"`\n",
    "\n",
    "You can get exceptionally in-depth with pretty string formatting, but at the very least you will be expected to use this type of string formatting (or the .format() method) in your scripts going forward.\n",
    "\n",
    "For more documentation on the current f-string method as well as the older .format() method, [see this](https://fstring.help/) and [this](https://pyformat.info) respectively.. \n",
    "```"
   ]
  },
  {
   "cell_type": "markdown",
   "metadata": {},
   "source": [
    "## Practicals\n",
    "\n",
    "As always, test, add, commit and push all your new code and data to your git repository.\n",
    "\n",
    "*In general, follow good programming practices such as commenting where necessary, and using pythonic ways to make your code more user-friendly, such as by using docstrings.*\n",
    "\n",
    "### Loops and List Comprehensions\n",
    "\n",
    "Open and complete the tasks in `lc1.py`, `lc2.py`, `dictionary.py`, `tuple.py` available on MulQuaBio repo (you can tackle them in any order). \n",
    "\n",
    "\n",
    "### Writing a Program with Control flows\n",
    "\n",
    "* Modify `cfexercises1.py` to make it a \"module\" like ` control_flow.py`). That is, all the `foo_x` functions should take arguments from the user (like the functions inside ` control_flow.py`. \n",
    "\n",
    "* Also, add some test arguments to show that they work (again, like `control_flow.py`) — for example, ``foo_5(10)``. Thus, running `cfexercises1.py` should now output evaluations of all the `foo_x` functions."
   ]
  },
  {
   "cell_type": "markdown",
   "metadata": {},
   "source": [
    "(Python:errors)=\n",
    "## Errors in your Python code\n",
    "\n",
    "What do you want from your code? Rank the following by importance:\n",
    "\n",
    "1. it is very fast\n",
    "2. it gives me the right answer\n",
    "3. it is easy to read\n",
    "4. it uses lots of 'clever' programming techniques\n",
    "5. it uses cool features of the language\n",
    "\n",
    "Then, think about this:\n",
    "\n",
    "* If you are *very lucky*, your program will crash when you run it\n",
    "* If you are *lucky*, you will get an answer that is obviously wrong\n",
    "* If you are *unlucky*, you won't notice until after publication\n",
    "* If you are *very unlucky*, someone else will notice it after publication\n",
    "\n",
    "Ultimately, most of your time could well be spent finding errors and fixing them (\"debugging\"), not writing code. You can debug when errors appear, but why not just \"nip\" as many as you can in the \"bud\"? For this, you would use unit testing."
   ]
  },
  {
   "cell_type": "markdown",
   "metadata": {},
   "source": [
    "### Unit testing\n",
    "\n",
    "Unit testing prevents the most common mistakes and helps you write reliable code. Indeed, there are many reasons for testing:\n",
    "\n",
    "* Can you prove (to yourself) that your code does what you think it does?\n",
    "* Did you think about the things that might go wrong?\n",
    "* Can you prove to other people that your code works?\n",
    "* Does it still all work if you fix a bug?\n",
    "* Does it still all work if you add a feature?\n",
    "* Does it work with that new dataset?\n",
    "* Does it work on the latest version of the language (e.g., Python 3.x vs. 2.7.x)?\n",
    "* Does it work on Mac? on Linux? on Windows?\n",
    "* Does it work on 64 bit *and* 32 bit?\n",
    "* Does it work on an old version of a Mac?\n",
    "* Does it work on any Linux server, or Imperial College's Unix cluster?\n",
    "\n",
    "The idea is to write *independent* tests for the *smallest units* of code. *Why the smallest units?* — to increase the likelihood of retaining the tests upon code modification.\n",
    "\n",
    "#### Unit testing with `doctest`\n",
    "\n",
    "Let's try `doctest`, the simplest testing tool in python: simple tests for each function are embedded in the docstring. \n",
    "\n",
    "$\\star$ Copy the file `control_flow.py` into the file `test_control_flow.py` and edit the original function so:"
   ]
  },
  {
   "cell_type": "markdown",
   "metadata": {},
   "source": [
    "```python\n",
    "#!/usr/bin/env python3\n",
    "\n",
    "\"\"\"Some functions exemplifying the use of control statements\"\"\"\n",
    "\n",
    "__author__ = 'Your Name (Your.Name@your.email.address)'\n",
    "__version__ = '0.0.1'\n",
    "\n",
    "import sys\n",
    "import doctest # Import the doctest module\n",
    "\n",
    "def even_or_odd(x=0):\n",
    "    \"\"\"Find whether a number x is even or odd.\n",
    "      \n",
    "    >>> even_or_odd(10)\n",
    "    '10 is Even!'\n",
    "    \n",
    "    >>> even_or_odd(5)\n",
    "    '5 is Odd!'\n",
    "        \n",
    "    in case of negative numbers, the positive is taken:    \n",
    "    >>> even_or_odd(-2)\n",
    "    '-2 is Even!'\n",
    "    \n",
    "    \"\"\"\n",
    "    #Define function to be tested\n",
    "    if x % 2 == 0:\n",
    "        return f\"{x} is Even!\"\n",
    "    return f\"{x} is Odd!\"\n",
    "\n",
    "def main(argv): \n",
    "    print(even_or_odd(22))\n",
    "    print(even_or_odd(33))\n",
    "    return 0\n",
    "\n",
    "if (__name__ == \"__main__\"):\n",
    "    status = main(sys.argv)\n",
    "\n",
    "doctest.testmod()   # To run with embedded tests\n",
    "```"
   ]
  },
  {
   "cell_type": "markdown",
   "metadata": {},
   "source": [
    "You can also suppress the block of code containing `def main()` and `if (__name__ == \"__main__\")` because you don't want/need to unit test that section of yuor script. \n",
    "\n",
    "Now run it:"
   ]
  },
  {
   "cell_type": "code",
   "execution_count": 192,
   "metadata": {},
   "outputs": [
    {
     "name": "stdout",
     "output_type": "stream",
     "text": [
      "22 is Even!\n",
      "33 is Odd!\n",
      "Trying:\n",
      "    even_or_odd(10)\n",
      "Expecting:\n",
      "    '10 is Even!'\n",
      "ok\n",
      "Trying:\n",
      "    even_or_odd(5)\n",
      "Expecting:\n",
      "    '5 is Odd!'\n",
      "ok\n",
      "Trying:\n",
      "    even_or_odd(-2)\n",
      "Expecting:\n",
      "    '-2 is Even!'\n",
      "ok\n",
      "2 items had no tests:\n",
      "    __main__\n",
      "    __main__.main\n",
      "1 items passed all tests:\n",
      "   3 tests in __main__.even_or_odd\n",
      "3 tests in 3 items.\n",
      "3 passed and 0 failed.\n",
      "Test passed.\n"
     ]
    }
   ],
   "source": [
    "run test_control_flow.py -v"
   ]
  },
  {
   "cell_type": "markdown",
   "metadata": {},
   "source": [
    "You can also run doctest \"on the fly\", without writing `doctest.testmod()` in the code, by typing in a terminal:\n",
    "\n",
    "```bash\n",
    "python3 -m doctest -v your_function_to_test.py\n",
    "```\n",
    "\n",
    "#### Other unit testing approaches\n",
    "\n",
    "For more complex testing, see documentation of `doctest` [here](https://docs.python.org/3.8/library/doctest.html). \n",
    "\n",
    "Also check out the packages `pytest` and `unittest` (and maybe `nose`, though the first two are more widely used and more intuitive) for more comprehensive and flexible unit testing.\n",
    "\n",
    "Please start testing as early as possible, but don't try to test everything either! Remember, it is easier to test if code is compartmentalized into functions.\n",
    "\n",
    "(Python:Debugging)=\n",
    "### Debugging\n",
    "\n",
    "OK, so you unit-tested, let's go look at life through beer-goggles... BUT NO! YOU WILL VERY LIKELY RUN INTO BUGS!\n",
    "\n",
    "Bugs (unexpected errors) happen, almost inevitably, in life and programming. You need to find and debug them. Banish all thoughts of littering your code with `print` statements to find bugs.\n",
    "\n",
    "Enter the debugger. The command `pdb` turns on the python debugger. Type the following in a file and save as\n",
    "`debugme.py` in your ` Code` directory:\n",
    "\n",
    "```python\n",
    "def buggyfunc(x):\n",
    "    y = x\n",
    "    for i in range(x):\n",
    "        y = y-1\n",
    "        z = x/y\n",
    "    return z\n",
    "\n",
    "buggyfunc(20)\n",
    "```\n",
    "Now run it:"
   ]
  },
  {
   "cell_type": "code",
   "execution_count": 193,
   "metadata": {
    "scrolled": true
   },
   "outputs": [
    {
     "ename": "ZeroDivisionError",
     "evalue": "division by zero",
     "output_type": "error",
     "traceback": [
      "\u001b[0;31m---------------------------------------------------------------------------\u001b[0m",
      "\u001b[0;31mZeroDivisionError\u001b[0m                         Traceback (most recent call last)",
      "File \u001b[0;32m~/Documents/Teaching/MulQuaBio/MQB/content/code/debugme.py:8\u001b[0m\n\u001b[1;32m      5\u001b[0m         z \u001b[38;5;241m=\u001b[39m x\u001b[38;5;241m/\u001b[39my\n\u001b[1;32m      6\u001b[0m     \u001b[38;5;28;01mreturn\u001b[39;00m z\n\u001b[0;32m----> 8\u001b[0m \u001b[43mbuggyfunc\u001b[49m\u001b[43m(\u001b[49m\u001b[38;5;241;43m20\u001b[39;49m\u001b[43m)\u001b[49m\n",
      "File \u001b[0;32m~/Documents/Teaching/MulQuaBio/MQB/content/code/debugme.py:5\u001b[0m, in \u001b[0;36mbuggyfunc\u001b[0;34m(x)\u001b[0m\n\u001b[1;32m      3\u001b[0m \u001b[38;5;28;01mfor\u001b[39;00m i \u001b[38;5;129;01min\u001b[39;00m \u001b[38;5;28mrange\u001b[39m(x):\n\u001b[1;32m      4\u001b[0m     y \u001b[38;5;241m=\u001b[39m y\u001b[38;5;241m-\u001b[39m\u001b[38;5;241m1\u001b[39m\n\u001b[0;32m----> 5\u001b[0m     z \u001b[38;5;241m=\u001b[39m \u001b[43mx\u001b[49m\u001b[38;5;241;43m/\u001b[39;49m\u001b[43my\u001b[49m\n\u001b[1;32m      6\u001b[0m \u001b[38;5;28;01mreturn\u001b[39;00m z\n",
      "\u001b[0;31mZeroDivisionError\u001b[0m: division by zero"
     ]
    }
   ],
   "source": [
    "%run debugme.py"
   ]
  },
  {
   "cell_type": "markdown",
   "metadata": {},
   "source": [
    "Note that the directory path will be different for you.\n",
    "\n",
    "OK, so let's turn debugging on using `%pdb`:"
   ]
  },
  {
   "cell_type": "markdown",
   "metadata": {},
   "source": [
    "```python\n",
    "%pdb\n",
    "```"
   ]
  },
  {
   "cell_type": "markdown",
   "metadata": {},
   "source": [
    "Now run the script again:"
   ]
  },
  {
   "cell_type": "markdown",
   "metadata": {},
   "source": [
    "```bash\n",
    "run debugme.py\n",
    "```\n",
    "which gives\n",
    "```bash\n",
    "---------------------------------------------------------------------------\n",
    "ZeroDivisionError                         Traceback (most recent call last)\n",
    "~/Documents/Teaching/SilBioComp/MulQuaBio/content/code/debugme.py in <module>\n",
    "      6     return z\n",
    "      7 \n",
    "----> 8 buggyfunc(20)\n",
    "\n",
    "~/Documents/Teaching/SilBioComp/MulQuaBio/content/code/debugme.py in buggyfunc(x)\n",
    "      3     for i in range(x):\n",
    "      4         y = y-1\n",
    "----> 5         z = x/y\n",
    "      6     return z\n",
    "      7 \n",
    "\n",
    "ZeroDivisionError: division by zero\n",
    "> /home/mhasoba/Documents/Teaching/SilBioComp/MulQuaBio/content/code/debugme.py(5)buggyfunc()\n",
    "      3     for i in range(x):\n",
    "      4         y = y-1\n",
    "----> 5         z = x/y\n",
    "      6     return z\n",
    "      7 \n",
    "```"
   ]
  },
  {
   "cell_type": "markdown",
   "metadata": {},
   "source": [
    "Now you will be in the debugger shell, which has a different command prompt: `ipdb>`. \n",
    "\n",
    "Here, you can use the following commands to navigate and test the code line by line or block by block:\n",
    "\n",
    "|Command| What it does|\n",
    "|:-|:-|\n",
    "|`n`|             continue execution until the next line|\n",
    " | `ENTER`|         repeat the previous command|\n",
    " | `s`|             \"step\" into next function or procedure (i.e., continue the debugging inside the function, as opposed to simply execute it till it returns)|\n",
    "|  `p x`|           print variable x|\n",
    "|  `pp locals()`|   pretty print all variables and objects in current workspace scope|\n",
    "|  `c`  |           continue until next break-point|\n",
    "|  `l` |            print the code surrounding the current position (you can specify how many)|\n",
    "|  `r`|             continue until the end of the function|\n",
    "|  `q`  |           quit|\n",
    "\n",
    "So let's continue our debugging:\n",
    "\n",
    "```bash\n",
    "ipdb> p x                                                                                                                     \n",
    "20\n",
    "\n",
    "ipdb> p y                                                                                                                     \n",
    "0\n",
    "\n",
    "ipdb> p z                                                                                                                     \n",
    "20.0\n",
    "\n",
    "ipdb> p x/y                                                                                                                   \n",
    "*** ZeroDivisionError: division by zero\n",
    "\n",
    "ipdb> l                                                                                                                       \n",
    "      1 def buggyfunc(x):\n",
    "      2     y = x\n",
    "      3     for i in range(x):\n",
    "      4         y = y-1\n",
    "----> 5         z = x/y\n",
    "      6     return z\n",
    "      7 \n",
    "      8 buggyfunc(20)\n",
    "ipdb> q\n",
    "\n",
    "In []: %pdb\n",
    "Automatic pdb calling has been turned OFF\n",
    "```"
   ]
  },
  {
   "cell_type": "markdown",
   "metadata": {},
   "source": [
    "Once in the debugger, use `pp locals()` and/or `pp globals()` to see all local or global objects (including variables and functions) available at the point where the debugger stopped in the script. `pp` stands for \"pretty print\".\n",
    "\n",
    "#### Paranoid programming: debugging with breakpoints\n",
    "\n",
    "You may want to pause the program run and inspect a given line or block  of code (`*why?*` — impromptu unit-testing is one reason). To do so, simply put this snippet of code where you want to pause and start a debugging session and then run the program again:\n",
    "\n",
    "```python\n",
    "import ipdb; ipdb.set_trace()\n",
    "```\n",
    "(you can use `import pdb; pdb.set_trace()` to get the less-interactive python debugger!)\n",
    "\n",
    "Alternatively, running the code in ipython with the flag `run -d` starts a debugging session from the first line of your code (you can also specify the line to stop at). \n",
    "\n",
    "*If you are serious about programming, please start using a debugger (R, Python, whatever...)!*\n",
    "\n",
    "#### Debugging using your IDE\n",
    "\n",
    "If you are using a python-dedicated IDE like Spyder or PyCharm, you should do debugging, including setting breakpoints using a graphic user interface. Even more general-purpose code editors / IDEs like Visual Studio Code allow very good [graphical debugging](https://code.visualstudio.com/docs/editor/debugging)."
   ]
  },
  {
   "cell_type": "markdown",
   "metadata": {},
   "source": [
    "### Errors that cannot be debugged \n",
    "\n",
    "In many scenarios, you *do not* want to, or cannot, debug away an error in your program. The two most common such scenarios are:\n",
    "\n",
    "* An error that arises when a particular condition is not met in your program.\n",
    "* You *want* the code to continue running despite an error.\n",
    "\n",
    "to \"handle\" such errors, you can use the `try` - `except` keywords. \n",
    "\n",
    "Let's expand our previous `debugme.py` example to understand how this works. "
   ]
  },
  {
   "cell_type": "code",
   "execution_count": 194,
   "metadata": {},
   "outputs": [
    {
     "name": "stdout",
     "output_type": "stream",
     "text": [
      "This didn't work;x = 20; y = 0\n"
     ]
    },
    {
     "data": {
      "text/plain": [
       "20.0"
      ]
     },
     "execution_count": 194,
     "metadata": {},
     "output_type": "execute_result"
    }
   ],
   "source": [
    "def buggyfunc(x):\n",
    "    y = x\n",
    "    for i in range(x):\n",
    "        try: \n",
    "            y = y-1\n",
    "            z = x/y\n",
    "        except:\n",
    "            print(f\"This didn't work;{x = }; {y = }\")\n",
    "    return z\n",
    "\n",
    "buggyfunc(20)"
   ]
  },
  {
   "cell_type": "markdown",
   "metadata": {},
   "source": [
    "$\\star$ Run this block of code yourself in the ipython console using `%cpaste`.\n",
    "\n",
    "So, `try` does what the name suggests - tries to do something (the division), and if it does not work (any error happens), transfers control to the `except` block and whatever you ask Python to do in that block gets executed. This is a good strategy if you want your program to give feedback, or that particular error is not common.\n",
    "\n",
    "You can also \"catch\" specific types of errors. For example, modify the code further:"
   ]
  },
  {
   "cell_type": "code",
   "execution_count": 195,
   "metadata": {},
   "outputs": [
    {
     "name": "stdout",
     "output_type": "stream",
     "text": [
      "OK; x = 20; y = 19, z = 1.0526315789473684;\n",
      "OK; x = 20; y = 18, z = 1.1111111111111112;\n",
      "OK; x = 20; y = 17, z = 1.1764705882352942;\n",
      "OK; x = 20; y = 16, z = 1.25;\n",
      "OK; x = 20; y = 15, z = 1.3333333333333333;\n",
      "OK; x = 20; y = 14, z = 1.4285714285714286;\n",
      "OK; x = 20; y = 13, z = 1.5384615384615385;\n",
      "OK; x = 20; y = 12, z = 1.6666666666666667;\n",
      "OK; x = 20; y = 11, z = 1.8181818181818181;\n",
      "OK; x = 20; y = 10, z = 2.0;\n",
      "OK; x = 20; y = 9, z = 2.2222222222222223;\n",
      "OK; x = 20; y = 8, z = 2.5;\n",
      "OK; x = 20; y = 7, z = 2.857142857142857;\n",
      "OK; x = 20; y = 6, z = 3.3333333333333335;\n",
      "OK; x = 20; y = 5, z = 4.0;\n",
      "OK; x = 20; y = 4, z = 5.0;\n",
      "OK; x = 20; y = 3, z = 6.666666666666667;\n",
      "OK; x = 20; y = 2, z = 10.0;\n",
      "OK; x = 20; y = 1, z = 20.0;\n",
      "The result of dividing a number by zero is undefined\n"
     ]
    },
    {
     "data": {
      "text/plain": [
       "20.0"
      ]
     },
     "execution_count": 195,
     "metadata": {},
     "output_type": "execute_result"
    }
   ],
   "source": [
    "def buggyfunc(x):\n",
    "    y = x\n",
    "    for i in range(x):\n",
    "        try: \n",
    "            y = y-1\n",
    "            z = x/y\n",
    "        except ZeroDivisionError:\n",
    "            print(f\"The result of dividing a number by zero is undefined\")\n",
    "        except:\n",
    "            print(f\"This didn't work;{x = }; {y = }\")\n",
    "        else:\n",
    "            print(f\"OK; {x = }; {y = }, {z = };\")\n",
    "    return z\n",
    "\n",
    "buggyfunc(20)"
   ]
  },
  {
   "cell_type": "markdown",
   "metadata": {},
   "source": [
    "So here we anticipated a `ZeroDivisionError` and gave feedback on that. As such, `ZeroDivisionError` is a pre-defined error type in Python. Another example is `TypeError`, which you will get if you try to run the above script with something non-numeric, such as a string.\n",
    "\n",
    "Note that we also used `else` (just like in the case of `if`-`else`) here to give feedback on every successful calculation. There is also a `finally` keyword that enables you to execute sections of code that should always run, with or without any previously encountered exceptions."
   ]
  },
  {
   "cell_type": "markdown",
   "metadata": {},
   "source": [
    "```{tip}\n",
    "Notice again in the above script we create an f string but this time we save ourselves even more time by incorporating the variable and an `=` sign:\n",
    "\n",
    "`f\"Here is a string, {x = }\"`\n",
    "\n",
    "This is the same (but *even more concise*) as writing:\n",
    "\n",
    "`f\"Here is a string, x = {x}\"`\n",
    "\n",
    "This works for expressions as well! Try something like the following to see:\n",
    "\n",
    "`from math import cos, radians`\n",
    "\n",
    "`theta = 30`\n",
    "\n",
    "print(f\"{theta = } {cos(radians(theta)) = :.3f}\")\n",
    "```"
   ]
  },
  {
   "cell_type": "markdown",
   "metadata": {},
   "source": [
    "## Modules and code compartmentalization\n",
    "\n",
    "Ideally you should aim to compartmentalize your code into a bunch of functions, typically written in a single `.py` file: these are Python \"modules\", which you were introduced to previously. \n",
    "\n",
    "Why bother with modules? Because:\n",
    "\n",
    "* Keeping code compartmentalized is good for debugging, unit testing, and profiling (coming up later)\n",
    "* Makes code more compact by minimizing redundancies (write repeatedly used code segments as a module)\n",
    "* Allows you to import and use useful functions that you yourself wrote, just like you would from standard python packages (coming up)\n",
    "\n",
    "### Importing Modules\n",
    "\n",
    "There are different ways to *import* a module:\n",
    "\n",
    "* `import my_module`, then functions in the module can be called as `my_module.one_of_my_functions()`.\n",
    "* `from my_module import my_function` imports only the function `my_function` in the module `my_module`. It can then be called as if it were part of the main file: `my_function()`.\n",
    "* `import my_module as mm` imports the module `my_module` and calls it `mm`. Convenient when the name of the module is very long. The functions in the module can be called as `mm.one_of_my_functions()`.\n",
    "* `from my_module import *`. Avoid doing this! *Why?* – to avoid name conflicts!\n",
    "\n",
    "You can also access variables written into modules: `import my_module`, then do: `my_module.one_of_my_variables`\n",
    "\n",
    "### Python packages\n",
    "\n",
    "A Python package is simply a directory of Python modules (quite like an `R` package). A number of packages, such as the following particularly useful ones, are always available as standard libraries (just require `import` from within python or ipython):\n",
    "\n",
    "* `io`: file input-output with `.csv`, `.txt`, etc.\n",
    "* `subprocess`: to run other programs, including multiple ones at the same time, including operating system-dependent functionality\n",
    "* `math`: for mathematical functions\n",
    "* `sqlite3`: for manipulating and querying `sqlite` databases\n",
    "\n",
    "Scores of other packages are accessible by explicitly installing them using `sudo apt install python-packagename` (as you did previously) or by using `pip`. Some particularly mentionable ones are:\n",
    "\n",
    "* [`sciPy`](http://scipy.org) contains a wide array of numerical tools for scientific computing, including `NumPy`\n",
    "for efficient data crunching\n",
    "* `matplotlib` for plotting (very matlab-like, requires `scipy`) (all packaged in `pylab`)\n",
    "* `pandas` for manipulating data, and comes with a DataFrame object similar to the `R` data frame.\n",
    "* [`scikit-learn`](http://scikit-learn.org) for applying different machine learning algorithms to data\n",
    "* `ipython` is an enhanced python terminal (which you are currently using)\n",
    "* `jupyter` is an interactive notebook environment for data analysis, visualization, and creation of documents that can be shared. This course is written entirely as Jupyter notebooks.\n",
    "* `scrapy` allows you to write efficient programs that [crawl](https://en.wikipedia.org/wiki/Web_crawler) through web sites and extract data from them\n",
    "* `beautifulsoup4` can be used for parsing HTML and XML to extract data (can do a lot of what `scrapy` does)\n",
    "* `biopython` for bioinformatics. Check out the [worked examples](http://biopython.org/DIST/docs/tutorial/Tutorial.html) in particular.\n",
    "\n",
    "We will use many of these in the [Advanced Python Chapter](./Python.ipynb)."
   ]
  },
  {
   "cell_type": "markdown",
   "metadata": {},
   "source": [
    "## Practicals\n",
    "\n",
    "As always, test, add, commit and push all your new code and data to your git repository.\n",
    "\n",
    "### Align DNA sequences\n",
    "\n",
    "Open `align_seqs.py` from MulQuaBio's code directory. This script aligns two DNA sequences such that they are as similar as possible. Run the script and make sure you understand what every line is doing. A good way to do this, now that you have learnt debugging, is to insert a breakpoint (`import ipdb; ipdb.set_trace()`) at key locations in the script and examine what is going on. For example, inserting one just after the start of the `for` loop of the `calculate_score` function/module is a good place.     \n",
    "\n",
    "The aligning algorithm is simple. Start by positioning the beginning of the shorter sequence at all positions (bases) of the longer one (the start position), and count the number of bases matched downstream. Then, for each start position, count the \"score\" as total of number of bases matched. The alignment with the highest score wins. Ties are possible, in which case, you just take the an arbitrary alignment (e.g., first or last) with the highest score.\n",
    "\n",
    "Your tasks:\n",
    "\n",
    "* Convert `align_seqs.py` to a Python program that takes the DNA sequences as an input from a single external file and saves the best alignment along with its corresponding score in a single text file (your choice of format and file type) to an appropriate location. No external input should be required; that is, you should still only need to use `python align_seq.py` to run it.\n",
    "    For example, the input file can be a single `.csv` file with the two example sequences given at the top of the original script.\n",
    "    \n",
    "### Groupwork Practical on Align DNA sequences \n",
    "\n",
    "Align all the `.fasta` sequences from the [Unix chapter](./Unix.ipynb). Call the new script `align_seqs_fasta.py`. Unlike `align_seqs.py`, this script should take *any* two fasta sequences (in separate files) to be aligned as input. So this script would typically run by using explicit inputs, for example, when called with something like: \n",
    "```bash\n",
    "python3 align_seqs_fasta.py seq1.fasta seq2.fasta\n",
    "``` \n",
    "However, it should still run if no inputs were given, using two fasta sequences from the `data` directory as defaults.\n",
    "\n",
    "### Groupwork Practical on Align DNA sequences 2\n",
    "\n",
    "The current script/program runs through all possible starting points on the main sequence and then just takes the first of the alignments with the highest score. This should be apparent if you closely examine this part of the script:\n",
    "```python\n",
    "for i in range(l1):\n",
    "    z = calculate_score(s1, s2, l1, l2, i)\n",
    "    if z > my_best_score:\n",
    "        my_best_align = \".\" * i + s2\n",
    "        my_best_score = z\n",
    "```\n",
    "The `if z > my_best_score` condition means that when a new alignment has the same score as the current one, the current one will be kept and the new one discarded. As a result, multiple alignments with the same score will be lost even if they are all equally good alignments (highly likely in longer sequences), with only the first one retained. \n",
    "\n",
    "* Modify the script so that all the equally-best alignments are recorded and saved to the `results` directory in an appropriate file format (Hint: recall `pickle`). Call your new script `align_seqs_better.py`.\n",
    "\n",
    "### Missing oaks problem\n",
    "\n",
    "*  Open and run the code `oaks_debugme.py` — there's a bug, for no oaks are being found! (*where's `TestOaksData.csv`?* — in the `data` directory of MulQuaBio repo!)\n",
    "*  Fix the bug (e.g., you could insert a debugging breakpoint using `import ipdb; ipdb.set_trace()`)\n",
    "*  Now, write doctests to make sure that, bug or no bug, your `is_an_oak` function is working as expected (hint: `>>> is_an_oak('Fagus sylvatica')` should return `False`)\n",
    "\n",
    "If you wrote good doctests, you will find another bug that you might not have by just debugging (hint: what happens if you try the doctest with \"Quercuss\" instead of \"Quercus\"? Should this pass or fail?). \n",
    "\n",
    "* Modify your doctests approriately, and  modify your script such that it can handle cases where there is a typo (such as 'Quercuss') or there is a genus name that is not strictly 'Quercus'. \n",
    "\n",
    "### Groupwork Practical on Missing oaks problem \n",
    "\n",
    "You might have noticed that the headers in the data column are being included in the program as if they were a genus and species. That is, the first block of the program's output is:\n",
    "```bash\n",
    "['Genus', ' species']\n",
    "The genus is:\n",
    "Genus\n",
    "```\n",
    "* Modify the script so that it excludes the header row (if it exists) in its search for oaks in a given dataset.\n",
    "\n",
    "* You might also have noticed that the output of the program writes a new file containing just the names of oaks. However, it does not include the column headers (\"Genus\", \"species\"). Fix this.\n",
    "\n",
    "### Practicals wrap-up\n",
    "\n",
    "*  Review and make sure you can run all the commands, code fragments, and scripts we have till now and get the expected outputs — all scripts should work on any other linux laptop.\n",
    "* *Don't forget to add docstrings where necessary/appropriate.*\n",
    "*  Test all your scripts by running from the bash terminal in additon to from within the ipython shell (and try both `python` and `ipython` to run in the bash terminal)\n",
    "*  Include an appropriate docstring (if one is missing) at the beginning of `*each*` of each of the python script/ module files you have written, as well as at the start of every function (sub-module) in a module.\n",
    "*  Also annotate your code lines as much and as often as necessary using `#`.\n",
    "*  Keep all code files organized in `code` in your weekly directory in your coursework repository (e.g., in CMEECourseWork/Week2). \n",
    "* `git add`, `commit` and `push` all your code and data files to your git repository by given deadline.\n",
    "\n",
    "\n",
    "---\n",
    ":::{figure-md} XKCD-on-Python\n",
    "\n",
    "<img src=\"./graphics/python.png\" alt=\"XKCD on Python\" width=\"300px\">\n",
    "\n",
    "**Is python the most common answer to your daily programming needs?** Possibly! <br>\n",
    "(Source: [XKCD](http://xkcd.com))\n",
    "\n",
    ":::\n",
    "\n",
    "---"
   ]
  },
  {
   "cell_type": "markdown",
   "metadata": {},
   "source": [
    "## Numerical computing in Python\n",
    "\n",
    "Python is a good choice for numerical computing (recall [this comparison](Python:Why-python)). Using the right packages, you can do some serious number crunching in Python.\n",
    "\n",
    "We will use the `numpy` and `scipy` packages. The latter offers a data structure called numpy array that is suitable for efficient computing, along with basic operations on these arrays. \n",
    "\n",
    "On the other hand, scipy is proper numerical computing package (which *uses* numpy arrays) that can do a lot of things, including:\n",
    "\n",
    "* Linear algebra (matrix and vector operations) using `scipy.linalg`\n",
    "* Dealing with sparse matrix problems using `scipy.sparse`\n",
    "* Numerical integration (including solving of Ordinary Differential Equations (ODEs)) using `scipy.integrate`\n",
    "* Random number generation and using statistical functions and transformations using `scipy.stats`\n",
    "* Optimization using `scipy.optimize`\n",
    "* Fourier transforms using `scipy.fft`\n",
    "* Signal Processing using `scipy.signal`\n",
    "\n",
    "We will learn more about scipy further below. First, let's start with `numpy`."
   ]
  },
  {
   "cell_type": "markdown",
   "metadata": {},
   "source": [
    "### Numpy\n",
    "\n",
    "Numpy provides the `numpy array` data structure, along with methods for for data creation, manipulations and basic numerical calculations. Numpy arrays are similar in some respects to Python lists, but are homogeneous in type (the default is float), allow efficient (fast) manipulations, and are more naturally multidimensional (e.g., you can store multiple matrices in one array). \n",
    "\n",
    "```{note}\n",
    "numpy arrays are analogous to the [R `matrix`](R-matrices) data structure.\n",
    "```\n",
    "\n",
    "Let's start by importing numpy:"
   ]
  },
  {
   "cell_type": "code",
   "execution_count": 200,
   "metadata": {},
   "outputs": [],
   "source": [
    "import numpy as np"
   ]
  },
  {
   "cell_type": "code",
   "execution_count": 202,
   "metadata": {},
   "outputs": [
    {
     "data": {
      "text/plain": [
       "array([0, 1, 2, 3, 4])"
      ]
     },
     "execution_count": 202,
     "metadata": {},
     "output_type": "execute_result"
    }
   ],
   "source": [
    "a = np.array(range(5)) # a one-dimensional array\n",
    "a"
   ]
  },
  {
   "cell_type": "code",
   "execution_count": 203,
   "metadata": {},
   "outputs": [
    {
     "name": "stdout",
     "output_type": "stream",
     "text": [
      "<class 'numpy.ndarray'>\n"
     ]
    }
   ],
   "source": [
    "print(type(a))"
   ]
  },
  {
   "cell_type": "code",
   "execution_count": 204,
   "metadata": {},
   "outputs": [
    {
     "name": "stdout",
     "output_type": "stream",
     "text": [
      "<class 'numpy.int64'>\n"
     ]
    }
   ],
   "source": [
    "print(type(a[0]))"
   ]
  },
  {
   "cell_type": "markdown",
   "metadata": {},
   "source": [
    "Thus the last two outputs tell you that firstly, that numpy arrays belong to a data structure type (and a class) called `numpy.ndarray`, and secondly, that at position `0` (remember, Python indexing starts at 0) it holds an [64 bit integer](https://en.wikipedia.org/wiki/9,223,372,036,854,775,807). All elements in `a` are of type `int` because that is what `range()` returns (try `?range`).\n",
    "\n",
    "---\n",
    "\n",
    ":::{figure-md} Python-numpy-array \n",
    "\n",
    "<img src=\"./graphics/numpyarray.png\" alt=\"Python numpy array\" width=\"700px\">\n",
    "\n",
    "**A graphical depiction of numpy/numpy arrays.** These can have multiple dimensions (even greater than 3). <br>\n",
    "(Source: [http://pages.physics.cornell.edu/~myers/teaching/ComputationalMethods/python/arrays.html](http://pages.physics.cornell.edu/~myers/teaching/ComputationalMethods/python/arrays.html))\n",
    "\n",
    "::: \n",
    "\n",
    "---\n",
    "\n",
    "You can also specify the data type of the array:"
   ]
  },
  {
   "cell_type": "code",
   "execution_count": 205,
   "metadata": {},
   "outputs": [
    {
     "data": {
      "text/plain": [
       "array([0., 1., 2., 3., 4.])"
      ]
     },
     "execution_count": 205,
     "metadata": {},
     "output_type": "execute_result"
    }
   ],
   "source": [
    "a = np.array(range(5), float)\n",
    "a"
   ]
  },
  {
   "cell_type": "code",
   "execution_count": 206,
   "metadata": {},
   "outputs": [
    {
     "data": {
      "text/plain": [
       "dtype('float64')"
      ]
     },
     "execution_count": 206,
     "metadata": {},
     "output_type": "execute_result"
    }
   ],
   "source": [
    "a.dtype # Check type "
   ]
  },
  {
   "cell_type": "markdown",
   "metadata": {},
   "source": [
    "You can also get a 1-D arrays as follows:"
   ]
  },
  {
   "cell_type": "code",
   "execution_count": 207,
   "metadata": {},
   "outputs": [
    {
     "data": {
      "text/plain": [
       "array([0, 1, 2, 3, 4])"
      ]
     },
     "execution_count": 207,
     "metadata": {},
     "output_type": "execute_result"
    }
   ],
   "source": [
    "x = np.arange(5)\n",
    "x"
   ]
  },
  {
   "cell_type": "code",
   "execution_count": 208,
   "metadata": {},
   "outputs": [
    {
     "data": {
      "text/plain": [
       "array([0., 1., 2., 3., 4.])"
      ]
     },
     "execution_count": 208,
     "metadata": {},
     "output_type": "execute_result"
    }
   ],
   "source": [
    "x = np.arange(5.) #directly specify float using decimal\n",
    "x"
   ]
  },
  {
   "cell_type": "markdown",
   "metadata": {},
   "source": [
    "As with other Python variables (e.g., created as a list or a dictionary), you can apply methods to variables created as numpy arrays. For example, type `x.` and hit TAB to see all methods you can apply to`x`. To see dimensions of `x`:"
   ]
  },
  {
   "cell_type": "code",
   "execution_count": 209,
   "metadata": {},
   "outputs": [
    {
     "data": {
      "text/plain": [
       "(5,)"
      ]
     },
     "execution_count": 209,
     "metadata": {},
     "output_type": "execute_result"
    }
   ],
   "source": [
    "x.shape"
   ]
  },
  {
   "cell_type": "markdown",
   "metadata": {},
   "source": [
    "```{tip}\n",
    "Remember, you can type `:?x.methodname` to get info on a particular method (command). For example, try `?x.shape`.\n",
    "```\n",
    "\n",
    "You can also convert to and from Python lists (recall [list comprehensions](Python-Comprehensions) from the [Python I chapter](./Python.ipynb)):"
   ]
  },
  {
   "cell_type": "code",
   "execution_count": 210,
   "metadata": {},
   "outputs": [
    {
     "data": {
      "text/plain": [
       "array([1, 3, 5, 7, 9])"
      ]
     },
     "execution_count": 210,
     "metadata": {},
     "output_type": "execute_result"
    }
   ],
   "source": [
    "b = np.array([i for i in range(10) if i % 2 == 1]) #odd numbers between 1 and 10 \n",
    "b"
   ]
  },
  {
   "cell_type": "code",
   "execution_count": 211,
   "metadata": {},
   "outputs": [
    {
     "data": {
      "text/plain": [
       "[1, 3, 5, 7, 9]"
      ]
     },
     "execution_count": 211,
     "metadata": {},
     "output_type": "execute_result"
    }
   ],
   "source": [
    "c = b.tolist() #convert back to list\n",
    "c"
   ]
  },
  {
   "cell_type": "markdown",
   "metadata": {},
   "source": [
    "To make a matrix, you need a 2-D numpy array:"
   ]
  },
  {
   "cell_type": "code",
   "execution_count": 212,
   "metadata": {},
   "outputs": [
    {
     "data": {
      "text/plain": [
       "array([[0, 1],\n",
       "       [2, 3]])"
      ]
     },
     "execution_count": 212,
     "metadata": {},
     "output_type": "execute_result"
    }
   ],
   "source": [
    "mat = np.array([[0, 1], [2, 3]])\n",
    "mat"
   ]
  },
  {
   "cell_type": "code",
   "execution_count": 213,
   "metadata": {
    "scrolled": true
   },
   "outputs": [
    {
     "data": {
      "text/plain": [
       "(2, 2)"
      ]
     },
     "execution_count": 213,
     "metadata": {},
     "output_type": "execute_result"
    }
   ],
   "source": [
    "mat.shape"
   ]
  },
  {
   "cell_type": "markdown",
   "metadata": {},
   "source": [
    "### Indexing and accessing arrays\n",
    "\n",
    "As with other Python data objects such as lists, numpy array elements can be accessed using square brackets (`[ ]`) with the usual `[row,column]` reference. Indexing of numpy arrays works like that for other data structures, with index values starting at 0. So, you can obtain all the elements of a particular row as:"
   ]
  },
  {
   "cell_type": "code",
   "execution_count": 214,
   "metadata": {},
   "outputs": [
    {
     "data": {
      "text/plain": [
       "array([2, 3])"
      ]
     },
     "execution_count": 214,
     "metadata": {},
     "output_type": "execute_result"
    }
   ],
   "source": [
    "mat[1] # accessing whole 2nd row, remember indexing starts at  0"
   ]
  },
  {
   "cell_type": "code",
   "execution_count": 215,
   "metadata": {},
   "outputs": [
    {
     "data": {
      "text/plain": [
       "array([1, 3])"
      ]
     },
     "execution_count": 215,
     "metadata": {},
     "output_type": "execute_result"
    }
   ],
   "source": [
    "mat[:,1] #accessing whole second column  "
   ]
  },
  {
   "cell_type": "markdown",
   "metadata": {},
   "source": [
    "And accessing particular elements:"
   ]
  },
  {
   "cell_type": "code",
   "execution_count": 216,
   "metadata": {},
   "outputs": [
    {
     "data": {
      "text/plain": [
       "np.int64(0)"
      ]
     },
     "execution_count": 216,
     "metadata": {},
     "output_type": "execute_result"
    }
   ],
   "source": [
    "mat[0,0] # 1st row, 1st column element"
   ]
  },
  {
   "cell_type": "code",
   "execution_count": 217,
   "metadata": {},
   "outputs": [
    {
     "data": {
      "text/plain": [
       "np.int64(2)"
      ]
     },
     "execution_count": 217,
     "metadata": {},
     "output_type": "execute_result"
    }
   ],
   "source": [
    "mat[1,0] # 2nd row, 1st column element"
   ]
  },
  {
   "cell_type": "markdown",
   "metadata": {},
   "source": [
    "Note that (like all other programming languages) row index always comes before column index. That is, `mat[1]` is always going to mean \"whole second row\", and `mat[1,1]` means 1st row and 1st column element. Therefore, to access the whole second column, you need:"
   ]
  },
  {
   "cell_type": "code",
   "execution_count": 218,
   "metadata": {},
   "outputs": [
    {
     "data": {
      "text/plain": [
       "array([0, 2])"
      ]
     },
     "execution_count": 218,
     "metadata": {},
     "output_type": "execute_result"
    }
   ],
   "source": [
    "mat[:,0] #accessing whole first column  "
   ]
  },
  {
   "cell_type": "markdown",
   "metadata": {},
   "source": [
    "Python indexing also accepts negative values for going back to the start\n",
    "from the end of an array:"
   ]
  },
  {
   "cell_type": "code",
   "execution_count": 219,
   "metadata": {},
   "outputs": [
    {
     "data": {
      "text/plain": [
       "np.int64(1)"
      ]
     },
     "execution_count": 219,
     "metadata": {},
     "output_type": "execute_result"
    }
   ],
   "source": [
    "mat[0,1]"
   ]
  },
  {
   "cell_type": "code",
   "execution_count": 220,
   "metadata": {},
   "outputs": [
    {
     "data": {
      "text/plain": [
       "np.int64(1)"
      ]
     },
     "execution_count": 220,
     "metadata": {},
     "output_type": "execute_result"
    }
   ],
   "source": [
    "mat[0,-1]"
   ]
  },
  {
   "cell_type": "code",
   "execution_count": 221,
   "metadata": {
    "scrolled": true
   },
   "outputs": [
    {
     "data": {
      "text/plain": [
       "np.int64(2)"
      ]
     },
     "execution_count": 221,
     "metadata": {},
     "output_type": "execute_result"
    }
   ],
   "source": [
    "mat[-1,0]"
   ]
  },
  {
   "cell_type": "code",
   "execution_count": 222,
   "metadata": {},
   "outputs": [
    {
     "data": {
      "text/plain": [
       "np.int64(0)"
      ]
     },
     "execution_count": 222,
     "metadata": {},
     "output_type": "execute_result"
    }
   ],
   "source": [
    "mat[0,-2]"
   ]
  },
  {
   "cell_type": "markdown",
   "metadata": {},
   "source": [
    "Very interesting, but rather useless for this simple matrix!"
   ]
  },
  {
   "cell_type": "markdown",
   "metadata": {},
   "source": [
    "### Manipulating arrays\n",
    "\n",
    "Manipulating numpy arrays is pretty straightforward. \n",
    "\n",
    "```{note}\n",
    "**Why numpy arrays are computationally efficient:**  The data associated with a numpy array object (its metadata  &ndash; number of dimensions, shape, data type, etc &ndash; as well as the actual data) are stored in a homogeneous and contiguous block of memory (a \"data buffer\"), at a particular address in the system's RAM (Random Access Memory). This makes numpy arrays more efficient than a pure Python data structures like lists whose data are scattered across the system memory.\n",
    "```\n",
    "\n",
    "#### Replacing, adding or deleting elements\n",
    "\n",
    "Let's look at how you can replace, add, or delete an array element (a single entry, or whole row(s) or whole column(s)):"
   ]
  },
  {
   "cell_type": "code",
   "execution_count": 223,
   "metadata": {},
   "outputs": [
    {
     "data": {
      "text/plain": [
       "array([[-1,  1],\n",
       "       [ 2,  3]])"
      ]
     },
     "execution_count": 223,
     "metadata": {},
     "output_type": "execute_result"
    }
   ],
   "source": [
    "mat[0,0] = -1 #replace a single element\n",
    "mat"
   ]
  },
  {
   "cell_type": "code",
   "execution_count": 224,
   "metadata": {},
   "outputs": [
    {
     "data": {
      "text/plain": [
       "array([[12,  1],\n",
       "       [12,  3]])"
      ]
     },
     "execution_count": 224,
     "metadata": {},
     "output_type": "execute_result"
    }
   ],
   "source": [
    "mat[:,0] = [12,12] #replace whole column\n",
    "mat"
   ]
  },
  {
   "cell_type": "code",
   "execution_count": 225,
   "metadata": {
    "scrolled": true
   },
   "outputs": [
    {
     "data": {
      "text/plain": [
       "array([[12,  1],\n",
       "       [12,  3],\n",
       "       [12, 12]])"
      ]
     },
     "execution_count": 225,
     "metadata": {},
     "output_type": "execute_result"
    }
   ],
   "source": [
    "np.append(mat, [[12,12]], axis = 0) #append row, note axis specification"
   ]
  },
  {
   "cell_type": "code",
   "execution_count": 226,
   "metadata": {},
   "outputs": [
    {
     "data": {
      "text/plain": [
       "array([[12,  1, 12],\n",
       "       [12,  3, 12]])"
      ]
     },
     "execution_count": 226,
     "metadata": {},
     "output_type": "execute_result"
    }
   ],
   "source": [
    "np.append(mat, [[12],[12]], axis = 1) #append column"
   ]
  },
  {
   "cell_type": "code",
   "execution_count": 227,
   "metadata": {},
   "outputs": [],
   "source": [
    "newRow = [[12,12]] #create new row"
   ]
  },
  {
   "cell_type": "code",
   "execution_count": 228,
   "metadata": {},
   "outputs": [
    {
     "data": {
      "text/plain": [
       "array([[12,  1],\n",
       "       [12,  3],\n",
       "       [12, 12]])"
      ]
     },
     "execution_count": 228,
     "metadata": {},
     "output_type": "execute_result"
    }
   ],
   "source": [
    "mat = np.append(mat, newRow, axis = 0) #append that existing row\n",
    "mat"
   ]
  },
  {
   "cell_type": "code",
   "execution_count": 229,
   "metadata": {},
   "outputs": [
    {
     "data": {
      "text/plain": [
       "array([[12,  1],\n",
       "       [12,  3]])"
      ]
     },
     "execution_count": 229,
     "metadata": {},
     "output_type": "execute_result"
    }
   ],
   "source": [
    "np.delete(mat, 2, 0) #Delete 3rd row"
   ]
  },
  {
   "cell_type": "markdown",
   "metadata": {},
   "source": [
    "And concatenation:"
   ]
  },
  {
   "cell_type": "code",
   "execution_count": 230,
   "metadata": {},
   "outputs": [
    {
     "data": {
      "text/plain": [
       "array([[ 0,  1],\n",
       "       [ 2,  3],\n",
       "       [ 0, 10],\n",
       "       [-1,  3]])"
      ]
     },
     "execution_count": 230,
     "metadata": {},
     "output_type": "execute_result"
    }
   ],
   "source": [
    "mat = np.array([[0, 1], [2, 3]])\n",
    "mat0 = np.array([[0, 10], [-1, 3]])\n",
    "np.concatenate((mat, mat0), axis = 0)"
   ]
  },
  {
   "cell_type": "markdown",
   "metadata": {},
   "source": [
    "#### Flattening or reshaping arrays\n",
    "\n",
    "You can also \"flatten\" or \"melt\" arrays, that is, change array dimensions (e.g., from a matrix to a vector):"
   ]
  },
  {
   "cell_type": "code",
   "execution_count": 231,
   "metadata": {},
   "outputs": [
    {
     "data": {
      "text/plain": [
       "array([0, 1, 2, 3])"
      ]
     },
     "execution_count": 231,
     "metadata": {},
     "output_type": "execute_result"
    }
   ],
   "source": [
    "mat.ravel()"
   ]
  },
  {
   "cell_type": "code",
   "execution_count": 232,
   "metadata": {},
   "outputs": [
    {
     "data": {
      "text/plain": [
       "array([[0],\n",
       "       [1],\n",
       "       [2],\n",
       "       [3]])"
      ]
     },
     "execution_count": 232,
     "metadata": {},
     "output_type": "execute_result"
    }
   ],
   "source": [
    "mat.reshape((4,1))"
   ]
  },
  {
   "cell_type": "markdown",
   "metadata": {},
   "source": [
    "This is different from ravel: check the documentation by using `?np.reshape`."
   ]
  },
  {
   "cell_type": "code",
   "execution_count": 233,
   "metadata": {
    "scrolled": true
   },
   "outputs": [
    {
     "data": {
      "text/plain": [
       "array([[0, 1, 2, 3]])"
      ]
     },
     "execution_count": 233,
     "metadata": {},
     "output_type": "execute_result"
    }
   ],
   "source": [
    "mat.reshape((1,4))"
   ]
  },
  {
   "cell_type": "markdown",
   "metadata": {},
   "source": [
    "```{note}\n",
    "You might have noticed that flattening and reshaping is \"row-priority\": elements of the vector are allocated to a matrix row-wise, and vice versa(e.g., with `ravel` unraveling also happens row by row).\n",
    "```"
   ]
  },
  {
   "cell_type": "code",
   "execution_count": 234,
   "metadata": {},
   "outputs": [
    {
     "ename": "ValueError",
     "evalue": "cannot reshape array of size 4 into shape (3,1)",
     "output_type": "error",
     "traceback": [
      "\u001b[0;31m---------------------------------------------------------------------------\u001b[0m",
      "\u001b[0;31mValueError\u001b[0m                                Traceback (most recent call last)",
      "Cell \u001b[0;32mIn[234], line 1\u001b[0m\n\u001b[0;32m----> 1\u001b[0m \u001b[43mmat\u001b[49m\u001b[38;5;241;43m.\u001b[39;49m\u001b[43mreshape\u001b[49m\u001b[43m(\u001b[49m\u001b[43m(\u001b[49m\u001b[38;5;241;43m3\u001b[39;49m\u001b[43m,\u001b[49m\u001b[43m \u001b[49m\u001b[38;5;241;43m1\u001b[39;49m\u001b[43m)\u001b[49m\u001b[43m)\u001b[49m\n",
      "\u001b[0;31mValueError\u001b[0m: cannot reshape array of size 4 into shape (3,1)"
     ]
    }
   ],
   "source": [
    "mat.reshape((3, 1))"
   ]
  },
  {
   "cell_type": "markdown",
   "metadata": {},
   "source": [
    "This gives an error because total elements must remain the same! \n",
    "\n",
    "This is a bit different than how [`R` behaves](R-Recycling), where you won't get an error (R \"recycles\" data) (which can be dangerous!)\n",
    "\n",
    "### Pre-allocating arrays\n",
    "\n",
    "As in other computer languages, it is usually more efficient to preallocate an array rather than append / insert / concatenate additional elements, rows, or columns. *Why*? &ndash; because you might run out of contiguous space in the specific system memory (RAM) address where the current array is stored. Preallocation allocates all the RAM memory you need in one call, while resizing the array (through `append`, `insert`, `concatenate`, `resize`, etc.) may require copying the array to a larger block of memory, slowing things down, and significantly so if the matrix/array is very large.\n",
    "\n",
    "For example, if you know the size of your matrix or array, you can initialize it with ones or zeros:"
   ]
  },
  {
   "cell_type": "code",
   "execution_count": 236,
   "metadata": {
    "scrolled": true
   },
   "outputs": [
    {
     "data": {
      "text/plain": [
       "array([[1., 1.],\n",
       "       [1., 1.],\n",
       "       [1., 1.],\n",
       "       [1., 1.]])"
      ]
     },
     "execution_count": 236,
     "metadata": {},
     "output_type": "execute_result"
    }
   ],
   "source": [
    "np.ones((4,2))"
   ]
  },
  {
   "cell_type": "markdown",
   "metadata": {},
   "source": [
    "Note that `(4,2)` are the (row,col) array dimensions."
   ]
  },
  {
   "cell_type": "code",
   "execution_count": 237,
   "metadata": {
    "scrolled": true
   },
   "outputs": [
    {
     "data": {
      "text/plain": [
       "array([[0., 0.],\n",
       "       [0., 0.],\n",
       "       [0., 0.],\n",
       "       [0., 0.]])"
      ]
     },
     "execution_count": 237,
     "metadata": {},
     "output_type": "execute_result"
    }
   ],
   "source": [
    "np.zeros((4,2)) # or zeros"
   ]
  },
  {
   "cell_type": "code",
   "execution_count": 238,
   "metadata": {},
   "outputs": [
    {
     "data": {
      "text/plain": [
       "array([[1., 0., 0., 0.],\n",
       "       [0., 1., 0., 0.],\n",
       "       [0., 0., 1., 0.],\n",
       "       [0., 0., 0., 1.]])"
      ]
     },
     "execution_count": 238,
     "metadata": {},
     "output_type": "execute_result"
    }
   ],
   "source": [
    "m = np.identity(4) #create an identity matrix\n",
    "m"
   ]
  },
  {
   "cell_type": "code",
   "execution_count": 239,
   "metadata": {},
   "outputs": [
    {
     "data": {
      "text/plain": [
       "array([[16., 16., 16., 16.],\n",
       "       [16., 16., 16., 16.],\n",
       "       [16., 16., 16., 16.],\n",
       "       [16., 16., 16., 16.]])"
      ]
     },
     "execution_count": 239,
     "metadata": {},
     "output_type": "execute_result"
    }
   ],
   "source": [
    "m.fill(16) #fill the matrix with 16\n",
    "m"
   ]
  },
  {
   "cell_type": "markdown",
   "metadata": {},
   "source": [
    "### `numpy` matrices\n",
    "\n",
    "Scipy/Numpy also has a `matrix` data structure class. Numpy matrices are strictly 2-dimensional, while numpy arrays are N-dimensional. Matrix objects are a subclass of numpy arrays, so they inherit all the attributes and methods of numpy arrays (ndarrays).\n",
    "\n",
    "The main advantage of scipy matrices is that they provide a convenient notation for matrix multiplication: for example, if `a` and `b` are matrices, then `a * b` is their matrix product.\n",
    "\n",
    "#### Matrix-vector operations\n",
    "\n",
    "Now let's perform some common matrix-vector operations on arrays (you can also try the same using matrices instead of arrays):"
   ]
  },
  {
   "cell_type": "code",
   "execution_count": 240,
   "metadata": {},
   "outputs": [
    {
     "data": {
      "text/plain": [
       "array([[ 0,  1,  2,  3],\n",
       "       [ 4,  5,  6,  7],\n",
       "       [ 8,  9, 10, 11],\n",
       "       [12, 13, 14, 15]])"
      ]
     },
     "execution_count": 240,
     "metadata": {},
     "output_type": "execute_result"
    }
   ],
   "source": [
    "mm = np.arange(16)\n",
    "mm = mm.reshape(4,4) #Convert to matrix\n",
    "mm"
   ]
  },
  {
   "cell_type": "code",
   "execution_count": 241,
   "metadata": {
    "scrolled": true
   },
   "outputs": [
    {
     "data": {
      "text/plain": [
       "array([[ 0,  4,  8, 12],\n",
       "       [ 1,  5,  9, 13],\n",
       "       [ 2,  6, 10, 14],\n",
       "       [ 3,  7, 11, 15]])"
      ]
     },
     "execution_count": 241,
     "metadata": {},
     "output_type": "execute_result"
    }
   ],
   "source": [
    "mm.transpose()"
   ]
  },
  {
   "cell_type": "code",
   "execution_count": 242,
   "metadata": {
    "scrolled": true
   },
   "outputs": [
    {
     "data": {
      "text/plain": [
       "array([[ 0,  5, 10, 15],\n",
       "       [ 5, 10, 15, 20],\n",
       "       [10, 15, 20, 25],\n",
       "       [15, 20, 25, 30]])"
      ]
     },
     "execution_count": 242,
     "metadata": {},
     "output_type": "execute_result"
    }
   ],
   "source": [
    "mm + mm.transpose()"
   ]
  },
  {
   "cell_type": "code",
   "execution_count": 243,
   "metadata": {
    "scrolled": true
   },
   "outputs": [
    {
     "data": {
      "text/plain": [
       "array([[ 0, -3, -6, -9],\n",
       "       [ 3,  0, -3, -6],\n",
       "       [ 6,  3,  0, -3],\n",
       "       [ 9,  6,  3,  0]])"
      ]
     },
     "execution_count": 243,
     "metadata": {},
     "output_type": "execute_result"
    }
   ],
   "source": [
    "mm - mm.transpose()"
   ]
  },
  {
   "cell_type": "code",
   "execution_count": 244,
   "metadata": {},
   "outputs": [
    {
     "data": {
      "text/plain": [
       "array([[  0,   4,  16,  36],\n",
       "       [  4,  25,  54,  91],\n",
       "       [ 16,  54, 100, 154],\n",
       "       [ 36,  91, 154, 225]])"
      ]
     },
     "execution_count": 244,
     "metadata": {},
     "output_type": "execute_result"
    }
   ],
   "source": [
    "mm * mm.transpose() # Note that this is element-wise multiplication"
   ]
  },
  {
   "cell_type": "code",
   "execution_count": 245,
   "metadata": {
    "scrolled": true
   },
   "outputs": [
    {
     "name": "stderr",
     "output_type": "stream",
     "text": [
      "/tmp/ipykernel_106845/1630225829.py:1: RuntimeWarning: divide by zero encountered in floor_divide\n",
      "  mm // mm.transpose()\n"
     ]
    },
    {
     "data": {
      "text/plain": [
       "array([[0, 0, 0, 0],\n",
       "       [4, 1, 0, 0],\n",
       "       [4, 1, 1, 0],\n",
       "       [4, 1, 1, 1]])"
      ]
     },
     "execution_count": 245,
     "metadata": {},
     "output_type": "execute_result"
    }
   ],
   "source": [
    "mm // mm.transpose()"
   ]
  },
  {
   "cell_type": "markdown",
   "metadata": {},
   "source": [
    "Note that we used integer division `//`. Note also the warning you get (because of zero division). So let's avoid the divide by zero:"
   ]
  },
  {
   "cell_type": "code",
   "execution_count": 246,
   "metadata": {},
   "outputs": [
    {
     "data": {
      "text/plain": [
       "array([[0, 0, 0, 0],\n",
       "       [2, 0, 0, 0],\n",
       "       [2, 1, 0, 0],\n",
       "       [3, 1, 1, 0]])"
      ]
     },
     "execution_count": 246,
     "metadata": {},
     "output_type": "execute_result"
    }
   ],
   "source": [
    "mm // (mm + 1).transpose()"
   ]
  },
  {
   "cell_type": "code",
   "execution_count": 247,
   "metadata": {},
   "outputs": [
    {
     "data": {
      "text/plain": [
       "array([[ 0.        ,  3.14159265,  6.28318531,  9.42477796],\n",
       "       [12.56637061, 15.70796327, 18.84955592, 21.99114858],\n",
       "       [25.13274123, 28.27433388, 31.41592654, 34.55751919],\n",
       "       [37.69911184, 40.8407045 , 43.98229715, 47.1238898 ]])"
      ]
     },
     "execution_count": 247,
     "metadata": {},
     "output_type": "execute_result"
    }
   ],
   "source": [
    "mm * np.pi"
   ]
  },
  {
   "cell_type": "code",
   "execution_count": 248,
   "metadata": {},
   "outputs": [
    {
     "data": {
      "text/plain": [
       "array([[ 56,  62,  68,  74],\n",
       "       [152, 174, 196, 218],\n",
       "       [248, 286, 324, 362],\n",
       "       [344, 398, 452, 506]])"
      ]
     },
     "execution_count": 248,
     "metadata": {},
     "output_type": "execute_result"
    }
   ],
   "source": [
    "mm.dot(mm) # No this is matric multiplication, or the dot product"
   ]
  },
  {
   "cell_type": "markdown",
   "metadata": {},
   "source": [
    "There is also a numpy matrix class:"
   ]
  },
  {
   "cell_type": "code",
   "execution_count": 249,
   "metadata": {
    "scrolled": true
   },
   "outputs": [
    {
     "data": {
      "text/plain": [
       "matrix([[ 0,  1,  2,  3],\n",
       "        [ 4,  5,  6,  7],\n",
       "        [ 8,  9, 10, 11],\n",
       "        [12, 13, 14, 15]])"
      ]
     },
     "execution_count": 249,
     "metadata": {},
     "output_type": "execute_result"
    }
   ],
   "source": [
    "mm = np.matrix(mm) # convert to scipy/numpy matrix class\n",
    "mm"
   ]
  },
  {
   "cell_type": "code",
   "execution_count": 250,
   "metadata": {},
   "outputs": [
    {
     "name": "stdout",
     "output_type": "stream",
     "text": [
      "<class 'numpy.matrix'>\n"
     ]
    }
   ],
   "source": [
    "print(type(mm))"
   ]
  },
  {
   "cell_type": "markdown",
   "metadata": {},
   "source": [
    "This data structure makes matrix multiplication syntactically easier:"
   ]
  },
  {
   "cell_type": "code",
   "execution_count": 251,
   "metadata": {
    "scrolled": true
   },
   "outputs": [
    {
     "data": {
      "text/plain": [
       "matrix([[ 56,  62,  68,  74],\n",
       "        [152, 174, 196, 218],\n",
       "        [248, 286, 324, 362],\n",
       "        [344, 398, 452, 506]])"
      ]
     },
     "execution_count": 251,
     "metadata": {},
     "output_type": "execute_result"
    }
   ],
   "source": [
    "mm * mm # instead of mm.dot(mm)"
   ]
  },
  {
   "cell_type": "markdown",
   "metadata": {},
   "source": [
    "```{warning}\n",
    "However, it is not recommended that you use the numpy matrix class because it may be removed [in the future](https://numpy.org/doc/stable/reference/generated/numpy.matrix.html).\n",
    "```"
   ]
  },
  {
   "cell_type": "markdown",
   "metadata": {},
   "source": [
    "```{tip}\n",
    "You can do a lot more with matrices and vectors by importing the `linalg` sub-package from scipy: `scipy.linalg`.\n",
    "```"
   ]
  },
  {
   "cell_type": "markdown",
   "metadata": {},
   "source": [
    "### The `scipy` package\n",
    "\n",
    "Now let's move on to `scipy`. \n",
    "\n",
    "```{note}\n",
    "**scipy vs numpy**: It's a bit confusing. Please have a look at [this](https://scipy.org/faq/#what-is-the-difference-between-numpy-and-scipy). Basically, there is some overlap between what these two packages can do, and this redundancy will eventually be phased out completely. The recommended approach is to use numpy for creating and manipulating data and scipy for more complex numerical operations.\n",
    "```\n",
    "\n",
    "We will look at two particularly useful `scipy` sub-packages here: `scipy.stats` and `scipy.integrate`. \n",
    "\n",
    "(Python-scipy-stats)=\n",
    "#### Scipy stats\n",
    "\n",
    "Let's take a quick spin in `scipy.stats`. \n",
    "\n",
    "*Why not use `R` for stats?* — because often you might just need to calculate some summary stats of your simulation results within Python, or you simulations may require the generation of random numbers.\n",
    "\n",
    "First, import scipy:"
   ]
  },
  {
   "cell_type": "code",
   "execution_count": 252,
   "metadata": {},
   "outputs": [],
   "source": [
    "import scipy as sc"
   ]
  },
  {
   "cell_type": "markdown",
   "metadata": {},
   "source": [
    "Or you can use `from scipy import stats`. \n",
    "\n",
    "Let's generate 10 samples from the normal distribution ($\\mathcal{N}(\\mu,\\,\\sigma^{2})$):"
   ]
  },
  {
   "cell_type": "code",
   "execution_count": 253,
   "metadata": {},
   "outputs": [
    {
     "data": {
      "text/plain": [
       "array([ 0.24180563, -0.46723522,  0.46896934,  0.46658917,  2.17949559,\n",
       "        0.71902449, -0.38173396,  2.18465835, -1.08248687,  0.10335904])"
      ]
     },
     "execution_count": 253,
     "metadata": {},
     "output_type": "execute_result"
    }
   ],
   "source": [
    "sc.stats.norm.rvs(size = 10)"
   ]
  },
  {
   "cell_type": "markdown",
   "metadata": {},
   "source": [
    "By default, [as in R](R-random-numbers), these are numbers from the *standard* normal distribution ($\\mathcal{N}(0,\\,1)$)."
   ]
  },
  {
   "cell_type": "markdown",
   "metadata": {},
   "source": [
    "```{tip}\n",
    "**Continuing on the numpy vs scipy theme**: Both scipy and numpy can generate random numbers (e.g., `np.random.normal(size=10)` would work equally well above). In fact, scipy uses the `numpy.random` package under the hood for drawing random numbers. You may choose to use either, but for sanity, its probably a good idea to just stick with `scipy.stats` for all your stats number crunching.\n",
    "```\n",
    "\n",
    "Also, as you learned [in R](R-random-numbers), you can \"seed\" random numbers to get the same sequence every time (important for reproducibility &ndash; when you need to know what specific random numbers were input into a particular program routine or algorithm)."
   ]
  },
  {
   "cell_type": "code",
   "execution_count": 254,
   "metadata": {},
   "outputs": [
    {
     "data": {
      "text/plain": [
       "array([ 0.47143516, -1.19097569,  1.43270697, -0.3126519 , -0.72058873,\n",
       "        0.88716294,  0.85958841, -0.6365235 ,  0.01569637, -2.24268495])"
      ]
     },
     "execution_count": 254,
     "metadata": {},
     "output_type": "execute_result"
    }
   ],
   "source": [
    "np.random.seed(1234)\n",
    "sc.stats.norm.rvs(size = 10)"
   ]
  },
  {
   "cell_type": "markdown",
   "metadata": {},
   "source": [
    "But setting a *global* random number state is not always needed or in some many cases, recommended, because using something like `np.random.seed(1234)` will set the seed for all following instances where a random number is generated. In many scenarios a more robust way is to use the `random_state` argument for each specific generation of a set of random numbers:"
   ]
  },
  {
   "cell_type": "code",
   "execution_count": 255,
   "metadata": {},
   "outputs": [
    {
     "data": {
      "text/plain": [
       "array([ 0.47143516, -1.19097569,  1.43270697, -0.3126519 , -0.72058873])"
      ]
     },
     "execution_count": 255,
     "metadata": {},
     "output_type": "execute_result"
    }
   ],
   "source": [
    "sc.stats.norm.rvs(size=5, random_state=1234)"
   ]
  },
  {
   "cell_type": "markdown",
   "metadata": {},
   "source": [
    "We will not move on from `scipy.stats`. Before we do so, here's an example of generating random integers between 0 and 10:"
   ]
  },
  {
   "cell_type": "code",
   "execution_count": 256,
   "metadata": {
    "scrolled": true
   },
   "outputs": [
    {
     "data": {
      "text/plain": [
       "array([5, 0, 9, 6, 2, 0, 5])"
      ]
     },
     "execution_count": 256,
     "metadata": {},
     "output_type": "execute_result"
    }
   ],
   "source": [
    "sc.stats.randint.rvs(0, 10, size = 7)"
   ]
  },
  {
   "cell_type": "markdown",
   "metadata": {},
   "source": [
    "And again with a random seed:"
   ]
  },
  {
   "cell_type": "code",
   "execution_count": 257,
   "metadata": {},
   "outputs": [
    {
     "data": {
      "text/plain": [
       "array([3, 6, 5, 4, 8, 9, 1])"
      ]
     },
     "execution_count": 257,
     "metadata": {},
     "output_type": "execute_result"
    }
   ],
   "source": [
    "sc.stats.randint.rvs(0, 10, size = 7, random_state=1234)"
   ]
  },
  {
   "cell_type": "code",
   "execution_count": 258,
   "metadata": {},
   "outputs": [
    {
     "data": {
      "text/plain": [
       "array([8, 1, 9, 6, 8, 6, 0])"
      ]
     },
     "execution_count": 258,
     "metadata": {},
     "output_type": "execute_result"
    }
   ],
   "source": [
    "sc.stats.randint.rvs(0, 10, size = 7, random_state=3445) # a different seed"
   ]
  },
  {
   "cell_type": "markdown",
   "metadata": {},
   "source": [
    "#### Numerical integration using  `scipy`\n",
    "\n",
    "OK, on to to and `scipy.integrate`. \n",
    "\n",
    "Numerical integration is the approximate computation of an integral using numerical techniques. You need numerical integration whenever you have a complicated function that cannot be integrated analytically using anti-derivatives. For example, calculating the area under a curve is a particularly useful application. Another one is solving ordinary differential equations (ODEs), commonly used for modelling biological systems."
   ]
  },
  {
   "cell_type": "code",
   "execution_count": 259,
   "metadata": {},
   "outputs": [],
   "source": [
    "import scipy.integrate as integrate"
   ]
  },
  {
   "cell_type": "markdown",
   "metadata": {},
   "source": [
    "##### Area under a curve\n",
    "\n",
    "Let's calculate the area under an arbitrary curve."
   ]
  },
  {
   "cell_type": "code",
   "execution_count": 260,
   "metadata": {},
   "outputs": [],
   "source": [
    "y = np.array([5, 20, 18, 19, 18, 7, 4]) # The y values; can also use a python list here"
   ]
  },
  {
   "cell_type": "markdown",
   "metadata": {},
   "source": [
    "Let's visualize the curve. We can use the `matplotlib` package for this: "
   ]
  },
  {
   "cell_type": "code",
   "execution_count": 262,
   "metadata": {},
   "outputs": [],
   "source": [
    "import matplotlib.pylab as p"
   ]
  },
  {
   "cell_type": "code",
   "execution_count": 263,
   "metadata": {},
   "outputs": [
    {
     "data": {
      "text/plain": [
       "[<matplotlib.lines.Line2D at 0x799c85793c70>]"
      ]
     },
     "execution_count": 263,
     "metadata": {},
     "output_type": "execute_result"
    },
    {
     "data": {
      "image/png": "[encoded data removed]",
      "text/plain": [
       "<Figure size 640x480 with 1 Axes>"
      ]
     },
     "metadata": {},
     "output_type": "display_data"
    }
   ],
   "source": [
    "p.plot(y)"
   ]
  },
  {
   "cell_type": "markdown",
   "metadata": {},
   "source": [
    "Now compute the area using the [composite trapezoidal rule](https://en.wikipedia.org/wiki/Trapezoidal_rule):"
   ]
  },
  {
   "cell_type": "code",
   "execution_count": 267,
   "metadata": {},
   "outputs": [
    {
     "name": "stdout",
     "output_type": "stream",
     "text": [
      "area = 173.0\n"
     ]
    }
   ],
   "source": [
    "area = integrate.trapezoid(y, dx = 2)\n",
    "print(\"area =\", area)"
   ]
  },
  {
   "cell_type": "markdown",
   "metadata": {},
   "source": [
    "The argument `dx` defines the spacing between points of the curve (the x-axis values). The default is 1 (don't forget to check out the documentation: `?integrate.trapezoid`). Changing this will change the area, of course:"
   ]
  },
  {
   "cell_type": "code",
   "execution_count": 273,
   "metadata": {},
   "outputs": [
    {
     "name": "stdout",
     "output_type": "stream",
     "text": [
      "area = 86.5\n"
     ]
    }
   ],
   "source": [
    "area = integrate.trapezoid(y, dx = 1)\n",
    "print(\"area =\", area)"
   ]
  },
  {
   "cell_type": "code",
   "execution_count": 274,
   "metadata": {},
   "outputs": [
    {
     "name": "stdout",
     "output_type": "stream",
     "text": [
      "area = 259.5\n"
     ]
    }
   ],
   "source": [
    "area = integrate.trapezoid(y, dx = 3)\n",
    "print(\"area =\", area)"
   ]
  },
  {
   "cell_type": "markdown",
   "metadata": {},
   "source": [
    "Now, the same, using [Simpson's rule](https://en.wikipedia.org/wiki/Simpson%27s_rule):"
   ]
  },
  {
   "cell_type": "code",
   "execution_count": 277,
   "metadata": {},
   "outputs": [
    {
     "name": "stdout",
     "output_type": "stream",
     "text": [
      "area = 176.66666666666666\n"
     ]
    }
   ],
   "source": [
    "area = integrate.simpson(y, dx = 2)\n",
    "print(\"area =\", area)"
   ]
  },
  {
   "cell_type": "code",
   "execution_count": 278,
   "metadata": {},
   "outputs": [
    {
     "name": "stdout",
     "output_type": "stream",
     "text": [
      "area = 88.33333333333333\n"
     ]
    }
   ],
   "source": [
    "area = integrate.simpson(y, dx = 1)\n",
    "print(\"area =\", area)"
   ]
  },
  {
   "cell_type": "code",
   "execution_count": 279,
   "metadata": {},
   "outputs": [
    {
     "name": "stdout",
     "output_type": "stream",
     "text": [
      "area = 265.0\n"
     ]
    }
   ],
   "source": [
    "area = integrate.simpson(y, dx = 3)\n",
    "print(\"area =\", area)"
   ]
  },
  {
   "cell_type": "markdown",
   "metadata": {},
   "source": [
    "```{note}\n",
    "There are alternatives to matplotlib for visualizations in Python. Check out [`bokeh`](https://bokeh.pydata.org/en/latest), [`plotly`](https://plot.ly/) and [`altair`](https://altair-viz.github.io/). Also, there is seaborn, which is built directly on Matplotlib. Examples using `seaborn` can be found in some of the appendices of this book.\n",
    "```"
   ]
  },
  {
   "cell_type": "markdown",
   "metadata": {},
   "source": [
    "##### The Lotka-Volterra model\n",
    "\n",
    "Now let's try numerical integration in Python for solving a classical model in biology — the Lotka-Volterra (LV) model for a predator-prey system in two-dimensional space (e.g., on land). The LV model is: \n",
    "\n",
    "\\begin{align}\n",
    "    \\frac{dR}{dt} &= r R - a C R  \\nonumber \\\\\n",
    "    \\frac{dC}{dt} &= - z C + e a C R\n",
    "\\end{align}\n",
    "\n",
    "where, \n",
    "\n",
    "* $C$ and $R$ are consumer (e.g., predator) and resource (e.g., prey) population abundances (either number $\\times$ area$^{-1}$ ).\n",
    "* $r$ is the intrinsic (per-capita) growth rate of the resource population (time$^{-1}$).\n",
    "* $a$ is per-capita \"search rate\" for the resource ($\\text{area}\\times \\text{time}^{-1}$)  multiplied by its attack success probability, which determines the encounter and consumption rate of the consumer on the resource.\n",
    "* $z$ is mortality rate ($\\text{time}^{-1}$) and $e$ is the consumer's efficiency (a fraction) in converting resource to consumer biomass.\n",
    "\n",
    "We have already imported scipy above (`import scipy as sc`) so we can proceed to solve the LV model using numerical integration. \n",
    "\n",
    "First, import `scipy`'s `integrate` submodule:"
   ]
  },
  {
   "cell_type": "markdown",
   "metadata": {},
   "source": [
    "Now define a function that returns the growth rate of consumer and resource population at any given time step."
   ]
  },
  {
   "cell_type": "code",
   "execution_count": 280,
   "metadata": {},
   "outputs": [],
   "source": [
    "def dCR_dt(pops, t=0):\n",
    "\n",
    "    R = pops[0]\n",
    "    C = pops[1]\n",
    "    dRdt = r * R - a * R * C \n",
    "    dCdt = -z * C + e * a * R * C\n",
    "    \n",
    "    return np.array([dRdt, dCdt])"
   ]
  },
  {
   "cell_type": "code",
   "execution_count": 281,
   "metadata": {
    "scrolled": true
   },
   "outputs": [
    {
     "data": {
      "text/plain": [
       "function"
      ]
     },
     "execution_count": 281,
     "metadata": {},
     "output_type": "execute_result"
    }
   ],
   "source": [
    "type(dCR_dt)"
   ]
  },
  {
   "cell_type": "markdown",
   "metadata": {},
   "source": [
    "So `dCR_dt` has been stored as a function object in the current Python session, all ready to go. \n",
    "\n",
    "Now assign some parameter values:"
   ]
  },
  {
   "cell_type": "code",
   "execution_count": 282,
   "metadata": {},
   "outputs": [],
   "source": [
    "r = 1.\n",
    "a = 0.1 \n",
    "z = 1.5\n",
    "e = 0.75"
   ]
  },
  {
   "cell_type": "markdown",
   "metadata": {},
   "source": [
    "Define the time vector; let's integrate from time point 0 to 15, using 1000 sub-divisions of time:"
   ]
  },
  {
   "cell_type": "code",
   "execution_count": 283,
   "metadata": {},
   "outputs": [],
   "source": [
    "t = np.linspace(0, 15, 1000)"
   ]
  },
  {
   "cell_type": "markdown",
   "metadata": {},
   "source": [
    "Note that the units of time are arbitrary here. "
   ]
  },
  {
   "cell_type": "markdown",
   "metadata": {},
   "source": [
    "Set the initial conditions for the two populations (10 resources and 5 consumers per unit area), and convert the two into an array (because our `dCR_dt` function take an array as input). "
   ]
  },
  {
   "cell_type": "code",
   "execution_count": 284,
   "metadata": {},
   "outputs": [],
   "source": [
    "R0 = 10\n",
    "C0 = 5 \n",
    "RC0 = np.array([R0, C0])"
   ]
  },
  {
   "cell_type": "markdown",
   "metadata": {},
   "source": [
    "Now numerically integrate this system forward from those starting conditions: "
   ]
  },
  {
   "cell_type": "code",
   "execution_count": 285,
   "metadata": {},
   "outputs": [],
   "source": [
    "pops, infodict = integrate.odeint(dCR_dt, RC0, t, full_output=True)"
   ]
  },
  {
   "cell_type": "code",
   "execution_count": 286,
   "metadata": {},
   "outputs": [
    {
     "data": {
      "text/plain": [
       "array([[10.        ,  5.        ],\n",
       "       [10.07578091,  4.94421976],\n",
       "       [10.1529783 ,  4.88948321],\n",
       "       ...,\n",
       "       [ 9.99869712, 17.56204194],\n",
       "       [ 9.8872779 , 17.3642589 ],\n",
       "       [ 9.78000354, 17.16658946]])"
      ]
     },
     "execution_count": 286,
     "metadata": {},
     "output_type": "execute_result"
    }
   ],
   "source": [
    "pops"
   ]
  },
  {
   "cell_type": "markdown",
   "metadata": {},
   "source": [
    "So `pops` contains the result (the population trajectories).  Also check what's in infodict (it's a  dictionary with additional information)"
   ]
  },
  {
   "cell_type": "code",
   "execution_count": 287,
   "metadata": {},
   "outputs": [
    {
     "data": {
      "text/plain": [
       "dict"
      ]
     },
     "execution_count": 287,
     "metadata": {},
     "output_type": "execute_result"
    }
   ],
   "source": [
    "type(infodict)"
   ]
  },
  {
   "cell_type": "code",
   "execution_count": 288,
   "metadata": {},
   "outputs": [
    {
     "data": {
      "text/plain": [
       "dict_keys(['hu', 'tcur', 'tolsf', 'tsw', 'nst', 'nfe', 'nje', 'nqu', 'imxer', 'lenrw', 'leniw', 'mused', 'message'])"
      ]
     },
     "execution_count": 288,
     "metadata": {},
     "output_type": "execute_result"
    }
   ],
   "source": [
    "infodict.keys()"
   ]
  },
  {
   "cell_type": "markdown",
   "metadata": {},
   "source": [
    "Check what the `infodict` output is by reading the help documentation with `?scipy.integrate.odeint`. For example, you can return a message to screen about whether the integration was successful: "
   ]
  },
  {
   "cell_type": "code",
   "execution_count": 289,
   "metadata": {},
   "outputs": [
    {
     "data": {
      "text/plain": [
       "'Integration successful.'"
      ]
     },
     "execution_count": 289,
     "metadata": {},
     "output_type": "execute_result"
    }
   ],
   "source": [
    "infodict['message']"
   ]
  },
  {
   "cell_type": "markdown",
   "metadata": {},
   "source": [
    "So it worked, great! \n",
    "\n",
    "But we would like to visualize the results. Let's do it using the `matplotlib` package. \n",
    "\n",
    "Again, to visualize the results of your numerical simulations in Python (or for data exploration/analyses), you can use `matplotlib`, which uses Matlab like plotting syntax.\n",
    "\n",
    "First import the package:"
   ]
  },
  {
   "cell_type": "code",
   "execution_count": 290,
   "metadata": {},
   "outputs": [],
   "source": [
    "import matplotlib.pylab as p"
   ]
  },
  {
   "cell_type": "markdown",
   "metadata": {},
   "source": [
    "Now open an empty figure object (analogous to an R graphics object)."
   ]
  },
  {
   "cell_type": "code",
   "execution_count": 291,
   "metadata": {
    "scrolled": true
   },
   "outputs": [
    {
     "data": {
      "text/plain": [
       "<Figure size 640x480 with 0 Axes>"
      ]
     },
     "metadata": {},
     "output_type": "display_data"
    }
   ],
   "source": [
    "f1 = p.figure()"
   ]
  },
  {
   "cell_type": "code",
   "execution_count": 292,
   "metadata": {},
   "outputs": [
    {
     "data": {
      "image/png": "[encoded data removed]",
      "text/plain": [
       "<Figure size 640x480 with 1 Axes>"
      ]
     },
     "metadata": {},
     "output_type": "display_data"
    }
   ],
   "source": [
    "p.plot(t, pops[:,0], 'g-', label='Resource density') # Plot\n",
    "p.plot(t, pops[:,1]  , 'b-', label='Consumer density')\n",
    "p.grid()\n",
    "p.legend(loc='best')\n",
    "p.xlabel('Time')\n",
    "p.ylabel('Population density')\n",
    "p.title('Consumer-Resource population dynamics')\n",
    "p.show()# To display the figure"
   ]
  },
  {
   "cell_type": "markdown",
   "metadata": {},
   "source": [
    "Finally, save the figure as a pdf:"
   ]
  },
  {
   "cell_type": "code",
   "execution_count": 293,
   "metadata": {},
   "outputs": [],
   "source": [
    "f1.savefig('../results/LV_model.pdf') #Save figure"
   ]
  },
  {
   "cell_type": "markdown",
   "metadata": {},
   "source": [
    "```{tip} \n",
    "You can use many other graphics output formats in matplotlib; check the documentation of `p.savefig`.\n",
    "```"
   ]
  },
  {
   "cell_type": "markdown",
   "metadata": {},
   "source": [
    "## Practicals\n",
    "\n",
    "1. Create a self-standing script using the above example and save it as `LV1.py` in your code directory. In addition to generating the above figure, it should also generate the following figure: \n",
    "\n",
    "---\n",
    ":::{figure-md} LV-phase-plot\n",
    "\n",
    "\n",
    "<img src=\"./graphics/LV_model_CR.png\" alt=\"Lotka-Volterra phase plot\" width=\"400px\">\n",
    "\n",
    "**Generate this figure as part of the `LV1.py` script.** \n",
    "\n",
    ":::\n",
    "\n",
    "---\n",
    "\n",
    "It should save both figures in pdf to the `results` directory, *without displaying them on screen*."
   ]
  },
  {
   "cell_type": "markdown",
   "metadata": {},
   "source": [
    "## The need for speed: profiling code\n",
    "\n",
    "Donald Knuth says: *Premature optimization is the root of all evil*. \n",
    "\n",
    "Indeed, computational speed may not be your initial concern. Also, you should focus on developing clean, reliable, reusable code rather than worrying first about how fast your code runs. However, speed will become an issue when and if your analysis or modeling becomes complex enough (e.g., food web or large network simulations). In that case, knowing which parts of your code take the most time is useful – optimizing those parts may save you lots of time. \n",
    "\n",
    "### Profiling\n",
    "\n",
    "To find out what is slowing down your code you need to \"profile\" your code: locate the sections of your code where  speed bottlenecks exist. \n",
    "\n",
    "Profiling is easy in `ipython` – simply use the command: \n",
    "\n",
    "```python\n",
    "%run -p your_function_name\n",
    "```\n",
    "\n",
    "Let's write an illustrative program (name it `profileme.py`) and run it:"
   ]
  },
  {
   "cell_type": "code",
   "execution_count": 294,
   "metadata": {},
   "outputs": [
    {
     "name": "stdout",
     "output_type": "stream",
     "text": [
      "10000000 My string\n"
     ]
    },
    {
     "data": {
      "text/plain": [
       "0"
      ]
     },
     "execution_count": 294,
     "metadata": {},
     "output_type": "execute_result"
    }
   ],
   "source": [
    "def my_squares(iters):\n",
    "    out = []\n",
    "    for i in range(iters):\n",
    "        out.append(i ** 2)\n",
    "    return out\n",
    "\n",
    "def my_join(iters, string):\n",
    "    out = ''\n",
    "    for i in range(iters):\n",
    "        out += string.join(\", \")\n",
    "    return out\n",
    "\n",
    "def run_my_funcs(x,y):\n",
    "    print(x,y)\n",
    "    my_squares(x)\n",
    "    my_join(x,y)\n",
    "    return 0\n",
    "\n",
    "run_my_funcs(10000000,\"My string\")"
   ]
  },
  {
   "cell_type": "markdown",
   "metadata": {},
   "source": [
    "Look carefully at what each of these functions does. \n",
    "\n",
    "Now run the script with `run -p profileme.py`, and you should see something like: \n",
    "\n",
    "```bash\n",
    "        20000063 function calls (20000062 primitive calls) in 9.026 seconds\n",
    "\n",
    "   Ordered by: internal time\n",
    "\n",
    "   ncalls  tottime  percall  cumtime  percall filename:lineno(function)\n",
    "        1    3.335    3.335    3.732    3.732 profileme.py:1(my_squares)\n",
    "        1    2.698    2.698    5.200    5.200 profileme.py:7(my_join)\n",
    " 10000001    2.502    0.000    2.502    0.000 {method 'join' of 'str' objects}\n",
    " 10000008    0.397    0.000    0.397    0.000 {method 'append' of 'list' objects}\n",
    "        1    0.093    0.093    9.025    9.025 profileme.py:13(run_my_funcs)\n",
    "[more output]\n",
    "```\n",
    "The column headings in the profiling results are:\n",
    "\n",
    "| Column name | Meaning |\n",
    "| :- | -  |\n",
    "| `filename:lineno(function)` | The filename, line number, and function name|\n",
    "| `ncalls`  | Number of times the function was called |\n",
    "| `tottime` | Total time spent in the function (excluding time spent in calls to sub-functions of that function)|\n",
    "| `percall` | `tottime` divided by `ncalls`|\n",
    "| `cumtime` | Cumulative time spent in the function *and* all its sub-functions|\n",
    "| `percall` | `cumtime` divided by `ncalls`|\n",
    "\n",
    "(Please also see the official Python [documentation](https://docs.python.org/3.6/library/profile.html)) \n",
    "\n",
    "The difference between `tottime` and `cumtime` columns often holds the most important information about performance. For example, in the above output, `cumtime` is much higher than `tottime` for `my_join` than for `my_squares`. This is because the sub-function (method) `join` is taking an additional 2.502 seconds (due to 10000001 calls), giving a `cumtime` of 2.698 + 2.502 = 5.2 seconds. In comparison, the sub-function (method) `append` is taking an additional 0.397 seconds (due to 10000008 calls), giving a `cumtime` of 3.335 + 0.397 = 3.732 seconds. Note also that the `tottime`s for `join` and `append` include the \"overhead\" of running their respective loop.\n",
    "\n",
    "Thus, we can infer that the `my_join` function is hogging most of the time, followed by `my_squares`, and furthermore, that its the string method `join` that is slowing `my_join` down, and list method `append` that is slowing `my_squares` down. In other words, `.join`ing the string, and `.append`ing values to a list repeatedly are both not particularly fast, though the latter is less costly.\n",
    "\n",
    "Can we do better? *Yes!* \n",
    "\n",
    "Let's try this alternative approach to writing the program (save it as `profileme2.py`, and again, run it):"
   ]
  },
  {
   "cell_type": "code",
   "execution_count": 295,
   "metadata": {},
   "outputs": [
    {
     "name": "stdout",
     "output_type": "stream",
     "text": [
      "10000000 My string\n"
     ]
    },
    {
     "data": {
      "text/plain": [
       "0"
      ]
     },
     "execution_count": 295,
     "metadata": {},
     "output_type": "execute_result"
    }
   ],
   "source": [
    "def my_squares(iters):\n",
    "    out = [i ** 2 for i in range(iters)]\n",
    "    return out\n",
    "\n",
    "def my_join(iters, string):\n",
    "    out = ''\n",
    "    for i in range(iters):\n",
    "        out += \", \" + string\n",
    "    return out\n",
    "\n",
    "def run_my_funcs(x,y):\n",
    "    print(x,y)\n",
    "    my_squares(x)\n",
    "    my_join(x,y)\n",
    "    return 0\n",
    "\n",
    "run_my_funcs(10000000,\"My string\")"
   ]
  },
  {
   "cell_type": "markdown",
   "metadata": {},
   "source": [
    "We did two things: converted the loop to a list comprehension, and replaced the `.join` with an explicit string concatenation.\n",
    "\n",
    "Now profile this program (`run -p profileme2.py`), and you should get something like:\n",
    "\n",
    "```bash\n",
    "        64 function calls (63 primitive calls) in 4.585 seconds\n",
    "\n",
    "   Ordered by: internal time\n",
    "\n",
    "   ncalls  tottime  percall  cumtime  percall filename:lineno(function)\n",
    "        1    2.497    2.497    2.497    2.497 profileme2.py:2(<listcomp>)\n",
    "        1    1.993    1.993    1.993    1.993 profileme2.py:5(my_join)\n",
    "        1    0.094    0.094    4.584    4.584 profileme2.py:11(run_my_funcs)\n",
    "[more output]\n",
    "```\n",
    "\n",
    "Woo hoo! So we about halved the time! Not quite enough to grab a pint, but ah well...\n",
    " \n",
    "$\\star$ Another approach would be to preallocate a `numpy` array instead of using a list for `my_squares` - *Try it*\n",
    "\n",
    "You can also modify how the profiling results are displayed, and more, by using flags. For example, `-s` allows sorting the report by a particular column,  `-l`  limits the number of lines displayed or filters the results by function name, and `-T` saves the report in a text file.\n",
    "\n",
    "For example, try \n",
    "\n",
    "```python\n",
    "run -p -s cumtime profileme2.py\n",
    "```\n",
    "This will do the profiling and display the results sorted by `cumtime`.   "
   ]
  },
  {
   "cell_type": "markdown",
   "metadata": {},
   "source": [
    "### Profiling without ipython \n",
    "\n",
    "You may want to execute the code that you need to profile from outside IPython (e.g., using a bash script). In this case, we you can use the module cProfile (ipython actually uses this when you do `%run -p`). \n",
    "\n",
    "here is an example (run from bash): \n",
    "\n",
    "```bash\n",
    "python3 -m cProfile profileme2.py\n",
    "```\n",
    "\n",
    "Or, \n",
    "\n",
    "```bash\n",
    "python3 -m cProfile -o profires myscript.py\n",
    "```\n",
    "Here the results are stored in a file called `profires`, which can be read using the `pstats` module. Read the documentation of `cProfile` and `pstats` modules; there are many analyses you can perform on such exported  profiling reports."
   ]
  },
  {
   "cell_type": "markdown",
   "metadata": {},
   "source": [
    "### Quick profiling with `timeit`\n",
    "\n",
    "Additionally, you can use the `timeit` module if you want to figure out what the best way to do something specific as part of a larger program (say a particular command or a loop) might be.\n",
    "\n",
    "Type and run the following code in a python script called `timeitme.py`:\n",
    "\n",
    "```python\n",
    "##############################################################################\n",
    "# loops vs. list comprehensions: which is faster?\n",
    "##############################################################################\n",
    "\n",
    "iters = 1000000\n",
    "\n",
    "import timeit\n",
    "\n",
    "from profileme import my_squares as my_squares_loops\n",
    "\n",
    "from profileme2 import my_squares as my_squares_lc\n",
    "\n",
    "##############################################################################\n",
    "# loops vs. the join method for strings: which is faster?\n",
    "##############################################################################\n",
    "\n",
    "mystring = \"my string\"\n",
    "\n",
    "from profileme import my_join as my_join_join\n",
    "\n",
    "from profileme2 import my_join as my_join\n",
    "\n",
    "```\n",
    "Note how we imported the functions using `from profileme import my_squares as my_squares_loops`, etc., which highlights the convenience of Python's elegant object-oriented approach.\n",
    "\n",
    "Now run the two sets of comparisons using `timeit()` in ipython and make sure every line makes sense:\n",
    "\n",
    "```python\n",
    "%timeit my_squares_loops(iters)\n",
    "%timeit my_squares_lc(iters)\n",
    "%timeit (my_join_join(iters, mystring))\n",
    "%timeit (my_join(iters, mystring))\n",
    "```\n",
    "\n",
    "Note that embedding the `%timeit()` commands within the script won't work calling magic commands from inside a script is not a good idea!\n",
    "\n",
    "Of course, a simple approach would have been to time the functions like this:\n",
    "\n",
    "```python \n",
    "import time\n",
    "start = time.time()\n",
    "my_squares_loops(iters)\n",
    "print(f\"my_squares_loops takes {time.time() - start} s to run.\")\n",
    "\n",
    "start = time.time()\n",
    "my_squares_lc(iters)\n",
    "print(f\"my_squares_lc takes {time.time() - start} s to run.\")\n",
    "```\n",
    "But you'll notice that if you run it multiple times, the time taken changes each time. So `timeit` takes a sample of runs and returns the average, which is better.\n",
    "\n",
    "*But remember, don't go crazy with profiling for the sake of shaving a couple of milliseconds, tempting as that may be!*"
   ]
  },
  {
   "cell_type": "markdown",
   "metadata": {},
   "source": [
    "## Vectorization revisited"
   ]
  },
  {
   "cell_type": "markdown",
   "metadata": {},
   "source": [
    "We have now had fairly extensive practice in iteratively creating solutions to problems using for loops. Thus far all our problems have been mathematically quite straightforward, and not very computationally intensive. As you begin to move on from your taught modules into project work, you may find yourselves solving larger and more complex problems, at which point you will start to discover that for-loops have a fundamental weakness - speed!\n",
    "\n",
    "In a nutshell, there are two issues keeping loops slow:\n",
    "\n",
    "* Producing solutions to a large problem one loop iteration at a time means that our scripts and functions spend a lot of time doing stuff other than actually solving the problem we want them to solve - e.g. shuffling data around between variables in each loop iteration, or storing the result of the current loop's calculations in a (sometimes temporary) variable.\n",
    "* Loops (at least in Python) are not generally able to take advantage of the parallel computing capabilities of modern-day computers, and thus must literally compute a solution one loop iteration at a time. vectorized functions tend to be optimised to spread their computations over multiple processors/threads, which can be much faster!\n",
    "\n",
    "These issues become especially pronounced in the case of nested loops - which often appear in more spatially-explicit problems or time-dependent ones.\n",
    "\n",
    "The following two examples will showcase the difference in runtime between a loop method and a vectorized method using numpy. The first is a relatively simple (if artificial) problem, intended to demonstrate basically at-a-glace the difference between the two approaches. The second is taken from current research on metabolic models of bacterial communities.\n",
    "\n",
    "#### An example\n",
    "\n",
    "Let us imagine we have two simple 1D arrays $a = (a_1, a_2, ... , a_N)$ and $b = (b_1, b_2, ... ,b_N)$, each of length N, and that we want to calculate a new array $c$ in which each entry is just the product of the two corresponding entries in $a$ and $b$:\n",
    "\n",
    "$$c = (a_1 \\times b_1, a_2 \\times b_2, ... , a_N \\times b_N)$$\n",
    "\n",
    "This operation is called the *entrywise* product of $a$ and $b$.\n",
    "\n",
    "Below are a loop-based function and a vectorized function to calculate the entrywise product of two 1D arrays of the same length. We will test them both on larger and larger 1D arrays to see how the vectorized approach is faster."
   ]
  },
  {
   "cell_type": "code",
   "execution_count": 296,
   "metadata": {},
   "outputs": [],
   "source": [
    "def loop_product(a, b):\n",
    "    N = len(a)\n",
    "    c = np.zeros(N)\n",
    "    for i in range(N):\n",
    "        c[i] = a[i] * b[i]   \n",
    "    return c\n",
    "\n",
    "\n",
    "def vect_product(a, b):\n",
    "    return np.multiply(a, b)"
   ]
  },
  {
   "cell_type": "markdown",
   "metadata": {},
   "source": [
    "The `multiply` function from numpy is a vectorized implementation of the elementwise product that we have explicitly written in the function `loop_product` above it. In general, numpy is an excellent choice for vectorized implementations of functions involving matrix maths (or maths using higher-dimensional analogues of matricies).\n",
    "\n",
    "Let's try comparing the runtimes of `loop_product` and `vect_product` on increasingly large randomly-generated 1D arrays:"
   ]
  },
  {
   "cell_type": "code",
   "execution_count": 297,
   "metadata": {},
   "outputs": [
    {
     "name": "stdout",
     "output_type": "stream",
     "text": [
      "\n",
      "Set N=1\n",
      "Loop method took 0.0033234013244509697 ms on average.\n",
      "vectorized method took 0.0022474006982520223 ms on average.\n",
      "\n",
      "Set N=100\n",
      "Loop method took 0.040193606400862336 ms on average.\n",
      "vectorized method took 0.0016125966794788837 ms on average.\n",
      "\n",
      "Set N=10000\n",
      "Loop method took 4.022401399561204 ms on average.\n",
      "vectorized method took 0.0858539977343753 ms on average.\n",
      "\n",
      "Set N=1000000\n",
      "Loop method took 384.72996639902703 ms on average.\n",
      "vectorized method took 7.79655639489647 ms on average.\n",
      "\n",
      "Set N=10000000\n",
      "Loop method took 4126.211678393884 ms on average.\n",
      "vectorized method took 100.99498260242399 ms on average.\n"
     ]
    }
   ],
   "source": [
    "import timeit\n",
    "\n",
    "array_lengths = [1, 100, 10000, 1000000, 10000000]\n",
    "t_loop = []\n",
    "t_vect = []\n",
    "\n",
    "for N in array_lengths:\n",
    "    print(f\"\\nSet {N=}\")\n",
    "    #randomly generate our 1D arrays of length N\n",
    "    a = np.random.rand(N)\n",
    "    b = np.random.rand(N)\n",
    "    \n",
    "    # time loop_product 3 times and save the mean execution time.\n",
    "    timer = timeit.repeat('loop_product(a, b)', globals=globals().copy(), number=3)\n",
    "    t_loop.append(1000 * np.mean(timer))\n",
    "    print(f\"Loop method took {t_loop[-1]} ms on average.\")\n",
    "    \n",
    "    # time vect_product 3 times and save the mean execution time.\n",
    "    timer = timeit.repeat('vect_product(a, b)', globals=globals().copy(), number=3)\n",
    "    t_vect.append(1000 * np.mean(timer))\n",
    "    print(f\"vectorized method took {t_vect[-1]} ms on average.\")"
   ]
  },
  {
   "cell_type": "markdown",
   "metadata": {},
   "source": [
    "Phew! That last one just exploded in terms of the time it took!\n",
    "\n",
    "Now let's compare the timings on a plot:"
   ]
  },
  {
   "cell_type": "code",
   "execution_count": 298,
   "metadata": {},
   "outputs": [
    {
     "data": {
      "image/png": "[encoded data removed]",
      "text/plain": [
       "<Figure size 640x480 with 1 Axes>"
      ]
     },
     "metadata": {},
     "output_type": "display_data"
    }
   ],
   "source": [
    "p.figure()\n",
    "p.plot(array_lengths, t_loop, label=\"loop method\")\n",
    "p.plot(array_lengths, t_vect, label=\"vect method\")\n",
    "p.xlabel(\"Array length\")\n",
    "p.ylabel(\"Execution time (ms)\")\n",
    "p.legend()\n",
    "p.show()"
   ]
  },
  {
   "cell_type": "markdown",
   "metadata": {},
   "source": [
    "### When to vectorize?\n",
    "\n",
    "Thus vectorizing your code can have it running in a fraction of the time it otherwise would. Why not always vectorize then?\n",
    "\n",
    "Generally, you should follow the same principles as with any code profiling: don't spend time speeding up code that isn't slow in the first place, or code which you will probably not need to run more than a small number of times.\n",
    "\n",
    "#### \"No free lunch!\"\n",
    "\n",
    "There are trade-offs to vectorizing, most notably memory usage. One downside of calculating many steps simultaneously is that your computer needs to hold much more in memory in order to do it. If you try to vectorize a problem thats *too* large, you will probably run into memory errors. One easy example is to re-run the above example, but make it **even bigger**:"
   ]
  },
  {
   "cell_type": "markdown",
   "metadata": {},
   "source": [
    "```python\n",
    "N = 1000000000\n",
    "\n",
    "a = np.random.rand(N)\n",
    "b = np.random.rand(N)\n",
    "c = vect_product(a, b)\n",
    "\n",
    "# if no error, remove a, b, c from memory.\n",
    "del a\n",
    "del b\n",
    "del c\n",
    "```"
   ]
  },
  {
   "cell_type": "markdown",
   "metadata": {},
   "source": [
    "This will almost certainly return a memory error (i.e. your computer ran out of RAM in which to store the entirety of the very large arrays $a$, $b$ and $c$ while it was still calculating (if you didn't get an error, try again with an extra 0 in $N$).\n",
    "\n",
    "Again, this is a rather contrived example - you probably won't be taking element-wise products of arrays with a billion entries in your research - but more complex problems can easily become too big for memory while still remaining biologically reasonable!\n",
    "\n",
    "*Check out the CMEE module on High Performance Computing to learn about using Imperial College's supercomputing cluster to run extremely large problems*\n",
    "\n",
    "```{tip}\n",
    "You can use the `multiprocessing` package for parallelizing your code on your own computer. \n",
    "```"
   ]
  },
  {
   "cell_type": "markdown",
   "metadata": {},
   "source": [
    "## Practicals\n",
    "\n",
    "### The Lotka-Volterra model revisited\n",
    "\n",
    "*What happens when the Consumer population $C$ goes extinct in the Lotka-Volterra that you encountered above*? \n",
    "\n",
    "If the consumer population goes extinct, the resources grow to infinity! This is not biologically realistic, of course. To address this, we can introduce density dependence to the resource population $\\left(1 - \\frac{R} {K}\\right)$, which changes the ODE system to\n",
    "\n",
    "\\begin{align}\n",
    "    \\frac{dR}{dt} &= r R \\left(1 - \\frac{R} {K}\\right) - a C R\\\\\n",
    "    \\frac{dC}{dt} &= - z C + e a C R\n",
    "\\end{align}\n",
    "\n",
    "The new parameter $K$ is the resource population's carrying capacity, which sets the upper limit on how large $R$ can get if the consumers go extinct. Basically, if you look carefully at the term $r R \\left(1 - \\frac{R} {K}\\right)$, you can see that when $N = K$, the term in the brackets goes to zero, and the resource population stops growing. \n",
    "\n",
    "Your task in this practical is to copy and modify `LV1.py` into another script called `LV2.py` that has the following features:\n",
    "\n",
    "*  It takes arguments for the four LV model parameters $r$, $a$, $z$, $e$, $K$ from the command line:\n",
    "```\n",
    "LV2.py arg1 arg2 ... etc\n",
    "```\n",
    "*  It runs our modified Lotka-Volterra model with resource density dependence.\n",
    "*  It saves the plot as `.pdf` in an appropriate location.\n",
    "*  The chosen parameter values should show in the plot (e.g., $r = 1, a = .5 $, etc) You can change time length $t$ too. \n",
    "* The parameters values should be adjusted such that both predator and prey persist with prey density dependence ( the final (non-zero) population values should be printed to screen). Try out different values of $K$ and exlore the model's behavior. One thing you might find is that that there is a critical value of $K$ below which the consumer and resource population just cannot coexist (both go extinct).  \n",
    "\n",
    "Also, include a script that runs both `LV1.py` and `LV2.py` with appropriate arguments. This script should also profile the two scripts and print the results to screen for each of the scripts using the `%run -p` approach. Look at and compare the speed bottlenecks in `LV1.py` and `LV2.py`. *Think about how you could further speed up the scripts.*\n",
    "\n",
    "\n",
    "### Groupwork practical: Compare R and Python Vectorization\n",
    "\n",
    "Implement the Python versions of `Vectorize1.R`and ` Vectorize2.R` [from the R Chapter](R-Vectorization) (call them `Vectorize1.py` and `Vectorize2.py` respectively). Then write a shell script that compares the computational speed of the four scripts. the script should display meaningful summary of the results in the terminal. In particular, it should print the timings of the equivalent R and Python functions (not just the timing of the R and Python scripts as a whole).\n",
    "\n",
    "### Groupwork practical: Discrete time LV Model\n",
    "\n",
    "*Write every subsequent extra credit script file with a new name such as `LV3.py`,`LV4.py`, etc.* \n",
    "\n",
    "* Write a discrete-time version of the LV model called `LV3.py`. The discrete-time model is:\n",
    "\n",
    "\\begin{align} \n",
    "    R_{t+1} &= R_t (1 + r \\left(1 - \\frac{R_t}{K}\\right) - a C_t)\\\\ \n",
    "    C_{t+1} &= C_t (1 - z + e a R_t) \n",
    "\\end{align}\n",
    "\n",
    "Include this script in `run_LV.py`, and profile it as well.\n",
    "\n",
    "### Groupwork practical: Discrete time LV model with stochasticity\n",
    "\n",
    "* Write a version of the discrete-time model (which you implemented in `LV3.py`) simulation with a random gaussian fluctuation in resource's growth rate at each time-step:\n",
    "\n",
    "\\begin{align}\n",
    "        R_{t+1} &= R_t (1 + (r + \\epsilon) \\left(1 - \\frac{R_t}{K}\\right)- a C_t)\\\\\n",
    "        C_{t+1} &= C_t (1 - z + e a R_t)\n",
    "\\end{align}\n",
    "\n",
    "where $\\epsilon$ is a random fluctuation drawn from a gaussian distribution (use `sc.stats` or `np.random`). Include this script in ` run_LV.py`, and profile it as well. You can also add fluctuations to both populations simultaneously this way: \n",
    "\n",
    "\\begin{align}\n",
    "    R_{t+1} &= R_t (1 + (r + \\epsilon)  \\left(1 - \\frac{R_t}{K}\\right) - a C_t)\\\\\n",
    "    C_{t+1} &= C_t (1 - (z + \\epsilon) + e a R_t)\n",
    "\\end{align}\n",
    "\n",
    "*As always, test, add, commit and push all your new code and data to your git repository.*"
   ]
  },
  {
   "cell_type": "markdown",
   "metadata": {},
   "source": [
    "(Python_II:python-regex)=\n",
    "## Regular expressions in Python\n",
    "\n",
    "Let's shift gears now, and look at a very important tool set that you should learn, or at least be aware of — *Regular expressions*. \n",
    "\n",
    "Regular expressions (regex) are a tool to find patterns (not just a particular sequence of characters) in strings. For example, `your@email.com` is a specific sequence of characters, but, in fact, all email addresses have such a pattern: alphanumeric characters, a \"@\", alphanumeric characters, a \".\", alphanumeric characters. Using regex, you can search for all email addresses in a text file by searching for this pattern.    \n",
    "\n",
    "There are many uses of regex, such as:\n",
    "\n",
    "* Parsing (reading) text files and finding and replacing or deleting specific patterns \n",
    "* Finding DNA motifs in sequence data\n",
    "* Navigating through files in a directory\n",
    "* Extracting information from html and xml files\n",
    "\n",
    "Thus, if you are interested in data mining, need to clean or process data in any other way, or convert a bunch of information into usable data, knowing regex is absolutely necessary.\n",
    "\n",
    "---\n",
    "\n",
    ":::{figure-md} XKCD-on-Regex\n",
    "\n",
    "<img src=\"./graphics/regex.png\" alt=\"XKCD on Regex\" width=\"400px\">\n",
    "\n",
    "**Regular expressions can really improve your quality of life.**<br> (Source: [XKCD](https://www.xkcd.com/208/)) \n",
    "\n",
    ":::\n",
    "\n",
    "---\n",
    "\n",
    "\n",
    "\n",
    "Regex packages are available for most programming languages (recall [`grep` in UNIX](Using-grep); that is how regex first became popular).\n",
    "\n",
    "### Metacharacters vs. regular characters\n",
    "\n",
    "A regex may consist of a combination of special \"metacharacters\" (modifiers) and \"regular\" or literal characters. There are 14 metacharacters: \n",
    "\n",
    "|Metacharacter|Description|\n",
    "|:-|:-|\n",
    "|`[` `]` |\tUsed to enclose a specific character \"class\" — the set of characters that you wish to match. For example,  `[12]` means match target to \"1\" and if that does not match then match target to \"2\"; `[0-9]` means match to any character in range \"0\" to \"9\"|\n",
    "|`\\`|\tInhibits the \"specialness\" of a (meta)character so that it can be interpreted literally. So, for example, use `\\.` to match an actual period, and  `\\\\` to match an actual back slash. |\n",
    "| `.` |\tMatch any character except line break (newline); e.g.,\t`he..o` will match *hello* as well as *he12o*\t|\n",
    "|`^` |\tIndicates that the string to be matched is at the start of a longer string; e.g., `^hello` will match \"hello\" in \"hello fellow!\", but not in \"fellow, hello!\" |\n",
    "|`$` |\tMatch the end of a string; for example, `world$` will match \"world\" in \"Hello world\", but not in \"Hello world!\"  \t|\n",
    "|`*` |\tMatch zero or more occurrences of the character or pattern that precedes it.|\n",
    "|`+` |\tMatch 1 or more occurrences of the character or pattern that precedes it.|\n",
    "|`?`| Match the preceding pattern element zero *or* one times|\n",
    "|`{` `}`| Match exactly the specified number of occurrences; e.g., `.{2}` finds the first two instances of any character (except newline)|\n",
    "| `|`|\tMatch either or\t|\n",
    "|`(` `)`|\tCapture and group; examples of this appear below |\t \t \n",
    "\n",
    "Everything other than these metacharacters is interpreted literally (e.g., *a* is matched by entering `a` in the regex) &ndash; a regular character. \n",
    "\n",
    "```{note} \n",
    "**The difference between `*`, `+`, and `?`**: \n",
    "`*` matches zero or more times, so whatever's being repeated may *not* be present at all, while `+` *requires* at least one occurrence. So, for example, `ra+t` will match \"rat\" (one 'a' is present) and \"raaat\" (three \"a\"s), but won't match \"rt\". On the other hand, `?` matches a pattern either once or zero times, so it makes the pattern matching more flexible. For example, `home-?brew` matches either \"homebrew\" or \"home-brew\".\n",
    "```"
   ]
  },
  {
   "cell_type": "markdown",
   "metadata": {},
   "source": [
    "### Regex special sequences\n",
    "\n",
    "Along with inhibiting the \"specialness\" of a metacharacter so that it can be interpreted literally (see examples in table above), the backslash (`\\`) can be followed by various standard character types to denote various *special sequences*. \n",
    "\n",
    "Below is a list of *commonly encountered* special sequences in [Unicode](https://en.wikipedia.org/wiki/Unicode) string patterns. For a complete list look [here](https://docs.python.org/3/library/re.html#re-syntax).\n",
    "\n",
    "|Sequence|Description|\n",
    "|:-|:-|\n",
    "|`\\d`| Matches any numeric (integer); this is equivalent to the regex class [0-9]|\n",
    "|`\\D`| Matches any non-digit character not covered by ` \\d` (i.e., match a non-digit); this is equivalent to the class [^0-9]|\n",
    "|`\\n`| Matches a newline|\n",
    "|`\\t`| Matches a tab space|\n",
    "|`\\s`|Matches any whitespace character; this is equivalent to the class [ \\t\\n\\r\\f\\v]| \n",
    "|`\\S`| Matches any non-whitespace character; this is equivalent to the class [^ \\t\\n\\r\\f\\v]|\n",
    "|`\\w`| Matches any \"alphanumeric\" character (including underscore); this is equivalent to the class [a-zA-Z0-9_]|\n",
    "|`\\W`| Matches any non-alphanumeric character not covered by `\\w`, i.e., any non-alphanumeric character excluding underscore, such as `?`, `!`, `+`, `<`, etc. ; this is equivalent to the class [^a-zA-Z0-9_]|\n",
    "\n",
    "In the above table, \n",
    "* `\\r` stands for a \"[carriage-return](https://en.wikipedia.org/wiki/Carriage_return#Computers)\", which is usually (but not always) the same as as a newline (`\\n`);\n",
    "* `\\f` stands fior [\"form feed\"](https://en.wikipedia.org/wiki/Page_break) (or a page break character)\n",
    "* `\\v` stands for  [\"vertical whitespace\"](https://en.wikipedia.org/wiki/Whitespace_character), which includes all characters treated as line breaks in the Unicode standard.\n",
    "\n",
    "These are rarely encountered, but can exist in certain text files.\n",
    "\n",
    "```{note}\n",
    "The reason why we have specified underscore as belonging to `\\w` (i.e., the regex set [A-Za-z0-9_]) is because this is the specification of this class in Python regex in particular. This class definition is shared by most, but not all regex \"flavors\" (i.e., regex in other languages, such as Perl or Bash (recall `grep`)). The goal is to not to worry about it, but to keep in mind that `\\w` will also match any pattern that includes one or more `_`'s!    \n",
    "```"
   ]
  },
  {
   "cell_type": "markdown",
   "metadata": {},
   "source": [
    "### Some regex examples\n",
    "\n",
    "So combining metacharacters, regular characters and special sequences allows you to find pretty much any pattern. Here are some examples:\n",
    "\n",
    "|Regex|Description|\n",
    "|:-|:-|\n",
    "|`aX9`| match the character string *aX9* exactly (case sensitively)| \n",
    "|`aX9\\n`| match the character string *aX9*  (case sensitively) followed by a newline| \n",
    "|`8`| match the number *8*|\n",
    "|`\\d8`| match the number *8* preceded by any decimal number|\n",
    "|`[atgc]` | match any character listed: `a`, `t`, `g`, `c`|\n",
    "| `at|gc`  | match `at` or `gc`|\n",
    "|`[^atgc]`| match any character not listed: any character except `a`, `t`, `g`, `c`|\n",
    "| `[^a-z]` | match everything except lower case *a* to *z* |\n",
    "| `[^Ff]`| match anything except upper or lower case *f* | \n",
    "|`\\w{n}`| match the preceding pattern  element (any alphanumeric character) *exactly* `n` times|\n",
    "|`\\w{n,}`| match the preceding pattern element (any alphanumeric character) *at least* `n` times|\n",
    "|`\\w{n,m}`| match the preceding pattern element (any alphanumeric character) at least `n` but not more than `m` times|\n",
    "\n",
    "```{tip}\n",
    "Metacharacters are not active inside classes. For example, `[a-z$]` will match any of the characters `a` to `z`, but also `$`, because inside a character class it loses its special metacharacter status.\n",
    "```"
   ]
  },
  {
   "cell_type": "markdown",
   "metadata": {},
   "source": [
    "### Regex in Python\n",
    "\n",
    "Regex functions in python are in the module `re`. \n",
    "\n",
    "Let's import it:"
   ]
  },
  {
   "cell_type": "code",
   "execution_count": 299,
   "metadata": {},
   "outputs": [],
   "source": [
    "import re"
   ]
  },
  {
   "cell_type": "markdown",
   "metadata": {},
   "source": [
    "The simplest `python` regex function is `re.search`, which searches the string for match to a given pattern — returns a *match object* if a match is found and `None` if not. Thus, the command `match = re.search(pat, str)` finds matches of the pattern `pat` in the given string `str` and stores the search result in a variable named `match`.\n",
    "\n",
    "```{tip} \n",
    "**Always** put `r` in front of your regex — it tells python to read the regex in its \"raw\" (literal) form. Without raw string notation (`r\"text\"`), every backslash (`\\`) in a regular expression would have to be prefixed with another one to escape it. Read more about this [here](https://docs.python.org/3.5/library/re.html).\n",
    "```\n",
    "\n",
    "OK, let's try some regexes (type all that follows in `regexs.py`):"
   ]
  },
  {
   "cell_type": "code",
   "execution_count": 300,
   "metadata": {},
   "outputs": [],
   "source": [
    "my_string = \"a given string\""
   ]
  },
  {
   "cell_type": "markdown",
   "metadata": {},
   "source": [
    "Find a space in the string:"
   ]
  },
  {
   "cell_type": "code",
   "execution_count": 301,
   "metadata": {
    "scrolled": true
   },
   "outputs": [
    {
     "name": "stdout",
     "output_type": "stream",
     "text": [
      "<re.Match object; span=(1, 2), match=' '>\n"
     ]
    }
   ],
   "source": [
    "match = re.search(r'\\s', my_string)\n",
    "print(match)"
   ]
  },
  {
   "cell_type": "markdown",
   "metadata": {},
   "source": [
    "That's only telling you that a match was found (the object was created successfully). \n",
    "\n",
    "To see the match, use:"
   ]
  },
  {
   "cell_type": "code",
   "execution_count": 302,
   "metadata": {},
   "outputs": [
    {
     "data": {
      "text/plain": [
       "' '"
      ]
     },
     "execution_count": 302,
     "metadata": {},
     "output_type": "execute_result"
    }
   ],
   "source": [
    "match.group()"
   ]
  },
  {
   "cell_type": "markdown",
   "metadata": {},
   "source": [
    "Now let's try another pattern:"
   ]
  },
  {
   "cell_type": "code",
   "execution_count": 303,
   "metadata": {},
   "outputs": [],
   "source": [
    "match = re.search(r'\\d', my_string)"
   ]
  },
  {
   "cell_type": "code",
   "execution_count": 304,
   "metadata": {
    "scrolled": true
   },
   "outputs": [
    {
     "name": "stdout",
     "output_type": "stream",
     "text": [
      "None\n"
     ]
    }
   ],
   "source": [
    "print(match)"
   ]
  },
  {
   "cell_type": "markdown",
   "metadata": {},
   "source": [
    "No surprise, because there are no numeric characters in our string!"
   ]
  },
  {
   "cell_type": "markdown",
   "metadata": {},
   "source": [
    "To know whether a pattern was matched, we can use an `if`:"
   ]
  },
  {
   "cell_type": "code",
   "execution_count": 305,
   "metadata": {},
   "outputs": [
    {
     "name": "stdout",
     "output_type": "stream",
     "text": [
      "found a match: an \n"
     ]
    }
   ],
   "source": [
    "MyStr = 'an example'\n",
    "\n",
    "match = re.search(r'\\w*\\s', MyStr) # what pattern is this?\n",
    "\n",
    "if match:                      \n",
    "    print('found a match:', match.group()) \n",
    "else:\n",
    "    print('did not find a match')    "
   ]
  },
  {
   "cell_type": "markdown",
   "metadata": {},
   "source": [
    "Here are some more regexes (add all that follows to `regexs.py`):"
   ]
  },
  {
   "cell_type": "code",
   "execution_count": 306,
   "metadata": {},
   "outputs": [
    {
     "data": {
      "text/plain": [
       "'2'"
      ]
     },
     "execution_count": 306,
     "metadata": {},
     "output_type": "execute_result"
    }
   ],
   "source": [
    "match = re.search(r'2' , \"it takes 2 to tango\")\n",
    "match.group()"
   ]
  },
  {
   "cell_type": "code",
   "execution_count": 307,
   "metadata": {
    "scrolled": true
   },
   "outputs": [
    {
     "data": {
      "text/plain": [
       "'2'"
      ]
     },
     "execution_count": 307,
     "metadata": {},
     "output_type": "execute_result"
    }
   ],
   "source": [
    "match = re.search(r'\\d' , \"it takes 2 to tango\")\n",
    "match.group()"
   ]
  },
  {
   "cell_type": "code",
   "execution_count": 308,
   "metadata": {},
   "outputs": [
    {
     "data": {
      "text/plain": [
       "'2 to tango'"
      ]
     },
     "execution_count": 308,
     "metadata": {},
     "output_type": "execute_result"
    }
   ],
   "source": [
    "match = re.search(r'\\d.*' , \"it takes 2 to tango\")\n",
    "match.group()"
   ]
  },
  {
   "cell_type": "code",
   "execution_count": 309,
   "metadata": {
    "scrolled": true
   },
   "outputs": [
    {
     "data": {
      "text/plain": [
       "' a '"
      ]
     },
     "execution_count": 309,
     "metadata": {},
     "output_type": "execute_result"
    }
   ],
   "source": [
    "match = re.search(r'\\s\\w{1,3}\\s', 'once upon a time')\n",
    "match.group()"
   ]
  },
  {
   "cell_type": "code",
   "execution_count": 310,
   "metadata": {},
   "outputs": [
    {
     "data": {
      "text/plain": [
       "' time'"
      ]
     },
     "execution_count": 310,
     "metadata": {},
     "output_type": "execute_result"
    }
   ],
   "source": [
    "match = re.search(r'\\s\\w*$', 'once upon a time')\n",
    "match.group()"
   ]
  },
  {
   "cell_type": "markdown",
   "metadata": {},
   "source": [
    "Let's switch to a more compact syntax by directly returning the matched group (by directly appending `.group()` to the result)."
   ]
  },
  {
   "cell_type": "code",
   "execution_count": 311,
   "metadata": {},
   "outputs": [
    {
     "data": {
      "text/plain": [
       "'take 2 grams of H2'"
      ]
     },
     "execution_count": 311,
     "metadata": {},
     "output_type": "execute_result"
    }
   ],
   "source": [
    "re.search(r'\\w*\\s\\d.*\\d', 'take 2 grams of H2O').group()"
   ]
  },
  {
   "cell_type": "code",
   "execution_count": 312,
   "metadata": {},
   "outputs": [
    {
     "data": {
      "text/plain": [
       "'once upon a '"
      ]
     },
     "execution_count": 312,
     "metadata": {},
     "output_type": "execute_result"
    }
   ],
   "source": [
    "re.search(r'^\\w*.*\\s', 'once upon a time').group() # 'once upon a '"
   ]
  },
  {
   "cell_type": "markdown",
   "metadata": {},
   "source": [
    " Note that *, `+`, and `{ }` are all \"greedy\":  They repeat the previous regex token as many times as possible. \n",
    "\n",
    "As a result, they may match more text than you want. To make it non-greedy and terminate at the first found instance of a pattern, use `?`:"
   ]
  },
  {
   "cell_type": "code",
   "execution_count": 313,
   "metadata": {},
   "outputs": [
    {
     "data": {
      "text/plain": [
       "'once '"
      ]
     },
     "execution_count": 313,
     "metadata": {},
     "output_type": "execute_result"
    }
   ],
   "source": [
    "re.search(r'^\\w*.*?\\s', 'once upon a time').group()"
   ]
  },
  {
   "cell_type": "markdown",
   "metadata": {},
   "source": [
    "To further illustrate greediness in regexes, let's try matching an HTML tag:"
   ]
  },
  {
   "cell_type": "code",
   "execution_count": 314,
   "metadata": {},
   "outputs": [
    {
     "data": {
      "text/plain": [
       "'<EM>first</EM>'"
      ]
     },
     "execution_count": 314,
     "metadata": {},
     "output_type": "execute_result"
    }
   ],
   "source": [
    "re.search(r'<.+>', 'This is a <EM>first</EM> test').group()"
   ]
  },
  {
   "cell_type": "markdown",
   "metadata": {},
   "source": [
    "But we wanted just `<EM>`!  \n",
    "\n",
    "It's because `+` is greedy. Instead, we can make `+` \"lazy\":"
   ]
  },
  {
   "cell_type": "code",
   "execution_count": 315,
   "metadata": {},
   "outputs": [
    {
     "data": {
      "text/plain": [
       "'<EM>'"
      ]
     },
     "execution_count": 315,
     "metadata": {},
     "output_type": "execute_result"
    }
   ],
   "source": [
    "re.search(r'<.+?>', 'This is a <EM>first</EM> test').group()"
   ]
  },
  {
   "cell_type": "markdown",
   "metadata": {},
   "source": [
    "OK, moving on from greed and laziness..."
   ]
  },
  {
   "cell_type": "code",
   "execution_count": 316,
   "metadata": {},
   "outputs": [
    {
     "data": {
      "text/plain": [
       "'1432.75'"
      ]
     },
     "execution_count": 316,
     "metadata": {},
     "output_type": "execute_result"
    }
   ],
   "source": [
    "re.search(r'\\d*\\.?\\d*','1432.75+60.22i').group()"
   ]
  },
  {
   "cell_type": "markdown",
   "metadata": {},
   "source": [
    "Note `\\` before the `.`, to be able to find a literal `.` \n",
    "\n",
    "Otherwise, `re.search` will consider it to be a regex element (`.` means \"match any character except newline\").\n",
    "\n",
    "A couple more examples:"
   ]
  },
  {
   "cell_type": "code",
   "execution_count": 317,
   "metadata": {},
   "outputs": [
    {
     "data": {
      "text/plain": [
       "'ATTCGT'"
      ]
     },
     "execution_count": 317,
     "metadata": {},
     "output_type": "execute_result"
    }
   ],
   "source": [
    "re.search(r'[AGTC]+', 'the sequence ATTCGT').group()"
   ]
  },
  {
   "cell_type": "code",
   "execution_count": 318,
   "metadata": {},
   "outputs": [
    {
     "data": {
      "text/plain": [
       "' Theloderma asper'"
      ]
     },
     "execution_count": 318,
     "metadata": {},
     "output_type": "execute_result"
    }
   ],
   "source": [
    "re.search(r'\\s+[A-Z]\\w+\\s*\\w+', \"The bird-shit frog's name is Theloderma asper.\").group()"
   ]
  },
  {
   "cell_type": "markdown",
   "metadata": {},
   "source": [
    "---\n",
    "\n",
    ":::{figure-md} Theloderma-asper\n",
    "\n",
    "<img src=\"./graphics/thelodermaasper.JPG\" alt=\"Bird-shit Frog\" width=\"350px\">\n",
    "\n",
    "**In case you were wondering what *Theloderma asper*, the \"bird-shit frog\", looks like.** Samraat snapped this one in a North-East Indian rainforest ages ago. \n",
    "\n",
    ":::\n",
    "\n",
    "---"
   ]
  },
  {
   "cell_type": "markdown",
   "metadata": {},
   "source": [
    "How about looking for email addresses in a string? For example, let's try matching a string consisting of an academic's name, email address and research area or interest (no need to type this into any python file):"
   ]
  },
  {
   "cell_type": "code",
   "execution_count": 319,
   "metadata": {},
   "outputs": [
    {
     "data": {
      "text/plain": [
       "'Samraat Pawar, s.pawar@imperial.ac.uk, Systems biology and ecological theory'"
      ]
     },
     "execution_count": 319,
     "metadata": {},
     "output_type": "execute_result"
    }
   ],
   "source": [
    "MyStr = 'Samraat Pawar, s.pawar@imperial.ac.uk, Systems biology and ecological theory'\n",
    "match = re.search(r\"[\\w\\s]+,\\s[\\w\\.@]+,\\s[\\w\\s]+\",MyStr)\n",
    "match.group()"
   ]
  },
  {
   "cell_type": "markdown",
   "metadata": {},
   "source": [
    "Note the use of `[ ]`'s: for example, `[\\w\\s]` ensures that any combination of word characters and spaces is found. \n",
    "\n",
    "Let's see if this regex works on a different pattern of email addresses: "
   ]
  },
  {
   "cell_type": "code",
   "execution_count": 320,
   "metadata": {},
   "outputs": [],
   "source": [
    "MyStr = 'Samraat Pawar, s-pawar@imperial.ac.uk, Systems biology and ecological theory'"
   ]
  },
  {
   "cell_type": "code",
   "execution_count": 321,
   "metadata": {
    "scrolled": true
   },
   "outputs": [
    {
     "ename": "AttributeError",
     "evalue": "'NoneType' object has no attribute 'group'",
     "output_type": "error",
     "traceback": [
      "\u001b[0;31m---------------------------------------------------------------------------\u001b[0m",
      "\u001b[0;31mAttributeError\u001b[0m                            Traceback (most recent call last)",
      "Cell \u001b[0;32mIn[321], line 2\u001b[0m\n\u001b[1;32m      1\u001b[0m match \u001b[38;5;241m=\u001b[39m re\u001b[38;5;241m.\u001b[39msearch(\u001b[38;5;124mr\u001b[39m\u001b[38;5;124m\"\u001b[39m\u001b[38;5;124m[\u001b[39m\u001b[38;5;124m\\\u001b[39m\u001b[38;5;124mw\u001b[39m\u001b[38;5;124m\\\u001b[39m\u001b[38;5;124ms]+,\u001b[39m\u001b[38;5;124m\\\u001b[39m\u001b[38;5;124ms[\u001b[39m\u001b[38;5;124m\\\u001b[39m\u001b[38;5;124mw\u001b[39m\u001b[38;5;124m\\\u001b[39m\u001b[38;5;124m.@]+,\u001b[39m\u001b[38;5;124m\\\u001b[39m\u001b[38;5;124ms[\u001b[39m\u001b[38;5;124m\\\u001b[39m\u001b[38;5;124mw\u001b[39m\u001b[38;5;124m\\\u001b[39m\u001b[38;5;124ms]+\u001b[39m\u001b[38;5;124m\"\u001b[39m,MyStr)\n\u001b[0;32m----> 2\u001b[0m \u001b[38;5;28;43;01mmatch\u001b[39;49;00m\u001b[38;5;241;43m.\u001b[39;49m\u001b[43mgroup\u001b[49m()\n",
      "\u001b[0;31mAttributeError\u001b[0m: 'NoneType' object has no attribute 'group'"
     ]
    }
   ],
   "source": [
    "match = re.search(r\"[\\w\\s]+,\\s[\\w\\.@]+,\\s[\\w\\s]+\",MyStr)\n",
    "match.group()"
   ]
  },
  {
   "cell_type": "markdown",
   "metadata": {},
   "source": [
    "Nope! So let's make the email address part of the regex more robust:"
   ]
  },
  {
   "cell_type": "code",
   "execution_count": 323,
   "metadata": {},
   "outputs": [
    {
     "data": {
      "text/plain": [
       "'Samraat Pawar, s-pawar@imperial.ac.uk, Systems biology and ecological theory'"
      ]
     },
     "execution_count": 323,
     "metadata": {},
     "output_type": "execute_result"
    }
   ],
   "source": [
    "match = re.search(r\"[\\w\\s]+,\\s[\\w\\.-]+@[\\w\\.-]+,\\s[\\w\\s]+\",MyStr)\n",
    "match.group()"
   ]
  },
  {
   "cell_type": "markdown",
   "metadata": {},
   "source": [
    "### Practicals: Some RegExercises\n",
    "\n",
    "The following exercises are not for submission as part of your coursework, but we will discuss them in class on a subsequent day.\n",
    "\n",
    "1. Try the regex we used above for finding names (`[\\w\\s]+`) for cases where the person's name has something unexpected, like a `?` or a `+`. Does it work? How can you make it more robust? \n",
    "* Translate the following regular expressions into regular English:\n",
    "    * `r'^abc[ab]+\\s\\t\\d'`\n",
    "    * `r'^\\d{1,2}\\/\\d{1,2}\\/\\d{4}$'`\n",
    "    * `r'\\s*[a-zA-Z,\\s]+\\s*'`\n",
    "* Write a regex to match dates in format YYYYMMDD, making sure that:\n",
    "    * Only seemingly valid dates match (i.e., year greater than 1900)\n",
    "    * First digit in month is either 0 or 1\n",
    "    * First digit in day $\\leq 3$ "
   ]
  },
  {
   "cell_type": "markdown",
   "metadata": {},
   "source": [
    "### Grouping regex patterns \n",
    "\n",
    "You can group regex patterns into meaningful blocks using parentheses. Let's look again at the example of finding  email addresses."
   ]
  },
  {
   "cell_type": "code",
   "execution_count": 324,
   "metadata": {},
   "outputs": [
    {
     "data": {
      "text/plain": [
       "'Samraat Pawar, s.pawar@imperial.ac.uk, Systems biology and ecological theory'"
      ]
     },
     "execution_count": 324,
     "metadata": {},
     "output_type": "execute_result"
    }
   ],
   "source": [
    "MyStr = 'Samraat Pawar, s.pawar@imperial.ac.uk, Systems biology and ecological theory'\n",
    "match = re.search(r\"[\\w\\s]+,\\s[\\w\\.-]+@[\\w\\.-]+,\\s[\\w\\s]+\",MyStr)\n",
    "match.group()"
   ]
  },
  {
   "cell_type": "markdown",
   "metadata": {},
   "source": [
    "Without grouping the regex:"
   ]
  },
  {
   "cell_type": "code",
   "execution_count": 325,
   "metadata": {},
   "outputs": [
    {
     "data": {
      "text/plain": [
       "'Samraat Pawar, s.pawar@imperial.ac.uk, Systems biology and ecological theory'"
      ]
     },
     "execution_count": 325,
     "metadata": {},
     "output_type": "execute_result"
    }
   ],
   "source": [
    "match.group(0)"
   ]
  },
  {
   "cell_type": "markdown",
   "metadata": {},
   "source": [
    "Now create groups using `( )`:"
   ]
  },
  {
   "cell_type": "code",
   "execution_count": 326,
   "metadata": {},
   "outputs": [
    {
     "name": "stdout",
     "output_type": "stream",
     "text": [
      "Samraat Pawar, s.pawar@imperial.ac.uk, Systems biology and ecological theory\n",
      "Samraat Pawar\n",
      "s.pawar@imperial.ac.uk\n",
      "Systems biology and ecological theory\n"
     ]
    }
   ],
   "source": [
    "match = re.search(r\"([\\w\\s]+),\\s([\\w\\.-]+@[\\w\\.-]+),\\s([\\w\\s&]+)\",MyStr)\n",
    "if match:\n",
    "    print(match.group(0))\n",
    "    print(match.group(1))\n",
    "    print(match.group(2))\n",
    "    print(match.group(3))"
   ]
  },
  {
   "cell_type": "markdown",
   "metadata": {},
   "source": [
    "Nice! This is very handy for extracting specific patterns from text data. Note that we excluded the `,`'s and the `\\s`'s from the grouping parentheses because we don't want them to be returned in the match group list. \n",
    "\n",
    "Have a look at `re4.py` in the MulQuaBio's code repository for more on parsing email addresses using regexes."
   ]
  },
  {
   "cell_type": "markdown",
   "metadata": {},
   "source": [
    "### Useful `re` commands\n",
    "\n",
    "Here are some important functions in the `re` module:\n",
    "\n",
    "|Command|What it does|\n",
    "|:-|:-|\n",
    "| `re.search(reg, text)`| Scans the string and finds the first match of the pattern, returning a `match` object if successful and `None` otherwise.|\n",
    "| `re.match(reg, text)`| Like `re.search`, but only matches the beginning of the string.|\n",
    "| `re.compile(reg)`| Compiles (stores) a regular expression for repeated use, improving efficiency.|\n",
    "| `re.split(ref, text)`| Splits the text by the occurrence of the pattern described by the regular expression.|\n",
    "| `re.findall(ref, text)`| Like `re.search`, but returns a list of all matches. If groups are present, returns a list of groups.|\n",
    "| `re.finditer(ref, text)`| Like `re.findall`, but returns an iterator containing the match objects over which you can iterate. Useful for \"crawling\" efficiently through text till you find all necessary number of matches.|\n",
    "| `re.sub(ref, repl, text)`|  Substitutes each non-overlapping occurrence of the match with the text in `repl`.|\n",
    "|||\n",
    "\n",
    "Many of these commands also work on whole contents of files. We will look at an example of this below. Let us try some particularly useful applications of some of these commands.\n",
    "\n",
    "### Finding all matches\n",
    "\n",
    "Above we used re.search() to find the first match for a pattern. In many scenarios, you will need to find *all* the matches of a pattern. The function `re.findall()` does precisely this and returns all matches as a list of strings, with each string representing one match.\n",
    "\n",
    "Let's try this on an extension of the email example above for some data with multiple addresses: "
   ]
  },
  {
   "cell_type": "code",
   "execution_count": 327,
   "metadata": {},
   "outputs": [],
   "source": [
    "MyStr = \"Samraat Pawar, s.pawar@imperial.ac.uk, Systems biology and ecological theory; Another academic, a-academic@imperial.ac.uk, Some other stuff thats equally boring; Yet another academic, y.a_academic@imperial.ac.uk, Some other stuff thats even more boring\""
   ]
  },
  {
   "cell_type": "markdown",
   "metadata": {},
   "source": [
    "Now `re.findall()` returns a list of all the emails found:"
   ]
  },
  {
   "cell_type": "code",
   "execution_count": 328,
   "metadata": {
    "scrolled": true
   },
   "outputs": [
    {
     "name": "stdout",
     "output_type": "stream",
     "text": [
      "s.pawar@imperial.ac.uk\n",
      "a-academic@imperial.ac.uk\n",
      "y.a_academic@imperial.ac.uk\n"
     ]
    }
   ],
   "source": [
    "emails = re.findall(r'[\\w\\.-]+@[\\w\\.-]+', MyStr) \n",
    "for email in emails:\n",
    "    print(email)"
   ]
  },
  {
   "cell_type": "markdown",
   "metadata": {},
   "source": [
    "Nice! "
   ]
  },
  {
   "cell_type": "markdown",
   "metadata": {},
   "source": [
    "### Finding in files\n",
    "\n",
    "You will generally be wanting to apply regex searches to whole files. You might be tempted to write a loop to iterate over the lines of the file, calling `re.findall()` on each line. However, `re.findall()` can return a list of all the matches in a single step. \n",
    "\n",
    "Let's try finding all species names that correspond to Oaks in a data file:"
   ]
  },
  {
   "cell_type": "code",
   "execution_count": 329,
   "metadata": {
    "scrolled": true
   },
   "outputs": [
    {
     "data": {
      "text/plain": [
       "['Quercus, robur\\n', 'Quercus, cerris\\n', 'Quercus, petraea\\n']"
      ]
     },
     "execution_count": 329,
     "metadata": {},
     "output_type": "execute_result"
    }
   ],
   "source": [
    "f = open('../data/TestOaksData.csv', 'r')\n",
    "found_oaks = re.findall(r\"Q[\\w\\s].*\\s\", f.read())\n",
    "\n",
    "found_oaks"
   ]
  },
  {
   "cell_type": "markdown",
   "metadata": {},
   "source": [
    "This works because recall that `f.read()` returns the whole text of a file in a single string). Also, the file is closed after reading."
   ]
  },
  {
   "cell_type": "markdown",
   "metadata": {},
   "source": [
    "### Groups within multiple matches\n",
    "\n",
    "Grouping pattern matches using `( )` as you learned above, can be combined with `re.findall()`. If the pattern includes *two or more* groups, then instead of returning a list of strings, `re.findall()` returns a list of tuples. Each tuple represents one match of the pattern, and inside the tuple is group(1), group(2), etc.\n",
    "\n",
    "Let's try it:"
   ]
  },
  {
   "cell_type": "code",
   "execution_count": 330,
   "metadata": {},
   "outputs": [
    {
     "data": {
      "text/plain": [
       "[('Samraat Pawar', 's.pawar@imperial.ac.uk'),\n",
       " (' Another academic', 'a.academic@imperial.ac.uk'),\n",
       " (' Yet another academic', 'y.a.academic@imperial.ac.uk')]"
      ]
     },
     "execution_count": 330,
     "metadata": {},
     "output_type": "execute_result"
    }
   ],
   "source": [
    "MyStr = \"Samraat Pawar, s.pawar@imperial.ac.uk, Systems biology and ecological theory; Another academic, a.academic@imperial.ac.uk, Some other stuff thats equally boring; Yet another academic, y.a.academic@imperial.ac.uk, Some other stuff thats even more boring\"\n",
    "\n",
    "found_matches = re.findall(r\"([\\w\\s]+),\\s([\\w\\.-]+@[\\w\\.-]+)\", MyStr)\n",
    "found_matches"
   ]
  },
  {
   "cell_type": "code",
   "execution_count": 331,
   "metadata": {
    "scrolled": true
   },
   "outputs": [
    {
     "name": "stdout",
     "output_type": "stream",
     "text": [
      "('Samraat Pawar', 's.pawar@imperial.ac.uk')\n",
      "(' Another academic', 'a.academic@imperial.ac.uk')\n",
      "(' Yet another academic', 'y.a.academic@imperial.ac.uk')\n"
     ]
    }
   ],
   "source": [
    "for item in found_matches:\n",
    "    print(item)"
   ]
  },
  {
   "cell_type": "markdown",
   "metadata": {},
   "source": [
    "### Extracting text from webpages\n",
    "\n",
    "OK, let's step up the ante here. How about extracting text from a web page to create your own data? Let's try extracting data from [this page](https://www.imperial.ac.uk/silwood-park/academic-staff/).\n",
    "\n",
    "You will need a new package `urllib3`. Install it, and import it (also `import re` if needed). "
   ]
  },
  {
   "cell_type": "code",
   "execution_count": 332,
   "metadata": {},
   "outputs": [],
   "source": [
    "import urllib3"
   ]
  },
  {
   "cell_type": "code",
   "execution_count": 333,
   "metadata": {},
   "outputs": [],
   "source": [
    "conn = urllib3.PoolManager() # open a connection\n",
    "r = conn.request('GET', 'https://www.imperial.ac.uk/silwood-park/academic-staff/') \n",
    "webpage_html = r.data #read in the webpage's contents"
   ]
  },
  {
   "cell_type": "markdown",
   "metadata": {},
   "source": [
    "This is returned as bytes (not strings). "
   ]
  },
  {
   "cell_type": "code",
   "execution_count": 334,
   "metadata": {},
   "outputs": [
    {
     "data": {
      "text/plain": [
       "bytes"
      ]
     },
     "execution_count": 334,
     "metadata": {},
     "output_type": "execute_result"
    }
   ],
   "source": [
    "type(webpage_html)"
   ]
  },
  {
   "cell_type": "markdown",
   "metadata": {},
   "source": [
    "So decode it (remember, the default decoding that this method applies is *utf-8*):"
   ]
  },
  {
   "cell_type": "code",
   "execution_count": 335,
   "metadata": {},
   "outputs": [],
   "source": [
    "My_Data  = webpage_html.decode()\n",
    "#print(My_Data)"
   ]
  },
  {
   "cell_type": "markdown",
   "metadata": {},
   "source": [
    "That's a lot of potentially useful information! Let's extract all the names of academics:"
   ]
  },
  {
   "cell_type": "code",
   "execution_count": 336,
   "metadata": {
    "scrolled": true
   },
   "outputs": [
    {
     "name": "stdout",
     "output_type": "stream",
     "text": [
      "Dr Arkhat Abzhanov\n",
      "Dr Arkhat Abzhanov\n",
      "Dr Cristina Banks\n",
      "Dr Martin Brazeau\n",
      "Dr Martin Brazeau\n",
      "Dr Lauren Cator\n",
      "Dr Rob Ewers\n",
      "Dr Rob Ewers\n",
      "Dr Richard Gill\n",
      "Dr Richard Gill\n",
      "Dr Peter Graystock\n",
      "Dr Peter Graystock\n",
      "Dr Samraat Pawar\n",
      "Dr Will Pearse\n",
      "Dr Will Pearse\n",
      "Dr Will Pearse\n",
      "Dr Emma Ransome\n",
      "Dr Emma Ransome\n",
      "Dr Julia Schroeder\n",
      "Dr Julia Schroeder\n",
      "Dr Julia Schroeder\n",
      "Dr Joseph Tobias\n",
      "Dr Joseph Tobias\n",
      "Dr Bonnie Waring\n",
      "Dr Bonnie Waring\n",
      "Dr Bonnie Waring\n",
      "Dr Emma Cavan\n",
      "Dr Emma Cavan\n",
      "Dr Emma Caven\n",
      "Dr Magda Charalambous\n",
      "Dr Magda Charalambous\n",
      "Dr Vassiliki Koufopanou\n",
      "Dr Fengjie Liu\n",
      "Dr David Orme\n",
      "Dr Chris Wilson\n",
      "Dr Michael Themis\n",
      "Dr Michael Themis\n",
      "Dr Aurelio Malo\n",
      "Dr Aurelio Malo\n"
     ]
    }
   ],
   "source": [
    "pattern = r\"Dr\\s+\\w+\\s+\\w+\"\n",
    "regex = re.compile(pattern) # example use of re.compile(); you can also ignore case  with re.IGNORECASE \n",
    "for match in regex.finditer(My_Data): # example use of re.finditer()\n",
    "    print(match.group())"
   ]
  },
  {
   "cell_type": "markdown",
   "metadata": {},
   "source": [
    "Again, nice! However, its' not perfect. \n",
    "\n",
    "You can improve this by:\n",
    "* Extracting Prof names as well\n",
    "* Eliminating the repeated matches\n",
    "* Grouping to separate title from first and second names\n",
    "* Extracting names that have unexpected characters, such as in hyphenated names (a \"-\" in the name)\n",
    "\n",
    "*Try making these improvements.*\n",
    "\n",
    "Of course, you can match and extract other types of patterns as well, such as urls and email addresses (though this example web page does not have email addresses)."
   ]
  },
  {
   "cell_type": "markdown",
   "metadata": {},
   "source": [
    "### Replacing text\n",
    "\n",
    "Using the same web page data, let's try using the `re.sub` command on the same web page data (`My_Data`) to replace text:"
   ]
  },
  {
   "cell_type": "code",
   "execution_count": 337,
   "metadata": {},
   "outputs": [],
   "source": [
    "New_Data = re.sub(r'\\t',\" \", My_Data) # replace all tabs with a space\n",
    "# print(New_Data)"
   ]
  },
  {
   "cell_type": "markdown",
   "metadata": {},
   "source": [
    "### Practicals\n",
    "\n",
    "#### Blackbirds problem\n",
    "\n",
    "Complete the code `blackbirds.py` that you find in the `MulQuaBio` (necessary data file is also there)."
   ]
  },
  {
   "cell_type": "markdown",
   "metadata": {},
   "source": [
    "## Using Python to build workflows\n",
    "\n",
    "You can use python to build an automated data analysis or simulation workflow that involves multiple languages, especially the ones you have already learnt: R, $\\LaTeX$, and UNIX bash. For example, you could, in theory, write a single Python script to generate and update your masters dissertation, tables, plots, and all. Python is ideal for building such workflows because it has packages for practically every purpose.\n",
    "\n",
    "*Thus this topic may be useful for your [Miniproject](Appendix-MiniProj.ipynb), which will involve building a reproducible computational workflow.*\n",
    "\n",
    "### Using `subprocess`\n",
    "\n",
    "For building a workflow in Python the `subprocess` module is key. With this module you can run non-Python commands and scripts, obtain their outputs, and also crawl through and manipulate directories. \n",
    "\n",
    "First, import the module (this is part of the python standard library, so you won't need to install it):"
   ]
  },
  {
   "cell_type": "code",
   "execution_count": 338,
   "metadata": {},
   "outputs": [],
   "source": [
    "import subprocess"
   ]
  },
  {
   "cell_type": "markdown",
   "metadata": {},
   "source": [
    "#### Running processes\n",
    "\n",
    "There are two main ways to run commands through subprocess: `run` (available in Python 3.5 onwards) for basic usage, and `Popen` (`P`rocess `open`) for more advanced usage. We will work directly with `popen` because `run()` is a wrapper around `Popen`. Using `Popen` directly gives more control over how the command is run, and how its input and output are processed. \n",
    "\n",
    "Let's try running some commands in the UNIX bash. \n",
    "\n",
    "$\\star$ In a terminal, first `cd` to your `code` directory,  launch `ipython3`, then and type:"
   ]
  },
  {
   "cell_type": "code",
   "execution_count": 339,
   "metadata": {},
   "outputs": [],
   "source": [
    "p = subprocess.Popen([\"echo\", \"I'm talkin' to you, bash!\"], stdout=subprocess.PIPE, stderr=subprocess.PIPE)"
   ]
  },
  {
   "cell_type": "markdown",
   "metadata": {},
   "source": [
    "This creates an object `p`, from which you can extract the output and other information of the command you ran. Before we do anything more, let's look at our `subprocess.popen` call carefully. \n",
    "\n",
    "* The command line arguments were passed as a list of strings, which avoids the need for escaping quotes or other special characters that might be interpreted by the shell (for example, in this case, there are apostrophes in the string that is being `echo`ed in bash).\n",
    "* `stdout` is the output from the process \"spawned\" by your command. This is a sequence of bytes (which you will need to decode - more on this below). \n",
    "* `stderr` is the error code (from which you can capture whether the process ran successfully or not). The method PIPE creates a new \"pipe\" (literally, a connection) to the output of to the \"child\"  process."
   ]
  },
  {
   "cell_type": "code",
   "execution_count": 340,
   "metadata": {},
   "outputs": [],
   "source": [
    "stdout, stderr = p.communicate()"
   ]
  },
  {
   "cell_type": "code",
   "execution_count": 341,
   "metadata": {},
   "outputs": [
    {
     "data": {
      "text/plain": [
       "b''"
      ]
     },
     "execution_count": 341,
     "metadata": {},
     "output_type": "execute_result"
    }
   ],
   "source": [
    "stderr"
   ]
  },
  {
   "cell_type": "markdown",
   "metadata": {},
   "source": [
    "Nothing here, because the echo command does no return an any code. the `b` indicates that the output is in bits (unencoded). By default, stdout, stderr (and other outputs of `p.communicate`) are returned as binary (byte) format.\n",
    "\n",
    "Now check what's in `stdout`:"
   ]
  },
  {
   "cell_type": "code",
   "execution_count": 342,
   "metadata": {},
   "outputs": [
    {
     "data": {
      "text/plain": [
       "b\"I'm talkin' to you, bash!\\n\""
      ]
     },
     "execution_count": 342,
     "metadata": {},
     "output_type": "execute_result"
    }
   ],
   "source": [
    "stdout"
   ]
  },
  {
   "cell_type": "markdown",
   "metadata": {},
   "source": [
    "Let's encode and print it."
   ]
  },
  {
   "cell_type": "code",
   "execution_count": 343,
   "metadata": {
    "scrolled": true
   },
   "outputs": [
    {
     "name": "stdout",
     "output_type": "stream",
     "text": [
      "I'm talkin' to you, bash!\n",
      "\n"
     ]
    }
   ],
   "source": [
    "print(stdout.decode())"
   ]
  },
  {
   "cell_type": "markdown",
   "metadata": {},
   "source": [
    "You can also use a `universal_newlines = True` so that these outputs are returned as encoded text (default being *utf-8* usually), with  line endings converted to '\\n'. For more information [see the documentation](https://docs.python.org/3.5/library/subprocess.html).\n",
    "\n",
    "Let's try something else: "
   ]
  },
  {
   "cell_type": "code",
   "execution_count": 344,
   "metadata": {},
   "outputs": [],
   "source": [
    "p = subprocess.Popen([\"ls\", \"-l\"], stdout=subprocess.PIPE)\n",
    "stdout, stderr = p.communicate()"
   ]
  },
  {
   "cell_type": "markdown",
   "metadata": {},
   "source": [
    "Now use `print(stdout.decode())` to see the output."
   ]
  },
  {
   "cell_type": "markdown",
   "metadata": {},
   "source": [
    "Recall that the `ls -l` command lists all files in a long listing format. \n",
    "\n",
    "You can also call python itself from bash (!):"
   ]
  },
  {
   "cell_type": "markdown",
   "metadata": {},
   "source": [
    "```python\n",
    "p = subprocess.Popen([\"python3\", \"boilerplate.py\"], stdout=subprocess.PIPE, stderr=subprocess.PIPE) # A bit silly! \n",
    "stdout, stderr = p.communicate()\n",
    "\n",
    "print(stdout.decode())\n",
    "```\n",
    "\n",
    "This should give you the output of your `boilerplate.py` script (remember, your current path will need to be in the appropriate code directory of the relevant week's directory). "
   ]
  },
  {
   "cell_type": "markdown",
   "metadata": {},
   "source": [
    "Similarly, to compile a $\\LaTeX$ document (using `pdflatex` in this case), you can do something like:\n",
    "\n",
    "```python\n",
    "subprocess.os.system(\"pdflatex yourlatexdoc.tex\")\n",
    "```"
   ]
  },
  {
   "cell_type": "markdown",
   "metadata": {},
   "source": [
    "### Running `R`\n",
    "\n",
    "R is likely an important part of your project's analysis and data visualization components in particular — for example for statistical analyses and plotting. You can run `R` from Python easily:\n",
    "\n",
    "$\\star$ Create an R script file called `TestR.R` in your `code` directory with the following content:\n",
    "\n",
    "```r\n",
    "print(\"Hello, this is R!\")\n",
    "```\n",
    "\n",
    "Then try running it from your bash terminal (*not* from the Python terminal) (e.g., using `Rscript TestR.R`). This should return in your terminal:\n",
    "\n",
    "```bash\n",
    "[1] \"Hello, this is R!\"`\n",
    "```\n",
    "\n",
    "Then the try `Rscript --verbose TestR.R`. Thhis should return something like:\n",
    "\n",
    "```bash\n",
    "  '/usr/lib/R/bin/R --no-echo --no-restore --file=TestR.R'\n",
    "\n",
    "[1] \"Hello, this is R!\"\n",
    "```\n",
    "\n",
    "Thus the `--verbose` flag to `Rscript` prints out addtional information about the R script's execution. \n",
    "\n",
    "```{note}\n",
    "It is possible that the location of `RScript` is different in your Unix/Linux system. To locate it, try `find /usr -name 'Rscript'` in the bash terminal (not in Python!). For example, you might need to specify the path to it using `/usr/lib/R/bin/Rscript`.\n",
    "```\n",
    "\n",
    "Now try:\n",
    "\n",
    "```bash\n",
    "Rscript --verbose TestR.R > ../results/TestR.Rout 2> ../results/TestR_errFile.Rout\n",
    "```\n",
    "\n",
    "Then check the contents of `TestR.Rout` and `TestR_errFile.Rout`. The former should contain the output of the R script, and the latter the additonal information produced due to the `--verbose` flag. \n",
    "\n",
    "Now try running this using subprocess instead:"
   ]
  },
  {
   "cell_type": "code",
   "execution_count": 345,
   "metadata": {},
   "outputs": [
    {
     "data": {
      "text/plain": [
       "0"
      ]
     },
     "execution_count": 345,
     "metadata": {},
     "output_type": "execute_result"
    }
   ],
   "source": [
    "subprocess.Popen(\"Rscript --verbose TestR.R > ../results/TestR.Rout 2> ../results/TestR_errFile.Rout\", shell=True).wait()"
   ]
  },
  {
   "cell_type": "markdown",
   "metadata": {},
   "source": [
    "There are two three new things here compared to what we did above when running a bash instead of a R command. Firtly, we are using `shell = True`. This is because we want subprocess to execute a non-standard bash command (RScript is not a stadard bash command) in the standard unix/linux shell. Secondly, we added `.wait()` to allow the RScript to terminate (this allows us to set timeout id necessary). Thirdly, we removed the  `stdout=subprocess.PIPE, stderr=subprocess.PIPE` bits, because they will not work when using `wait()`. Read [the documentation](https://docs.python.org/3/library/subprocess.html) tolearn more."
   ]
  },
  {
   "cell_type": "markdown",
   "metadata": {},
   "source": [
    "Now, create a script `TestR.py` with the following content :"
   ]
  },
  {
   "cell_type": "code",
   "execution_count": 346,
   "metadata": {},
   "outputs": [],
   "source": [
    "import subprocess\n",
    "p = subprocess.Popen(\"Rscript --verbose TestR.R > ../results/TestR.Rout 2> ../results/TestR_errFile.Rout\", shell=True).wait()"
   ]
  },
  {
   "cell_type": "markdown",
   "metadata": {},
   "source": [
    "\n",
    "Now run `TestR.py` (or `%cpaste`) and check`TestR.Rout` and `TestR_errorFile.Rout`.\n",
    "\n",
    "Also check what happens if you run (type directly in `ipython` or `python` console):"
   ]
  },
  {
   "cell_type": "code",
   "execution_count": 347,
   "metadata": {},
   "outputs": [
    {
     "data": {
      "text/plain": [
       "2"
      ]
     },
     "execution_count": 347,
     "metadata": {},
     "output_type": "execute_result"
    }
   ],
   "source": [
    "subprocess.Popen(\"Rscript --verbose NonExistScript.R > ../results/outputFile.Rout 2> ../results/errorFile.Rout\", shell=True).wait()"
   ]
  },
  {
   "cell_type": "markdown",
   "metadata": {},
   "source": [
    "What do you see on the screen? \n",
    "\n",
    "Now open and check `outputFile.Rout`and `errorFile.Rout.\n"
   ]
  },
  {
   "cell_type": "markdown",
   "metadata": {},
   "source": [
    "### Handling directory and file paths\n",
    "\n",
    "You can also use `subprocess.os` to make your code OS (Linux, Windows, Mac) independent. For example to assign paths:"
   ]
  },
  {
   "cell_type": "code",
   "execution_count": 348,
   "metadata": {
    "scrolled": true
   },
   "outputs": [
    {
     "data": {
      "text/plain": [
       "'directory/subdirectory/file'"
      ]
     },
     "execution_count": 348,
     "metadata": {},
     "output_type": "execute_result"
    }
   ],
   "source": [
    "subprocess.os.path.join('directory', 'subdirectory', 'file')"
   ]
  },
  {
   "cell_type": "markdown",
   "metadata": {},
   "source": [
    "The result would be appropriately different on Windows (with backslashes instead of forward slashes).\n",
    "\n",
    "Note that in all cases you can \"catch\" the output of `subprocess` so that you can then use the output within your\n",
    "python script. A simple example, where the output is a platform-dependent directory path, is:"
   ]
  },
  {
   "cell_type": "code",
   "execution_count": 349,
   "metadata": {},
   "outputs": [
    {
     "data": {
      "text/plain": [
       "'directory/subdirectory/file'"
      ]
     },
     "execution_count": 349,
     "metadata": {},
     "output_type": "execute_result"
    }
   ],
   "source": [
    "MyPath = subprocess.os.path.join('directory', 'subdirectory', 'file')\n",
    "MyPath"
   ]
  },
  {
   "cell_type": "markdown",
   "metadata": {},
   "source": [
    "```{tip}\n",
    "Explore the various commands within `subprocess` by hitting the tap key after typing `subprocess.`. Do the same for submodules, e.g., type `subprocess.os.` and then hit  the tab key.\n",
    "```"
   ]
  },
  {
   "cell_type": "markdown",
   "metadata": {},
   "source": [
    "### Practicals\n",
    "\n",
    "#### Using `subprocess` to run a R script   \n",
    "\n",
    "Open `fmr.R` and work out what it does; check that you have `NagyEtAl1999.csv`. Now write python code called `run_fmr_R.py` that:\n",
    "\n",
    "Runs `fmr.R` to generate the desired result\n",
    "\n",
    "`run_fmr_R.py` should also print to the python screen whether the run was successful, and the contents of the R console output\n",
    "\n",
    "#### Using `os` to crawl directories\n",
    "\n",
    "Open `using_os.py` and complete the tasks assigned (hint: you might want to look at `subprocess.os.walk()`)"
   ]
  },
  {
   "cell_type": "markdown",
   "metadata": {
    "editable": true,
    "slideshow": {
     "slide_type": ""
    },
    "tags": []
   },
   "source": [
    "## Readings and Resources\n",
    "\n",
    "### General\n",
    "\n",
    "* M. Fowler, Refactoring: improving the design of existing code (2000), Addison-Wesley Professional\n",
    "* R. C. Martin, Clean code, A handbook of agile software craftsmanship (2009), Prentice Hall\n",
    "* Browse the Python [tutorial](https://docs.python.org/3/tutorial)\n",
    "* Shaw, Zed. 2017. Learn Python 3 the Hard Way: A Very Simple Introduction to the Terrifyingly Beautiful World of Computers and Code. Boston : Addison-Wesley (likely available in your University library)\n",
    "* Python style guide from [the Hitchhiker's Guide to Python](https://docs.python-guide.org/writing/style)\n",
    "* A very detailed style guide: [the Google Python Style Guide](https://google.github.io/styleguide/pyguide.html)\n",
    "\n",
    "### IPython\n",
    "* The IPython [documentation](https://ipython.readthedocs.io/en/stable)\n",
    "* [Cookbooks](https://github.com/ipython/ipython/wiki) can be very useful\n",
    "\n",
    "### Python data structures\n",
    "* Read more about native Python data structures [here](https://diveintopython3.problemsolving.io/native-datatypes.html)\n",
    "\n",
    "### Elements of the Python program \n",
    "* Read more about the python shebang [here](https://www.python.org/dev/peps/pep-0394/#recommendation)\n",
    "* See the [official docstring conventions](https://www.python.org/dev/peps/pep-0257/)\n",
    "\n",
    "### Errors and Debugging\n",
    "\n",
    "* https://docs.python.org/3/tutorial/errors.html\n",
    "\n",
    "### Functions, Modules, and Classes\n",
    "* For functions vs. modules vs. classes in Python, have a look [at this]( http://learnpythonthehardway.org/book/ex40.html)\n",
    "\n",
    "### Python Packages\n",
    "* Look up <https://docs.python.org/3/library/index.html> – Read about the packages you think will be important to you\n",
    "\n",
    "### Scientific computing\n",
    "\n",
    "* In general, scores of good module/package-specific cookbooks are out there — google \"cookbook\" along with the name of the package you are interested in (e.g., \"scipy cookbook\").\n",
    "\n",
    "* For SciPy, read the [official documentation](https://docs.scipy.org/doc/); in particular, read about the scipy [modules](https://docs.scipy.org/doc/scipy/reference/) you think will be important to you.\n",
    "\n",
    "* The \"ecosystem\" for Scientific computing in python: <http://www.scipy-lectures.org/>\n",
    "\n",
    "* Many great examples of applications in the [scipy cookbook](https://scipy-cookbook.readthedocs.io/)\n",
    "\n",
    "* Scipy stats: https://docs.scipy.org/doc/scipy/reference/tutorial/stats.html\n",
    "\n",
    "* A Primer on Scientific Programming with Python <http://www.springer.com/us/book/9783642549595>; Multiple copies of this book are available from the central library and can be requested to Silwood from the IC library website. You can also find a pdf - seach online.\n",
    "\n",
    "### Regular expressions\n",
    "\n",
    "* Python regex documentation: https://docs.python.org/3.6/howto/regex.html\n",
    "\n",
    "* Google's short class on regex in python: https://developers.google.com/edu/python/regular-expressions\n",
    "And this exercise: https://developers.google.com/edu/python/exercises/baby-names\n",
    "\n",
    "* Good intro to regex, tips and a great array of canned solutions: http://www.regular-expressions.info\n",
    "\n",
    "* Use and abuse of regex: <https://blog.codinghorror.com/regex-use-vs-regex-abuse/>\n",
    "\n",
    "### Other stuff\n",
    "\n",
    "* [The matplotlib website](http://matplotlib.org)\n",
    "\n",
    "* Alternatives to matplotlib for plotting in python: https://towardsdatascience.com/matplotlib-vs-seaborn-vs-plotly-f2b79f5bddb\n",
    "\n",
    "* Some of you might find the python package `biopython` particularly useful — check out <http://biopython.org/>, and especially, the cookbook"
   ]
  }
 ],
 "metadata": {
  "kernelspec": {
   "display_name": "Python 3 (ipykernel)",
   "language": "python",
   "name": "python3"
  },
  "language_info": {
   "codemirror_mode": {
    "name": "ipython",
    "version": 3
   },
   "file_extension": ".py",
   "mimetype": "text/x-python",
   "name": "python",
   "nbconvert_exporter": "python",
   "pygments_lexer": "ipython3",
   "version": "3.10.12"
  },
  "latex_envs": {
   "LaTeX_envs_menu_present": true,
   "autoclose": false,
   "autocomplete": false,
   "bibliofile": "biblio.bib",
   "cite_by": "apalike",
   "current_citInitial": 1,
   "eqLabelWithNumbers": true,
   "eqNumInitial": 1,
   "hotkeys": {
    "equation": "Ctrl-E",
    "itemize": "Ctrl-I"
   },
   "labels_anchors": false,
   "latex_user_defs": false,
   "report_style_numbering": false,
   "user_envs_cfg": false
  },
  "toc": {
   "base_numbering": 1,
   "nav_menu": {},
   "number_sections": false,
   "sideBar": false,
   "skip_h1_title": false,
   "title_cell": "Contents",
   "title_sidebar": "Contents",
   "toc_cell": false,
   "toc_position": {
    "height": "683.292px",
    "left": "24px",
    "top": "186px",
    "width": "212px"
   },
   "toc_section_display": false,
   "toc_window_display": true
  },
  "toc-showtags": false
 },
 "nbformat": 4,
 "nbformat_minor": 4
}
