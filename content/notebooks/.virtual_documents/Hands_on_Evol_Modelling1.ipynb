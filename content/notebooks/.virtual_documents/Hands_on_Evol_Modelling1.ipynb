


sim_genetic_drift<-function(N=10, t=5, p0=0.5)
{
    # THE BIG LIST OF MATRICES (TO BE FILLED IN LATER)
    population<-list()
    length(population)<-t+1
    # GIVE NAMES TO THE ELEMENTS (OPTIONAL)
    for (i in 1:(t+1))
    {
        names(population)[i]<-paste(c('generation', i-1), collapse='')
    }
    # ALSO KEEP TRACK ON THE ALLELE FREQ OVER TIME, AS A VECTOR
    allele.freq<-rep(NA, t+1)
    # INITIALISE
    # NUMBER OF "0" ALLELE AT THE START, GOVERNED BY p0
    k<-round(2*N*p0)
    population[[1]]<-matrix(sample(c(rep(0, k), rep(1, 2*N-k))), nr=2)
    # THE INITIAL ALLELE FREQ
    allele.freq[1]<-sum(population[[1]]==0)/(2*N)
    # PROPAGATION
    for (i in 1:t)
    {
        # THE GAMETIC FREQ IS JUST THE ALLELE FREQ FROM THE PARENTAL GEN
        population[[i+1]]<-matrix(sample(0:1, size=2*N, prob=c(allele.freq[i], 1-allele.freq[i]), replace=T), nr=2)
        # UPDATE NEW FREQ
        allele.freq[i+1]<-sum(population[[i+1]]==0)/(2*N)
    }
    # RETURN A BIG LIST, EXIT
    return(list(population=population, allele.freq=allele.freq))
}


# TEST RUN
sim_genetic_drift()





sim_genetic_drift2<-function(N=10, t=5, p0=0.5)
{
    # A VECTOR FOR ALLELE FREQ
    allele.freq<-rep(NA, t+1)
    # INITIALISE
    allele.freq[1]<-p0
    # PROPAGATION
    # DIVIDE COUNT BY 2*N TO GET FREQ
    for (i in 1:t)
    {
        allele.freq[i+1]<-rbinom(1, size=2*N, prob=allele.freq[i])/(2*N)
    }
    # RETURN AND EXIT
    return(allele.freq)
}


# TEST RUN
sim_genetic_drift2()





# SMALL N=50 SCENARIO, WITH 20 REPLICATEAS
af_N50<-matrix(nr=20, nc=51)
for (i in 1:nrow(af_N50))
{
    af_N50[i,]<-sim_genetic_drift2(N=50, t=50)
}
# LARGE N=500 SCENARIO, WITH 20 REPLICATES
af_N500<-matrix(nr=20, nc=51)
for (i in 1:nrow(af_N500))
{
    af_N500[i,]<-sim_genetic_drift2(N=500, t=50)
}
# PLOTS ALLELE FREQ TRAJECTORIES
matplot(0:50, t(af_N50), type='l', ylim=c(0, 1), 
        xlab='generations', ylab='allele frequency', main='N=50', lwd=2)
matplot(0:50, t(af_N500), type='l', ylim=c(0, 1), 
        xlab='generations', ylab='allele frequency', main='N=500', lwd=2)





# MEAN, VARIANCE, AND DISTRIBUTION OF ALLELE FREQ DUE TO DRIFT
# p0=0.5, N=200, t=10
# 10000 INDEPENDENT SIMS (OR LOCI), NOTE THAT WE'RE ONLY INTERESTED IN THE FINAL ALLELE FREQ
final_af<-rep(NA, 10000)
for (i in 1:length(final_af))
{
    final_af[i]<-sim_genetic_drift2(N=200, p0=0.5, t=10)[11]
}
# OUR APPROXIMATIONS 
mean(final_af)
var(final_af)
hist(final_af, xlab='allele freq', main='Histogram of 10000 final allele freq, given the initial conditions. ')





# THE doParallel PACKAGE
require(doParallel)
# NUMBERS OF INDEPENDENT RUNS (LOCI)
num_indep_loci<-c(50, 100, 200, 500, 1000, 2000)
# LOCAL MULTI-CORE CLUSTER SETUP
cl<-makeCluster(44)
registerDoParallel(cl)
# FOR EACH VALUE OF INDEP LOCI
result<-foreach(i=1:6, .combine=cbind) %dopar%
{
    # WE WANT TO GET 1000 Var(p_t) ESTIMATES VIA MC
    temp_result<-rep(NA, 1000)
    for (j in 1:length(temp_result))
        {
        temp<-rep(NA, num_indep_loci[i])
        for (k in 1:num_indep_loci[i])
            {
                temp[k]<-sim_genetic_drift2(p0=0.5, N=200, t=10)[11]
            }
        temp_result[j]<-var(temp)
    }
    return(temp_result)
}
stopCluster(cl)
dim(result)


# PLOT THE UNCERTAINTY AROUND THESE VARIANCE ESTIMATES (i.e. SAMPLE VARIANCE OF 1000 REPEATED VARIANCE ESTIMTAES)
plot(num_indep_loci, apply(result, 2, var), 
    xlab='number of loci used to produce one variance estimate', 
    ylab='variance (or uncertainty) around the estimate')

# OR PLOT THE RECIPROCAL OF THE UNCERTAINTY?
plot(num_indep_loci, 1/apply(result, 2, var), 
    xlab='number of loci used to produce one variance estimate', 
    ylab='1/variance (or uncertainty) around the estimate')
abline(lm(1/apply(result, 2, var)~num_indep_loci), lty=2)





# MODIFY sim_genetic_drift2() TO RUN UNTIL THE LOCUS IS FIXED
sim_genetic_drift3<-function(N=10, p0=0.5)
{
    # WE CAN USE UPDATE AND REUSE THE SAME VARIABLE p
    p<-p0
    # KEEP TRACK OF t
    t<-0
    # PROPAGATION. WHILE IT REMAINS POLYMORPHIC
    while (p>0 & p<1)
    {
        p<-rbinom(1, size=2*N, prob=p)/(2*N)
        t<-t+1
    }
    # RETURN t AND EXIT
    return(t)
}


# MEAN PERSISTENCE TIME, AND ITS DISTRIBUTION
# p0=0.02, N=200
# DON'T TRY WITH LARGE N
persistence_time<-rep(NA, 10000)
for (i in 1:length(persistence_time))
{
        persistence_time[i]<-sim_genetic_drift3(p0=0.02, N=200)
}
mean(persistence_time)
var(persistence_time)
hist(persistence_time)





sample(1:10)
sample(letters)





sample(1:10, size=4)
sample(letters, size=5)
sample(1:10, size=11) # ERROR





sample(1:10, size=20, replace=T) # IT IS NOW OK TO SAMPLE 20 ITEMS FROM A VECTOR OF LENGTH 10 WITH REPLACEMENT
sample(letters, size=11, replace=T)
sample(1:10, replace=T) # OK BUT CONFUSING





sample(1:10, size=20, prob=c(0.4, 0.1, 0.1, 0.1, 0.1, 0.1, 0.1, 0, 0, 0), replace=T) # LOADS OF 1, BUT NO 8, 9, 10



