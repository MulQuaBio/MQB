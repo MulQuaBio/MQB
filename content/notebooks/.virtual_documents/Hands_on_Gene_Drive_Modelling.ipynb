


sim_gene_drive<-function(q0=0.05, d=0.6, t=10, N0=500, R0=2, M=500)
{
    # SOME CHECKS ON THE INPUT PARAMETERS (OPTIONAL)
    if (q0<=0 || q0>0.5)
    	{stop('PLEASE MAKE SURE THAT 0<q0<0.5!')}
    if (d<=0.5 || d>=1)
    	{stop('PLEASE MAKE SURE THAT 0.5<d<1!')}
    	# INNER FUNCTIONS. THESE INNER FUNCTIONS ARE ONLY VISIBLE WITHIN sim_gene_drive()
    	# 1) THE BEVERTON-HOLT MODEL. ceiling() TO ROUND UP. RETURN NEW POPULATION SIZE. 
    	bh<-function(N, R0, M)
    	{return(ceiling(R0*N/(1+N/M)))}
    	# 2) RETURN THE COUNTS FOR 00, 01, 11 GENOTYPES
    	count_genotype<-function(x)
    	{
        	temp<-apply(x, 2, sum)
        	return(c(sum(temp==0), sum(temp==1), sum(temp==2)))
    	}
    # INITIALISE
    # CREATE A LIST TO STORE ALL THE ALLEIC CONFIGURATIONS
    population<-list()
    length(population)<-(t+1)
    for (i in 1:(t+1))
    {names(population)[i]<-paste(c('generation', i-1), collapse='')}
    # ALSO CREATE TWO VECTORS TO STORE THE POPULATION SIZES AND THE FREQ OF TG OVER TIME
    population.size<-rep(NA, t+1)
    TG.freq<-rep(NA, t+1)

    # INITIAL POPULATION SIZE AND TG FREQ
    population.size[1]<-N0
    TG.freq[1]<-q0
    
    # WE WILL RELEASE k TRANSGENIC MOSQUITOES, WHO CARRY 01 HETEROZYGOTE
    # WHICH MEANS AT GEN 0 THERE ARE (N0-k) WT MOSQUITOES WITH 00 HOMOZYGOTES
    k<-ceiling(2*N0*q0)
    population[[1]]<-cbind(matrix(c(0,0), nr=2, nc=N0-k), matrix(c(0,1), nr=2, nc=k))
    # CALCULATE THE GENOTYPE COUNTS (WE'LL REUSE THE VECTOR genotype IN THE FOR LOOP)
    genotype<-count_genotype(population[[1]])
    # PROPAGATION
    for (i in 1:t)
    {
    	# CALCULATE THE NEW POPULATION SIZE. ONLY genotype[1]+genotype[2] WILL SURVIVE TILL ADULTHOOD 
    	population.size[i+1]<-bh(genotype[1]+genotype[2], R0, M)	
    	# EARLY EXIT CONDITION 1, IF POPULATION SIZE DROP TO 1
    	if (population.size[i+1]<=1)
    	{
    		print(paste(c('Oops! The population crashed after generation ', i-1), collapse=''))
    		return(list(population=population[1:i], population.size=population.size[1:i], 
    			TG.freq=TG.freq[1:i]))
    	}
    	# EARLY EXIT CONDITION 2, IF THERE IS NO MORE TG ALLELE
    	if (genotype[2]+genotype[3]==0)
    	{
    		print(paste(c('Oops! TG allele went extinct at generation ', i-1), collapse=''))
    		return(list(population=population[1:i], population.size=population.size[1:i], 
    			TG.freq=TG.freq[1:i]))
    	}
    	# CALCULATE TG GAMETIC FREQ
    	TG.gametic.freq<-d*genotype[2]/(genotype[1]+genotype[2])
    	# SAMPLE THE NEXT GENERATION
    	population[[i+1]]<-matrix(sample(0:1, size=2*population.size[i+1], 
    				prob=c(1-TG.gametic.freq, TG.gametic.freq), replace=T), nr=2)
    	# CALCULATE NEW GENOTYPE COUNTS AND TG FREQ
    	genotype<-count_genotype(population[[i+1]])
    	TG.freq[i+1]<-(0.5*genotype[2]+genotype[3])/population.size[i+1]	
    }
    # OUTPUTS. RETURN A BIG LIST OF EVERYTHING
    return(list(population=population, population.size=population.size, TG.freq=TG.freq))
}


# TEST RUN
sim_gene_drive(q0=0.05, d=0.6, t=4)





# LOAD SOME PACKAGES
require(compiler)
require(doParallel)





# SINGLE-CORE FOR LOOP. IT TAKES TIME
t1<-proc.time()
result_q<-rep(NA, 5000)
result_N<-rep(NA, length(result_q))
for (i in 1:length(result_q))
{
    temp<-sim_gene_drive(q0=0.05, d=0.6, t=50, N0=500, M=500, R0=2)
    result_q[i]<-temp$TG.freq[51]
    result_N[i]<-temp$population.size[51]
}
# REPORT COMPUTING TIME
t2<-proc.time()
t2-t1
rm(t1); rm(t2);


# SUMMARY STATISTICS
mean(result_q)
sd(result_q)
mean(result_N)
sd(result_N)

# PLOTS
hist(result_q, main='', xlab='final TG freq after 50 generations')
hist(result_N, main='', xlab='final population size after 50 generations')





# SAMPLE ANALYSIS BUT WITH MULTI-CORE foreach LOOP
# FROM PACKAGE doParallel
# makeCluster(n), n MUST NOT EXCEED THE NUMBER OF CPU CORES OF YOUR PC. 
t1<-proc.time()
cl<-makeCluster(44)
registerDoParallel(cl)
result<-foreach(i=1:5000, .combine='rbind') %dopar%
{
    temp<-sim_gene_drive(q0=0.05, d=0.6, t=50, N0=500, M=500, R0=2)
    return(c(temp$TG.freq[51], temp$population.size[51]))
}
stopCluster(cl)
result_q<-result[,1]
result_N<-result[,2]
# REPORT COMPUTING TIME
t2<-proc.time()
t2-t1
rm(t1); rm(t2);


# SUMMARY STATISTICS, SHOULD BE SIMILAR
mean(result_q)
sd(result_q)
mean(result_N)
sd(result_N)
# PLOTS
hist(result_q, main='', xlab='final TG freq after 50 generations')
hist(result_N, main='', xlab='final population size after 50 generations')





# STUDY A RANGE OF INITIAL RELEASING STRATEGY
initial_freq<-seq(0.001, 0.031, 0.002)
cl<-makeCluster(44)
registerDoParallel(cl)
result<-rep(NA, length(initial_freq))
for (i in 1:length(initial_freq))
{
    # SO YOU CAN PUT A foreach LOOP WITHIN A for LOOP, OR VICE-VERSA
    temp_result<-foreach(j=1:5000, .combine='c') %dopar%
    {
        temp<-sim_gene_drive(q0=initial_freq[i], d=0.6, t=20, N0=500, M=500, R0=2)
        # LOOK AT THE FINAL TG FREQ
        return(temp$TG.freq[length(temp$TG.freq)])
    }
    # SEE HOW MANY RUNS (OUT OF 5000) HAVE NON-ZERO FINAL TG FREQ. AND THIS IS THE SURVIVAL PROB. 
    result[i]<-sum(temp_result>0)
}
stopCluster(cl)
# PLOT, WITH RED 99% LINES
plot(initial_freq, result/5000, type='l', xlab='initial TG freq', ylab='survival prob after 20 generations')
abline(h=0.99, col='red', lty=2)





# STUDY A RANGE OF d
d<-seq(0.74, 0.92, 0.02)
cl<-makeCluster(44)
registerDoParallel(cl)
result<-foreach(i=1:length(d), .combine='c') %dopar%
{
    temp_result<-rep(NA, 5000)
    for (j in 1:length(temp_result))
    {
    temp<-sim_gene_drive(q0=0.03, d=d[i], t=30, N0=500, M=500, R0=2)
    temp_result[j]<-temp$population.size[length(temp$population.size)]
    }
    return(mean(temp_result))
}
stopCluster(cl)
# PLOT
plot(d, result, type='l', ylab='final population size after 30 gens')
abline(h=100, col='red', lty=2)





cl<-makeCluster(44)
registerDoParallel(cl)
# POPULATION A. R0=2, M=500
result_A<-foreach(i=1:5000, .combine='rbind') %dopar%
{
    temp<-sim_gene_drive(q0=0.03, d=0.75, t=30, N0=500, M=500, R0=2)
    return(temp$population.size)
}
# POPULATION B. R0=6, M=100
result_B<-foreach(i=1:5000, .combine='rbind') %dopar%
{
    temp<-sim_gene_drive(q0=0.03, d=0.75, t=30, N0=500, M=100, R0=6)
    return(temp$population.size)
}
stopCluster(cl)
# PLOT POPULATION SIZE OVER TIME
plot(0:30, apply(result_A, 2, mean), type='l', ylim=c(300,500), 
    ylab='population size', xlab='generations')
lines(0:30, apply(result_B, 2, mean), lty=2, col='red')
legend('topright', legend=c('d=0.75', 'R0=2, M=500', 'R0=6, M=100'), col=c(1,1,2), lty=c(NA, 1, 2))





# d=0.6
cl<-makeCluster(44)
registerDoParallel(cl)
initial_freq<-seq(0.05, 0.45, 0.01)
result<-foreach(i=1:length(initial_freq), .combine='rbind') %dopar%
{
    temp<-sim_gene_drive(q0=initial_freq[i], d=0.6, t=50, N0=100, R0=6, M=500)
    return(temp$TG.freq)
}
stopCluster(cl)

matplot(0:50, t(result), type='l', xlab='generations', ylab='TG freq')
legend('topright', legend='d=0.6')

# d=0.7
cl<-makeCluster(44)
registerDoParallel(cl)
initial_freq<-seq(0.05, 0.45, 0.01)
result<-foreach(i=1:length(initial_freq), .combine='rbind') %dopar%
{
    temp<-sim_gene_drive(q0=initial_freq[i], d=0.7, t=50, N0=100, R0=6, M=500)
    return(temp$TG.freq)
}
stopCluster(cl)

matplot(0:50, t(result), type='l', xlab='generations', ylab='TG freq')
legend('topright', legend='d=0.7')





# FOR LOOP
result<-rep(NA, 1000)
for (i in 1:1000)
{
    temp<-rchisq(30, df=1)
    result[i]<-sum(temp)
}





# PARALLELISED VERSION doParallel package
# LOAD THE PACKAGE
require(doParallel)
# CREATE A LOCAL “CLUSTER” OBEJECT cl. THE NUMBER INSIDE THE BRACKET MUST NOT EXCEED YOUR CPU CORE COUNTS. REGISTER THE CLUSTER BEFORE USE. 
cl<-makeCluster(6)
registerDoParallel(cl)
# USE THE foreach LOOP WITH %dopar%
# .combine IS AN ARGUMENT SPECIFYING HOW RESULTS FROM DIFFERENT RUNS ARE COMBINED. POSSIBLE WAYS ARE c, cbind, rbind. DEFAULT IS A LIST. 
result<-foreach(i=1:1000, .combine='c') %dopar%
{
temp<-rchisq(30, df=1)
return(sum(temp))
}
# STOP THE CLUSTER AFTER USE
stopCluster(cl)



