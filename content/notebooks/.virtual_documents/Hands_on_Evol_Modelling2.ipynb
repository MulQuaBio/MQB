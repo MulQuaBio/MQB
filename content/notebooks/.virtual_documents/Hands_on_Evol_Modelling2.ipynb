


sim_drift_selection<-function(N=10, p0=0.5, t=5, s=0.2, h=0.5)
{
    # LET US WRITE A FUNCTION WITHIN A FUNCTION. A FUNCTION TO CALCULATE GENOTYPIC COUNT FROM A MATRIX
    cal.gt<-function(x)
    {
        y<-x[1,]+x[2,]
        # RETURN COUNTS OF 00, 01, 11
        return(c(sum(y==0), sum(y==1), sum(y==2)))
    }
    # THE BIG LIST OF MATRICES (TO BE FILLED IN LATER)
    population<-list()
    length(population)<-t+1
    # GIVE NAMES TO THE ELEMENTS
    for (i in 1:(t+1))
    {
        names(population)[i]<-paste(c('generation_', i-1), collapse='')
    }
    # A VECTOR FOR ALLELE FREQ
    allele.freq<-rep(NA, t+1)
    # INITIALISE
    # NUMBER OF "0" ALLELE AT THE START, GOVERNED BY p0
    k<-round(2*N*p0)
    population[[1]]<-matrix(sample(c(rep(0, k), rep(1, 2*N-k))), nr=2)
    # THE INITIAL ALLELE FREQ
    allele.freq[1]<-sum(population[[1]]==0)/(2*N)
    # FITNESS FOR THE THREE GENOTYPES
    w<-c(1, 1-h*s, 1-s)
    # PROPAGATION
    for (i in 1:t)
    {
        # CALCULATE NEW GAMETIC FREQ, BUT THIS TIME REQUIRES GENOTYPIC INFO
        gt<-cal.gt(population[[i]])
        after_selection<-gt*w
        p<-(gt[1]*w[1]+0.5*gt[2]*w[2])/sum(after_selection)
        population[[i+1]]<-matrix(sample(0:1, size=2*N, prob=c(p, 1-p), replace=T), nr=2)
        # UPDATE NEW FREQ
        allele.freq[i+1]<-sum(population[[i+1]]==0)/(2*N)
    }
    # RETURN A BIG LIST, EXIT
    return(list(population=population, allele.freq=allele.freq))
}


# TEST RUN
sim_drift_selection()





# N=100, s=0.1, h=0.5, p0=0.05
# 20 REPLICATES
result<-matrix(nc=31, nr=20)
for (i in 1:nrow(result))
{
    # RUN ONE SIM, RECORD THE ALLELE FREQ OF "0"
    result[i,]<-sim_drift_selection(N=100, s=0.2, h=0.5, p0=0.05, t=30)$allele.freq
}
# PLOT
matplot(0:30, t(result), ylim=c(0, 1), type='l', lwd=2, 
       xlab='generations', ylab='allele frequency of "0"')
abline(h=0, col='grey', lty=40)





sim_drift_migration<-function(p0_A=0.5, p0_B=0.5, t=10, N_A, N_B, m_A, m_B)
{
# AS WE HAVE TWO POPULATAIONS WE NEED TWO LISTS TO STORE THE ALLELIC CONFIGURATIONS
#  FROM GEN 0 TO t, HENCE LENGTH (t+1)
population.A<-list()
population.B<-list()
length(population.A)<-t+1
length(population.B)<-t+1
# (OPTIONAL) GIVE NAMES TO THE ELEMENTS OF population
names(population.A)<-rep(NA, t+1)
names(population.B)<-rep(NA, t+1)
for (i in 1:(t+1))
	{
	names(population.A)[i]<-paste(c('generation', i-1), collapse='')
	names(population.B)[i]<-paste(c('generation', i-1), collapse='')
	}
# TWO VECTORS FOR TWO ALLELE FREQUENCIES OVER TIME
allele.freq.A<-rep(NA, t+1)
allele.freq.B<-rep(NA, t+1)
# INITIALISATION. WE NEED TO INITIALISE BOTH POPULATIONS. SAME AS BEFORE. 
# INITIALISE POPULATION A AND ITS FREQ
k<-ceiling(2*N_A*p0_A)
population.A[[1]]<-matrix(sample(c(rep(0, k), rep(1, 2*N_A-k))), nr=2)
allele.freq.A[1]<-sum(population.A[[1]]==0)/(2*N_A)
# DO THE SAME FOR POPULATION B. BEWARE OF TYPO
k<-ceiling(2*N_B*p0_B)
population.B[[1]]<-matrix(sample(c(rep(0, k), rep(1, 2*N_B-k))), nr=2)
allele.freq.B[1]<-sum(population.B[[1]]==0)/(2*N_B)
# PROPAGATION
for (i in 1:t)
	{
	# THE GAMETE FREQ ISN'T THE SAME AS ALLELE FREQ AS WE NEED TO TAKE MIGRATION INTO ACCOUNT
	# THE GAMETE FREQ FOR POPULATION A IS (1-m_A) OF EXISTING ALLELE FREQ IN THE SAME POPULATION, PLUS m_A OF ALLELE FREQ IN POPULATION B (THOSE WHO MOVED FROM B TO A). 
	gamete.freq.A<-(1-m_A)*allele.freq.A[i]+m_A*allele.freq.B[i]
	gamete.freq.B<-(1-m_B)*allele.freq.B[i]+m_B*allele.freq.A[i]
	# THEN WE CAN SAMPLE THE NEXT GEN WITH THE GAMETE FREQ AFTER MIGRATION
	population.A[[i+1]]<-matrix(sample(0:1, size=2*N_A, prob=c(gamete.freq.A, 1-gamete.freq.A), replace=T), nr=2)
	population.B[[i+1]]<-matrix(sample(0:1, size=2*N_B, prob=c(gamete.freq.B, 1-gamete.freq.B), replace=T), nr=2)
	# CALCULATE THE NEW ALLELE FREQ
	allele.freq.A[i+1]<-sum(population.A[[i+1]]==0)/(2*N_A)
	allele.freq.B[i+1]<-sum(population.B[[i+1]]==0)/(2*N_B)
	}
# RETURN
return(list(population.A=population.A, population.B=population.B, allele.freq.A=allele.freq.A, allele.freq.B=allele.freq.B))
}





# PAIRWISE FST WITH 2000 LOCI, PARALLELISED
require(doParallel)
cl<-makeCluster(44)
registerDoParallel(cl)
# FIRST SCENARIO. MIGRATION RATE 0.05
result_m0.05<-foreach(i=1:2000, .combine='rbind') %dopar%
{
    # SIM THE TWO POPULATIONS
    temp<-sim_drift_migration(p0_A=0.5, p0_B=0.5, N_A=1000, N_B=1000, t=50, m_A=0.05, m_B=0.05)
    # AVERAGE OF TWO ALLELE FREQ
    z<-(temp$allele.freq.A+temp$allele.freq.B)/2
    # FST, CHECK FORMULA
    FST<-(temp$allele.freq.A-temp$allele.freq.B)^2/(z*(1-z))
    return(FST)
}
# SECOND SCENARIO. MIGRATION RATE 0.1
result_m0.1<-foreach(i=1:2000, .combine='rbind') %dopar%
{
    # SIM THE TWO POPULATIONS
    temp<-sim_drift_migration(p0_A=0.5, p0_B=0.5, N_A=1000, N_B=1000, t=50, m_A=0.1, m_B=0.1)
    # AVERAGE OF TWO ALLELE FREQ
    z<-(temp$allele.freq.A+temp$allele.freq.B)/2
    # FST, CHECK FORMULA
    FST<-(temp$allele.freq.A-temp$allele.freq.B)^2/(z*(1-z))
    return(FST)
}
stopCluster(cl)


# PLOT THE AVERAGE FST OVER TIME
plot(0:50, apply(result_m0.05, 2, mean), xlab='generations', ylab='FST')
points(0:50, apply(result_m0.1, 2, mean), xlab='generations', ylab='FST', col='red', pch=3)
legend('bottomright', legend=c('N=1000, m=0.05', 'N=1000, m=0.1'), col=1:2, pch=c(1,3))





parents<-LETTERS[1:10]
parents





# USE RANDOM SEED TO GET THE SAME RANDOM DRAWS. WORK FOR >=R-4.0
set.seed(12345)
offspring<-sample(parents, size=10, replace=T)
offspring


col<-rainbow(10)
plot(1:10, rep(1, 10), ylim=c(0,1.2), col=col, pch=16, cex=2, 
    xlab='individuals', ylab='generation', yaxt='n')
for (i in 1:10)
    {text(x=i, y=1.1, labels=LETTERS[i], col=col[i])}
axis(2, at=0:1, labels=c('current gen', 'parental gen'))
points(1:10, rep(0, 10), col=col[match(offspring, LETTERS[1:10])], pch=16, cex=2)
for (i in 1:10)
{
    arrows(match(offspring[i], LETTERS[1:10]), 1, i, 0, col=col[match(offspring[i], LETTERS[1:10])], lty=2, lwd=2)
}









