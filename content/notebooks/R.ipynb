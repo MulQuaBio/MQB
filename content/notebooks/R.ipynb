{
 "cells": [
  {
   "cell_type": "code",
   "execution_count": 1,
   "metadata": {
    "tags": [
     "remove-cell"
    ],
    "vscode": {
     "languageId": "r"
    }
   },
   "outputs": [],
   "source": [
    "library(repr) ; options(repr.plot.width=6, repr.plot.height= 6) # Change plot sizes (in cm)"
   ]
  },
  {
   "cell_type": "markdown",
   "metadata": {},
   "source": [
    "# Biological Computing in R"
   ]
  },
  {
   "cell_type": "markdown",
   "metadata": {},
   "source": [
    "## Introduction \n",
    "\n",
    "R is a freely available statistical software with strong  programming capabilities widely used by professional scientists around  the world. It was based on the commercial statistical software `S` by Robert Gentleman and Ross Ihaka. The first stable version appeared  in 2000. It was essentially designed for *programming* statistical analysis and data-mining. It became the standard tool for data analysis and visualization in biology in a matter of just 10 years or so. It is also frequently used for mathematical modelling in biology.\n",
    "\n",
    "This chapter aims to lay down the foundations for you to use R for scientific computing in biology by exploiting its full potential as a fully featured object-oriented programming language. Specifically, this chapter aims at teaching you:\n",
    "\n",
    "* Basic R syntax and programming conventions, assuming you have never set your eyes on R\n",
    "* Principles of data processing and exploration (including visualization) using R\n",
    "* Principles of clean and efficient programming using R\n",
    "* To generate publication quality graphics in R \n",
    "* To develop reproducible data analysis \"work flows\" so you (or anybody else) can run and re-run your analyses, graphics outputs and all, in R\n",
    "* To make R simulations more efficient using vectorization\n",
    "* To find and fix errors in R code using debugging \n",
    "* To make data wrangling and analyses more efficient and convenient using special packages\n",
    "* Some additional, advanced topics (accessing databases, building your own packages, etc.).\n",
    "\n",
    "### Why R?\n",
    "\n",
    "There are many commercial statistical (minitab, SPSS, etc) software  packages in the world that are mouse-driven, warm, and friendly, and  have lots of statistical tests and plotting/graphing capabilities. Why not just use them? Here are some very good reasons:\n",
    "\n",
    "* R has numerous tried and tested packages for data-handling and processing \n",
    "* R provides basically every statistical test you'll ever need and is constantly being improved. You can tailor your analyses rather than trying to use the more limited options each statistical software package can offer.\n",
    "* R has excellent graphing and visualization capabilities and produce publication-quality graphics that can be re-produced with scripts &ndash; you won't get [RSI](https://en.wikipedia.org/wiki/Repetitive_strain_injury) mouse-clicking your way though graphing and re-graphing your data every time you change your analysis!\n",
    "* It also has good capabilities for mathematical calculations, including matrix algebra \n",
    "* R is scriptable, so you can build a perfectly repeatable record of your analysis. This in itself has several advantages:\n",
    "   * You can never replicate *exactly* the same analysis with all the same steps using a point-and-click approach/software. With R you can reproduce your full analysis for yourself (in the future!), your colleagues, your supervisor/employer, and any journal you might want to submit your work to.\n",
    "   * You may need to rerun your analysis every time you get new data. Once you have it all in a R script, you can just rerun your     analysis and go home!\n",
    "   * You may need to tweak your analysis many times (new data, supervisor changes mind, you change mind, paper reviewers want you do something differently). Having the analysis recorded as script then allows you to do so by revising the relevant parts of your analysis with relatively little pain.  \n",
    "* R is freely available for all common computer operating systems &ndash; if you want a copy on your laptop, help yourself  at the [CRAN website](https://cran.r-project.org).\n",
    "* Being able to program in R means you can develop and automate your own data handling, statistical analysis, and graphing/plotting, a set of skills you are likely to need in many, if not most careers paths.\n",
    "\n",
    "#### Would you ever need anything other than R?\n",
    "\n",
    "Being able to program R means you can develop and automate your statistical analyses and the generation of figures into a reproducible work flow. For many of you, using R as your only programming language will do the job. However, if your work also includes extensive numerical simulations, manipulation of very large matrices, bioinformatics, relational database access and manipulation, or web development, you will be better-off *also* knowing another programming language that is more versatile and computationally efficient (like Python or Julia).\n",
    "\n",
    "### Installing R\n",
    "\n",
    "If you are using a college computer, R will likely already be available.\n",
    "\n",
    "Otherwise you can follow [these instructions](https://imperial-fons-computing.github.io/rstudio.html) to install R on your own computer.\n",
    "\n",
    "In particular, on Ubuntu Linux, it is as simple as typing the following in terminal:\n",
    "\n",
    "```bash\n",
    "sudo apt install r-base r-base-dev\n",
    "```\n",
    "\n",
    "## Getting started\n",
    "\n",
    "You should be using an IDE for R. Please revisit the \"To IDE or not to IDE\" section of the [Introduction](../intro.md) if you are not familiar with IDEs.\n",
    "\n",
    "Let's briefly look at the bare-bones R interface and command line  interface (CLI), and then switch to an IDE like Visual Studio Code or RStudio.\n",
    "\n",
    "Launch R (From Applications menu on Windows or Mac, from terminal in  Linux/Ubuntu) &mdash; it should look something like this (on Linux/Ubuntu or Mac terminal):\n",
    "\n",
    "---\n",
    "\n",
    ":::{figure-md} R-Linux-console\n",
    "\n",
    "<img src=\"./graphics/R_Linux.png\" alt=\"R in UNIX/Linux\" width=\"500px\">\n",
    "\n",
    "**The R console in Linux/Unix.** \n",
    "\n",
    ":::\n",
    "\n",
    "Or like this (Windows \"console\", similar in Mac):\n",
    " \n",
    "---\n",
    "\n",
    ":::{figure-md} R-Windows-console\n",
    "\n",
    "<img src=\"./graphics/R_terminal.jpg\" alt=\"R in Windows\" width=\"500px\">\n",
    "\n",
    "**The R console in Windows/Mac OS.** \n",
    "\n",
    ":::\n",
    "\n",
    "---\n",
    "\n",
    "\n",
    "## R basics\n",
    "\n",
    "Lets get started with some R basics. You will be working by entering R commands interactively at the R user prompt (`>`). Up and down arrow keys scroll through your command history. \n",
    "\n",
    "### Useful R commands\n",
    "\n",
    "|Command| What it does|\n",
    "|:-|:-|\n",
    "| `ls()`| list all the variables in the work space |\n",
    "| `rm('a', 'b')`| remove variable(s) `a` and `b`|\n",
    "| `rm(list=ls())`| remove all variable(s)|\n",
    "| `getwd()`| get current working directory |\n",
    "| `setwd('Path')`| set working directory to `Path`|\n",
    "| `q()`| quit R |\n",
    "| `?Command`| show the documentation of `Command`|\n",
    "| `??Keyword`| search the all packages/functions with 'Keyword', \"fuzzy search\"|\n",
    "\n",
    "### Baby steps\n",
    "\n",
    "Like in any programming language, you will need to use \"variables\" to store information in a R session's workspace. Each variable has a reserved location in your [RAM](https://en.wikipedia.org/wiki/Random-access_memory), and takes up \"real estate\" in it &mdash; that is when you create a variable you reserve some space in your computer's memory.\n",
    "\n",
    "&#9733; Now, let's try assigning a few variables in R and doing things to them:"
   ]
  },
  {
   "cell_type": "code",
   "execution_count": 2,
   "metadata": {
    "vscode": {
     "languageId": "r"
    }
   },
   "outputs": [],
   "source": [
    "a <- 4  # store 4 as variable a"
   ]
  },
  {
   "cell_type": "code",
   "execution_count": 3,
   "metadata": {
    "vscode": {
     "languageId": "r"
    }
   },
   "outputs": [
    {
     "data": {
      "text/html": [
       "4"
      ],
      "text/latex": [
       "4"
      ],
      "text/markdown": [
       "4"
      ],
      "text/plain": [
       "[1] 4"
      ]
     },
     "metadata": {},
     "output_type": "display_data"
    }
   ],
   "source": [
    "a # display it"
   ]
  },
  {
   "cell_type": "code",
   "execution_count": 4,
   "metadata": {
    "vscode": {
     "languageId": "r"
    }
   },
   "outputs": [
    {
     "data": {
      "text/html": [
       "16"
      ],
      "text/latex": [
       "16"
      ],
      "text/markdown": [
       "16"
      ],
      "text/plain": [
       "[1] 16"
      ]
     },
     "metadata": {},
     "output_type": "display_data"
    }
   ],
   "source": [
    "a * a # product"
   ]
  },
  {
   "cell_type": "markdown",
   "metadata": {},
   "source": [
    "Store a variable:"
   ]
  },
  {
   "cell_type": "code",
   "execution_count": 5,
   "metadata": {
    "vscode": {
     "languageId": "r"
    }
   },
   "outputs": [],
   "source": [
    "a_squared <- a * a "
   ]
  },
  {
   "cell_type": "markdown",
   "metadata": {},
   "source": [
    "```{note}\n",
    "Unlike Python or most other programming languages, R uses the `<-` [operator to assign variables](https://stat.ethz.ch/R-manual/R-devel/library/base/html/assignOps.html). You can use `=` as well, but it does not work everywhere, so better to stick with `<-`.\n",
    "```"
   ]
  },
  {
   "cell_type": "code",
   "execution_count": 6,
   "metadata": {
    "vscode": {
     "languageId": "r"
    }
   },
   "outputs": [
    {
     "data": {
      "text/html": [
       "4"
      ],
      "text/latex": [
       "4"
      ],
      "text/markdown": [
       "4"
      ],
      "text/plain": [
       "[1] 4"
      ]
     },
     "metadata": {},
     "output_type": "display_data"
    }
   ],
   "source": [
    "sqrt(a_squared) # square root"
   ]
  },
  {
   "cell_type": "markdown",
   "metadata": {},
   "source": [
    "Build a vector with `c` (stands for \"`c`oncatenate\"): "
   ]
  },
  {
   "cell_type": "code",
   "execution_count": 7,
   "metadata": {
    "vscode": {
     "languageId": "r"
    }
   },
   "outputs": [],
   "source": [
    "v <- c(0, 1, 2, 3, 4)"
   ]
  },
  {
   "cell_type": "code",
   "execution_count": 8,
   "metadata": {
    "vscode": {
     "languageId": "r"
    }
   },
   "outputs": [
    {
     "data": {
      "text/html": [
       "<style>\n",
       ".list-inline {list-style: none; margin:0; padding: 0}\n",
       ".list-inline>li {display: inline-block}\n",
       ".list-inline>li:not(:last-child)::after {content: \"\\00b7\"; padding: 0 .5ex}\n",
       "</style>\n",
       "<ol class=list-inline><li>0</li><li>1</li><li>2</li><li>3</li><li>4</li></ol>\n"
      ],
      "text/latex": [
       "\\begin{enumerate*}\n",
       "\\item 0\n",
       "\\item 1\n",
       "\\item 2\n",
       "\\item 3\n",
       "\\item 4\n",
       "\\end{enumerate*}\n"
      ],
      "text/markdown": [
       "1. 0\n",
       "2. 1\n",
       "3. 2\n",
       "4. 3\n",
       "5. 4\n",
       "\n",
       "\n"
      ],
      "text/plain": [
       "[1] 0 1 2 3 4"
      ]
     },
     "metadata": {},
     "output_type": "display_data"
    }
   ],
   "source": [
    "v # Display the vector-valued variable you created"
   ]
  },
  {
   "cell_type": "markdown",
   "metadata": {},
   "source": [
    "Note that any text after a \"#\" is ignored by R, like in many other languages &mdash; handy for commenting. \n",
    "\n",
    "*In general, please comment your code and scripts, for *everybody's* sake. You will be amazed by how difficult it is to read and understand what a certain R script does (or any other script, for that matter) without judicious comments &mdash; even scripts you yourself wrote not so long ago!\n",
    "\n",
    "```{tip}\n",
    "\n",
    " **The Concatenate function:** `c()`(concatenate) is one of the most commonly used R functions because it is the default method for combining multiple arguments into a vector. To learn more about it, type `?c` at the R prompt and hit enter. \n",
    "```"
   ]
  },
  {
   "cell_type": "code",
   "execution_count": 9,
   "metadata": {
    "vscode": {
     "languageId": "r"
    }
   },
   "outputs": [
    {
     "data": {
      "text/html": [
       "TRUE"
      ],
      "text/latex": [
       "TRUE"
      ],
      "text/markdown": [
       "TRUE"
      ],
      "text/plain": [
       "[1] TRUE"
      ]
     },
     "metadata": {},
     "output_type": "display_data"
    }
   ],
   "source": [
    "is.vector(v) # check if v's a vector"
   ]
  },
  {
   "cell_type": "code",
   "execution_count": 10,
   "metadata": {
    "vscode": {
     "languageId": "r"
    }
   },
   "outputs": [
    {
     "data": {
      "text/html": [
       "2"
      ],
      "text/latex": [
       "2"
      ],
      "text/markdown": [
       "2"
      ],
      "text/plain": [
       "[1] 2"
      ]
     },
     "metadata": {},
     "output_type": "display_data"
    }
   ],
   "source": [
    "mean(v) # mean"
   ]
  },
  {
   "cell_type": "markdown",
   "metadata": {},
   "source": [
    "Thus, a *vector* is like a single column or row in a *spreadsheet* (just like it is in [Python](Python.ipynb)). Multiple vectors can be combined to make a matrix (the full spreadsheet).  \n",
    "\n",
    "This is one of many ways R stores and processes data. More on R data types and objects below.  \n",
    "\n",
    "A single value (any kind) is a vector object of length 1 by default. That's why in the R console you see `[1]` before any single-value output (e.g., type `8`, and you will see `[1] 8`)."
   ]
  },
  {
   "cell_type": "markdown",
   "metadata": {},
   "source": [
    "Some examples of operations on vectors: "
   ]
  },
  {
   "cell_type": "code",
   "execution_count": 11,
   "metadata": {
    "vscode": {
     "languageId": "r"
    }
   },
   "outputs": [
    {
     "data": {
      "text/html": [
       "2.5"
      ],
      "text/latex": [
       "2.5"
      ],
      "text/markdown": [
       "2.5"
      ],
      "text/plain": [
       "[1] 2.5"
      ]
     },
     "metadata": {},
     "output_type": "display_data"
    }
   ],
   "source": [
    "var(v) # variance"
   ]
  },
  {
   "cell_type": "code",
   "execution_count": 12,
   "metadata": {
    "vscode": {
     "languageId": "r"
    }
   },
   "outputs": [
    {
     "data": {
      "text/html": [
       "2"
      ],
      "text/latex": [
       "2"
      ],
      "text/markdown": [
       "2"
      ],
      "text/plain": [
       "[1] 2"
      ]
     },
     "metadata": {},
     "output_type": "display_data"
    }
   ],
   "source": [
    "median(v) # median"
   ]
  },
  {
   "cell_type": "code",
   "execution_count": 13,
   "metadata": {
    "vscode": {
     "languageId": "r"
    }
   },
   "outputs": [
    {
     "data": {
      "text/html": [
       "10"
      ],
      "text/latex": [
       "10"
      ],
      "text/markdown": [
       "10"
      ],
      "text/plain": [
       "[1] 10"
      ]
     },
     "metadata": {},
     "output_type": "display_data"
    }
   ],
   "source": [
    "sum(v) # sum all elements"
   ]
  },
  {
   "cell_type": "code",
   "execution_count": 14,
   "metadata": {
    "vscode": {
     "languageId": "r"
    }
   },
   "outputs": [
    {
     "data": {
      "text/html": [
       "120"
      ],
      "text/latex": [
       "120"
      ],
      "text/markdown": [
       "120"
      ],
      "text/plain": [
       "[1] 120"
      ]
     },
     "metadata": {},
     "output_type": "display_data"
    }
   ],
   "source": [
    "prod(v + 1) # multiply"
   ]
  },
  {
   "cell_type": "code",
   "execution_count": 15,
   "metadata": {
    "vscode": {
     "languageId": "r"
    }
   },
   "outputs": [
    {
     "data": {
      "text/html": [
       "5"
      ],
      "text/latex": [
       "5"
      ],
      "text/markdown": [
       "5"
      ],
      "text/plain": [
       "[1] 5"
      ]
     },
     "metadata": {},
     "output_type": "display_data"
    }
   ],
   "source": [
    "length(v) # how many elements in the vector"
   ]
  },
  {
   "cell_type": "markdown",
   "metadata": {},
   "source": [
    "### Variable names and Tabbing\n",
    "\n",
    "In R, you can name variables in the following way to keep track of related variables:"
   ]
  },
  {
   "cell_type": "code",
   "execution_count": 16,
   "metadata": {
    "vscode": {
     "languageId": "r"
    }
   },
   "outputs": [],
   "source": [
    "wing.width.cm <- 1.2 #Using dot notation"
   ]
  },
  {
   "cell_type": "code",
   "execution_count": 17,
   "metadata": {
    "vscode": {
     "languageId": "r"
    }
   },
   "outputs": [],
   "source": [
    "wing.length.cm <- c(4.7, 5.2, 4.8)"
   ]
  },
  {
   "cell_type": "markdown",
   "metadata": {},
   "source": [
    "This can be handy; type:\n",
    "\n",
    "```r\n",
    "wing.\n",
    "```\n",
    "\n",
    "And then hit the `tab`key to reveal all variables in that  category. This is nice &mdash; variable names should be as obvious as possible. However, they should not be over-long either! Good style and readability is more important than just convenient variable names. \n",
    "\n",
    "In fact, R allows dots to be used in variable names of all objects (not just objects that are variables). For example, functions names can have dots in them as well, as you will see below with the `is.*` family (e.g., `is.infinite()`, `is.nan()`, etc.). \n",
    "\n",
    "\n",
    "```{tip}\n",
    "Following a consistent style for different elements of your R code (syntax, conditionals, functions, etc) is important. The tidyverse [style guide](https://style.tidyverse.org/index.html)  is recommended. You should keep going back to different sections of the style guide as you learn new topics. Here, for starters, have a look at [naming conventions](https://style.tidyverse.org/syntax.html).  \n",
    "```"
   ]
  },
  {
   "cell_type": "markdown",
   "metadata": {},
   "source": [
    "### Operators\n",
    "The usual operators are available in R:\n",
    "\n",
    "|Operator||\n",
    "|:-|:-|\n",
    "| `+`| Addition |\n",
    "| `-`| Subtraction|\n",
    "| `*`| Multiplication|\n",
    "| `/`| Division|\n",
    "| `^`| Power|\n",
    "| `%%`| Modulo|\n",
    "| `%/%`| Integer division|\n",
    "| `==`| Equals|\n",
    "| `!=`| Differs|\n",
    "| `>`| Greater|\n",
    "| `>=`| Greater or equal|\n",
    "| `&`| Logical and|\n",
    "| `|` |  Logical or|\n",
    "| `!`| Logical not|"
   ]
  },
  {
   "cell_type": "markdown",
   "metadata": {},
   "source": [
    "### When things go wrong\n",
    "\n",
    "Here are some common syntax errors that you might run into in R, especially when you are just beginning to learn this language: \n",
    "\n",
    "\n",
    "* Missing a closing bracket leads to continuation line, which looks something like this, with a `+` at the end:\n",
    "\n",
    "```r\n",
    "x <- (1 + (2 * 3)\n",
    "+ \n",
    "```\n",
    "\n",
    "Hit `Ctrl-C`(UNIX terminal or base R command line) or ESC (in in RStudio) or keep typing!\n",
    "\n",
    "* Too many parentheses; for example, `2 + (2*3))`\n",
    "\n",
    "* Wrong or mismatched brackets (see next subsection)\n",
    "\n",
    "* Mixing double and single quotes will also give you an error\n",
    "\n",
    "\n",
    "When things are taking too long and the R console seems frozen, try `Ctrl + C` (UNIX terminal or base R command line) or ESC (in RStudio) to force an exit from whatever is going on."
   ]
  },
  {
   "cell_type": "markdown",
   "metadata": {},
   "source": [
    "### Types of parentheses\n",
    "\n",
    "R has specific uses for different types of Parentheses type that you need to get used to:\n",
    "\n",
    "| Parentheses type| What it does|\n",
    "|:-|:-|\n",
    "|`f(3,4)`| call the function (or command) f, with the arguments 3 & 4. |\n",
    "|`a + (b*c)`| to enforce order over which statements or calculations are executed. Here `(b*c)`is executed before adding to `a`. Here is an alternative order: `(a + b)*c`|\n",
    "|`{expr1; expr2;...exprn}` | group a set of expressions or commands into one compound expression. Value returned is value of last expression; used in building function, loops, and conditionals (more on these soon!).|\n",
    "|`x[4]`| get the 4th element of the vector `x`.|\n",
    "| `li[[3]]`| get the 3rd element of some list `li`, and return it.(compare with `li[3]`, which returns a list with just the 3rd element inside). More on lists in next section."
   ]
  },
  {
   "cell_type": "code",
   "execution_count": 18,
   "metadata": {
    "vscode": {
     "languageId": "r"
    }
   },
   "outputs": [],
   "source": [
    "li = list(c(1,2,3))"
   ]
  },
  {
   "cell_type": "code",
   "execution_count": 19,
   "metadata": {
    "vscode": {
     "languageId": "r"
    }
   },
   "outputs": [
    {
     "data": {
      "text/html": [
       "'list'"
      ],
      "text/latex": [
       "'list'"
      ],
      "text/markdown": [
       "'list'"
      ],
      "text/plain": [
       "[1] \"list\""
      ]
     },
     "metadata": {},
     "output_type": "display_data"
    }
   ],
   "source": [
    "class(li)"
   ]
  },
  {
   "cell_type": "markdown",
   "metadata": {},
   "source": [
    "## Variable types\n",
    "\n",
    "There are different kinds of data variable types in R, but you will basically need to know four for most of your work: integer, float (or \"numeric\", including real numbers), string (or \"character\", e.g., \n",
    "text), and Boolean (\"logical\"; `True`or `FALSE`).  \n",
    "\n",
    "Try this:"
   ]
  },
  {
   "cell_type": "code",
   "execution_count": 20,
   "metadata": {
    "vscode": {
     "languageId": "r"
    }
   },
   "outputs": [],
   "source": [
    "v <- TRUE"
   ]
  },
  {
   "cell_type": "code",
   "execution_count": 21,
   "metadata": {
    "scrolled": true,
    "vscode": {
     "languageId": "r"
    }
   },
   "outputs": [
    {
     "data": {
      "text/html": [
       "TRUE"
      ],
      "text/latex": [
       "TRUE"
      ],
      "text/markdown": [
       "TRUE"
      ],
      "text/plain": [
       "[1] TRUE"
      ]
     },
     "metadata": {},
     "output_type": "display_data"
    }
   ],
   "source": [
    "v"
   ]
  },
  {
   "cell_type": "code",
   "execution_count": 22,
   "metadata": {
    "scrolled": true,
    "vscode": {
     "languageId": "r"
    }
   },
   "outputs": [
    {
     "data": {
      "text/html": [
       "'logical'"
      ],
      "text/latex": [
       "'logical'"
      ],
      "text/markdown": [
       "'logical'"
      ],
      "text/plain": [
       "[1] \"logical\""
      ]
     },
     "metadata": {},
     "output_type": "display_data"
    }
   ],
   "source": [
    "class(v)"
   ]
  },
  {
   "cell_type": "markdown",
   "metadata": {},
   "source": [
    "The `class()` function tells you what type of variable any object in the workspace is."
   ]
  },
  {
   "cell_type": "code",
   "execution_count": 23,
   "metadata": {
    "vscode": {
     "languageId": "r"
    }
   },
   "outputs": [
    {
     "data": {
      "text/html": [
       "'numeric'"
      ],
      "text/latex": [
       "'numeric'"
      ],
      "text/markdown": [
       "'numeric'"
      ],
      "text/plain": [
       "[1] \"numeric\""
      ]
     },
     "metadata": {},
     "output_type": "display_data"
    }
   ],
   "source": [
    "v <- 3.2\n",
    "class(v)"
   ]
  },
  {
   "cell_type": "code",
   "execution_count": 24,
   "metadata": {
    "vscode": {
     "languageId": "r"
    }
   },
   "outputs": [
    {
     "data": {
      "text/html": [
       "'integer'"
      ],
      "text/latex": [
       "'integer'"
      ],
      "text/markdown": [
       "'integer'"
      ],
      "text/plain": [
       "[1] \"integer\""
      ]
     },
     "metadata": {},
     "output_type": "display_data"
    }
   ],
   "source": [
    "v <- 2L\n",
    "class(v)"
   ]
  },
  {
   "cell_type": "code",
   "execution_count": 25,
   "metadata": {
    "vscode": {
     "languageId": "r"
    }
   },
   "outputs": [
    {
     "data": {
      "text/html": [
       "'character'"
      ],
      "text/latex": [
       "'character'"
      ],
      "text/markdown": [
       "'character'"
      ],
      "text/plain": [
       "[1] \"character\""
      ]
     },
     "metadata": {},
     "output_type": "display_data"
    }
   ],
   "source": [
    "v <- \"A string\"\n",
    "class(v)"
   ]
  },
  {
   "cell_type": "code",
   "execution_count": 26,
   "metadata": {
    "vscode": {
     "languageId": "r"
    }
   },
   "outputs": [
    {
     "data": {
      "text/html": [
       "'logical'"
      ],
      "text/latex": [
       "'logical'"
      ],
      "text/markdown": [
       "'logical'"
      ],
      "text/plain": [
       "[1] \"logical\""
      ]
     },
     "metadata": {},
     "output_type": "display_data"
    }
   ],
   "source": [
    "b <- NA\n",
    "class(b)"
   ]
  },
  {
   "cell_type": "markdown",
   "metadata": {},
   "source": [
    "Also, the `is.*` family of functions allow you to check if a variable is a specific in R: "
   ]
  },
  {
   "cell_type": "code",
   "execution_count": 27,
   "metadata": {
    "vscode": {
     "languageId": "r"
    }
   },
   "outputs": [
    {
     "data": {
      "text/html": [
       "TRUE"
      ],
      "text/latex": [
       "TRUE"
      ],
      "text/markdown": [
       "TRUE"
      ],
      "text/plain": [
       "[1] TRUE"
      ]
     },
     "metadata": {},
     "output_type": "display_data"
    }
   ],
   "source": [
    "is.na(b)"
   ]
  },
  {
   "cell_type": "code",
   "execution_count": 28,
   "metadata": {
    "vscode": {
     "languageId": "r"
    }
   },
   "outputs": [
    {
     "data": {
      "text/html": [
       "NaN"
      ],
      "text/latex": [
       "NaN"
      ],
      "text/markdown": [
       "NaN"
      ],
      "text/plain": [
       "[1] NaN"
      ]
     },
     "metadata": {},
     "output_type": "display_data"
    }
   ],
   "source": [
    "b <- 0/0\n",
    "b"
   ]
  },
  {
   "cell_type": "code",
   "execution_count": 29,
   "metadata": {
    "scrolled": true,
    "vscode": {
     "languageId": "r"
    }
   },
   "outputs": [
    {
     "data": {
      "text/html": [
       "TRUE"
      ],
      "text/latex": [
       "TRUE"
      ],
      "text/markdown": [
       "TRUE"
      ],
      "text/plain": [
       "[1] TRUE"
      ]
     },
     "metadata": {},
     "output_type": "display_data"
    }
   ],
   "source": [
    "is.nan(b)"
   ]
  },
  {
   "cell_type": "code",
   "execution_count": 30,
   "metadata": {
    "vscode": {
     "languageId": "r"
    }
   },
   "outputs": [
    {
     "data": {
      "text/html": [
       "Inf"
      ],
      "text/latex": [
       "Inf"
      ],
      "text/markdown": [
       "Inf"
      ],
      "text/plain": [
       "[1] Inf"
      ]
     },
     "metadata": {},
     "output_type": "display_data"
    }
   ],
   "source": [
    "b <- 5/0\n",
    "b"
   ]
  },
  {
   "cell_type": "code",
   "execution_count": 31,
   "metadata": {
    "scrolled": true,
    "vscode": {
     "languageId": "r"
    }
   },
   "outputs": [
    {
     "data": {
      "text/html": [
       "FALSE"
      ],
      "text/latex": [
       "FALSE"
      ],
      "text/markdown": [
       "FALSE"
      ],
      "text/plain": [
       "[1] FALSE"
      ]
     },
     "metadata": {},
     "output_type": "display_data"
    }
   ],
   "source": [
    "is.nan(b)"
   ]
  },
  {
   "cell_type": "markdown",
   "metadata": {},
   "source": [
    "```{tip}\n",
    "Beware of the difference between `NA` (`N`ot` A`vailable) and `NaN` (`N`ot` a N`umber). R will use `NA`to represent/identify missing values in data or outputs, while `NaN`represent nonsense values (e.g., 0/0) that cannot be represented as a number or some other data type. \n",
    "\n",
    "See what R has to say about this: try `?is.nan`, `?is.na`, `?NA`, `?NaN`in the R commandline (one at a time!).\n",
    "\n",
    "There are also `Inf` (Infinity, e.g., 1/0), and `NULL` (variable not set) value types. Look these up as well using `?`.\n",
    "```"
   ]
  },
  {
   "cell_type": "code",
   "execution_count": 32,
   "metadata": {
    "vscode": {
     "languageId": "r"
    }
   },
   "outputs": [
    {
     "data": {
      "text/html": [
       "TRUE"
      ],
      "text/latex": [
       "TRUE"
      ],
      "text/markdown": [
       "TRUE"
      ],
      "text/plain": [
       "[1] TRUE"
      ]
     },
     "metadata": {},
     "output_type": "display_data"
    }
   ],
   "source": [
    "is.infinite(b)"
   ]
  },
  {
   "cell_type": "code",
   "execution_count": 33,
   "metadata": {
    "vscode": {
     "languageId": "r"
    }
   },
   "outputs": [
    {
     "data": {
      "text/html": [
       "FALSE"
      ],
      "text/latex": [
       "FALSE"
      ],
      "text/markdown": [
       "FALSE"
      ],
      "text/plain": [
       "[1] FALSE"
      ]
     },
     "metadata": {},
     "output_type": "display_data"
    }
   ],
   "source": [
    "is.finite(b)"
   ]
  },
  {
   "cell_type": "code",
   "execution_count": 34,
   "metadata": {
    "vscode": {
     "languageId": "r"
    }
   },
   "outputs": [
    {
     "data": {
      "text/html": [
       "FALSE"
      ],
      "text/latex": [
       "FALSE"
      ],
      "text/markdown": [
       "FALSE"
      ],
      "text/plain": [
       "[1] FALSE"
      ]
     },
     "metadata": {},
     "output_type": "display_data"
    }
   ],
   "source": [
    "is.finite(0/0)"
   ]
  },
  {
   "cell_type": "markdown",
   "metadata": {},
   "source": [
    "### Type Conversions and Special Values\n",
    "\n",
    "The `as.*` commands all convert a variable from one type to another. Try out the following examples:"
   ]
  },
  {
   "cell_type": "code",
   "execution_count": 35,
   "metadata": {
    "vscode": {
     "languageId": "r"
    }
   },
   "outputs": [
    {
     "data": {
      "text/html": [
       "3"
      ],
      "text/latex": [
       "3"
      ],
      "text/markdown": [
       "3"
      ],
      "text/plain": [
       "[1] 3"
      ]
     },
     "metadata": {},
     "output_type": "display_data"
    }
   ],
   "source": [
    "as.integer(3.1)"
   ]
  },
  {
   "cell_type": "code",
   "execution_count": 36,
   "metadata": {
    "vscode": {
     "languageId": "r"
    }
   },
   "outputs": [
    {
     "data": {
      "text/html": [
       "4"
      ],
      "text/latex": [
       "4"
      ],
      "text/markdown": [
       "4"
      ],
      "text/plain": [
       "[1] 4"
      ]
     },
     "metadata": {},
     "output_type": "display_data"
    }
   ],
   "source": [
    "as.numeric(4)"
   ]
  },
  {
   "cell_type": "code",
   "execution_count": 37,
   "metadata": {
    "vscode": {
     "languageId": "r"
    }
   },
   "outputs": [
    {
     "data": {
      "text/plain": [
       "[1] CLV"
      ]
     },
     "metadata": {},
     "output_type": "display_data"
    }
   ],
   "source": [
    "as.roman(155)"
   ]
  },
  {
   "cell_type": "code",
   "execution_count": 38,
   "metadata": {
    "vscode": {
     "languageId": "r"
    }
   },
   "outputs": [
    {
     "data": {
      "text/html": [
       "'155'"
      ],
      "text/latex": [
       "'155'"
      ],
      "text/markdown": [
       "'155'"
      ],
      "text/plain": [
       "[1] \"155\""
      ]
     },
     "metadata": {},
     "output_type": "display_data"
    }
   ],
   "source": [
    "as.character(155)  # same as converting to string"
   ]
  },
  {
   "cell_type": "code",
   "execution_count": 39,
   "metadata": {
    "vscode": {
     "languageId": "r"
    }
   },
   "outputs": [
    {
     "data": {
      "text/html": [
       "TRUE"
      ],
      "text/latex": [
       "TRUE"
      ],
      "text/markdown": [
       "TRUE"
      ],
      "text/plain": [
       "[1] TRUE"
      ]
     },
     "metadata": {},
     "output_type": "display_data"
    }
   ],
   "source": [
    "as.logical(5)"
   ]
  },
  {
   "cell_type": "markdown",
   "metadata": {},
   "source": [
    "*What just happened?!* R maps all values other than `0` to logical `True`, and `0` to `False`. This can be useful in some cases, for example, when you want to convert all your data to Presence-Absence only."
   ]
  },
  {
   "cell_type": "code",
   "execution_count": 40,
   "metadata": {
    "vscode": {
     "languageId": "r"
    }
   },
   "outputs": [
    {
     "data": {
      "text/html": [
       "FALSE"
      ],
      "text/latex": [
       "FALSE"
      ],
      "text/markdown": [
       "FALSE"
      ],
      "text/plain": [
       "[1] FALSE"
      ]
     },
     "metadata": {},
     "output_type": "display_data"
    }
   ],
   "source": [
    "as.logical(0)"
   ]
  },
  {
   "cell_type": "markdown",
   "metadata": {},
   "source": [
    "Also, *keep an eye out for [E notation](https://en.wikipedia.org/wiki/Scientific_notation) in outputs of R functions for statistical analyses, and learn to interpret numbers formatted this way.* R uses E notation in outputs of statistical tests to display  very large or small numbers. If you are not used to different  representations of long numbers, the E notation might be  confusing. \n",
    "\n",
    "Try this:"
   ]
  },
  {
   "cell_type": "code",
   "execution_count": 41,
   "metadata": {
    "vscode": {
     "languageId": "r"
    }
   },
   "outputs": [
    {
     "data": {
      "text/html": [
       "10000"
      ],
      "text/latex": [
       "10000"
      ],
      "text/markdown": [
       "10000"
      ],
      "text/plain": [
       "[1] 10000"
      ]
     },
     "metadata": {},
     "output_type": "display_data"
    }
   ],
   "source": [
    "1E4"
   ]
  },
  {
   "cell_type": "code",
   "execution_count": 42,
   "metadata": {
    "vscode": {
     "languageId": "r"
    }
   },
   "outputs": [
    {
     "data": {
      "text/html": [
       "10000"
      ],
      "text/latex": [
       "10000"
      ],
      "text/markdown": [
       "10000"
      ],
      "text/plain": [
       "[1] 10000"
      ]
     },
     "metadata": {},
     "output_type": "display_data"
    }
   ],
   "source": [
    "1e4"
   ]
  },
  {
   "cell_type": "code",
   "execution_count": 43,
   "metadata": {
    "vscode": {
     "languageId": "r"
    }
   },
   "outputs": [
    {
     "data": {
      "text/html": [
       "0.05"
      ],
      "text/latex": [
       "0.05"
      ],
      "text/markdown": [
       "0.05"
      ],
      "text/plain": [
       "[1] 0.05"
      ]
     },
     "metadata": {},
     "output_type": "display_data"
    }
   ],
   "source": [
    "5e-2"
   ]
  },
  {
   "cell_type": "code",
   "execution_count": 44,
   "metadata": {
    "scrolled": true,
    "vscode": {
     "languageId": "r"
    }
   },
   "outputs": [
    {
     "data": {
      "text/html": [
       "1e+08"
      ],
      "text/latex": [
       "1e+08"
      ],
      "text/markdown": [
       "1e+08"
      ],
      "text/plain": [
       "[1] 1e+08"
      ]
     },
     "metadata": {},
     "output_type": "display_data"
    }
   ],
   "source": [
    "1E4^2"
   ]
  },
  {
   "cell_type": "code",
   "execution_count": 45,
   "metadata": {
    "vscode": {
     "languageId": "r"
    }
   },
   "outputs": [
    {
     "data": {
      "text/html": [
       "3.33333333333333e-09"
      ],
      "text/latex": [
       "3.33333333333333e-09"
      ],
      "text/markdown": [
       "3.33333333333333e-09"
      ],
      "text/plain": [
       "[1] 3.333333e-09"
      ]
     },
     "metadata": {},
     "output_type": "display_data"
    }
   ],
   "source": [
    "1 / 3 / 1e8"
   ]
  },
  {
   "cell_type": "markdown",
   "metadata": {},
   "source": [
    "```{tip} \n",
    "**Boolean arguments in R**: In `R`, you can use `F` and `T` for boolean `FALSE` and `TRUE` respectively. To see this, type \n",
    "\n",
    "`a <- T`\n",
    "\n",
    "in the R commandline, and then see what R returns when you type `a`. Using `F` and `T` for boolean `FALSE` and `TRUE` respectively is not necessarily good practice, but be aware that this option exists. \n",
    "```"
   ]
  },
  {
   "cell_type": "markdown",
   "metadata": {},
   "source": [
    "## R Data Structures\n",
    "\n",
    "R comes with different built-in structures (objects) for data storage and manipulation. Mastering these, and knowing which one to use when will help you write better, more efficient programs and also handle diverse datasets (numbers, counts, names, dates, etc):\n",
    "\n",
    "| | |\n",
    "|:-  |:- | \n",
    "|*Vector*: |An ordered collection of any of the R data types (see above). All the elements of a vector must be of the sane data type. Vectors are one-dimensional -- *like a single cell, column or row in a spreadsheet*.|\n",
    "|*Matrix*: | A 2 dimensional vector (has both rows and columns). Like vectors, can only store data of one type in any one instance of this data structure.|\n",
    "|*Array*: | for storing data in more than two dimensions (e.g., a stack of 2-D matrices). Like vectors, can only store data of one type in any one instance of this data structure|\n",
    "|*List*: | One-dimensional like vectors but can contain mixed data types|\n",
    "|*Dataframe*: | Most versatile, can contain mixed data, and also column and row names|\n",
    "\n",
    "\n",
    "```{note}\n",
    "**Data \"structures\" vs. \"objects\" in R**: You will often see the terms \"object\" and \"data structure\" used in this and other chapters. These two have a very distinct meaning in object-oriented programming (OOP) languages like R and Python. A data structure is just a \"dumb\" container for data (e.g., a vector). An object, on the other hand can be a data structure, but also any other variable or a function in your R environment. R, being an OOP language, converts everything in the current environment to an object so that it knows what to do with each such entity &mdash; each object type has its own set of rules for operations and manipulations that R uses when interpreting your commands. \n",
    "```\n",
    "\n",
    "### Vectors\n",
    "The Vector, which you have already seen above in the R warmup, is a fundamental data structure in R. Scalars (single data values) are treated as vector of length 1. \n",
    "\n",
    "*Basically, a vector is like a single cell, column or row in a spreadsheet, but with the constraint that all elements have tio be the same data type.*\n",
    "\n",
    "&#9733; Now get back into R (if you somehow quit R using `q()`or something else), and try this:"
   ]
  },
  {
   "cell_type": "code",
   "execution_count": 46,
   "metadata": {
    "vscode": {
     "languageId": "r"
    }
   },
   "outputs": [
    {
     "data": {
      "text/html": [
       "TRUE"
      ],
      "text/latex": [
       "TRUE"
      ],
      "text/markdown": [
       "TRUE"
      ],
      "text/plain": [
       "[1] TRUE"
      ]
     },
     "metadata": {},
     "output_type": "display_data"
    }
   ],
   "source": [
    "a <- 5\n",
    "is.vector(a)"
   ]
  },
  {
   "cell_type": "code",
   "execution_count": 47,
   "metadata": {
    "vscode": {
     "languageId": "r"
    }
   },
   "outputs": [],
   "source": [
    "v1 <- c(0.02, 0.5, 1)\n",
    "v2 <- c(\"a\", \"bc\", \"def\", \"ghij\")\n",
    "v3 <- c(TRUE, TRUE, FALSE)"
   ]
  },
  {
   "cell_type": "code",
   "execution_count": 48,
   "metadata": {
    "vscode": {
     "languageId": "r"
    }
   },
   "outputs": [
    {
     "data": {
      "text/html": [
       "<style>\n",
       ".list-inline {list-style: none; margin:0; padding: 0}\n",
       ".list-inline>li {display: inline-block}\n",
       ".list-inline>li:not(:last-child)::after {content: \"\\00b7\"; padding: 0 .5ex}\n",
       "</style>\n",
       "<ol class=list-inline><li>0.02</li><li>0.5</li><li>1</li></ol>\n"
      ],
      "text/latex": [
       "\\begin{enumerate*}\n",
       "\\item 0.02\n",
       "\\item 0.5\n",
       "\\item 1\n",
       "\\end{enumerate*}\n"
      ],
      "text/markdown": [
       "1. 0.02\n",
       "2. 0.5\n",
       "3. 1\n",
       "\n",
       "\n"
      ],
      "text/plain": [
       "[1] 0.02 0.50 1.00"
      ]
     },
     "metadata": {},
     "output_type": "display_data"
    },
    {
     "data": {
      "text/html": [
       "<style>\n",
       ".list-inline {list-style: none; margin:0; padding: 0}\n",
       ".list-inline>li {display: inline-block}\n",
       ".list-inline>li:not(:last-child)::after {content: \"\\00b7\"; padding: 0 .5ex}\n",
       "</style>\n",
       "<ol class=list-inline><li>'a'</li><li>'bc'</li><li>'def'</li><li>'ghij'</li></ol>\n"
      ],
      "text/latex": [
       "\\begin{enumerate*}\n",
       "\\item 'a'\n",
       "\\item 'bc'\n",
       "\\item 'def'\n",
       "\\item 'ghij'\n",
       "\\end{enumerate*}\n"
      ],
      "text/markdown": [
       "1. 'a'\n",
       "2. 'bc'\n",
       "3. 'def'\n",
       "4. 'ghij'\n",
       "\n",
       "\n"
      ],
      "text/plain": [
       "[1] \"a\"    \"bc\"   \"def\"  \"ghij\""
      ]
     },
     "metadata": {},
     "output_type": "display_data"
    },
    {
     "data": {
      "text/html": [
       "<style>\n",
       ".list-inline {list-style: none; margin:0; padding: 0}\n",
       ".list-inline>li {display: inline-block}\n",
       ".list-inline>li:not(:last-child)::after {content: \"\\00b7\"; padding: 0 .5ex}\n",
       "</style>\n",
       "<ol class=list-inline><li>TRUE</li><li>TRUE</li><li>FALSE</li></ol>\n"
      ],
      "text/latex": [
       "\\begin{enumerate*}\n",
       "\\item TRUE\n",
       "\\item TRUE\n",
       "\\item FALSE\n",
       "\\end{enumerate*}\n"
      ],
      "text/markdown": [
       "1. TRUE\n",
       "2. TRUE\n",
       "3. FALSE\n",
       "\n",
       "\n"
      ],
      "text/plain": [
       "[1]  TRUE  TRUE FALSE"
      ]
     },
     "metadata": {},
     "output_type": "display_data"
    }
   ],
   "source": [
    "v1;v2;v3"
   ]
  },
  {
   "cell_type": "markdown",
   "metadata": {},
   "source": [
    "R vectors can only store data of a single type (e.g., all numeric or all character). If you try to combine different types, R will homogenize everything to the same data type. To see this, try the following:"
   ]
  },
  {
   "cell_type": "code",
   "execution_count": 49,
   "metadata": {
    "vscode": {
     "languageId": "r"
    }
   },
   "outputs": [
    {
     "data": {
      "text/html": [
       "<style>\n",
       ".list-inline {list-style: none; margin:0; padding: 0}\n",
       ".list-inline>li {display: inline-block}\n",
       ".list-inline>li:not(:last-child)::after {content: \"\\00b7\"; padding: 0 .5ex}\n",
       "</style>\n",
       "<ol class=list-inline><li>0.02</li><li>1</li><li>1</li></ol>\n"
      ],
      "text/latex": [
       "\\begin{enumerate*}\n",
       "\\item 0.02\n",
       "\\item 1\n",
       "\\item 1\n",
       "\\end{enumerate*}\n"
      ],
      "text/markdown": [
       "1. 0.02\n",
       "2. 1\n",
       "3. 1\n",
       "\n",
       "\n"
      ],
      "text/plain": [
       "[1] 0.02 1.00 1.00"
      ]
     },
     "metadata": {},
     "output_type": "display_data"
    }
   ],
   "source": [
    "v1 <- c(0.02, TRUE, 1)\n",
    "v1"
   ]
  },
  {
   "cell_type": "markdown",
   "metadata": {},
   "source": [
    "TRUE gets converted to 1 because vectors can contain only one data type, and the Integer class is higher in the heirarchy of data types than Boolean (so the latter by default gets converted to former)."
   ]
  },
  {
   "cell_type": "code",
   "execution_count": 50,
   "metadata": {
    "scrolled": true,
    "vscode": {
     "languageId": "r"
    }
   },
   "outputs": [
    {
     "data": {
      "text/html": [
       "<style>\n",
       ".list-inline {list-style: none; margin:0; padding: 0}\n",
       ".list-inline>li {display: inline-block}\n",
       ".list-inline>li:not(:last-child)::after {content: \"\\00b7\"; padding: 0 .5ex}\n",
       "</style>\n",
       "<ol class=list-inline><li>'0.02'</li><li>'Mary'</li><li>'1'</li></ol>\n"
      ],
      "text/latex": [
       "\\begin{enumerate*}\n",
       "\\item '0.02'\n",
       "\\item 'Mary'\n",
       "\\item '1'\n",
       "\\end{enumerate*}\n"
      ],
      "text/markdown": [
       "1. '0.02'\n",
       "2. 'Mary'\n",
       "3. '1'\n",
       "\n",
       "\n"
      ],
      "text/plain": [
       "[1] \"0.02\" \"Mary\" \"1\"   "
      ]
     },
     "metadata": {},
     "output_type": "display_data"
    }
   ],
   "source": [
    "v1 <- c(0.02, \"Mary\", 1)\n",
    "v1"
   ]
  },
  {
   "cell_type": "markdown",
   "metadata": {},
   "source": [
    "Everything gets converted to text!\n",
    "\n",
    "Basically, the function `c` \"coerces\" arguments that are of mixed types (strings/text, real numbers, logical arguments, etc) to a common type.\n",
    "\n",
    "You create empty vectors like this instead of using `c()`:"
   ]
  },
  {
   "cell_type": "code",
   "execution_count": 51,
   "metadata": {
    "vscode": {
     "languageId": "r"
    }
   },
   "outputs": [
    {
     "data": {
      "text/html": [
       "<style>\n",
       ".list-inline {list-style: none; margin:0; padding: 0}\n",
       ".list-inline>li {display: inline-block}\n",
       ".list-inline>li:not(:last-child)::after {content: \"\\00b7\"; padding: 0 .5ex}\n",
       "</style>\n",
       "<ol class=list-inline><li>''</li><li>''</li><li>''</li></ol>\n"
      ],
      "text/latex": [
       "\\begin{enumerate*}\n",
       "\\item ''\n",
       "\\item ''\n",
       "\\item ''\n",
       "\\end{enumerate*}\n"
      ],
      "text/markdown": [
       "1. ''\n",
       "2. ''\n",
       "3. ''\n",
       "\n",
       "\n"
      ],
      "text/plain": [
       "[1] \"\" \"\" \"\""
      ]
     },
     "metadata": {},
     "output_type": "display_data"
    }
   ],
   "source": [
    "v2 <- character(3) # an empty vector 'character' with 3 elements\n",
    "v2"
   ]
  },
  {
   "cell_type": "code",
   "execution_count": 52,
   "metadata": {
    "vscode": {
     "languageId": "r"
    }
   },
   "outputs": [
    {
     "data": {
      "text/html": [
       "<style>\n",
       ".list-inline {list-style: none; margin:0; padding: 0}\n",
       ".list-inline>li {display: inline-block}\n",
       ".list-inline>li:not(:last-child)::after {content: \"\\00b7\"; padding: 0 .5ex}\n",
       "</style>\n",
       "<ol class=list-inline><li>0</li><li>0</li><li>0</li></ol>\n"
      ],
      "text/latex": [
       "\\begin{enumerate*}\n",
       "\\item 0\n",
       "\\item 0\n",
       "\\item 0\n",
       "\\end{enumerate*}\n"
      ],
      "text/markdown": [
       "1. 0\n",
       "2. 0\n",
       "3. 0\n",
       "\n",
       "\n"
      ],
      "text/plain": [
       "[1] 0 0 0"
      ]
     },
     "metadata": {},
     "output_type": "display_data"
    }
   ],
   "source": [
    "v3 <- numeric(3) # an empty numeric 'character' with 3 elements\n",
    "v3"
   ]
  },
  {
   "cell_type": "markdown",
   "metadata": {},
   "source": [
    "(R-matrices)=\n",
    "### Matrices and Arrays\n",
    "\n",
    "A R \"matrix\" is a 2 dimensional vector (has both rows and columns) and a \"array\" can store data in more than two dimensions (e.g., a stack of 2-D matrices). \n",
    "\n",
    "R has many functions to build and manipulate matrices and arrays. \n",
    "\n",
    "Try this:"
   ]
  },
  {
   "cell_type": "code",
   "execution_count": 53,
   "metadata": {
    "vscode": {
     "languageId": "r"
    }
   },
   "outputs": [
    {
     "data": {
      "text/html": [
       "<table>\n",
       "<caption>A matrix: 5 × 5 of type int</caption>\n",
       "<tbody>\n",
       "\t<tr><td>1</td><td> 6</td><td>11</td><td>16</td><td>21</td></tr>\n",
       "\t<tr><td>2</td><td> 7</td><td>12</td><td>17</td><td>22</td></tr>\n",
       "\t<tr><td>3</td><td> 8</td><td>13</td><td>18</td><td>23</td></tr>\n",
       "\t<tr><td>4</td><td> 9</td><td>14</td><td>19</td><td>24</td></tr>\n",
       "\t<tr><td>5</td><td>10</td><td>15</td><td>20</td><td>25</td></tr>\n",
       "</tbody>\n",
       "</table>\n"
      ],
      "text/latex": [
       "A matrix: 5 × 5 of type int\n",
       "\\begin{tabular}{lllll}\n",
       "\t 1 &  6 & 11 & 16 & 21\\\\\n",
       "\t 2 &  7 & 12 & 17 & 22\\\\\n",
       "\t 3 &  8 & 13 & 18 & 23\\\\\n",
       "\t 4 &  9 & 14 & 19 & 24\\\\\n",
       "\t 5 & 10 & 15 & 20 & 25\\\\\n",
       "\\end{tabular}\n"
      ],
      "text/markdown": [
       "\n",
       "A matrix: 5 × 5 of type int\n",
       "\n",
       "| 1 |  6 | 11 | 16 | 21 |\n",
       "| 2 |  7 | 12 | 17 | 22 |\n",
       "| 3 |  8 | 13 | 18 | 23 |\n",
       "| 4 |  9 | 14 | 19 | 24 |\n",
       "| 5 | 10 | 15 | 20 | 25 |\n",
       "\n"
      ],
      "text/plain": [
       "     [,1] [,2] [,3] [,4] [,5]\n",
       "[1,] 1     6   11   16   21  \n",
       "[2,] 2     7   12   17   22  \n",
       "[3,] 3     8   13   18   23  \n",
       "[4,] 4     9   14   19   24  \n",
       "[5,] 5    10   15   20   25  "
      ]
     },
     "metadata": {},
     "output_type": "display_data"
    }
   ],
   "source": [
    "mat1 <- matrix(1:25, 5, 5)\n",
    "mat1"
   ]
  },
  {
   "cell_type": "markdown",
   "metadata": {},
   "source": [
    "Note that the output in your terminal or console will be more like:"
   ]
  },
  {
   "cell_type": "code",
   "execution_count": 54,
   "metadata": {
    "scrolled": true,
    "vscode": {
     "languageId": "r"
    }
   },
   "outputs": [
    {
     "name": "stdout",
     "output_type": "stream",
     "text": [
      "     [,1] [,2] [,3] [,4] [,5]\n",
      "[1,]    1    6   11   16   21\n",
      "[2,]    2    7   12   17   22\n",
      "[3,]    3    8   13   18   23\n",
      "[4,]    4    9   14   19   24\n",
      "[5,]    5   10   15   20   25\n"
     ]
    }
   ],
   "source": [
    "print(mat1)"
   ]
  },
  {
   "cell_type": "markdown",
   "metadata": {},
   "source": [
    "(even if you don't use the `print()` command)\n",
    "\n",
    "The output looks different above because the R code is running in a jupyter notebook. \n",
    "\n",
    "Now try this:"
   ]
  },
  {
   "cell_type": "code",
   "execution_count": 55,
   "metadata": {
    "vscode": {
     "languageId": "r"
    }
   },
   "outputs": [
    {
     "data": {
      "text/html": [
       "<table>\n",
       "<caption>A matrix: 5 × 5 of type int</caption>\n",
       "<tbody>\n",
       "\t<tr><td> 1</td><td> 2</td><td> 3</td><td> 4</td><td> 5</td></tr>\n",
       "\t<tr><td> 6</td><td> 7</td><td> 8</td><td> 9</td><td>10</td></tr>\n",
       "\t<tr><td>11</td><td>12</td><td>13</td><td>14</td><td>15</td></tr>\n",
       "\t<tr><td>16</td><td>17</td><td>18</td><td>19</td><td>20</td></tr>\n",
       "\t<tr><td>21</td><td>22</td><td>23</td><td>24</td><td>25</td></tr>\n",
       "</tbody>\n",
       "</table>\n"
      ],
      "text/latex": [
       "A matrix: 5 × 5 of type int\n",
       "\\begin{tabular}{lllll}\n",
       "\t  1 &  2 &  3 &  4 &  5\\\\\n",
       "\t  6 &  7 &  8 &  9 & 10\\\\\n",
       "\t 11 & 12 & 13 & 14 & 15\\\\\n",
       "\t 16 & 17 & 18 & 19 & 20\\\\\n",
       "\t 21 & 22 & 23 & 24 & 25\\\\\n",
       "\\end{tabular}\n"
      ],
      "text/markdown": [
       "\n",
       "A matrix: 5 × 5 of type int\n",
       "\n",
       "|  1 |  2 |  3 |  4 |  5 |\n",
       "|  6 |  7 |  8 |  9 | 10 |\n",
       "| 11 | 12 | 13 | 14 | 15 |\n",
       "| 16 | 17 | 18 | 19 | 20 |\n",
       "| 21 | 22 | 23 | 24 | 25 |\n",
       "\n"
      ],
      "text/plain": [
       "     [,1] [,2] [,3] [,4] [,5]\n",
       "[1,]  1    2    3    4    5  \n",
       "[2,]  6    7    8    9   10  \n",
       "[3,] 11   12   13   14   15  \n",
       "[4,] 16   17   18   19   20  \n",
       "[5,] 21   22   23   24   25  "
      ]
     },
     "metadata": {},
     "output_type": "display_data"
    }
   ],
   "source": [
    "mat1 <- matrix(1:25, 5, 5, byrow=TRUE)\n",
    "mat1"
   ]
  },
  {
   "cell_type": "markdown",
   "metadata": {},
   "source": [
    "That is, you can order the elements of a matrix by row instead of column (default)."
   ]
  },
  {
   "cell_type": "code",
   "execution_count": 56,
   "metadata": {
    "vscode": {
     "languageId": "r"
    }
   },
   "outputs": [
    {
     "data": {
      "text/html": [
       "<style>\n",
       ".list-inline {list-style: none; margin:0; padding: 0}\n",
       ".list-inline>li {display: inline-block}\n",
       ".list-inline>li:not(:last-child)::after {content: \"\\00b7\"; padding: 0 .5ex}\n",
       "</style>\n",
       "<ol class=list-inline><li>5</li><li>5</li></ol>\n"
      ],
      "text/latex": [
       "\\begin{enumerate*}\n",
       "\\item 5\n",
       "\\item 5\n",
       "\\end{enumerate*}\n"
      ],
      "text/markdown": [
       "1. 5\n",
       "2. 5\n",
       "\n",
       "\n"
      ],
      "text/plain": [
       "[1] 5 5"
      ]
     },
     "metadata": {},
     "output_type": "display_data"
    }
   ],
   "source": [
    "dim(mat1) #get the size of the matrix"
   ]
  },
  {
   "cell_type": "markdown",
   "metadata": {},
   "source": [
    "To make an array consisting of two 5$\\times$5 matrices containing the integers 1-50:"
   ]
  },
  {
   "cell_type": "code",
   "execution_count": 57,
   "metadata": {
    "scrolled": true,
    "vscode": {
     "languageId": "r"
    }
   },
   "outputs": [
    {
     "data": {
      "text/html": [
       "<table>\n",
       "<caption>A matrix: 5 × 5 of type int</caption>\n",
       "<tbody>\n",
       "\t<tr><td>1</td><td> 6</td><td>11</td><td>16</td><td>21</td></tr>\n",
       "\t<tr><td>2</td><td> 7</td><td>12</td><td>17</td><td>22</td></tr>\n",
       "\t<tr><td>3</td><td> 8</td><td>13</td><td>18</td><td>23</td></tr>\n",
       "\t<tr><td>4</td><td> 9</td><td>14</td><td>19</td><td>24</td></tr>\n",
       "\t<tr><td>5</td><td>10</td><td>15</td><td>20</td><td>25</td></tr>\n",
       "</tbody>\n",
       "</table>\n"
      ],
      "text/latex": [
       "A matrix: 5 × 5 of type int\n",
       "\\begin{tabular}{lllll}\n",
       "\t 1 &  6 & 11 & 16 & 21\\\\\n",
       "\t 2 &  7 & 12 & 17 & 22\\\\\n",
       "\t 3 &  8 & 13 & 18 & 23\\\\\n",
       "\t 4 &  9 & 14 & 19 & 24\\\\\n",
       "\t 5 & 10 & 15 & 20 & 25\\\\\n",
       "\\end{tabular}\n"
      ],
      "text/markdown": [
       "\n",
       "A matrix: 5 × 5 of type int\n",
       "\n",
       "| 1 |  6 | 11 | 16 | 21 |\n",
       "| 2 |  7 | 12 | 17 | 22 |\n",
       "| 3 |  8 | 13 | 18 | 23 |\n",
       "| 4 |  9 | 14 | 19 | 24 |\n",
       "| 5 | 10 | 15 | 20 | 25 |\n",
       "\n"
      ],
      "text/plain": [
       "     [,1] [,2] [,3] [,4] [,5]\n",
       "[1,] 1     6   11   16   21  \n",
       "[2,] 2     7   12   17   22  \n",
       "[3,] 3     8   13   18   23  \n",
       "[4,] 4     9   14   19   24  \n",
       "[5,] 5    10   15   20   25  "
      ]
     },
     "metadata": {},
     "output_type": "display_data"
    }
   ],
   "source": [
    "arr1 <- array(1:50, c(5, 5, 2))\n",
    "arr1[,,1]"
   ]
  },
  {
   "cell_type": "code",
   "execution_count": 58,
   "metadata": {
    "vscode": {
     "languageId": "r"
    }
   },
   "outputs": [
    {
     "name": "stdout",
     "output_type": "stream",
     "text": [
      ", , 1\n",
      "\n",
      "     [,1] [,2] [,3] [,4] [,5]\n",
      "[1,]    1    6   11   16   21\n",
      "[2,]    2    7   12   17   22\n",
      "[3,]    3    8   13   18   23\n",
      "[4,]    4    9   14   19   24\n",
      "[5,]    5   10   15   20   25\n",
      "\n",
      ", , 2\n",
      "\n",
      "     [,1] [,2] [,3] [,4] [,5]\n",
      "[1,]   26   31   36   41   46\n",
      "[2,]   27   32   37   42   47\n",
      "[3,]   28   33   38   43   48\n",
      "[4,]   29   34   39   44   49\n",
      "[5,]   30   35   40   45   50\n",
      "\n"
     ]
    }
   ],
   "source": [
    "print(arr1)"
   ]
  },
  {
   "cell_type": "code",
   "execution_count": 59,
   "metadata": {
    "vscode": {
     "languageId": "r"
    }
   },
   "outputs": [
    {
     "data": {
      "text/html": [
       "<table>\n",
       "<caption>A matrix: 5 × 5 of type int</caption>\n",
       "<tbody>\n",
       "\t<tr><td>26</td><td>31</td><td>36</td><td>41</td><td>46</td></tr>\n",
       "\t<tr><td>27</td><td>32</td><td>37</td><td>42</td><td>47</td></tr>\n",
       "\t<tr><td>28</td><td>33</td><td>38</td><td>43</td><td>48</td></tr>\n",
       "\t<tr><td>29</td><td>34</td><td>39</td><td>44</td><td>49</td></tr>\n",
       "\t<tr><td>30</td><td>35</td><td>40</td><td>45</td><td>50</td></tr>\n",
       "</tbody>\n",
       "</table>\n"
      ],
      "text/latex": [
       "A matrix: 5 × 5 of type int\n",
       "\\begin{tabular}{lllll}\n",
       "\t 26 & 31 & 36 & 41 & 46\\\\\n",
       "\t 27 & 32 & 37 & 42 & 47\\\\\n",
       "\t 28 & 33 & 38 & 43 & 48\\\\\n",
       "\t 29 & 34 & 39 & 44 & 49\\\\\n",
       "\t 30 & 35 & 40 & 45 & 50\\\\\n",
       "\\end{tabular}\n"
      ],
      "text/markdown": [
       "\n",
       "A matrix: 5 × 5 of type int\n",
       "\n",
       "| 26 | 31 | 36 | 41 | 46 |\n",
       "| 27 | 32 | 37 | 42 | 47 |\n",
       "| 28 | 33 | 38 | 43 | 48 |\n",
       "| 29 | 34 | 39 | 44 | 49 |\n",
       "| 30 | 35 | 40 | 45 | 50 |\n",
       "\n"
      ],
      "text/plain": [
       "     [,1] [,2] [,3] [,4] [,5]\n",
       "[1,] 26   31   36   41   46  \n",
       "[2,] 27   32   37   42   47  \n",
       "[3,] 28   33   38   43   48  \n",
       "[4,] 29   34   39   44   49  \n",
       "[5,] 30   35   40   45   50  "
      ]
     },
     "metadata": {},
     "output_type": "display_data"
    }
   ],
   "source": [
    "arr1[,,2]"
   ]
  },
  {
   "cell_type": "markdown",
   "metadata": {},
   "source": [
    "Just like R vectors, R matrices and arrays have to be of a homogeneous type, and R will do the same sort of type homogenization you saw for R vectors above. \n",
    "\n",
    "Try inserting a text value in `mat1`and see what happens: "
   ]
  },
  {
   "cell_type": "code",
   "execution_count": 60,
   "metadata": {
    "vscode": {
     "languageId": "r"
    }
   },
   "outputs": [
    {
     "data": {
      "text/html": [
       "<table>\n",
       "<caption>A matrix: 5 × 5 of type chr</caption>\n",
       "<tbody>\n",
       "\t<tr><td>one</td><td>2 </td><td>3 </td><td>4 </td><td>5 </td></tr>\n",
       "\t<tr><td>6  </td><td>7 </td><td>8 </td><td>9 </td><td>10</td></tr>\n",
       "\t<tr><td>11 </td><td>12</td><td>13</td><td>14</td><td>15</td></tr>\n",
       "\t<tr><td>16 </td><td>17</td><td>18</td><td>19</td><td>20</td></tr>\n",
       "\t<tr><td>21 </td><td>22</td><td>23</td><td>24</td><td>25</td></tr>\n",
       "</tbody>\n",
       "</table>\n"
      ],
      "text/latex": [
       "A matrix: 5 × 5 of type chr\n",
       "\\begin{tabular}{lllll}\n",
       "\t one & 2  & 3  & 4  & 5 \\\\\n",
       "\t 6   & 7  & 8  & 9  & 10\\\\\n",
       "\t 11  & 12 & 13 & 14 & 15\\\\\n",
       "\t 16  & 17 & 18 & 19 & 20\\\\\n",
       "\t 21  & 22 & 23 & 24 & 25\\\\\n",
       "\\end{tabular}\n"
      ],
      "text/markdown": [
       "\n",
       "A matrix: 5 × 5 of type chr\n",
       "\n",
       "| one | 2  | 3  | 4  | 5  |\n",
       "| 6   | 7  | 8  | 9  | 10 |\n",
       "| 11  | 12 | 13 | 14 | 15 |\n",
       "| 16  | 17 | 18 | 19 | 20 |\n",
       "| 21  | 22 | 23 | 24 | 25 |\n",
       "\n"
      ],
      "text/plain": [
       "     [,1] [,2] [,3] [,4] [,5]\n",
       "[1,] one  2    3    4    5   \n",
       "[2,] 6    7    8    9    10  \n",
       "[3,] 11   12   13   14   15  \n",
       "[4,] 16   17   18   19   20  \n",
       "[5,] 21   22   23   24   25  "
      ]
     },
     "metadata": {},
     "output_type": "display_data"
    }
   ],
   "source": [
    "mat1[1,1] <- \"one\"\n",
    "mat1"
   ]
  },
  {
   "cell_type": "markdown",
   "metadata": {},
   "source": [
    "`mat1` went from being `A matrix: 5 × 5 of type int` to `A matrix: 5 × 5 of type chr`. That is, inserting a string in one location converted all the elements of the matrix to the `chr` (string) data type."
   ]
  },
  {
   "cell_type": "markdown",
   "metadata": {},
   "source": [
    "Thus R's matrix and array are similar to Python's `numpy` array and matrix data structures."
   ]
  },
  {
   "cell_type": "markdown",
   "metadata": {},
   "source": [
    "### Lists\n",
    "\n",
    "A list is one-dimensional data structure that can be used to store a group of data objects of different sizes and types (e.g., one whole data frame and one vector can both be in a single list). It is simply an ordered collection of objects (that can be variables). \n",
    "\n",
    "```{note}\n",
    "The outputs of many statistical functions in R are lists (e.g. linear model fitting using `lm()`), to return all relevant information in one output object. So you need to know how to unpack and manipulate lists. \n",
    "```\n",
    "\n",
    "As a budding multilingual quantitative biologist, you should not be perturbed by the fact that a `list` is a very different data structure in Python vs R. It will take some practice &mdash; the good thing is that this sort of inconsistency is less common than in human languages where the same word far too often means different things in different  languages!\n",
    "\n",
    "Try this:"
   ]
  },
  {
   "cell_type": "code",
   "execution_count": 61,
   "metadata": {
    "vscode": {
     "languageId": "r"
    }
   },
   "outputs": [
    {
     "data": {
      "text/html": [
       "<ol>\n",
       "\t<li>1</li>\n",
       "\t<li>'p'</li>\n",
       "\t<li>FALSE</li>\n",
       "\t<li>0.001</li>\n",
       "</ol>\n"
      ],
      "text/latex": [
       "\\begin{enumerate}\n",
       "\\item 1\n",
       "\\item 'p'\n",
       "\\item FALSE\n",
       "\\item 0.001\n",
       "\\end{enumerate}\n"
      ],
      "text/markdown": [
       "1. 1\n",
       "2. 'p'\n",
       "3. FALSE\n",
       "4. 0.001\n",
       "\n",
       "\n"
      ],
      "text/plain": [
       "[[1]]\n",
       "[1] 1\n",
       "\n",
       "[[2]]\n",
       "[1] \"p\"\n",
       "\n",
       "[[3]]\n",
       "[1] FALSE\n",
       "\n",
       "[[4]]\n",
       "[1] 0.001\n"
      ]
     },
     "metadata": {},
     "output_type": "display_data"
    }
   ],
   "source": [
    "MyList <- list(1L, \"p\", FALSE, .001) # an integer, a character, a boolean, and a numeric walk into a bar...\n",
    "MyList"
   ]
  },
  {
   "cell_type": "markdown",
   "metadata": {},
   "source": [
    "A more complex (and meaningful) list:"
   ]
  },
  {
   "cell_type": "code",
   "execution_count": 62,
   "metadata": {
    "vscode": {
     "languageId": "r"
    }
   },
   "outputs": [
    {
     "data": {
      "text/html": [
       "<dl>\n",
       "\t<dt>$species</dt>\n",
       "\t\t<dd><style>\n",
       ".list-inline {list-style: none; margin:0; padding: 0}\n",
       ".list-inline>li {display: inline-block}\n",
       ".list-inline>li:not(:last-child)::after {content: \"\\00b7\"; padding: 0 .5ex}\n",
       "</style>\n",
       "<ol class=list-inline><li>'Quercus robur'</li><li>'Fraxinus excelsior'</li></ol>\n",
       "</dd>\n",
       "\t<dt>$age</dt>\n",
       "\t\t<dd><style>\n",
       ".list-inline {list-style: none; margin:0; padding: 0}\n",
       ".list-inline>li {display: inline-block}\n",
       ".list-inline>li:not(:last-child)::after {content: \"\\00b7\"; padding: 0 .5ex}\n",
       "</style>\n",
       "<ol class=list-inline><li>123</li><li>84</li></ol>\n",
       "</dd>\n",
       "</dl>\n"
      ],
      "text/latex": [
       "\\begin{description}\n",
       "\\item[\\$species] \\begin{enumerate*}\n",
       "\\item 'Quercus robur'\n",
       "\\item 'Fraxinus excelsior'\n",
       "\\end{enumerate*}\n",
       "\n",
       "\\item[\\$age] \\begin{enumerate*}\n",
       "\\item 123\n",
       "\\item 84\n",
       "\\end{enumerate*}\n",
       "\n",
       "\\end{description}\n"
      ],
      "text/markdown": [
       "$species\n",
       ":   1. 'Quercus robur'\n",
       "2. 'Fraxinus excelsior'\n",
       "\n",
       "\n",
       "\n",
       "$age\n",
       ":   1. 123\n",
       "2. 84\n",
       "\n",
       "\n",
       "\n",
       "\n",
       "\n"
      ],
      "text/plain": [
       "$species\n",
       "[1] \"Quercus robur\"      \"Fraxinus excelsior\"\n",
       "\n",
       "$age\n",
       "[1] 123  84\n"
      ]
     },
     "metadata": {},
     "output_type": "display_data"
    }
   ],
   "source": [
    "MyList <- list(species=c(\"Quercus robur\",\"Fraxinus excelsior\"), age=c(123, 84))\n",
    "MyList"
   ]
  },
  {
   "cell_type": "markdown",
   "metadata": {},
   "source": [
    "You can access contents of a list item using number of the item instead of name using nested square brackets:"
   ]
  },
  {
   "cell_type": "code",
   "execution_count": 63,
   "metadata": {
    "scrolled": true,
    "vscode": {
     "languageId": "r"
    }
   },
   "outputs": [
    {
     "data": {
      "text/html": [
       "<style>\n",
       ".list-inline {list-style: none; margin:0; padding: 0}\n",
       ".list-inline>li {display: inline-block}\n",
       ".list-inline>li:not(:last-child)::after {content: \"\\00b7\"; padding: 0 .5ex}\n",
       "</style>\n",
       "<ol class=list-inline><li>'Quercus robur'</li><li>'Fraxinus excelsior'</li></ol>\n"
      ],
      "text/latex": [
       "\\begin{enumerate*}\n",
       "\\item 'Quercus robur'\n",
       "\\item 'Fraxinus excelsior'\n",
       "\\end{enumerate*}\n"
      ],
      "text/markdown": [
       "1. 'Quercus robur'\n",
       "2. 'Fraxinus excelsior'\n",
       "\n",
       "\n"
      ],
      "text/plain": [
       "[1] \"Quercus robur\"      \"Fraxinus excelsior\""
      ]
     },
     "metadata": {},
     "output_type": "display_data"
    }
   ],
   "source": [
    "MyList[[1]]"
   ]
  },
  {
   "cell_type": "code",
   "execution_count": 64,
   "metadata": {
    "vscode": {
     "languageId": "r"
    }
   },
   "outputs": [
    {
     "data": {
      "text/html": [
       "'Quercus robur'"
      ],
      "text/latex": [
       "'Quercus robur'"
      ],
      "text/markdown": [
       "'Quercus robur'"
      ],
      "text/plain": [
       "[1] \"Quercus robur\""
      ]
     },
     "metadata": {},
     "output_type": "display_data"
    }
   ],
   "source": [
    "MyList[[1]][1]"
   ]
  },
  {
   "cell_type": "markdown",
   "metadata": {},
   "source": [
    "or using the name in either this way:"
   ]
  },
  {
   "cell_type": "code",
   "execution_count": 65,
   "metadata": {
    "vscode": {
     "languageId": "r"
    }
   },
   "outputs": [
    {
     "data": {
      "text/html": [
       "<style>\n",
       ".list-inline {list-style: none; margin:0; padding: 0}\n",
       ".list-inline>li {display: inline-block}\n",
       ".list-inline>li:not(:last-child)::after {content: \"\\00b7\"; padding: 0 .5ex}\n",
       "</style>\n",
       "<ol class=list-inline><li>'Quercus robur'</li><li>'Fraxinus excelsior'</li></ol>\n"
      ],
      "text/latex": [
       "\\begin{enumerate*}\n",
       "\\item 'Quercus robur'\n",
       "\\item 'Fraxinus excelsior'\n",
       "\\end{enumerate*}\n"
      ],
      "text/markdown": [
       "1. 'Quercus robur'\n",
       "2. 'Fraxinus excelsior'\n",
       "\n",
       "\n"
      ],
      "text/plain": [
       "[1] \"Quercus robur\"      \"Fraxinus excelsior\""
      ]
     },
     "metadata": {},
     "output_type": "display_data"
    }
   ],
   "source": [
    "MyList$species"
   ]
  },
  {
   "cell_type": "markdown",
   "metadata": {},
   "source": [
    "or this way:  "
   ]
  },
  {
   "cell_type": "code",
   "execution_count": 66,
   "metadata": {
    "vscode": {
     "languageId": "r"
    }
   },
   "outputs": [
    {
     "data": {
      "text/html": [
       "<style>\n",
       ".list-inline {list-style: none; margin:0; padding: 0}\n",
       ".list-inline>li {display: inline-block}\n",
       ".list-inline>li:not(:last-child)::after {content: \"\\00b7\"; padding: 0 .5ex}\n",
       "</style>\n",
       "<ol class=list-inline><li>'Quercus robur'</li><li>'Fraxinus excelsior'</li></ol>\n"
      ],
      "text/latex": [
       "\\begin{enumerate*}\n",
       "\\item 'Quercus robur'\n",
       "\\item 'Fraxinus excelsior'\n",
       "\\end{enumerate*}\n"
      ],
      "text/markdown": [
       "1. 'Quercus robur'\n",
       "2. 'Fraxinus excelsior'\n",
       "\n",
       "\n"
      ],
      "text/plain": [
       "[1] \"Quercus robur\"      \"Fraxinus excelsior\""
      ]
     },
     "metadata": {},
     "output_type": "display_data"
    }
   ],
   "source": [
    "MyList[[\"species\"]]"
   ]
  },
  {
   "cell_type": "markdown",
   "metadata": {},
   "source": [
    "And to access a specific element inside a list's item "
   ]
  },
  {
   "cell_type": "code",
   "execution_count": 67,
   "metadata": {
    "vscode": {
     "languageId": "r"
    }
   },
   "outputs": [
    {
     "data": {
      "text/html": [
       "'Quercus robur'"
      ],
      "text/latex": [
       "'Quercus robur'"
      ],
      "text/markdown": [
       "'Quercus robur'"
      ],
      "text/plain": [
       "[1] \"Quercus robur\""
      ]
     },
     "metadata": {},
     "output_type": "display_data"
    }
   ],
   "source": [
    "MyList$species[1]"
   ]
  },
  {
   "cell_type": "markdown",
   "metadata": {},
   "source": [
    "A more complex list:"
   ]
  },
  {
   "cell_type": "code",
   "execution_count": 68,
   "metadata": {
    "vscode": {
     "languageId": "r"
    }
   },
   "outputs": [
    {
     "data": {
      "text/html": [
       "<dl>\n",
       "\t<dt>$species</dt>\n",
       "\t\t<dd>'Cancer magister'</dd>\n",
       "\t<dt>$latitude</dt>\n",
       "\t\t<dd>48.3</dd>\n",
       "\t<dt>$longitude</dt>\n",
       "\t\t<dd>-123.1</dd>\n",
       "\t<dt>$startyr</dt>\n",
       "\t\t<dd>1980</dd>\n",
       "\t<dt>$endyr</dt>\n",
       "\t\t<dd>1985</dd>\n",
       "\t<dt>$pop</dt>\n",
       "\t\t<dd><style>\n",
       ".list-inline {list-style: none; margin:0; padding: 0}\n",
       ".list-inline>li {display: inline-block}\n",
       ".list-inline>li:not(:last-child)::after {content: \"\\00b7\"; padding: 0 .5ex}\n",
       "</style>\n",
       "<ol class=list-inline><li>303</li><li>402</li><li>101</li><li>607</li><li>802</li><li>35</li></ol>\n",
       "</dd>\n",
       "</dl>\n"
      ],
      "text/latex": [
       "\\begin{description}\n",
       "\\item[\\$species] 'Cancer magister'\n",
       "\\item[\\$latitude] 48.3\n",
       "\\item[\\$longitude] -123.1\n",
       "\\item[\\$startyr] 1980\n",
       "\\item[\\$endyr] 1985\n",
       "\\item[\\$pop] \\begin{enumerate*}\n",
       "\\item 303\n",
       "\\item 402\n",
       "\\item 101\n",
       "\\item 607\n",
       "\\item 802\n",
       "\\item 35\n",
       "\\end{enumerate*}\n",
       "\n",
       "\\end{description}\n"
      ],
      "text/markdown": [
       "$species\n",
       ":   'Cancer magister'\n",
       "$latitude\n",
       ":   48.3\n",
       "$longitude\n",
       ":   -123.1\n",
       "$startyr\n",
       ":   1980\n",
       "$endyr\n",
       ":   1985\n",
       "$pop\n",
       ":   1. 303\n",
       "2. 402\n",
       "3. 101\n",
       "4. 607\n",
       "5. 802\n",
       "6. 35\n",
       "\n",
       "\n",
       "\n",
       "\n",
       "\n"
      ],
      "text/plain": [
       "$species\n",
       "[1] \"Cancer magister\"\n",
       "\n",
       "$latitude\n",
       "[1] 48.3\n",
       "\n",
       "$longitude\n",
       "[1] -123.1\n",
       "\n",
       "$startyr\n",
       "[1] 1980\n",
       "\n",
       "$endyr\n",
       "[1] 1985\n",
       "\n",
       "$pop\n",
       "[1] 303 402 101 607 802  35\n"
      ]
     },
     "metadata": {},
     "output_type": "display_data"
    }
   ],
   "source": [
    "pop1<-list(species='Cancer magister',\n",
    "           latitude=48.3,longitude=-123.1,\n",
    "           startyr=1980,endyr=1985,\n",
    "           pop=c(303,402,101,607,802,35))\n",
    "pop1"
   ]
  },
  {
   "cell_type": "markdown",
   "metadata": {},
   "source": [
    "You can build lists of lists too:"
   ]
  },
  {
   "cell_type": "code",
   "execution_count": 69,
   "metadata": {
    "scrolled": true,
    "vscode": {
     "languageId": "r"
    }
   },
   "outputs": [
    {
     "data": {
      "text/html": [
       "<dl>\n",
       "\t<dt>$sp1</dt>\n",
       "\t\t<dd><dl>\n",
       "\t<dt>$lat</dt>\n",
       "\t\t<dd>19</dd>\n",
       "\t<dt>$long</dt>\n",
       "\t\t<dd>57</dd>\n",
       "\t<dt>$pop</dt>\n",
       "\t\t<dd><style>\n",
       ".list-inline {list-style: none; margin:0; padding: 0}\n",
       ".list-inline>li {display: inline-block}\n",
       ".list-inline>li:not(:last-child)::after {content: \"\\00b7\"; padding: 0 .5ex}\n",
       "</style>\n",
       "<ol class=list-inline><li>100</li><li>101</li><li>99</li></ol>\n",
       "</dd>\n",
       "</dl>\n",
       "</dd>\n",
       "\t<dt>$sp2</dt>\n",
       "\t\t<dd><dl>\n",
       "\t<dt>$lat</dt>\n",
       "\t\t<dd>56</dd>\n",
       "\t<dt>$long</dt>\n",
       "\t\t<dd>-120</dd>\n",
       "\t<dt>$pop</dt>\n",
       "\t\t<dd><style>\n",
       ".list-inline {list-style: none; margin:0; padding: 0}\n",
       ".list-inline>li {display: inline-block}\n",
       ".list-inline>li:not(:last-child)::after {content: \"\\00b7\"; padding: 0 .5ex}\n",
       "</style>\n",
       "<ol class=list-inline><li>1</li><li>4</li><li>7</li><li>7</li><li>2</li><li>1</li><li>2</li></ol>\n",
       "</dd>\n",
       "</dl>\n",
       "</dd>\n",
       "\t<dt>$sp3</dt>\n",
       "\t\t<dd><dl>\n",
       "\t<dt>$lat</dt>\n",
       "\t\t<dd>32</dd>\n",
       "\t<dt>$long</dt>\n",
       "\t\t<dd>-10</dd>\n",
       "\t<dt>$pop</dt>\n",
       "\t\t<dd><style>\n",
       ".list-inline {list-style: none; margin:0; padding: 0}\n",
       ".list-inline>li {display: inline-block}\n",
       ".list-inline>li:not(:last-child)::after {content: \"\\00b7\"; padding: 0 .5ex}\n",
       "</style>\n",
       "<ol class=list-inline><li>12</li><li>11</li><li>2</li><li>1</li><li>14</li></ol>\n",
       "</dd>\n",
       "</dl>\n",
       "</dd>\n",
       "</dl>\n"
      ],
      "text/latex": [
       "\\begin{description}\n",
       "\\item[\\$sp1] \\begin{description}\n",
       "\\item[\\$lat] 19\n",
       "\\item[\\$long] 57\n",
       "\\item[\\$pop] \\begin{enumerate*}\n",
       "\\item 100\n",
       "\\item 101\n",
       "\\item 99\n",
       "\\end{enumerate*}\n",
       "\n",
       "\\end{description}\n",
       "\n",
       "\\item[\\$sp2] \\begin{description}\n",
       "\\item[\\$lat] 56\n",
       "\\item[\\$long] -120\n",
       "\\item[\\$pop] \\begin{enumerate*}\n",
       "\\item 1\n",
       "\\item 4\n",
       "\\item 7\n",
       "\\item 7\n",
       "\\item 2\n",
       "\\item 1\n",
       "\\item 2\n",
       "\\end{enumerate*}\n",
       "\n",
       "\\end{description}\n",
       "\n",
       "\\item[\\$sp3] \\begin{description}\n",
       "\\item[\\$lat] 32\n",
       "\\item[\\$long] -10\n",
       "\\item[\\$pop] \\begin{enumerate*}\n",
       "\\item 12\n",
       "\\item 11\n",
       "\\item 2\n",
       "\\item 1\n",
       "\\item 14\n",
       "\\end{enumerate*}\n",
       "\n",
       "\\end{description}\n",
       "\n",
       "\\end{description}\n"
      ],
      "text/markdown": [
       "$sp1\n",
       ":   $lat\n",
       ":   19\n",
       "$long\n",
       ":   57\n",
       "$pop\n",
       ":   1. 100\n",
       "2. 101\n",
       "3. 99\n",
       "\n",
       "\n",
       "\n",
       "\n",
       "\n",
       "\n",
       "$sp2\n",
       ":   $lat\n",
       ":   56\n",
       "$long\n",
       ":   -120\n",
       "$pop\n",
       ":   1. 1\n",
       "2. 4\n",
       "3. 7\n",
       "4. 7\n",
       "5. 2\n",
       "6. 1\n",
       "7. 2\n",
       "\n",
       "\n",
       "\n",
       "\n",
       "\n",
       "\n",
       "$sp3\n",
       ":   $lat\n",
       ":   32\n",
       "$long\n",
       ":   -10\n",
       "$pop\n",
       ":   1. 12\n",
       "2. 11\n",
       "3. 2\n",
       "4. 1\n",
       "5. 14\n",
       "\n",
       "\n",
       "\n",
       "\n",
       "\n",
       "\n",
       "\n",
       "\n"
      ],
      "text/plain": [
       "$sp1\n",
       "$sp1$lat\n",
       "[1] 19\n",
       "\n",
       "$sp1$long\n",
       "[1] 57\n",
       "\n",
       "$sp1$pop\n",
       "[1] 100 101  99\n",
       "\n",
       "\n",
       "$sp2\n",
       "$sp2$lat\n",
       "[1] 56\n",
       "\n",
       "$sp2$long\n",
       "[1] -120\n",
       "\n",
       "$sp2$pop\n",
       "[1] 1 4 7 7 2 1 2\n",
       "\n",
       "\n",
       "$sp3\n",
       "$sp3$lat\n",
       "[1] 32\n",
       "\n",
       "$sp3$long\n",
       "[1] -10\n",
       "\n",
       "$sp3$pop\n",
       "[1] 12 11  2  1 14\n",
       "\n"
      ]
     },
     "metadata": {},
     "output_type": "display_data"
    }
   ],
   "source": [
    "pop1<-list(lat=19,long=57,\n",
    "           pop=c(100,101,99))\n",
    "pop2<-list(lat=56,long=-120,\n",
    "           pop=c(1,4,7,7,2,1,2))\n",
    "pop3<-list(lat=32,long=-10,\n",
    "           pop=c(12,11,2,1,14))\n",
    "pops<-list(sp1=pop1,sp2=pop2,sp3=pop3)\n",
    "pops"
   ]
  },
  {
   "cell_type": "code",
   "execution_count": 70,
   "metadata": {
    "vscode": {
     "languageId": "r"
    }
   },
   "outputs": [
    {
     "data": {
      "text/html": [
       "<dl>\n",
       "\t<dt>$lat</dt>\n",
       "\t\t<dd>19</dd>\n",
       "\t<dt>$long</dt>\n",
       "\t\t<dd>57</dd>\n",
       "\t<dt>$pop</dt>\n",
       "\t\t<dd><style>\n",
       ".list-inline {list-style: none; margin:0; padding: 0}\n",
       ".list-inline>li {display: inline-block}\n",
       ".list-inline>li:not(:last-child)::after {content: \"\\00b7\"; padding: 0 .5ex}\n",
       "</style>\n",
       "<ol class=list-inline><li>100</li><li>101</li><li>99</li></ol>\n",
       "</dd>\n",
       "</dl>\n"
      ],
      "text/latex": [
       "\\begin{description}\n",
       "\\item[\\$lat] 19\n",
       "\\item[\\$long] 57\n",
       "\\item[\\$pop] \\begin{enumerate*}\n",
       "\\item 100\n",
       "\\item 101\n",
       "\\item 99\n",
       "\\end{enumerate*}\n",
       "\n",
       "\\end{description}\n"
      ],
      "text/markdown": [
       "$lat\n",
       ":   19\n",
       "$long\n",
       ":   57\n",
       "$pop\n",
       ":   1. 100\n",
       "2. 101\n",
       "3. 99\n",
       "\n",
       "\n",
       "\n",
       "\n",
       "\n"
      ],
      "text/plain": [
       "$lat\n",
       "[1] 19\n",
       "\n",
       "$long\n",
       "[1] 57\n",
       "\n",
       "$pop\n",
       "[1] 100 101  99\n"
      ]
     },
     "metadata": {},
     "output_type": "display_data"
    }
   ],
   "source": [
    "pops$sp1 # check out species 1"
   ]
  },
  {
   "cell_type": "code",
   "execution_count": 71,
   "metadata": {
    "vscode": {
     "languageId": "r"
    }
   },
   "outputs": [
    {
     "data": {
      "text/html": [
       "<strong>$pop</strong> = <style>\n",
       ".list-inline {list-style: none; margin:0; padding: 0}\n",
       ".list-inline>li {display: inline-block}\n",
       ".list-inline>li:not(:last-child)::after {content: \"\\00b7\"; padding: 0 .5ex}\n",
       "</style>\n",
       "<ol class=list-inline><li>100</li><li>101</li><li>99</li></ol>\n"
      ],
      "text/latex": [
       "\\textbf{\\$pop} = \\begin{enumerate*}\n",
       "\\item 100\n",
       "\\item 101\n",
       "\\item 99\n",
       "\\end{enumerate*}\n"
      ],
      "text/markdown": [
       "**$pop** = 1. 100\n",
       "2. 101\n",
       "3. 99\n",
       "\n",
       "\n"
      ],
      "text/plain": [
       "$pop\n",
       "[1] 100 101  99\n"
      ]
     },
     "metadata": {},
     "output_type": "display_data"
    }
   ],
   "source": [
    "pops$sp1[\"pop\"] # sp1's population sizes"
   ]
  },
  {
   "cell_type": "code",
   "execution_count": 72,
   "metadata": {
    "vscode": {
     "languageId": "r"
    }
   },
   "outputs": [
    {
     "data": {
      "text/html": [
       "56"
      ],
      "text/latex": [
       "56"
      ],
      "text/markdown": [
       "56"
      ],
      "text/plain": [
       "[1] 56"
      ]
     },
     "metadata": {},
     "output_type": "display_data"
    }
   ],
   "source": [
    "pops[[2]]$lat #latitude of second species"
   ]
  },
  {
   "cell_type": "code",
   "execution_count": 73,
   "metadata": {
    "vscode": {
     "languageId": "r"
    }
   },
   "outputs": [
    {
     "data": {
      "text/html": [
       "<dl>\n",
       "\t<dt>$sp1</dt>\n",
       "\t\t<dd><dl>\n",
       "\t<dt>$lat</dt>\n",
       "\t\t<dd>19</dd>\n",
       "\t<dt>$long</dt>\n",
       "\t\t<dd>57</dd>\n",
       "\t<dt>$pop</dt>\n",
       "\t\t<dd><style>\n",
       ".list-inline {list-style: none; margin:0; padding: 0}\n",
       ".list-inline>li {display: inline-block}\n",
       ".list-inline>li:not(:last-child)::after {content: \"\\00b7\"; padding: 0 .5ex}\n",
       "</style>\n",
       "<ol class=list-inline><li>100</li><li>101</li><li>99</li></ol>\n",
       "</dd>\n",
       "</dl>\n",
       "</dd>\n",
       "\t<dt>$sp2</dt>\n",
       "\t\t<dd><dl>\n",
       "\t<dt>$lat</dt>\n",
       "\t\t<dd>56</dd>\n",
       "\t<dt>$long</dt>\n",
       "\t\t<dd>-120</dd>\n",
       "\t<dt>$pop</dt>\n",
       "\t\t<dd><style>\n",
       ".list-inline {list-style: none; margin:0; padding: 0}\n",
       ".list-inline>li {display: inline-block}\n",
       ".list-inline>li:not(:last-child)::after {content: \"\\00b7\"; padding: 0 .5ex}\n",
       "</style>\n",
       "<ol class=list-inline><li>1</li><li>4</li><li>7</li><li>7</li><li>2</li><li>1</li><li>2</li></ol>\n",
       "</dd>\n",
       "</dl>\n",
       "</dd>\n",
       "\t<dt>$sp3</dt>\n",
       "\t\t<dd><dl>\n",
       "\t<dt>$lat</dt>\n",
       "\t\t<dd>32</dd>\n",
       "\t<dt>$long</dt>\n",
       "\t\t<dd>-10</dd>\n",
       "\t<dt>$pop</dt>\n",
       "\t\t<dd><style>\n",
       ".list-inline {list-style: none; margin:0; padding: 0}\n",
       ".list-inline>li {display: inline-block}\n",
       ".list-inline>li:not(:last-child)::after {content: \"\\00b7\"; padding: 0 .5ex}\n",
       "</style>\n",
       "<ol class=list-inline><li>12</li><li>11</li><li>102</li><li>1</li><li>14</li></ol>\n",
       "</dd>\n",
       "</dl>\n",
       "</dd>\n",
       "</dl>\n"
      ],
      "text/latex": [
       "\\begin{description}\n",
       "\\item[\\$sp1] \\begin{description}\n",
       "\\item[\\$lat] 19\n",
       "\\item[\\$long] 57\n",
       "\\item[\\$pop] \\begin{enumerate*}\n",
       "\\item 100\n",
       "\\item 101\n",
       "\\item 99\n",
       "\\end{enumerate*}\n",
       "\n",
       "\\end{description}\n",
       "\n",
       "\\item[\\$sp2] \\begin{description}\n",
       "\\item[\\$lat] 56\n",
       "\\item[\\$long] -120\n",
       "\\item[\\$pop] \\begin{enumerate*}\n",
       "\\item 1\n",
       "\\item 4\n",
       "\\item 7\n",
       "\\item 7\n",
       "\\item 2\n",
       "\\item 1\n",
       "\\item 2\n",
       "\\end{enumerate*}\n",
       "\n",
       "\\end{description}\n",
       "\n",
       "\\item[\\$sp3] \\begin{description}\n",
       "\\item[\\$lat] 32\n",
       "\\item[\\$long] -10\n",
       "\\item[\\$pop] \\begin{enumerate*}\n",
       "\\item 12\n",
       "\\item 11\n",
       "\\item 102\n",
       "\\item 1\n",
       "\\item 14\n",
       "\\end{enumerate*}\n",
       "\n",
       "\\end{description}\n",
       "\n",
       "\\end{description}\n"
      ],
      "text/markdown": [
       "$sp1\n",
       ":   $lat\n",
       ":   19\n",
       "$long\n",
       ":   57\n",
       "$pop\n",
       ":   1. 100\n",
       "2. 101\n",
       "3. 99\n",
       "\n",
       "\n",
       "\n",
       "\n",
       "\n",
       "\n",
       "$sp2\n",
       ":   $lat\n",
       ":   56\n",
       "$long\n",
       ":   -120\n",
       "$pop\n",
       ":   1. 1\n",
       "2. 4\n",
       "3. 7\n",
       "4. 7\n",
       "5. 2\n",
       "6. 1\n",
       "7. 2\n",
       "\n",
       "\n",
       "\n",
       "\n",
       "\n",
       "\n",
       "$sp3\n",
       ":   $lat\n",
       ":   32\n",
       "$long\n",
       ":   -10\n",
       "$pop\n",
       ":   1. 12\n",
       "2. 11\n",
       "3. 102\n",
       "4. 1\n",
       "5. 14\n",
       "\n",
       "\n",
       "\n",
       "\n",
       "\n",
       "\n",
       "\n",
       "\n"
      ],
      "text/plain": [
       "$sp1\n",
       "$sp1$lat\n",
       "[1] 19\n",
       "\n",
       "$sp1$long\n",
       "[1] 57\n",
       "\n",
       "$sp1$pop\n",
       "[1] 100 101  99\n",
       "\n",
       "\n",
       "$sp2\n",
       "$sp2$lat\n",
       "[1] 56\n",
       "\n",
       "$sp2$long\n",
       "[1] -120\n",
       "\n",
       "$sp2$pop\n",
       "[1] 1 4 7 7 2 1 2\n",
       "\n",
       "\n",
       "$sp3\n",
       "$sp3$lat\n",
       "[1] 32\n",
       "\n",
       "$sp3$long\n",
       "[1] -10\n",
       "\n",
       "$sp3$pop\n",
       "[1]  12  11 102   1  14\n",
       "\n"
      ]
     },
     "metadata": {},
     "output_type": "display_data"
    }
   ],
   "source": [
    "pops[[3]]$pop[3]<-102 #change population of third species at third time step\n",
    "pops"
   ]
  },
  {
   "cell_type": "markdown",
   "metadata": {},
   "source": [
    "### Data frames\n",
    "\n",
    "This is a very important data structure in R. Unlike matrices and vectors, R data frames can store data in which each column contains a different data type (e.g., numbers, strings, boolean) or even a combination of data types, just like a standard spreadsheet. Indeed, dataframes were built to emulate some of the convenient properties of spreadsheets. Many statistical and plotting functions and packages in R naturally use data frames. \n",
    "\n",
    "Let's build and manipulate a dataframe. First create three vectors:"
   ]
  },
  {
   "cell_type": "code",
   "execution_count": 74,
   "metadata": {
    "vscode": {
     "languageId": "r"
    }
   },
   "outputs": [
    {
     "data": {
      "text/html": [
       "<style>\n",
       ".list-inline {list-style: none; margin:0; padding: 0}\n",
       ".list-inline>li {display: inline-block}\n",
       ".list-inline>li:not(:last-child)::after {content: \"\\00b7\"; padding: 0 .5ex}\n",
       "</style>\n",
       "<ol class=list-inline><li>1</li><li>2</li><li>3</li><li>4</li><li>5</li><li>6</li><li>7</li><li>8</li><li>9</li><li>10</li></ol>\n"
      ],
      "text/latex": [
       "\\begin{enumerate*}\n",
       "\\item 1\n",
       "\\item 2\n",
       "\\item 3\n",
       "\\item 4\n",
       "\\item 5\n",
       "\\item 6\n",
       "\\item 7\n",
       "\\item 8\n",
       "\\item 9\n",
       "\\item 10\n",
       "\\end{enumerate*}\n"
      ],
      "text/markdown": [
       "1. 1\n",
       "2. 2\n",
       "3. 3\n",
       "4. 4\n",
       "5. 5\n",
       "6. 6\n",
       "7. 7\n",
       "8. 8\n",
       "9. 9\n",
       "10. 10\n",
       "\n",
       "\n"
      ],
      "text/plain": [
       " [1]  1  2  3  4  5  6  7  8  9 10"
      ]
     },
     "metadata": {},
     "output_type": "display_data"
    }
   ],
   "source": [
    "Col1 <- 1:10\n",
    "Col1"
   ]
  },
  {
   "cell_type": "code",
   "execution_count": 75,
   "metadata": {
    "vscode": {
     "languageId": "r"
    }
   },
   "outputs": [
    {
     "data": {
      "text/html": [
       "<style>\n",
       ".list-inline {list-style: none; margin:0; padding: 0}\n",
       ".list-inline>li {display: inline-block}\n",
       ".list-inline>li:not(:last-child)::after {content: \"\\00b7\"; padding: 0 .5ex}\n",
       "</style>\n",
       "<ol class=list-inline><li>'A'</li><li>'B'</li><li>'C'</li><li>'D'</li><li>'E'</li><li>'F'</li><li>'G'</li><li>'H'</li><li>'I'</li><li>'J'</li></ol>\n"
      ],
      "text/latex": [
       "\\begin{enumerate*}\n",
       "\\item 'A'\n",
       "\\item 'B'\n",
       "\\item 'C'\n",
       "\\item 'D'\n",
       "\\item 'E'\n",
       "\\item 'F'\n",
       "\\item 'G'\n",
       "\\item 'H'\n",
       "\\item 'I'\n",
       "\\item 'J'\n",
       "\\end{enumerate*}\n"
      ],
      "text/markdown": [
       "1. 'A'\n",
       "2. 'B'\n",
       "3. 'C'\n",
       "4. 'D'\n",
       "5. 'E'\n",
       "6. 'F'\n",
       "7. 'G'\n",
       "8. 'H'\n",
       "9. 'I'\n",
       "10. 'J'\n",
       "\n",
       "\n"
      ],
      "text/plain": [
       " [1] \"A\" \"B\" \"C\" \"D\" \"E\" \"F\" \"G\" \"H\" \"I\" \"J\""
      ]
     },
     "metadata": {},
     "output_type": "display_data"
    }
   ],
   "source": [
    "Col2 <- LETTERS[1:10]\n",
    "Col2"
   ]
  },
  {
   "cell_type": "code",
   "execution_count": 76,
   "metadata": {
    "vscode": {
     "languageId": "r"
    }
   },
   "outputs": [
    {
     "data": {
      "text/html": [
       "<style>\n",
       ".list-inline {list-style: none; margin:0; padding: 0}\n",
       ".list-inline>li {display: inline-block}\n",
       ".list-inline>li:not(:last-child)::after {content: \"\\00b7\"; padding: 0 .5ex}\n",
       "</style>\n",
       "<ol class=list-inline><li>0.15136086801067</li><li>0.829774264711887</li><li>0.0900429303292185</li><li>0.0866912161000073</li><li>0.128939677961171</li><li>0.147553071612492</li><li>0.255661034490913</li><li>0.664885697187856</li><li>0.618083282373846</li><li>0.306381017668173</li></ol>\n"
      ],
      "text/latex": [
       "\\begin{enumerate*}\n",
       "\\item 0.15136086801067\n",
       "\\item 0.829774264711887\n",
       "\\item 0.0900429303292185\n",
       "\\item 0.0866912161000073\n",
       "\\item 0.128939677961171\n",
       "\\item 0.147553071612492\n",
       "\\item 0.255661034490913\n",
       "\\item 0.664885697187856\n",
       "\\item 0.618083282373846\n",
       "\\item 0.306381017668173\n",
       "\\end{enumerate*}\n"
      ],
      "text/markdown": [
       "1. 0.15136086801067\n",
       "2. 0.829774264711887\n",
       "3. 0.0900429303292185\n",
       "4. 0.0866912161000073\n",
       "5. 0.128939677961171\n",
       "6. 0.147553071612492\n",
       "7. 0.255661034490913\n",
       "8. 0.664885697187856\n",
       "9. 0.618083282373846\n",
       "10. 0.306381017668173\n",
       "\n",
       "\n"
      ],
      "text/plain": [
       " [1] 0.15136087 0.82977426 0.09004293 0.08669122 0.12893968 0.14755307\n",
       " [7] 0.25566103 0.66488570 0.61808328 0.30638102"
      ]
     },
     "metadata": {},
     "output_type": "display_data"
    }
   ],
   "source": [
    "Col3 <- runif(10) # 10 random numbers from a uniform distribution\n",
    "Col3"
   ]
  },
  {
   "cell_type": "markdown",
   "metadata": {},
   "source": [
    "Now combine them into a dataframe:"
   ]
  },
  {
   "cell_type": "code",
   "execution_count": 77,
   "metadata": {
    "scrolled": true,
    "vscode": {
     "languageId": "r"
    }
   },
   "outputs": [
    {
     "data": {
      "text/html": [
       "<table>\n",
       "<caption>A data.frame: 10 × 3</caption>\n",
       "<thead>\n",
       "\t<tr><th scope=col>Col1</th><th scope=col>Col2</th><th scope=col>Col3</th></tr>\n",
       "\t<tr><th scope=col>&lt;int&gt;</th><th scope=col>&lt;chr&gt;</th><th scope=col>&lt;dbl&gt;</th></tr>\n",
       "</thead>\n",
       "<tbody>\n",
       "\t<tr><td> 1</td><td>A</td><td>0.15136087</td></tr>\n",
       "\t<tr><td> 2</td><td>B</td><td>0.82977426</td></tr>\n",
       "\t<tr><td> 3</td><td>C</td><td>0.09004293</td></tr>\n",
       "\t<tr><td> 4</td><td>D</td><td>0.08669122</td></tr>\n",
       "\t<tr><td> 5</td><td>E</td><td>0.12893968</td></tr>\n",
       "\t<tr><td> 6</td><td>F</td><td>0.14755307</td></tr>\n",
       "\t<tr><td> 7</td><td>G</td><td>0.25566103</td></tr>\n",
       "\t<tr><td> 8</td><td>H</td><td>0.66488570</td></tr>\n",
       "\t<tr><td> 9</td><td>I</td><td>0.61808328</td></tr>\n",
       "\t<tr><td>10</td><td>J</td><td>0.30638102</td></tr>\n",
       "</tbody>\n",
       "</table>\n"
      ],
      "text/latex": [
       "A data.frame: 10 × 3\n",
       "\\begin{tabular}{lll}\n",
       " Col1 & Col2 & Col3\\\\\n",
       " <int> & <chr> & <dbl>\\\\\n",
       "\\hline\n",
       "\t  1 & A & 0.15136087\\\\\n",
       "\t  2 & B & 0.82977426\\\\\n",
       "\t  3 & C & 0.09004293\\\\\n",
       "\t  4 & D & 0.08669122\\\\\n",
       "\t  5 & E & 0.12893968\\\\\n",
       "\t  6 & F & 0.14755307\\\\\n",
       "\t  7 & G & 0.25566103\\\\\n",
       "\t  8 & H & 0.66488570\\\\\n",
       "\t  9 & I & 0.61808328\\\\\n",
       "\t 10 & J & 0.30638102\\\\\n",
       "\\end{tabular}\n"
      ],
      "text/markdown": [
       "\n",
       "A data.frame: 10 × 3\n",
       "\n",
       "| Col1 &lt;int&gt; | Col2 &lt;chr&gt; | Col3 &lt;dbl&gt; |\n",
       "|---|---|---|\n",
       "|  1 | A | 0.15136087 |\n",
       "|  2 | B | 0.82977426 |\n",
       "|  3 | C | 0.09004293 |\n",
       "|  4 | D | 0.08669122 |\n",
       "|  5 | E | 0.12893968 |\n",
       "|  6 | F | 0.14755307 |\n",
       "|  7 | G | 0.25566103 |\n",
       "|  8 | H | 0.66488570 |\n",
       "|  9 | I | 0.61808328 |\n",
       "| 10 | J | 0.30638102 |\n",
       "\n"
      ],
      "text/plain": [
       "   Col1 Col2 Col3      \n",
       "1   1   A    0.15136087\n",
       "2   2   B    0.82977426\n",
       "3   3   C    0.09004293\n",
       "4   4   D    0.08669122\n",
       "5   5   E    0.12893968\n",
       "6   6   F    0.14755307\n",
       "7   7   G    0.25566103\n",
       "8   8   H    0.66488570\n",
       "9   9   I    0.61808328\n",
       "10 10   J    0.30638102"
      ]
     },
     "metadata": {},
     "output_type": "display_data"
    }
   ],
   "source": [
    "MyDF <- data.frame(Col1, Col2, Col3)\n",
    "MyDF"
   ]
  },
  {
   "cell_type": "markdown",
   "metadata": {},
   "source": [
    "Again, this output looks different from your terminal/console output because these commands are running in a Jupyter notebook.\n",
    "\n",
    "Your output will look like this:"
   ]
  },
  {
   "cell_type": "code",
   "execution_count": 78,
   "metadata": {
    "scrolled": true,
    "vscode": {
     "languageId": "r"
    }
   },
   "outputs": [
    {
     "name": "stdout",
     "output_type": "stream",
     "text": [
      "   Col1 Col2       Col3\n",
      "1     1    A 0.15136087\n",
      "2     2    B 0.82977426\n",
      "3     3    C 0.09004293\n",
      "4     4    D 0.08669122\n",
      "5     5    E 0.12893968\n",
      "6     6    F 0.14755307\n",
      "7     7    G 0.25566103\n",
      "8     8    H 0.66488570\n",
      "9     9    I 0.61808328\n",
      "10   10    J 0.30638102\n"
     ]
    }
   ],
   "source": [
    "print(MyDF)"
   ]
  },
  {
   "cell_type": "markdown",
   "metadata": {},
   "source": [
    "```{note}\n",
    "Maybe you have guessed by now that R dataframes are actually a kind of list. That is, a R dataframe is in fact a `list` of equal-length `vector`s (a “rectangular” list).\n",
    "```"
   ]
  },
  {
   "cell_type": "markdown",
   "metadata": {},
   "source": [
    "You can easily assign names to the columns of dataframes:"
   ]
  },
  {
   "cell_type": "code",
   "execution_count": 79,
   "metadata": {
    "vscode": {
     "languageId": "r"
    }
   },
   "outputs": [
    {
     "data": {
      "text/html": [
       "<table>\n",
       "<caption>A data.frame: 10 × 3</caption>\n",
       "<thead>\n",
       "\t<tr><th scope=col>MyFirstColumn</th><th scope=col>My Second Column</th><th scope=col>My.Third.Column</th></tr>\n",
       "\t<tr><th scope=col>&lt;int&gt;</th><th scope=col>&lt;chr&gt;</th><th scope=col>&lt;dbl&gt;</th></tr>\n",
       "</thead>\n",
       "<tbody>\n",
       "\t<tr><td> 1</td><td>A</td><td>0.15136087</td></tr>\n",
       "\t<tr><td> 2</td><td>B</td><td>0.82977426</td></tr>\n",
       "\t<tr><td> 3</td><td>C</td><td>0.09004293</td></tr>\n",
       "\t<tr><td> 4</td><td>D</td><td>0.08669122</td></tr>\n",
       "\t<tr><td> 5</td><td>E</td><td>0.12893968</td></tr>\n",
       "\t<tr><td> 6</td><td>F</td><td>0.14755307</td></tr>\n",
       "\t<tr><td> 7</td><td>G</td><td>0.25566103</td></tr>\n",
       "\t<tr><td> 8</td><td>H</td><td>0.66488570</td></tr>\n",
       "\t<tr><td> 9</td><td>I</td><td>0.61808328</td></tr>\n",
       "\t<tr><td>10</td><td>J</td><td>0.30638102</td></tr>\n",
       "</tbody>\n",
       "</table>\n"
      ],
      "text/latex": [
       "A data.frame: 10 × 3\n",
       "\\begin{tabular}{lll}\n",
       " MyFirstColumn & My Second Column & My.Third.Column\\\\\n",
       " <int> & <chr> & <dbl>\\\\\n",
       "\\hline\n",
       "\t  1 & A & 0.15136087\\\\\n",
       "\t  2 & B & 0.82977426\\\\\n",
       "\t  3 & C & 0.09004293\\\\\n",
       "\t  4 & D & 0.08669122\\\\\n",
       "\t  5 & E & 0.12893968\\\\\n",
       "\t  6 & F & 0.14755307\\\\\n",
       "\t  7 & G & 0.25566103\\\\\n",
       "\t  8 & H & 0.66488570\\\\\n",
       "\t  9 & I & 0.61808328\\\\\n",
       "\t 10 & J & 0.30638102\\\\\n",
       "\\end{tabular}\n"
      ],
      "text/markdown": [
       "\n",
       "A data.frame: 10 × 3\n",
       "\n",
       "| MyFirstColumn &lt;int&gt; | My Second Column &lt;chr&gt; | My.Third.Column &lt;dbl&gt; |\n",
       "|---|---|---|\n",
       "|  1 | A | 0.15136087 |\n",
       "|  2 | B | 0.82977426 |\n",
       "|  3 | C | 0.09004293 |\n",
       "|  4 | D | 0.08669122 |\n",
       "|  5 | E | 0.12893968 |\n",
       "|  6 | F | 0.14755307 |\n",
       "|  7 | G | 0.25566103 |\n",
       "|  8 | H | 0.66488570 |\n",
       "|  9 | I | 0.61808328 |\n",
       "| 10 | J | 0.30638102 |\n",
       "\n"
      ],
      "text/plain": [
       "   MyFirstColumn My Second Column My.Third.Column\n",
       "1   1            A                0.15136087     \n",
       "2   2            B                0.82977426     \n",
       "3   3            C                0.09004293     \n",
       "4   4            D                0.08669122     \n",
       "5   5            E                0.12893968     \n",
       "6   6            F                0.14755307     \n",
       "7   7            G                0.25566103     \n",
       "8   8            H                0.66488570     \n",
       "9   9            I                0.61808328     \n",
       "10 10            J                0.30638102     "
      ]
     },
     "metadata": {},
     "output_type": "display_data"
    }
   ],
   "source": [
    "names(MyDF) <- c(\"MyFirstColumn\", \"My Second Column\", \"My.Third.Column\")\n",
    "MyDF"
   ]
  },
  {
   "cell_type": "markdown",
   "metadata": {},
   "source": [
    "And unlike matrices, you can access the contents of data frames by naming the columns directly using a $ sign:"
   ]
  },
  {
   "cell_type": "code",
   "execution_count": 80,
   "metadata": {
    "vscode": {
     "languageId": "r"
    }
   },
   "outputs": [
    {
     "data": {
      "text/html": [
       "<style>\n",
       ".list-inline {list-style: none; margin:0; padding: 0}\n",
       ".list-inline>li {display: inline-block}\n",
       ".list-inline>li:not(:last-child)::after {content: \"\\00b7\"; padding: 0 .5ex}\n",
       "</style>\n",
       "<ol class=list-inline><li>1</li><li>2</li><li>3</li><li>4</li><li>5</li><li>6</li><li>7</li><li>8</li><li>9</li><li>10</li></ol>\n"
      ],
      "text/latex": [
       "\\begin{enumerate*}\n",
       "\\item 1\n",
       "\\item 2\n",
       "\\item 3\n",
       "\\item 4\n",
       "\\item 5\n",
       "\\item 6\n",
       "\\item 7\n",
       "\\item 8\n",
       "\\item 9\n",
       "\\item 10\n",
       "\\end{enumerate*}\n"
      ],
      "text/markdown": [
       "1. 1\n",
       "2. 2\n",
       "3. 3\n",
       "4. 4\n",
       "5. 5\n",
       "6. 6\n",
       "7. 7\n",
       "8. 8\n",
       "9. 9\n",
       "10. 10\n",
       "\n",
       "\n"
      ],
      "text/plain": [
       " [1]  1  2  3  4  5  6  7  8  9 10"
      ]
     },
     "metadata": {},
     "output_type": "display_data"
    }
   ],
   "source": [
    "MyDF$MyFirstColumn"
   ]
  },
  {
   "cell_type": "markdown",
   "metadata": {},
   "source": [
    "But don't use spaces in column names! Try this: "
   ]
  },
  {
   "cell_type": "code",
   "execution_count": 81,
   "metadata": {
    "scrolled": true,
    "vscode": {
     "languageId": "r"
    }
   },
   "outputs": [
    {
     "ename": "ERROR",
     "evalue": "Error in parse(text = x, srcfile = src): <text>:1:9: unexpected symbol\n1: MyDF$My Second\n            ^\n",
     "output_type": "error",
     "traceback": [
      "Error in parse(text = x, srcfile = src): <text>:1:9: unexpected symbol\n1: MyDF$My Second\n            ^\nTraceback:\n"
     ]
    }
   ],
   "source": [
    "MyDF$My Second Column"
   ]
  },
  {
   "cell_type": "markdown",
   "metadata": {},
   "source": [
    "That gives an error, because R cannot handle spaces in column names easily. \n",
    "\n",
    "So replace that column name using the `colnames` function:"
   ]
  },
  {
   "cell_type": "code",
   "execution_count": null,
   "metadata": {
    "scrolled": true,
    "vscode": {
     "languageId": "r"
    }
   },
   "outputs": [],
   "source": [
    "colnames(MyDF)"
   ]
  },
  {
   "cell_type": "code",
   "execution_count": null,
   "metadata": {
    "vscode": {
     "languageId": "r"
    }
   },
   "outputs": [],
   "source": [
    "colnames(MyDF)[2] <- \"MySecondColumn\"\n",
    "MyDF"
   ]
  },
  {
   "cell_type": "markdown",
   "metadata": {},
   "source": [
    "But using dots in column names is OK (just as it is for variable names): "
   ]
  },
  {
   "cell_type": "code",
   "execution_count": null,
   "metadata": {
    "vscode": {
     "languageId": "r"
    }
   },
   "outputs": [],
   "source": [
    "MyDF$My.Third.Column"
   ]
  },
  {
   "cell_type": "markdown",
   "metadata": {},
   "source": [
    "You can also access elements by using numerical indexing:   "
   ]
  },
  {
   "cell_type": "code",
   "execution_count": 82,
   "metadata": {
    "vscode": {
     "languageId": "r"
    }
   },
   "outputs": [
    {
     "data": {
      "text/html": [
       "<style>\n",
       ".list-inline {list-style: none; margin:0; padding: 0}\n",
       ".list-inline>li {display: inline-block}\n",
       ".list-inline>li:not(:last-child)::after {content: \"\\00b7\"; padding: 0 .5ex}\n",
       "</style>\n",
       "<ol class=list-inline><li>1</li><li>2</li><li>3</li><li>4</li><li>5</li><li>6</li><li>7</li><li>8</li><li>9</li><li>10</li></ol>\n"
      ],
      "text/latex": [
       "\\begin{enumerate*}\n",
       "\\item 1\n",
       "\\item 2\n",
       "\\item 3\n",
       "\\item 4\n",
       "\\item 5\n",
       "\\item 6\n",
       "\\item 7\n",
       "\\item 8\n",
       "\\item 9\n",
       "\\item 10\n",
       "\\end{enumerate*}\n"
      ],
      "text/markdown": [
       "1. 1\n",
       "2. 2\n",
       "3. 3\n",
       "4. 4\n",
       "5. 5\n",
       "6. 6\n",
       "7. 7\n",
       "8. 8\n",
       "9. 9\n",
       "10. 10\n",
       "\n",
       "\n"
      ],
      "text/plain": [
       " [1]  1  2  3  4  5  6  7  8  9 10"
      ]
     },
     "metadata": {},
     "output_type": "display_data"
    }
   ],
   "source": [
    "MyDF[,1]"
   ]
  },
  {
   "cell_type": "markdown",
   "metadata": {},
   "source": [
    "That is, you asked R to return values of `MyDF` in all Rows (therefore, nothing before the comma), and the first column (`1` after the comma)."
   ]
  },
  {
   "cell_type": "code",
   "execution_count": 83,
   "metadata": {
    "vscode": {
     "languageId": "r"
    }
   },
   "outputs": [
    {
     "data": {
      "text/html": [
       "1"
      ],
      "text/latex": [
       "1"
      ],
      "text/markdown": [
       "1"
      ],
      "text/plain": [
       "[1] 1"
      ]
     },
     "metadata": {},
     "output_type": "display_data"
    }
   ],
   "source": [
    "MyDF[1,1]"
   ]
  },
  {
   "cell_type": "code",
   "execution_count": 84,
   "metadata": {
    "vscode": {
     "languageId": "r"
    }
   },
   "outputs": [
    {
     "data": {
      "text/html": [
       "<table>\n",
       "<caption>A data.frame: 10 × 2</caption>\n",
       "<thead>\n",
       "\t<tr><th scope=col>MyFirstColumn</th><th scope=col>My.Third.Column</th></tr>\n",
       "\t<tr><th scope=col>&lt;int&gt;</th><th scope=col>&lt;dbl&gt;</th></tr>\n",
       "</thead>\n",
       "<tbody>\n",
       "\t<tr><td> 1</td><td>0.15136087</td></tr>\n",
       "\t<tr><td> 2</td><td>0.82977426</td></tr>\n",
       "\t<tr><td> 3</td><td>0.09004293</td></tr>\n",
       "\t<tr><td> 4</td><td>0.08669122</td></tr>\n",
       "\t<tr><td> 5</td><td>0.12893968</td></tr>\n",
       "\t<tr><td> 6</td><td>0.14755307</td></tr>\n",
       "\t<tr><td> 7</td><td>0.25566103</td></tr>\n",
       "\t<tr><td> 8</td><td>0.66488570</td></tr>\n",
       "\t<tr><td> 9</td><td>0.61808328</td></tr>\n",
       "\t<tr><td>10</td><td>0.30638102</td></tr>\n",
       "</tbody>\n",
       "</table>\n"
      ],
      "text/latex": [
       "A data.frame: 10 × 2\n",
       "\\begin{tabular}{ll}\n",
       " MyFirstColumn & My.Third.Column\\\\\n",
       " <int> & <dbl>\\\\\n",
       "\\hline\n",
       "\t  1 & 0.15136087\\\\\n",
       "\t  2 & 0.82977426\\\\\n",
       "\t  3 & 0.09004293\\\\\n",
       "\t  4 & 0.08669122\\\\\n",
       "\t  5 & 0.12893968\\\\\n",
       "\t  6 & 0.14755307\\\\\n",
       "\t  7 & 0.25566103\\\\\n",
       "\t  8 & 0.66488570\\\\\n",
       "\t  9 & 0.61808328\\\\\n",
       "\t 10 & 0.30638102\\\\\n",
       "\\end{tabular}\n"
      ],
      "text/markdown": [
       "\n",
       "A data.frame: 10 × 2\n",
       "\n",
       "| MyFirstColumn &lt;int&gt; | My.Third.Column &lt;dbl&gt; |\n",
       "|---|---|\n",
       "|  1 | 0.15136087 |\n",
       "|  2 | 0.82977426 |\n",
       "|  3 | 0.09004293 |\n",
       "|  4 | 0.08669122 |\n",
       "|  5 | 0.12893968 |\n",
       "|  6 | 0.14755307 |\n",
       "|  7 | 0.25566103 |\n",
       "|  8 | 0.66488570 |\n",
       "|  9 | 0.61808328 |\n",
       "| 10 | 0.30638102 |\n",
       "\n"
      ],
      "text/plain": [
       "   MyFirstColumn My.Third.Column\n",
       "1   1            0.15136087     \n",
       "2   2            0.82977426     \n",
       "3   3            0.09004293     \n",
       "4   4            0.08669122     \n",
       "5   5            0.12893968     \n",
       "6   6            0.14755307     \n",
       "7   7            0.25566103     \n",
       "8   8            0.66488570     \n",
       "9   9            0.61808328     \n",
       "10 10            0.30638102     "
      ]
     },
     "metadata": {},
     "output_type": "display_data"
    }
   ],
   "source": [
    "MyDF[c(\"MyFirstColumn\",\"My.Third.Column\")] # show two specific columns only"
   ]
  },
  {
   "cell_type": "markdown",
   "metadata": {},
   "source": [
    "You can check whether a particular object is a dataframe data structure with:"
   ]
  },
  {
   "cell_type": "code",
   "execution_count": 85,
   "metadata": {
    "scrolled": true,
    "vscode": {
     "languageId": "r"
    }
   },
   "outputs": [
    {
     "data": {
      "text/html": [
       "'data.frame'"
      ],
      "text/latex": [
       "'data.frame'"
      ],
      "text/markdown": [
       "'data.frame'"
      ],
      "text/plain": [
       "[1] \"data.frame\""
      ]
     },
     "metadata": {},
     "output_type": "display_data"
    }
   ],
   "source": [
    "class(MyDF)"
   ]
  },
  {
   "cell_type": "markdown",
   "metadata": {},
   "source": [
    "You can check the structure of a dataframe with `str()`:"
   ]
  },
  {
   "cell_type": "code",
   "execution_count": 86,
   "metadata": {
    "vscode": {
     "languageId": "r"
    }
   },
   "outputs": [
    {
     "name": "stdout",
     "output_type": "stream",
     "text": [
      "'data.frame':\t10 obs. of  3 variables:\n",
      " $ MyFirstColumn   : int  1 2 3 4 5 6 7 8 9 10\n",
      " $ My Second Column: chr  \"A\" \"B\" \"C\" \"D\" ...\n",
      " $ My.Third.Column : num  0.1514 0.8298 0.09 0.0867 0.1289 ...\n"
     ]
    }
   ],
   "source": [
    "str(MyDF)"
   ]
  },
  {
   "cell_type": "markdown",
   "metadata": {},
   "source": [
    "You can print the column names and top few rows with `head()`:"
   ]
  },
  {
   "cell_type": "code",
   "execution_count": 87,
   "metadata": {
    "vscode": {
     "languageId": "r"
    }
   },
   "outputs": [
    {
     "data": {
      "text/html": [
       "<table>\n",
       "<caption>A data.frame: 6 × 3</caption>\n",
       "<thead>\n",
       "\t<tr><th></th><th scope=col>MyFirstColumn</th><th scope=col>My Second Column</th><th scope=col>My.Third.Column</th></tr>\n",
       "\t<tr><th></th><th scope=col>&lt;int&gt;</th><th scope=col>&lt;chr&gt;</th><th scope=col>&lt;dbl&gt;</th></tr>\n",
       "</thead>\n",
       "<tbody>\n",
       "\t<tr><th scope=row>1</th><td>1</td><td>A</td><td>0.15136087</td></tr>\n",
       "\t<tr><th scope=row>2</th><td>2</td><td>B</td><td>0.82977426</td></tr>\n",
       "\t<tr><th scope=row>3</th><td>3</td><td>C</td><td>0.09004293</td></tr>\n",
       "\t<tr><th scope=row>4</th><td>4</td><td>D</td><td>0.08669122</td></tr>\n",
       "\t<tr><th scope=row>5</th><td>5</td><td>E</td><td>0.12893968</td></tr>\n",
       "\t<tr><th scope=row>6</th><td>6</td><td>F</td><td>0.14755307</td></tr>\n",
       "</tbody>\n",
       "</table>\n"
      ],
      "text/latex": [
       "A data.frame: 6 × 3\n",
       "\\begin{tabular}{r|lll}\n",
       "  & MyFirstColumn & My Second Column & My.Third.Column\\\\\n",
       "  & <int> & <chr> & <dbl>\\\\\n",
       "\\hline\n",
       "\t1 & 1 & A & 0.15136087\\\\\n",
       "\t2 & 2 & B & 0.82977426\\\\\n",
       "\t3 & 3 & C & 0.09004293\\\\\n",
       "\t4 & 4 & D & 0.08669122\\\\\n",
       "\t5 & 5 & E & 0.12893968\\\\\n",
       "\t6 & 6 & F & 0.14755307\\\\\n",
       "\\end{tabular}\n"
      ],
      "text/markdown": [
       "\n",
       "A data.frame: 6 × 3\n",
       "\n",
       "| <!--/--> | MyFirstColumn &lt;int&gt; | My Second Column &lt;chr&gt; | My.Third.Column &lt;dbl&gt; |\n",
       "|---|---|---|---|\n",
       "| 1 | 1 | A | 0.15136087 |\n",
       "| 2 | 2 | B | 0.82977426 |\n",
       "| 3 | 3 | C | 0.09004293 |\n",
       "| 4 | 4 | D | 0.08669122 |\n",
       "| 5 | 5 | E | 0.12893968 |\n",
       "| 6 | 6 | F | 0.14755307 |\n",
       "\n"
      ],
      "text/plain": [
       "  MyFirstColumn My Second Column My.Third.Column\n",
       "1 1             A                0.15136087     \n",
       "2 2             B                0.82977426     \n",
       "3 3             C                0.09004293     \n",
       "4 4             D                0.08669122     \n",
       "5 5             E                0.12893968     \n",
       "6 6             F                0.14755307     "
      ]
     },
     "metadata": {},
     "output_type": "display_data"
    }
   ],
   "source": [
    "head(MyDF)"
   ]
  },
  {
   "cell_type": "markdown",
   "metadata": {},
   "source": [
    "And the bottom few rows with `tail()`:"
   ]
  },
  {
   "cell_type": "code",
   "execution_count": 88,
   "metadata": {
    "vscode": {
     "languageId": "r"
    }
   },
   "outputs": [
    {
     "data": {
      "text/html": [
       "<table>\n",
       "<caption>A data.frame: 6 × 3</caption>\n",
       "<thead>\n",
       "\t<tr><th></th><th scope=col>MyFirstColumn</th><th scope=col>My Second Column</th><th scope=col>My.Third.Column</th></tr>\n",
       "\t<tr><th></th><th scope=col>&lt;int&gt;</th><th scope=col>&lt;chr&gt;</th><th scope=col>&lt;dbl&gt;</th></tr>\n",
       "</thead>\n",
       "<tbody>\n",
       "\t<tr><th scope=row>5</th><td> 5</td><td>E</td><td>0.1289397</td></tr>\n",
       "\t<tr><th scope=row>6</th><td> 6</td><td>F</td><td>0.1475531</td></tr>\n",
       "\t<tr><th scope=row>7</th><td> 7</td><td>G</td><td>0.2556610</td></tr>\n",
       "\t<tr><th scope=row>8</th><td> 8</td><td>H</td><td>0.6648857</td></tr>\n",
       "\t<tr><th scope=row>9</th><td> 9</td><td>I</td><td>0.6180833</td></tr>\n",
       "\t<tr><th scope=row>10</th><td>10</td><td>J</td><td>0.3063810</td></tr>\n",
       "</tbody>\n",
       "</table>\n"
      ],
      "text/latex": [
       "A data.frame: 6 × 3\n",
       "\\begin{tabular}{r|lll}\n",
       "  & MyFirstColumn & My Second Column & My.Third.Column\\\\\n",
       "  & <int> & <chr> & <dbl>\\\\\n",
       "\\hline\n",
       "\t5 &  5 & E & 0.1289397\\\\\n",
       "\t6 &  6 & F & 0.1475531\\\\\n",
       "\t7 &  7 & G & 0.2556610\\\\\n",
       "\t8 &  8 & H & 0.6648857\\\\\n",
       "\t9 &  9 & I & 0.6180833\\\\\n",
       "\t10 & 10 & J & 0.3063810\\\\\n",
       "\\end{tabular}\n"
      ],
      "text/markdown": [
       "\n",
       "A data.frame: 6 × 3\n",
       "\n",
       "| <!--/--> | MyFirstColumn &lt;int&gt; | My Second Column &lt;chr&gt; | My.Third.Column &lt;dbl&gt; |\n",
       "|---|---|---|---|\n",
       "| 5 |  5 | E | 0.1289397 |\n",
       "| 6 |  6 | F | 0.1475531 |\n",
       "| 7 |  7 | G | 0.2556610 |\n",
       "| 8 |  8 | H | 0.6648857 |\n",
       "| 9 |  9 | I | 0.6180833 |\n",
       "| 10 | 10 | J | 0.3063810 |\n",
       "\n"
      ],
      "text/plain": [
       "   MyFirstColumn My Second Column My.Third.Column\n",
       "5   5            E                0.1289397      \n",
       "6   6            F                0.1475531      \n",
       "7   7            G                0.2556610      \n",
       "8   8            H                0.6648857      \n",
       "9   9            I                0.6180833      \n",
       "10 10            J                0.3063810      "
      ]
     },
     "metadata": {},
     "output_type": "display_data"
    }
   ],
   "source": [
    "tail(MyDF)"
   ]
  },
  {
   "cell_type": "markdown",
   "metadata": {},
   "source": [
    "```{note}\n",
    "**The Factor data type**: R has a special data type called \"factor\". Different values in this data type are called \"levels\". This data type is used to identify \"grouping variables\" such as columns in a dataframe that contain  experimental treatments. This is convenient for statistical analyses using one of the many plotting and statistical commands or routines available in R, which have been written to interpret the `factor` data type as such and use it to automatically compare subgroups in the data. More on this later, when we delve into analyses (including visualization) in R. \n",
    "```"
   ]
  },
  {
   "cell_type": "markdown",
   "metadata": {},
   "source": [
    "\n",
    "### Matrix vs Dataframe\n",
    "\n",
    "If dataframes are so nice, why use R matrices at all? The problem is that dataframes can be too slow when large numbers of mathematical calculations or operations (e.g., matrix - vector multiplications or other linear algebra operations) need to be performed. In such cases, you will need to convert a dataframe to a matrix. But for statistical analyses, plotting, and writing output of standard R analyses to a file, data frames are more convenient. Dataframes also allow you to refer to columns by name (using `$`), which is often convenient.\n",
    "\n",
    "To see the difference in memory usage of matrices vs dataframes, try this:"
   ]
  },
  {
   "cell_type": "code",
   "execution_count": 89,
   "metadata": {
    "scrolled": true,
    "vscode": {
     "languageId": "r"
    }
   },
   "outputs": [
    {
     "data": {
      "text/html": [
       "<table>\n",
       "<caption>A matrix: 4 × 4 of type int</caption>\n",
       "<tbody>\n",
       "\t<tr><td>1</td><td>5</td><td>1</td><td>5</td></tr>\n",
       "\t<tr><td>2</td><td>6</td><td>2</td><td>6</td></tr>\n",
       "\t<tr><td>3</td><td>7</td><td>3</td><td>7</td></tr>\n",
       "\t<tr><td>4</td><td>8</td><td>4</td><td>8</td></tr>\n",
       "</tbody>\n",
       "</table>\n"
      ],
      "text/latex": [
       "A matrix: 4 × 4 of type int\n",
       "\\begin{tabular}{llll}\n",
       "\t 1 & 5 & 1 & 5\\\\\n",
       "\t 2 & 6 & 2 & 6\\\\\n",
       "\t 3 & 7 & 3 & 7\\\\\n",
       "\t 4 & 8 & 4 & 8\\\\\n",
       "\\end{tabular}\n"
      ],
      "text/markdown": [
       "\n",
       "A matrix: 4 × 4 of type int\n",
       "\n",
       "| 1 | 5 | 1 | 5 |\n",
       "| 2 | 6 | 2 | 6 |\n",
       "| 3 | 7 | 3 | 7 |\n",
       "| 4 | 8 | 4 | 8 |\n",
       "\n"
      ],
      "text/plain": [
       "     [,1] [,2] [,3] [,4]\n",
       "[1,] 1    5    1    5   \n",
       "[2,] 2    6    2    6   \n",
       "[3,] 3    7    3    7   \n",
       "[4,] 4    8    4    8   "
      ]
     },
     "metadata": {},
     "output_type": "display_data"
    }
   ],
   "source": [
    "MyMat = matrix(1:8, 4, 4)\n",
    "MyMat"
   ]
  },
  {
   "cell_type": "code",
   "execution_count": 90,
   "metadata": {
    "vscode": {
     "languageId": "r"
    }
   },
   "outputs": [
    {
     "data": {
      "text/html": [
       "<table>\n",
       "<caption>A data.frame: 4 × 4</caption>\n",
       "<thead>\n",
       "\t<tr><th scope=col>V1</th><th scope=col>V2</th><th scope=col>V3</th><th scope=col>V4</th></tr>\n",
       "\t<tr><th scope=col>&lt;int&gt;</th><th scope=col>&lt;int&gt;</th><th scope=col>&lt;int&gt;</th><th scope=col>&lt;int&gt;</th></tr>\n",
       "</thead>\n",
       "<tbody>\n",
       "\t<tr><td>1</td><td>5</td><td>1</td><td>5</td></tr>\n",
       "\t<tr><td>2</td><td>6</td><td>2</td><td>6</td></tr>\n",
       "\t<tr><td>3</td><td>7</td><td>3</td><td>7</td></tr>\n",
       "\t<tr><td>4</td><td>8</td><td>4</td><td>8</td></tr>\n",
       "</tbody>\n",
       "</table>\n"
      ],
      "text/latex": [
       "A data.frame: 4 × 4\n",
       "\\begin{tabular}{llll}\n",
       " V1 & V2 & V3 & V4\\\\\n",
       " <int> & <int> & <int> & <int>\\\\\n",
       "\\hline\n",
       "\t 1 & 5 & 1 & 5\\\\\n",
       "\t 2 & 6 & 2 & 6\\\\\n",
       "\t 3 & 7 & 3 & 7\\\\\n",
       "\t 4 & 8 & 4 & 8\\\\\n",
       "\\end{tabular}\n"
      ],
      "text/markdown": [
       "\n",
       "A data.frame: 4 × 4\n",
       "\n",
       "| V1 &lt;int&gt; | V2 &lt;int&gt; | V3 &lt;int&gt; | V4 &lt;int&gt; |\n",
       "|---|---|---|---|\n",
       "| 1 | 5 | 1 | 5 |\n",
       "| 2 | 6 | 2 | 6 |\n",
       "| 3 | 7 | 3 | 7 |\n",
       "| 4 | 8 | 4 | 8 |\n",
       "\n"
      ],
      "text/plain": [
       "  V1 V2 V3 V4\n",
       "1 1  5  1  5 \n",
       "2 2  6  2  6 \n",
       "3 3  7  3  7 \n",
       "4 4  8  4  8 "
      ]
     },
     "metadata": {},
     "output_type": "display_data"
    }
   ],
   "source": [
    "MyDF = as.data.frame(MyMat)\n",
    "MyDF"
   ]
  },
  {
   "cell_type": "code",
   "execution_count": 91,
   "metadata": {
    "vscode": {
     "languageId": "r"
    }
   },
   "outputs": [
    {
     "data": {
      "text/plain": [
       "280 bytes"
      ]
     },
     "metadata": {},
     "output_type": "display_data"
    }
   ],
   "source": [
    "object.size(MyMat) # returns size of an R object (variable) in bytes"
   ]
  },
  {
   "cell_type": "code",
   "execution_count": 92,
   "metadata": {
    "scrolled": true,
    "vscode": {
     "languageId": "r"
    }
   },
   "outputs": [
    {
     "data": {
      "text/plain": [
       "1152 bytes"
      ]
     },
     "metadata": {},
     "output_type": "display_data"
    }
   ],
   "source": [
    "object.size(MyDF)"
   ]
  },
  {
   "cell_type": "markdown",
   "metadata": {},
   "source": [
    "Quite a big difference!"
   ]
  },
  {
   "cell_type": "markdown",
   "metadata": {},
   "source": [
    "## Creating and manipulating data\n",
    "\n",
    "(R-creating-sequences)=\n",
    "### Creating sequences\n",
    "\n",
    "The `:` operator creates vectors of sequential integers:"
   ]
  },
  {
   "cell_type": "code",
   "execution_count": 93,
   "metadata": {
    "vscode": {
     "languageId": "r"
    }
   },
   "outputs": [
    {
     "data": {
      "text/html": [
       "<style>\n",
       ".list-inline {list-style: none; margin:0; padding: 0}\n",
       ".list-inline>li {display: inline-block}\n",
       ".list-inline>li:not(:last-child)::after {content: \"\\00b7\"; padding: 0 .5ex}\n",
       "</style>\n",
       "<ol class=list-inline><li>1990</li><li>1991</li><li>1992</li><li>1993</li><li>1994</li><li>1995</li><li>1996</li><li>1997</li><li>1998</li><li>1999</li><li>2000</li><li>2001</li><li>2002</li><li>2003</li><li>2004</li><li>2005</li><li>2006</li><li>2007</li><li>2008</li><li>2009</li></ol>\n"
      ],
      "text/latex": [
       "\\begin{enumerate*}\n",
       "\\item 1990\n",
       "\\item 1991\n",
       "\\item 1992\n",
       "\\item 1993\n",
       "\\item 1994\n",
       "\\item 1995\n",
       "\\item 1996\n",
       "\\item 1997\n",
       "\\item 1998\n",
       "\\item 1999\n",
       "\\item 2000\n",
       "\\item 2001\n",
       "\\item 2002\n",
       "\\item 2003\n",
       "\\item 2004\n",
       "\\item 2005\n",
       "\\item 2006\n",
       "\\item 2007\n",
       "\\item 2008\n",
       "\\item 2009\n",
       "\\end{enumerate*}\n"
      ],
      "text/markdown": [
       "1. 1990\n",
       "2. 1991\n",
       "3. 1992\n",
       "4. 1993\n",
       "5. 1994\n",
       "6. 1995\n",
       "7. 1996\n",
       "8. 1997\n",
       "9. 1998\n",
       "10. 1999\n",
       "11. 2000\n",
       "12. 2001\n",
       "13. 2002\n",
       "14. 2003\n",
       "15. 2004\n",
       "16. 2005\n",
       "17. 2006\n",
       "18. 2007\n",
       "19. 2008\n",
       "20. 2009\n",
       "\n",
       "\n"
      ],
      "text/plain": [
       " [1] 1990 1991 1992 1993 1994 1995 1996 1997 1998 1999 2000 2001 2002 2003 2004\n",
       "[16] 2005 2006 2007 2008 2009"
      ]
     },
     "metadata": {},
     "output_type": "display_data"
    }
   ],
   "source": [
    "years <- 1990:2009\n",
    "years"
   ]
  },
  {
   "cell_type": "code",
   "execution_count": 94,
   "metadata": {
    "vscode": {
     "languageId": "r"
    }
   },
   "outputs": [
    {
     "data": {
      "text/html": [
       "<style>\n",
       ".list-inline {list-style: none; margin:0; padding: 0}\n",
       ".list-inline>li {display: inline-block}\n",
       ".list-inline>li:not(:last-child)::after {content: \"\\00b7\"; padding: 0 .5ex}\n",
       "</style>\n",
       "<ol class=list-inline><li>2009</li><li>2008</li><li>2007</li><li>2006</li><li>2005</li><li>2004</li><li>2003</li><li>2002</li><li>2001</li><li>2000</li><li>1999</li><li>1998</li><li>1997</li><li>1996</li><li>1995</li><li>1994</li><li>1993</li><li>1992</li><li>1991</li><li>1990</li></ol>\n"
      ],
      "text/latex": [
       "\\begin{enumerate*}\n",
       "\\item 2009\n",
       "\\item 2008\n",
       "\\item 2007\n",
       "\\item 2006\n",
       "\\item 2005\n",
       "\\item 2004\n",
       "\\item 2003\n",
       "\\item 2002\n",
       "\\item 2001\n",
       "\\item 2000\n",
       "\\item 1999\n",
       "\\item 1998\n",
       "\\item 1997\n",
       "\\item 1996\n",
       "\\item 1995\n",
       "\\item 1994\n",
       "\\item 1993\n",
       "\\item 1992\n",
       "\\item 1991\n",
       "\\item 1990\n",
       "\\end{enumerate*}\n"
      ],
      "text/markdown": [
       "1. 2009\n",
       "2. 2008\n",
       "3. 2007\n",
       "4. 2006\n",
       "5. 2005\n",
       "6. 2004\n",
       "7. 2003\n",
       "8. 2002\n",
       "9. 2001\n",
       "10. 2000\n",
       "11. 1999\n",
       "12. 1998\n",
       "13. 1997\n",
       "14. 1996\n",
       "15. 1995\n",
       "16. 1994\n",
       "17. 1993\n",
       "18. 1992\n",
       "19. 1991\n",
       "20. 1990\n",
       "\n",
       "\n"
      ],
      "text/plain": [
       " [1] 2009 2008 2007 2006 2005 2004 2003 2002 2001 2000 1999 1998 1997 1996 1995\n",
       "[16] 1994 1993 1992 1991 1990"
      ]
     },
     "metadata": {},
     "output_type": "display_data"
    }
   ],
   "source": [
    "years <- 2009:1990 # or in reverse order \n",
    "years"
   ]
  },
  {
   "cell_type": "markdown",
   "metadata": {},
   "source": [
    "For sequences of float numbers, you have to use `seq()`:"
   ]
  },
  {
   "cell_type": "code",
   "execution_count": 95,
   "metadata": {
    "vscode": {
     "languageId": "r"
    }
   },
   "outputs": [
    {
     "data": {
      "text/html": [
       "<style>\n",
       ".list-inline {list-style: none; margin:0; padding: 0}\n",
       ".list-inline>li {display: inline-block}\n",
       ".list-inline>li:not(:last-child)::after {content: \"\\00b7\"; padding: 0 .5ex}\n",
       "</style>\n",
       "<ol class=list-inline><li>1</li><li>1.5</li><li>2</li><li>2.5</li><li>3</li><li>3.5</li><li>4</li><li>4.5</li><li>5</li><li>5.5</li><li>6</li><li>6.5</li><li>7</li><li>7.5</li><li>8</li><li>8.5</li><li>9</li><li>9.5</li><li>10</li></ol>\n"
      ],
      "text/latex": [
       "\\begin{enumerate*}\n",
       "\\item 1\n",
       "\\item 1.5\n",
       "\\item 2\n",
       "\\item 2.5\n",
       "\\item 3\n",
       "\\item 3.5\n",
       "\\item 4\n",
       "\\item 4.5\n",
       "\\item 5\n",
       "\\item 5.5\n",
       "\\item 6\n",
       "\\item 6.5\n",
       "\\item 7\n",
       "\\item 7.5\n",
       "\\item 8\n",
       "\\item 8.5\n",
       "\\item 9\n",
       "\\item 9.5\n",
       "\\item 10\n",
       "\\end{enumerate*}\n"
      ],
      "text/markdown": [
       "1. 1\n",
       "2. 1.5\n",
       "3. 2\n",
       "4. 2.5\n",
       "5. 3\n",
       "6. 3.5\n",
       "7. 4\n",
       "8. 4.5\n",
       "9. 5\n",
       "10. 5.5\n",
       "11. 6\n",
       "12. 6.5\n",
       "13. 7\n",
       "14. 7.5\n",
       "15. 8\n",
       "16. 8.5\n",
       "17. 9\n",
       "18. 9.5\n",
       "19. 10\n",
       "\n",
       "\n"
      ],
      "text/plain": [
       " [1]  1.0  1.5  2.0  2.5  3.0  3.5  4.0  4.5  5.0  5.5  6.0  6.5  7.0  7.5  8.0\n",
       "[16]  8.5  9.0  9.5 10.0"
      ]
     },
     "metadata": {},
     "output_type": "display_data"
    }
   ],
   "source": [
    "seq(1, 10, 0.5)"
   ]
  },
  {
   "cell_type": "markdown",
   "metadata": {},
   "source": [
    "```{tip}\n",
    "Don't forget, you can get help on a particular R command by prefixing it with `?`. For example, try:\n",
    "\n",
    "`?seq`\n",
    "```"
   ]
  },
  {
   "cell_type": "markdown",
   "metadata": {},
   "source": [
    "You can also use `seq(from=1,to=10, by=0.5) `OR` seq(from=1, by=0.5, to=10)` with the same effect (try it). This explicit, \"argument matching\" approach is partly what makes R so popular and accessible to a wider range of users."
   ]
  },
  {
   "cell_type": "markdown",
   "metadata": {},
   "source": [
    "(R-indices)=\n",
    "\n",
    "### Accessing parts of data stuctures: Indices and Indexing\n",
    "\n",
    "Every element (entry) of a vector in R has an order (an \"index\" value): the first value, second, third, etc. To illustrate this, let's create a simple vector:"
   ]
  },
  {
   "cell_type": "code",
   "execution_count": 96,
   "metadata": {
    "vscode": {
     "languageId": "r"
    }
   },
   "outputs": [],
   "source": [
    "MyVar <- c( 'a' , 'b' , 'c' , 'd' , 'e' )"
   ]
  },
  {
   "cell_type": "markdown",
   "metadata": {},
   "source": [
    "Then, square brackets extract values based on their numerical order in the vector:"
   ]
  },
  {
   "cell_type": "code",
   "execution_count": 97,
   "metadata": {
    "scrolled": true,
    "vscode": {
     "languageId": "r"
    }
   },
   "outputs": [
    {
     "data": {
      "text/html": [
       "'a'"
      ],
      "text/latex": [
       "'a'"
      ],
      "text/markdown": [
       "'a'"
      ],
      "text/plain": [
       "[1] \"a\""
      ]
     },
     "metadata": {},
     "output_type": "display_data"
    }
   ],
   "source": [
    "MyVar[1] # Show element in first position "
   ]
  },
  {
   "cell_type": "code",
   "execution_count": 98,
   "metadata": {
    "vscode": {
     "languageId": "r"
    }
   },
   "outputs": [
    {
     "data": {
      "text/html": [
       "'d'"
      ],
      "text/latex": [
       "'d'"
      ],
      "text/markdown": [
       "'d'"
      ],
      "text/plain": [
       "[1] \"d\""
      ]
     },
     "metadata": {},
     "output_type": "display_data"
    }
   ],
   "source": [
    "MyVar[4] # Show element in fourth position "
   ]
  },
  {
   "cell_type": "markdown",
   "metadata": {},
   "source": [
    "The values in square brackets are called \"indices\" &mdash; they give the index (position) of the required value. We can also select sets of values in different orders, or repeat values:"
   ]
  },
  {
   "cell_type": "code",
   "execution_count": 99,
   "metadata": {
    "vscode": {
     "languageId": "r"
    }
   },
   "outputs": [
    {
     "data": {
      "text/html": [
       "<style>\n",
       ".list-inline {list-style: none; margin:0; padding: 0}\n",
       ".list-inline>li {display: inline-block}\n",
       ".list-inline>li:not(:last-child)::after {content: \"\\00b7\"; padding: 0 .5ex}\n",
       "</style>\n",
       "<ol class=list-inline><li>'c'</li><li>'b'</li><li>'a'</li></ol>\n"
      ],
      "text/latex": [
       "\\begin{enumerate*}\n",
       "\\item 'c'\n",
       "\\item 'b'\n",
       "\\item 'a'\n",
       "\\end{enumerate*}\n"
      ],
      "text/markdown": [
       "1. 'c'\n",
       "2. 'b'\n",
       "3. 'a'\n",
       "\n",
       "\n"
      ],
      "text/plain": [
       "[1] \"c\" \"b\" \"a\""
      ]
     },
     "metadata": {},
     "output_type": "display_data"
    }
   ],
   "source": [
    "MyVar[c(3,2,1)] # reverse order"
   ]
  },
  {
   "cell_type": "code",
   "execution_count": 100,
   "metadata": {
    "vscode": {
     "languageId": "r"
    }
   },
   "outputs": [
    {
     "data": {
      "text/html": [
       "<style>\n",
       ".list-inline {list-style: none; margin:0; padding: 0}\n",
       ".list-inline>li {display: inline-block}\n",
       ".list-inline>li:not(:last-child)::after {content: \"\\00b7\"; padding: 0 .5ex}\n",
       "</style>\n",
       "<ol class=list-inline><li>'a'</li><li>'a'</li><li>'e'</li><li>'e'</li></ol>\n"
      ],
      "text/latex": [
       "\\begin{enumerate*}\n",
       "\\item 'a'\n",
       "\\item 'a'\n",
       "\\item 'e'\n",
       "\\item 'e'\n",
       "\\end{enumerate*}\n"
      ],
      "text/markdown": [
       "1. 'a'\n",
       "2. 'a'\n",
       "3. 'e'\n",
       "4. 'e'\n",
       "\n",
       "\n"
      ],
      "text/plain": [
       "[1] \"a\" \"a\" \"e\" \"e\""
      ]
     },
     "metadata": {},
     "output_type": "display_data"
    }
   ],
   "source": [
    "MyVar[c(1,1,5,5)] # repeat indices"
   ]
  },
  {
   "cell_type": "markdown",
   "metadata": {},
   "source": [
    "You can also manipulate data structures/objects by indexing:"
   ]
  },
  {
   "cell_type": "code",
   "execution_count": 101,
   "metadata": {
    "vscode": {
     "languageId": "r"
    }
   },
   "outputs": [],
   "source": [
    "v <- c(0, 1, 2, 3, 4) # Create a vector named v"
   ]
  },
  {
   "cell_type": "code",
   "execution_count": 102,
   "metadata": {
    "scrolled": true,
    "vscode": {
     "languageId": "r"
    }
   },
   "outputs": [
    {
     "data": {
      "text/html": [
       "2"
      ],
      "text/latex": [
       "2"
      ],
      "text/markdown": [
       "2"
      ],
      "text/plain": [
       "[1] 2"
      ]
     },
     "metadata": {},
     "output_type": "display_data"
    }
   ],
   "source": [
    "v[3] # access one element"
   ]
  },
  {
   "cell_type": "code",
   "execution_count": 103,
   "metadata": {
    "scrolled": true,
    "vscode": {
     "languageId": "r"
    }
   },
   "outputs": [
    {
     "data": {
      "text/html": [
       "<style>\n",
       ".list-inline {list-style: none; margin:0; padding: 0}\n",
       ".list-inline>li {display: inline-block}\n",
       ".list-inline>li:not(:last-child)::after {content: \"\\00b7\"; padding: 0 .5ex}\n",
       "</style>\n",
       "<ol class=list-inline><li>0</li><li>1</li><li>2</li></ol>\n"
      ],
      "text/latex": [
       "\\begin{enumerate*}\n",
       "\\item 0\n",
       "\\item 1\n",
       "\\item 2\n",
       "\\end{enumerate*}\n"
      ],
      "text/markdown": [
       "1. 0\n",
       "2. 1\n",
       "3. 2\n",
       "\n",
       "\n"
      ],
      "text/plain": [
       "[1] 0 1 2"
      ]
     },
     "metadata": {},
     "output_type": "display_data"
    }
   ],
   "source": [
    "v[1:3] # access sequential elements"
   ]
  },
  {
   "cell_type": "code",
   "execution_count": 104,
   "metadata": {
    "vscode": {
     "languageId": "r"
    }
   },
   "outputs": [
    {
     "data": {
      "text/html": [
       "<style>\n",
       ".list-inline {list-style: none; margin:0; padding: 0}\n",
       ".list-inline>li {display: inline-block}\n",
       ".list-inline>li:not(:last-child)::after {content: \"\\00b7\"; padding: 0 .5ex}\n",
       "</style>\n",
       "<ol class=list-inline><li>0</li><li>1</li><li>3</li><li>4</li></ol>\n"
      ],
      "text/latex": [
       "\\begin{enumerate*}\n",
       "\\item 0\n",
       "\\item 1\n",
       "\\item 3\n",
       "\\item 4\n",
       "\\end{enumerate*}\n"
      ],
      "text/markdown": [
       "1. 0\n",
       "2. 1\n",
       "3. 3\n",
       "4. 4\n",
       "\n",
       "\n"
      ],
      "text/plain": [
       "[1] 0 1 3 4"
      ]
     },
     "metadata": {},
     "output_type": "display_data"
    }
   ],
   "source": [
    "v[-3] # remove elements"
   ]
  },
  {
   "cell_type": "code",
   "execution_count": 105,
   "metadata": {
    "scrolled": true,
    "vscode": {
     "languageId": "r"
    }
   },
   "outputs": [
    {
     "data": {
      "text/html": [
       "<style>\n",
       ".list-inline {list-style: none; margin:0; padding: 0}\n",
       ".list-inline>li {display: inline-block}\n",
       ".list-inline>li:not(:last-child)::after {content: \"\\00b7\"; padding: 0 .5ex}\n",
       "</style>\n",
       "<ol class=list-inline><li>0</li><li>3</li></ol>\n"
      ],
      "text/latex": [
       "\\begin{enumerate*}\n",
       "\\item 0\n",
       "\\item 3\n",
       "\\end{enumerate*}\n"
      ],
      "text/markdown": [
       "1. 0\n",
       "2. 3\n",
       "\n",
       "\n"
      ],
      "text/plain": [
       "[1] 0 3"
      ]
     },
     "metadata": {},
     "output_type": "display_data"
    }
   ],
   "source": [
    "v[c(1, 4)] # access non-sequential indices"
   ]
  },
  {
   "cell_type": "markdown",
   "metadata": {},
   "source": [
    "For matrices, you need to use both row and column indices:"
   ]
  },
  {
   "cell_type": "code",
   "execution_count": 106,
   "metadata": {
    "vscode": {
     "languageId": "r"
    }
   },
   "outputs": [
    {
     "data": {
      "text/html": [
       "<table>\n",
       "<caption>A matrix: 5 × 5 of type int</caption>\n",
       "<tbody>\n",
       "\t<tr><td> 1</td><td> 2</td><td> 3</td><td> 4</td><td> 5</td></tr>\n",
       "\t<tr><td> 6</td><td> 7</td><td> 8</td><td> 9</td><td>10</td></tr>\n",
       "\t<tr><td>11</td><td>12</td><td>13</td><td>14</td><td>15</td></tr>\n",
       "\t<tr><td>16</td><td>17</td><td>18</td><td>19</td><td>20</td></tr>\n",
       "\t<tr><td>21</td><td>22</td><td>23</td><td>24</td><td>25</td></tr>\n",
       "</tbody>\n",
       "</table>\n"
      ],
      "text/latex": [
       "A matrix: 5 × 5 of type int\n",
       "\\begin{tabular}{lllll}\n",
       "\t  1 &  2 &  3 &  4 &  5\\\\\n",
       "\t  6 &  7 &  8 &  9 & 10\\\\\n",
       "\t 11 & 12 & 13 & 14 & 15\\\\\n",
       "\t 16 & 17 & 18 & 19 & 20\\\\\n",
       "\t 21 & 22 & 23 & 24 & 25\\\\\n",
       "\\end{tabular}\n"
      ],
      "text/markdown": [
       "\n",
       "A matrix: 5 × 5 of type int\n",
       "\n",
       "|  1 |  2 |  3 |  4 |  5 |\n",
       "|  6 |  7 |  8 |  9 | 10 |\n",
       "| 11 | 12 | 13 | 14 | 15 |\n",
       "| 16 | 17 | 18 | 19 | 20 |\n",
       "| 21 | 22 | 23 | 24 | 25 |\n",
       "\n"
      ],
      "text/plain": [
       "     [,1] [,2] [,3] [,4] [,5]\n",
       "[1,]  1    2    3    4    5  \n",
       "[2,]  6    7    8    9   10  \n",
       "[3,] 11   12   13   14   15  \n",
       "[4,] 16   17   18   19   20  \n",
       "[5,] 21   22   23   24   25  "
      ]
     },
     "metadata": {},
     "output_type": "display_data"
    }
   ],
   "source": [
    "mat1 <- matrix(1:25, 5, 5, byrow=TRUE) #create a matrix\n",
    "mat1"
   ]
  },
  {
   "cell_type": "code",
   "execution_count": 107,
   "metadata": {
    "vscode": {
     "languageId": "r"
    }
   },
   "outputs": [
    {
     "data": {
      "text/html": [
       "2"
      ],
      "text/latex": [
       "2"
      ],
      "text/markdown": [
       "2"
      ],
      "text/plain": [
       "[1] 2"
      ]
     },
     "metadata": {},
     "output_type": "display_data"
    }
   ],
   "source": [
    "mat1[1,2]"
   ]
  },
  {
   "cell_type": "code",
   "execution_count": 108,
   "metadata": {
    "vscode": {
     "languageId": "r"
    }
   },
   "outputs": [
    {
     "data": {
      "text/html": [
       "<style>\n",
       ".list-inline {list-style: none; margin:0; padding: 0}\n",
       ".list-inline>li {display: inline-block}\n",
       ".list-inline>li:not(:last-child)::after {content: \"\\00b7\"; padding: 0 .5ex}\n",
       "</style>\n",
       "<ol class=list-inline><li>2</li><li>3</li><li>4</li></ol>\n"
      ],
      "text/latex": [
       "\\begin{enumerate*}\n",
       "\\item 2\n",
       "\\item 3\n",
       "\\item 4\n",
       "\\end{enumerate*}\n"
      ],
      "text/markdown": [
       "1. 2\n",
       "2. 3\n",
       "3. 4\n",
       "\n",
       "\n"
      ],
      "text/plain": [
       "[1] 2 3 4"
      ]
     },
     "metadata": {},
     "output_type": "display_data"
    }
   ],
   "source": [
    "mat1[1,2:4]"
   ]
  },
  {
   "cell_type": "code",
   "execution_count": 109,
   "metadata": {
    "vscode": {
     "languageId": "r"
    }
   },
   "outputs": [
    {
     "data": {
      "text/html": [
       "<table>\n",
       "<caption>A matrix: 2 × 3 of type int</caption>\n",
       "<tbody>\n",
       "\t<tr><td>2</td><td>3</td><td>4</td></tr>\n",
       "\t<tr><td>7</td><td>8</td><td>9</td></tr>\n",
       "</tbody>\n",
       "</table>\n"
      ],
      "text/latex": [
       "A matrix: 2 × 3 of type int\n",
       "\\begin{tabular}{lll}\n",
       "\t 2 & 3 & 4\\\\\n",
       "\t 7 & 8 & 9\\\\\n",
       "\\end{tabular}\n"
      ],
      "text/markdown": [
       "\n",
       "A matrix: 2 × 3 of type int\n",
       "\n",
       "| 2 | 3 | 4 |\n",
       "| 7 | 8 | 9 |\n",
       "\n"
      ],
      "text/plain": [
       "     [,1] [,2] [,3]\n",
       "[1,] 2    3    4   \n",
       "[2,] 7    8    9   "
      ]
     },
     "metadata": {},
     "output_type": "display_data"
    }
   ],
   "source": [
    "mat1[1:2,2:4]"
   ]
  },
  {
   "cell_type": "markdown",
   "metadata": {},
   "source": [
    "And to get all elements in a particular row or column, you need to leave the value blank:"
   ]
  },
  {
   "cell_type": "code",
   "execution_count": 110,
   "metadata": {
    "vscode": {
     "languageId": "r"
    }
   },
   "outputs": [
    {
     "data": {
      "text/html": [
       "<style>\n",
       ".list-inline {list-style: none; margin:0; padding: 0}\n",
       ".list-inline>li {display: inline-block}\n",
       ".list-inline>li:not(:last-child)::after {content: \"\\00b7\"; padding: 0 .5ex}\n",
       "</style>\n",
       "<ol class=list-inline><li>1</li><li>2</li><li>3</li><li>4</li><li>5</li></ol>\n"
      ],
      "text/latex": [
       "\\begin{enumerate*}\n",
       "\\item 1\n",
       "\\item 2\n",
       "\\item 3\n",
       "\\item 4\n",
       "\\item 5\n",
       "\\end{enumerate*}\n"
      ],
      "text/markdown": [
       "1. 1\n",
       "2. 2\n",
       "3. 3\n",
       "4. 4\n",
       "5. 5\n",
       "\n",
       "\n"
      ],
      "text/plain": [
       "[1] 1 2 3 4 5"
      ]
     },
     "metadata": {},
     "output_type": "display_data"
    }
   ],
   "source": [
    "mat1[1,] # First row, all columns"
   ]
  },
  {
   "cell_type": "code",
   "execution_count": 111,
   "metadata": {
    "vscode": {
     "languageId": "r"
    }
   },
   "outputs": [
    {
     "data": {
      "text/html": [
       "<style>\n",
       ".list-inline {list-style: none; margin:0; padding: 0}\n",
       ".list-inline>li {display: inline-block}\n",
       ".list-inline>li:not(:last-child)::after {content: \"\\00b7\"; padding: 0 .5ex}\n",
       "</style>\n",
       "<ol class=list-inline><li>1</li><li>6</li><li>11</li><li>16</li><li>21</li></ol>\n"
      ],
      "text/latex": [
       "\\begin{enumerate*}\n",
       "\\item 1\n",
       "\\item 6\n",
       "\\item 11\n",
       "\\item 16\n",
       "\\item 21\n",
       "\\end{enumerate*}\n"
      ],
      "text/markdown": [
       "1. 1\n",
       "2. 6\n",
       "3. 11\n",
       "4. 16\n",
       "5. 21\n",
       "\n",
       "\n"
      ],
      "text/plain": [
       "[1]  1  6 11 16 21"
      ]
     },
     "metadata": {},
     "output_type": "display_data"
    }
   ],
   "source": [
    "mat1[,1] # First column, all rows"
   ]
  },
  {
   "cell_type": "markdown",
   "metadata": {},
   "source": [
    "(R-recycling)=\n",
    "### Recycling\n",
    "\n",
    "When vectors are of different lengths, R will recycle the shorter one to make a vector of the same length:"
   ]
  },
  {
   "cell_type": "code",
   "execution_count": 112,
   "metadata": {
    "scrolled": true,
    "vscode": {
     "languageId": "r"
    }
   },
   "outputs": [
    {
     "data": {
      "text/html": [
       "<style>\n",
       ".list-inline {list-style: none; margin:0; padding: 0}\n",
       ".list-inline>li {display: inline-block}\n",
       ".list-inline>li:not(:last-child)::after {content: \"\\00b7\"; padding: 0 .5ex}\n",
       "</style>\n",
       "<ol class=list-inline><li>3</li><li>7</li></ol>\n"
      ],
      "text/latex": [
       "\\begin{enumerate*}\n",
       "\\item 3\n",
       "\\item 7\n",
       "\\end{enumerate*}\n"
      ],
      "text/markdown": [
       "1. 3\n",
       "2. 7\n",
       "\n",
       "\n"
      ],
      "text/plain": [
       "[1] 3 7"
      ]
     },
     "metadata": {},
     "output_type": "display_data"
    }
   ],
   "source": [
    "a <- c(1,5) + 2\n",
    "a"
   ]
  },
  {
   "cell_type": "code",
   "execution_count": 113,
   "metadata": {
    "scrolled": true,
    "vscode": {
     "languageId": "r"
    }
   },
   "outputs": [
    {
     "data": {
      "text/html": [
       "<style>\n",
       ".list-inline {list-style: none; margin:0; padding: 0}\n",
       ".list-inline>li {display: inline-block}\n",
       ".list-inline>li:not(:last-child)::after {content: \"\\00b7\"; padding: 0 .5ex}\n",
       "</style>\n",
       "<ol class=list-inline><li>1</li><li>2</li></ol>\n"
      ],
      "text/latex": [
       "\\begin{enumerate*}\n",
       "\\item 1\n",
       "\\item 2\n",
       "\\end{enumerate*}\n"
      ],
      "text/markdown": [
       "1. 1\n",
       "2. 2\n",
       "\n",
       "\n"
      ],
      "text/plain": [
       "[1] 1 2"
      ]
     },
     "metadata": {},
     "output_type": "display_data"
    },
    {
     "data": {
      "text/html": [
       "<style>\n",
       ".list-inline {list-style: none; margin:0; padding: 0}\n",
       ".list-inline>li {display: inline-block}\n",
       ".list-inline>li:not(:last-child)::after {content: \"\\00b7\"; padding: 0 .5ex}\n",
       "</style>\n",
       "<ol class=list-inline><li>5</li><li>3</li><li>9</li><li>2</li></ol>\n"
      ],
      "text/latex": [
       "\\begin{enumerate*}\n",
       "\\item 5\n",
       "\\item 3\n",
       "\\item 9\n",
       "\\item 2\n",
       "\\end{enumerate*}\n"
      ],
      "text/markdown": [
       "1. 5\n",
       "2. 3\n",
       "3. 9\n",
       "4. 2\n",
       "\n",
       "\n"
      ],
      "text/plain": [
       "[1] 5 3 9 2"
      ]
     },
     "metadata": {},
     "output_type": "display_data"
    }
   ],
   "source": [
    "x <- c(1,2); y <- c(5,3,9,2)\n",
    "x;y"
   ]
  },
  {
   "cell_type": "code",
   "execution_count": 114,
   "metadata": {
    "scrolled": true,
    "vscode": {
     "languageId": "r"
    }
   },
   "outputs": [
    {
     "data": {
      "text/html": [
       "<style>\n",
       ".list-inline {list-style: none; margin:0; padding: 0}\n",
       ".list-inline>li {display: inline-block}\n",
       ".list-inline>li:not(:last-child)::after {content: \"\\00b7\"; padding: 0 .5ex}\n",
       "</style>\n",
       "<ol class=list-inline><li>6</li><li>5</li><li>10</li><li>4</li></ol>\n"
      ],
      "text/latex": [
       "\\begin{enumerate*}\n",
       "\\item 6\n",
       "\\item 5\n",
       "\\item 10\n",
       "\\item 4\n",
       "\\end{enumerate*}\n"
      ],
      "text/markdown": [
       "1. 6\n",
       "2. 5\n",
       "3. 10\n",
       "4. 4\n",
       "\n",
       "\n"
      ],
      "text/plain": [
       "[1]  6  5 10  4"
      ]
     },
     "metadata": {},
     "output_type": "display_data"
    }
   ],
   "source": [
    "x + y"
   ]
  },
  {
   "cell_type": "markdown",
   "metadata": {},
   "source": [
    "Strange! R just recycled `x` (repeated `1,2` twice) so that the two vectors could be summed! here's another example:"
   ]
  },
  {
   "cell_type": "code",
   "execution_count": 115,
   "metadata": {
    "scrolled": true,
    "vscode": {
     "languageId": "r"
    }
   },
   "outputs": [
    {
     "name": "stderr",
     "output_type": "stream",
     "text": [
      "Warning message in x + c(y, 1):\n",
      "“longer object length is not a multiple of shorter object length”\n"
     ]
    },
    {
     "data": {
      "text/html": [
       "<style>\n",
       ".list-inline {list-style: none; margin:0; padding: 0}\n",
       ".list-inline>li {display: inline-block}\n",
       ".list-inline>li:not(:last-child)::after {content: \"\\00b7\"; padding: 0 .5ex}\n",
       "</style>\n",
       "<ol class=list-inline><li>6</li><li>5</li><li>10</li><li>4</li><li>2</li></ol>\n"
      ],
      "text/latex": [
       "\\begin{enumerate*}\n",
       "\\item 6\n",
       "\\item 5\n",
       "\\item 10\n",
       "\\item 4\n",
       "\\item 2\n",
       "\\end{enumerate*}\n"
      ],
      "text/markdown": [
       "1. 6\n",
       "2. 5\n",
       "3. 10\n",
       "4. 4\n",
       "5. 2\n",
       "\n",
       "\n"
      ],
      "text/plain": [
       "[1]  6  5 10  4  2"
      ]
     },
     "metadata": {},
     "output_type": "display_data"
    }
   ],
   "source": [
    "x + c(y,1)"
   ]
  },
  {
   "cell_type": "markdown",
   "metadata": {},
   "source": [
    "*Think about what happened here*. R is clearly not comfortable doing this, so it warns you! Recycling could be convenient at times, but is dangerous!"
   ]
  },
  {
   "cell_type": "markdown",
   "metadata": {},
   "source": [
    "### Basic vector-matrix operations\n",
    "\n",
    "You can perform the usual vector matrix operations on R `vectors` "
   ]
  },
  {
   "cell_type": "code",
   "execution_count": 116,
   "metadata": {
    "vscode": {
     "languageId": "r"
    }
   },
   "outputs": [
    {
     "data": {
      "text/html": [
       "<style>\n",
       ".list-inline {list-style: none; margin:0; padding: 0}\n",
       ".list-inline>li {display: inline-block}\n",
       ".list-inline>li:not(:last-child)::after {content: \"\\00b7\"; padding: 0 .5ex}\n",
       "</style>\n",
       "<ol class=list-inline><li>0</li><li>2</li><li>4</li><li>6</li><li>8</li></ol>\n"
      ],
      "text/latex": [
       "\\begin{enumerate*}\n",
       "\\item 0\n",
       "\\item 2\n",
       "\\item 4\n",
       "\\item 6\n",
       "\\item 8\n",
       "\\end{enumerate*}\n"
      ],
      "text/markdown": [
       "1. 0\n",
       "2. 2\n",
       "3. 4\n",
       "4. 6\n",
       "5. 8\n",
       "\n",
       "\n"
      ],
      "text/plain": [
       "[1] 0 2 4 6 8"
      ]
     },
     "metadata": {},
     "output_type": "display_data"
    }
   ],
   "source": [
    "v <- c(0, 1, 2, 3, 4)\n",
    "v2 <- v*2 # multiply whole vector by 2\n",
    "v2"
   ]
  },
  {
   "cell_type": "code",
   "execution_count": 117,
   "metadata": {
    "scrolled": true,
    "vscode": {
     "languageId": "r"
    }
   },
   "outputs": [
    {
     "data": {
      "text/html": [
       "<style>\n",
       ".list-inline {list-style: none; margin:0; padding: 0}\n",
       ".list-inline>li {display: inline-block}\n",
       ".list-inline>li:not(:last-child)::after {content: \"\\00b7\"; padding: 0 .5ex}\n",
       "</style>\n",
       "<ol class=list-inline><li>0</li><li>2</li><li>8</li><li>18</li><li>32</li></ol>\n"
      ],
      "text/latex": [
       "\\begin{enumerate*}\n",
       "\\item 0\n",
       "\\item 2\n",
       "\\item 8\n",
       "\\item 18\n",
       "\\item 32\n",
       "\\end{enumerate*}\n"
      ],
      "text/markdown": [
       "1. 0\n",
       "2. 2\n",
       "3. 8\n",
       "4. 18\n",
       "5. 32\n",
       "\n",
       "\n"
      ],
      "text/plain": [
       "[1]  0  2  8 18 32"
      ]
     },
     "metadata": {},
     "output_type": "display_data"
    }
   ],
   "source": [
    "v * v2 # element-wise product"
   ]
  },
  {
   "cell_type": "code",
   "execution_count": 118,
   "metadata": {
    "vscode": {
     "languageId": "r"
    }
   },
   "outputs": [
    {
     "data": {
      "text/html": [
       "<table>\n",
       "<caption>A matrix: 1 × 5 of type dbl</caption>\n",
       "<tbody>\n",
       "\t<tr><td>0</td><td>1</td><td>2</td><td>3</td><td>4</td></tr>\n",
       "</tbody>\n",
       "</table>\n"
      ],
      "text/latex": [
       "A matrix: 1 × 5 of type dbl\n",
       "\\begin{tabular}{lllll}\n",
       "\t 0 & 1 & 2 & 3 & 4\\\\\n",
       "\\end{tabular}\n"
      ],
      "text/markdown": [
       "\n",
       "A matrix: 1 × 5 of type dbl\n",
       "\n",
       "| 0 | 1 | 2 | 3 | 4 |\n",
       "\n"
      ],
      "text/plain": [
       "     [,1] [,2] [,3] [,4] [,5]\n",
       "[1,] 0    1    2    3    4   "
      ]
     },
     "metadata": {},
     "output_type": "display_data"
    }
   ],
   "source": [
    "t(v) # transpose the vector"
   ]
  },
  {
   "cell_type": "code",
   "execution_count": 119,
   "metadata": {
    "vscode": {
     "languageId": "r"
    }
   },
   "outputs": [
    {
     "data": {
      "text/html": [
       "<table>\n",
       "<caption>A matrix: 5 × 5 of type dbl</caption>\n",
       "<tbody>\n",
       "\t<tr><td>0</td><td>0</td><td>0</td><td> 0</td><td> 0</td></tr>\n",
       "\t<tr><td>0</td><td>1</td><td>2</td><td> 3</td><td> 4</td></tr>\n",
       "\t<tr><td>0</td><td>2</td><td>4</td><td> 6</td><td> 8</td></tr>\n",
       "\t<tr><td>0</td><td>3</td><td>6</td><td> 9</td><td>12</td></tr>\n",
       "\t<tr><td>0</td><td>4</td><td>8</td><td>12</td><td>16</td></tr>\n",
       "</tbody>\n",
       "</table>\n"
      ],
      "text/latex": [
       "A matrix: 5 × 5 of type dbl\n",
       "\\begin{tabular}{lllll}\n",
       "\t 0 & 0 & 0 &  0 &  0\\\\\n",
       "\t 0 & 1 & 2 &  3 &  4\\\\\n",
       "\t 0 & 2 & 4 &  6 &  8\\\\\n",
       "\t 0 & 3 & 6 &  9 & 12\\\\\n",
       "\t 0 & 4 & 8 & 12 & 16\\\\\n",
       "\\end{tabular}\n"
      ],
      "text/markdown": [
       "\n",
       "A matrix: 5 × 5 of type dbl\n",
       "\n",
       "| 0 | 0 | 0 |  0 |  0 |\n",
       "| 0 | 1 | 2 |  3 |  4 |\n",
       "| 0 | 2 | 4 |  6 |  8 |\n",
       "| 0 | 3 | 6 |  9 | 12 |\n",
       "| 0 | 4 | 8 | 12 | 16 |\n",
       "\n"
      ],
      "text/plain": [
       "     [,1] [,2] [,3] [,4] [,5]\n",
       "[1,] 0    0    0     0    0  \n",
       "[2,] 0    1    2     3    4  \n",
       "[3,] 0    2    4     6    8  \n",
       "[4,] 0    3    6     9   12  \n",
       "[5,] 0    4    8    12   16  "
      ]
     },
     "metadata": {},
     "output_type": "display_data"
    }
   ],
   "source": [
    "v %*% t(v) # matrix/vector product"
   ]
  },
  {
   "cell_type": "code",
   "execution_count": 120,
   "metadata": {
    "vscode": {
     "languageId": "r"
    }
   },
   "outputs": [
    {
     "data": {
      "text/html": [
       "<style>\n",
       ".list-inline {list-style: none; margin:0; padding: 0}\n",
       ".list-inline>li {display: inline-block}\n",
       ".list-inline>li:not(:last-child)::after {content: \"\\00b7\"; padding: 0 .5ex}\n",
       "</style>\n",
       "<ol class=list-inline><li>1</li><li>2</li><li>3</li><li>4</li><li>5</li><li>6</li><li>7</li></ol>\n"
      ],
      "text/latex": [
       "\\begin{enumerate*}\n",
       "\\item 1\n",
       "\\item 2\n",
       "\\item 3\n",
       "\\item 4\n",
       "\\item 5\n",
       "\\item 6\n",
       "\\item 7\n",
       "\\end{enumerate*}\n"
      ],
      "text/markdown": [
       "1. 1\n",
       "2. 2\n",
       "3. 3\n",
       "4. 4\n",
       "5. 5\n",
       "6. 6\n",
       "7. 7\n",
       "\n",
       "\n"
      ],
      "text/plain": [
       "[1] 1 2 3 4 5 6 7"
      ]
     },
     "metadata": {},
     "output_type": "display_data"
    }
   ],
   "source": [
    "v3 <- 1:7 # assign using sequence\n",
    "v3"
   ]
  },
  {
   "cell_type": "code",
   "execution_count": 121,
   "metadata": {
    "vscode": {
     "languageId": "r"
    }
   },
   "outputs": [
    {
     "data": {
      "text/html": [
       "<style>\n",
       ".list-inline {list-style: none; margin:0; padding: 0}\n",
       ".list-inline>li {display: inline-block}\n",
       ".list-inline>li:not(:last-child)::after {content: \"\\00b7\"; padding: 0 .5ex}\n",
       "</style>\n",
       "<ol class=list-inline><li>0</li><li>2</li><li>4</li><li>6</li><li>8</li><li>1</li><li>2</li><li>3</li><li>4</li><li>5</li><li>6</li><li>7</li></ol>\n"
      ],
      "text/latex": [
       "\\begin{enumerate*}\n",
       "\\item 0\n",
       "\\item 2\n",
       "\\item 4\n",
       "\\item 6\n",
       "\\item 8\n",
       "\\item 1\n",
       "\\item 2\n",
       "\\item 3\n",
       "\\item 4\n",
       "\\item 5\n",
       "\\item 6\n",
       "\\item 7\n",
       "\\end{enumerate*}\n"
      ],
      "text/markdown": [
       "1. 0\n",
       "2. 2\n",
       "3. 4\n",
       "4. 6\n",
       "5. 8\n",
       "6. 1\n",
       "7. 2\n",
       "8. 3\n",
       "9. 4\n",
       "10. 5\n",
       "11. 6\n",
       "12. 7\n",
       "\n",
       "\n"
      ],
      "text/plain": [
       " [1] 0 2 4 6 8 1 2 3 4 5 6 7"
      ]
     },
     "metadata": {},
     "output_type": "display_data"
    }
   ],
   "source": [
    "v4 <- c(v2, v3) # concatenate vectors\n",
    "v4"
   ]
  },
  {
   "cell_type": "markdown",
   "metadata": {},
   "source": [
    "### Strings and Pasting\n",
    "\n",
    "It is important to know how to handle strings in R for two main reasons:\n",
    "\n",
    "* To deal with text data, such as names of experimental treatments \n",
    "* To generate appropriate text labels and titles for figures\n",
    "\n",
    "Let's try creating and manipulating strings:"
   ]
  },
  {
   "cell_type": "code",
   "execution_count": 122,
   "metadata": {
    "scrolled": true,
    "vscode": {
     "languageId": "r"
    }
   },
   "outputs": [
    {
     "data": {
      "text/html": [
       "'Quercus robur'"
      ],
      "text/latex": [
       "'Quercus robur'"
      ],
      "text/markdown": [
       "'Quercus robur'"
      ],
      "text/plain": [
       "[1] \"Quercus robur\""
      ]
     },
     "metadata": {},
     "output_type": "display_data"
    }
   ],
   "source": [
    "species.name <- \"Quercus robur\" #You can alo use single quotes\n",
    "species.name"
   ]
  },
  {
   "cell_type": "markdown",
   "metadata": {},
   "source": [
    "To combine to strings: "
   ]
  },
  {
   "cell_type": "code",
   "execution_count": 123,
   "metadata": {
    "scrolled": true,
    "vscode": {
     "languageId": "r"
    }
   },
   "outputs": [
    {
     "data": {
      "text/html": [
       "'Quercus robur'"
      ],
      "text/latex": [
       "'Quercus robur'"
      ],
      "text/markdown": [
       "'Quercus robur'"
      ],
      "text/plain": [
       "[1] \"Quercus robur\""
      ]
     },
     "metadata": {},
     "output_type": "display_data"
    }
   ],
   "source": [
    "paste(\"Quercus\", \"robur\")"
   ]
  },
  {
   "cell_type": "code",
   "execution_count": 124,
   "metadata": {
    "vscode": {
     "languageId": "r"
    }
   },
   "outputs": [
    {
     "data": {
      "text/html": [
       "'Quercusrobur'"
      ],
      "text/latex": [
       "'Quercusrobur'"
      ],
      "text/markdown": [
       "'Quercusrobur'"
      ],
      "text/plain": [
       "[1] \"Quercusrobur\""
      ]
     },
     "metadata": {},
     "output_type": "display_data"
    }
   ],
   "source": [
    "paste(\"Quercus\", \"robur\",sep = \"\") #Get rid of space"
   ]
  },
  {
   "cell_type": "code",
   "execution_count": 125,
   "metadata": {
    "vscode": {
     "languageId": "r"
    }
   },
   "outputs": [
    {
     "data": {
      "text/html": [
       "'Quercus, robur'"
      ],
      "text/latex": [
       "'Quercus, robur'"
      ],
      "text/markdown": [
       "'Quercus, robur'"
      ],
      "text/plain": [
       "[1] \"Quercus, robur\""
      ]
     },
     "metadata": {},
     "output_type": "display_data"
    }
   ],
   "source": [
    "paste(\"Quercus\", \"robur\",sep = \", \") #insert comma to separate"
   ]
  },
  {
   "cell_type": "markdown",
   "metadata": {},
   "source": [
    "As you can see above, both double and single quotes work, but using double quotes is better because it will allow you to define strings that contain a single quotes, which is often necessary.\n",
    "\n",
    "And as is the case with so many R functions, pasting works on vectors:"
   ]
  },
  {
   "cell_type": "code",
   "execution_count": 126,
   "metadata": {
    "scrolled": true,
    "vscode": {
     "languageId": "r"
    }
   },
   "outputs": [
    {
     "data": {
      "text/html": [
       "<style>\n",
       ".list-inline {list-style: none; margin:0; padding: 0}\n",
       ".list-inline>li {display: inline-block}\n",
       ".list-inline>li:not(:last-child)::after {content: \"\\00b7\"; padding: 0 .5ex}\n",
       "</style>\n",
       "<ol class=list-inline><li>'Year is: 1990'</li><li>'Year is: 1991'</li><li>'Year is: 1992'</li><li>'Year is: 1993'</li><li>'Year is: 1994'</li><li>'Year is: 1995'</li><li>'Year is: 1996'</li><li>'Year is: 1997'</li><li>'Year is: 1998'</li><li>'Year is: 1999'</li><li>'Year is: 2000'</li></ol>\n"
      ],
      "text/latex": [
       "\\begin{enumerate*}\n",
       "\\item 'Year is: 1990'\n",
       "\\item 'Year is: 1991'\n",
       "\\item 'Year is: 1992'\n",
       "\\item 'Year is: 1993'\n",
       "\\item 'Year is: 1994'\n",
       "\\item 'Year is: 1995'\n",
       "\\item 'Year is: 1996'\n",
       "\\item 'Year is: 1997'\n",
       "\\item 'Year is: 1998'\n",
       "\\item 'Year is: 1999'\n",
       "\\item 'Year is: 2000'\n",
       "\\end{enumerate*}\n"
      ],
      "text/markdown": [
       "1. 'Year is: 1990'\n",
       "2. 'Year is: 1991'\n",
       "3. 'Year is: 1992'\n",
       "4. 'Year is: 1993'\n",
       "5. 'Year is: 1994'\n",
       "6. 'Year is: 1995'\n",
       "7. 'Year is: 1996'\n",
       "8. 'Year is: 1997'\n",
       "9. 'Year is: 1998'\n",
       "10. 'Year is: 1999'\n",
       "11. 'Year is: 2000'\n",
       "\n",
       "\n"
      ],
      "text/plain": [
       " [1] \"Year is: 1990\" \"Year is: 1991\" \"Year is: 1992\" \"Year is: 1993\"\n",
       " [5] \"Year is: 1994\" \"Year is: 1995\" \"Year is: 1996\" \"Year is: 1997\"\n",
       " [9] \"Year is: 1998\" \"Year is: 1999\" \"Year is: 2000\""
      ]
     },
     "metadata": {},
     "output_type": "display_data"
    }
   ],
   "source": [
    "paste('Year is:', 1990:2000)"
   ]
  },
  {
   "cell_type": "markdown",
   "metadata": {},
   "source": [
    "Note that this last example creates a vector of 11 strings as it is 1990:2000 *inclusive*. "
   ]
  },
  {
   "cell_type": "markdown",
   "metadata": {},
   "source": [
    "## Useful R functions\n",
    "\n",
    "There are a number of very useful functions available by default (in the \"base packages\"). Some particularly useful ones are listed below.\n",
    "\n",
    "### For manipulating strings\n",
    "\n",
    "|Function||\n",
    "|:-|:-|\n",
    "|`strsplit(x,';')`| Split the string `x` at ';' |\n",
    "|`nchar(x)`| Number of characters in string `x`|\n",
    "|`toupper(x)`| Set string `x` to upper case|\n",
    "|`tolower(x)`| Set string `x` to lower case|\n",
    "|`paste(x1,x2,sep=';')`| Join the two strings using ';'|\n",
    "\n",
    "### Mathematical\n",
    "\n",
    "|Function||\n",
    "|:-|:-|\n",
    "|`log(x)`| Natural logarithm of the number (or every number in the vector or matrix) `x`|\n",
    "|`log10(x)`| Logarithm in base 10 of the number (or every number in the vector or matrix) `x`|\n",
    "|`exp(x)`| Exponential of the number (or every number in the vector or matrix) `x` ($e^x$)|\n",
    "|`abs(x)`| Absolute value of the number (or every number in the vector or matrix) `x`|\n",
    "|`floor(x)`| Largest integer smaller than the number (or every number in the vector or matrix) `x` (i.e, round *down* to the nearest integer)|\n",
    "|`ceiling(x)`| Smallest integer greater than the number (or every number in the vector or matrix) `x` (i.e, round *up* to the nearest integer)|\n",
    "|`sqrt(x)`| Square root of the number (or every number in the vector or matrix) `x` ($\\sqrt{x}$)|\n",
    "|`sin(x)`| Sine function of the number (or every number in a vector or matrix) `x`|\n",
    "|`pi`| Value of the constant $\\pi$|\n",
    "\n",
    "### Statistical\n",
    "\n",
    "|Function||\n",
    "|:-|:-|\n",
    "|`mean(x)`| Compute mean of (a vector or matrix) `x`| \n",
    "|`sd(x)`| Standard deviation of (a vector or matrix) `x`|\n",
    "|`var(x)`| Variance of (a vector or matrix) `x`|\n",
    "|`median(x)`| Median of (a vector or matrix) `x`|\n",
    "|`quantile(x,0.05)`| Compute the 0.05 quantile of (a vector or matrix) `x`|\n",
    "|`range(x)`| Range of the data in (a vector or matrix) `x`|\n",
    "|`min(x)`| Minimum of (a vector or matrix) `x`|\n",
    "|`max(x)`| Maximum of (a vector or matrix) `x`|\n",
    "|`sum(x)`| Sum all elements of (a vector or matrix) `x`|\n",
    "|`summary(x)`| Summary statistics for (a vector or matrix) `x`|\n",
    "\n",
    "### Sets\n",
    "\n",
    "|Function||\n",
    "|:-|:-|\n",
    "|`union(x, y)` | Union of all elements of two vectors x & y|\n",
    "|`intersect(x, y)`|Elements common to two vectors x & y|\n",
    "|`setdiff(x, y)`|Elements unique to two vectors x & y|\n",
    "|`setequal(x, y)`|Check if two vectors x & y are the same set (have same unique elements)|\n",
    "|`is.element(x, y)`|Check if an element x is in vector y (same as `x %in% y`)|\n",
    "\n",
    "&#9733; *Try out the above commands in your R console by generating the appropriate data*. For example, "
   ]
  },
  {
   "cell_type": "code",
   "execution_count": 127,
   "metadata": {
    "vscode": {
     "languageId": "r"
    }
   },
   "outputs": [
    {
     "data": {
      "text/html": [
       "<ol>\n",
       "\t<li><style>\n",
       ".list-inline {list-style: none; margin:0; padding: 0}\n",
       ".list-inline>li {display: inline-block}\n",
       ".list-inline>li:not(:last-child)::after {content: \"\\00b7\"; padding: 0 .5ex}\n",
       "</style>\n",
       "<ol class=list-inline><li>'String'</li><li>' to'</li><li>' Split'</li></ol>\n",
       "</li>\n",
       "</ol>\n"
      ],
      "text/latex": [
       "\\begin{enumerate}\n",
       "\\item \\begin{enumerate*}\n",
       "\\item 'String'\n",
       "\\item ' to'\n",
       "\\item ' Split'\n",
       "\\end{enumerate*}\n",
       "\n",
       "\\end{enumerate}\n"
      ],
      "text/markdown": [
       "1. 1. 'String'\n",
       "2. ' to'\n",
       "3. ' Split'\n",
       "\n",
       "\n",
       "\n",
       "\n",
       "\n"
      ],
      "text/plain": [
       "[[1]]\n",
       "[1] \"String\" \" to\"    \" Split\"\n"
      ]
     },
     "metadata": {},
     "output_type": "display_data"
    }
   ],
   "source": [
    "strsplit(\"String; to; Split\",';')# Split the string at ';'"
   ]
  },
  {
   "cell_type": "markdown",
   "metadata": {},
   "source": [
    "(R-random-numbers)=\n",
    "### Generating Random Numbers\n",
    "\n",
    "You will probably need to generate random numbers at some point as a quantitative biologist. \n",
    "\n",
    "R has many routines for generating random samples from various probability distributions. There are a number of random number distributions that you can sample or generate random numbers from: \n",
    "\n",
    "|Function||\n",
    "|:-|:-|\n",
    "|`rnorm(10, m=0, sd=1)`| Draw 10 normal random numbers with mean=0 and standard deviation = 1|\n",
    "|`dnorm(x, m=0, sd=1)` | Density function|\n",
    "|`qnorm(x, m=0, sd=1)` | Cumulative density function|\n",
    "|`runif(20, min=0, max=2)` | Twenty random numbers from uniform `[0,2]`|\n",
    "|` rpois(20, lambda=10)` | Twenty random numbers from Poisson (with mean $\\lambda$)|\n",
    "\n",
    "#### \"Seeding\" random number generators   \n",
    "\n",
    "Computers *can't* generate *true* mathematically random numbers. This may seem surprising, but basically a computer cannot be programmed to do things purely by chance; it can only follow given instructions blindly and is therefore completely predictable. Instead, computers have algorithms called \"pseudo-random number generators\" that generate *practically random* sequences of numbers. These are typically based on a iterative formula that generates a sequence of random numbers, starting with a first number called the \"**seed**\". This sequence is completely \"deterministic\", that is, starting with a particular seed yields exactly the same sequence of pseudo-random numbers every time you re-run the generator. \n",
    "\n",
    "Try this:"
   ]
  },
  {
   "cell_type": "code",
   "execution_count": 128,
   "metadata": {
    "vscode": {
     "languageId": "r"
    }
   },
   "outputs": [
    {
     "data": {
      "text/html": [
       "0.156703769128359"
      ],
      "text/latex": [
       "0.156703769128359"
      ],
      "text/markdown": [
       "0.156703769128359"
      ],
      "text/plain": [
       "[1] 0.1567038"
      ]
     },
     "metadata": {},
     "output_type": "display_data"
    }
   ],
   "source": [
    "set.seed(1234567)\n",
    "rnorm(1)"
   ]
  },
  {
   "cell_type": "markdown",
   "metadata": {},
   "source": [
    "Everybody in the class  will get the same answer! \n",
    "\n",
    "Now try and compare the results with your neighbor:"
   ]
  },
  {
   "cell_type": "code",
   "execution_count": 129,
   "metadata": {
    "vscode": {
     "languageId": "r"
    }
   },
   "outputs": [
    {
     "data": {
      "text/html": [
       "<style>\n",
       ".list-inline {list-style: none; margin:0; padding: 0}\n",
       ".list-inline>li {display: inline-block}\n",
       ".list-inline>li:not(:last-child)::after {content: \"\\00b7\"; padding: 0 .5ex}\n",
       "</style>\n",
       "<ol class=list-inline><li>1.37381119149164</li><li>0.73067024376365</li><li>-1.35080092669852</li><li>-0.00851496085595985</li><li>0.320981862836429</li><li>-1.77814840855737</li><li>0.909503835073888</li><li>-0.919404336160487</li><li>-0.157714830888067</li><li>1.10199738945752</li></ol>\n"
      ],
      "text/latex": [
       "\\begin{enumerate*}\n",
       "\\item 1.37381119149164\n",
       "\\item 0.73067024376365\n",
       "\\item -1.35080092669852\n",
       "\\item -0.00851496085595985\n",
       "\\item 0.320981862836429\n",
       "\\item -1.77814840855737\n",
       "\\item 0.909503835073888\n",
       "\\item -0.919404336160487\n",
       "\\item -0.157714830888067\n",
       "\\item 1.10199738945752\n",
       "\\end{enumerate*}\n"
      ],
      "text/markdown": [
       "1. 1.37381119149164\n",
       "2. 0.73067024376365\n",
       "3. -1.35080092669852\n",
       "4. -0.00851496085595985\n",
       "5. 0.320981862836429\n",
       "6. -1.77814840855737\n",
       "7. 0.909503835073888\n",
       "8. -0.919404336160487\n",
       "9. -0.157714830888067\n",
       "10. 1.10199738945752\n",
       "\n",
       "\n"
      ],
      "text/plain": [
       " [1]  1.373811191  0.730670244 -1.350800927 -0.008514961  0.320981863\n",
       " [6] -1.778148409  0.909503835 -0.919404336 -0.157714831  1.101997389"
      ]
     },
     "metadata": {},
     "output_type": "display_data"
    }
   ],
   "source": [
    "rnorm(10)"
   ]
  },
  {
   "cell_type": "markdown",
   "metadata": {},
   "source": [
    "And then the whole sequence of 11 numbers you generated:"
   ]
  },
  {
   "cell_type": "code",
   "execution_count": 130,
   "metadata": {
    "vscode": {
     "languageId": "r"
    }
   },
   "outputs": [
    {
     "data": {
      "text/html": [
       "<style>\n",
       ".list-inline {list-style: none; margin:0; padding: 0}\n",
       ".list-inline>li {display: inline-block}\n",
       ".list-inline>li:not(:last-child)::after {content: \"\\00b7\"; padding: 0 .5ex}\n",
       "</style>\n",
       "<ol class=list-inline><li>0.156703769128359</li><li>1.37381119149164</li><li>0.73067024376365</li><li>-1.35080092669852</li><li>-0.00851496085595985</li><li>0.320981862836429</li><li>-1.77814840855737</li><li>0.909503835073888</li><li>-0.919404336160487</li><li>-0.157714830888067</li><li>1.10199738945752</li></ol>\n"
      ],
      "text/latex": [
       "\\begin{enumerate*}\n",
       "\\item 0.156703769128359\n",
       "\\item 1.37381119149164\n",
       "\\item 0.73067024376365\n",
       "\\item -1.35080092669852\n",
       "\\item -0.00851496085595985\n",
       "\\item 0.320981862836429\n",
       "\\item -1.77814840855737\n",
       "\\item 0.909503835073888\n",
       "\\item -0.919404336160487\n",
       "\\item -0.157714830888067\n",
       "\\item 1.10199738945752\n",
       "\\end{enumerate*}\n"
      ],
      "text/markdown": [
       "1. 0.156703769128359\n",
       "2. 1.37381119149164\n",
       "3. 0.73067024376365\n",
       "4. -1.35080092669852\n",
       "5. -0.00851496085595985\n",
       "6. 0.320981862836429\n",
       "7. -1.77814840855737\n",
       "8. 0.909503835073888\n",
       "9. -0.919404336160487\n",
       "10. -0.157714830888067\n",
       "11. 1.10199738945752\n",
       "\n",
       "\n"
      ],
      "text/plain": [
       " [1]  0.156703769  1.373811191  0.730670244 -1.350800927 -0.008514961\n",
       " [6]  0.320981863 -1.778148409  0.909503835 -0.919404336 -0.157714831\n",
       "[11]  1.101997389"
      ]
     },
     "metadata": {},
     "output_type": "display_data"
    }
   ],
   "source": [
    "set.seed(1234567)\n",
    "rnorm(11)"
   ]
  },
  {
   "cell_type": "markdown",
   "metadata": {},
   "source": [
    "Thus, setting the seed allows you to reliably generate the identical sequence of \"random\" numbers. These numbers are not truly random, but have the properties of random numbers. Note also that pseudo-random number generators are periodic, which means that the sequence will eventually repeat itself. However, this  period is so long that it can be ignored for most practical purposes. So effectively, `rnorm` has an enormous list that it cycles through. The random seed starts the process, i.e., indicates where in the list to start. This is usually taken from the clock when you start R.\n",
    "\n",
    "But why bother with random number seeds? Setting a particular seed can be useful when debugging programs (coming up below). Bugs in code can be hard to find &mdash; harder still if you are generating random numbers, so repeat runs of your code may or may not all trigger the same behavior. You can set the seed once at the beginning of the code &mdash; ensuring repeatability, retaining (pseudo) randomness. Once  debugged, if you want, you can remove the set seed line."
   ]
  },
  {
   "cell_type": "markdown",
   "metadata": {},
   "source": [
    "## Your analysis workflow\n",
    "\n",
    "In using R for an analysis, you will likely use and create several files. As in the case of bash and Python based projects, in R projects as well, you should keep your workflow well organized. For example, it is sensible to create a folder (directory) to keep all code files together. You can then set R to work from this directory, so that files are easy to find and run &mdash; this will be your \"working directory\" (more on this below). Also, you don't want to mix code files with data and results files. So you should create separate directories for these as well. \n",
    "\n",
    "Thus, your typical R analysis workflow will be:\n",
    "\n",
    "---\n",
    "\n",
    ":::{figure-md} R-project-org\n",
    "\n",
    "<img src=\"./graphics/RWorkflow.png\" alt=\"R Project Organization\" width=\"600px\">\n",
    "\n",
    "**Your R project.** Keeping it neat and organized if the key to becoming a good R programmer.\n",
    "\n",
    ":::\n",
    "\n",
    "---\n",
    "\n",
    "\n",
    "Some details on each kind of file:\n",
    "\n",
    "\n",
    "* *R script files*: These are plain text files containing all the R code needed for an analysis. These should  be created with a text editor, typically part of some smart code editor like vscode, or RStudio, and saved with the extension `*.R`. You should *never* use Word to save or edit these files as R can only read code from plain text files.\n",
    " \n",
    "* *Text data files* These are files of data in plain text format containing one or more columns of data (numbers, strings, or both). Although there are several format options, we will typically be using `csv` files, where the data entries are separated by commas. These are easy to create and export from Excel (if that's what you use...).\n",
    "\n",
    "* *Results output files* These are a plain text files containing your results, such the the summary of output of a regression or ANOVA analysis. Typically, you will output your results in a table format where the columns are separated by commas (csv) or tabs (tab-delimited). \n",
    "\n",
    "* *Graphics files* R can export graphics in a wide range of formats. This can be done automatically from R code and we will look at this later but you can also select a graphics window (e.g., in RStudio) and click `File` $\\triangleright$ `Save as...`.\n",
    "\n",
    "* *Rdata files* You can save any data loaded or created in R, including outputs of statistical analyses and other things, into a single`Rdata` file. These are not plain text and can only be read by R, but can hold all the data from an analysis in a single handy location. We will not use these much in this course.  \n",
    "\n",
    "So let's build your R analysis project structure. \n",
    "\n",
    "Do the following:\n",
    "\n",
    "&#9733; Create a sensibly-named directory (e.g., `MyRCoursework`, `week3`, etc, depnding on which course you are on) in an appropriate location on your computer. If you are using a college Windows computer, you may need to create it in your `H:` drive. Avoid including spaces in your file or directory names, as this will often create problems when you share your file or directory with somebody else. Many software programs do not handle spaces in file/directory names well. Use underscores instead of spaces. For example, instead of `My R Coursework`, use `My_R_Coursework` or `MyRCoursework`.   \n",
    "\n",
    "&#9733; Create subdirectories *within this directory* called `code`, `data`, and `results`. Remember,  commands in all programming languages are case-sensitive when it comes to reading directory path names, so `code` is not the same as `Code`!\n",
    "\n",
    "You can create directories using `dir.create()`within R (or if on Mac/Linux, with the usual `mkdir` from the bash terminal):\n",
    "\n",
    "```R\n",
    "dir.create(\"MyRCoursework\")\n",
    "dir.create(\"MyRCoursework/code\")\n",
    "dir.create(\"MyRCoursework/data\")    \n",
    "dir.create(\"MyRCoursework/results\")    \n",
    "```"
   ]
  },
  {
   "cell_type": "markdown",
   "metadata": {},
   "source": [
    "### The R Workspace and Working Directory\n",
    "\n",
    "R has a \"workspace\" &ndash; a current working environment that includes any user-defined data structures objects (vectors, matrices, data frames, lists) as well as other objects (e.g., functions). At the end of an R session, the user can save an image of the current workspace that is automatically reloaded the next time R is started. Your workspace is saved in your \"Working Directory\", which has to be set manually.\n",
    "\n",
    "So before we go any further, let's get sort out where your R \"Working Directory\" should be and how you should set it. R has a default location where it assumes your working directory is. \n",
    "\n",
    "* In UNIX/Linux, it is whichever directory you are in when you launch R.\n",
    "\n",
    "* In Mac, it is `/User/YourUserName` or similar.\n",
    "\n",
    "* In Windows, it is `C:/Windows/system32`or similar.\n",
    "\n",
    "To see where your current working directory is, at the R command prompt, type:\n",
    "\n",
    "`getwd()` \n",
    "\n",
    "This tells you what the current `w`orking `d`irectory is. \n",
    "\n",
    "Now, set the working directory to be `MrRCourseworkcode`. For example, if you created `MrRCoursework`directly in your `H:\\`, the you would use:\n",
    "\n",
    "`setwd(\"H:/MrRCourseworkcode\")` \n",
    "\n",
    "\n",
    "`dir()` #check what's in the current working directory\n",
    "\n",
    "On your own computer, you can also change R's default to a particular working directory where you would like to start (easily done in RStudio): \n",
    "\n",
    "* In Linux, you can do this by editing the `Rprofile.site`site with `sudo gedit /etc/R/Rprofile.site`. In that file, you would add your start-up parameters between the lines \n",
    "\n",
    "    `.First <- function() cat(\"\\n Welcome to R!\\n\\n\")`\n",
    "\n",
    "and \n",
    "\n",
    "    `.Last <- function() cat(\"\\n   Goodbye! \\n\\n\")`.\n",
    "\n",
    "Between these two lines, insert: \n",
    "    `setwd(\"/home/YourName/YourDirectoryPath\")`\n",
    "\n",
    "* In Windows and Macs, you can find the `Rprofile.site`file by searching for it. On Windows, it should be at `C:\\Program Files\\R\\R-x.x.x\\etc` directory, where `x.x.x` is your R version.\n",
    "\n",
    "* If you are using RStudio, you can change the default working directory through the RStudio \"Options\" dialog."
   ]
  },
  {
   "cell_type": "markdown",
   "metadata": {},
   "source": [
    "## Importing and Exporting Data\n",
    "\n",
    "We are now ready to see how to import and export data in R, typically the first step of your analysis. The best option is to have your data in a `c`omma `s`eparated `v`alue (` csv`) text file or in a tab separated text file. Then, you can use the function `read.csv`(or `read.table`) to import your data. Now, lets get some data into your `Data`directory.\n",
    "\n",
    "&#9733; Go to the [TheMulQuaBio git repository](https://github.com/mhasoba/TheMulQuaBio) and navigate to the [`data` directory](https://github.com/mhasoba/TheMulQuaBio/tree/master/content/data).\n",
    "\n",
    "&#9733; Download and copy the file [`trees.csv`](https://raw.githubusercontent.com/mhasoba/TheMulQuaBio/master/content/data/trees.csv) into your own `data` directory. \n",
    "\n",
    "Alternatively, of you may download the whole repository to your computer and then grab the file from the place where you downloaded it. \n",
    "\n",
    "Now, import the data:"
   ]
  },
  {
   "cell_type": "code",
   "execution_count": 131,
   "metadata": {
    "tags": [
     "remove-cell"
    ],
    "vscode": {
     "languageId": "r"
    }
   },
   "outputs": [],
   "source": [
    "setwd(\"../code/\")"
   ]
  },
  {
   "cell_type": "code",
   "execution_count": 132,
   "metadata": {
    "vscode": {
     "languageId": "r"
    }
   },
   "outputs": [],
   "source": [
    "MyData <- read.csv(\"../data/trees.csv\")"
   ]
  },
  {
   "cell_type": "code",
   "execution_count": 133,
   "metadata": {
    "vscode": {
     "languageId": "r"
    }
   },
   "outputs": [
    {
     "data": {
      "text/html": [
       "<style>\n",
       ".list-inline {list-style: none; margin:0; padding: 0}\n",
       ".list-inline>li {display: inline-block}\n",
       ".list-inline>li:not(:last-child)::after {content: \"\\00b7\"; padding: 0 .5ex}\n",
       "</style>\n",
       "<ol class=list-inline><li>'MyData'</li><li>'MyDF'</li><li>'MyList'</li><li>'MyMat'</li><li>'MyVar'</li></ol>\n"
      ],
      "text/latex": [
       "\\begin{enumerate*}\n",
       "\\item 'MyData'\n",
       "\\item 'MyDF'\n",
       "\\item 'MyList'\n",
       "\\item 'MyMat'\n",
       "\\item 'MyVar'\n",
       "\\end{enumerate*}\n"
      ],
      "text/markdown": [
       "1. 'MyData'\n",
       "2. 'MyDF'\n",
       "3. 'MyList'\n",
       "4. 'MyMat'\n",
       "5. 'MyVar'\n",
       "\n",
       "\n"
      ],
      "text/plain": [
       "[1] \"MyData\" \"MyDF\"   \"MyList\" \"MyMat\"  \"MyVar\" "
      ]
     },
     "metadata": {},
     "output_type": "display_data"
    }
   ],
   "source": [
    "ls(pattern = \"My*\") # Check that MyData has appeared"
   ]
  },
  {
   "cell_type": "markdown",
   "metadata": {},
   "source": [
    "Your output may be somewhat different, depending on what what variables and other objects have been created in \n",
    "your R Workspace during the current R session. But the main thing is, you should be able to see a `MyData` in the list of objects printed.  \n",
    "\n",
    "```{tip}\n",
    "You can list only objects with a particular name pattern by using the `pattern` option of `ls()`. It works by using regular expressions, which you were introduced through the `grep` command in the [UNIX chapter](Using-grep). We will delve deeper into regular expressions in the [Python II Chapter](Python_II:python-regex).     \n",
    "```"
   ]
  },
  {
   "cell_type": "markdown",
   "metadata": {},
   "source": [
    "Note that the resulting `MyData` object in your workspace is a R dataframe:"
   ]
  },
  {
   "cell_type": "code",
   "execution_count": 134,
   "metadata": {
    "vscode": {
     "languageId": "r"
    }
   },
   "outputs": [
    {
     "data": {
      "text/html": [
       "'data.frame'"
      ],
      "text/latex": [
       "'data.frame'"
      ],
      "text/markdown": [
       "'data.frame'"
      ],
      "text/plain": [
       "[1] \"data.frame\""
      ]
     },
     "metadata": {},
     "output_type": "display_data"
    }
   ],
   "source": [
    "class(MyData)"
   ]
  },
  {
   "cell_type": "markdown",
   "metadata": {},
   "source": [
    "### Relative paths\n",
    "\n",
    "Note the UNIX-like path to the file we used in the `read.csv()` command above (using forward slashes; Windows uses back slashes). \n",
    "\n",
    "The `../` in `read.csv(\"../data/trees.csv\")` above signifies a \"relative\" path. That is, you are asking R to load data that lies in a different directory (folder) *relative* your current location (in this case, you are in your `Code`directory). In other, more technical words, `../data/trees.txt`points to a file named `trees.txt`located in the \"parent\" of the current directory.\n",
    "\n",
    "*What is an absolute path?* &mdash; one that specifies the whole path on your computer, say from `C:\\`\"upwards\" on Windows, `/Users/` upwards on Mac, and `/home/` upwards on Linux. Absolute paths are specific to each computer, so should be avoided. So to import data and export results, your script should *not* use absolute paths. Also, *AVOID putting a `setwd()`command at the start of your R script*, because setting the working directory requires an absolute directory path, which will differ across computers, platforms, and users. Let the end users set the working directory on their machine themselves. \n",
    "\n",
    "Using relative paths in in your R scripts and code will make your code computer-independent and easier for others to use your code. The relative path way should always be the way you load data in your analyses scripts &mdash; it will guarantee that your analysis works on every computer, not just your own or college computer. \n",
    "\n",
    "\n",
    "```{tip}\n",
    "If you are using a computer from elsewhere in the EU, Excel may use a comma (e.g., $\\pi=3,1416$) instead of a decimal point ($\\pi=3.1416$). In this case, `csv`files may use a semi-colon to separate columns and you can use the alternative function `read.csv2()` to read them into the R workspace.\n",
    "\n",
    "```"
   ]
  },
  {
   "cell_type": "code",
   "execution_count": 135,
   "metadata": {
    "vscode": {
     "languageId": "r"
    }
   },
   "outputs": [
    {
     "data": {
      "text/html": [
       "<table>\n",
       "<caption>A data.frame: 6 × 3</caption>\n",
       "<thead>\n",
       "\t<tr><th></th><th scope=col>Species</th><th scope=col>Distance.m</th><th scope=col>Angle.degrees</th></tr>\n",
       "\t<tr><th></th><th scope=col>&lt;chr&gt;</th><th scope=col>&lt;dbl&gt;</th><th scope=col>&lt;dbl&gt;</th></tr>\n",
       "</thead>\n",
       "<tbody>\n",
       "\t<tr><th scope=row>1</th><td>Populus tremula   </td><td>31.66583</td><td>41.28264</td></tr>\n",
       "\t<tr><th scope=row>2</th><td>Quercus robur     </td><td>45.98499</td><td>44.53592</td></tr>\n",
       "\t<tr><th scope=row>3</th><td>Ginkgo biloba     </td><td>31.24177</td><td>25.14626</td></tr>\n",
       "\t<tr><th scope=row>4</th><td>Fraxinus excelsior</td><td>34.61667</td><td>23.33613</td></tr>\n",
       "\t<tr><th scope=row>5</th><td>Betula pendula    </td><td>45.46617</td><td>38.34913</td></tr>\n",
       "\t<tr><th scope=row>6</th><td>Betula pendula    </td><td>48.79550</td><td>33.59231</td></tr>\n",
       "</tbody>\n",
       "</table>\n"
      ],
      "text/latex": [
       "A data.frame: 6 × 3\n",
       "\\begin{tabular}{r|lll}\n",
       "  & Species & Distance.m & Angle.degrees\\\\\n",
       "  & <chr> & <dbl> & <dbl>\\\\\n",
       "\\hline\n",
       "\t1 & Populus tremula    & 31.66583 & 41.28264\\\\\n",
       "\t2 & Quercus robur      & 45.98499 & 44.53592\\\\\n",
       "\t3 & Ginkgo biloba      & 31.24177 & 25.14626\\\\\n",
       "\t4 & Fraxinus excelsior & 34.61667 & 23.33613\\\\\n",
       "\t5 & Betula pendula     & 45.46617 & 38.34913\\\\\n",
       "\t6 & Betula pendula     & 48.79550 & 33.59231\\\\\n",
       "\\end{tabular}\n"
      ],
      "text/markdown": [
       "\n",
       "A data.frame: 6 × 3\n",
       "\n",
       "| <!--/--> | Species &lt;chr&gt; | Distance.m &lt;dbl&gt; | Angle.degrees &lt;dbl&gt; |\n",
       "|---|---|---|---|\n",
       "| 1 | Populus tremula    | 31.66583 | 41.28264 |\n",
       "| 2 | Quercus robur      | 45.98499 | 44.53592 |\n",
       "| 3 | Ginkgo biloba      | 31.24177 | 25.14626 |\n",
       "| 4 | Fraxinus excelsior | 34.61667 | 23.33613 |\n",
       "| 5 | Betula pendula     | 45.46617 | 38.34913 |\n",
       "| 6 | Betula pendula     | 48.79550 | 33.59231 |\n",
       "\n"
      ],
      "text/plain": [
       "  Species            Distance.m Angle.degrees\n",
       "1 Populus tremula    31.66583   41.28264     \n",
       "2 Quercus robur      45.98499   44.53592     \n",
       "3 Ginkgo biloba      31.24177   25.14626     \n",
       "4 Fraxinus excelsior 34.61667   23.33613     \n",
       "5 Betula pendula     45.46617   38.34913     \n",
       "6 Betula pendula     48.79550   33.59231     "
      ]
     },
     "metadata": {},
     "output_type": "display_data"
    }
   ],
   "source": [
    "head(MyData) # Have a quick look at the data frame"
   ]
  },
  {
   "cell_type": "markdown",
   "metadata": {},
   "source": [
    "You can also have a more detailed look at the data you imported:"
   ]
  },
  {
   "cell_type": "code",
   "execution_count": 136,
   "metadata": {
    "vscode": {
     "languageId": "r"
    }
   },
   "outputs": [
    {
     "name": "stdout",
     "output_type": "stream",
     "text": [
      "'data.frame':\t120 obs. of  3 variables:\n",
      " $ Species      : chr  \"Populus tremula\" \"Quercus robur\" \"Ginkgo biloba\" \"Fraxinus excelsior\" ...\n",
      " $ Distance.m   : num  31.7 46 31.2 34.6 45.5 ...\n",
      " $ Angle.degrees: num  41.3 44.5 25.1 23.3 38.3 ...\n"
     ]
    }
   ],
   "source": [
    "str(MyData) # Note the data types of the three columns"
   ]
  },
  {
   "cell_type": "code",
   "execution_count": 137,
   "metadata": {
    "vscode": {
     "languageId": "r"
    }
   },
   "outputs": [],
   "source": [
    "MyData <- read.csv(\"../data/trees.csv\", header = F) # Import ignoring headers"
   ]
  },
  {
   "cell_type": "code",
   "execution_count": 138,
   "metadata": {
    "vscode": {
     "languageId": "r"
    }
   },
   "outputs": [
    {
     "data": {
      "text/html": [
       "<table>\n",
       "<caption>A data.frame: 6 × 3</caption>\n",
       "<thead>\n",
       "\t<tr><th></th><th scope=col>V1</th><th scope=col>V2</th><th scope=col>V3</th></tr>\n",
       "\t<tr><th></th><th scope=col>&lt;chr&gt;</th><th scope=col>&lt;chr&gt;</th><th scope=col>&lt;chr&gt;</th></tr>\n",
       "</thead>\n",
       "<tbody>\n",
       "\t<tr><th scope=row>1</th><td>Species           </td><td>Distance.m      </td><td>Angle.degrees   </td></tr>\n",
       "\t<tr><th scope=row>2</th><td>Populus tremula   </td><td>31.6658337740228</td><td>41.2826361937914</td></tr>\n",
       "\t<tr><th scope=row>3</th><td>Quercus robur     </td><td>45.984992608428 </td><td>44.5359166583512</td></tr>\n",
       "\t<tr><th scope=row>4</th><td>Ginkgo biloba     </td><td>31.2417666241527</td><td>25.1462585572153</td></tr>\n",
       "\t<tr><th scope=row>5</th><td>Fraxinus excelsior</td><td>34.6166691975668</td><td>23.336126555223 </td></tr>\n",
       "\t<tr><th scope=row>6</th><td>Betula pendula    </td><td>45.4661654261872</td><td>38.3491299510933</td></tr>\n",
       "</tbody>\n",
       "</table>\n"
      ],
      "text/latex": [
       "A data.frame: 6 × 3\n",
       "\\begin{tabular}{r|lll}\n",
       "  & V1 & V2 & V3\\\\\n",
       "  & <chr> & <chr> & <chr>\\\\\n",
       "\\hline\n",
       "\t1 & Species            & Distance.m       & Angle.degrees   \\\\\n",
       "\t2 & Populus tremula    & 31.6658337740228 & 41.2826361937914\\\\\n",
       "\t3 & Quercus robur      & 45.984992608428  & 44.5359166583512\\\\\n",
       "\t4 & Ginkgo biloba      & 31.2417666241527 & 25.1462585572153\\\\\n",
       "\t5 & Fraxinus excelsior & 34.6166691975668 & 23.336126555223 \\\\\n",
       "\t6 & Betula pendula     & 45.4661654261872 & 38.3491299510933\\\\\n",
       "\\end{tabular}\n"
      ],
      "text/markdown": [
       "\n",
       "A data.frame: 6 × 3\n",
       "\n",
       "| <!--/--> | V1 &lt;chr&gt; | V2 &lt;chr&gt; | V3 &lt;chr&gt; |\n",
       "|---|---|---|---|\n",
       "| 1 | Species            | Distance.m       | Angle.degrees    |\n",
       "| 2 | Populus tremula    | 31.6658337740228 | 41.2826361937914 |\n",
       "| 3 | Quercus robur      | 45.984992608428  | 44.5359166583512 |\n",
       "| 4 | Ginkgo biloba      | 31.2417666241527 | 25.1462585572153 |\n",
       "| 5 | Fraxinus excelsior | 34.6166691975668 | 23.336126555223  |\n",
       "| 6 | Betula pendula     | 45.4661654261872 | 38.3491299510933 |\n",
       "\n"
      ],
      "text/plain": [
       "  V1                 V2               V3              \n",
       "1 Species            Distance.m       Angle.degrees   \n",
       "2 Populus tremula    31.6658337740228 41.2826361937914\n",
       "3 Quercus robur      45.984992608428  44.5359166583512\n",
       "4 Ginkgo biloba      31.2417666241527 25.1462585572153\n",
       "5 Fraxinus excelsior 34.6166691975668 23.336126555223 \n",
       "6 Betula pendula     45.4661654261872 38.3491299510933"
      ]
     },
     "metadata": {},
     "output_type": "display_data"
    }
   ],
   "source": [
    "head(MyData)"
   ]
  },
  {
   "cell_type": "markdown",
   "metadata": {},
   "source": [
    "Or you can load data using the more general `read.table` function:"
   ]
  },
  {
   "cell_type": "code",
   "execution_count": 139,
   "metadata": {
    "vscode": {
     "languageId": "r"
    }
   },
   "outputs": [],
   "source": [
    "MyData <- read.table(\"../data/trees.csv\", sep = ',', header = TRUE) #another way"
   ]
  },
  {
   "cell_type": "markdown",
   "metadata": {},
   "source": [
    "With `read.table` you need to specify whether there is a header row that needs to be imported as such. "
   ]
  },
  {
   "cell_type": "code",
   "execution_count": 140,
   "metadata": {
    "vscode": {
     "languageId": "r"
    }
   },
   "outputs": [
    {
     "data": {
      "text/html": [
       "<table>\n",
       "<caption>A data.frame: 6 × 3</caption>\n",
       "<thead>\n",
       "\t<tr><th></th><th scope=col>Species</th><th scope=col>Distance.m</th><th scope=col>Angle.degrees</th></tr>\n",
       "\t<tr><th></th><th scope=col>&lt;chr&gt;</th><th scope=col>&lt;dbl&gt;</th><th scope=col>&lt;dbl&gt;</th></tr>\n",
       "</thead>\n",
       "<tbody>\n",
       "\t<tr><th scope=row>1</th><td>Populus tremula   </td><td>31.66583</td><td>41.28264</td></tr>\n",
       "\t<tr><th scope=row>2</th><td>Quercus robur     </td><td>45.98499</td><td>44.53592</td></tr>\n",
       "\t<tr><th scope=row>3</th><td>Ginkgo biloba     </td><td>31.24177</td><td>25.14626</td></tr>\n",
       "\t<tr><th scope=row>4</th><td>Fraxinus excelsior</td><td>34.61667</td><td>23.33613</td></tr>\n",
       "\t<tr><th scope=row>5</th><td>Betula pendula    </td><td>45.46617</td><td>38.34913</td></tr>\n",
       "\t<tr><th scope=row>6</th><td>Betula pendula    </td><td>48.79550</td><td>33.59231</td></tr>\n",
       "</tbody>\n",
       "</table>\n"
      ],
      "text/latex": [
       "A data.frame: 6 × 3\n",
       "\\begin{tabular}{r|lll}\n",
       "  & Species & Distance.m & Angle.degrees\\\\\n",
       "  & <chr> & <dbl> & <dbl>\\\\\n",
       "\\hline\n",
       "\t1 & Populus tremula    & 31.66583 & 41.28264\\\\\n",
       "\t2 & Quercus robur      & 45.98499 & 44.53592\\\\\n",
       "\t3 & Ginkgo biloba      & 31.24177 & 25.14626\\\\\n",
       "\t4 & Fraxinus excelsior & 34.61667 & 23.33613\\\\\n",
       "\t5 & Betula pendula     & 45.46617 & 38.34913\\\\\n",
       "\t6 & Betula pendula     & 48.79550 & 33.59231\\\\\n",
       "\\end{tabular}\n"
      ],
      "text/markdown": [
       "\n",
       "A data.frame: 6 × 3\n",
       "\n",
       "| <!--/--> | Species &lt;chr&gt; | Distance.m &lt;dbl&gt; | Angle.degrees &lt;dbl&gt; |\n",
       "|---|---|---|---|\n",
       "| 1 | Populus tremula    | 31.66583 | 41.28264 |\n",
       "| 2 | Quercus robur      | 45.98499 | 44.53592 |\n",
       "| 3 | Ginkgo biloba      | 31.24177 | 25.14626 |\n",
       "| 4 | Fraxinus excelsior | 34.61667 | 23.33613 |\n",
       "| 5 | Betula pendula     | 45.46617 | 38.34913 |\n",
       "| 6 | Betula pendula     | 48.79550 | 33.59231 |\n",
       "\n"
      ],
      "text/plain": [
       "  Species            Distance.m Angle.degrees\n",
       "1 Populus tremula    31.66583   41.28264     \n",
       "2 Quercus robur      45.98499   44.53592     \n",
       "3 Ginkgo biloba      31.24177   25.14626     \n",
       "4 Fraxinus excelsior 34.61667   23.33613     \n",
       "5 Betula pendula     45.46617   38.34913     \n",
       "6 Betula pendula     48.79550   33.59231     "
      ]
     },
     "metadata": {},
     "output_type": "display_data"
    }
   ],
   "source": [
    "head(MyData)"
   ]
  },
  {
   "cell_type": "code",
   "execution_count": 141,
   "metadata": {
    "vscode": {
     "languageId": "r"
    }
   },
   "outputs": [],
   "source": [
    "MyData <- read.csv(\"../data/trees.csv\", skip = 5) # skip first 5 lines"
   ]
  },
  {
   "cell_type": "markdown",
   "metadata": {},
   "source": [
    "### Writing to and saving files\n",
    "\n",
    "You can also save your data frames using `write.table` or `write.csv`:"
   ]
  },
  {
   "cell_type": "code",
   "execution_count": 142,
   "metadata": {
    "vscode": {
     "languageId": "r"
    }
   },
   "outputs": [],
   "source": [
    "write.csv(MyData, \"../results/MyData.csv\")"
   ]
  },
  {
   "cell_type": "code",
   "execution_count": 143,
   "metadata": {
    "scrolled": true,
    "vscode": {
     "languageId": "r"
    }
   },
   "outputs": [
    {
     "data": {
      "text/html": [
       "<style>\n",
       ".list-inline {list-style: none; margin:0; padding: 0}\n",
       ".list-inline>li {display: inline-block}\n",
       ".list-inline>li:not(:last-child)::after {content: \"\\00b7\"; padding: 0 .5ex}\n",
       "</style>\n",
       "<ol class=list-inline><li>'errorFile.Rout'</li><li>'LV_model.pdf'</li><li>'MyData.csv'</li><li>'MyFirst-ggplot2-Figure.pdf'</li><li>'MyResults.Rout'</li><li>'outputFile.Rout'</li><li>'Pred_Prey_Overlay.pdf'</li><li>'QMEENet.svg'</li><li>'TestR_errFile.Rout'</li><li>'TestR.Rout'</li><li>'TreeHeight.csv'</li></ol>\n"
      ],
      "text/latex": [
       "\\begin{enumerate*}\n",
       "\\item 'errorFile.Rout'\n",
       "\\item 'LV\\_model.pdf'\n",
       "\\item 'MyData.csv'\n",
       "\\item 'MyFirst-ggplot2-Figure.pdf'\n",
       "\\item 'MyResults.Rout'\n",
       "\\item 'outputFile.Rout'\n",
       "\\item 'Pred\\_Prey\\_Overlay.pdf'\n",
       "\\item 'QMEENet.svg'\n",
       "\\item 'TestR\\_errFile.Rout'\n",
       "\\item 'TestR.Rout'\n",
       "\\item 'TreeHeight.csv'\n",
       "\\end{enumerate*}\n"
      ],
      "text/markdown": [
       "1. 'errorFile.Rout'\n",
       "2. 'LV_model.pdf'\n",
       "3. 'MyData.csv'\n",
       "4. 'MyFirst-ggplot2-Figure.pdf'\n",
       "5. 'MyResults.Rout'\n",
       "6. 'outputFile.Rout'\n",
       "7. 'Pred_Prey_Overlay.pdf'\n",
       "8. 'QMEENet.svg'\n",
       "9. 'TestR_errFile.Rout'\n",
       "10. 'TestR.Rout'\n",
       "11. 'TreeHeight.csv'\n",
       "\n",
       "\n"
      ],
      "text/plain": [
       " [1] \"errorFile.Rout\"             \"LV_model.pdf\"              \n",
       " [3] \"MyData.csv\"                 \"MyFirst-ggplot2-Figure.pdf\"\n",
       " [5] \"MyResults.Rout\"             \"outputFile.Rout\"           \n",
       " [7] \"Pred_Prey_Overlay.pdf\"      \"QMEENet.svg\"               \n",
       " [9] \"TestR_errFile.Rout\"         \"TestR.Rout\"                \n",
       "[11] \"TreeHeight.csv\"            "
      ]
     },
     "metadata": {},
     "output_type": "display_data"
    }
   ],
   "source": [
    "dir(\"../results/\") # Check if it worked"
   ]
  },
  {
   "cell_type": "code",
   "execution_count": 144,
   "metadata": {
    "scrolled": true,
    "vscode": {
     "languageId": "r"
    }
   },
   "outputs": [
    {
     "name": "stderr",
     "output_type": "stream",
     "text": [
      "Warning message in write.table(MyData[1, ], file = \"../results/MyData.csv\", append = TRUE):\n",
      "“appending column names to file”\n"
     ]
    }
   ],
   "source": [
    "write.table(MyData[1,], file = \"../results/MyData.csv\",append=TRUE) # append"
   ]
  },
  {
   "cell_type": "markdown",
   "metadata": {},
   "source": [
    "You get a warning with here because R thinks it is strange that you are appending headers to a file that already has headers!"
   ]
  },
  {
   "cell_type": "code",
   "execution_count": 145,
   "metadata": {
    "vscode": {
     "languageId": "r"
    }
   },
   "outputs": [],
   "source": [
    "write.csv(MyData, \"../results/MyData.csv\", row.names=TRUE) # write row names"
   ]
  },
  {
   "cell_type": "code",
   "execution_count": 146,
   "metadata": {
    "vscode": {
     "languageId": "r"
    }
   },
   "outputs": [],
   "source": [
    "write.table(MyData, \"../results/MyData.csv\", col.names=FALSE) # ignore col names"
   ]
  },
  {
   "cell_type": "markdown",
   "metadata": {},
   "source": [
    "## Writing R code\n",
    " \n",
    "Typing in commands interactively in the R console is good for starters, but you will want to switch to putting your sequence of commands into a script file, and then ask R to run those commands. \n",
    "\n",
    "\n",
    "* Open a new text file, call it `basic_io.R`, and save it to your `code`directory. \n",
    "* Write the above input-output commands in it: \n",
    "\n",
    "```R\n",
    "# A simple script to illustrate R input-output.  \n",
    "# Run line by line and check inputs outputs to understand what is happening  \n",
    "\n",
    "MyData <- read.csv(\"../data/trees.csv\", header = TRUE) # import with headers\n",
    "\n",
    "write.csv(MyData, \"../results/MyData.csv\") #write it out as a new file\n",
    "\n",
    "write.table(MyData[1,], file = \"../results/MyData.csv\",append=TRUE) # Append to it\n",
    "\n",
    "write.csv(MyData, \"../results/MyData.csv\", row.names=TRUE) # write row names\n",
    "\n",
    "write.table(MyData, \"../results/MyData.csv\", col.names=FALSE) # ignore column names\n",
    "\n",
    "```\n",
    "\n",
    "* Now place the cursor on the first line of code in the script file and run it by pressing the appropriate keyboard shortcut (e.g., PC: ctrl+R, Mac: command+enter, Linux: ctrl+enter are the usual shortcuts for doing this).\n",
    "* Check after every line that you are getting the expected result."
   ]
  },
  {
   "cell_type": "markdown",
   "metadata": {},
   "source": [
    "```{note}\n",
    "**Why no shebang in your first R script?** Because we are learning R here mainly for writing scripts for data analysis & visualization, and relatively simple numerical calculations & modelling/simulation tasks. Read [this](https://www.r-bloggers.com/2019/11/r-scripts-as-command-line-tools/) and [this](https://blog.sellorm.com/2017/12/18/learn-to-write-command-line-utilities-in-r/) for some more technical advice about R scripts.\n",
    "```"
   ]
  },
  {
   "cell_type": "markdown",
   "metadata": {},
   "source": [
    "## Running R code\n",
    "\n",
    "But even writing to a script file and running the code line-by-line or block-by-block is not your ultimate goal. What you would really like to do is to just run your full analysis and output all the results. There are two main approaches for running R script/code.\n",
    "\n",
    "### Using `source`\n",
    "\n",
    "You can run all the contents of a `*.R`script file from the R command line by using `source()`.\n",
    "\n",
    "&#9733; Try sourcing `basic_io.R` (you will need to make sure you have `setwd` to your code directory):"
   ]
  },
  {
   "cell_type": "code",
   "execution_count": 147,
   "metadata": {
    "vscode": {
     "languageId": "r"
    }
   },
   "outputs": [
    {
     "name": "stderr",
     "output_type": "stream",
     "text": [
      "Warning message in write.table(MyData[1, ], file = \"../results/MyData.csv\", append = TRUE):\n",
      "“appending column names to file”\n"
     ]
    }
   ],
   "source": [
    "source(\"basic_io.R\")"
   ]
  },
  {
   "cell_type": "markdown",
   "metadata": {},
   "source": [
    "That has run OK, warning and all. \n",
    "\n",
    "* If you get errors, read and then try to fix them. The most common problem is likely to be that you have not `setwd()` to the `code` directory.  \n",
    "\n",
    "Alternatively, you can run the script from wherever (e.g., `data` directory) by adding the directory path to the script file name, if the script file is not in your working directory and you don't want to change your working directory. For example, you will need `source(\"../code/control.R` if your working directory is `data` and not `code` (using a relative path).\n",
    "\n",
    "*Do not* put a `source()`command inside the script file you are sourcing, as it is then trying to run itself again and again and that's just cruel!*\n",
    "\n",
    "```{tip}\n",
    "The command `source()`has a `chdir`argument whose default value is FALSE. When set to TRUE, it will change the working directory to the directory of the file being sourced.  \n",
    "\n",
    "```\n",
    "\n",
    "Also, if you have `source`ed a script successfully, you will see no output on in R console/terminal unless there was an error or warning, or if you explicitly asked for something to be printed. So it can be useful to add a line at the end of the script saying something like `print(\"Script complete!\")`.\n",
    "\n",
    "\n",
    "### Using `Rscript`\n",
    "\n",
    "You can also run R script from the UNIX/Linux terminal by calling `Rscript`. That is, while you have to be inside an R session to use the `source` command to run a script, you can run a R script directly from the UNIX/Linux terminal by calling `Rscript`.\n",
    "\n",
    "This allows you to easily automate execution of your R scripts (e.g., by writing a bash script) and integrate R into a bigger computing pipeline/workflow by calling it through other tools or languages (e.g., see the [Python ChapterI](Python.ipynb)). \n",
    "\n",
    "If you are on Linux, try using `Rscript` to run `basic_io.R`: \n",
    "\n",
    "* Exit from the R console using `ctrl+D`, or open a new bash terminal\n",
    "    \n",
    "* `cd` to the location of `basic_io.R` (e.g., `week3/code`)\n",
    "    \n",
    "* Then run the script using `Rscript basic_io.R`\n",
    "\n",
    "Also, please have a look at `man Rscript` in a bash terminal.\n",
    "\n",
    "### Running R in batch mode\n",
    "\n",
    "In addition to `Rscript`, there is another way to run you R script without opening the R console. In Mac or Linux, you can do so by typing:\n",
    "\n",
    "`R CMD BATCH MyCode.R MyResults.Rout`\n",
    "\n",
    "This will create an `MyResults.Rout`file containing all the output. On Microsoft Windows, it's more complicated &mdash; change the path to `R.exe`and output file as needed: \n",
    "\n",
    "`\"C:\\Program Files\\R\\R-4.x.x\\bin\\R.exe\" CMD BATCH -vanilla -slave \"C:\\PathToMyResults\\Results\\MyCode.R\"`\n",
    "\n",
    "Here, replace 4.x.x with the R version you have."
   ]
  },
  {
   "cell_type": "markdown",
   "metadata": {},
   "source": [
    "## Control flow tools\n",
    "\n",
    "In R, you can write \"if-then\", and \"else\" statements, and \"for\" and \"while\" loops like any programming language to give you finer control over your program's \"control flow\". Such statements are useful to include in functions and scripts because you may only want to do certain calculations or other tasks, under certain conditions (e.g., `if` the dataset is from a particular year, do something different). \n",
    "\n",
    "Let's look at some examples of these control flow tools in R. \n",
    "\n",
    "&#9733; Type each of the following blocks of code in a script file called `control_flow.R` and save it in your `code` directory. then run each block *separately* by sending or pasting into the R console. "
   ]
  },
  {
   "cell_type": "markdown",
   "metadata": {},
   "source": [
    "### `if` statements"
   ]
  },
  {
   "cell_type": "code",
   "execution_count": 148,
   "metadata": {
    "vscode": {
     "languageId": "r"
    }
   },
   "outputs": [
    {
     "name": "stdout",
     "output_type": "stream",
     "text": [
      "[1] \"a is TRUE\"\n"
     ]
    }
   ],
   "source": [
    "a <- TRUE\n",
    "if (a == TRUE) {\n",
    "    print (\"a is TRUE\")\n",
    "} else {\n",
    "    print (\"a is FALSE\")\n",
    "}"
   ]
  },
  {
   "cell_type": "markdown",
   "metadata": {},
   "source": [
    "Note that using `if (a)` instead of `if (a == TRUE)` will also achieve the same result, because `a` is a Boolean variable. Compare with  [Python conditionals](python-conditionals). \n",
    "\n",
    "In general, it is arguably a good idea to make explicit the `if` condition though. \n",
    "\n",
    "\n",
    "You can also write an `if` statement on a single line:"
   ]
  },
  {
   "cell_type": "code",
   "execution_count": 149,
   "metadata": {
    "vscode": {
     "languageId": "r"
    }
   },
   "outputs": [],
   "source": [
    "z <- runif(1) ## Generate a uniformly distributed random number\n",
    "if (z <= 0.5) {print (\"Less than a half\")}"
   ]
  },
  {
   "cell_type": "markdown",
   "metadata": {},
   "source": [
    "But code readability is important, so avoid squeezing control flow blocks like this into a single line.\n",
    "\n",
    "```{tip}\n",
    "Please indent your code for readability, even if its not strictly necessary (unlike [Python](./Python.ipynb)). Indentation helps you see the flow of the logic, rather than flattened version, which is hard for you and anybody else to read. For example, the following code block is so much much readable than the one above:\n",
    "\n",
    "```r\n",
    "z <- runif(1)\n",
    "if (z <= 0.5) {\n",
    "    print (\"Less than a half\")\n",
    "   }\n",
    "```"
   ]
  },
  {
   "cell_type": "markdown",
   "metadata": {},
   "source": [
    "### `for` loops"
   ]
  },
  {
   "cell_type": "markdown",
   "metadata": {},
   "source": [
    "[Loops](https://en.wikipedia.org/wiki/Control_flow#Loops) are really useful to repeat a task over some range of input values. \n",
    "\n",
    "The following code \"loops\" over a range of numbers, squaring each, and then printing the result:"
   ]
  },
  {
   "cell_type": "code",
   "execution_count": 150,
   "metadata": {
    "scrolled": true,
    "vscode": {
     "languageId": "r"
    }
   },
   "outputs": [
    {
     "name": "stdout",
     "output_type": "stream",
     "text": [
      "[1] \"1  squared is 1\"\n",
      "[1] \"2  squared is 4\"\n",
      "[1] \"3  squared is 9\"\n",
      "[1] \"4  squared is 16\"\n",
      "[1] \"5  squared is 25\"\n",
      "[1] \"6  squared is 36\"\n",
      "[1] \"7  squared is 49\"\n",
      "[1] \"8  squared is 64\"\n",
      "[1] \"9  squared is 81\"\n",
      "[1] \"10  squared is 100\"\n"
     ]
    }
   ],
   "source": [
    "for (i in 1:10) {\n",
    "    j <- i * i\n",
    "    print(paste(i, \" squared is\", j ))\n",
    "}"
   ]
  },
  {
   "cell_type": "markdown",
   "metadata": {},
   "source": [
    "What exactly is going on in the piece of code above? What are `i` and `j`? Let's break it down:\n",
    "\n",
    "Firstly The `1:10` part simply generates a sequence, as you learned [previously](R-creating-sequences):  "
   ]
  },
  {
   "cell_type": "code",
   "execution_count": 151,
   "metadata": {
    "scrolled": true,
    "vscode": {
     "languageId": "r"
    }
   },
   "outputs": [
    {
     "data": {
      "text/html": [
       "<style>\n",
       ".list-inline {list-style: none; margin:0; padding: 0}\n",
       ".list-inline>li {display: inline-block}\n",
       ".list-inline>li:not(:last-child)::after {content: \"\\00b7\"; padding: 0 .5ex}\n",
       "</style>\n",
       "<ol class=list-inline><li>1</li><li>2</li><li>3</li><li>4</li><li>5</li><li>6</li><li>7</li><li>8</li><li>9</li><li>10</li></ol>\n"
      ],
      "text/latex": [
       "\\begin{enumerate*}\n",
       "\\item 1\n",
       "\\item 2\n",
       "\\item 3\n",
       "\\item 4\n",
       "\\item 5\n",
       "\\item 6\n",
       "\\item 7\n",
       "\\item 8\n",
       "\\item 9\n",
       "\\item 10\n",
       "\\end{enumerate*}\n"
      ],
      "text/markdown": [
       "1. 1\n",
       "2. 2\n",
       "3. 3\n",
       "4. 4\n",
       "5. 5\n",
       "6. 6\n",
       "7. 7\n",
       "8. 8\n",
       "9. 9\n",
       "10. 10\n",
       "\n",
       "\n"
      ],
      "text/plain": [
       " [1]  1  2  3  4  5  6  7  8  9 10"
      ]
     },
     "metadata": {},
     "output_type": "display_data"
    }
   ],
   "source": [
    "1:10"
   ]
  },
  {
   "cell_type": "markdown",
   "metadata": {},
   "source": [
    "This is the same as using `seq(10)` (try substituting this instead of `1:10` in the above block of code). \n",
    "\n",
    "Then, `j` is a temporary variable that stores the value of the number (the other temporary variable, `i`) in that iteration of the loop.    \n",
    "\n",
    "```{note}\n",
    "Using the `:` operator or the `seq()` function pre-generates the sequence and stores it in memory, so is less efficient that Python's [`range` function](Python-loops), which generates numbers in a sequence on a \"need-to\" basis. \n",
    "```\n",
    "\n",
    "You can also loop over a vector of strings:"
   ]
  },
  {
   "cell_type": "code",
   "execution_count": 152,
   "metadata": {
    "scrolled": true,
    "vscode": {
     "languageId": "r"
    }
   },
   "outputs": [
    {
     "name": "stdout",
     "output_type": "stream",
     "text": [
      "[1] \"The species is Heliodoxa rubinoides\"\n",
      "[1] \"The species is Boissonneaua jardini\"\n",
      "[1] \"The species is Sula nebouxii\"\n"
     ]
    }
   ],
   "source": [
    "for(species in c('Heliodoxa rubinoides', \n",
    "                 'Boissonneaua jardini', \n",
    "                 'Sula nebouxii')) {\n",
    "      print(paste('The species is', species))\n",
    "}"
   ]
  },
  {
   "cell_type": "markdown",
   "metadata": {},
   "source": [
    "These is a random assortment of birds!\n",
    "\n",
    "And here's a for loop using apre-existing vector:"
   ]
  },
  {
   "cell_type": "code",
   "execution_count": 153,
   "metadata": {
    "vscode": {
     "languageId": "r"
    }
   },
   "outputs": [
    {
     "name": "stdout",
     "output_type": "stream",
     "text": [
      "[1] \"a\"\n",
      "[1] \"bc\"\n",
      "[1] \"def\"\n"
     ]
    }
   ],
   "source": [
    "v1 <- c(\"a\",\"bc\",\"def\")\n",
    "for (i in v1) {\n",
    "    print(i)\n",
    "}"
   ]
  },
  {
   "cell_type": "markdown",
   "metadata": {},
   "source": [
    "### `while` loops\n",
    "\n",
    "If you want to perform an operation till some condition is met, use a `while` loop:"
   ]
  },
  {
   "cell_type": "code",
   "execution_count": 154,
   "metadata": {
    "vscode": {
     "languageId": "r"
    }
   },
   "outputs": [
    {
     "name": "stdout",
     "output_type": "stream",
     "text": [
      "[1] 1\n",
      "[1] 4\n",
      "[1] 9\n",
      "[1] 16\n",
      "[1] 25\n",
      "[1] 36\n",
      "[1] 49\n",
      "[1] 64\n",
      "[1] 81\n",
      "[1] 100\n"
     ]
    }
   ],
   "source": [
    "i <- 0\n",
    "while (i < 10) {\n",
    "    i <- i+1\n",
    "    print(i^2)\n",
    "}"
   ]
  },
  {
   "cell_type": "markdown",
   "metadata": {},
   "source": [
    "&#9733; Now test `control_flow.R`. That is, run the script file  using `source` (and `Rscript` if on Linux).\n",
    "\n",
    "If you get errors, read them carefully and fix them (this is going to be your mantra henceforth!)."
   ]
  },
  {
   "cell_type": "markdown",
   "metadata": {},
   "source": [
    "### Some more control flow tools\n",
    "\n",
    "Let's look at some more control tools that are less commonly used, but can be useful in certain scenarios.  \n",
    "\n",
    "#### `break`ing out of loops\n",
    "Often it is useful (or necessary) to `break` out of a loop when some condition is met. Use `break` (like in pretty much any other programming language, like Python) in situations when you cannot set a target number of iterations and would like to stop the loop execultion once some condition is met (as you would with a `while` loop). \n",
    "\n",
    "Try this (type into `break.R` and save in `code`):"
   ]
  },
  {
   "cell_type": "code",
   "execution_count": 155,
   "metadata": {
    "vscode": {
     "languageId": "r"
    }
   },
   "outputs": [
    {
     "name": "stdout",
     "output_type": "stream",
     "text": [
      "i equals  0  \n",
      "i equals  1  \n",
      "i equals  2  \n",
      "i equals  3  \n",
      "i equals  4  \n",
      "i equals  5  \n",
      "i equals  6  \n",
      "i equals  7  \n",
      "i equals  8  \n",
      "i equals  9  \n"
     ]
    }
   ],
   "source": [
    "i <- 0 #Initialize i\n",
    "    while (i < Inf) {\n",
    "        if (i == 10) {\n",
    "            break \n",
    "        } else { # Break out of the while loop!  \n",
    "            cat(\"i equals \" , i , \" \\n\")\n",
    "            i <- i + 1 # Update i\n",
    "    }\n",
    "}"
   ]
  },
  {
   "cell_type": "markdown",
   "metadata": {},
   "source": [
    "#### Using `next`\n",
    "\n",
    "You can also skip to next iteration of a loop. Both `next` and `break` can be used within other loops (` while`, `for`). Try this (type into `next.R` and save in `code`):"
   ]
  },
  {
   "cell_type": "code",
   "execution_count": 156,
   "metadata": {
    "vscode": {
     "languageId": "r"
    }
   },
   "outputs": [
    {
     "name": "stdout",
     "output_type": "stream",
     "text": [
      "[1] 1\n",
      "[1] 3\n",
      "[1] 5\n",
      "[1] 7\n",
      "[1] 9\n"
     ]
    }
   ],
   "source": [
    "for (i in 1:10) {\n",
    "  if ((i %% 2) == 0) # check if the number is odd\n",
    "    next # pass to next iteration of loop \n",
    "  print(i)\n",
    "}"
   ]
  },
  {
   "cell_type": "markdown",
   "metadata": {},
   "source": [
    "This code checks if a number is odd using the \"modulo\" operation and prints it if it is."
   ]
  },
  {
   "cell_type": "markdown",
   "metadata": {},
   "source": [
    "## Writing R Functions\n",
    "\n",
    "A function is a block of re-useable code that takes an input, does something with it (or to it!), and returns the result. Like any other programming language, R lets you write your own functions. All the \"commands\" that you have been using, such as `ls()`, `mean()`, `c()`, etc are basically functions. You will want to write your own function for every scenario where a particular task or set of analysis steps need to be performed again and again.   \n",
    "The syntax for R functions is quite simple, with each function accepting \"arguments\" and \"returning\" a value. \n",
    "\n",
    "### Your first R function\n",
    "\n",
    "&#9733; Type the following into a script file called  `boilerplate.R`and save it in your `code` directory:\n",
    " \n",
    "```R\n",
    "\n",
    "# A boilerplate R script\n",
    "\n",
    "MyFunction <- function(Arg1, Arg2) {\n",
    "  \n",
    "  # Statements involving Arg1, Arg2:\n",
    "  print(paste(\"Argument\", as.character(Arg1), \"is a\", class(Arg1))) # print Arg1's type\n",
    "  print(paste(\"Argument\", as.character(Arg2), \"is a\", class(Arg2))) # print Arg2's type\n",
    "    \n",
    "  return (c(Arg1, Arg2)) #this is optional, but very useful\n",
    "}\n",
    "\n",
    "MyFunction(1,2) #test the function\n",
    "MyFunction(\"Riki\",\"Tiki\") #A different test\n",
    "```\n",
    "Note the curly brackets &ndash; these are necessary for R to know where the specification of the function starts and ends. Also, note the indentation. Not necessary (unlike Python), but recommended to make the code more readable.\n",
    "\n",
    "Now enter the R console and source the script:"
   ]
  },
  {
   "cell_type": "code",
   "execution_count": 157,
   "metadata": {
    "vscode": {
     "languageId": "r"
    }
   },
   "outputs": [
    {
     "name": "stdout",
     "output_type": "stream",
     "text": [
      "[1] \"Argument 1 is a numeric\"\n",
      "[1] \"Argument 2 is a numeric\"\n",
      "[1] \"Argument Riki is a character\"\n",
      "[1] \"Argument Tiki is a character\"\n"
     ]
    }
   ],
   "source": [
    "source(\"boilerplate.R\")"
   ]
  },
  {
   "cell_type": "markdown",
   "metadata": {},
   "source": [
    "This will run the script, and also save your function `MyFunction` as an object into your workspace (try `ls()`, and you will see `MyFunction` appear in the list of objects):"
   ]
  },
  {
   "cell_type": "code",
   "execution_count": 158,
   "metadata": {
    "vscode": {
     "languageId": "r"
    }
   },
   "outputs": [
    {
     "data": {
      "text/html": [
       "'MyFunction'"
      ],
      "text/latex": [
       "'MyFunction'"
      ],
      "text/markdown": [
       "'MyFunction'"
      ],
      "text/plain": [
       "[1] \"MyFunction\""
      ]
     },
     "metadata": {},
     "output_type": "display_data"
    }
   ],
   "source": [
    "ls(pattern = \"MyFun*\")"
   ]
  },
  {
   "cell_type": "markdown",
   "metadata": {},
   "source": [
    "Again, you output may be a bit different as you have been different things in your R workspace/session than I have. What matters is that you see `MyFunction` in the list of objects above.    \n",
    "\n",
    "Now try: "
   ]
  },
  {
   "cell_type": "code",
   "execution_count": 159,
   "metadata": {
    "vscode": {
     "languageId": "r"
    }
   },
   "outputs": [
    {
     "data": {
      "text/html": [
       "'function'"
      ],
      "text/latex": [
       "'function'"
      ],
      "text/markdown": [
       "'function'"
      ],
      "text/plain": [
       "[1] \"function\""
      ]
     },
     "metadata": {},
     "output_type": "display_data"
    }
   ],
   "source": [
    "class(MyFunction)"
   ]
  },
  {
   "cell_type": "markdown",
   "metadata": {},
   "source": [
    "So, yes, `MyFunction`is a `function` objec, just as it would be in Python."
   ]
  },
  {
   "cell_type": "markdown",
   "metadata": {},
   "source": [
    "### Functions with conditionals\n",
    "\n",
    "\n",
    "Here are some examples of functions with conditionals:"
   ]
  },
  {
   "cell_type": "code",
   "execution_count": 160,
   "metadata": {
    "scrolled": true,
    "vscode": {
     "languageId": "r"
    }
   },
   "outputs": [
    {
     "data": {
      "text/html": [
       "'6 is even!'"
      ],
      "text/latex": [
       "'6 is even!'"
      ],
      "text/markdown": [
       "'6 is even!'"
      ],
      "text/plain": [
       "[1] \"6 is even!\""
      ]
     },
     "metadata": {},
     "output_type": "display_data"
    }
   ],
   "source": [
    "# Checks if an integer is even\n",
    "is.even <- function(n = 2) {\n",
    "  if (n %% 2 == 0) {\n",
    "    return(paste(n,'is even!'))\n",
    "  } else {\n",
    "  return(paste(n,'is odd!'))\n",
    "  }\n",
    "}\n",
    "\n",
    "is.even(6)"
   ]
  },
  {
   "cell_type": "code",
   "execution_count": 161,
   "metadata": {
    "vscode": {
     "languageId": "r"
    }
   },
   "outputs": [
    {
     "data": {
      "text/html": [
       "'4 is a power of 2!'"
      ],
      "text/latex": [
       "'4 is a power of 2!'"
      ],
      "text/markdown": [
       "'4 is a power of 2!'"
      ],
      "text/plain": [
       "[1] \"4 is a power of 2!\""
      ]
     },
     "metadata": {},
     "output_type": "display_data"
    }
   ],
   "source": [
    "# Checks if a number is a power of 2\n",
    "is.power2 <- function(n = 2) {\n",
    "  if (log2(n) %% 1==0) {\n",
    "    return(paste(n, 'is a power of 2!'))\n",
    "  } else {\n",
    "  return(paste(n,'is not a power of 2!'))\n",
    "    }\n",
    "}\n",
    "\n",
    "is.power2(4)"
   ]
  },
  {
   "cell_type": "code",
   "execution_count": 162,
   "metadata": {
    "vscode": {
     "languageId": "r"
    }
   },
   "outputs": [
    {
     "data": {
      "text/html": [
       "'3 is a prime!'"
      ],
      "text/latex": [
       "'3 is a prime!'"
      ],
      "text/markdown": [
       "'3 is a prime!'"
      ],
      "text/plain": [
       "[1] \"3 is a prime!\""
      ]
     },
     "metadata": {},
     "output_type": "display_data"
    }
   ],
   "source": [
    "# Checks if a number is prime\n",
    "is.prime <- function(n) {\n",
    "  if (n==0) {\n",
    "    return(paste(n,'is a zero!'))\n",
    "  } else if (n==1) {\n",
    "    return(paste(n,'is just a unit!'))\n",
    "  }\n",
    "    \n",
    "  ints <- 2:(n-1)\n",
    "  \n",
    "  if (all(n%%ints!=0)) {\n",
    "    return(paste(n,'is a prime!'))\n",
    "  } else {\n",
    "  return(paste(n,'is a composite!'))\n",
    "    }\n",
    "}\n",
    "\n",
    "is.prime(3)"
   ]
  },
  {
   "cell_type": "markdown",
   "metadata": {},
   "source": [
    "&#9733; Run the three blocks of code in R one at a time and make sure you understand what each function is doing and how. Save all three blocks to a single script file called `R_conditionals.R` in your `code` directory, and make sure it runs using `source` and `Rscript` (in the Linux/Ubuntu terminal) . "
   ]
  },
  {
   "cell_type": "markdown",
   "metadata": {},
   "source": [
    "### An example utility function\n",
    "\n",
    "\n",
    "Now let's write a script containing a more useful function:\n",
    "\n",
    "&#9733; In your text editor type the following in a file called `TreeHeight.R`, and save it in your `code`directory:\n",
    "\n",
    "```R\n",
    "# This function calculates heights of trees given distance of each tree \n",
    "# from its base and angle to its top, using  the trigonometric formula \n",
    "#\n",
    "# height = distance * tan(radians)\n",
    "#\n",
    "# ARGUMENTS\n",
    "# degrees:   The angle of elevation of tree\n",
    "# distance:  The distance from base of tree (e.g., meters)\n",
    "#\n",
    "# OUTPUT\n",
    "# The heights of the tree, same units as \"distance\"\n",
    "\n",
    "TreeHeight <- function(degrees, distance) {\n",
    "    radians <- degrees * pi / 180\n",
    "    height <- distance * tan(radians)\n",
    "    print(paste(\"Tree height is:\", height))\n",
    "  \n",
    "    return (height)\n",
    "}\n",
    "\n",
    "TreeHeight(37, 40)\n",
    "```\n",
    "\n",
    "* Run `TreeHeight.R`'s two blocks (the `TreeHeight` function, and the call to the function, `TreeHeight(37, 40)`) by pasting them sequentially into the R console. Try and understand what each line is doing.\n",
    "* Now test the whole `TreeHeight.R` script at one go using `source` and/or `Rscript` (in Linux/Ubuntu)."
   ]
  },
  {
   "cell_type": "markdown",
   "metadata": {},
   "source": [
    "## Practicals\n",
    "    \n",
    "### Tree heights\n",
    "\n",
    "Modify the script `TreeHeight.R` so that it does the following:\n",
    "  * Loads `trees.csv` and calculates tree heights for all trees in the data. Note that the distances have been measured in meters. (Hint: use relative paths)).\n",
    "  * Creates a csv output file called `TreeHts.csv` in `results`that contains the calculated tree heights along with the original data in the following format (only first two rows and headers shown):    \n",
    "    ```bash\n",
    "    \"Species\",\"Distance.m\",\"Angle.degrees\",\"Tree.Height.m\"\n",
    "    \"Populus tremula\",31.6658337740228,41.2826361937914,27.8021161438536\n",
    "    \"Quercus robur\",45.984992608428,44.5359166583512,45.2460250644405\n",
    "    ```\n",
    "This script should work using either `source` or `Rscript` in Linux / UNIX.\n",
    "\n",
    "\n",
    "### Groupwork Practical on Tree Heights\n",
    "\n",
    "The goal of this practical is to make the `TreeHeight.R` script more general, so that it could be used for other datasets, not just `trees.csv`. \n",
    "\n",
    "Guidelines:\n",
    "\n",
    "  * Write another R script called `get_TreeHeight.R` that takes a csv file name from the command line (e.g., `get_TreeHeight.R Trees.csv`) and outputs the result to a file just like `TreeHeight.R`above, but this time includes the input file name in the output file name as `InputFileName_treeheights.csv`. Note that you will have to strip the `.csv`or whatever the extension is from the filename, and also `../` etc., if you are using relative paths. (Hint: Command-line parameters are accessible within the R running environment via `commandArgs()` &mdash; so `help(commandArgs)` might be your starting point.)\n",
    "  * Write a Unix shell script called `run_get_TreeHeight.sh` that tests `get_TreeHeight.R`. Include `trees.csv`as your example file. Note that `source`will not work in this case as it does not allow scripts with arguments to be run; you will have to use `Rscript`instead. \n",
    "\n",
    "### Groupwork Practical  on Tree Heights  2\n",
    "\n",
    "Assuming you have already worked through [Python Chapter](./Python.ipynb), write a Python version of `get_TreeHeight.R` (call it `get_TreeHeight.py`). Include a test of this script into `run_get_TreeHeight.sh`.\n"
   ]
  },
  {
   "cell_type": "markdown",
   "metadata": {},
   "source": [
    "(R-Vectorization)=\n",
    "\n",
    "## Vectorization\n",
    "\n",
    "R is relatively slow at cycling through a data structure such as a dataframe or matrix (e.g., by using a `for` loop) because it is a *high-level, interpreted computer language*. \n",
    "\n",
    "That is, when you execute a command in R, it needs to \"read\" and interpret the necessary code from scratch every single time the command is called. On the other hand, compiled languages like C know exactly what the flow of the program is because the code is pre-interpreted and ready to go before execution (i.e., the code is \"compiled\").  \n",
    "\n",
    "For example, when you assign a new variable in R:"
   ]
  },
  {
   "cell_type": "code",
   "execution_count": 163,
   "metadata": {
    "scrolled": true,
    "vscode": {
     "languageId": "r"
    }
   },
   "outputs": [
    {
     "data": {
      "text/html": [
       "'numeric'"
      ],
      "text/latex": [
       "'numeric'"
      ],
      "text/markdown": [
       "'numeric'"
      ],
      "text/plain": [
       "[1] \"numeric\""
      ]
     },
     "metadata": {},
     "output_type": "display_data"
    }
   ],
   "source": [
    "a <- 1.0\n",
    "class(a)"
   ]
  },
  {
   "cell_type": "markdown",
   "metadata": {},
   "source": [
    "R automatically figures out that `1.0` is an floating point number, and finds a place in the system memory for it with `a` registered as a \"pointer\" to it.\n",
    "\n",
    "In contrast, in C, for example, you would have to do so manually by giving `a` an address and space in memory:\n",
    "\n",
    "```C\n",
    "float a\n",
    "a = 1\n",
    "```\n",
    "\n",
    "*Vectorization is an approach where you directly apply compiled, optimized code to run an operation on a vector, matrix, or an higher-dimensional data structure (like an R array), instead of performing the operation element-wise (each row or column element one at a time) on the data structure*. \n",
    "\n",
    "Apart from computational efficiency vectorization makes writing code more concise, easy to read, and less error prone.\n",
    "\n",
    "Let's try an example that illustrates this point.\n",
    "\n",
    "&#9733; Type (save in `Code`) as `Vectorize1.R` the following script, and run it (it sums all elements of a matrix):"
   ]
  },
  {
   "cell_type": "code",
   "execution_count": 164,
   "metadata": {
    "scrolled": true,
    "vscode": {
     "languageId": "r"
    }
   },
   "outputs": [
    {
     "name": "stdout",
     "output_type": "stream",
     "text": [
      "[1] \"Using loops, the time taken is:\"\n",
      "   user  system elapsed \n",
      "  0.058   0.000   0.057 \n",
      "[1] \"Using the in-built vectorized function, the time taken is:\"\n",
      "   user  system elapsed \n",
      "  0.001   0.000   0.001 \n"
     ]
    }
   ],
   "source": [
    "M <- matrix(runif(1000000),1000,1000)\n",
    "\n",
    "SumAllElements <- function(M) {\n",
    "  Dimensions <- dim(M)\n",
    "  Tot <- 0\n",
    "  for (i in 1:Dimensions[1]) {\n",
    "    for (j in 1:Dimensions[2]) {\n",
    "      Tot <- Tot + M[i,j]\n",
    "    }\n",
    "  }\n",
    "  return (Tot)\n",
    "}\n",
    " \n",
    "print(\"Using loops, the time taken is:\")\n",
    "print(system.time(SumAllElements(M)))\n",
    "\n",
    "print(\"Using the in-built vectorized function, the time taken is:\")\n",
    "print(system.time(sum(M)))"
   ]
  },
  {
   "cell_type": "markdown",
   "metadata": {},
   "source": [
    "Note the `system.time` R function: it calculates how much time your code takes. This time will vary with every run, and every computer that this code is run on (so your times will be a bit different than what I got).\n",
    "\n",
    "Both `SumAllElements()` and `sum()` approaches are correct, and will give you the right answer. However, the inbuilt function `sum()`  is about 100 times faster than the other, because it uses vectorization, avoiding the amount of looping that `SumAllElements()` uses.\n",
    "\n",
    "In effect, of course, the computer still has to run loops. However, this running of the loops is encapsulated in a pre-complied program that R calls. These programs are written in more primitive (and therefore, faster) languages like Fortran and C. For example `sum` is actually written in C if you look under the hood.\n",
    "\n",
    "In R, even if you should try to avoid loops, in practice, it is often much easier to throw in a `for` loop, and *then* \"optimize\" the code to avoid the loop if the running time is not satisfactory. Therefore, it is still essential that you to become familiar with loops and looping as you learned in the sections above. \n",
    "\n",
    "### Pre-allocation\n",
    "\n",
    "And if you are using loops, one operation that is slow in R (and somewhat slow in all languages) is memory allocation for a particular variable that will change during looping (e.g., a variable that is a dataframe). So writing a for loop that resizes a vector repeatedly makes R re-allocate memory repeatedly, which makes it slow. Try this:"
   ]
  },
  {
   "cell_type": "code",
   "execution_count": 165,
   "metadata": {
    "vscode": {
     "languageId": "r"
    }
   },
   "outputs": [
    {
     "name": "stdout",
     "output_type": "stream",
     "text": [
      "[1] 1\n",
      "56 bytes\n",
      "[1] 1 2\n",
      "56 bytes\n",
      "[1] 1 2 3\n",
      "64 bytes\n",
      "[1] 1 2 3 4\n",
      "64 bytes\n",
      "[1] 1 2 3 4 5\n",
      "80 bytes\n",
      "[1] 1 2 3 4 5 6\n",
      "80 bytes\n",
      "[1] 1 2 3 4 5 6 7\n",
      "80 bytes\n",
      "[1] 1 2 3 4 5 6 7 8\n",
      "80 bytes\n",
      "[1] 1 2 3 4 5 6 7 8 9\n",
      "96 bytes\n",
      " [1]  1  2  3  4  5  6  7  8  9 10\n",
      "96 bytes\n"
     ]
    },
    {
     "data": {
      "text/plain": [
       "   user  system elapsed \n",
       "  0.005   0.000   0.005 "
      ]
     },
     "metadata": {},
     "output_type": "display_data"
    }
   ],
   "source": [
    "NoPreallocFun <- function(x) {\n",
    "    a <- vector() # empty vector\n",
    "    for (i in 1:x) {\n",
    "        a <- c(a, i) # concatenate\n",
    "        print(a)\n",
    "        print(object.size(a))\n",
    "    }\n",
    "}\n",
    "\n",
    "system.time(NoPreallocFun(10))"
   ]
  },
  {
   "cell_type": "markdown",
   "metadata": {},
   "source": [
    "Here, in each repetition of the for loop, you can see that R has to re-size the vector and re-allocate (more) memory. It has to find the vector in memory, create a new vector that will fit more data, copy the old data over, insert the new data, and erase the old vector. This can get very slow as vectors get big.\n",
    "\n",
    "On the other hand, if you \"pre-allocate\" a vector that fits all the values, R doesn't have to re-allocate memory each iteration. Here's how you'd do that for the above case:"
   ]
  },
  {
   "cell_type": "code",
   "execution_count": 166,
   "metadata": {
    "vscode": {
     "languageId": "r"
    }
   },
   "outputs": [
    {
     "name": "stdout",
     "output_type": "stream",
     "text": [
      " [1]  1 NA NA NA NA NA NA NA NA NA\n",
      "96 bytes\n",
      " [1]  1  2 NA NA NA NA NA NA NA NA\n",
      "96 bytes\n",
      " [1]  1  2  3 NA NA NA NA NA NA NA\n",
      "96 bytes\n",
      " [1]  1  2  3  4 NA NA NA NA NA NA\n",
      "96 bytes\n",
      " [1]  1  2  3  4  5 NA NA NA NA NA\n",
      "96 bytes\n",
      " [1]  1  2  3  4  5  6 NA NA NA NA\n",
      "96 bytes\n",
      " [1]  1  2  3  4  5  6  7 NA NA NA\n",
      "96 bytes\n",
      " [1]  1  2  3  4  5  6  7  8 NA NA\n",
      "96 bytes\n",
      " [1]  1  2  3  4  5  6  7  8  9 NA\n",
      "96 bytes\n",
      " [1]  1  2  3  4  5  6  7  8  9 10\n",
      "96 bytes\n"
     ]
    },
    {
     "data": {
      "text/plain": [
       "   user  system elapsed \n",
       "  0.005   0.000   0.005 "
      ]
     },
     "metadata": {},
     "output_type": "display_data"
    }
   ],
   "source": [
    "PreallocFun <- function(x) {\n",
    "    a <- rep(NA, x) # pre-allocated vector\n",
    "    for (i in 1:x) {\n",
    "        a[i] <- i # assign\n",
    "        print(a)\n",
    "        print(object.size(a))\n",
    "    }\n",
    "}\n",
    "\n",
    "system.time(PreallocFun(10))"
   ]
  },
  {
   "cell_type": "markdown",
   "metadata": {},
   "source": [
    "&#9733; Write the above two blocks of code into a script called `preallocate.R`. You can't really see the difference in timing here using `system.time()` because the vector is really small (just 10 elements), and the `print()` commands take up most of the time. To really see the difference in efficiency between the two functions, increase the iterations in your script from 10 to 1000, and suppress the print commands. Make this modification to your script. The modified script should print just the outputs of the two `system.time()` calls. \n",
    "\n",
    "Fortunately, R has several functions that can operate on entire vectors and matrices without requiring looping (Vectorization). That is, vectorizing a computer program means you write it such that as many operations as possible are applied to whole data structure (vectors, matrices, dataframes, lists, etc) at one go, instead of its individual elements. \n",
    "\n",
    "You will learn about some important R functions that allow vectorization in the following sections. \n",
    "\n",
    "### The `*apply` family of functions\n",
    "\n",
    "There are a family of functions called `*apply` in R that vectorize your code for you. These functions are described in the help files (e.g. `?apply`). \n",
    "\n",
    "For example, `apply` can be used when you want to apply a function to the rows or columns of a matrix (and higher-dimensional analogues &ndash; remember arrays!). This is not generally advisable for data frames as it will first need to coerce the data frame to a matrix first.\n",
    "\n",
    "Let us try using applying the same function to rows/colums of a matrix using `apply`. \n",
    "\n",
    "\n",
    "&#9733; Type the following in a script file called `apply1.R`, save it to your `Code` directory, and run it:"
   ]
  },
  {
   "cell_type": "code",
   "execution_count": 167,
   "metadata": {
    "scrolled": true,
    "vscode": {
     "languageId": "r"
    }
   },
   "outputs": [
    {
     "name": "stdout",
     "output_type": "stream",
     "text": [
      " [1]  0.36031151  0.04436538  0.22147423  0.20493801  0.16210725  0.04860134\n",
      " [7]  0.41767343 -0.30198204  0.17624371 -0.12782576\n"
     ]
    }
   ],
   "source": [
    "## Build a random matrix\n",
    "M <- matrix(rnorm(100), 10, 10)\n",
    "\n",
    "## Take the mean of each row\n",
    "RowMeans <- apply(M, 1, mean)\n",
    "print (RowMeans)"
   ]
  },
  {
   "cell_type": "code",
   "execution_count": 168,
   "metadata": {
    "vscode": {
     "languageId": "r"
    }
   },
   "outputs": [
    {
     "name": "stdout",
     "output_type": "stream",
     "text": [
      " [1] 0.8054302 0.5757168 0.3312622 0.4285847 0.9819718 0.9878042 0.6637336\n",
      " [8] 0.8063847 0.4404945 1.3378551\n"
     ]
    }
   ],
   "source": [
    "## Now the variance\n",
    "RowVars <- apply(M, 1, var)\n",
    "print (RowVars)"
   ]
  },
  {
   "cell_type": "code",
   "execution_count": 169,
   "metadata": {
    "vscode": {
     "languageId": "r"
    }
   },
   "outputs": [
    {
     "name": "stdout",
     "output_type": "stream",
     "text": [
      " [1]  0.225188540 -0.005593872  0.070236505  0.540658047  0.207704657\n",
      " [6] -0.039456952 -0.308016915 -0.052139549 -0.017257915  0.584584511\n"
     ]
    }
   ],
   "source": [
    "## By column\n",
    "ColMeans <- apply(M, 2, mean)\n",
    "print (ColMeans)"
   ]
  },
  {
   "cell_type": "markdown",
   "metadata": {},
   "source": [
    "That was using `apply` on some of R's inbuilt functions. You can use apply to define your own functions. Let's try it.\n",
    "\n",
    "&#9733; Type the following in a script file called `apply2.R`, save it to your `Code` directory, and run it:"
   ]
  },
  {
   "cell_type": "code",
   "execution_count": 170,
   "metadata": {
    "vscode": {
     "languageId": "r"
    }
   },
   "outputs": [
    {
     "name": "stdout",
     "output_type": "stream",
     "text": [
      "            [,1]       [,2]       [,3]      [,4]       [,5]        [,6]\n",
      " [1,] -106.44722  2.3371370  1.0559140 132.82229 -1.6203334 -0.05900780\n",
      " [2,] -157.38528  0.3797613 -1.2492399  24.26802 -2.2088775  0.90341806\n",
      " [3,]   92.95907 -0.6291500 -0.9929116  29.93611 -0.3486302 -0.04996913\n",
      " [4,] -111.08703 -1.4445990  0.3708286 141.99939 -0.6054340 -0.13279619\n",
      " [5,] -125.89911 -0.4336938 -0.7685165  13.44170 -0.3323428 -0.12348365\n",
      " [6,]  208.06965  0.6501489 -0.9919553 -74.20527  0.4434329 -0.18276033\n",
      " [7,]   87.63698 -1.0227154 -3.1277661 -82.89960  0.4122197 -0.03684696\n",
      " [8,]   51.75016 -0.1946142  0.6565232  53.47613 -1.1940299  0.42181959\n",
      " [9,]  189.57050 -1.0438154 -1.1548153 120.39767 -0.1090974 -1.05598363\n",
      "[10,]  -23.49047 -2.1845175 -1.1056128 -39.83537 -0.6582071 -1.38676997\n",
      "             [,7]       [,8]        [,9]      [,10]\n",
      " [1,] -0.40267504  143.30394  -96.153857  48.088545\n",
      " [2,]  0.30144152 -152.23231  135.607088 -72.898308\n",
      " [3,]  0.11424690  -47.33326   12.495097 115.674739\n",
      " [4,] -0.81054999  -69.50276  105.596186  -4.562763\n",
      " [5,]  0.05203639   69.80701   25.350763 -31.714310\n",
      " [6,]  0.14324126  183.99747  -70.573723  25.479703\n",
      " [7,] -0.46020333 -114.11636 -189.228103 106.570816\n",
      " [8,]  0.13776675  -10.50949    9.018402 -12.671495\n",
      " [9,] -0.80801253   54.87079  140.080446 -56.858713\n",
      "[10,] -0.21652267  169.58570   23.127953  21.557046\n"
     ]
    }
   ],
   "source": [
    "SomeOperation <- function(v) { # (What does this function do?)\n",
    "  if (sum(v) > 0) { #note that sum(v) is a single (scalar) value\n",
    "    return (v * 100)\n",
    "  } else { \n",
    "  return (v)\n",
    "    }\n",
    "}\n",
    "\n",
    "M <- matrix(rnorm(100), 10, 10)\n",
    "print (apply(M, 1, SomeOperation))"
   ]
  },
  {
   "cell_type": "markdown",
   "metadata": {},
   "source": [
    "Thus, the function `SomeOperation` takes as input `v`. Then if the sum of v is greater than zero, it multiplies that value by 100. So if `v` has positive and negative numbers, and the sum comes out to be positive, only then does it multiply all the values in `v` by 100 and return them.\n",
    "\n",
    "There are many other methods: `lapply`, `sapply`, `eapply`, etc. Each is best for a given data type. For example, `lapply` abd `sapply` are designed for R lists. Have a look at [this Stackoveflow thread](https://stackoverflow.com/questions/3505701/grouping-functions-tapply-by-aggregate-and-the-apply-family) \n",
    "for some guidelines.\n",
    "\n",
    "#### A vectorization example\n",
    "\n",
    "Let's try an example of vectorization involving `lapply` and `sapply`. Both of these *apply* a function to *each element of a list*, but the former returns a list, while the latter returns a vector. \n",
    "\n",
    "We will also see how [sampling random numbers](R-random-numbers) works in the process of trying out this example.\n",
    "\n",
    "&#9733; Type the following blocks of code into a single script called `sample.R` and save in `code`.\n",
    "\n",
    "First some functions:"
   ]
  },
  {
   "cell_type": "code",
   "execution_count": 171,
   "metadata": {
    "vscode": {
     "languageId": "r"
    }
   },
   "outputs": [],
   "source": [
    "######### Functions ##########\n",
    "\n",
    "## A function to take a sample of size n from a population \"popn\" and return its mean\n",
    "myexperiment <- function(popn,n) {\n",
    "    pop_sample <- sample(popn, n, replace = FALSE)\n",
    "    return(mean(pop_sample))\n",
    "}\n",
    "\n",
    "## Calculate means using a FOR loop on a vector without preallocation:\n",
    "loopy_sample1 <- function(popn, n, num) {\n",
    "    result1 <- vector() #Initialize empty vector of size 1 \n",
    "    for(i in 1:num) {\n",
    "        result1 <- c(result1, myexperiment(popn, n))\n",
    "    }\n",
    "    return(result1)\n",
    "}\n",
    "\n",
    "## To run \"num\" iterations of the experiment using a FOR loop on a vector with preallocation:\n",
    "loopy_sample2 <- function(popn, n, num) {\n",
    "    result2 <- vector(,num) #Preallocate expected size\n",
    "    for(i in 1:num) {\n",
    "        result2[i] <- myexperiment(popn, n)\n",
    "    }\n",
    "    return(result2)\n",
    "}\n",
    "\n",
    "## To run \"num\" iterations of the experiment using a FOR loop on a list with preallocation:\n",
    "loopy_sample3 <- function(popn, n, num) {\n",
    "    result3 <- vector(\"list\", num) #Preallocate expected size\n",
    "    for(i in 1:num) {\n",
    "        result3[[i]] <- myexperiment(popn, n)\n",
    "    }\n",
    "    return(result3)\n",
    "}\n",
    "\n",
    "\n",
    "## To run \"num\" iterations of the experiment using vectorization with lapply:\n",
    "lapply_sample <- function(popn, n, num) {\n",
    "    result4 <- lapply(1:num, function(i) myexperiment(popn, n))\n",
    "    return(result4)\n",
    "}\n",
    "\n",
    "## To run \"num\" iterations of the experiment using vectorization with sapply:\n",
    "sapply_sample <- function(popn, n, num) {\n",
    "    result5 <- sapply(1:num, function(i) myexperiment(popn, n))\n",
    "    return(result5)\n",
    "}"
   ]
  },
  {
   "cell_type": "markdown",
   "metadata": {},
   "source": [
    "*Think carefully about what each of these functions does.* \n",
    "\n",
    "Now let's generate a population. To get the same result every time, let's set seed (you might want to review [this section](R-random-numbers))."
   ]
  },
  {
   "cell_type": "code",
   "execution_count": 172,
   "metadata": {
    "vscode": {
     "languageId": "r"
    }
   },
   "outputs": [
    {
     "data": {
      "image/png": "[encoded data removed]",
      "text/plain": [
       "Plot with title “Histogram of popn”"
      ]
     },
     "metadata": {
      "image/png": {
       "height": 360,
       "width": 360
      }
     },
     "output_type": "display_data"
    }
   ],
   "source": [
    "set.seed(12345)\n",
    "popn <- rnorm(10000) # Generate the population\n",
    "hist(popn)"
   ]
  },
  {
   "cell_type": "markdown",
   "metadata": {},
   "source": [
    "And run and time the different functions:"
   ]
  },
  {
   "cell_type": "code",
   "execution_count": 173,
   "metadata": {
    "scrolled": true,
    "vscode": {
     "languageId": "r"
    }
   },
   "outputs": [
    {
     "name": "stdout",
     "output_type": "stream",
     "text": [
      "[1] \"Using loops without preallocation on a vector took:\"\n",
      "   user  system elapsed \n",
      "  0.476   0.004   0.479 \n",
      "[1] \"Using loops with preallocation on a vector took:\"\n",
      "   user  system elapsed \n",
      "  0.315   0.024   0.339 \n",
      "[1] \"Using loops with preallocation on a list took:\"\n",
      "   user  system elapsed \n",
      "  0.253   0.097   0.350 \n",
      "[1] \"Using the vectorized sapply function (on a list) took:\"\n",
      "   user  system elapsed \n",
      "  0.243   0.085   0.328 \n",
      "[1] \"Using the vectorized lapply function (on a list) took:\"\n",
      "   user  system elapsed \n",
      "  0.263   0.072   0.337 \n"
     ]
    }
   ],
   "source": [
    "n <- 100 # sample size for each experiment\n",
    "num <- 10000 # Number of times to rerun the experiment\n",
    "\n",
    "print(\"Using loops without preallocation on a vector took:\" )\n",
    "print(system.time(loopy_sample1(popn, n, num)))\n",
    "\n",
    "print(\"Using loops with preallocation on a vector took:\" )\n",
    "print(system.time(loopy_sample2(popn, n, num)))\n",
    "\n",
    "print(\"Using loops with preallocation on a list took:\" )\n",
    "print(system.time(loopy_sample3(popn, n, num)))\n",
    "\n",
    "print(\"Using the vectorized sapply function (on a list) took:\" )\n",
    "print(system.time(sapply_sample(popn, n, num)))\n",
    "\n",
    "print(\"Using the vectorized lapply function (on a list) took:\" )\n",
    "print(system.time(lapply_sample(popn, n, num)))"
   ]
  },
  {
   "cell_type": "markdown",
   "metadata": {},
   "source": [
    "*Note that these times will be different on your computer because they depend on the computer's hardware and software (especially, the operating system), as well as what other processes are running.*\n",
    "\n",
    "&#9733; Run `sample.R` using `source` and/or `Rscript` and make sure it works.\n",
    "\n",
    "Rerun the script a few times, first by fixing the `n` and `num` parameters, and then also by varying them. Compare the times you get from these repeated runs of the script and think about which approach is the most efficient and why. Clearly, the loopy, without a pre-allocation approach is usually (but not always) going to be bad, while the others are pretty comparable."
   ]
  },
  {
   "cell_type": "markdown",
   "metadata": {},
   "source": [
    "#### The `tapply` function\n",
    "\n",
    "Let's look at `tapply`, which is particularly useful because it allows you to apply a function to subsets of a vector in a dataframe, with the subsets defined by some other vector in the same dataframe, usually a factor (this could be useful for pound hill data analysis that's coming up, for example). \n",
    "\n",
    "This makes it a bit of a different member of the `*apply` family. Try this:"
   ]
  },
  {
   "cell_type": "code",
   "execution_count": 174,
   "metadata": {
    "vscode": {
     "languageId": "r"
    }
   },
   "outputs": [
    {
     "data": {
      "text/html": [
       "<style>\n",
       ".list-inline {list-style: none; margin:0; padding: 0}\n",
       ".list-inline>li {display: inline-block}\n",
       ".list-inline>li:not(:last-child)::after {content: \"\\00b7\"; padding: 0 .5ex}\n",
       "</style>\n",
       "<ol class=list-inline><li>1</li><li>2</li><li>3</li><li>4</li><li>5</li><li>6</li><li>7</li><li>8</li><li>9</li><li>10</li><li>11</li><li>12</li><li>13</li><li>14</li><li>15</li><li>16</li><li>17</li><li>18</li><li>19</li><li>20</li></ol>\n"
      ],
      "text/latex": [
       "\\begin{enumerate*}\n",
       "\\item 1\n",
       "\\item 2\n",
       "\\item 3\n",
       "\\item 4\n",
       "\\item 5\n",
       "\\item 6\n",
       "\\item 7\n",
       "\\item 8\n",
       "\\item 9\n",
       "\\item 10\n",
       "\\item 11\n",
       "\\item 12\n",
       "\\item 13\n",
       "\\item 14\n",
       "\\item 15\n",
       "\\item 16\n",
       "\\item 17\n",
       "\\item 18\n",
       "\\item 19\n",
       "\\item 20\n",
       "\\end{enumerate*}\n"
      ],
      "text/markdown": [
       "1. 1\n",
       "2. 2\n",
       "3. 3\n",
       "4. 4\n",
       "5. 5\n",
       "6. 6\n",
       "7. 7\n",
       "8. 8\n",
       "9. 9\n",
       "10. 10\n",
       "11. 11\n",
       "12. 12\n",
       "13. 13\n",
       "14. 14\n",
       "15. 15\n",
       "16. 16\n",
       "17. 17\n",
       "18. 18\n",
       "19. 19\n",
       "20. 20\n",
       "\n",
       "\n"
      ],
      "text/plain": [
       " [1]  1  2  3  4  5  6  7  8  9 10 11 12 13 14 15 16 17 18 19 20"
      ]
     },
     "metadata": {},
     "output_type": "display_data"
    }
   ],
   "source": [
    "x <- 1:20 # a vector\n",
    "x"
   ]
  },
  {
   "cell_type": "markdown",
   "metadata": {},
   "source": [
    "Now create a `factor` type variable (of the same length) defining groups:"
   ]
  },
  {
   "cell_type": "code",
   "execution_count": 175,
   "metadata": {
    "vscode": {
     "languageId": "r"
    }
   },
   "outputs": [
    {
     "data": {
      "text/html": [
       "<style>\n",
       ".list-inline {list-style: none; margin:0; padding: 0}\n",
       ".list-inline>li {display: inline-block}\n",
       ".list-inline>li:not(:last-child)::after {content: \"\\00b7\"; padding: 0 .5ex}\n",
       "</style>\n",
       "<ol class=list-inline><li>a</li><li>a</li><li>a</li><li>a</li><li>b</li><li>b</li><li>b</li><li>b</li><li>c</li><li>c</li><li>c</li><li>c</li><li>d</li><li>d</li><li>d</li><li>d</li><li>e</li><li>e</li><li>e</li><li>e</li></ol>\n",
       "\n",
       "<details>\n",
       "\t<summary style=display:list-item;cursor:pointer>\n",
       "\t\t<strong>Levels</strong>:\n",
       "\t</summary>\n",
       "\t<style>\n",
       "\t.list-inline {list-style: none; margin:0; padding: 0}\n",
       "\t.list-inline>li {display: inline-block}\n",
       "\t.list-inline>li:not(:last-child)::after {content: \"\\00b7\"; padding: 0 .5ex}\n",
       "\t</style>\n",
       "\t<ol class=list-inline><li>'a'</li><li>'b'</li><li>'c'</li><li>'d'</li><li>'e'</li></ol>\n",
       "</details>"
      ],
      "text/latex": [
       "\\begin{enumerate*}\n",
       "\\item a\n",
       "\\item a\n",
       "\\item a\n",
       "\\item a\n",
       "\\item b\n",
       "\\item b\n",
       "\\item b\n",
       "\\item b\n",
       "\\item c\n",
       "\\item c\n",
       "\\item c\n",
       "\\item c\n",
       "\\item d\n",
       "\\item d\n",
       "\\item d\n",
       "\\item d\n",
       "\\item e\n",
       "\\item e\n",
       "\\item e\n",
       "\\item e\n",
       "\\end{enumerate*}\n",
       "\n",
       "\\emph{Levels}: \\begin{enumerate*}\n",
       "\\item 'a'\n",
       "\\item 'b'\n",
       "\\item 'c'\n",
       "\\item 'd'\n",
       "\\item 'e'\n",
       "\\end{enumerate*}\n"
      ],
      "text/markdown": [
       "1. a\n",
       "2. a\n",
       "3. a\n",
       "4. a\n",
       "5. b\n",
       "6. b\n",
       "7. b\n",
       "8. b\n",
       "9. c\n",
       "10. c\n",
       "11. c\n",
       "12. c\n",
       "13. d\n",
       "14. d\n",
       "15. d\n",
       "16. d\n",
       "17. e\n",
       "18. e\n",
       "19. e\n",
       "20. e\n",
       "\n",
       "\n",
       "\n",
       "**Levels**: 1. 'a'\n",
       "2. 'b'\n",
       "3. 'c'\n",
       "4. 'd'\n",
       "5. 'e'\n",
       "\n",
       "\n"
      ],
      "text/plain": [
       " [1] a a a a b b b b c c c c d d d d e e e e\n",
       "Levels: a b c d e"
      ]
     },
     "metadata": {},
     "output_type": "display_data"
    }
   ],
   "source": [
    "y <- factor(rep(letters[1:5], each = 4)) \n",
    "y"
   ]
  },
  {
   "cell_type": "markdown",
   "metadata": {
    "tags": []
   },
   "source": [
    "Now add up the values in x within each subgroup defined by y:"
   ]
  },
  {
   "cell_type": "code",
   "execution_count": 176,
   "metadata": {
    "vscode": {
     "languageId": "r"
    }
   },
   "outputs": [
    {
     "data": {
      "text/html": [
       "<style>\n",
       ".dl-inline {width: auto; margin:0; padding: 0}\n",
       ".dl-inline>dt, .dl-inline>dd {float: none; width: auto; display: inline-block}\n",
       ".dl-inline>dt::after {content: \":\\0020\"; padding-right: .5ex}\n",
       ".dl-inline>dt:not(:first-of-type) {padding-left: .5ex}\n",
       "</style><dl class=dl-inline><dt>a</dt><dd>10</dd><dt>b</dt><dd>26</dd><dt>c</dt><dd>42</dd><dt>d</dt><dd>58</dd><dt>e</dt><dd>74</dd></dl>\n"
      ],
      "text/latex": [
       "\\begin{description*}\n",
       "\\item[a] 10\n",
       "\\item[b] 26\n",
       "\\item[c] 42\n",
       "\\item[d] 58\n",
       "\\item[e] 74\n",
       "\\end{description*}\n"
      ],
      "text/markdown": [
       "a\n",
       ":   10b\n",
       ":   26c\n",
       ":   42d\n",
       ":   58e\n",
       ":   74\n",
       "\n"
      ],
      "text/plain": [
       " a  b  c  d  e \n",
       "10 26 42 58 74 "
      ]
     },
     "metadata": {},
     "output_type": "display_data"
    }
   ],
   "source": [
    "tapply(x, y, sum)"
   ]
  },
  {
   "cell_type": "markdown",
   "metadata": {},
   "source": [
    "### Using `by`\n",
    "\n",
    "You can also do something similar to `tapply` with the `by` function, i.e., apply a function to a dataframe using some factor to define the subsets. Try this:\n",
    "\n",
    "First import some data:"
   ]
  },
  {
   "cell_type": "code",
   "execution_count": 177,
   "metadata": {
    "scrolled": true,
    "vscode": {
     "languageId": "r"
    }
   },
   "outputs": [
    {
     "data": {
      "text/html": [
       "<table>\n",
       "<caption>A data.frame: 150 × 5</caption>\n",
       "<thead>\n",
       "\t<tr><th scope=col>Sepal.Length</th><th scope=col>Sepal.Width</th><th scope=col>Petal.Length</th><th scope=col>Petal.Width</th><th scope=col>Species</th></tr>\n",
       "\t<tr><th scope=col>&lt;dbl&gt;</th><th scope=col>&lt;dbl&gt;</th><th scope=col>&lt;dbl&gt;</th><th scope=col>&lt;dbl&gt;</th><th scope=col>&lt;fct&gt;</th></tr>\n",
       "</thead>\n",
       "<tbody>\n",
       "\t<tr><td>5.1</td><td>3.5</td><td>1.4</td><td>0.2</td><td>setosa</td></tr>\n",
       "\t<tr><td>4.9</td><td>3.0</td><td>1.4</td><td>0.2</td><td>setosa</td></tr>\n",
       "\t<tr><td>4.7</td><td>3.2</td><td>1.3</td><td>0.2</td><td>setosa</td></tr>\n",
       "\t<tr><td>4.6</td><td>3.1</td><td>1.5</td><td>0.2</td><td>setosa</td></tr>\n",
       "\t<tr><td>5.0</td><td>3.6</td><td>1.4</td><td>0.2</td><td>setosa</td></tr>\n",
       "\t<tr><td>5.4</td><td>3.9</td><td>1.7</td><td>0.4</td><td>setosa</td></tr>\n",
       "\t<tr><td>4.6</td><td>3.4</td><td>1.4</td><td>0.3</td><td>setosa</td></tr>\n",
       "\t<tr><td>5.0</td><td>3.4</td><td>1.5</td><td>0.2</td><td>setosa</td></tr>\n",
       "\t<tr><td>4.4</td><td>2.9</td><td>1.4</td><td>0.2</td><td>setosa</td></tr>\n",
       "\t<tr><td>4.9</td><td>3.1</td><td>1.5</td><td>0.1</td><td>setosa</td></tr>\n",
       "\t<tr><td>5.4</td><td>3.7</td><td>1.5</td><td>0.2</td><td>setosa</td></tr>\n",
       "\t<tr><td>4.8</td><td>3.4</td><td>1.6</td><td>0.2</td><td>setosa</td></tr>\n",
       "\t<tr><td>4.8</td><td>3.0</td><td>1.4</td><td>0.1</td><td>setosa</td></tr>\n",
       "\t<tr><td>4.3</td><td>3.0</td><td>1.1</td><td>0.1</td><td>setosa</td></tr>\n",
       "\t<tr><td>5.8</td><td>4.0</td><td>1.2</td><td>0.2</td><td>setosa</td></tr>\n",
       "\t<tr><td>5.7</td><td>4.4</td><td>1.5</td><td>0.4</td><td>setosa</td></tr>\n",
       "\t<tr><td>5.4</td><td>3.9</td><td>1.3</td><td>0.4</td><td>setosa</td></tr>\n",
       "\t<tr><td>5.1</td><td>3.5</td><td>1.4</td><td>0.3</td><td>setosa</td></tr>\n",
       "\t<tr><td>5.7</td><td>3.8</td><td>1.7</td><td>0.3</td><td>setosa</td></tr>\n",
       "\t<tr><td>5.1</td><td>3.8</td><td>1.5</td><td>0.3</td><td>setosa</td></tr>\n",
       "\t<tr><td>5.4</td><td>3.4</td><td>1.7</td><td>0.2</td><td>setosa</td></tr>\n",
       "\t<tr><td>5.1</td><td>3.7</td><td>1.5</td><td>0.4</td><td>setosa</td></tr>\n",
       "\t<tr><td>4.6</td><td>3.6</td><td>1.0</td><td>0.2</td><td>setosa</td></tr>\n",
       "\t<tr><td>5.1</td><td>3.3</td><td>1.7</td><td>0.5</td><td>setosa</td></tr>\n",
       "\t<tr><td>4.8</td><td>3.4</td><td>1.9</td><td>0.2</td><td>setosa</td></tr>\n",
       "\t<tr><td>5.0</td><td>3.0</td><td>1.6</td><td>0.2</td><td>setosa</td></tr>\n",
       "\t<tr><td>5.0</td><td>3.4</td><td>1.6</td><td>0.4</td><td>setosa</td></tr>\n",
       "\t<tr><td>5.2</td><td>3.5</td><td>1.5</td><td>0.2</td><td>setosa</td></tr>\n",
       "\t<tr><td>5.2</td><td>3.4</td><td>1.4</td><td>0.2</td><td>setosa</td></tr>\n",
       "\t<tr><td>4.7</td><td>3.2</td><td>1.6</td><td>0.2</td><td>setosa</td></tr>\n",
       "\t<tr><td>⋮</td><td>⋮</td><td>⋮</td><td>⋮</td><td>⋮</td></tr>\n",
       "\t<tr><td>6.9</td><td>3.2</td><td>5.7</td><td>2.3</td><td>virginica</td></tr>\n",
       "\t<tr><td>5.6</td><td>2.8</td><td>4.9</td><td>2.0</td><td>virginica</td></tr>\n",
       "\t<tr><td>7.7</td><td>2.8</td><td>6.7</td><td>2.0</td><td>virginica</td></tr>\n",
       "\t<tr><td>6.3</td><td>2.7</td><td>4.9</td><td>1.8</td><td>virginica</td></tr>\n",
       "\t<tr><td>6.7</td><td>3.3</td><td>5.7</td><td>2.1</td><td>virginica</td></tr>\n",
       "\t<tr><td>7.2</td><td>3.2</td><td>6.0</td><td>1.8</td><td>virginica</td></tr>\n",
       "\t<tr><td>6.2</td><td>2.8</td><td>4.8</td><td>1.8</td><td>virginica</td></tr>\n",
       "\t<tr><td>6.1</td><td>3.0</td><td>4.9</td><td>1.8</td><td>virginica</td></tr>\n",
       "\t<tr><td>6.4</td><td>2.8</td><td>5.6</td><td>2.1</td><td>virginica</td></tr>\n",
       "\t<tr><td>7.2</td><td>3.0</td><td>5.8</td><td>1.6</td><td>virginica</td></tr>\n",
       "\t<tr><td>7.4</td><td>2.8</td><td>6.1</td><td>1.9</td><td>virginica</td></tr>\n",
       "\t<tr><td>7.9</td><td>3.8</td><td>6.4</td><td>2.0</td><td>virginica</td></tr>\n",
       "\t<tr><td>6.4</td><td>2.8</td><td>5.6</td><td>2.2</td><td>virginica</td></tr>\n",
       "\t<tr><td>6.3</td><td>2.8</td><td>5.1</td><td>1.5</td><td>virginica</td></tr>\n",
       "\t<tr><td>6.1</td><td>2.6</td><td>5.6</td><td>1.4</td><td>virginica</td></tr>\n",
       "\t<tr><td>7.7</td><td>3.0</td><td>6.1</td><td>2.3</td><td>virginica</td></tr>\n",
       "\t<tr><td>6.3</td><td>3.4</td><td>5.6</td><td>2.4</td><td>virginica</td></tr>\n",
       "\t<tr><td>6.4</td><td>3.1</td><td>5.5</td><td>1.8</td><td>virginica</td></tr>\n",
       "\t<tr><td>6.0</td><td>3.0</td><td>4.8</td><td>1.8</td><td>virginica</td></tr>\n",
       "\t<tr><td>6.9</td><td>3.1</td><td>5.4</td><td>2.1</td><td>virginica</td></tr>\n",
       "\t<tr><td>6.7</td><td>3.1</td><td>5.6</td><td>2.4</td><td>virginica</td></tr>\n",
       "\t<tr><td>6.9</td><td>3.1</td><td>5.1</td><td>2.3</td><td>virginica</td></tr>\n",
       "\t<tr><td>5.8</td><td>2.7</td><td>5.1</td><td>1.9</td><td>virginica</td></tr>\n",
       "\t<tr><td>6.8</td><td>3.2</td><td>5.9</td><td>2.3</td><td>virginica</td></tr>\n",
       "\t<tr><td>6.7</td><td>3.3</td><td>5.7</td><td>2.5</td><td>virginica</td></tr>\n",
       "\t<tr><td>6.7</td><td>3.0</td><td>5.2</td><td>2.3</td><td>virginica</td></tr>\n",
       "\t<tr><td>6.3</td><td>2.5</td><td>5.0</td><td>1.9</td><td>virginica</td></tr>\n",
       "\t<tr><td>6.5</td><td>3.0</td><td>5.2</td><td>2.0</td><td>virginica</td></tr>\n",
       "\t<tr><td>6.2</td><td>3.4</td><td>5.4</td><td>2.3</td><td>virginica</td></tr>\n",
       "\t<tr><td>5.9</td><td>3.0</td><td>5.1</td><td>1.8</td><td>virginica</td></tr>\n",
       "</tbody>\n",
       "</table>\n"
      ],
      "text/latex": [
       "A data.frame: 150 × 5\n",
       "\\begin{tabular}{lllll}\n",
       " Sepal.Length & Sepal.Width & Petal.Length & Petal.Width & Species\\\\\n",
       " <dbl> & <dbl> & <dbl> & <dbl> & <fct>\\\\\n",
       "\\hline\n",
       "\t 5.1 & 3.5 & 1.4 & 0.2 & setosa\\\\\n",
       "\t 4.9 & 3.0 & 1.4 & 0.2 & setosa\\\\\n",
       "\t 4.7 & 3.2 & 1.3 & 0.2 & setosa\\\\\n",
       "\t 4.6 & 3.1 & 1.5 & 0.2 & setosa\\\\\n",
       "\t 5.0 & 3.6 & 1.4 & 0.2 & setosa\\\\\n",
       "\t 5.4 & 3.9 & 1.7 & 0.4 & setosa\\\\\n",
       "\t 4.6 & 3.4 & 1.4 & 0.3 & setosa\\\\\n",
       "\t 5.0 & 3.4 & 1.5 & 0.2 & setosa\\\\\n",
       "\t 4.4 & 2.9 & 1.4 & 0.2 & setosa\\\\\n",
       "\t 4.9 & 3.1 & 1.5 & 0.1 & setosa\\\\\n",
       "\t 5.4 & 3.7 & 1.5 & 0.2 & setosa\\\\\n",
       "\t 4.8 & 3.4 & 1.6 & 0.2 & setosa\\\\\n",
       "\t 4.8 & 3.0 & 1.4 & 0.1 & setosa\\\\\n",
       "\t 4.3 & 3.0 & 1.1 & 0.1 & setosa\\\\\n",
       "\t 5.8 & 4.0 & 1.2 & 0.2 & setosa\\\\\n",
       "\t 5.7 & 4.4 & 1.5 & 0.4 & setosa\\\\\n",
       "\t 5.4 & 3.9 & 1.3 & 0.4 & setosa\\\\\n",
       "\t 5.1 & 3.5 & 1.4 & 0.3 & setosa\\\\\n",
       "\t 5.7 & 3.8 & 1.7 & 0.3 & setosa\\\\\n",
       "\t 5.1 & 3.8 & 1.5 & 0.3 & setosa\\\\\n",
       "\t 5.4 & 3.4 & 1.7 & 0.2 & setosa\\\\\n",
       "\t 5.1 & 3.7 & 1.5 & 0.4 & setosa\\\\\n",
       "\t 4.6 & 3.6 & 1.0 & 0.2 & setosa\\\\\n",
       "\t 5.1 & 3.3 & 1.7 & 0.5 & setosa\\\\\n",
       "\t 4.8 & 3.4 & 1.9 & 0.2 & setosa\\\\\n",
       "\t 5.0 & 3.0 & 1.6 & 0.2 & setosa\\\\\n",
       "\t 5.0 & 3.4 & 1.6 & 0.4 & setosa\\\\\n",
       "\t 5.2 & 3.5 & 1.5 & 0.2 & setosa\\\\\n",
       "\t 5.2 & 3.4 & 1.4 & 0.2 & setosa\\\\\n",
       "\t 4.7 & 3.2 & 1.6 & 0.2 & setosa\\\\\n",
       "\t ⋮ & ⋮ & ⋮ & ⋮ & ⋮\\\\\n",
       "\t 6.9 & 3.2 & 5.7 & 2.3 & virginica\\\\\n",
       "\t 5.6 & 2.8 & 4.9 & 2.0 & virginica\\\\\n",
       "\t 7.7 & 2.8 & 6.7 & 2.0 & virginica\\\\\n",
       "\t 6.3 & 2.7 & 4.9 & 1.8 & virginica\\\\\n",
       "\t 6.7 & 3.3 & 5.7 & 2.1 & virginica\\\\\n",
       "\t 7.2 & 3.2 & 6.0 & 1.8 & virginica\\\\\n",
       "\t 6.2 & 2.8 & 4.8 & 1.8 & virginica\\\\\n",
       "\t 6.1 & 3.0 & 4.9 & 1.8 & virginica\\\\\n",
       "\t 6.4 & 2.8 & 5.6 & 2.1 & virginica\\\\\n",
       "\t 7.2 & 3.0 & 5.8 & 1.6 & virginica\\\\\n",
       "\t 7.4 & 2.8 & 6.1 & 1.9 & virginica\\\\\n",
       "\t 7.9 & 3.8 & 6.4 & 2.0 & virginica\\\\\n",
       "\t 6.4 & 2.8 & 5.6 & 2.2 & virginica\\\\\n",
       "\t 6.3 & 2.8 & 5.1 & 1.5 & virginica\\\\\n",
       "\t 6.1 & 2.6 & 5.6 & 1.4 & virginica\\\\\n",
       "\t 7.7 & 3.0 & 6.1 & 2.3 & virginica\\\\\n",
       "\t 6.3 & 3.4 & 5.6 & 2.4 & virginica\\\\\n",
       "\t 6.4 & 3.1 & 5.5 & 1.8 & virginica\\\\\n",
       "\t 6.0 & 3.0 & 4.8 & 1.8 & virginica\\\\\n",
       "\t 6.9 & 3.1 & 5.4 & 2.1 & virginica\\\\\n",
       "\t 6.7 & 3.1 & 5.6 & 2.4 & virginica\\\\\n",
       "\t 6.9 & 3.1 & 5.1 & 2.3 & virginica\\\\\n",
       "\t 5.8 & 2.7 & 5.1 & 1.9 & virginica\\\\\n",
       "\t 6.8 & 3.2 & 5.9 & 2.3 & virginica\\\\\n",
       "\t 6.7 & 3.3 & 5.7 & 2.5 & virginica\\\\\n",
       "\t 6.7 & 3.0 & 5.2 & 2.3 & virginica\\\\\n",
       "\t 6.3 & 2.5 & 5.0 & 1.9 & virginica\\\\\n",
       "\t 6.5 & 3.0 & 5.2 & 2.0 & virginica\\\\\n",
       "\t 6.2 & 3.4 & 5.4 & 2.3 & virginica\\\\\n",
       "\t 5.9 & 3.0 & 5.1 & 1.8 & virginica\\\\\n",
       "\\end{tabular}\n"
      ],
      "text/markdown": [
       "\n",
       "A data.frame: 150 × 5\n",
       "\n",
       "| Sepal.Length &lt;dbl&gt; | Sepal.Width &lt;dbl&gt; | Petal.Length &lt;dbl&gt; | Petal.Width &lt;dbl&gt; | Species &lt;fct&gt; |\n",
       "|---|---|---|---|---|\n",
       "| 5.1 | 3.5 | 1.4 | 0.2 | setosa |\n",
       "| 4.9 | 3.0 | 1.4 | 0.2 | setosa |\n",
       "| 4.7 | 3.2 | 1.3 | 0.2 | setosa |\n",
       "| 4.6 | 3.1 | 1.5 | 0.2 | setosa |\n",
       "| 5.0 | 3.6 | 1.4 | 0.2 | setosa |\n",
       "| 5.4 | 3.9 | 1.7 | 0.4 | setosa |\n",
       "| 4.6 | 3.4 | 1.4 | 0.3 | setosa |\n",
       "| 5.0 | 3.4 | 1.5 | 0.2 | setosa |\n",
       "| 4.4 | 2.9 | 1.4 | 0.2 | setosa |\n",
       "| 4.9 | 3.1 | 1.5 | 0.1 | setosa |\n",
       "| 5.4 | 3.7 | 1.5 | 0.2 | setosa |\n",
       "| 4.8 | 3.4 | 1.6 | 0.2 | setosa |\n",
       "| 4.8 | 3.0 | 1.4 | 0.1 | setosa |\n",
       "| 4.3 | 3.0 | 1.1 | 0.1 | setosa |\n",
       "| 5.8 | 4.0 | 1.2 | 0.2 | setosa |\n",
       "| 5.7 | 4.4 | 1.5 | 0.4 | setosa |\n",
       "| 5.4 | 3.9 | 1.3 | 0.4 | setosa |\n",
       "| 5.1 | 3.5 | 1.4 | 0.3 | setosa |\n",
       "| 5.7 | 3.8 | 1.7 | 0.3 | setosa |\n",
       "| 5.1 | 3.8 | 1.5 | 0.3 | setosa |\n",
       "| 5.4 | 3.4 | 1.7 | 0.2 | setosa |\n",
       "| 5.1 | 3.7 | 1.5 | 0.4 | setosa |\n",
       "| 4.6 | 3.6 | 1.0 | 0.2 | setosa |\n",
       "| 5.1 | 3.3 | 1.7 | 0.5 | setosa |\n",
       "| 4.8 | 3.4 | 1.9 | 0.2 | setosa |\n",
       "| 5.0 | 3.0 | 1.6 | 0.2 | setosa |\n",
       "| 5.0 | 3.4 | 1.6 | 0.4 | setosa |\n",
       "| 5.2 | 3.5 | 1.5 | 0.2 | setosa |\n",
       "| 5.2 | 3.4 | 1.4 | 0.2 | setosa |\n",
       "| 4.7 | 3.2 | 1.6 | 0.2 | setosa |\n",
       "| ⋮ | ⋮ | ⋮ | ⋮ | ⋮ |\n",
       "| 6.9 | 3.2 | 5.7 | 2.3 | virginica |\n",
       "| 5.6 | 2.8 | 4.9 | 2.0 | virginica |\n",
       "| 7.7 | 2.8 | 6.7 | 2.0 | virginica |\n",
       "| 6.3 | 2.7 | 4.9 | 1.8 | virginica |\n",
       "| 6.7 | 3.3 | 5.7 | 2.1 | virginica |\n",
       "| 7.2 | 3.2 | 6.0 | 1.8 | virginica |\n",
       "| 6.2 | 2.8 | 4.8 | 1.8 | virginica |\n",
       "| 6.1 | 3.0 | 4.9 | 1.8 | virginica |\n",
       "| 6.4 | 2.8 | 5.6 | 2.1 | virginica |\n",
       "| 7.2 | 3.0 | 5.8 | 1.6 | virginica |\n",
       "| 7.4 | 2.8 | 6.1 | 1.9 | virginica |\n",
       "| 7.9 | 3.8 | 6.4 | 2.0 | virginica |\n",
       "| 6.4 | 2.8 | 5.6 | 2.2 | virginica |\n",
       "| 6.3 | 2.8 | 5.1 | 1.5 | virginica |\n",
       "| 6.1 | 2.6 | 5.6 | 1.4 | virginica |\n",
       "| 7.7 | 3.0 | 6.1 | 2.3 | virginica |\n",
       "| 6.3 | 3.4 | 5.6 | 2.4 | virginica |\n",
       "| 6.4 | 3.1 | 5.5 | 1.8 | virginica |\n",
       "| 6.0 | 3.0 | 4.8 | 1.8 | virginica |\n",
       "| 6.9 | 3.1 | 5.4 | 2.1 | virginica |\n",
       "| 6.7 | 3.1 | 5.6 | 2.4 | virginica |\n",
       "| 6.9 | 3.1 | 5.1 | 2.3 | virginica |\n",
       "| 5.8 | 2.7 | 5.1 | 1.9 | virginica |\n",
       "| 6.8 | 3.2 | 5.9 | 2.3 | virginica |\n",
       "| 6.7 | 3.3 | 5.7 | 2.5 | virginica |\n",
       "| 6.7 | 3.0 | 5.2 | 2.3 | virginica |\n",
       "| 6.3 | 2.5 | 5.0 | 1.9 | virginica |\n",
       "| 6.5 | 3.0 | 5.2 | 2.0 | virginica |\n",
       "| 6.2 | 3.4 | 5.4 | 2.3 | virginica |\n",
       "| 5.9 | 3.0 | 5.1 | 1.8 | virginica |\n",
       "\n"
      ],
      "text/plain": [
       "    Sepal.Length Sepal.Width Petal.Length Petal.Width Species  \n",
       "1   5.1          3.5         1.4          0.2         setosa   \n",
       "2   4.9          3.0         1.4          0.2         setosa   \n",
       "3   4.7          3.2         1.3          0.2         setosa   \n",
       "4   4.6          3.1         1.5          0.2         setosa   \n",
       "5   5.0          3.6         1.4          0.2         setosa   \n",
       "6   5.4          3.9         1.7          0.4         setosa   \n",
       "7   4.6          3.4         1.4          0.3         setosa   \n",
       "8   5.0          3.4         1.5          0.2         setosa   \n",
       "9   4.4          2.9         1.4          0.2         setosa   \n",
       "10  4.9          3.1         1.5          0.1         setosa   \n",
       "11  5.4          3.7         1.5          0.2         setosa   \n",
       "12  4.8          3.4         1.6          0.2         setosa   \n",
       "13  4.8          3.0         1.4          0.1         setosa   \n",
       "14  4.3          3.0         1.1          0.1         setosa   \n",
       "15  5.8          4.0         1.2          0.2         setosa   \n",
       "16  5.7          4.4         1.5          0.4         setosa   \n",
       "17  5.4          3.9         1.3          0.4         setosa   \n",
       "18  5.1          3.5         1.4          0.3         setosa   \n",
       "19  5.7          3.8         1.7          0.3         setosa   \n",
       "20  5.1          3.8         1.5          0.3         setosa   \n",
       "21  5.4          3.4         1.7          0.2         setosa   \n",
       "22  5.1          3.7         1.5          0.4         setosa   \n",
       "23  4.6          3.6         1.0          0.2         setosa   \n",
       "24  5.1          3.3         1.7          0.5         setosa   \n",
       "25  4.8          3.4         1.9          0.2         setosa   \n",
       "26  5.0          3.0         1.6          0.2         setosa   \n",
       "27  5.0          3.4         1.6          0.4         setosa   \n",
       "28  5.2          3.5         1.5          0.2         setosa   \n",
       "29  5.2          3.4         1.4          0.2         setosa   \n",
       "30  4.7          3.2         1.6          0.2         setosa   \n",
       "⋮   ⋮            ⋮           ⋮            ⋮           ⋮        \n",
       "121 6.9          3.2         5.7          2.3         virginica\n",
       "122 5.6          2.8         4.9          2.0         virginica\n",
       "123 7.7          2.8         6.7          2.0         virginica\n",
       "124 6.3          2.7         4.9          1.8         virginica\n",
       "125 6.7          3.3         5.7          2.1         virginica\n",
       "126 7.2          3.2         6.0          1.8         virginica\n",
       "127 6.2          2.8         4.8          1.8         virginica\n",
       "128 6.1          3.0         4.9          1.8         virginica\n",
       "129 6.4          2.8         5.6          2.1         virginica\n",
       "130 7.2          3.0         5.8          1.6         virginica\n",
       "131 7.4          2.8         6.1          1.9         virginica\n",
       "132 7.9          3.8         6.4          2.0         virginica\n",
       "133 6.4          2.8         5.6          2.2         virginica\n",
       "134 6.3          2.8         5.1          1.5         virginica\n",
       "135 6.1          2.6         5.6          1.4         virginica\n",
       "136 7.7          3.0         6.1          2.3         virginica\n",
       "137 6.3          3.4         5.6          2.4         virginica\n",
       "138 6.4          3.1         5.5          1.8         virginica\n",
       "139 6.0          3.0         4.8          1.8         virginica\n",
       "140 6.9          3.1         5.4          2.1         virginica\n",
       "141 6.7          3.1         5.6          2.4         virginica\n",
       "142 6.9          3.1         5.1          2.3         virginica\n",
       "143 5.8          2.7         5.1          1.9         virginica\n",
       "144 6.8          3.2         5.9          2.3         virginica\n",
       "145 6.7          3.3         5.7          2.5         virginica\n",
       "146 6.7          3.0         5.2          2.3         virginica\n",
       "147 6.3          2.5         5.0          1.9         virginica\n",
       "148 6.5          3.0         5.2          2.0         virginica\n",
       "149 6.2          3.4         5.4          2.3         virginica\n",
       "150 5.9          3.0         5.1          1.8         virginica"
      ]
     },
     "metadata": {},
     "output_type": "display_data"
    }
   ],
   "source": [
    "attach(iris)\n",
    "iris"
   ]
  },
  {
   "cell_type": "markdown",
   "metadata": {},
   "source": [
    "Now run the `colMeans` function (it is better for dataframes than just mean) on multiple columns:"
   ]
  },
  {
   "cell_type": "code",
   "execution_count": 178,
   "metadata": {
    "scrolled": true,
    "vscode": {
     "languageId": "r"
    }
   },
   "outputs": [
    {
     "data": {
      "text/plain": [
       "iris$Species: setosa\n",
       "Sepal.Length  Sepal.Width \n",
       "       5.006        3.428 \n",
       "------------------------------------------------------------ \n",
       "iris$Species: versicolor\n",
       "Sepal.Length  Sepal.Width \n",
       "       5.936        2.770 \n",
       "------------------------------------------------------------ \n",
       "iris$Species: virginica\n",
       "Sepal.Length  Sepal.Width \n",
       "       6.588        2.974 "
      ]
     },
     "metadata": {},
     "output_type": "display_data"
    }
   ],
   "source": [
    "by(iris[,1:2], iris$Species, colMeans)"
   ]
  },
  {
   "cell_type": "code",
   "execution_count": 179,
   "metadata": {
    "vscode": {
     "languageId": "r"
    }
   },
   "outputs": [
    {
     "data": {
      "text/plain": [
       "iris$Petal.Width: 0.1\n",
       "Sepal.Length  Sepal.Width \n",
       "        4.82         3.36 \n",
       "------------------------------------------------------------ \n",
       "iris$Petal.Width: 0.2\n",
       "Sepal.Length  Sepal.Width \n",
       "    4.972414     3.379310 \n",
       "------------------------------------------------------------ \n",
       "iris$Petal.Width: 0.3\n",
       "Sepal.Length  Sepal.Width \n",
       "    4.971429     3.328571 \n",
       "------------------------------------------------------------ \n",
       "iris$Petal.Width: 0.4\n",
       "Sepal.Length  Sepal.Width \n",
       "    5.300000     3.785714 \n",
       "------------------------------------------------------------ \n",
       "iris$Petal.Width: 0.5\n",
       "Sepal.Length  Sepal.Width \n",
       "         5.1          3.3 \n",
       "------------------------------------------------------------ \n",
       "iris$Petal.Width: 0.6\n",
       "Sepal.Length  Sepal.Width \n",
       "         5.0          3.5 \n",
       "------------------------------------------------------------ \n",
       "iris$Petal.Width: 1\n",
       "Sepal.Length  Sepal.Width \n",
       "    5.414286     2.371429 \n",
       "------------------------------------------------------------ \n",
       "iris$Petal.Width: 1.1\n",
       "Sepal.Length  Sepal.Width \n",
       "    5.400000     2.466667 \n",
       "------------------------------------------------------------ \n",
       "iris$Petal.Width: 1.2\n",
       "Sepal.Length  Sepal.Width \n",
       "        5.78         2.74 \n",
       "------------------------------------------------------------ \n",
       "iris$Petal.Width: 1.3\n",
       "Sepal.Length  Sepal.Width \n",
       "    5.884615     2.746154 \n",
       "------------------------------------------------------------ \n",
       "iris$Petal.Width: 1.4\n",
       "Sepal.Length  Sepal.Width \n",
       "      6.3250       2.9125 \n",
       "------------------------------------------------------------ \n",
       "iris$Petal.Width: 1.5\n",
       "Sepal.Length  Sepal.Width \n",
       "    6.183333     2.816667 \n",
       "------------------------------------------------------------ \n",
       "iris$Petal.Width: 1.6\n",
       "Sepal.Length  Sepal.Width \n",
       "       6.375        3.100 \n",
       "------------------------------------------------------------ \n",
       "iris$Petal.Width: 1.7\n",
       "Sepal.Length  Sepal.Width \n",
       "        5.80         2.75 \n",
       "------------------------------------------------------------ \n",
       "iris$Petal.Width: 1.8\n",
       "Sepal.Length  Sepal.Width \n",
       "    6.400000     2.941667 \n",
       "------------------------------------------------------------ \n",
       "iris$Petal.Width: 1.9\n",
       "Sepal.Length  Sepal.Width \n",
       "        6.34         2.68 \n",
       "------------------------------------------------------------ \n",
       "iris$Petal.Width: 2\n",
       "Sepal.Length  Sepal.Width \n",
       "    6.650000     3.016667 \n",
       "------------------------------------------------------------ \n",
       "iris$Petal.Width: 2.1\n",
       "Sepal.Length  Sepal.Width \n",
       "    6.916667     3.033333 \n",
       "------------------------------------------------------------ \n",
       "iris$Petal.Width: 2.2\n",
       "Sepal.Length  Sepal.Width \n",
       "    6.866667     3.200000 \n",
       "------------------------------------------------------------ \n",
       "iris$Petal.Width: 2.3\n",
       "Sepal.Length  Sepal.Width \n",
       "      6.9125       3.0875 \n",
       "------------------------------------------------------------ \n",
       "iris$Petal.Width: 2.4\n",
       "Sepal.Length  Sepal.Width \n",
       "    6.266667     3.100000 \n",
       "------------------------------------------------------------ \n",
       "iris$Petal.Width: 2.5\n",
       "Sepal.Length  Sepal.Width \n",
       "    6.733333     3.400000 "
      ]
     },
     "metadata": {},
     "output_type": "display_data"
    }
   ],
   "source": [
    "by(iris[,1:2], iris$Petal.Width, colMeans)"
   ]
  },
  {
   "cell_type": "markdown",
   "metadata": {},
   "source": [
    "### Using `replicate`\n",
    "\n",
    "The `replicate` function is useful to avoid a loop for function that typically involves random number generation (more on this below). For example:"
   ]
  },
  {
   "cell_type": "code",
   "execution_count": 180,
   "metadata": {
    "scrolled": true,
    "vscode": {
     "languageId": "r"
    }
   },
   "outputs": [
    {
     "data": {
      "text/html": [
       "<table>\n",
       "<caption>A matrix: 5 × 10 of type dbl</caption>\n",
       "<tbody>\n",
       "\t<tr><td>0.05779543</td><td>0.79875145</td><td>0.48499984</td><td>0.86907132</td><td>0.1283642</td><td>0.0009810759</td><td>0.6536405</td><td>0.8683811</td><td>0.8454915</td><td>0.8783501</td></tr>\n",
       "\t<tr><td>0.45615105</td><td>0.57098740</td><td>0.23039036</td><td>0.30154024</td><td>0.2747319</td><td>0.2428520240</td><td>0.9098087</td><td>0.6079378</td><td>0.6468676</td><td>0.7984627</td></tr>\n",
       "\t<tr><td>0.56282049</td><td>0.04613426</td><td>0.62504519</td><td>0.04747557</td><td>0.7813629</td><td>0.8418969549</td><td>0.4024599</td><td>0.6946761</td><td>0.6771371</td><td>0.2471511</td></tr>\n",
       "\t<tr><td>0.47753585</td><td>0.69846828</td><td>0.46303515</td><td>0.25758230</td><td>0.2651486</td><td>0.1114152884</td><td>0.1513297</td><td>0.3396491</td><td>0.8450003</td><td>0.3601890</td></tr>\n",
       "\t<tr><td>0.63433648</td><td>0.40640785</td><td>0.07475354</td><td>0.04436429</td><td>0.0915491</td><td>0.2450728263</td><td>0.4717760</td><td>0.4990844</td><td>0.7130802</td><td>0.9336190</td></tr>\n",
       "</tbody>\n",
       "</table>\n"
      ],
      "text/latex": [
       "A matrix: 5 × 10 of type dbl\n",
       "\\begin{tabular}{llllllllll}\n",
       "\t 0.05779543 & 0.79875145 & 0.48499984 & 0.86907132 & 0.1283642 & 0.0009810759 & 0.6536405 & 0.8683811 & 0.8454915 & 0.8783501\\\\\n",
       "\t 0.45615105 & 0.57098740 & 0.23039036 & 0.30154024 & 0.2747319 & 0.2428520240 & 0.9098087 & 0.6079378 & 0.6468676 & 0.7984627\\\\\n",
       "\t 0.56282049 & 0.04613426 & 0.62504519 & 0.04747557 & 0.7813629 & 0.8418969549 & 0.4024599 & 0.6946761 & 0.6771371 & 0.2471511\\\\\n",
       "\t 0.47753585 & 0.69846828 & 0.46303515 & 0.25758230 & 0.2651486 & 0.1114152884 & 0.1513297 & 0.3396491 & 0.8450003 & 0.3601890\\\\\n",
       "\t 0.63433648 & 0.40640785 & 0.07475354 & 0.04436429 & 0.0915491 & 0.2450728263 & 0.4717760 & 0.4990844 & 0.7130802 & 0.9336190\\\\\n",
       "\\end{tabular}\n"
      ],
      "text/markdown": [
       "\n",
       "A matrix: 5 × 10 of type dbl\n",
       "\n",
       "| 0.05779543 | 0.79875145 | 0.48499984 | 0.86907132 | 0.1283642 | 0.0009810759 | 0.6536405 | 0.8683811 | 0.8454915 | 0.8783501 |\n",
       "| 0.45615105 | 0.57098740 | 0.23039036 | 0.30154024 | 0.2747319 | 0.2428520240 | 0.9098087 | 0.6079378 | 0.6468676 | 0.7984627 |\n",
       "| 0.56282049 | 0.04613426 | 0.62504519 | 0.04747557 | 0.7813629 | 0.8418969549 | 0.4024599 | 0.6946761 | 0.6771371 | 0.2471511 |\n",
       "| 0.47753585 | 0.69846828 | 0.46303515 | 0.25758230 | 0.2651486 | 0.1114152884 | 0.1513297 | 0.3396491 | 0.8450003 | 0.3601890 |\n",
       "| 0.63433648 | 0.40640785 | 0.07475354 | 0.04436429 | 0.0915491 | 0.2450728263 | 0.4717760 | 0.4990844 | 0.7130802 | 0.9336190 |\n",
       "\n"
      ],
      "text/plain": [
       "     [,1]       [,2]       [,3]       [,4]       [,5]      [,6]        \n",
       "[1,] 0.05779543 0.79875145 0.48499984 0.86907132 0.1283642 0.0009810759\n",
       "[2,] 0.45615105 0.57098740 0.23039036 0.30154024 0.2747319 0.2428520240\n",
       "[3,] 0.56282049 0.04613426 0.62504519 0.04747557 0.7813629 0.8418969549\n",
       "[4,] 0.47753585 0.69846828 0.46303515 0.25758230 0.2651486 0.1114152884\n",
       "[5,] 0.63433648 0.40640785 0.07475354 0.04436429 0.0915491 0.2450728263\n",
       "     [,7]      [,8]      [,9]      [,10]    \n",
       "[1,] 0.6536405 0.8683811 0.8454915 0.8783501\n",
       "[2,] 0.9098087 0.6079378 0.6468676 0.7984627\n",
       "[3,] 0.4024599 0.6946761 0.6771371 0.2471511\n",
       "[4,] 0.1513297 0.3396491 0.8450003 0.3601890\n",
       "[5,] 0.4717760 0.4990844 0.7130802 0.9336190"
      ]
     },
     "metadata": {},
     "output_type": "display_data"
    }
   ],
   "source": [
    "replicate(10, runif(5))"
   ]
  },
  {
   "cell_type": "markdown",
   "metadata": {},
   "source": [
    "That is, you just generated 10 sets (columns) of 5 uniformly-distributed random numbers (a 10 $\\times$ 5 matrix). \n",
    "\n",
    "```{note}\n",
    "The actual numbers you get will be different from the ones you see here unless you set the random number seed [as we learned above](R-random-numbers).\n",
    "```"
   ]
  },
  {
   "cell_type": "markdown",
   "metadata": {},
   "source": [
    "### Using `plyr` and `ddply`\n",
    "\n",
    "The `plyr` package combines the functionality of the `*apply` family, into a few handy functions. Look up the [web page](http://plyr.had.co.nz/).\n",
    "\n",
    "In particular, `ddply` is very useful, because for each subset of a data frame, it applies a function and then combines results into another data frame. In other words, \"ddply\" means: take a data frame, split it up, do something to it, and return a data frame. Look up [this](http://seananderson.ca/2013/12/01/plyr.html) and \n",
    "[this](https://www.r-bloggers.com/transforming-subsets-of-data-in-r-with-by-ddply-and-data-table/) \n",
    "for examples.    There you will also see a comparison of speed of `ddply` vs `by` at the latter web page; `ddply` is actually slower than other vectorized methods, as it trades-off compactness of use for some of the speed of vectorization! Indeed, overall functions in `plyr` can be slow if you are working with very large datasets that involve a lot of subsetting (analyses by many groups or grouping variables). \n",
    "\n",
    "The base `*apply` functions remain useful and worth knowing even if you do get into `plyr` or better still, `dplyr`, which we will see in the [Data chapter](Data_R.ipynb).\n",
    "\n",
    "\n",
    "## Practicals\n",
    "    \n",
    "### A vectorization challenge\n",
    "\n",
    "The Ricker model is a classic discrete population model which was introduced in 1954 by Ricker to model recruitment of stock in fisheries. It gives the expected number (or density) $N_{t+1}$ of individuals in generation $t + 1$ as a function of the number of individuals in the previous generation $t$:\n",
    "\n",
    "$$ N_{t+1}= N_t e^{r\\left(1-\\frac{N_t}{k}\\right)} $$\n",
    "\n",
    "Here $r$ is intrinsic growth rate and $k$ as the carrying capacity of the environment. Try this script (call it `Ricker.R` and save it to `code`) that runs it:"
   ]
  },
  {
   "cell_type": "code",
   "execution_count": 181,
   "metadata": {
    "vscode": {
     "languageId": "r"
    }
   },
   "outputs": [
    {
     "data": {
      "image/png": "[encoded data removed]",
      "text/plain": [
       "plot without title"
      ]
     },
     "metadata": {
      "image/png": {
       "height": 360,
       "width": 360
      }
     },
     "output_type": "display_data"
    }
   ],
   "source": [
    "Ricker <- function(N0=1, r=1, K=10, generations=50)\n",
    "{\n",
    "  # Runs a simulation of the Ricker model\n",
    "  # Returns a vector of length generations\n",
    "  \n",
    "  N <- rep(NA, generations)    # Creates a vector of NA\n",
    "  \n",
    "  N[1] <- N0\n",
    "  for (t in 2:generations)\n",
    "  {\n",
    "    N[t] <- N[t-1] * exp(r*(1.0-(N[t-1]/K)))\n",
    "  }\n",
    "  return (N)\n",
    "}\n",
    "\n",
    "plot(Ricker(generations=10), type=\"l\")"
   ]
  },
  {
   "cell_type": "markdown",
   "metadata": {},
   "source": [
    "Now open and run the script `Vectorize2.R` (available on the TheMulQuaBio repository). This is the stochastic Ricker model (compare with the above script to see where the stochasticity (random error) enters). Now modify the script to complete the exercise given. \n",
    "*Your goal is to come up with a solution better than mine!*       "
   ]
  },
  {
   "cell_type": "markdown",
   "metadata": {},
   "source": [
    "## Errors and Debugging\n",
    "\n",
    "As we learned in the [Python Chapter](Python:errors), fixing errors and debugging is an integral part of programming! And just like Python, a variety of debugging tools and functions are available in R."
   ]
  },
  {
   "cell_type": "markdown",
   "metadata": {},
   "source": [
    "### Tracing the error trail\n",
    "\n",
    "When R encounters a runtime error, it will typically display the call \"stack\" (sequence) after the error occurs, helping you trace where the error happened.\n",
    "\n",
    "Let's try an example (type and run it using your code editor):"
   ]
  },
  {
   "cell_type": "code",
   "execution_count": 24,
   "metadata": {
    "scrolled": true,
    "vscode": {
     "languageId": "r"
    }
   },
   "outputs": [
    {
     "ename": "ERROR",
     "evalue": "Error in inner_function(b): object 'd' not found\n",
     "output_type": "error",
     "traceback": [
      "Error in inner_function(b): object 'd' not found\nTraceback:\n",
      "1. outer_function(1)",
      "2. middle_function(a)   # at line 3 of file <text>",
      "3. inner_function(b)   # at line 7 of file <text>"
     ]
    }
   ],
   "source": [
    "# Define nested functions\n",
    "outer_function <- function(a) {\n",
    "  middle_function(a)\n",
    "}\n",
    "\n",
    "middle_function <- function(b) {\n",
    "  inner_function(b)\n",
    "}\n",
    "\n",
    "inner_function <- function(c) {\n",
    "  # Intentional error: division by zero\n",
    "  result <- c / d\n",
    "  return(result)\n",
    "}\n",
    "\n",
    "# Call the outer function\n",
    "outer_function(1)"
   ]
  },
  {
   "cell_type": "markdown",
   "metadata": {},
   "source": [
    "The `Traceback` shows the sequence of function calls that led to the error, helping you pinpoint its origin.\n",
    "\n",
    "```{tip}\n",
    "If you do not get a traceback automatically, you an use the  `traceback()` function (run it after yout get the error) to find where the errors(s) are when a program crashes.\n",
    "```"
   ]
  },
  {
   "cell_type": "markdown",
   "metadata": {},
   "source": [
    "### Debugging using breakpoints \n",
    "\n",
    "Once you have found an error, you need to debug it. Assuming you have an idea about where (or the general area) in your code the error is, a simple way to debug is to use the  `browser()` function.  \n",
    "\n",
    "Justy like the `ipdb.set_tarce()` command in Python, `browser()` allows you to insert a breakpoint in your script and then step through your code. Place it within your script at the point you want to examine local variables  (e.g. inside a `for` loop). \n",
    "\n",
    "Let's look at an example usage of `browser()`. \n",
    "\n",
    "&#9733; Type the following in a script file called `browse.R` and save in `code`:"
   ]
  },
  {
   "cell_type": "markdown",
   "metadata": {},
   "source": [
    "```R\n",
    "Exponential <- function(N0 = 1, r = 1, generations = 10) {\n",
    "  # Runs a simulation of exponential growth\n",
    "  # Returns a vector of length generations\n",
    "  \n",
    "  N <- rep(NA, generations)    # Creates a vector of NA\n",
    "  \n",
    "  N[1] <- N0\n",
    "  for (t in 2:generations) {\n",
    "    N[t] <- N[t-1] * exp(r)\n",
    "    browser()\n",
    "  }\n",
    "  return (N)\n",
    "}\n",
    "\n",
    "plot(Exponential(), type=\"l\", main=\"Exponential growth\")\n",
    "```\n",
    "\n",
    "Now run `browse.R` from the R console (using `source()`). \n",
    "\n",
    "The script will be run till the first iteration of the `for` loop and the R console will enter the browser mode, which looks like this:\n",
    "\n",
    "```R\n",
    "Browse[1]>\n",
    "```\n",
    "\n",
    "Now, you can examine the variables present at that point. Also, at the browser console, you can enter expressions as normal, or use a few particularly useful debug commands (similar to the Python debugger):\n",
    "\n",
    "* `n`: execute the next line.\n",
    "* `c`: exit browser and continue execution\n",
    "* `Q`: exit browser and abort, return to top-level.\n",
    "  \n",
    "You can also inspect variables in the current state of the function run using `ls()` (try it).\n"
   ]
  },
  {
   "cell_type": "markdown",
   "metadata": {},
   "source": [
    "### Using `debug()`\n",
    "\n",
    "The `debug()` function flags a function for debugging; R will enter the browser mode every time the function is called.\n",
    "\n",
    "Let's define a function with a bug (type and run it):"
   ]
  },
  {
   "cell_type": "markdown",
   "metadata": {},
   "source": [
    "```R\n",
    "buggy_function <- function(n) {\n",
    "  result <- n + unknown_variable\n",
    "  return(result)\n",
    "}\n",
    "```\n",
    "\n",
    "Now enable debugging by running in the R console:\n",
    "\n",
    "`debug(buggy_function)`\n",
    "\n",
    "Now call the function:\n",
    "\n",
    "`buggy_function(10)`\n",
    "\n",
    "R will enter the browser mode at the beginning of `buggy_function()`. You can step through and inspect variables as you did in the `browser()` example above.\n",
    "\n",
    "```{tip}\n",
    "If you want to debug the function only once, use: `debugonce(buggy_function)`\n",
    "```\n",
    "\n",
    "```{tip}\n",
    "IDEs like RStudio offer built-in debugging features such as breakpoints and step-through execution.\n",
    "```\n",
    "\n",
    "### Unit testing \n",
    "\n",
    "We will not cover unit testing here, which we [did in Python Chapter](Python:errors)). Unit testing in R is equally recommended, especially if you are going to develop complex code and packages.\n",
    "\n",
    "```{tip}\n",
    "A very convenient tool for R unit testing is [`testthat`](https://testthat.r-lib.org).\n",
    "```\n",
    "\n",
    "In addition, you can use other \"[defensive programming](https://en.wikipedia.org/wiki/Defensive_programming)\" methods in R to keep an eye on errors that might arise in special circumstances in an complex program. A good option for this is to convert warnings to errors using the [`stopifnot()`](https://stat.ethz.ch/R-manual/R-devel/library/base/html/stopifnot.html). This is a bit like `try` (which we will cover below, and we also covered in [Python Chapter](Python:errors)). "
   ]
  },
  {
   "cell_type": "markdown",
   "metadata": {},
   "source": [
    "### \"Catching\" errors\n",
    "\n",
    "Often, you don't know if a simulation or a R function will work on a particular data or variable, or a value of a variable (can happen in many statistical functions). \n",
    "\n",
    "Indeed, as most of you must have already experienced by now, there can be frustrating, puzzling bugs in programs that lead to mysterious errors. Often, the error and warning messages you get are un-understandable, especially in R!\n",
    "\n",
    "Rather than having R throw you out of the code, you would rather catch the error and keep going. This can be done by using the `try` keyword. \n",
    "\n",
    "Lets try `try`! \n",
    "\n",
    "First, let's write a function:"
   ]
  },
  {
   "cell_type": "code",
   "execution_count": 182,
   "metadata": {
    "vscode": {
     "languageId": "r"
    }
   },
   "outputs": [],
   "source": [
    "doit <- function(x) {\n",
    "    temp_x <- sample(x, replace = TRUE)\n",
    "    if(length(unique(temp_x)) > 30) {#only take mean if sample was sufficient\n",
    "         print(paste(\"Mean of this sample was:\", as.character(mean(temp_x))))\n",
    "        } \n",
    "    else {\n",
    "        stop(\"Couldn't calculate mean: too few unique values!\")\n",
    "        }\n",
    "    }"
   ]
  },
  {
   "cell_type": "markdown",
   "metadata": {},
   "source": [
    "This function runs a simulation that involves sampling from a synthetic population with replacement and takes its mean, but *only* if at least 30 unique samples are obtained. Note that we have used another keyword here: `stop()`. Pay close attention to `sample()`, and `stop()` in the above script (check out what they are by using R help or searching online). \n",
    "\n",
    "\n",
    "Now, generate your population:"
   ]
  },
  {
   "cell_type": "code",
   "execution_count": 183,
   "metadata": {
    "vscode": {
     "languageId": "r"
    }
   },
   "outputs": [
    {
     "data": {
      "image/png": "[encoded data removed]",
      "text/plain": [
       "Plot with title “Histogram of popn”"
      ]
     },
     "metadata": {
      "image/png": {
       "height": 360,
       "width": 360
      }
     },
     "output_type": "display_data"
    }
   ],
   "source": [
    "set.seed(1345) # again, to get the same result for illustration\n",
    "\n",
    "popn <- rnorm(50)\n",
    "\n",
    "hist(popn)"
   ]
  },
  {
   "cell_type": "markdown",
   "metadata": {},
   "source": [
    "Now try running it using `lapply` as you did above, repeating the sampling exercise 15 times:"
   ]
  },
  {
   "cell_type": "code",
   "execution_count": 184,
   "metadata": {
    "vscode": {
     "languageId": "r"
    }
   },
   "outputs": [
    {
     "name": "stdout",
     "output_type": "stream",
     "text": [
      "[1] \"Mean of this sample was: -0.11620822588674\"\n",
      "[1] \"Mean of this sample was: -0.0468516755995931\"\n",
      "[1] \"Mean of this sample was: -0.0890228211466614\"\n",
      "[1] \"Mean of this sample was: -0.124229742255296\"\n"
     ]
    },
    {
     "ename": "ERROR",
     "evalue": "Error in doit(popn): Couldn't calculate mean: too few unique values!\n",
     "output_type": "error",
     "traceback": [
      "Error in doit(popn): Couldn't calculate mean: too few unique values!\nTraceback:\n",
      "1. lapply(1:15, function(i) doit(popn))",
      "2. FUN(X[[i]], ...)",
      "3. doit(popn)   # at line 1 of file <text>",
      "4. stop(\"Couldn't calculate mean: too few unique values!\")   # at line 7 of file <text>"
     ]
    }
   ],
   "source": [
    "lapply(1:15, function(i) doit(popn))"
   ]
  },
  {
   "cell_type": "markdown",
   "metadata": {},
   "source": [
    "Your result will be different than this (you would get between 0 - 15 samples; we got 4 here). But in most cases, the script will fail because of the `stop` command (on line 7 of the above function) at some iteration, returning less than the requested 15 mean values, followed by an error stating that the mean could not be calculated because too few unique values were sampled."
   ]
  },
  {
   "cell_type": "markdown",
   "metadata": {},
   "source": [
    "Now try doing the same using `try`:"
   ]
  },
  {
   "cell_type": "code",
   "execution_count": 186,
   "metadata": {
    "scrolled": true,
    "vscode": {
     "languageId": "r"
    }
   },
   "outputs": [
    {
     "name": "stdout",
     "output_type": "stream",
     "text": [
      "[1] \"Mean of this sample was: -0.123990166669901\"\n",
      "Error in doit(popn) : Couldn't calculate mean: too few unique values!\n",
      "[1] \"Mean of this sample was: 0.0818124335353191\"\n",
      "[1] \"Mean of this sample was: -0.139655286435176\"\n",
      "[1] \"Mean of this sample was: -0.0215429865826124\"\n",
      "Error in doit(popn) : Couldn't calculate mean: too few unique values!\n",
      "[1] \"Mean of this sample was: 0.00539838134322893\"\n",
      "Error in doit(popn) : Couldn't calculate mean: too few unique values!\n",
      "[1] \"Mean of this sample was: 0.146907839413106\"\n",
      "[1] \"Mean of this sample was: -0.152002314653857\"\n",
      "[1] \"Mean of this sample was: 0.0161321300360042\"\n",
      "[1] \"Mean of this sample was: -0.241857872516043\"\n",
      "[1] \"Mean of this sample was: -0.16077541901813\"\n",
      "[1] \"Mean of this sample was: -0.0450988128783513\"\n",
      "[1] \"Mean of this sample was: -0.162230652541811\"\n"
     ]
    }
   ],
   "source": [
    "result <- lapply(1:15, function(i) try(doit(popn), FALSE))"
   ]
  },
  {
   "cell_type": "markdown",
   "metadata": {},
   "source": [
    "In this run, you again asked for the means of 15 samples, and again you (most likely) got less than that (see the above example output). With the `try` command, the errors are caught and `lapply()` continues through each iteration. The `silent` argument of the `try()` command controls if the errors are printed into the terminal. By default, `silent = FALSE`, error messages are printed, and the argument `TRUE` can be used to suppress them. *Please don't forget to  check the help on inbuilt R commands like `try`.*\n",
    "\n",
    "The errors are also stored in the object `result`:"
   ]
  },
  {
   "cell_type": "code",
   "execution_count": 187,
   "metadata": {
    "vscode": {
     "languageId": "r"
    }
   },
   "outputs": [
    {
     "data": {
      "text/html": [
       "'list'"
      ],
      "text/latex": [
       "'list'"
      ],
      "text/markdown": [
       "'list'"
      ],
      "text/plain": [
       "[1] \"list\""
      ]
     },
     "metadata": {},
     "output_type": "display_data"
    }
   ],
   "source": [
    "class(result)"
   ]
  },
  {
   "cell_type": "markdown",
   "metadata": {},
   "source": [
    "This is a list that stores the result of each of the 15 runs, including the ones that ran into an error. Have a look at it:   "
   ]
  },
  {
   "cell_type": "code",
   "execution_count": 188,
   "metadata": {
    "vscode": {
     "languageId": "r"
    }
   },
   "outputs": [
    {
     "data": {
      "text/plain": [
       "[[1]]\n",
       "[1] \"Mean of this sample was: -0.123990166669901\"\n",
       "\n",
       "[[2]]\n",
       "[1] \"Error in doit(popn) : Couldn't calculate mean: too few unique values!\\n\"\n",
       "attr(,\"class\")\n",
       "[1] \"try-error\"\n",
       "attr(,\"condition\")\n",
       "<simpleError in doit(popn): Couldn't calculate mean: too few unique values!>\n",
       "\n",
       "[[3]]\n",
       "[1] \"Mean of this sample was: 0.0818124335353191\"\n",
       "\n",
       "[[4]]\n",
       "[1] \"Mean of this sample was: -0.139655286435176\"\n",
       "\n",
       "[[5]]\n",
       "[1] \"Mean of this sample was: -0.0215429865826124\"\n",
       "\n",
       "[[6]]\n",
       "[1] \"Error in doit(popn) : Couldn't calculate mean: too few unique values!\\n\"\n",
       "attr(,\"class\")\n",
       "[1] \"try-error\"\n",
       "attr(,\"condition\")\n",
       "<simpleError in doit(popn): Couldn't calculate mean: too few unique values!>\n",
       "\n",
       "[[7]]\n",
       "[1] \"Mean of this sample was: 0.00539838134322893\"\n",
       "\n",
       "[[8]]\n",
       "[1] \"Error in doit(popn) : Couldn't calculate mean: too few unique values!\\n\"\n",
       "attr(,\"class\")\n",
       "[1] \"try-error\"\n",
       "attr(,\"condition\")\n",
       "<simpleError in doit(popn): Couldn't calculate mean: too few unique values!>\n",
       "\n",
       "[[9]]\n",
       "[1] \"Mean of this sample was: 0.146907839413106\"\n",
       "\n",
       "[[10]]\n",
       "[1] \"Mean of this sample was: -0.152002314653857\"\n",
       "\n",
       "[[11]]\n",
       "[1] \"Mean of this sample was: 0.0161321300360042\"\n",
       "\n",
       "[[12]]\n",
       "[1] \"Mean of this sample was: -0.241857872516043\"\n",
       "\n",
       "[[13]]\n",
       "[1] \"Mean of this sample was: -0.16077541901813\"\n",
       "\n",
       "[[14]]\n",
       "[1] \"Mean of this sample was: -0.0450988128783513\"\n",
       "\n",
       "[[15]]\n",
       "[1] \"Mean of this sample was: -0.162230652541811\"\n"
      ]
     },
     "metadata": {},
     "output_type": "display_data"
    }
   ],
   "source": [
    "result"
   ]
  },
  {
   "cell_type": "markdown",
   "metadata": {},
   "source": [
    "That's a lot output! But basically it tells you which runs ran into and error and why (no surprises here, of course!). You can also store the results \"manually\" by using a loop to do the same: "
   ]
  },
  {
   "cell_type": "code",
   "execution_count": 189,
   "metadata": {
    "scrolled": true,
    "vscode": {
     "languageId": "r"
    }
   },
   "outputs": [
    {
     "name": "stdout",
     "output_type": "stream",
     "text": [
      "[1] \"Mean of this sample was: -0.0380441875766665\"\n",
      "[1] \"Mean of this sample was: 0.00168314213476879\"\n",
      "Error in doit(popn) : Couldn't calculate mean: too few unique values!\n",
      "[1] \"Mean of this sample was: 0.0242456893346038\"\n",
      "[1] \"Mean of this sample was: -0.0533969700166486\"\n",
      "[1] \"Mean of this sample was: -0.0291390915544602\"\n",
      "Error in doit(popn) : Couldn't calculate mean: too few unique values!\n",
      "Error in doit(popn) : Couldn't calculate mean: too few unique values!\n",
      "[1] \"Mean of this sample was: 0.102288157365559\"\n",
      "[1] \"Mean of this sample was: -0.0386626637117577\"\n",
      "[1] \"Mean of this sample was: -0.106126210208736\"\n",
      "Error in doit(popn) : Couldn't calculate mean: too few unique values!\n",
      "Error in doit(popn) : Couldn't calculate mean: too few unique values!\n",
      "[1] \"Mean of this sample was: -0.0667300626988677\"\n",
      "[1] \"Mean of this sample was: -0.13529133118215\"\n"
     ]
    }
   ],
   "source": [
    "result <- vector(\"list\", 15) #Preallocate/Initialize\n",
    "for(i in 1:15) {\n",
    "    result[[i]] <- try(doit(popn), FALSE)\n",
    "    }"
   ]
  },
  {
   "cell_type": "markdown",
   "metadata": {},
   "source": [
    "Now have a look at the new `result`; it will have similar content as the one you got from using `lapply`.\n",
    "\n",
    "```{tip}\n",
    "Also check out `tryCatch()`, which provides more control over error and warning handling, as an alternative to `try()`\n",
    "```"
   ]
  },
  {
   "cell_type": "markdown",
   "metadata": {},
   "source": [
    "&#9733; Type the above blocks of code illustrating `try` into a script file called `try.R` and save in `code`. The script, when `source`d, should run without errors (that is, don't run the sampling function without `try`!). "
   ]
  },
  {
   "cell_type": "markdown",
   "metadata": {},
   "source": [
    "## Packages\n",
    "\n",
    "The big strength of R is that users can easily build and share packages through [cran.r-project.org](https://cran.r-project.org). \n",
    "\n",
    "There are R packages for practically all statistical and mathematical analysis you might conceive, so check them out before reinventing the wheel. Visit [cran.r-project.org](https://cran.r-project.org) and go to packages to see a list and a brief description. \n",
    "\n",
    "In Windows and Macs and Linux, you can install a package within R by using the `install.packages()`command. \n",
    "\n",
    "For example:\n",
    "\n",
    "```r\n",
    "install.packages(c(\"tidyverse\"))\n",
    "```\n",
    "You can also install multiple packages by concatenating their names: `install.packages(c(\"pack1\",\"pack2\",\"pack3\"))`\n",
    "(three packages in this hypothetical example)\n",
    "\n",
    "In Ubuntu, you will have to launch a `sudo R`session to get `install.packages()`to work properly. Otherwise, you be forced to install the package in a non-standard location on your drive that does not require `sudo` privileges (nor recommended).\n",
    "\n",
    "You can also use the RStudio GUI to install packages using your mouse and menu. \n",
    "\n",
    "In Ubuntu, you can also use the bash terminal: \n",
    "\n",
    "```bash \n",
    "sudo apt install r-cran-tidyverse\n",
    "```\n",
    "\n",
    "&#9733; Go ahead and install `tidyverse` if you don't have it yet. We will be using it [soon](./Data_R.ipynb)!\n",
    "\n",
    "\n",
    "### Building your own \n",
    "\n",
    "You can combine your code, data sets and documentation to make a *bona fide* R package. You may wish to do this for particularly large projects that you think will be useful for others. Read the [*Writing R Extensions*](https://cran.r-project.org/doc/manuals/r-release/R-exts.html) manual and see *package.skeleton* to get started. \n",
    "\n",
    "The R tool set [EcoDataTools](https://github.com/DomBennett/EcoDataTools) and the package [cheddar](https://github.com/quicklizard99/cheddar) were written by Silwood Grad Students!"
   ]
  },
  {
   "cell_type": "markdown",
   "metadata": {},
   "source": [
    "## Practicals \n",
    "\n",
    "### Is Florida getting warmer?\n",
    "\n",
    "*This Practical assumes you have at least a basic understanding of [correlation coefficients](regress:correlations) and [p-values](t_F_tests.ipynb).*\n",
    "\n",
    "Your goal is to write an R script that will help answer the question: *Is Florida getting warmer*?  \n",
    "\n",
    "Call this script `Florida.R`.\n",
    "\n",
    "To answer the question, you need to calculate the [correlation coefficients](regress:correlations) between temperature and time. However, you can't use the standard p-value calculated for a correlation coefficient, because measurements of climatic variables in successive time-points in a time series (successive seconds, minutes, hours, months, years, etc.) are *not independent*. Therefore you will use a permutation analysis instead, by generating a distribution of random correlation coefficients and compare your observed coefficient with this random distribution.  \n",
    "\n",
    "Some guidelines:\n",
    "\n",
    " * Load and examine the annual temperature dataset from Key West in Florida, USA for the 20th century:"
   ]
  },
  {
   "cell_type": "code",
   "execution_count": 1,
   "metadata": {
    "vscode": {
     "languageId": "r"
    }
   },
   "outputs": [
    {
     "data": {
      "text/html": [
       "'ats'"
      ],
      "text/latex": [
       "'ats'"
      ],
      "text/markdown": [
       "'ats'"
      ],
      "text/plain": [
       "[1] \"ats\""
      ]
     },
     "metadata": {},
     "output_type": "display_data"
    }
   ],
   "source": [
    "rm(list=ls())\n",
    "\n",
    "load(\"../data/KeyWestAnnualMeanTemperature.RData\")\n",
    "\n",
    "ls()"
   ]
  },
  {
   "cell_type": "code",
   "execution_count": 2,
   "metadata": {
    "vscode": {
     "languageId": "r"
    }
   },
   "outputs": [
    {
     "data": {
      "text/html": [
       "'data.frame'"
      ],
      "text/latex": [
       "'data.frame'"
      ],
      "text/markdown": [
       "'data.frame'"
      ],
      "text/plain": [
       "[1] \"data.frame\""
      ]
     },
     "metadata": {},
     "output_type": "display_data"
    }
   ],
   "source": [
    "class(ats)"
   ]
  },
  {
   "cell_type": "code",
   "execution_count": 3,
   "metadata": {
    "scrolled": true,
    "vscode": {
     "languageId": "r"
    }
   },
   "outputs": [
    {
     "data": {
      "text/html": [
       "<table class=\"dataframe\">\n",
       "<caption>A data.frame: 6 × 2</caption>\n",
       "<thead>\n",
       "\t<tr><th></th><th scope=col>Year</th><th scope=col>Temp</th></tr>\n",
       "\t<tr><th></th><th scope=col>&lt;int&gt;</th><th scope=col>&lt;dbl&gt;</th></tr>\n",
       "</thead>\n",
       "<tbody>\n",
       "\t<tr><th scope=row>1</th><td>1901</td><td>23.75000</td></tr>\n",
       "\t<tr><th scope=row>2</th><td>1902</td><td>24.66667</td></tr>\n",
       "\t<tr><th scope=row>3</th><td>1903</td><td>24.71667</td></tr>\n",
       "\t<tr><th scope=row>4</th><td>1904</td><td>24.51667</td></tr>\n",
       "\t<tr><th scope=row>5</th><td>1905</td><td>24.88333</td></tr>\n",
       "\t<tr><th scope=row>6</th><td>1906</td><td>24.63333</td></tr>\n",
       "</tbody>\n",
       "</table>\n"
      ],
      "text/latex": [
       "A data.frame: 6 × 2\n",
       "\\begin{tabular}{r|ll}\n",
       "  & Year & Temp\\\\\n",
       "  & <int> & <dbl>\\\\\n",
       "\\hline\n",
       "\t1 & 1901 & 23.75000\\\\\n",
       "\t2 & 1902 & 24.66667\\\\\n",
       "\t3 & 1903 & 24.71667\\\\\n",
       "\t4 & 1904 & 24.51667\\\\\n",
       "\t5 & 1905 & 24.88333\\\\\n",
       "\t6 & 1906 & 24.63333\\\\\n",
       "\\end{tabular}\n"
      ],
      "text/markdown": [
       "\n",
       "A data.frame: 6 × 2\n",
       "\n",
       "| <!--/--> | Year &lt;int&gt; | Temp &lt;dbl&gt; |\n",
       "|---|---|---|\n",
       "| 1 | 1901 | 23.75000 |\n",
       "| 2 | 1902 | 24.66667 |\n",
       "| 3 | 1903 | 24.71667 |\n",
       "| 4 | 1904 | 24.51667 |\n",
       "| 5 | 1905 | 24.88333 |\n",
       "| 6 | 1906 | 24.63333 |\n",
       "\n"
      ],
      "text/plain": [
       "  Year Temp    \n",
       "1 1901 23.75000\n",
       "2 1902 24.66667\n",
       "3 1903 24.71667\n",
       "4 1904 24.51667\n",
       "5 1905 24.88333\n",
       "6 1906 24.63333"
      ]
     },
     "metadata": {},
     "output_type": "display_data"
    }
   ],
   "source": [
    "head(ats)"
   ]
  },
  {
   "cell_type": "code",
   "execution_count": 4,
   "metadata": {
    "vscode": {
     "languageId": "r"
    }
   },
   "outputs": [
    {
     "data": {
      "image/png": "[encoded data removed]",
      "text/plain": [
       "plot without title"
      ]
     },
     "metadata": {
      "image/png": {
       "height": 420,
       "width": 420
      }
     },
     "output_type": "display_data"
    }
   ],
   "source": [
    "plot(ats)"
   ]
  },
  {
   "cell_type": "markdown",
   "metadata": {},
   "source": [
    "Then, \n",
    "* Compute the appropriate correlation coefficient between years and Temperature and store it (look at the help file for `cor()`\n",
    "* Repeat this calculation a *sufficient* number of times, each time randomly reshuffling the temperatures (i.e., randomly re-assigning temperatures to years), and recalculating the correlation coefficient (and storing it) \n",
    "\n",
    "```{tip}\n",
    "You can use the `sample` function that we learned about above to do the shuffling. Read the help file for this function and experiment with it. \n",
    "``` \n",
    "*  Calculate what fraction of the random correlation coefficients were greater than the observed one (this is your approximate, asymptotic p-value).\n",
    "\n",
    "* *Interpret and present the results*: Present your results and their interpretation in a pdf document written in $\\LaTeX$ (include the the document's source code in the submission) (*Keep the writeup, including any figures, to one A4 page*)."
   ]
  },
  {
   "cell_type": "markdown",
   "metadata": {},
   "source": [
    "### Groupwork Practical: Autocorrelation in Florida weather\n",
    "\n",
    "\n",
    "*This Practical assumes you have at least a basic understanding of [correlation coefficients](regress:correlations) and [p-values](t_F_tests.ipynb).*\n",
    "\n",
    "Your goal is to write an R script (name it `TAutoCorr.R`) that will help answer the question: *Are temperatures of one year significantly correlated with the next year (successive years), across years in a given location*? \n",
    "\n",
    "To answer this question, you need to calculate the correlation between \\(n-1\\) pairs of years, where $n$ is the total number of years. However, here again, you can't use the standard p-value calculated for a correlation coefficient, because measurements of climatic variables in successive time-points in a time series (successive seconds, minutes, hours, months, years, etc.) are *not independent*. \n",
    "\n",
    "The general guidelines are:\n",
    "\n",
    "* Compute the appropriate correlation coefficient between successive years and store it (look at the help file for `cor()`\n",
    "* Repeat this calculation *a sufficient number of* times by &ndash; randomly permuting the time series, and then recalculating the correlation coefficient for each randomly permuted sequence of annual temperatures and storing it.  \n",
    "*  Then calculate what fraction of the correlation coefficients from the previous step were greater than that from step 1 (this is your approximate p-value).\n",
    "* *Interpret and present the results* Present your results and their interpretation in a pdf document written in $\\LaTeX$ (submit the the document's source code as well).\n",
    "\n",
    "\n",
    "<!-- ### Practicals wrap-up\n",
    "  \n",
    "* Review and make sure you can run all the commands, code fragments, and named scripts we have built till now and get the expected outputs.\n",
    "\n",
    "* Annotate/comment your code lines as much and as often as necessary using #.\n",
    "    \n",
    "* Keep all files organized in `code`, `data`and `results` directories\n",
    "\n",
    "* (If you are required to as part of your course) `git add`, `commit` and `push` all your code and data from this chapter to your git repository by the given deadline. -->"
   ]
  },
  {
   "cell_type": "markdown",
   "metadata": {},
   "source": [
    "## Readings and Resources\n",
    "\n",
    "Check the readings under the R directory in the TheMulQuaBio repository. Also, search online for \"R tutorial\", and plenty will pop up. Choose ones that seem the most intuitive to you. * *Remember, all R packages come with pdf guides/documentation!*\n",
    "\n",
    "### R as a Programming language\n",
    "\n",
    "* There are excellent websites besides cran. In particular, check out \n",
    "[statmethods.net](https://www.statmethods.net/) and the [R Wiki](https://en.wikibooks.org/wiki/R_Programming).     \n",
    "* https://blog.sellorm.com/2017/12/18/learn-to-write-command-line-utilities-in-r/\n",
    "* https://www.r-bloggers.com/2019/11/r-scripts-as-command-line-tools/\n",
    "\n",
    "### Mathematical modelling and Stats in R \n",
    "\n",
    "* The Use R! series (all yellow books) by Springer are really good. In particular, consider: \"A Beginner's Guide to R\", \"R by Example\", \"Numerical Ecology With R\", \"ggplot2\" (coming up in the [Visualization Chapter](Data_R.ipynb), \"A Primer of Ecology with R\", \"Nonlinear Regression with R\", and \"Analysis of Phylogenetics and Evolution with R\".\n",
    "* For more focus on dynamical models: Soetaert & Herman. 2009 \"A practical guide to ecological modelling: using R as a simulation platform\".\n",
    "\n",
    "### Debugging\n",
    "\n",
    "* [`testthat`](https://testthat.r-lib.org/): Unit Testing for R by Hadley Wickham (also developer of the `tidyverse` package, including `ggplot`).\n",
    "* [Notes on debugging in R by Wickham](https://adv-r.hadley.nz/debugging.html)\n",
    "* A good [overview of debugging methods in R with examples](https://data-flair.training/blogs/debugging-in-r-programming) \n",
    "*  [An introduction to the Interactive Debugging Tools in R](http://www.biostat.jhsph.edu/~rpeng/docs/R-debug-tools.pdf) by Roger D Peng. \n",
    "* If you are using RStudio, [see this](https://support.rstudio.com/hc/en-us/articles/205612627-Debugging-with-RStudio).\n",
    "\n",
    "### Sweave and knitr, and beyond\n",
    "\n",
    "There are tools built around R that allow you to write your Dissertation Report or some other document such that it can be updated automatically if embedded data analyses or R simulations / calculations change. Instead of inserting a prefabricated graph or table into the report, the master document contains the R code necessary to obtain it. When run through R, all data analysis output (tables, graphs, etc.) is created on the fly and inserted into a final document like a pdf or html. The report will then be automatically updated if data or analysis change, which allows for truly reproducible research. To learn more about these tools, check out:\n",
    "\n",
    "*  [Sweave and knitr](https://support.rstudio.com/hc/en-us/articles/200552056-Using-Sweave-and-knitr) and [this](http://yihui.name/knitr/)\n",
    "* [Quarto](https://quarto.org/)"
   ]
  }
 ],
 "metadata": {
  "kernelspec": {
   "display_name": "R",
   "language": "R",
   "name": "ir"
  },
  "language_info": {
   "codemirror_mode": "r",
   "file_extension": ".r",
   "mimetype": "text/x-r-source",
   "name": "R",
   "pygments_lexer": "r",
   "version": "4.3.3"
  },
  "latex_envs": {
   "LaTeX_envs_menu_present": true,
   "autoclose": false,
   "autocomplete": false,
   "bibliofile": "biblio.bib",
   "cite_by": "apalike",
   "current_citInitial": 1,
   "eqLabelWithNumbers": true,
   "eqNumInitial": 1,
   "hotkeys": {
    "equation": "Ctrl-E",
    "itemize": "Ctrl-I"
   },
   "labels_anchors": false,
   "latex_user_defs": false,
   "report_style_numbering": false,
   "user_envs_cfg": false
  },
  "toc": {
   "base_numbering": 1,
   "nav_menu": {},
   "number_sections": true,
   "sideBar": true,
   "skip_h1_title": false,
   "title_cell": "Contents",
   "title_sidebar": "Contents",
   "toc_cell": false,
   "toc_position": {
    "height": "447.67px",
    "left": "33.6667px",
    "top": "422px",
    "width": "310.288px"
   },
   "toc_section_display": true,
   "toc_window_display": true
  },
  "toc-autonumbering": true
 },
 "nbformat": 4,
 "nbformat_minor": 4
}
