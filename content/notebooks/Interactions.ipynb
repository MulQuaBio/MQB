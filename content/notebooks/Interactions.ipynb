{
 "cells": [
  {
   "cell_type": "markdown",
   "metadata": {},
   "source": [
    "# Species Interactions"
   ]
  },
  {
   "cell_type": "markdown",
   "metadata": {},
   "source": [
    "* Species Interactions\n",
    "  * Consumer-resource interactions\n",
    "    * MacArthur's theory/models\n",
    "      * Predator-prey & competition (one prey two predators) - Rosenzweig-MacArthur (VJ)\n",
    "      * Bacterial-substrate (1 batceria - 1 or many substrates , two bacteria and 1 or more resources) - MiCRM \n",
    " * The Lotka-Volterra equations\n",
    "    * Every LV system is \"effective\" (derivation from MacArthur's models / MiCRM)\n",
    "      * Normal form?\n",
    "    * Competition and Mutualism \n",
    "    * Bifurcations (VJ) \n",
    "  * Evolutionary dynamics?\n",
    "  * Stochasticity?\n",
    "  * Applications/Examples"
   ]
  },
  {
   "cell_type": "markdown",
   "metadata": {},
   "source": [
    "\n",
    "## Introduction\n",
    "Consumers \"live to eat\" and \"eat to live.\" They are heterotrophs that harvest energy from other organisms, such as tigers, or from organic sources, such as bacteria. As Ludwig Boltzmann noted in 1886:\n",
    "\n",
    "> \"The struggle for existence of living beings is not for the fundamental constituents of food, but for the possession of the free energy obtained, chiefly by means of the green plant, from the transfer of radiant energy from the hot sun to the cold earth.\"\n",
    "\n",
    "Consumer-resource interactions play a crucial role in the flow of energy through ecosystems. The metabolic theory of ecology provides a foundation for understanding these interactions, linking individual metabolic processes to population and ecosystem dynamics.\n"
   ]
  },
  {
   "cell_type": "markdown",
   "metadata": {},
   "source": [
    "\n",
    "## Energy, Metabolism, and Consumption\n",
    "All living organisms must maintain an energy balance:\n",
    "\n",
    "$$\n",
    "\\text{Energy Consumed} = \\text{Energy Used (Maintenance + Growth + Movement)}.\n",
    "$$\n",
    "\n",
    "Different organisms allocate energy to maintenance, growth, and movement in varying proportions. To do more than just maintain themselves, organisms must consume energy at a rate faster than their metabolic rate. This requires investment in activities such as foraging, which links energy acquisition to body size. For instance, autotrophs utilize photosynthesis, while heterotrophs depend on consuming organic material.\n"
   ]
  },
  {
   "cell_type": "markdown",
   "metadata": {},
   "source": [
    "\n",
    "## Size and Metabolic Needs\n",
    "Resting metabolic rate ($B$) increases with body size ($M$) following a power-law relationship:\n",
    "\n",
    "$$\n",
    "B = B_0 M^b,\n",
    "$$\n",
    "\n",
    "where $B_0$ is a normalization constant and $b$ is the scaling exponent, typically around $3/4$. Larger organisms have higher absolute metabolic rates but lower mass-specific rates:\n",
    "\n",
    "$$\n",
    "\\frac{B}{M} = B_0 M^{b-1}.\n",
    "$$\n",
    "\n",
    "This relationship implies that larger organisms need to consume more energy overall but are more efficient per unit of body mass. This efficiency has significant implications for energy flow in ecosystems, as larger consumers typically occupy higher trophic levels and have lower population densities.\n"
   ]
  },
  {
   "cell_type": "markdown",
   "metadata": {},
   "source": [
    "\n",
    "### Biomechanical Implications of Size\n",
    "Size also affects biomechanics and interactions with the physical environment. As Haldane (1926) observed:\n",
    "\n",
    "> \"You can drop a mouse down a thousand-yard mine shaft; and, on arriving at the bottom, it gets a slight shock and walks away, provided that the ground is fairly soft. A rat is killed, a man is broken, a horse splashes.\"\n",
    "\n",
    "Size influences how organisms move, forage, and interact with resources, ultimately affecting their consumption rates. Smaller organisms, for example, often forage faster but consume smaller amounts per event, while larger organisms are slower but consume larger quantities.\n"
   ]
  },
  {
   "cell_type": "markdown",
   "metadata": {},
   "source": [
    "\n",
    "## Dissecting Consumer-Resource Interactions\n",
    "Components of consumer-resource interactions determine consumption rate ($c$):\n",
    "\n",
    "$$\n",
    " c = \\frac{aR}{1 + ahR},\n",
    "$$\n",
    "\n",
    "where $a$ is the search rate, $R$ is resource density, and $h$ is handling time. This is known as the Type II functional response, where resource handling dominates at high resource densities, while searching dominates at low densities.\n",
    "\n",
    "These interactions are further influenced by environmental factors, such as temperature and resource availability, which alter the rates of searching and handling.\n"
   ]
  },
  {
   "cell_type": "markdown",
   "metadata": {},
   "source": [
    "\n",
    "## Predicting Consumer-Resource Interactions\n",
    "Key components of consumer-resource interactions scale with size:\n",
    "- Velocity and detection distance increase with consumer size.\n",
    "- Handling time decreases with size.\n",
    "- Consumption rate scales positively with size and interaction dimensionality (e.g., 2D vs. 3D).\n",
    "\n",
    "For example, in 3D environments like oceans, consumption rates scale more steeply with size compared to 2D environments. Studies have shown that aquatic predators exhibit 10x higher consumption rates at a given size compared to terrestrial predators due to the higher dimensionality of their interaction space.\n"
   ]
  },
  {
   "cell_type": "code",
   "execution_count": null,
   "metadata": {},
   "outputs": [
    {
     "ename": "",
     "evalue": "",
     "output_type": "error",
     "traceback": [
      "\u001b[1;31mRunning cells with 'Python 3.9.6' requires the ipykernel package.\n",
      "\u001b[1;31mRun the following command to install 'ipykernel' into the Python environment. \n",
      "\u001b[1;31mCommand: '/usr/bin/python3 -m pip install ipykernel -U --user --force-reinstall'"
     ]
    }
   ],
   "source": [
    "\n",
    "## Temperature and Consumer-Resource Interactions\n",
    "Temperature affects interaction components via the Boltzmann-Arrhenius equation:\n",
    "\n",
    "$$ k = A e^{-\\frac{E_a}{k_B T}}, $\n",
    "\n",
    "where $k$ is the reaction rate, $A$ is a constant, $E_a$ is activation energy, $k_B$ is Boltzmann's constant, and $T$ is temperature. Higher temperatures generally increase foraging velocity and reduce handling time, leading to higher consumption rates. For example, ectothermic organisms show a strong temperature dependence in their foraging activities, while endotherms have a more stable consumption rate due to thermal regulation.\n"
   ]
  },
  {
   "cell_type": "markdown",
   "metadata": {},
   "source": [
    "\n",
    "## Consumer-Resource Dynamics & MacArthur's theory \n",
    "\n",
    "The metabolic basis of consumer-resource interactions can predict population dynamics using models like the Lotka-Volterra equations:\n",
    "\n",
    "$$\n",
    "\\frac{dN}{dt} = r_m N \\left(1 - \\frac{N}{K}\\right) - aNC,\n",
    "$$\n",
    "$$\n",
    "\\frac{dC}{dt} = eaNC - zC,\n",
    "$$\n",
    "\n",
    "where $r_m$ is the resource's maximum growth rate, $K$ is carrying capacity, $a$ is search rate, $e$ is conversion efficiency, and $z$ is mortality rate. These parameters depend on size and temperature, linking individual metabolism to population-level outcomes. Additionally, such models help explain phenomena like population cycles and the effects of environmental changes on consumer-resource interactions.\n"
   ]
  },
  {
   "cell_type": "markdown",
   "metadata": {},
   "source": [
    "\n",
    "## Summary\n",
    "- Metabolic rate and biomechanics shape species' consumer-resource interactions and consumption rates.\n",
    "- Size, temperature, and dimensionality influence these interactions.\n",
    "- Models incorporating metabolic constraints can predict population dynamics and ecological patterns.\n",
    "- Understanding these principles provides insights into energy flow and stability in ecosystems.\n"
   ]
  },
  {
   "cell_type": "markdown",
   "metadata": {},
   "source": [
    "\n",
    "## Discussion Questions\n",
    "\n",
    "1. What are the main advantages of a consumer (heterotrophic) lifestyle compared to an producer (autotrophic) one? What are the disadvantages?\n",
    "2. Which is the most common and diverse organisms on planet earth ? Why? Think in terms of what type of consumer they are, and what their size is.\n",
    "3. What is the largest consumer on Earth? What is the smallest? In what respects is their “struggle for existence” similar? In what respects is it different?\n",
    "4. Which consumer(s) on earth operate(s) at the hottest temperatures? Which operate at the coldest? How is their “struggle for existence” similar or different?"
   ]
  },
  {
   "cell_type": "markdown",
   "metadata": {},
   "source": [
    "\n",
    "## Consumer-Resource Model:\n",
    "\n",
    "\n",
    "The **MacArthur model** is typically used to describe interactions between a single consumer population and a single resource population. \n",
    "\n",
    "**Expanding to Multiple Resources and Consumers**\n",
    "\n",
    "The natural extension of the MacArthur model involves adding **multiple resources** and **multiple consumers**. In a more complex ecological system, different consumer species interact with different resources, and each consumer might have distinct preferences or efficiencies in using different resources. This requires expanding the model to account for these new interactions:\n",
    "\n",
    "- **Multiple Resources**: Instead of considering just one resource $ R $, we now consider a set of resources $ R_\\alpha $ (for $ \\alpha = 1, 2, ..., n $) that interact with the consumers.\n",
    "  \n",
    "- **Multiple Consumers**: Each consumer species $ C_i $ may interact with all of the available resources, consuming them at different rates and with different efficiencies. Each consumer species also has its own mortality rate and other parameters that govern its dynamics.\n",
    "\n",
    "\n",
    "**Introducing Conversion Efficiency**\n",
    "\n",
    "In the MacArthur model, the growth rate of the consumer population is simply tied to the amount of resources they consume. When transitioning to the **Consumer-Resource model**, we need to account for **conversion efficiency**, which represents the ability of each consumer species $ C_i $ to convert the resources it consumes into its own growth. This is captured by the **conversion efficiency** term $ w_{i\\alpha} $, which modifies the impact of the resources on the growth of the consumer population. \n",
    "\n",
    "\n",
    "\n",
    "The model describes the dynamics of $ R_\\alpha $ (resources) and $ C_i $ (consumers) in a multi-species ecological system. The equations are:\n",
    "\n",
    "$$  \\begin{aligned}&\\frac{dR_\\alpha}{dt}=r_\\alpha(1-\\frac{R_\\alpha}{K_\\alpha})R_\\alpha-\\sum_ia_{i\\alpha}R_\\alpha C_i,\\\\&\\frac{dC_i}{dt}=C_i\\left[\\sum_\\alpha w_{i\\alpha} a_{i\\alpha}R_\\alpha-m_i\\right]\\end{aligned}  $$\n",
    "\n",
    "where:\n",
    "- $ r_\\alpha $: Maximum growth rate of resource $ \\alpha $.\n",
    "- $ K_\\alpha $: Carrying capacity of resource $ \\alpha $, representing the maximum sustainable population size.\n",
    "- $ a_{i\\alpha} $: Interaction coefficient representing the rate at which consumer $ i $ consumes resource $ \\alpha $.\n",
    "- $ w_{i\\alpha} $: Conversion efficiency, indicating how efficiently resource $ \\alpha $ supports consumer $ i $'s growth.\n",
    "- $ m_i $: Mortality rate of consumer $ i $, representing natural death and other forms of population loss.\n",
    "\n",
    "## Explanation:\n",
    "\n",
    "**Resource Dynamics ($ \\frac{dR_\\alpha}{dt} $)**:\n",
    "- The first term $ r_\\alpha \\left(1 - \\frac{R_\\alpha}{K_\\alpha}\\right) R_\\alpha $ describes the logistic growth of resource $ \\alpha $. It models the growth of resources up to a maximum carrying capacity $ K_\\alpha $, where growth rate $ r_\\alpha $ diminishes as $ R_\\alpha $ approaches $ K_\\alpha $.\n",
    "- The second term $ - \\sum_i a_{i\\alpha} R_\\alpha C_i $ represents the consumption of resource $ \\alpha $ by all consumers $ i $. It reflects the depletion of resources due to consumption by consumers.\n",
    "\n",
    "**Consumer Dynamics ($ \\frac{dC_i}{dt} $)**:\n",
    "- $ C_i \\left[\\sum_\\alpha w_{i\\alpha} a_{i\\alpha} R_\\alpha - m_i\\right] $ governs the change in consumer $ i $'s population.\n",
    "- $ \\sum_\\alpha w_{i\\alpha} a_{i\\alpha} R_\\alpha $ calculates the net growth rate of consumer $ i $ considering all resources $ \\alpha $ it consumes, weighted by $ w_{i\\alpha} $, which represents the efficiency of resource $ \\alpha $ in supporting consumer $ i $'s growth.\n",
    "- $ m_i $ represents the mortality rate of consumer $ i $, affecting its population dynamics by reducing $ C_i $.\n",
    "\n",
    "## Model Insights:\n",
    "\n",
    "- **Metabolic Basis**: The model integrates metabolic rates (through $ a_{i\\alpha} $, $ w_{i\\alpha} $, $ m_i $) to predict consumer-resource interactions. These parameters link individual-level processes (metabolism, consumption) to population-level outcomes (population dynamics, ecological stability).\n",
    "- **Environmental Effects**: Changes in environmental factors (like temperature, resource availability) influence $ r_\\alpha $, $ K_\\alpha $, $ a_{i\\alpha} $, and $ w_{i\\alpha} $, thereby affecting the stability and dynamics of ecological systems.\n",
    "\n",
    "- **Predictive Power**: By simulating these interactions, the model can predict population cycles, community structure, and the impact of environmental changes on ecosystems.\n"
   ]
  },
  {
   "cell_type": "markdown",
   "metadata": {},
   "source": [
    "\n",
    "## Further modification\n",
    "Leakage represents inefficiencies or resource recycling processes that occur in ecological systems. To incorporate leakage into the Consumer-Resource model, we need to account for the fraction of resources consumed by a consumer that is not fully converted into biomass for the consumer but instead \"leaks\" back into the resource pool or into another resource.\n",
    "\n",
    "## Including Leakage in Consumer Dynamics\n",
    "\n",
    "Leakage is incorporated by assuming that:\n",
    "- A portion of the consumed resource $R_a $ by consumer $ C_i $ is not converted into biomass but is instead \"leaked\" into other resource pools $ R_b $, where $ b \\neq a $.\n",
    "- The leakage is defined by a **leakage matrix** $ l^i_{ab} $, where $ l^i_{ab} $ represents the fraction of resource $ R_a $ consumed by consumer $ C_i $ that leaks into resource $ R_b $.\n",
    "\n",
    "Thus, the effective resource contribution to the growth of consumer $ C_i $ becomes:\n",
    "\n",
    "$$\n",
    "u_{ia} (1 - \\sum_b l^i_{ab}) R_a,\n",
    "$$\n",
    "\n",
    "where $ u_{ia} $ replaces $ w_{i\\alpha} a_{i\\alpha} $ to represent the combined uptake and conversion efficiency of $ C_i $ for resource $ R_a $. The term $ (1 - \\sum_b l^i_{ab}) $ ensures that only the fraction of the resource not leaked contributes to the consumer's growth.\n",
    "\n",
    "\n",
    "\n",
    "## Updated Consumer Dynamics\n",
    "\n",
    "With leakage included, the consumer dynamics become:\n",
    "\n",
    "$$\n",
    "\\frac{dC_i}{dt} = C_i \\left( \\sum_a u_{ia} (1 - \\sum_b l^i_{ab}) R_a - m_i \\right).\n",
    "$$\n",
    "\n",
    "- $ \\sum_a u_{ia} (1 - \\sum_b l^i_{ab}) R_a $: The effective growth rate of consumer $ C_i $, considering the resource uptake $ u_{ia} R_a $ minus the leaked fraction $ \\sum_b l^i_{ab} $.\n",
    "- $ m_i $: Mortality rate of consumer $ C_i $.\n",
    "\n",
    "\n",
    "\n",
    "## Including Leakage in Resource Dynamics\n",
    "\n",
    "When leakage is included, we must account for two effects:\n",
    "1. **Depletion by Consumption**: Resource $ R_a $ is still depleted by consumer $ C_i $ at a rate $ C_i u_{ia} R_a $.\n",
    "2. **Return via Leakage**: A fraction of other consumed resources $ R_b $ (where $ b \\neq a $) leaks into $ R_a $ at a rate proportional to $ l^i_{ba} $. The total leakage into $ R_a $ is given by:\n",
    "\n",
    "$$\n",
    "\\sum_{b=1}^M C_i u_{ib} R_b l^i_{ba},\n",
    "$$\n",
    "\n",
    "where $ b $ runs over all other resources.\n",
    "\n",
    "Combining these effects, the resource dynamics become:\n",
    "\n",
    "$$\n",
    "\\frac{dR_a}{dt} = \\rho_a(R) - \\sum_{i=1}^N \\left( C_i u_{ia} R_a - \\sum_{b=1}^M C_i u_{ib} R_b l^i_{ba} \\right).\n",
    "$$\n",
    "\n",
    "- $ \\rho_a(R) $: Growth rate of resource $ R_a $.\n",
    "- $ - \\sum_i C_i u_{ia} R_a $: Depletion of resource $ R_a $ due to consumption by all consumers.\n",
    "- $ + \\sum_i \\sum_b C_i u_{ib} R_b l^i_{ba} $: Gain in $ R_a $ from leakage contributions of other resources $ R_b $.\n",
    "\n",
    "## Final Form of the Model\n",
    "\n",
    "By combining the updated consumer and resource dynamics, the final model with leakage becomes:\n",
    "\n",
    "$$\n",
    "\\begin{aligned}& \\frac{dC_i}{dt} = C_i \\left( \\sum_a u_{ia}(1-\\sum_b l^i_{ab})R_a-m_i \\right)\\\\& \\frac{dR_a}{dt} = \\rho_a(R)-\\sum_{i =1}^N \\left(C_i u_{ia}R_a-\\sum_{b=1}^MC_i u_{ib} R_b l^i_{ba} \\right) \\end{aligned}.\n",
    "$$\n",
    "\n",
    "\n",
    "## Key Features and Explanations:\n",
    "\n",
    "1. **Leakage Matrix $ l^i_{ab} $**:\n",
    "   - $ l^i_{ab} $ determines how much of resource $ R_a $ consumed by $ C_i $ is leaked into resource $ R_b $. It is critical for describing resource recycling and feedback loops in ecosystems.\n",
    "\n",
    "2. **Consumer Dynamics**:\n",
    "   - Consumer growth is reduced by leakage, as only a fraction of the consumed resources $ (1 - \\sum_b l^i_{ab}) $ contributes to the consumer's biomass.\n",
    "\n",
    "3. **Resource Dynamics**:\n",
    "   - Resource pools are interconnected via leakage. Resources can gain from the leakage of other resources, creating complex interactions and potential stabilization mechanisms in ecosystems.\n",
    "\n",
    "4. **Ecological Implications**:\n",
    "   - The inclusion of leakage allows the model to simulate nutrient cycling, detritus feeding, or other real-world ecological processes where energy and matter are not perfectly transferred between trophic levels.\n",
    "\n",
    "This extended model provides a more realistic representation of ecological systems by incorporating inefficiencies and feedbacks in resource consumption."
   ]
  }
 ],
 "metadata": {
  "kernelspec": {
   "display_name": "Python 3",
   "language": "python",
   "name": "python3"
  },
  "language_info": {
   "codemirror_mode": {
    "name": "ipython",
    "version": 3
   },
   "file_extension": ".py",
   "mimetype": "text/x-python",
   "name": "python",
   "nbconvert_exporter": "python",
   "pygments_lexer": "ipython3",
   "version": "3.9.6"
  }
 },
 "nbformat": 4,
 "nbformat_minor": 4
}
