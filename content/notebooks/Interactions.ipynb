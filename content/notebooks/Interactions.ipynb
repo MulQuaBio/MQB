{
 "cells": [
  {
   "cell_type": "markdown",
   "metadata": {},
   "source": [
    "# Species Interactions"
   ]
  },
  {
   "cell_type": "markdown",
   "metadata": {},
   "source": [
    "* Species Interactions\n",
    "  * Consumer-resource interactions\n",
    "    * Predator-prey (VJ)\n",
    "    * Bacterial-substrate\n",
    "    * MacArthur  \n",
    "  * The Lotka-Volterra equations\n",
    "    * Every LV system is \"effective\"\n",
    "      * Normal form?\n",
    "    * Bifurcations (VJ) \n",
    "  * Evolutionary dynamics\n",
    "  * Stochasticity\n",
    "  * Applications/Examples"
   ]
  },
  {
   "cell_type": "markdown",
   "metadata": {},
   "source": [
    "\n",
    "## Introduction\n",
    "Consumers \"live to eat\" and \"eat to live.\" They are heterotrophs that harvest energy from other organisms, such as tigers, or from organic sources, such as bacteria. As Ludwig Boltzmann noted in 1886:\n",
    "\n",
    "> \"The struggle for existence of living beings is not for the fundamental constituents of food, but for the possession of the free energy obtained, chiefly by means of the green plant, from the transfer of radiant energy from the hot sun to the cold earth.\"\n",
    "\n",
    "Consumer-resource interactions play a crucial role in the flow of energy through ecosystems. The metabolic theory of ecology provides a foundation for understanding these interactions, linking individual metabolic processes to population and ecosystem dynamics.\n"
   ]
  },
  {
   "cell_type": "markdown",
   "metadata": {},
   "source": [
    "\n",
    "## Energy, Metabolism, and Consumption\n",
    "All living organisms must maintain an energy balance:\n",
    "\n",
    "$$\n",
    "\\text{Energy Consumed} = \\text{Energy Used (Maintenance + Growth + Movement)}.\n",
    "$$\n",
    "\n",
    "Different organisms allocate energy to maintenance, growth, and movement in varying proportions. To do more than just maintain themselves, organisms must consume energy at a rate faster than their metabolic rate. This requires investment in activities such as foraging, which links energy acquisition to body size. For instance, autotrophs utilize photosynthesis, while heterotrophs depend on consuming organic material.\n"
   ]
  },
  {
   "cell_type": "markdown",
   "metadata": {},
   "source": [
    "\n",
    "## Size and Metabolic Needs\n",
    "Resting metabolic rate ($B$) increases with body size ($M$) following a power-law relationship:\n",
    "\n",
    "$$\n",
    "B = B_0 M^b,\n",
    "$$\n",
    "\n",
    "where $B_0$ is a normalization constant and $b$ is the scaling exponent, typically around $3/4$. Larger organisms have higher absolute metabolic rates but lower mass-specific rates:\n",
    "\n",
    "$$\n",
    "\\frac{B}{M} = B_0 M^{b-1}.\n",
    "$$\n",
    "\n",
    "This relationship implies that larger organisms need to consume more energy overall but are more efficient per unit of body mass. This efficiency has significant implications for energy flow in ecosystems, as larger consumers typically occupy higher trophic levels and have lower population densities.\n"
   ]
  },
  {
   "cell_type": "markdown",
   "metadata": {},
   "source": [
    "\n",
    "### Biomechanical Implications of Size\n",
    "Size also affects biomechanics and interactions with the physical environment. As Haldane (1926) observed:\n",
    "\n",
    "> \"You can drop a mouse down a thousand-yard mine shaft; and, on arriving at the bottom, it gets a slight shock and walks away, provided that the ground is fairly soft. A rat is killed, a man is broken, a horse splashes.\"\n",
    "\n",
    "Size influences how organisms move, forage, and interact with resources, ultimately affecting their consumption rates. Smaller organisms, for example, often forage faster but consume smaller amounts per event, while larger organisms are slower but consume larger quantities.\n"
   ]
  },
  {
   "cell_type": "markdown",
   "metadata": {},
   "source": [
    "\n",
    "## Dissecting Consumer-Resource Interactions\n",
    "Components of consumer-resource interactions determine consumption rate ($c$):\n",
    "\n",
    "$$\n",
    " c = \\frac{aR}{1 + ahR},\n",
    "$$\n",
    "\n",
    "where $a$ is the search rate, $R$ is resource density, and $h$ is handling time. This is known as the Type II functional response, where resource handling dominates at high resource densities, while searching dominates at low densities.\n",
    "\n",
    "These interactions are further influenced by environmental factors, such as temperature and resource availability, which alter the rates of searching and handling.\n"
   ]
  },
  {
   "cell_type": "markdown",
   "metadata": {},
   "source": [
    "\n",
    "## Predicting Consumer-Resource Interactions\n",
    "Key components of consumer-resource interactions scale with size:\n",
    "- Velocity and detection distance increase with consumer size.\n",
    "- Handling time decreases with size.\n",
    "- Consumption rate scales positively with size and interaction dimensionality (e.g., 2D vs. 3D).\n",
    "\n",
    "For example, in 3D environments like oceans, consumption rates scale more steeply with size compared to 2D environments. Studies have shown that aquatic predators exhibit 10x higher consumption rates at a given size compared to terrestrial predators due to the higher dimensionality of their interaction space.\n"
   ]
  },
  {
   "cell_type": "markdown",
   "metadata": {},
   "source": [
    "\n",
    "## Temperature and Consumer-Resource Interactions\n",
    "Temperature affects interaction components via the Boltzmann-Arrhenius equation:\n",
    "\n",
    "$$\n",
    "k = A e^{-\\frac{E_a}{k_B T}},\n",
    "$$\n",
    "\n",
    "where $k$ is the reaction rate, $A$ is a constant, $E_a$ is activation energy, $k_B$ is Boltzmann's constant, and $T$ is temperature. Higher temperatures generally increase foraging velocity and reduce handling time, leading to higher consumption rates. For example, ectothermic organisms show a strong temperature dependence in their foraging activities, while endotherms have a more stable consumption rate due to thermal regulation.\n"
   ]
  },
  {
   "cell_type": "markdown",
   "metadata": {},
   "source": [
    "\n",
    "## Consumer-Resource Dynamics\n",
    "The metabolic basis of consumer-resource interactions can predict population dynamics using models like the Lotka-Volterra equations:\n",
    "\n",
    "$$\n",
    "\\frac{dN}{dt} = r_m N \\left(1 - \\frac{N}{K}\\right) - aNC,\n",
    "$$\n",
    "$$\n",
    "\\frac{dC}{dt} = eaNC - zC,\n",
    "$$\n",
    "\n",
    "where $r_m$ is the resource's maximum growth rate, $K$ is carrying capacity, $a$ is search rate, $e$ is conversion efficiency, and $z$ is mortality rate. These parameters depend on size and temperature, linking individual metabolism to population-level outcomes. Additionally, such models help explain phenomena like population cycles and the effects of environmental changes on consumer-resource interactions.\n"
   ]
  },
  {
   "cell_type": "markdown",
   "metadata": {},
   "source": [
    "\n",
    "## Summary\n",
    "- Metabolic rate and biomechanics shape species' consumer-resource interactions and consumption rates.\n",
    "- Size, temperature, and dimensionality influence these interactions.\n",
    "- Models incorporating metabolic constraints can predict population dynamics and ecological patterns.\n",
    "- Understanding these principles provides insights into energy flow and stability in ecosystems.\n"
   ]
  },
  {
   "cell_type": "markdown",
   "metadata": {},
   "source": [
    "\n",
    "## Discussion Questions\n",
    "\n",
    "1. What are the main advantages of a consumer (heterotrophic) lifestyle compared to an producer (autotrophic) one? What are the disadvantages?\n",
    "2. Which is the most common and diverse organisms on planet earth ? Why? Think in terms of what type of consumer they are, and what their size is.\n",
    "3. What is the largest consumer on Earth? What is the smallest? In what respects is their “struggle for existence” similar? In what respects is it different?\n",
    "4. Which consumer(s) on earth operate(s) at the hottest temperatures? Which operate at the coldest? How is their “struggle for existence” similar or different?"
   ]
  }
 ],
 "metadata": {
  "kernelspec": {
   "display_name": "Python 3 (ipykernel)",
   "language": "python",
   "name": "python3"
  },
  "language_info": {
   "codemirror_mode": {
    "name": "ipython",
    "version": 3
   },
   "file_extension": ".py",
   "mimetype": "text/x-python",
   "name": "python",
   "nbconvert_exporter": "python",
   "pygments_lexer": "ipython3",
   "version": "3.10.12"
  }
 },
 "nbformat": 4,
 "nbformat_minor": 2
}
