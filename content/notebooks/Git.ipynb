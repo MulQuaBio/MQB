{
 "cells": [
  {
   "cell_type": "markdown",
   "metadata": {},
   "source": [
    "# Version control with Git"
   ]
  },
  {
   "cell_type": "markdown",
   "metadata": {},
   "source": [
    "## Introduction\n",
    "\n",
    "Version control, also known as revision control or source control, is the management and tracking of changes to computer code and other certain other types of data in an automated way.\n",
    "\n",
    "Any project (collections of files in directories) under version control has changes and additions/deletions to its files and directories recorded and archived over time so that you can recall specific versions later. \n",
    "\n",
    "Version control is in fact the technology embedded in the versioning of various word processor and spreadsheet applications (e.g., Google Docs, Overleaf).\n",
    "\n",
    "---\n",
    ":::{figure-md} VC-overview\n",
    "<img src=\"./graphics/VC.png\" alt=\"Version control\" width=\"400px\">\n",
    "\n",
    "**An overview of how version control works.** Some of the project mainline's branches may eventually be merged back into the mainline if they are successful in achieving some objective that is worth integrating into the mainline.\n",
    ":::\n",
    "\n",
    "---\n",
    "\n",
    "## Why Version Control?\n",
    "\n",
    "With version control of biological computing projects, you can:\n",
    "\n",
    "* record all changes made to a set of files and directories, including text (usually ASCII) data files, so that you can access any previous version of the files\n",
    "\n",
    "* \"roll back\" data, code, documents that are in plain text format (other file formats can also be versioned; see [section on binary files](#Dealing-with-binary-files) below).\n",
    "\n",
    "* collaborate more easily with others on developing new code or writing documents &ndash; branch (and merge) projects\n",
    "\n",
    "* back up your project (but git is not a backup software - see [sections on binary and large files](#Dealing-with-binary-files) below). \n",
    "\n",
    "---\n",
    ":::{figure-md} mess-happens-without-vc\n",
    "\n",
    "<img src=\"./graphics/cvs.png\" alt=\"Mess without Version Control\" width=\"350px\">\n",
    "\n",
    "**This will very likely happen if you don't use Version Control.** <br> (Source: [maktoons.blogspot.com](http://maktoons.blogspot.com/2009/06/if-dont-use-version-control-system.html)).\n",
    ":::\n",
    "\n",
    "---\n",
    "\n",
    "\n",
    "## Why git ?\n",
    "\n",
    "We will use git, developed by Linus Torvalds, the \"Linu\" in Linux. This is currently the most popular tool for version control. It is a distributed version control system designed to handle everything from small to very large projects with speed and efficiency. It allows multiple developers to work on a project simultaneously without overwriting each other's changes, facilitating collaboration and maintaining a history of all modifications.\n",
    "\n",
    "The man advantages of Git are:\n",
    "\n",
    "- Distributed System: Every developer has a complete copy of the project on their computer, including its history.\n",
    "- Efficiency: Fast performance for both local and remote operations.\n",
    "- Data Integrity: Every file and project snapshot is checked for data integrity.\n",
    "- Flexibility: Supports \"non-linear\" development workflows through branching and merging.\n",
    "- Collaboration: Facilitates teamwork by allowing multiple people to work on different parts (typically on separate branches) simultaneously."
   ]
  },
  {
   "cell_type": "markdown",
   "metadata": {},
   "source": [
    "## Let's get started!\n",
    "\n",
    "In git, each user stores a complete local copy of the project, including the history and all versions (the \"repository\"). So you do not rely as much on a centralized (\"remote\" - somewhere else, accessible through the internet) server. \n",
    "\n",
    "The Git repository is a directory that contains your project's files and the entire history of changes made to those files. Here is a graphical outline of the git repository, workflow and command structure: \n",
    "\n",
    "---\n",
    ":::{figure-md} git-workflow\n",
    "<img src=\"./graphics/git.png\" alt=\"Git Workflow\" width=\"500px\">\n",
    "\n",
    "**The git repository, workflow and command structure.** - The  \"workspace\" is your working directory - the actual files and folders you see and edit.  The index\" is your *staging area* (more on this below) - a place where you can group changes you want to `commit` together. The \"local repository\" contains the database of all objects (commits, files (\"blobs\"), directories (\"trees\"), etc.) in your repository along with their metadata. The index and the actual data (the objects) associated with each repo snapshot you commit are all all inside a hidden directory named `.git` that sits within your project directory.\n",
    ":::\n",
    "\n",
    "There are several core git concepts and commands that you need to understand. But first things first - let's first install get and set up your first git repository!  "
   ]
  },
  {
   "cell_type": "markdown",
   "metadata": {},
   "source": [
    "## Installing and configuring git\n",
    "\n",
    "```{warning}\n",
    "This is a JupyterLite notebook. Code cells here will not work for this particular chapter. Follow the instructions and run the commands on your terminal/console.\n",
    "```\n",
    "\n",
    "But first things first - let's first install git and set up your first git repository!\n",
    "\n",
    "```{tip}\n",
    "**Installing git on your machine**: If you do not have `git` installed already:\n",
    "\n",
    "* On **Linux**, use a package manager of your choice to install `git` (e.g., `sudo apt-get install git` on Ubuntu).\n",
    "\n",
    "* On **Mac**, install using `homebrew` first (if you haven't already — google to install it) and then use `brew install git`).\n",
    "\n",
    "* On **Windows**, install `git` from [here](https://git-scm.com/downloads). You can also install [GitHub Desktop](https://desktop.github.com/), which includes `git` as well.\n",
    "```\n",
    "\n",
    "Let's install and configure `git` and create a repository.\n",
    "\n",
    "`````{note}\n",
    "In what follows, I will sometimes show the expected output from a command: \n",
    "\n",
    "````\n",
    "```bash\n",
    "pwd\n",
    "```\n",
    "\n",
    "```\n",
    "/home/YourUserName\n",
    "```\n",
    "````\n",
    "`````"
   ]
  },
  {
   "cell_type": "markdown",
   "metadata": {},
   "source": [
    "## Your first repository\n",
    "\n",
    "Time to bring your TMQB coursework under version control. First, let's navigate to it:"
   ]
  },
  {
   "cell_type": "code",
   "execution_count": null,
   "metadata": {
    "tags": [
     "remove-cell"
    ]
   },
   "outputs": [],
   "source": [
    "cd ~/Documents/CMEECourseWork"
   ]
  },
  {
   "cell_type": "markdown",
   "metadata": {},
   "source": [
    "Then initialize your local git repository:"
   ]
  },
  {
   "cell_type": "code",
   "execution_count": null,
   "metadata": {
    "slideshow": {
     "slide_type": ""
    },
    "tags": [
     "remove-cell"
    ]
   },
   "outputs": [],
   "source": [
    "rm -rf .git # remove existing repository data - this cell will be hidden from book"
   ]
  },
  {
   "cell_type": "code",
   "execution_count": null,
   "metadata": {
    "slideshow": {
     "slide_type": ""
    },
    "tags": []
   },
   "outputs": [
    {
     "name": "stdout",
     "output_type": "stream",
     "text": [
      "Initialised empty Git repository in /home/mhasoba/Documents/CMEECourseWork/.git/\n"
     ]
    }
   ],
   "source": [
    "git init"
   ]
  },
  {
   "cell_type": "markdown",
   "metadata": {},
   "source": [
    "Create your README file (as a [markdown](https://en.wikipedia.org/wiki/Markdown) document, so with the `.md` extension):"
   ]
  },
  {
   "cell_type": "code",
   "execution_count": null,
   "metadata": {
    "slideshow": {
     "slide_type": ""
    },
    "tags": []
   },
   "outputs": [],
   "source": [
    "echo \"My CMEE Coursework Repository\" > README.md"
   ]
  },
  {
   "cell_type": "markdown",
   "metadata": {
    "scrolled": true
   },
   "source": [
    "Check again `git config --list` to see if anything has changed."
   ]
  },
  {
   "cell_type": "code",
   "execution_count": null,
   "metadata": {
    "editable": true,
    "scrolled": true,
    "slideshow": {
     "slide_type": ""
    },
    "tags": [
     "remove-cell"
    ]
   },
   "outputs": [
    {
     "name": "stdout",
     "output_type": "stream",
     "text": [
      "total 28\n",
      "drwxrwxr-x  6 mhasoba mhasoba 4096 Oct 28 21:09 \u001b[0m\u001b[01;34m.\u001b[0m/\n",
      "drwxr-xr-x 28 mhasoba mhasoba 4096 Oct 25 07:09 \u001b[01;34m..\u001b[0m/\n",
      "drwxrwxr-x  7 mhasoba mhasoba 4096 Oct 28 21:09 \u001b[01;34m.git\u001b[0m/\n",
      "-rw-rw-r--  1 mhasoba mhasoba   30 Oct 28 21:09 README.md\n",
      "drwxrwxr-x  3 mhasoba mhasoba 4096 Oct  2 11:07 \u001b[01;34mweek1\u001b[0m/\n",
      "drwxrwxr-x  3 mhasoba mhasoba 4096 Oct  7 10:43 \u001b[01;34mweek2\u001b[0m/\n",
      "drwxrwxr-x  2 mhasoba mhasoba 4096 Oct 21 10:29 \u001b[01;34mweek3\u001b[0m/\n"
     ]
    }
   ],
   "source": [
    "ll # same as \"ls -al\" - this cell will be hidden from book "
   ]
  },
  {
   "cell_type": "markdown",
   "metadata": {
    "slideshow": {
     "slide_type": ""
    },
    "tags": []
   },
   "source": [
    "Check the files and directories that have been created: \n",
    "\n",
    "```bash\n",
    "ll #same as \"ls -al\"\n",
    "```\n",
    "\n",
    "```{note}\n",
    "Note the hidden `.git` directory! (More on this below).\n",
    "```"
   ]
  },
  {
   "cell_type": "markdown",
   "metadata": {
    "slideshow": {
     "slide_type": ""
    },
    "tags": []
   },
   "source": [
    "Add the README (AKA \"stage\" it for for a git commit):"
   ]
  },
  {
   "cell_type": "code",
   "execution_count": null,
   "metadata": {
    "slideshow": {
     "slide_type": ""
    },
    "tags": []
   },
   "outputs": [],
   "source": [
    "git add README.md"
   ]
  },
  {
   "cell_type": "markdown",
   "metadata": {},
   "source": [
    "Check the current status of your repository: "
   ]
  },
  {
   "cell_type": "code",
   "execution_count": null,
   "metadata": {
    "scrolled": true,
    "slideshow": {
     "slide_type": ""
    },
    "tags": []
   },
   "outputs": [
    {
     "name": "stdout",
     "output_type": "stream",
     "text": [
      "On branch main\n",
      "\n",
      "No commits yet\n",
      "\n",
      "Changes to be committed:\n",
      "  (use \"git rm --cached <file>...\" to unstage)\n",
      "\t\u001b[32mnew file:   README.md\u001b[m\n",
      "\n",
      "Untracked files:\n",
      "  (use \"git add <file>...\" to include in what will be committed)\n",
      "\t\u001b[31mweek1/\u001b[m\n",
      "\t\u001b[31mweek2/\u001b[m\n",
      "\n"
     ]
    }
   ],
   "source": [
    "git status"
   ]
  },
  {
   "cell_type": "markdown",
   "metadata": {},
   "source": [
    "This tells you that there are local changes that need to be committed. "
   ]
  },
  {
   "cell_type": "code",
   "execution_count": null,
   "metadata": {
    "scrolled": true,
    "slideshow": {
     "slide_type": ""
    },
    "tags": []
   },
   "outputs": [
    {
     "name": "stdout",
     "output_type": "stream",
     "text": [
      "[main (root-commit) b2a73ef] Added README file.\n",
      " 1 file changed, 1 insertion(+)\n",
      " create mode 100644 README.md\n"
     ]
    }
   ],
   "source": [
    "git commit -m \"Added README file.\""
   ]
  },
  {
   "cell_type": "markdown",
   "metadata": {
    "slideshow": {
     "slide_type": ""
    },
    "tags": []
   },
   "source": [
    "```{tip}\n",
    "In git commands, you can also combine flags like in base UNIX commands; so you can both, add (`-a` flag) and commit (`-m` flag) at one go, with `-am`.\n",
    "```\n",
    "\n",
    "Check status again:"
   ]
  },
  {
   "cell_type": "code",
   "execution_count": null,
   "metadata": {
    "scrolled": true,
    "slideshow": {
     "slide_type": ""
    },
    "tags": []
   },
   "outputs": [
    {
     "name": "stdout",
     "output_type": "stream",
     "text": [
      "On branch main\n",
      "Untracked files:\n",
      "  (use \"git add <file>...\" to include in what will be committed)\n",
      "\t\u001b[31mweek1/\u001b[m\n",
      "\t\u001b[31mweek2/\u001b[m\n",
      "\n",
      "nothing added to commit but untracked files present (use \"git add\" to track)\n"
     ]
    }
   ],
   "source": [
    "git status"
   ]
  },
  {
   "cell_type": "markdown",
   "metadata": {
    "slideshow": {
     "slide_type": ""
    },
    "tags": []
   },
   "source": [
    "*What does it say now?* - Compare with the above output of `git status`.  "
   ]
  },
  {
   "cell_type": "markdown",
   "metadata": {},
   "source": [
    "You can also add changes matching a particular pattern. \n",
    "\n",
    "For example"
   ]
  },
  {
   "cell_type": "markdown",
   "metadata": {
    "slideshow": {
     "slide_type": ""
    },
    "tags": []
   },
   "source": [
    "```git add *.txt```\n",
    "\n",
    "will add all text files that were changed since last commit.\n",
    "\n",
    "Note that this adds ALL changes that match the pattern, recursively (through all sub-directories)."
   ]
  },
  {
   "cell_type": "markdown",
   "metadata": {
    "slideshow": {
     "slide_type": ""
    },
    "tags": []
   },
   "source": [
    "Next you can commit the rest of these files inside your current coursework (e.g., `week 1`) with another message, just like you did for `readme` above:"
   ]
  },
  {
   "cell_type": "markdown",
   "metadata": {
    "slideshow": {
     "slide_type": ""
    },
    "tags": []
   },
   "source": [
    "```{warning}\n",
    "Before making your first commit, please read the section about \"**Ignoring files**\" below.\n",
    "```"
   ]
  },
  {
   "cell_type": "code",
   "execution_count": null,
   "metadata": {
    "slideshow": {
     "slide_type": ""
    },
    "tags": []
   },
   "outputs": [
    {
     "name": "stdout",
     "output_type": "stream",
     "text": [
      "On branch main\n",
      "Untracked files:\n",
      "  (use \"git add <file>...\" to include in what will be committed)\n",
      "\t\u001b[31mweek1/\u001b[m\n",
      "\t\u001b[31mweek2/\u001b[m\n",
      "\n",
      "nothing added to commit but untracked files present (use \"git add\" to track)\n"
     ]
    },
    {
     "ename": "",
     "evalue": "1",
     "output_type": "error",
     "traceback": []
    }
   ],
   "source": [
    "git commit -m \"Full first commit of new project\""
   ]
  },
  {
   "cell_type": "code",
   "execution_count": null,
   "metadata": {
    "slideshow": {
     "slide_type": ""
    },
    "tags": []
   },
   "outputs": [
    {
     "name": "stdout",
     "output_type": "stream",
     "text": [
      "On branch main\n",
      "Untracked files:\n",
      "  (use \"git add <file>...\" to include in what will be committed)\n",
      "\t\u001b[31mweek1/\u001b[m\n",
      "\t\u001b[31mweek2/\u001b[m\n",
      "\n",
      "nothing added to commit but untracked files present (use \"git add\" to track)\n"
     ]
    }
   ],
   "source": [
    "git status"
   ]
  },
  {
   "cell_type": "markdown",
   "metadata": {},
   "source": [
    "---\n",
    ":::{figure-md} git-commit\n",
    "<img src=\"./graphics/git_xkcd.png\" alt=\"XKCD committing\" width=\"400px\">\n",
    "\n",
    "**Make meaningful comments in your git commit.** Please don't neglect to make each commit message meaningful. And use this mantra: \"commit often, comment always\". The correct meaning of \"often\" in this context comes with experience.<br> (Source: [XKCD](https://m.xkcd.com/1296/))\n",
    ":::\n",
    "\n",
    "---\n",
    "\n",
    "### Writing Good Commit Messages\n",
    "\n",
    "A good commit message helps you and others understand what changed and why. Follow these guidelines:\n",
    "\n",
    "**Structure:**\n",
    "1. **First line (subject)**: Short summary (50 characters or less)\n",
    "2. **Blank line**\n",
    "3. **Body** (optional): Detailed explanation of what and why\n",
    "\n",
    "**Best Practices:**\n",
    "- Use the **imperative mood**: \"Add feature\" not \"Added feature\" or \"Adds feature\"\n",
    "- Be **specific**: \"Fix data import bug for CSV files\" not \"Fix bug\"\n",
    "- Explain **why**, not just what: \"Add data validation to prevent negative values\"\n",
    "- For **group work**: Include your initials (e.g., \"JS: Add plotting functions\")\n",
    "- **Capitalize** the first word\n",
    "- **No period** at the end of the subject line\n",
    "\n",
    "**Examples:**\n",
    "\n",
    "✅ Good:\n",
    "```\n",
    "Add function to calculate species richness\n",
    "\n",
    "This function takes a community matrix and returns the number\n",
    "of species per site. Includes handling for missing data.\n",
    "```\n",
    "\n",
    "```\n",
    "JS: Fix temperature conversion bug\n",
    "\n",
    "Corrected Fahrenheit to Celsius formula (was using addition\n",
    "instead of subtraction). Closes #23.\n",
    "```\n",
    "\n",
    "❌ Poor:\n",
    "```\n",
    "updated stuff\n",
    "```\n",
    "\n",
    "```\n",
    "fixed it\n",
    "```\n",
    "\n",
    "```{tip}\n",
    "**Linking Commits to Issues**: Reference issue numbers in commit messages (e.g., \"Fixes #42\") to automatically link commits to GitHub issues and close them when merged.\n",
    "```"
   ]
  },
  {
   "cell_type": "markdown",
   "metadata": {},
   "source": [
    "### Commits\n",
    "A commit is a snapshot of your repository at a specific point in time. Each commit records:\n",
    "\n",
    "- The changes made (differences from the previous commit).\n",
    "- Metadata such as the author, date, and a commit message.\n",
    "- A unique hash that identifies the commit.\n",
    "\n",
    "```{note}\n",
    "The unique hash (SHA-1 checksum) in Git is a 40-character [hexadecimal string](https://en.wikipedia.org/wiki/Hexadecimal). It looks like this:\n",
    "\n",
    "```e83c5163316f89bfbde7d9ab23ca2e25604af290```\n",
    "\n",
    "(You will soon see examples of this below)\n",
    " \n",
    "It is generated by applying the SHA-1 (Secure Hash Algorithm 1) cryptographic function to the contents and metadata of a Git object. *OK, that was some serious Gobbledygook!* All you need to know is that this hash acts as a unique identifier for all commits, files, directories, and other objects within a Git repo so that you can track specific snapshots of the repo.\n",
    "```\n",
    "\n",
    "## How Git Stores Data\n",
    "\n",
    "Git doesn't store data as a series of changes or differences, but as a series of snapshots of the *entire repository*. When you make a `commit`, Git stores a reference to the staged snapshot and a pointer to the commit that came immediately before it.\n",
    "\n",
    "Git uses four types of *Objects* to store data:\n",
    " - *Blobs:* Stores file data.\n",
    " - *Trees:* Represents directories and contains pointers to blobs and other trees.\n",
    " - *Commits:* Points to a tree object (snapshot of the working directory), parent commits, and includes metadata.\n",
    " - *Tags:* Points to another object (usually a commit) and includes metadata.\n",
    "\n",
    "These objects are stored in the `.git/objects` directory and are identified by their SHA-1 hash.\n",
    "\n",
    "## Basic git commands\n",
    "\n",
    "Here are some fundamentally important git commands (please make sure you read more about them):\n",
    "\n",
    "|     Command    |   What it does     |\n",
    "| :------------- |:-------------| \n",
    "|`git init`|           Initialize a new repository|\n",
    "|`git clone`|          Download a repository from a remote server|\n",
    "|`git status`|         Show the current status|\n",
    "|`git diff`|           Show differences between commits|\n",
    "|`git blame`|          Blame somebody for the changes!|\n",
    "|`git log`|            Show commit history|\n",
    "|`git commit`|         Commit changes to current branch|\n",
    "|`git branch`|         Show branches |\n",
    "|`git branch name`|    Create new branch |\n",
    "|`git checkout name`|  Switch to a different commit/branch called `name`|\n",
    "|`git fetch`|          Gather commits info from a remote branch to your current local branch without merging them|\n",
    "|`git merge`|          Merge two or more versions of one or more files|\n",
    "|`git pull`|           Upload from remote repository (this is effectively the same as `fetch` followed by `merge`)|\n",
    "|`git push`|           Send changes to remote repository|\n",
    "\n",
    "There are more git commands which you will also learn, but it is important that you familiarize yourself with these ones in particular first.\n",
    "\n",
    "The most common sequence of your git work and commands will be:\n",
    "- *Edit Files:* Modify files in your working directory.\n",
    "- *Stage Changes:* Use `git add <file>` to add changes to the staging area.\n",
    "- *Committ Changes:* Use `git commit -m \"commit message\"` to save changes to the repository.\n",
    "\n",
    "But before you do that, you will always want to \n",
    "\n",
    "- Use `git status` to see the status of your working directory and staging area.\n",
    "- Use `git log` to view the commit history.\n",
    "\n",
    "\n",
    "<!-- ### Collaboration Workflow\n",
    "- **Forking:** Creating a personal copy of someone else's repository.\n",
    "- **Pull Requests/Merge Requests:** Proposing changes to be merged into another repository.\n",
    "- **Code Reviews:** Collaborators review code changes before they are merged.\n",
    " -->"
   ]
  },
  {
   "cell_type": "markdown",
   "metadata": {
    "slideshow": {
     "slide_type": ""
    },
    "tags": []
   },
   "source": [
    "### Your remote repository\n",
    "\n",
    "Remote repositories are versions of your project hosted on the internet or another network. Common platforms include GitHub, GitLab, and Bitbucket.\n",
    "\n",
    "Nothing has been sent to the remote server yet (more on the remote server below). \n",
    "\n",
    "So let's go to your online git service (e.g., github) and set up. Note that github and bitbucket both give you unlimited free private repositories if you register with an academic email. Not a big deal if you will not be writing private code, handy if you are (*can you think of examples when you would need to write private code?*).\n",
    "\n",
    "So let's proceed with connecting your local git repository to your remote server:  \n",
    "\n",
    "* Login to your github or bitbucket account\n",
    "\n",
    "* Set up your `ssh`-based access. SSH (`S`ecure `S`ocket S`h`ell) is a protocol that allows you to connect to and interact with remote servers. Here are two sets of guidelines (you can use whichever seems easier to you, irrespective of whether you are using githib or bitbucket):\n",
    "\n",
    "    * [github](https://help.github.com/articles/connecting-to-github-with-ssh)\n",
    "\n",
    "    * [bitbucket](https://confluence.atlassian.com/bitbucket/set-up-ssh-for-git-728138079.html) (most of you will want the \"Set up SSH on macOS/Linux\" option)\n",
    "\n",
    "```{note}\n",
    "When accessing remote Git repositories, you have the option to use either HTTPS or SSH protocols. Both methods have their own advantages and disadvantages, and the better choice depends on your specific needs and circumstances.\n",
    "\n",
    "- **In general, use **SSH** if:**\n",
    "  - You interact with Git repositories frequently.\n",
    "  - You prefer a secure, key-based authentication method.\n",
    "  - You're setting up automated scripts or development workflows.\n",
    "\n",
    "- **Use **HTTPS** if:**\n",
    "  - You're in a restrictive network environment where SSH is blocked.\n",
    "  - You prefer a simpler setup without managing SSH keys.\n",
    "  - You're accessing repositories infrequently or from different machines.\n",
    "\n",
    "We will use SSH beause it is generally better for regular code development due to its security and convenience after the initial setup. You may need to use HTTPS in  situations where network restrictions apply.\n",
    "```\n",
    "\n",
    "* Next, create a new repository on your remote service with the same name as your local project (e.g., `CMEECourseWork`), and push your new project to this newly created remote git repository. Instructions for this step are here:\n",
    "\n",
    "    * [github](https://help.github.com/articles/adding-an-existing-project-to-github-using-the-command-line)\n",
    "\n",
    "*Note that you have already done the `git init` step, so no need to repeat those bits.*  \n",
    "\n",
    "You are done. Now you can really start to use git!\n",
    "\n",
    "The first step after having created your remote repository and added your ssh key to it, is to link the remote to your local repo (as the instructions in web pages linked above will already have told you).  \n",
    "\n",
    "The command will look like this:"
   ]
  },
  {
   "cell_type": "markdown",
   "metadata": {},
   "source": [
    "```bash\n",
    "git remote add origin git@github.com:YourGithubUsername/CMEECourseWork.git\n",
    "```"
   ]
  },
  {
   "cell_type": "markdown",
   "metadata": {},
   "source": [
    "Then list the URLs of the remote repositories associated with your local Git repository \n",
    "\n",
    "```bash \n",
    "git remote -v\n",
    "```\n",
    "\n",
    "The output would look like this\n",
    "\n",
    "```bash\n",
    "origin  git@github.com:YourGithubUsername/CMEECourseWork.git (fetch)\n",
    "origin  git@github.com:YourGithubUsername/CMEECourseWork.git (push)\n",
    "```\n",
    "The output provides both *fetch* and *push* URLs for each remote, showing where Git pulls updates from and where it pushes updates to. This is helpful for understanding which remote repository is set as the target for various Git commands.\n",
    "\n",
    "In the above example output:\n",
    "- `origin` is the name of the remote (the default name for the main remote when cloning the repository).\n",
    "- `https://github.com/username/repo-name.git` is the URL for the remote repository on GitHub.\n",
    "- In this case `fetch` and `push` have that the same URL for both fetching updates and pushing commits."
   ]
  },
  {
   "cell_type": "markdown",
   "metadata": {},
   "source": [
    "No you can `git push` all your local commits: "
   ]
  },
  {
   "cell_type": "markdown",
   "metadata": {},
   "source": [
    "```bash\n",
    "git push origin main\n",
    "```"
   ]
  },
  {
   "cell_type": "markdown",
   "metadata": {
    "jp-MarkdownHeadingCollapsed": true
   },
   "source": [
    "This pushes the (committed) changes in your local repository up to the remote repository you specified as the `origin`. Note that `main` refers to the branch (you currently only have one). Until recently, the default was `master`, so you may see that on older repositories. More on branching below.\n",
    "\n",
    "```{note}\n",
    "Only when you `push` or `fetch` do you need an internet connection, because before that you are only archiving in a local (hidden) repository (that sits in a hidden `.git` directory within your project).\n",
    "```\n",
    "\n",
    "<!-- You can rename your remote `origin` to a more meaningful name, (e.g., `github_CMEECourseWork`) using the `git remote rename` command. [See this](https://help.github.com/articles/renaming-a-remote). -->\n",
    "\n",
    "### General command sequence for connecting to Remotes \n",
    "\n",
    "Here the a general sequence of commands for connecting a new remote \n",
    "\n",
    "- *Add the Remote:* Use `git remote add <name> <url>` to connect your local repository to a remote one.\n",
    "- *Fetch Changes:* Use `git fetch <remote>` to download commits, files, and references from a remote repository.\n",
    "- *Pull Changes:* Use `git pull` to fetch and integrate changes from a remote repository into your current branch.\n",
    "- *Push Changes:* Use `git push <remote> <branch>` to upload your commits to a remote repository."
   ]
  },
  {
   "cell_type": "markdown",
   "metadata": {},
   "source": [
    "## Branching\n",
    "\n",
    "Imagine you want to try something out, but you are not sure it will work well. \n",
    "\n",
    "For example, say you want to rewrite the *Introduction* of your [$\\LaTeX$](./LaTeX.ipynb) paper using a different angle, or you want to see whether switching to a new library or package for a piece of code improves speed. What you then need is branching, which creates a project copy in which you can experiment."
   ]
  },
  {
   "cell_type": "code",
   "execution_count": null,
   "metadata": {},
   "outputs": [],
   "source": [
    "git branch anexperiment"
   ]
  },
  {
   "cell_type": "code",
   "execution_count": null,
   "metadata": {},
   "outputs": [
    {
     "name": "stdout",
     "output_type": "stream",
     "text": [
      "  anexperiment\u001b[m\n",
      "* \u001b[32mmain\u001b[m\n"
     ]
    }
   ],
   "source": [
    "git branch"
   ]
  },
  {
   "cell_type": "markdown",
   "metadata": {},
   "source": [
    "git tells you that you have two branches. \n",
    "\n",
    "```{warning}\n",
    "If you are not seeing this specific output (with two branches) at this stage of your git chapter work, scroll back and re-check / rerun the above sequence of commands again! \n",
    "```"
   ]
  },
  {
   "cell_type": "code",
   "execution_count": null,
   "metadata": {},
   "outputs": [
    {
     "name": "stdout",
     "output_type": "stream",
     "text": [
      "Switched to branch 'anexperiment'\n"
     ]
    }
   ],
   "source": [
    "git checkout anexperiment"
   ]
  },
  {
   "cell_type": "code",
   "execution_count": null,
   "metadata": {
    "scrolled": true
   },
   "outputs": [
    {
     "name": "stdout",
     "output_type": "stream",
     "text": [
      "* \u001b[32manexperiment\u001b[m\n",
      "  main\u001b[m\n"
     ]
    }
   ],
   "source": [
    "git branch"
   ]
  },
  {
   "cell_type": "markdown",
   "metadata": {},
   "source": [
    "git tells you that you have successfully switched to the new branch\n",
    "\n",
    "Or if you want to create and switch to a new branch immediately, you can use the `-b` flag:\n",
    "```bash\n",
    "git checkout -b anexperiment\n",
    "```\n",
    "\n",
    "Now make a change (update the Readme to record the new naughty thing you have started doing!):"
   ]
  },
  {
   "cell_type": "code",
   "execution_count": null,
   "metadata": {},
   "outputs": [],
   "source": [
    "echo \"I am going to try this new naughty thing on this experimental branch!\" >> README.md"
   ]
  },
  {
   "cell_type": "code",
   "execution_count": null,
   "metadata": {},
   "outputs": [
    {
     "name": "stdout",
     "output_type": "stream",
     "text": [
      "My CMEE Coursework Repository\n",
      "I am going to try this new naughty thing on this experimental branch!\n"
     ]
    }
   ],
   "source": [
    "cat README.md"
   ]
  },
  {
   "cell_type": "markdown",
   "metadata": {},
   "source": [
    "git commit -am \"Testing experimental branch\""
   ]
  },
  {
   "cell_type": "markdown",
   "metadata": {},
   "source": [
    "The `-am` flag performs the *commit* with a message while also *automatically staging* certain changes before committing. \n",
    "\n",
    "Specifically, the `a` part of the flag  stages all changes to tracked files (files that have already been committed at least once). This flag *does not* stage new, untracked files; you must use `git add` to stage those separately."
   ]
  },
  {
   "cell_type": "markdown",
   "metadata": {},
   "source": [
    "Now if you decide to merge the new branch after modifying it:"
   ]
  },
  {
   "cell_type": "code",
   "execution_count": null,
   "metadata": {},
   "outputs": [
    {
     "name": "stdout",
     "output_type": "stream",
     "text": [
      "M\tREADME.md\n",
      "Switched to branch 'main'\n"
     ]
    }
   ],
   "source": [
    "git checkout main"
   ]
  },
  {
   "cell_type": "code",
   "execution_count": null,
   "metadata": {},
   "outputs": [
    {
     "name": "stdout",
     "output_type": "stream",
     "text": [
      "Already up-to-date.\n"
     ]
    }
   ],
   "source": [
    "git merge anexperiment"
   ]
  },
  {
   "cell_type": "code",
   "execution_count": null,
   "metadata": {},
   "outputs": [
    {
     "name": "stdout",
     "output_type": "stream",
     "text": [
      "My CMEE Coursework Repository\n",
      "I am going to try this new naughty thing on this experimental branch!\n"
     ]
    }
   ],
   "source": [
    "cat README.md"
   ]
  },
  {
   "cell_type": "markdown",
   "metadata": {},
   "source": [
    "Unless there are conflicts, i.e., some other files that you changed locally had diverged from those files in the `main` branch in the meantime (say, due to new changes pushed by another collaborator), you are done, and you can delete the branch:"
   ]
  },
  {
   "cell_type": "code",
   "execution_count": null,
   "metadata": {},
   "outputs": [
    {
     "name": "stdout",
     "output_type": "stream",
     "text": [
      "Deleted branch anexperiment (was 3fbab16).\n"
     ]
    }
   ],
   "source": [
    "git branch -d anexperiment"
   ]
  },
  {
   "cell_type": "markdown",
   "metadata": {},
   "source": [
    "If instead you are not satisfied with the result, and you want to\n",
    "abandon the branch:"
   ]
  },
  {
   "cell_type": "markdown",
   "metadata": {},
   "source": [
    "`git branch -D anexperiment`"
   ]
  },
  {
   "cell_type": "markdown",
   "metadata": {},
   "source": [
    "```{note}\n",
    "If there are conflicts between branches, Git will notify you. You’ll need to resolve these conflicts manually in the files and then stage the resolved files with `git add`, followed by a `git commit` to complete the merge.\n",
    "```\n",
    "\n",
    "Obvously, we have been just messing around, so you don't really want the Readme of your `main` branch to say what it is currently saying! \n",
    "\n",
    "To fix this, you now have two options: edit the Readme back to the state you wanted (and then `add`, `commit` and `push`), or use the `git reset --hard` command. However, use the latter with caution. Before you do anything to reverse the merge, read about resetting and revertinf below.    "
   ]
  },
  {
   "cell_type": "markdown",
   "metadata": {},
   "source": [
    "```{tip}\n",
    "When you want to test something out, always branch! Reverting changes, especially in code, is typically painful. Merging can be tricky, especially if multiple people have simultaneously worked on a particular document. In the worst-case scenario, you may want to delete the local copy and re-clone the remote repository.\n",
    "```\n",
    "\n",
    "---\n",
    ":::{figure-md} git-XKCD-2\n",
    "<img src=\"./graphics/git_xkcd_1.png\" alt=\"git desperation\" width=\"250px\">\n",
    "\n",
    "**Try not to do this.** But most of us mortals will have, at some point! <br> (Source: [XKCD](https://xkcd.com/1597/))\n",
    ":::\n",
    "\n",
    "---\n",
    "\n",
    "<!-- ```{tip}\n",
    "\"Tags\" are references that point to specific commits, typically used to mark release points like `v1.0`, `v2.0`, etc.\n",
    "```\n",
    " -->"
   ]
  },
  {
   "cell_type": "markdown",
   "metadata": {},
   "source": [
    "```{note}\n",
    "You can perform Git branching and merging entirely within a local repository without needing a remote.\n",
    "```"
   ]
  },
  {
   "cell_type": "markdown",
   "metadata": {},
   "source": [
    "## Key concepts\n",
    "\n",
    "Here are some of the key concepts in the working of git: \n",
    "\n",
    "### Repository, workflow and command structure\n",
    "\n",
    "**Repository, workflow and command structure.** - The  \"workspace\" is your working directory - the actual files and folders you see and edit.  The \"index\" is your *staging area* (more on this below) - a place where you can group changes you want to `commit` together. The \"local repository\" contains the database of all objects (commits, files (\"blobs\"), directories (\"trees\"), etc.) in your repository along with their metadata. The index and the actual data (the objects) associated with each repo snapshot you commit are all inside a hidden directory named `.git` that sits within your project directory.\n",
    "\n",
    "```{figure} ../images/git_data_transport.svg\n",
    ":align: center\n",
    ":alt: git_data_transport\n",
    ":figclass: margin\n",
    "\n",
    "The different components of a git repository and the commands used to move data between them. [Source](https://commons.wikimedia.org/wiki/File:Git_data_flow_simplified.svg).  \n",
    "```\n",
    "\n",
    "All git commands must be issued from inside the directory (repository) that you have initialized using `git init`, and within which the hidden `.git` directory resides. \n",
    "\n",
    "### Commits\n",
    "\n",
    "**Commits.** A *commit* is an action or rather, snapshot that records changes to the repository. Each commit typically represents a set of related changes (e.g., bug fixes, a new feature, documentation updates), and is associated with a unique ID (we will see this later), an Author, and a timestamp. This allows you to revert to these individual snapshots and track the history of your project. \n",
    "\n",
    "Git, as opposed to many other version control software you may have encountered (e.g., Word's \"track changes\"), tracks *every version of every file as discrete \"snapshots\"*, rather than just the changes or \"diffs\". Git's snapshot-based approach makes operations like switching between branches or merging changes faster and more reliable. It also allows you to efficiently restore any previous version of the project. Here's a [nice visualisation](https://git-scm.com/book/en/v2/Getting-Started-What-is-Git%3F) of how commits and snapshots work.\n",
    "\n",
    "### Branch\n",
    "\n",
    "**Branch.** A \"branch\" is an independent line of development in a project repository. The default branch is typically called `main` (or `master` for backwards compatibility in older versions of git).\n",
    "\n",
    "New branches can be created at any point in the project's history (we will learn about this later). Branches enable multiple lines of development in a repository, such as working on new features or bug fixes without affecting the stable `main` branch. When a branch is ready, it is \"merged\" back to `main` branch or another branch. \n",
    "\n",
    "### Hash \n",
    "\n",
    "**Hash.** A *commit hash* is a 40-character unique identifier for a commit (You will see these later — they look like: `d94cd91`). It is generated by applying the SHA-1 (Secure Hash Algorithm 1) cryptographic function to the contents and metadata of a Git object. *OK, that was some serious Gobbledygook!* All you need to know is that this hash acts as a unique identifier for all commits, files, directories, and other objects within a Git repo so that you can track specific snapshots of the repo.\n",
    "\n",
    "## Common git commands\n",
    "\n",
    "Here's a list of the most common `git` commands:\n",
    "\n",
    "- *Status check:* Use `git status` to see the current state of the repository.\n",
    "- *Stage changes:* Use `git add <file>` to stage files for commit.\n",
    "- *Commit Changes:* Use `git commit -m \"commit message\"` to save changes to the repository.\n",
    "- *View history:* Use `git log` to view commit history.\n",
    "- *Create a branch:* Use `git branch <branch_name>` to create a new branch.\n",
    "- *Switch branch:* Use `git checkout <branch_name>` to switch to a different branch.\n",
    "- *Merge branches:* Use `git merge <branch_name>` to merge changes from one branch to another.\n",
    "- *Clone repository:* Use `git clone <URL>` to copy a repository from a remote server.\n",
    "- *Push changes:* Use `git push` to upload local changes to a remote repository.\n",
    "- *Pull changes:* Use `git pull` to fetch and merge changes from a remote repository."
   ]
  },
  {
   "cell_type": "markdown",
   "metadata": {},
   "source": [
    "## The README file\n",
    "\n",
    "A README (like the `README.md` that you created in your git repo above) is a text file that introduces and explains a project. It contains information that is required to understand what the project is about and how to use or run it. \n",
    "\n",
    "While READMEs can be written in any text file format, Markdown (saved as an `.md` file) is most commonly used, as it allows you to add simple text formatting easily. Two other formats that you might most often see are plain text and [reStructuredText](https://en.wikipedia.org/wiki/ReStructuredText) (saved as an `.rst` file, common in Python projects).\n",
    "\n",
    "### Essential README Components\n",
    "\n",
    "You can find many README file suggestions (and templates) online. Essentially, it should ideally have the following features/content:  \n",
    "\n",
    "* **Project name / title**: Clear, descriptive name for your project\n",
    "* **Brief description**: What your project does and/or is for. Provide context and add links to any references to help new visitors understand the purpose and scope\n",
    "* **Languages**: List language(s) and their versions used in the project (e.g., Python 3.11, R 4.3.0)\n",
    "* **Dependencies**: What special packages (which are not part of standard libraries of the language(s) used) might be needed for a new user to run your project. Include version numbers if specific versions are required\n",
    "* **Installation**: Guidelines for installing the project (if applicable), including dependencies. Provide step-by-step instructions for setting up the environment\n",
    "* **Project structure**: Brief overview of the repository organization (main directories and their purposes)\n",
    "* **Usage**: How to run/use the project. Include command-line examples or code snippets. Explain what specific key files do (no need to list every file, such as data or experimental ones like those in `sandbox`)\n",
    "* **Author name and contact**: List all contributors with their roles (especially important for group projects)\n",
    "\n",
    "### Additional Components for Group Projects\n",
    "\n",
    "For group coursework, your README should also include:\n",
    "\n",
    "* **Team members**: Names and contributions of each team member (with link to `CONTRIBUTIONS.md` for details)\n",
    "* **Division of work**: High-level overview of who worked on which components (detailed documentation belongs in `CONTRIBUTIONS.md`)\n",
    "* **How to run tests**: If you have unit tests, explain how to execute them\n",
    "* **Known issues**: Any bugs or limitations that users should be aware of\n",
    "\n",
    "### Optional Components\n",
    "\n",
    "In addition, you may want to include (but not necessary for your current coursework):\n",
    "* **[License](https://en.wikipedia.org/wiki/Software_license)**: Specifies how others can use your code\n",
    "* **Acknowledgments**: Credit external code, datasets, or assistance\n",
    "* **Contributing guidelines**: Instructions for others who want to contribute\n",
    "* **Badges**: Status indicators (build status, test coverage, etc.)\n",
    "\n",
    "```{tip}\n",
    "**README Best Practices:**\n",
    "- Keep it concise but comprehensive\n",
    "- Use clear headings and formatting\n",
    "- Include code examples where helpful\n",
    "- Keep it updated as your project evolves\n",
    "- Test that all instructions actually work on a fresh system\n",
    "- For group projects: Ensure README accurately reflects all team members' contributions\n",
    "```\n",
    "\n",
    "```{important}\n",
    "**Assessment Requirement**: For group projects, your README must clearly identify all team members and link to your `CONTRIBUTIONS.md` file. Reviewers will check that your README is informative and professionally formatted.\n",
    "```\n",
    "\n",
    "**Further Resources**: Search online for \"README best practices\" or \"README templates\" for additional guidance and examples."
   ]
  },
  {
   "cell_type": "markdown",
   "metadata": {},
   "source": [
    "## Ignoring Files\n",
    "\n",
    "You will have some files you don't want to track (log files, temporary files, executables, etc). You can ignore entire classes of files with `.gitignore`. \n",
    "\n",
    "$\\star$ Let's try it (make sure you are in your coursework directory (e.g., `CMEECourseWork`)):"
   ]
  },
  {
   "cell_type": "code",
   "execution_count": null,
   "metadata": {},
   "outputs": [],
   "source": [
    "echo -e \"*~ \\n*.tmp\" > .gitignore"
   ]
  },
  {
   "cell_type": "code",
   "execution_count": null,
   "metadata": {},
   "outputs": [
    {
     "name": "stdout",
     "output_type": "stream",
     "text": [
      "*~ \n",
      "*.tmp\n"
     ]
    }
   ],
   "source": [
    "cat .gitignore"
   ]
  },
  {
   "cell_type": "code",
   "execution_count": null,
   "metadata": {},
   "outputs": [],
   "source": [
    "git add .gitignore"
   ]
  },
  {
   "cell_type": "code",
   "execution_count": null,
   "metadata": {},
   "outputs": [],
   "source": [
    "touch temporary.tmp"
   ]
  },
  {
   "cell_type": "markdown",
   "metadata": {},
   "source": [
    "Then, \n",
    "\n",
    "`git add *`"
   ]
  },
  {
   "cell_type": "markdown",
   "metadata": {},
   "source": [
    "You can also create a global gitignore file that lists rules for files to be ignored [in every Git repository on your computer](https://help.github.com/articles/ignoring-files). \n",
    "\n",
    "```{tip} \n",
    "**Templates for .gitignore**: You can find standard `.gitignore` templates online. For example, search for \".gitignore templates\".\n",
    "```"
   ]
  },
  {
   "cell_type": "markdown",
   "metadata": {},
   "source": [
    "### Directory and file patterns for gitignoring\n",
    "\n",
    "It's important that you use the correct *patterns* for what to ignore in your `.gitignore`, to make sure that all the correct directories and files are being excluded. Note that you can put additonal `.gitignore` files in sub-directories if you need more fine-grained control over what is to be ignored, bt it is not necessary, because git-ignoring works recursively (including thorugh sub-directories) as long as you include the correct pattern.\n",
    "\n",
    "Here are the basic patterns (rules) :\n",
    "\n",
    "|     Pattern    |   gitignore result     |\n",
    "| :------------- |:-------------| \n",
    "| `#comment` | This is a comment - this gitignore entry will be ignored (avoid having any file or directory with `#` in its name!) |\n",
    "|`target`|     Every file OR directory (because lack of trailing `/`) named `target` is ignored, recursively|\n",
    "|`target/`|   Every directory (due to the trailing `/`) named `target` is ignored, recursively |\n",
    "|`/target`|   Every file OR directory named `target` in the top-most directory (due to the leading `/`) is ignored only there (not recursively)|\n",
    "|`/target/`|  Every directory named target in the top-most directory (because of the leading and trailing `/`) is ignored only there (not recursively)|\n",
    "| `*.extension`\t |   Every file or directory ending with the extension `.extension` is ignored, recursively|\n",
    "| `*.py[co]`|  Every file or directory ending in `.pyc` or `.pyo` is ignored (but not `.py`)|\n",
    "\n",
    "There are additonal patterns - please see the Readings and Resources section.  \n",
    "\n",
    "### `.gitignore`-ng after `commit`-ing\n",
    "\n",
    "If you find that a file or directory belonging to a pattern that you incuded in your `.gitignore` fails to be ignored (still comes under version control), it most likely means that you gitignored it AFTER committing and pushing it. In this scenario, you need to use \n",
    "\n",
    "```bash\n",
    "git rm --cached <file>\n",
    "```\n",
    "for a file, and \n",
    "\n",
    "```bash \n",
    "git rm -r --cached <folder>\n",
    "```\n",
    "for a directory. \n",
    "\n",
    "While these commands will not remove the physical file from your local repository, it will remove the files from other locals on their next `git pull`.\n"
   ]
  },
  {
   "cell_type": "markdown",
   "metadata": {},
   "source": [
    "## Working with remote repositories\n",
    "\n",
    "Remote repositories are versions of your project hosted on the internet or another network. Common platforms include GitHub, GitLab, and Bitbucket.\n",
    "\n",
    "### Set up a remote git repository  \n",
    "\n",
    "So let's go to your online git service (e.g., GitHub) and set up. Note that GitHub and Bitbucket both give you unlimited free private repositories if you register with an academic email. Not a big deal if you will not be writing private code, handy if you are (*can you think of examples when you would need to write private code?*).\n",
    "\n",
    "* Login to your GitHub or Bitbucket account\n",
    "\n",
    "* Follow the instructions to setup an ssh key to enable cryptography-based interfacing with your remote git repository (Google \"how do I do this\"):\n",
    "\n",
    "    * [GitHub](https://help.github.com/articles/connecting-to-github-with-ssh)\n",
    "\n",
    "    * [bitbucket](https://confluence.atlassian.com/bitbucket/set-up-an-ssh-key-728138079.html)\n",
    "\n",
    "* Create your remote git repository:\n",
    "\n",
    "    * [GitHub](https://help.github.com/articles/create-a-repo)\n",
    "    \n",
    "    * [bitbucket](https://confluence.atlassian.com/bitbucket/create-a-git-repository-759857290.html)\n",
    "\n",
    "* Now, following the instructions:\n",
    "    \n",
    "    * [GitHub](https://help.github.com/articles/adding-an-existing-project-to-github-using-the-command-line)\n",
    "    \n",
    "    * [bitbucket](https://confluence.atlassian.com/bitbucket/push-updates-to-a-repo-221449503.html)\n",
    "\n",
    "The first step after having created your remote repository and added your ssh key to it, is to link the remote to your local repo (as the instructions in web pages linked above will already have told you)."
   ]
  },
  {
   "cell_type": "markdown",
   "metadata": {},
   "source": [
    "## Dealing with binary files\n",
    "\n",
    "A binary file is computer-readable but not human-readable, that is, it cannot be read by opening them in a text viewer. Examples of binary files include compiled executables, zip files, images, word documents and videos. In contrast, text files are stored in a form (usually ASCII) that is human-readable by opening in a text reader (e.g., gedit). Without some git extensions and configurations (coming up next), binary files cannot be properly version-controlled because each version of the entire file is saved *as is* in a hidden directory in the repository (`.git`).\n",
    "\n",
    "However, with some more effort, git can be made to work for binary formats like `*.docx` or image formats such as `*.jpeg`, but it is harder to compare versions; have a look at [this](https://git-scm.com/docs/gitattributes) and [this](https://git-scm.com/book/en/v2/Customizing-Git-Git-Attributes)<sup>[1](#git:word)</sup>, and also, [this](https://opensource.com/life/16/8/how-manage-binary-blobs-git-part-7).\n",
    "\n",
    "## Dealing with large files\n",
    "\n",
    "As such, git was designed for version control of workflows and software projects, *not* large files (say, &gt;100mb) (which may be plain-text or binary). Binary files are particularly problematic because each version of the file is saved *as is* in `.git`, when you have a large number of versions it means that there are the same number of binary files in the hidden directory (for example 100 $\\times$ &gt;100mb files!).\n",
    "\n",
    "*So please do not keep large files (especially binary files) under version control*<sup>[2](#git:largefiles)</sup>. For example, if you are doing GIS work, you may have to handle large raster image files.  Do not bring such files under version control. We suggest that you include files larger than some size in your `.gitignore`. For example, you can use the following bash command:"
   ]
  },
  {
   "cell_type": "markdown",
   "metadata": {},
   "source": [
    "`find . -size +100M | cat >> .gitignore`"
   ]
  },
  {
   "cell_type": "markdown",
   "metadata": {},
   "source": [
    "The 100M means 100 mb – you can reset it to whatever you want.\n",
    "\n",
    "*Then what about code that needs large files?* For this, the best approach is write code that scales up with data size. If it works on a 1 mb file, it should also work on a 1000 mb file! If you have written such code, then you can include a smaller file as a MWE (minimum working example).   \n",
    "\n",
    "```{tip}\n",
    "*And how do you back up your large data files?* Remember, version control software like git are not meant for backing up data. The solution is to back up separately, either to an external hard drive or a cloud service. `rsync` is a great Linux utility for making such backups. Look it up on the 'net! \n",
    "```\n",
    "You may also explore alternatives such as `git-annex` (e.g., [see this](https://git-annex.branchable.com)), and `git-lfs` (e.g., [see this](https://www.atlassian.com/git/tutorials/git-lfs)).\n",
    "\n",
    "```{tip}\n",
    "**Checking size of your git repo**: You have two options in Linux/UNIX to check the size of your git repo. You can use (`cd` to your repo first) `du -sh .git`, or for more detailed information about what's using the space, use `git count-objects -vH` (this will work across platforms as this is a git command).\n",
    "```\n",
    "\n",
    "### Pre-Commit Git Hook\n",
    "\n",
    "[`pre-commit`](https://github.com/pre-commit/pre-commit) is a framework that manages the installation and execution of pre-commit hooks across multiple programming languages (including Python and R). These hooks are scripts that run automatically **every time** a `git commit` is made, aborting the commit if the script fails. These can be used to enforce standards in code format and style.\n",
    "\n",
    "*So, how would this be useful in practice?*<br>\n",
    "\n",
    "To avoid the occurrence of a <u>bloated git history</u>, i.e. by mistakenly <u>committing a large file</u> to your repository, a good option is to use the `check-added-large-files` hook from the [`pre-commit-hooks`](https://github.com/pre-commit/pre-commit-hooks?tab=readme-ov-file#check-added-large-files) package.\n",
    "\n",
    "This will abort a commit if the file size is too large (default size limit = 500kB).\n",
    "\n",
    "<u>Here's how you can install and configure `check-added-large-files` on Linux:</u>\n",
    "\n",
    "1. `pip install pre-commit`\n",
    "\n",
    "2. Create new configuration file `.pre-commit-config.yaml` for configuring the `check-added-large-files` hook; its contents should look like:\n",
    "\n",
    "```yaml\n",
    "# .pre-commit-config.yaml\n",
    "repos:\n",
    "  - repo: https://github.com/pre-commit/pre-commit-hooks\n",
    "    rev: v5.0.0  # or use the latest version\n",
    "    hooks:\n",
    "      - id: check-added-large-files\n",
    "        args: ['--maxkb=500']  # optional: set a custom size limit in KB\n",
    "```\n",
    "\n",
    "Here,\n",
    "- `repo` is the GitHub repository where the `pre-commit-hooks` package is hosted.\n",
    "- `rev` is the version of the `pre-commit-hooks` repository to use. You can specify a tag (like `v5.0.0`) or use `main` for the latest version, though pinning to a specific version is best for stability.\n",
    "- `hooks` are a list of hooks to configure:\n",
    "  - `id`: Specifies the hook to use, in this case, `check-added-large-files`.\n",
    "  - `args`: Optional argument to set the maximum file size limit (in KB). By default, it is 500 KB, but you can adjust this as needed with `--maxkb=<size_in_kb>`.\n",
    "\n",
    "This configuration will ensure that no added files exceed the specified size limit before a commit is allowed.\n",
    "\n",
    "*Note*: By default, only files that have been staged for addition to the repository via `git add` will be checked by the `check-added-large-files` hook.\n",
    "To allow the hook to check all files in the repo (both staged and unstaged), add `--enforce-all` as an argument by modifying the above configuration yaml file with\n",
    "\n",
    "```args: ['--maxkb=1000', '--enforce-all']```\n",
    "\n",
    "The `.pre-commit-config.yaml` file should be stored in the root directory of your repository. This allows `pre-commit` to detect the configuration automatically when you run the `pre-commit install` command, which sets up the hooks for the specific repository. Once set up, `pre-commit` will refer to this configuration file each time you attempt to make a commit. \n",
    "\n",
    "To set up the hooks *after* creating this file, run the following command in the **root** of your repository:\n",
    "\n",
    "```bash\n",
    "pre-commit install\n",
    "```\n",
    "\n",
    "This installs the hooks locally, ensuring they run on every commit."
   ]
  },
  {
   "cell_type": "markdown",
   "metadata": {},
   "source": [
    "## Removing files\n",
    "\n",
    "To remove a file (i.e., stop version controlling it) use `git rm`:\n",
    "(Note that in this section, the default branch name is set to `master`. GitHub now sets its default branch to `main`.)"
   ]
  },
  {
   "cell_type": "code",
   "execution_count": null,
   "metadata": {},
   "outputs": [],
   "source": [
    "echo \"Text in a file to remove\" > FileToRem.txt"
   ]
  },
  {
   "cell_type": "code",
   "execution_count": null,
   "metadata": {},
   "outputs": [],
   "source": [
    "git add FileToRem.txt"
   ]
  },
  {
   "cell_type": "code",
   "execution_count": null,
   "metadata": {
    "scrolled": true
   },
   "outputs": [
    {
     "name": "stdout",
     "output_type": "stream",
     "text": [
      "[master 706f40d] added a new file that we'll remove later\n",
      " 2 files changed, 3 insertions(+)\n",
      " create mode 100644 .gitignore\n",
      " create mode 100644 FileToRem.txt\n"
     ]
    }
   ],
   "source": [
    "git commit -am \"added a new file that we'll remove later\""
   ]
  },
  {
   "cell_type": "code",
   "execution_count": null,
   "metadata": {},
   "outputs": [
    {
     "name": "stdout",
     "output_type": "stream",
     "text": [
      "rm 'FileToRem.txt'\n"
     ]
    }
   ],
   "source": [
    "git rm FileToRem.txt"
   ]
  },
  {
   "cell_type": "code",
   "execution_count": null,
   "metadata": {},
   "outputs": [
    {
     "name": "stdout",
     "output_type": "stream",
     "text": [
      "[master 284c62e] removed the file\n",
      " 1 file changed, 1 deletion(-)\n",
      " delete mode 100644 FileToRem.txt\n"
     ]
    }
   ],
   "source": [
    "git commit -am \"removed the file\""
   ]
  },
  {
   "cell_type": "markdown",
   "metadata": {},
   "source": [
    "I typically just make all my changes and then just use `git add -A` for the whole directory (and it's subdirectories; `-A` is recursive).   \n",
    "\n",
    "### Un-tracking files\n",
    "\n",
    "`.gitignore` will prevent untracked files from being added to the set of files tracked by git. However, git will continue to track any files that are already being tracked. To stop tracking a file you need to remove it from the index. This can be achieved with this command.\n",
    "\n",
    "```bash\n",
    "git rm --cached <file>\n",
    "```\n",
    "The removal of the file from the head revision will happen on the next commit."
   ]
  },
  {
   "cell_type": "markdown",
   "metadata": {},
   "source": [
    "Accessing history of the repository\n",
    "-----------------------------------\n",
    "\n",
    "To see particular changes introduced, read the repo’s log :"
   ]
  },
  {
   "cell_type": "markdown",
   "metadata": {},
   "source": [
    "```bash\n",
    "git log\n",
    "```"
   ]
  },
  {
   "cell_type": "markdown",
   "metadata": {},
   "source": [
    "For a more detailed version, add `-p` at the end.\n",
    "\n",
    "### Reverting to a previous version\n",
    "\n",
    "If things go horribly wrong with new changes, you can revert to the previous, \"pristine\" state:"
   ]
  },
  {
   "cell_type": "markdown",
   "metadata": {},
   "source": [
    "```bash \n",
    "git reset --hard\n",
    "git commit -am \"returned to previous state\" #Note I used -am here\n",
    "```"
   ]
  },
  {
   "cell_type": "markdown",
   "metadata": {},
   "source": [
    "If instead you want to move back in time (temporarily), first find the\n",
    "“hash” for the commit you want to revert to, and then check-out:"
   ]
  },
  {
   "cell_type": "markdown",
   "metadata": {},
   "source": [
    "```bash\n",
    "git status\n",
    "```\n",
    "And then, "
   ]
  },
  {
   "cell_type": "markdown",
   "metadata": {},
   "source": [
    "```bash \n",
    "git log\n",
    "```"
   ]
  },
  {
   "cell_type": "markdown",
   "metadata": {},
   "source": [
    "Then, you can \n",
    "\n",
    "```bash\n",
    "git checkout *version number*\n",
    "```"
   ]
  },
  {
   "cell_type": "markdown",
   "metadata": {},
   "source": [
    "e.g, `git checkout 95f7d0`"
   ]
  },
  {
   "cell_type": "markdown",
   "metadata": {},
   "source": [
    "Now you can play around. However, if you do want to commit changes, you create a \"branch\" (see below). To go back to the future, type "
   ]
  },
  {
   "cell_type": "markdown",
   "metadata": {},
   "source": [
    "```bash \n",
    "git checkout main\n",
    "```"
   ]
  },
  {
   "cell_type": "markdown",
   "metadata": {},
   "source": [
    "\n",
    "## Running git commands on a different directory\n",
    "\n",
    "Since `git` version 1.8.5, you can run git directly on a different directory than the current one using absolute or relative paths. For example, using a relative path, you can do:\n",
    "\n",
    "```bash \n",
    "git -C ../SomeDir/ status\n",
    "```\n",
    "```{tip}\n",
    "**Cloning the MulQuaBio repository**: You can clone the main repository of this book on your computer and regularly git pull it to keep it updated. That way the these notes and the associated code and data files are easily and locally available on your computer. **DO NOT** clone the repository into your own coursework repository though!\n",
    "```"
   ]
  },
  {
   "cell_type": "markdown",
   "metadata": {},
   "source": [
    "### Running git commands on multiple repositories at once\n",
    "\n",
    "For git pulling in multiple subdirectories (each a separate repository), here is an example:"
   ]
  },
  {
   "cell_type": "markdown",
   "metadata": {},
   "source": [
    "`find . -mindepth 1 -maxdepth 1 -type d -print -exec git -C {} pull \\;`"
   ]
  },
  {
   "cell_type": "markdown",
   "metadata": {},
   "source": [
    "Breaking down these commands one by one,\n",
    "\n",
    "`find .` searches the current directory\n",
    "\n",
    "`-type d` finds directories, not files\n",
    "\n",
    "`-mindepth 1` sets min search depth to one sub-directory\n",
    "\n",
    "`-maxdepth 1` sets max search depth to one sub-directory\n",
    "\n",
    "`-exec git -C {} pull \\ ` runs a custom git command one on every git repo found"
   ]
  },
  {
   "cell_type": "markdown",
   "metadata": {},
   "source": [
    "## Using git through a GUI \n",
    "\n",
    "There are many nice git GUI's (Graphical User Interfaces) out there, such as [gitKraken](https://www.gitkraken.com/). Or if you are using a code editor like Visual Studio Code, there are nice extensions that will give you considerable GUI functionality."
   ]
  },
  {
   "cell_type": "markdown",
   "metadata": {},
   "source": [
    "```{tip}\n",
    "\n",
    "**Checking git status**: Always run the `git status`command on a repository before pulling/fetching from, or pushing to a remote repository!\n",
    "\n",
    "```"
   ]
  },
  {
   "cell_type": "markdown",
   "metadata": {},
   "source": [
    "## Collaborative Git Workflows for Group Work\n",
    "\n",
    "When working on group projects, Git enables effective collaboration through structured workflows. This section covers best practices for team-based development, which are particularly important for coursework assessments.\n",
    "\n",
    "### Setting Up for Collaboration\n",
    "\n",
    "**Repository Setup:**\n",
    "1. One team member creates the repository on GitHub/Bitbucket\n",
    "2. Add collaborators with **write access** (push privileges)\n",
    "3. All team members clone the repository to their local machines\n",
    "4. Agree on a workflow and naming conventions before starting\n",
    "\n",
    "**Initial Configuration:**\n",
    "```bash\n",
    "# Clone the group repository\n",
    "git clone git@github.com:username/group-project.git\n",
    "cd group-project\n",
    "\n",
    "# Verify you're on the main branch\n",
    "git status\n",
    "\n",
    "# Pull the latest changes before starting work\n",
    "git pull origin main\n",
    "```\n",
    "\n",
    "### Branch-Based Development\n",
    "\n",
    "Using branches allows team members to work independently without interfering with each other's code.\n",
    "\n",
    "**Create a Feature Branch:**\n",
    "```bash\n",
    "# Create and switch to a new branch\n",
    "git checkout -b feature/data-analysis-js\n",
    "\n",
    "# Or create a branch for a specific module\n",
    "git checkout -b module/statistical-models\n",
    "```\n",
    "\n",
    "**Branch Naming Conventions:**\n",
    "- `feature/description` - For new features (e.g., `feature/plotting-functions`)\n",
    "- `bugfix/description` - For fixing bugs (e.g., `bugfix/correct-calculation`)\n",
    "- `module/name` - For specific project modules (e.g., `module/data-cleaning`)\n",
    "- Consider including your initials for clarity (e.g., `feature/analysis-jsmith`)\n",
    "\n",
    "**Work on Your Branch:**\n",
    "```bash\n",
    "# Make changes to your files\n",
    "# Stage and commit regularly\n",
    "git add myfile.py\n",
    "git commit -m \"JS: Add data cleaning functions\"\n",
    "\n",
    "# Push your branch to the remote repository\n",
    "git push origin feature/data-analysis-js\n",
    "```\n",
    "\n",
    "### Meaningful Commit Messages for Collaboration\n",
    "\n",
    "Good commit messages are essential for tracking individual contributions and understanding project history.\n",
    "\n",
    "**Commit Message Best Practices:**\n",
    "- Use the **imperative mood**: \"Add feature\" not \"Added feature\"\n",
    "- Be **specific and descriptive**: \"Add linear regression function\" not \"Update code\"\n",
    "- Include **context**: Explain *why*, not just *what*\n",
    "- For group work: **Prefix with initials** to track contributions (e.g., \"JS: Fix data import bug\")\n",
    "- Keep the first line under 50 characters; add details in subsequent lines if needed\n",
    "\n",
    "**Examples of Good vs Poor Commit Messages:**\n",
    "\n",
    "❌ Poor:\n",
    "```bash\n",
    "git commit -m \"fixed stuff\"\n",
    "git commit -m \"updated file\"\n",
    "git commit -m \"asdfgh\"\n",
    "```\n",
    "\n",
    "✅ Good:\n",
    "```bash\n",
    "git commit -m \"JS: Add function to calculate species diversity\"\n",
    "git commit -m \"AM: Fix bug in temperature conversion (Celsius to Kelvin)\"\n",
    "git commit -m \"TK: Add unit tests for data validation functions\"\n",
    "```\n",
    "\n",
    "### Syncing with the Team\n",
    "\n",
    "Regularly synchronize your work with the main branch to avoid conflicts.\n",
    "\n",
    "**Before Starting Work:**\n",
    "```bash\n",
    "# Switch to main and pull latest changes\n",
    "git checkout main\n",
    "git pull origin main\n",
    "\n",
    "# Switch back to your feature branch\n",
    "git checkout feature/your-feature\n",
    "\n",
    "# Merge main into your branch to stay updated\n",
    "git merge main\n",
    "```\n",
    "\n",
    "**Daily Workflow:**\n",
    "1. Pull from main at the start of each work session\n",
    "2. Work on your feature branch\n",
    "3. Commit regularly with meaningful messages\n",
    "4. Push your branch to the remote repository\n",
    "5. Before finishing, merge main into your branch again to catch any new changes\n",
    "\n",
    "### Handling Merge Conflicts\n",
    "\n",
    "Merge conflicts occur when two people modify the same lines of code. They are inevitable in collaborative work but can be resolved systematically.\n",
    "\n",
    "**When Conflicts Occur:**\n",
    "\n",
    "Git will notify you of conflicts when you try to merge or pull:\n",
    "```bash\n",
    "Auto-merging analysis.R\n",
    "CONFLICT (content): Merge conflict in analysis.R\n",
    "Automatic merge failed; fix conflicts and then commit the result.\n",
    "```\n",
    "\n",
    "**Identifying Conflicts:**\n",
    "\n",
    "Open the conflicted file. Git marks conflicts like this:\n",
    "```\n",
    "<<<<<<< HEAD\n",
    "# Your changes\n",
    "result <- mean(data$temperature)\n",
    "=======\n",
    "# Their changes  \n",
    "result <- median(data$temperature)\n",
    ">>>>>>> main\n",
    "```\n",
    "\n",
    "**Resolving Conflicts:**\n",
    "1. **Communicate with your team**: Discuss which version to keep or how to combine them\n",
    "2. **Edit the file**: Remove the conflict markers (`<<<<<<<`, `=======`, `>>>>>>>`) and keep the correct code\n",
    "3. **Test the resolution**: Make sure the code works\n",
    "4. **Stage and commit**:\n",
    "   ```bash\n",
    "   git add analysis.R\n",
    "   git commit -m \"JS: Resolve merge conflict in temperature calculation\"\n",
    "   ```\n",
    "\n",
    "**Minimizing Conflicts:**\n",
    "- **Divide work clearly**: Assign different files or functions to different team members\n",
    "- **Pull frequently**: Sync with main regularly\n",
    "- **Communicate**: Use issues or comments to coordinate who's working on what\n",
    "- **Small, frequent commits**: Easier to resolve conflicts in small changes\n",
    "\n",
    "### Code Review and Merging\n",
    "\n",
    "Before merging your work into the main branch, have teammates review your code.\n",
    "\n",
    "**Using Pull Requests (GitHub) / Merge Requests (GitLab):**\n",
    "\n",
    "1. **Push your branch** to the remote:\n",
    "   ```bash\n",
    "   git push origin feature/your-feature\n",
    "   ```\n",
    "\n",
    "2. **Create a Pull Request** on GitHub:\n",
    "   - Go to your repository on GitHub\n",
    "   - Click \"Pull requests\" → \"New pull request\"\n",
    "   - Select your feature branch to merge into main\n",
    "   - Add a description of your changes\n",
    "   - Request review from team members\n",
    "\n",
    "3. **Review Process**:\n",
    "   - Teammates review the code\n",
    "   - Discuss changes in comments\n",
    "   - Make requested modifications\n",
    "   - Push updates to the same branch (automatically updates the PR)\n",
    "\n",
    "4. **Merge** when approved:\n",
    "   - Click \"Merge pull request\" on GitHub\n",
    "   - Delete the feature branch after merging\n",
    "   - Pull the updated main branch locally:\n",
    "     ```bash\n",
    "     git checkout main\n",
    "     git pull origin main\n",
    "     ```\n",
    "\n",
    "```{tip}\n",
    "**Code Review Benefits**: Code review isn't just for catching bugs—it helps team members understand all parts of the project, ensures code quality, and provides documentation of who contributed what.\n",
    "```\n",
    "\n",
    "### Contribution Documentation\n",
    "\n",
    "For coursework assessments, you must document individual contributions.\n",
    "\n",
    "**Required: CONTRIBUTIONS.md File**\n",
    "\n",
    "Create a `CONTRIBUTIONS.md` file in your repository documenting:\n",
    "- Who worked on which components\n",
    "- Individual code contributions\n",
    "- Collaboration and communication efforts\n",
    "- Code review participation\n",
    "\n",
    "See the [Group work execution](Appendix-Assessment.md#group-work-execution) section in the Assessment chapter for detailed requirements and use the provided template.\n",
    "\n",
    "**Tracking Contributions Through Git:**\n",
    "\n",
    "Your Git history provides evidence of individual work:\n",
    "```bash\n",
    "# View commits by author\n",
    "git log --author=\"Jane Smith\"\n",
    "\n",
    "# View detailed statistics\n",
    "git shortlog -sn\n",
    "\n",
    "# See who modified each line of a file\n",
    "git blame filename.py\n",
    "```\n",
    "\n",
    "```{important}\n",
    "**Assessment Note**: Your Git commit history will be reviewed as part of individual assessment. Make sure to:\n",
    "- Commit your own work under your own name\n",
    "- Use meaningful commit messages\n",
    "- Push regularly to demonstrate ongoing contribution\n",
    "- Maintain accurate CONTRIBUTIONS.md documentation\n",
    "\n",
    "Individual marks account for 40% of group project grades, based on your documented contributions. See the Assessment chapter for full details.\n",
    "```\n",
    "\n",
    "### Best Practices for Group Work\n",
    "\n",
    "**Communication:**\n",
    "- Use GitHub Issues or project management tools to track tasks\n",
    "- Comment on commits and pull requests\n",
    "- Hold regular team meetings to coordinate work\n",
    "- Discuss major decisions before implementing them\n",
    "\n",
    "**Organization:**\n",
    "- Agree on code style and formatting (consider using linting tools)\n",
    "- Use consistent file and variable naming conventions\n",
    "- Document your code with clear comments\n",
    "- Write README files for each module or component\n",
    "\n",
    "**Version Control Hygiene:**\n",
    "- Never commit directly to main without review\n",
    "- Keep branches short-lived (merge frequently)\n",
    "- Delete branches after merging\n",
    "- Use `.gitignore` to exclude unnecessary files\n",
    "- Run `git status` before every commit and push\n",
    "\n",
    "**Pre-commit Hooks for Team Consistency:**\n",
    "\n",
    "Set up pre-commit hooks to enforce standards across all team members:\n",
    "\n",
    "```yaml\n",
    "# .pre-commit-config.yaml\n",
    "repos:\n",
    "  - repo: https://github.com/pre-commit/pre-commit-hooks\n",
    "    rev: v4.4.0\n",
    "    hooks:\n",
    "      - id: check-added-large-files\n",
    "        args: ['--maxkb=500']\n",
    "      - id: trailing-whitespace\n",
    "      - id: end-of-file-fixer\n",
    "      - id: check-yaml\n",
    "      \n",
    "  # For Python projects\n",
    "  - repo: https://github.com/psf/black\n",
    "    rev: 23.1.0\n",
    "    hooks:\n",
    "      - id: black\n",
    "        \n",
    "  # For R projects  \n",
    "  - repo: https://github.com/lorenzwalthert/precommit\n",
    "    rev: v0.3.2\n",
    "    hooks:\n",
    "      - id: style-files\n",
    "      - id: lintr\n",
    "```\n",
    "\n",
    "This ensures all team members follow the same code formatting and quality standards.\n",
    "\n",
    "### Conflict Resolution\n",
    "\n",
    "If disagreements arise within the team about technical decisions or contributions:\n",
    "\n",
    "1. **Document the issue**: Write it down clearly\n",
    "2. **Discuss as a team**: Try to reach consensus\n",
    "3. **Consult your supervisor**: If unresolved, seek guidance from course instructors\n",
    "4. **Use the peer assessment process**: The formal peer assessment (see Assessment chapter) provides a mechanism for addressing contribution imbalances\n",
    "\n",
    "For serious issues with team dynamics or non-contributing members, contact your course coordinator early—don't wait until the deadline.\n",
    "\n",
    "### Example Workflow Summary\n",
    "\n",
    "Here's a complete workflow for a typical group work session:\n",
    "\n",
    "```bash\n",
    "# 1. Start of work session - get latest changes\n",
    "git checkout main\n",
    "git pull origin main\n",
    "\n",
    "# 2. Create or switch to your feature branch\n",
    "git checkout -b feature/my-analysis\n",
    "\n",
    "# 3. Work on your code, commit regularly\n",
    "# ... edit files ...\n",
    "git add analysis.py\n",
    "git commit -m \"JS: Add species diversity calculation\"\n",
    "\n",
    "# 4. Sync with main to avoid conflicts\n",
    "git checkout main\n",
    "git pull origin main\n",
    "git checkout feature/my-analysis\n",
    "git merge main\n",
    "# Resolve any conflicts if they occur\n",
    "\n",
    "# 5. Push your branch\n",
    "git push origin feature/my-analysis\n",
    "\n",
    "# 6. Create pull request on GitHub for team review\n",
    "\n",
    "# 7. After approval, merge and cleanup\n",
    "git checkout main\n",
    "git pull origin main\n",
    "git branch -d feature/my-analysis  # Delete local branch\n",
    "```\n",
    "\n",
    "### Cross-Reference to Assessment\n",
    "\n",
    "All collaborative Git practices described here support the assessment criteria outlined in the [Assessment chapter](Appendix-Assessment.md). Key points:\n",
    "\n",
    "- **Group work quality** (60% of group project marks): Measured by code quality, documentation, testing, and Git repository organization\n",
    "- **Individual contributions** (40% of group project marks): Tracked through Git history, CONTRIBUTIONS.md, and peer assessment\n",
    "- **Repository requirements**: Proper `.gitignore`, meaningful README, clean commit history\n",
    "- **Peer assessment**: Formal process to evaluate team member contributions\n",
    "\n",
    "Effective use of Git not only helps you collaborate but also provides the documentation needed for fair individual assessment."
   ]
  },
  {
   "cell_type": "markdown",
   "metadata": {},
   "source": [
    "## A friendly concluding note on git\n",
    "Git can feel hard and unintuitive. It is likely that at some point you will make a mistake and lose some work as a consequence.\n",
    "\n",
    "_THIS IS NORMAL_\n",
    "\n",
    "Don't worry about it, this has happened to pretty much everyone who has ever used git.\n",
    "\n",
    "When things like this do happen though, it is imperative that you work out _what_ went wrong so you can make sure it doesn't happen again.\n",
    "\n",
    "Questions to ask yourself include:\n",
    "- Did I use `git status` to check what I was adding?\n",
    "- Did I commit regularly enough, whenever I had completed a logical section of work?\n",
    "- Did I make sure to only commit code rather than committing data files and outputs too?\n",
    "- Did I make sure to gitignore the things I needed to?\n",
    "\n",
    "When you get used to working with git, it becomes as natural as juggling chainsaws: i.e. it will always feel a bit odd and strange but it won't be as scary as it once was.\n",
    "\n",
    "**Next Steps:**\n",
    "\n",
    "- **Learn Commands:** Familiarize yourself with common Git commands.\n",
    "- **Explore Branching:** Practice creating, switching, and merging branches.\n",
    "- **Use Hosting Services:** Try using platforms like GitHub to collaborate with others.\n",
    "- **Advanced Features:** Delve into rebasing, cherry-picking, and submodules for more complex workflows."
   ]
  },
  {
   "cell_type": "markdown",
   "metadata": {},
   "source": [
    "## Practicals\n",
    "\n",
    "### Instructions\n",
    "\n",
    "*Don't modify anything (or refer to any files) in your local copy of the git repository of these notes (on Github). Copy whatever you need from the main repository to your own repository.*\n",
    "\n",
    "*Git commit and push every time you do some significant amount of coding work (after testing it), and then again before the given deadline (this will be announced in class).* This includes `UnixPrac1.txt` from the [Unix Chapter](Unix.ipynb).\n",
    "\n",
    "**Push your git repository** \n",
    "* The only practical submission for git is pushing your coursework git repository, `.gitignore` and `readme` files included. Make sure your `.gitignore` has meaningful exclusions, and your `readme` has useful information (as explained in the [section above](#The-README-file)). Also search online \"readme good practices\" or something like that to find additional tips/info. \n",
    " \n",
    "* Also, invite your assessor to your coursework repository (e.g, `CMEECourseWork`) repository with *write privileges* (AKA *push* privilege in GitHub). The current assessor is s.pawar@imperial.ac.uk (or \"mhasoba\" on both bitbucket and github). "
   ]
  },
  {
   "cell_type": "markdown",
   "metadata": {},
   "source": [
    "## Readings & Resources\n",
    "\n",
    "### General \n",
    "* Excellent book on Git: <http://git-scm.com/book>\n",
    "* Look up the [Bitbucket Git resources](https://www.atlassian.com/git)\n",
    "* Really great git tutorials: <https://try.github.io>\n",
    "\n",
    "### Markdown\n",
    "* A cheatsheet for github-flavored Markdown: https://github.com/adam-p/markdown-here/wiki/Markdown-Cheatsheet\n",
    "\n",
    "### Committing practices \n",
    "* Some tips for good commit practices: https://chris.beams.io/posts/git-commit/\n",
    "\n",
    "### .gitignore\n",
    "* Guidelines for the `.gitignore` file: https://labs.consol.de/development/git/2017/02/22/gitignore.html, https://docs.github.com/en/free-pro-team@latest/github/using-git/ignoring-files\n",
    "\n",
    "### Branching \n",
    "* Guidelines for brancing: https://gist.github.com/digitaljhelms/4287848\n",
    "* [Git Kraken's tips for collaborating effectively on github](https://www.gitkraken.com/blog/collaborate-on-github)\n"
   ]
  },
  {
   "cell_type": "markdown",
   "metadata": {},
   "source": [
    "---\n",
    "\n",
    "**Footnotes**\n",
    "\n",
    "<a name=\"git:word\">1</a>: There you will find the following phrase: \"...one of the most annoying problems known to humanity: version-controlling Microsoft Word documents.\". LOL!\n",
    "\n",
    "<a name=\"git:largefiles\">2</a>: None of the computing weeks assessments will require you to use such large files anyway"
   ]
  }
 ],
 "metadata": {
  "kernelspec": {
   "display_name": "Bash",
   "language": "bash",
   "name": "bash"
  },
  "language_info": {
   "codemirror_mode": "shell",
   "file_extension": ".sh",
   "mimetype": "text/x-sh",
   "name": "bash"
  },
  "latex_envs": {
   "LaTeX_envs_menu_present": true,
   "autoclose": false,
   "autocomplete": false,
   "bibliofile": "biblio.bib",
   "cite_by": "apalike",
   "current_citInitial": 1,
   "eqLabelWithNumbers": true,
   "eqNumInitial": 1,
   "hotkeys": {
    "equation": "Ctrl-E",
    "itemize": "Ctrl-I"
   },
   "labels_anchors": false,
   "latex_user_defs": false,
   "report_style_numbering": false,
   "user_envs_cfg": false
  },
  "toc": {
   "base_numbering": 1,
   "nav_menu": {},
   "number_sections": true,
   "sideBar": false,
   "skip_h1_title": false,
   "title_cell": "Contents",
   "title_sidebar": "Contents",
   "toc_cell": false,
   "toc_position": {},
   "toc_section_display": false,
   "toc_window_display": true
  }
 },
 "nbformat": 4,
 "nbformat_minor": 4
}
